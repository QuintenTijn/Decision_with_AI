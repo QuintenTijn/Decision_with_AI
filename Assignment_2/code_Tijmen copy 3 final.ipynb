{
 "cells": [
  {
   "cell_type": "markdown",
   "id": "e8bc82e2",
   "metadata": {},
   "source": [
    "# Imports & loading"
   ]
  },
  {
   "cell_type": "code",
   "execution_count": 1,
   "id": "e71aeb63",
   "metadata": {},
   "outputs": [],
   "source": [
    "from support import load_dataset\n",
    "import matplotlib.pyplot as plt\n",
    "import torchvision.transforms as T\n",
    "import os\n",
    "os.environ[\"KMP_DUPLICATE_LIB_OK\"] = \"TRUE\"\n",
    "from tqdm.notebook import tqdm \n",
    "\n",
    "import pandas as pd\n",
    "\n",
    "import random\n",
    "import numpy as np\n",
    "import torch\n",
    "import torch.nn as nn\n",
    "import torch.optim as optim\n",
    "from torch.utils.data import DataLoader\n",
    "\n",
    "import optuna\n",
    "from optuna.visualization import (\n",
    "    plot_optimization_history,\n",
    "    plot_param_importances,\n",
    "    plot_parallel_coordinate,\n",
    "    plot_slice,\n",
    "    plot_contour,\n",
    ")\n",
    "import plotly"
   ]
  },
  {
   "cell_type": "code",
   "execution_count": 2,
   "id": "6d542257",
   "metadata": {},
   "outputs": [
    {
     "name": "stdout",
     "output_type": "stream",
     "text": [
      "Using device: mps\n"
     ]
    }
   ],
   "source": [
    "import torch, gc, os\n",
    "\n",
    "def get_device():\n",
    "    if torch.backends.mps.is_available():         # Apple GPU\n",
    "        return torch.device(\"mps\")\n",
    "    elif torch.cuda.is_available():               # NVIDIA eGPU etc.\n",
    "        return torch.device(\"cuda\")\n",
    "    else:                                         # fallback\n",
    "        return torch.device(\"cpu\")\n",
    "\n",
    "device = get_device()\n",
    "print(f\"Using device: {device}\")\n",
    "torch.set_float32_matmul_precision(\"high\")        # speeds M-series matmul\n",
    "os.environ[\"PYTORCH_ENABLE_MPS_FALLBACK\"] = \"1\"   # CPU fallback for missing ops\n"
   ]
  },
  {
   "cell_type": "markdown",
   "id": "fd2cd22c",
   "metadata": {},
   "source": [
    "#### Print Python and PyTorch version"
   ]
  },
  {
   "cell_type": "code",
   "execution_count": 3,
   "id": "f2b3f703",
   "metadata": {},
   "outputs": [
    {
     "name": "stdout",
     "output_type": "stream",
     "text": [
      "Python version: 3.11.11 (main, Dec 11 2024, 10:25:04) [Clang 14.0.6 ]\n",
      "PyTorch version: 2.7.0\n",
      "CUDA available: False\n"
     ]
    }
   ],
   "source": [
    "print(\"Python version:\", os.sys.version)\n",
    "print(\"PyTorch version:\", torch.__version__)\n",
    "print(\"CUDA available:\", torch.cuda.is_available())"
   ]
  },
  {
   "cell_type": "code",
   "execution_count": 4,
   "id": "e549c95d",
   "metadata": {},
   "outputs": [],
   "source": [
    "data = load_dataset()\n",
    "train_dataset = data[0]\n",
    "test_dataset = data[1]"
   ]
  },
  {
   "cell_type": "code",
   "execution_count": 5,
   "id": "e1fe5181",
   "metadata": {},
   "outputs": [
    {
     "name": "stdout",
     "output_type": "stream",
     "text": [
      "Image shape: torch.Size([3, 60, 30])\n",
      "Label: 0\n",
      "Train_dataset: Dataset ImageFolder\n",
      "    Number of datapoints: 136\n",
      "    Root location: WF-data/train\n",
      "    StandardTransform\n",
      "Transform: Compose(\n",
      "               Resize(size=[105, 78], interpolation=bilinear, max_size=None, antialias=True)\n",
      "               CenterCrop(size=[60, 30])\n",
      "               ToTensor()\n",
      "           )\n"
     ]
    }
   ],
   "source": [
    "img, label = train_dataset[0]\n",
    "\n",
    "print(f\"Image shape: {img.shape}\")\n",
    "print(f\"Label: {label}\")\n",
    "print(f\"Train_dataset: {train_dataset}\")"
   ]
  },
  {
   "cell_type": "code",
   "execution_count": 6,
   "id": "9d010dd6",
   "metadata": {},
   "outputs": [
    {
     "data": {
      "image/png": "[encoded data removed]",
      "text/plain": [
       "<Figure size 640x480 with 1 Axes>"
      ]
     },
     "metadata": {},
     "output_type": "display_data"
    }
   ],
   "source": [
    "img_tensor, label = train_dataset[0]\n",
    "transform_to_pil = T.ToPILImage()\n",
    "img_pil = transform_to_pil(img_tensor)\n",
    "\n",
    "plt.imshow(img_pil)\n",
    "plt.title(f\"Label: {label}\")\n",
    "plt.axis('off')\n",
    "plt.show()"
   ]
  },
  {
   "cell_type": "markdown",
   "id": "be77b74f",
   "metadata": {},
   "source": [
    "# Base model"
   ]
  },
  {
   "cell_type": "code",
   "execution_count": 7,
   "id": "3d470596",
   "metadata": {},
   "outputs": [],
   "source": [
    "class SimpleCNN(nn.Module):\n",
    "    def __init__(self, input_channels, input_height, input_width, num_classes,\n",
    "                 conv1_out_channels=16, conv2_out_channels=32, fc_neurons=128):\n",
    "        super(SimpleCNN, self).__init__()\n",
    "        self.conv_layers = nn.Sequential(\n",
    "            nn.Conv2d(input_channels, conv1_out_channels, kernel_size=3, padding=1),\n",
    "            nn.ReLU(),\n",
    "            nn.MaxPool2d(kernel_size=2, stride=2),  # Output: conv1_out_channels x H/2 x W/2\n",
    "            nn.Conv2d(conv1_out_channels, conv2_out_channels, kernel_size=3, padding=1),\n",
    "            nn.ReLU(),\n",
    "            nn.MaxPool2d(kernel_size=2, stride=2)   # Output: conv2_out_channels x H/4 x W/4\n",
    "        )\n",
    "        \n",
    "        # Calculate the flattened size dynamically\n",
    "        with torch.no_grad():\n",
    "            dummy_input = torch.zeros(1, input_channels, input_height, input_width)\n",
    "            flattened_size = self.conv_layers(dummy_input).flatten(1).shape[1]\n",
    "            \n",
    "        self.fc_layers = nn.Sequential(\n",
    "            nn.Linear(flattened_size, fc_neurons),\n",
    "            nn.ReLU(),\n",
    "            nn.Linear(fc_neurons, 1 if num_classes == 2 else num_classes) \n",
    "        )\n",
    "\n",
    "    def forward(self, x):\n",
    "        x = self.conv_layers(x)\n",
    "        x = x.flatten(1) # Flatten all dimensions except batch\n",
    "        x = self.fc_layers(x)\n",
    "        return x"
   ]
  },
  {
   "cell_type": "code",
   "execution_count": 8,
   "id": "6e13a536",
   "metadata": {},
   "outputs": [
    {
     "name": "stdout",
     "output_type": "stream",
     "text": [
      "Detected image shape: Channels=3, Height=60, Width=30\n",
      "Using device: mps\n"
     ]
    },
    {
     "data": {
      "application/vnd.jupyter.widget-view+json": {
       "model_id": "7f9a8b8e1d8140afa23491b68bc39a2b",
       "version_major": 2,
       "version_minor": 0
      },
      "text/plain": [
       "Training Progress:   0%|          | 0/25 [00:00<?, ?epoch/s]"
      ]
     },
     "metadata": {},
     "output_type": "display_data"
    },
    {
     "name": "stdout",
     "output_type": "stream",
     "text": [
      "Epoch [1/25] completed. Average Training Loss: 0.6960, Training Accuracy: 50.00%\n",
      "Accuracy on test set after epoch 1: 50.00%\n",
      "Epoch [2/25] completed. Average Training Loss: 0.6923, Training Accuracy: 52.21%\n",
      "Accuracy on test set after epoch 2: 61.76%\n",
      "Epoch [3/25] completed. Average Training Loss: 0.6872, Training Accuracy: 55.15%\n",
      "Accuracy on test set after epoch 3: 70.59%\n",
      "Epoch [4/25] completed. Average Training Loss: 0.6755, Training Accuracy: 72.79%\n",
      "Accuracy on test set after epoch 4: 70.59%\n",
      "Epoch [5/25] completed. Average Training Loss: 0.6539, Training Accuracy: 70.59%\n",
      "Accuracy on test set after epoch 5: 70.59%\n",
      "Epoch [6/25] completed. Average Training Loss: 0.6118, Training Accuracy: 77.94%\n",
      "Accuracy on test set after epoch 6: 61.76%\n",
      "Epoch [7/25] completed. Average Training Loss: 0.5584, Training Accuracy: 81.62%\n",
      "Accuracy on test set after epoch 7: 73.53%\n",
      "Epoch [8/25] completed. Average Training Loss: 0.5024, Training Accuracy: 78.68%\n",
      "Accuracy on test set after epoch 8: 73.53%\n",
      "Epoch [9/25] completed. Average Training Loss: 0.4408, Training Accuracy: 83.82%\n",
      "Accuracy on test set after epoch 9: 61.76%\n",
      "Epoch [10/25] completed. Average Training Loss: 0.5008, Training Accuracy: 75.00%\n",
      "Accuracy on test set after epoch 10: 76.47%\n",
      "Epoch [11/25] completed. Average Training Loss: 0.5014, Training Accuracy: 75.74%\n",
      "Accuracy on test set after epoch 11: 55.88%\n",
      "Epoch [12/25] completed. Average Training Loss: 0.4949, Training Accuracy: 80.15%\n",
      "Accuracy on test set after epoch 12: 73.53%\n",
      "Epoch [13/25] completed. Average Training Loss: 0.4118, Training Accuracy: 85.29%\n",
      "Accuracy on test set after epoch 13: 61.76%\n",
      "Epoch [14/25] completed. Average Training Loss: 0.3746, Training Accuracy: 86.03%\n",
      "Accuracy on test set after epoch 14: 61.76%\n",
      "Epoch [15/25] completed. Average Training Loss: 0.3426, Training Accuracy: 88.97%\n",
      "Accuracy on test set after epoch 15: 67.65%\n",
      "Epoch [16/25] completed. Average Training Loss: 0.3177, Training Accuracy: 88.97%\n",
      "Accuracy on test set after epoch 16: 61.76%\n",
      "Epoch [17/25] completed. Average Training Loss: 0.3047, Training Accuracy: 92.65%\n",
      "Accuracy on test set after epoch 17: 64.71%\n",
      "Epoch [18/25] completed. Average Training Loss: 0.3934, Training Accuracy: 85.29%\n",
      "Accuracy on test set after epoch 18: 70.59%\n",
      "Epoch [19/25] completed. Average Training Loss: 0.3224, Training Accuracy: 88.24%\n",
      "Accuracy on test set after epoch 19: 79.41%\n",
      "Epoch [20/25] completed. Average Training Loss: 0.2771, Training Accuracy: 88.24%\n",
      "Accuracy on test set after epoch 20: 70.59%\n",
      "Epoch [21/25] completed. Average Training Loss: 0.2652, Training Accuracy: 91.91%\n",
      "Accuracy on test set after epoch 21: 79.41%\n",
      "Epoch [22/25] completed. Average Training Loss: 0.2450, Training Accuracy: 91.91%\n",
      "Accuracy on test set after epoch 22: 79.41%\n",
      "Epoch [23/25] completed. Average Training Loss: 0.2395, Training Accuracy: 93.38%\n",
      "Accuracy on test set after epoch 23: 79.41%\n",
      "Epoch [24/25] completed. Average Training Loss: 0.2465, Training Accuracy: 93.38%\n",
      "Accuracy on test set after epoch 24: 79.41%\n",
      "Epoch [25/25] completed. Average Training Loss: 0.2144, Training Accuracy: 93.38%\n",
      "Accuracy on test set after epoch 25: 79.41%\n",
      "Finished Training Base Model\n"
     ]
    }
   ],
   "source": [
    "sample_img, _ = train_dataset[0]\n",
    "C, H, W = sample_img.shape\n",
    "print(f\"Detected image shape: Channels={C}, Height={H}, Width={W}\")\n",
    "\n",
    "# Hyperparameters (Base Model)\n",
    "learning_rate = 0.001\n",
    "batch_size = 16 \n",
    "num_epochs = 25 \n",
    "num_classes = 2 \n",
    "\n",
    "# Default architectural parameters for the base model\n",
    "conv1_out_channels_base = 16\n",
    "conv2_out_channels_base = 32\n",
    "fc_neurons_base = 128\n",
    "\n",
    "# Model, Loss, Optimizer\n",
    "device = get_device()\n",
    "print(f\"Using device: {device}\")\n",
    "\n",
    "# DataLoaders\n",
    "pin_memory_flag   = device.type == 'cuda'\n",
    "num_workers_flag  = 2 if device.type == 'cuda' else 0   # 0 on M-series/CPU\n",
    "train_loader = DataLoader(train_dataset, batch_size=batch_size, shuffle=True, num_workers=num_workers_flag, pin_memory=pin_memory_flag)\n",
    "test_loader = DataLoader(test_dataset, batch_size=batch_size, shuffle=False, num_workers=num_workers_flag, pin_memory=pin_memory_flag)\n",
    "\n",
    "# Use the (potentially modified) SimpleCNN class\n",
    "model = SimpleCNN(input_channels=C, input_height=H, input_width=W, num_classes=num_classes,\n",
    "                    conv1_out_channels=conv1_out_channels_base, \n",
    "                    conv2_out_channels=conv2_out_channels_base, \n",
    "                    fc_neurons=fc_neurons_base).to(device)\n",
    "# model = torch.compile(model)\n",
    "\n",
    "criterion = nn.BCEWithLogitsLoss()\n",
    "optimizer = optim.Adam(model.parameters(), lr=learning_rate)\n",
    "\n",
    "criterion = nn.BCEWithLogitsLoss()\n",
    "optimizer = optim.Adam(model.parameters(), lr=learning_rate)\n",
    " \n",
    "# Lists to store metrics for plotting\n",
    "epoch_train_losses = []\n",
    "epoch_test_accuracies = []\n",
    "epoch_train_accuracies = [] # New list for training accuracies\n",
    " \n",
    "# Training loop\n",
    "for epoch in tqdm(range(num_epochs), desc=\"Training Progress\", unit=\"epoch\"):\n",
    "    model.train()  \n",
    "    running_loss = 0.0\n",
    "    train_correct = 0 # To calculate training accuracy\n",
    "    train_total = 0   # To calculate training accuracy\n",
    "    for images, labels in train_loader:\n",
    "        images = images.to(device)\n",
    "        labels_float_unsqueezed = labels.to(device).float().unsqueeze(1)\n",
    " \n",
    "        outputs = model(images)\n",
    "        loss = criterion(outputs, labels_float_unsqueezed)\n",
    " \n",
    "        optimizer.zero_grad()\n",
    "        loss.backward()\n",
    "        optimizer.step()\n",
    " \n",
    "        running_loss += loss.item() * images.size(0) # loss.item() is avg loss for batch\n",
    "       \n",
    "        # For training accuracy\n",
    "        # Get predictions on the training batch\n",
    "        # No need for torch.no_grad() here as we are not backpropagating based on this\n",
    "        predicted_train_batch = (torch.sigmoid(outputs) > 0.5).float()\n",
    "        train_total += labels_float_unsqueezed.size(0)\n",
    "        train_correct += (predicted_train_batch == labels_float_unsqueezed).sum().item()\n",
    "   \n",
    "    avg_epoch_loss = running_loss / len(train_loader.dataset)  # Average loss over the entire training set\n",
    "    epoch_train_losses.append(avg_epoch_loss)\n",
    "   \n",
    "    # Calculate training accuracy for the epoch\n",
    "    current_epoch_train_accuracy = 100 * train_correct / train_total if train_total > 0 else 0.0\n",
    "    epoch_train_accuracies.append(current_epoch_train_accuracy)\n",
    "   \n",
    "    print(f\"Epoch [{epoch+1}/{num_epochs}] completed. Average Training Loss: {avg_epoch_loss:.4f}, Training Accuracy: {current_epoch_train_accuracy:.2f}%\")\n",
    " \n",
    "    # Evaluation on the test set\n",
    "    model.eval()\n",
    "    correct = 0\n",
    "    total = 0\n",
    "    with torch.no_grad(): \n",
    "        for images, labels in test_loader:\n",
    "            images = images.to(device)\n",
    "            labels = labels.to(device).float().unsqueeze(1)\n",
    "            \n",
    "            outputs = model(images)\n",
    "            predicted = (torch.sigmoid(outputs) > 0.5).float() \n",
    "            \n",
    "            total += labels.size(0)\n",
    "            correct += (predicted == labels).sum().item()\n",
    "    \n",
    "    accuracy = 100 * correct / total\n",
    "    epoch_test_accuracies.append(accuracy)\n",
    "    print(f\"Accuracy on test set after epoch {epoch+1}: {accuracy:.2f}%\")\n",
    "\n",
    "    if device.type == \"mps\":            # Apple-GPU path\n",
    "        torch.mps.empty_cache()\n",
    "    elif device.type == \"cuda\":         # NVIDIA-GPU path\n",
    "        torch.cuda.empty_cache()\n",
    "    gc.collect()                        # reclaim Python-held objects\n",
    "\n",
    "print(\"Finished Training Base Model\")"
   ]
  },
  {
   "cell_type": "markdown",
   "id": "6293f4b5",
   "metadata": {},
   "source": [
    "### Plots"
   ]
  },
  {
   "cell_type": "code",
   "execution_count": 9,
   "id": "ec2ffc15",
   "metadata": {},
   "outputs": [
    {
     "data": {
      "image/png": "[encoded data removed]",
      "text/plain": [
       "<Figure size 1800x500 with 3 Axes>"
      ]
     },
     "metadata": {},
     "output_type": "display_data"
    }
   ],
   "source": [
    "# Plotting learning curves\n",
    "plt.figure(figsize=(18, 5)) # Adjusted figure size for three subplots\n",
    " \n",
    "plt.subplot(1, 3, 1)\n",
    "plt.plot(range(1, num_epochs + 1), epoch_train_losses, label='Training Loss')\n",
    "plt.xlabel('Epoch')\n",
    "plt.ylabel('Loss')\n",
    "plt.title('Training Loss Curve', fontsize=14)\n",
    "plt.legend()\n",
    " \n",
    "plt.subplot(1, 3, 2) # New subplot for Training Accuracy\n",
    "plt.plot(range(1, num_epochs + 1), epoch_train_accuracies, label='Training Accuracy', color='green')\n",
    "plt.xlabel('Epoch')\n",
    "plt.ylabel('Accuracy (%)')\n",
    "plt.title('Training Accuracy Curve', fontsize=14)\n",
    "plt.legend()\n",
    "plt.ylim(0, 101) # Optional: Set y-axis limits for accuracy\n",
    " \n",
    "plt.subplot(1, 3, 3) # Adjusted subplot index for Test Accuracy\n",
    "plt.plot(range(1, num_epochs + 1), epoch_test_accuracies, label='Test Accuracy', color='red')\n",
    "plt.xlabel('Epoch')\n",
    "plt.ylabel('Accuracy (%)')\n",
    "plt.title('Test Accuracy Curve', fontsize=14)\n",
    "plt.legend()\n",
    "plt.ylim(0, 101) # Optional: Set y-axis limits for accuracy\n",
    " \n",
    "plt.tight_layout()\n",
    "plt.show()\n",
    " "
   ]
  },
  {
   "cell_type": "markdown",
   "id": "bca0754c",
   "metadata": {},
   "source": [
    "## Hyperparameter tuning"
   ]
  },
  {
   "cell_type": "markdown",
   "id": "0e629c83",
   "metadata": {},
   "source": [
    "### Random Search"
   ]
  },
  {
   "cell_type": "code",
   "execution_count": 10,
   "id": "77bf141f",
   "metadata": {},
   "outputs": [
    {
     "name": "stdout",
     "output_type": "stream",
     "text": [
      "Using device for hyperparameter tuning: mps\n"
     ]
    },
    {
     "data": {
      "application/vnd.jupyter.widget-view+json": {
       "model_id": "721b419e248f4f5bb1d6923aaf2eb08d",
       "version_major": 2,
       "version_minor": 0
      },
      "text/plain": [
       "Hyperparameter Search Trials:   0%|          | 0/10 [00:00<?, ?trial/s]"
      ]
     },
     "metadata": {},
     "output_type": "display_data"
    },
    {
     "name": "stdout",
     "output_type": "stream",
     "text": [
      "\n",
      "Trial 1/10 - Testing params: {'learning_rate': 0.01, 'batch_size': 32, 'conv1_out_channels': 16, 'conv2_out_channels': 32, 'fc_neurons': 128}\n"
     ]
    },
    {
     "data": {
      "application/vnd.jupyter.widget-view+json": {
       "model_id": "d437843ebb4c4832bced0c3bb1c4a054",
       "version_major": 2,
       "version_minor": 0
      },
      "text/plain": [
       "CV Folds:   0%|          | 0/5 [00:00<?, ?it/s]"
      ]
     },
     "metadata": {},
     "output_type": "display_data"
    },
    {
     "name": "stdout",
     "output_type": "stream",
     "text": [
      "  Fold 1/5\n"
     ]
    },
    {
     "data": {
      "application/vnd.jupyter.widget-view+json": {
       "model_id": "00434b0f93564af9b34c8f8bbf8c80cd",
       "version_major": 2,
       "version_minor": 0
      },
      "text/plain": [
       "    Epochs (Fold 1):   0%|          | 0/19 [00:00<?, ?it/s]"
      ]
     },
     "metadata": {},
     "output_type": "display_data"
    },
    {
     "name": "stdout",
     "output_type": "stream",
     "text": [
      "  Fold 2/5\n"
     ]
    },
    {
     "data": {
      "application/vnd.jupyter.widget-view+json": {
       "model_id": "d5f293f0cd4c48deab0e4c5eaa1a4640",
       "version_major": 2,
       "version_minor": 0
      },
      "text/plain": [
       "    Epochs (Fold 2):   0%|          | 0/19 [00:00<?, ?it/s]"
      ]
     },
     "metadata": {},
     "output_type": "display_data"
    },
    {
     "name": "stdout",
     "output_type": "stream",
     "text": [
      "  Fold 3/5\n"
     ]
    },
    {
     "data": {
      "application/vnd.jupyter.widget-view+json": {
       "model_id": "0b6dbe1e88864e359dde4ae1e733789e",
       "version_major": 2,
       "version_minor": 0
      },
      "text/plain": [
       "    Epochs (Fold 3):   0%|          | 0/19 [00:00<?, ?it/s]"
      ]
     },
     "metadata": {},
     "output_type": "display_data"
    },
    {
     "name": "stdout",
     "output_type": "stream",
     "text": [
      "  Fold 4/5\n"
     ]
    },
    {
     "data": {
      "application/vnd.jupyter.widget-view+json": {
       "model_id": "f5d58e46228240c5805d5f45a3160055",
       "version_major": 2,
       "version_minor": 0
      },
      "text/plain": [
       "    Epochs (Fold 4):   0%|          | 0/19 [00:00<?, ?it/s]"
      ]
     },
     "metadata": {},
     "output_type": "display_data"
    },
    {
     "name": "stdout",
     "output_type": "stream",
     "text": [
      "  Fold 5/5\n"
     ]
    },
    {
     "data": {
      "application/vnd.jupyter.widget-view+json": {
       "model_id": "b6787551419c41b8849798b7cb8af985",
       "version_major": 2,
       "version_minor": 0
      },
      "text/plain": [
       "    Epochs (Fold 5):   0%|          | 0/19 [00:00<?, ?it/s]"
      ]
     },
     "metadata": {},
     "output_type": "display_data"
    },
    {
     "name": "stdout",
     "output_type": "stream",
     "text": [
      "  Trial 1 Avg CV Accuracy: 79.47%\n",
      "  New best average CV accuracy: 79.47% with params: {'learning_rate': 0.01, 'batch_size': 32, 'conv1_out_channels': 16, 'conv2_out_channels': 32, 'fc_neurons': 128}\n",
      "\n",
      "Trial 2/10 - Testing params: {'learning_rate': 0.001, 'batch_size': 16, 'conv1_out_channels': 8, 'conv2_out_channels': 64, 'fc_neurons': 256}\n"
     ]
    },
    {
     "data": {
      "application/vnd.jupyter.widget-view+json": {
       "model_id": "5288ae59b06c4439b55de6229dda960b",
       "version_major": 2,
       "version_minor": 0
      },
      "text/plain": [
       "CV Folds:   0%|          | 0/5 [00:00<?, ?it/s]"
      ]
     },
     "metadata": {},
     "output_type": "display_data"
    },
    {
     "name": "stdout",
     "output_type": "stream",
     "text": [
      "  Fold 1/5\n"
     ]
    },
    {
     "data": {
      "application/vnd.jupyter.widget-view+json": {
       "model_id": "f05f51c821d94a6bbd13a627a6406c3c",
       "version_major": 2,
       "version_minor": 0
      },
      "text/plain": [
       "    Epochs (Fold 1):   0%|          | 0/19 [00:00<?, ?it/s]"
      ]
     },
     "metadata": {},
     "output_type": "display_data"
    },
    {
     "name": "stdout",
     "output_type": "stream",
     "text": [
      "  Fold 2/5\n"
     ]
    },
    {
     "data": {
      "application/vnd.jupyter.widget-view+json": {
       "model_id": "bb682d3b780f457fb7a2e57dc855da60",
       "version_major": 2,
       "version_minor": 0
      },
      "text/plain": [
       "    Epochs (Fold 2):   0%|          | 0/19 [00:00<?, ?it/s]"
      ]
     },
     "metadata": {},
     "output_type": "display_data"
    },
    {
     "name": "stdout",
     "output_type": "stream",
     "text": [
      "  Fold 3/5\n"
     ]
    },
    {
     "data": {
      "application/vnd.jupyter.widget-view+json": {
       "model_id": "f999ac4d007c45539d7c36aa15859ecc",
       "version_major": 2,
       "version_minor": 0
      },
      "text/plain": [
       "    Epochs (Fold 3):   0%|          | 0/19 [00:00<?, ?it/s]"
      ]
     },
     "metadata": {},
     "output_type": "display_data"
    },
    {
     "name": "stdout",
     "output_type": "stream",
     "text": [
      "  Fold 4/5\n"
     ]
    },
    {
     "data": {
      "application/vnd.jupyter.widget-view+json": {
       "model_id": "a8e28517ebdc40e792018a11ad53844f",
       "version_major": 2,
       "version_minor": 0
      },
      "text/plain": [
       "    Epochs (Fold 4):   0%|          | 0/19 [00:00<?, ?it/s]"
      ]
     },
     "metadata": {},
     "output_type": "display_data"
    },
    {
     "name": "stdout",
     "output_type": "stream",
     "text": [
      "  Fold 5/5\n"
     ]
    },
    {
     "data": {
      "application/vnd.jupyter.widget-view+json": {
       "model_id": "d167da971bf1419faa80fdedefd7c1dd",
       "version_major": 2,
       "version_minor": 0
      },
      "text/plain": [
       "    Epochs (Fold 5):   0%|          | 0/19 [00:00<?, ?it/s]"
      ]
     },
     "metadata": {},
     "output_type": "display_data"
    },
    {
     "name": "stdout",
     "output_type": "stream",
     "text": [
      "  Trial 2 Avg CV Accuracy: 80.16%\n",
      "  New best average CV accuracy: 80.16% with params: {'learning_rate': 0.001, 'batch_size': 16, 'conv1_out_channels': 8, 'conv2_out_channels': 64, 'fc_neurons': 256}\n",
      "\n",
      "Trial 3/10 - Testing params: {'learning_rate': 0.005, 'batch_size': 16, 'conv1_out_channels': 8, 'conv2_out_channels': 64, 'fc_neurons': 64}\n"
     ]
    },
    {
     "data": {
      "application/vnd.jupyter.widget-view+json": {
       "model_id": "78b8e7198221449ab5708cf1f210a751",
       "version_major": 2,
       "version_minor": 0
      },
      "text/plain": [
       "CV Folds:   0%|          | 0/5 [00:00<?, ?it/s]"
      ]
     },
     "metadata": {},
     "output_type": "display_data"
    },
    {
     "name": "stdout",
     "output_type": "stream",
     "text": [
      "  Fold 1/5\n"
     ]
    },
    {
     "data": {
      "application/vnd.jupyter.widget-view+json": {
       "model_id": "ed06123ebb6148da96f107b2172d8fda",
       "version_major": 2,
       "version_minor": 0
      },
      "text/plain": [
       "    Epochs (Fold 1):   0%|          | 0/19 [00:00<?, ?it/s]"
      ]
     },
     "metadata": {},
     "output_type": "display_data"
    },
    {
     "name": "stdout",
     "output_type": "stream",
     "text": [
      "  Fold 2/5\n"
     ]
    },
    {
     "data": {
      "application/vnd.jupyter.widget-view+json": {
       "model_id": "23c0526d50c844c1873d769ac3a15559",
       "version_major": 2,
       "version_minor": 0
      },
      "text/plain": [
       "    Epochs (Fold 2):   0%|          | 0/19 [00:00<?, ?it/s]"
      ]
     },
     "metadata": {},
     "output_type": "display_data"
    },
    {
     "name": "stdout",
     "output_type": "stream",
     "text": [
      "  Fold 3/5\n"
     ]
    },
    {
     "data": {
      "application/vnd.jupyter.widget-view+json": {
       "model_id": "4860e01be45648e4a1813156b70f4438",
       "version_major": 2,
       "version_minor": 0
      },
      "text/plain": [
       "    Epochs (Fold 3):   0%|          | 0/19 [00:00<?, ?it/s]"
      ]
     },
     "metadata": {},
     "output_type": "display_data"
    },
    {
     "name": "stdout",
     "output_type": "stream",
     "text": [
      "  Fold 4/5\n"
     ]
    },
    {
     "data": {
      "application/vnd.jupyter.widget-view+json": {
       "model_id": "d21145652f1c40ffa5f707f957a62e49",
       "version_major": 2,
       "version_minor": 0
      },
      "text/plain": [
       "    Epochs (Fold 4):   0%|          | 0/19 [00:00<?, ?it/s]"
      ]
     },
     "metadata": {},
     "output_type": "display_data"
    },
    {
     "name": "stdout",
     "output_type": "stream",
     "text": [
      "  Fold 5/5\n"
     ]
    },
    {
     "data": {
      "application/vnd.jupyter.widget-view+json": {
       "model_id": "98c72a769d6e41a095213fa85a939e5e",
       "version_major": 2,
       "version_minor": 0
      },
      "text/plain": [
       "    Epochs (Fold 5):   0%|          | 0/19 [00:00<?, ?it/s]"
      ]
     },
     "metadata": {},
     "output_type": "display_data"
    },
    {
     "name": "stdout",
     "output_type": "stream",
     "text": [
      "  Trial 3 Avg CV Accuracy: 81.69%\n",
      "  New best average CV accuracy: 81.69% with params: {'learning_rate': 0.005, 'batch_size': 16, 'conv1_out_channels': 8, 'conv2_out_channels': 64, 'fc_neurons': 64}\n",
      "\n",
      "Trial 4/10 - Testing params: {'learning_rate': 0.01, 'batch_size': 32, 'conv1_out_channels': 32, 'conv2_out_channels': 64, 'fc_neurons': 256}\n"
     ]
    },
    {
     "data": {
      "application/vnd.jupyter.widget-view+json": {
       "model_id": "c9d88e781eb5415691323a3c3a36bc12",
       "version_major": 2,
       "version_minor": 0
      },
      "text/plain": [
       "CV Folds:   0%|          | 0/5 [00:00<?, ?it/s]"
      ]
     },
     "metadata": {},
     "output_type": "display_data"
    },
    {
     "name": "stdout",
     "output_type": "stream",
     "text": [
      "  Fold 1/5\n"
     ]
    },
    {
     "data": {
      "application/vnd.jupyter.widget-view+json": {
       "model_id": "436bcdfaec1447fca5421bc4e5ec07c0",
       "version_major": 2,
       "version_minor": 0
      },
      "text/plain": [
       "    Epochs (Fold 1):   0%|          | 0/19 [00:00<?, ?it/s]"
      ]
     },
     "metadata": {},
     "output_type": "display_data"
    },
    {
     "name": "stdout",
     "output_type": "stream",
     "text": [
      "  Fold 2/5\n"
     ]
    },
    {
     "data": {
      "application/vnd.jupyter.widget-view+json": {
       "model_id": "ee46a60550cd466b9d7b1289bb62e4c1",
       "version_major": 2,
       "version_minor": 0
      },
      "text/plain": [
       "    Epochs (Fold 2):   0%|          | 0/19 [00:00<?, ?it/s]"
      ]
     },
     "metadata": {},
     "output_type": "display_data"
    },
    {
     "name": "stdout",
     "output_type": "stream",
     "text": [
      "  Fold 3/5\n"
     ]
    },
    {
     "data": {
      "application/vnd.jupyter.widget-view+json": {
       "model_id": "414c6f917603480c99fad620c8a2d22f",
       "version_major": 2,
       "version_minor": 0
      },
      "text/plain": [
       "    Epochs (Fold 3):   0%|          | 0/19 [00:00<?, ?it/s]"
      ]
     },
     "metadata": {},
     "output_type": "display_data"
    },
    {
     "name": "stdout",
     "output_type": "stream",
     "text": [
      "  Fold 4/5\n"
     ]
    },
    {
     "data": {
      "application/vnd.jupyter.widget-view+json": {
       "model_id": "c2941dab419e4d30b8ddbc1443f57396",
       "version_major": 2,
       "version_minor": 0
      },
      "text/plain": [
       "    Epochs (Fold 4):   0%|          | 0/19 [00:00<?, ?it/s]"
      ]
     },
     "metadata": {},
     "output_type": "display_data"
    },
    {
     "name": "stdout",
     "output_type": "stream",
     "text": [
      "  Fold 5/5\n"
     ]
    },
    {
     "data": {
      "application/vnd.jupyter.widget-view+json": {
       "model_id": "a08fde3396ac4615bcff8af2d86aae79",
       "version_major": 2,
       "version_minor": 0
      },
      "text/plain": [
       "    Epochs (Fold 5):   0%|          | 0/19 [00:00<?, ?it/s]"
      ]
     },
     "metadata": {},
     "output_type": "display_data"
    },
    {
     "name": "stdout",
     "output_type": "stream",
     "text": [
      "  Trial 4 Avg CV Accuracy: 79.29%\n",
      "\n",
      "Trial 5/10 - Testing params: {'learning_rate': 0.0005, 'batch_size': 16, 'conv1_out_channels': 32, 'conv2_out_channels': 64, 'fc_neurons': 256}\n"
     ]
    },
    {
     "data": {
      "application/vnd.jupyter.widget-view+json": {
       "model_id": "45bd87ea98e8411ca363cd2f0b87284a",
       "version_major": 2,
       "version_minor": 0
      },
      "text/plain": [
       "CV Folds:   0%|          | 0/5 [00:00<?, ?it/s]"
      ]
     },
     "metadata": {},
     "output_type": "display_data"
    },
    {
     "name": "stdout",
     "output_type": "stream",
     "text": [
      "  Fold 1/5\n"
     ]
    },
    {
     "data": {
      "application/vnd.jupyter.widget-view+json": {
       "model_id": "63dbf4774c4f43a190ff0747b7171099",
       "version_major": 2,
       "version_minor": 0
      },
      "text/plain": [
       "    Epochs (Fold 1):   0%|          | 0/19 [00:00<?, ?it/s]"
      ]
     },
     "metadata": {},
     "output_type": "display_data"
    },
    {
     "name": "stdout",
     "output_type": "stream",
     "text": [
      "  Fold 2/5\n"
     ]
    },
    {
     "data": {
      "application/vnd.jupyter.widget-view+json": {
       "model_id": "16c8c10cadee40eab7e48ff6e48a57ab",
       "version_major": 2,
       "version_minor": 0
      },
      "text/plain": [
       "    Epochs (Fold 2):   0%|          | 0/19 [00:00<?, ?it/s]"
      ]
     },
     "metadata": {},
     "output_type": "display_data"
    },
    {
     "name": "stdout",
     "output_type": "stream",
     "text": [
      "  Fold 3/5\n"
     ]
    },
    {
     "data": {
      "application/vnd.jupyter.widget-view+json": {
       "model_id": "64921ef275c34e1bb8dc3059ecd4d7f4",
       "version_major": 2,
       "version_minor": 0
      },
      "text/plain": [
       "    Epochs (Fold 3):   0%|          | 0/19 [00:00<?, ?it/s]"
      ]
     },
     "metadata": {},
     "output_type": "display_data"
    },
    {
     "name": "stdout",
     "output_type": "stream",
     "text": [
      "  Fold 4/5\n"
     ]
    },
    {
     "data": {
      "application/vnd.jupyter.widget-view+json": {
       "model_id": "bfd9ca724d8b46ccb933a0741fe55dfe",
       "version_major": 2,
       "version_minor": 0
      },
      "text/plain": [
       "    Epochs (Fold 4):   0%|          | 0/19 [00:00<?, ?it/s]"
      ]
     },
     "metadata": {},
     "output_type": "display_data"
    },
    {
     "name": "stdout",
     "output_type": "stream",
     "text": [
      "  Fold 5/5\n"
     ]
    },
    {
     "data": {
      "application/vnd.jupyter.widget-view+json": {
       "model_id": "fc22fe4af3f94b51ab6205ba698035e4",
       "version_major": 2,
       "version_minor": 0
      },
      "text/plain": [
       "    Epochs (Fold 5):   0%|          | 0/19 [00:00<?, ?it/s]"
      ]
     },
     "metadata": {},
     "output_type": "display_data"
    },
    {
     "name": "stdout",
     "output_type": "stream",
     "text": [
      "  Trial 5 Avg CV Accuracy: 83.12%\n",
      "  New best average CV accuracy: 83.12% with params: {'learning_rate': 0.0005, 'batch_size': 16, 'conv1_out_channels': 32, 'conv2_out_channels': 64, 'fc_neurons': 256}\n",
      "\n",
      "Trial 6/10 - Testing params: {'learning_rate': 0.01, 'batch_size': 32, 'conv1_out_channels': 8, 'conv2_out_channels': 32, 'fc_neurons': 256}\n"
     ]
    },
    {
     "data": {
      "application/vnd.jupyter.widget-view+json": {
       "model_id": "9cb62b8ec7d14e11ae17d919053f6715",
       "version_major": 2,
       "version_minor": 0
      },
      "text/plain": [
       "CV Folds:   0%|          | 0/5 [00:00<?, ?it/s]"
      ]
     },
     "metadata": {},
     "output_type": "display_data"
    },
    {
     "name": "stdout",
     "output_type": "stream",
     "text": [
      "  Fold 1/5\n"
     ]
    },
    {
     "data": {
      "application/vnd.jupyter.widget-view+json": {
       "model_id": "dec28502f9964766bf31ed5273c99993",
       "version_major": 2,
       "version_minor": 0
      },
      "text/plain": [
       "    Epochs (Fold 1):   0%|          | 0/19 [00:00<?, ?it/s]"
      ]
     },
     "metadata": {},
     "output_type": "display_data"
    },
    {
     "name": "stdout",
     "output_type": "stream",
     "text": [
      "  Fold 2/5\n"
     ]
    },
    {
     "data": {
      "application/vnd.jupyter.widget-view+json": {
       "model_id": "6c0fdd46b53e4077aa14448e1cbf6720",
       "version_major": 2,
       "version_minor": 0
      },
      "text/plain": [
       "    Epochs (Fold 2):   0%|          | 0/19 [00:00<?, ?it/s]"
      ]
     },
     "metadata": {},
     "output_type": "display_data"
    },
    {
     "name": "stdout",
     "output_type": "stream",
     "text": [
      "  Fold 3/5\n"
     ]
    },
    {
     "data": {
      "application/vnd.jupyter.widget-view+json": {
       "model_id": "0f2d1fa851f3475781a1d1126aa52eb2",
       "version_major": 2,
       "version_minor": 0
      },
      "text/plain": [
       "    Epochs (Fold 3):   0%|          | 0/19 [00:00<?, ?it/s]"
      ]
     },
     "metadata": {},
     "output_type": "display_data"
    },
    {
     "name": "stdout",
     "output_type": "stream",
     "text": [
      "  Fold 4/5\n"
     ]
    },
    {
     "data": {
      "application/vnd.jupyter.widget-view+json": {
       "model_id": "d5d9bb215fc04cfb99063d221a82f346",
       "version_major": 2,
       "version_minor": 0
      },
      "text/plain": [
       "    Epochs (Fold 4):   0%|          | 0/19 [00:00<?, ?it/s]"
      ]
     },
     "metadata": {},
     "output_type": "display_data"
    },
    {
     "name": "stdout",
     "output_type": "stream",
     "text": [
      "  Fold 5/5\n"
     ]
    },
    {
     "data": {
      "application/vnd.jupyter.widget-view+json": {
       "model_id": "e25c639b73344f4387a65dbc6900b3e8",
       "version_major": 2,
       "version_minor": 0
      },
      "text/plain": [
       "    Epochs (Fold 5):   0%|          | 0/19 [00:00<?, ?it/s]"
      ]
     },
     "metadata": {},
     "output_type": "display_data"
    },
    {
     "name": "stdout",
     "output_type": "stream",
     "text": [
      "  Trial 6 Avg CV Accuracy: 76.01%\n",
      "\n",
      "Trial 7/10 - Testing params: {'learning_rate': 0.001, 'batch_size': 8, 'conv1_out_channels': 8, 'conv2_out_channels': 32, 'fc_neurons': 256}\n"
     ]
    },
    {
     "data": {
      "application/vnd.jupyter.widget-view+json": {
       "model_id": "05d4af6b26c74a90ac221be6509dfd5b",
       "version_major": 2,
       "version_minor": 0
      },
      "text/plain": [
       "CV Folds:   0%|          | 0/5 [00:00<?, ?it/s]"
      ]
     },
     "metadata": {},
     "output_type": "display_data"
    },
    {
     "name": "stdout",
     "output_type": "stream",
     "text": [
      "  Fold 1/5\n"
     ]
    },
    {
     "data": {
      "application/vnd.jupyter.widget-view+json": {
       "model_id": "47d1bb7377a2435ea73524f03a53b3e4",
       "version_major": 2,
       "version_minor": 0
      },
      "text/plain": [
       "    Epochs (Fold 1):   0%|          | 0/19 [00:00<?, ?it/s]"
      ]
     },
     "metadata": {},
     "output_type": "display_data"
    },
    {
     "name": "stdout",
     "output_type": "stream",
     "text": [
      "  Fold 2/5\n"
     ]
    },
    {
     "data": {
      "application/vnd.jupyter.widget-view+json": {
       "model_id": "821a0ef7bd5c4a309978979f21cea62e",
       "version_major": 2,
       "version_minor": 0
      },
      "text/plain": [
       "    Epochs (Fold 2):   0%|          | 0/19 [00:00<?, ?it/s]"
      ]
     },
     "metadata": {},
     "output_type": "display_data"
    },
    {
     "name": "stdout",
     "output_type": "stream",
     "text": [
      "  Fold 3/5\n"
     ]
    },
    {
     "data": {
      "application/vnd.jupyter.widget-view+json": {
       "model_id": "d4e11e178b25433b8d6d5bce7c10ab44",
       "version_major": 2,
       "version_minor": 0
      },
      "text/plain": [
       "    Epochs (Fold 3):   0%|          | 0/19 [00:00<?, ?it/s]"
      ]
     },
     "metadata": {},
     "output_type": "display_data"
    },
    {
     "name": "stdout",
     "output_type": "stream",
     "text": [
      "  Fold 4/5\n"
     ]
    },
    {
     "data": {
      "application/vnd.jupyter.widget-view+json": {
       "model_id": "19c23fb73dfc487d836ef5dbf1a76816",
       "version_major": 2,
       "version_minor": 0
      },
      "text/plain": [
       "    Epochs (Fold 4):   0%|          | 0/19 [00:00<?, ?it/s]"
      ]
     },
     "metadata": {},
     "output_type": "display_data"
    },
    {
     "name": "stdout",
     "output_type": "stream",
     "text": [
      "  Fold 5/5\n"
     ]
    },
    {
     "data": {
      "application/vnd.jupyter.widget-view+json": {
       "model_id": "2c39ba3614214459835ef03521898364",
       "version_major": 2,
       "version_minor": 0
      },
      "text/plain": [
       "    Epochs (Fold 5):   0%|          | 0/19 [00:00<?, ?it/s]"
      ]
     },
     "metadata": {},
     "output_type": "display_data"
    },
    {
     "name": "stdout",
     "output_type": "stream",
     "text": [
      "  Trial 7 Avg CV Accuracy: 82.54%\n",
      "\n",
      "Trial 8/10 - Testing params: {'learning_rate': 0.001, 'batch_size': 32, 'conv1_out_channels': 16, 'conv2_out_channels': 16, 'fc_neurons': 64}\n"
     ]
    },
    {
     "data": {
      "application/vnd.jupyter.widget-view+json": {
       "model_id": "f188de25931047a995a6fd0c2c0d19e3",
       "version_major": 2,
       "version_minor": 0
      },
      "text/plain": [
       "CV Folds:   0%|          | 0/5 [00:00<?, ?it/s]"
      ]
     },
     "metadata": {},
     "output_type": "display_data"
    },
    {
     "name": "stdout",
     "output_type": "stream",
     "text": [
      "  Fold 1/5\n"
     ]
    },
    {
     "data": {
      "application/vnd.jupyter.widget-view+json": {
       "model_id": "0801a5ef872641d8b9a45cc99657b6b7",
       "version_major": 2,
       "version_minor": 0
      },
      "text/plain": [
       "    Epochs (Fold 1):   0%|          | 0/19 [00:00<?, ?it/s]"
      ]
     },
     "metadata": {},
     "output_type": "display_data"
    },
    {
     "name": "stdout",
     "output_type": "stream",
     "text": [
      "  Fold 2/5\n"
     ]
    },
    {
     "data": {
      "application/vnd.jupyter.widget-view+json": {
       "model_id": "0b078e973e8a47fb915d41a9b9620f36",
       "version_major": 2,
       "version_minor": 0
      },
      "text/plain": [
       "    Epochs (Fold 2):   0%|          | 0/19 [00:00<?, ?it/s]"
      ]
     },
     "metadata": {},
     "output_type": "display_data"
    },
    {
     "name": "stdout",
     "output_type": "stream",
     "text": [
      "  Fold 3/5\n"
     ]
    },
    {
     "data": {
      "application/vnd.jupyter.widget-view+json": {
       "model_id": "862d8dcc5c7a49d78d4772b30d4911d3",
       "version_major": 2,
       "version_minor": 0
      },
      "text/plain": [
       "    Epochs (Fold 3):   0%|          | 0/19 [00:00<?, ?it/s]"
      ]
     },
     "metadata": {},
     "output_type": "display_data"
    },
    {
     "name": "stdout",
     "output_type": "stream",
     "text": [
      "  Fold 4/5\n"
     ]
    },
    {
     "data": {
      "application/vnd.jupyter.widget-view+json": {
       "model_id": "e3c71383a55e4c63a7dbb5ddbeeedc42",
       "version_major": 2,
       "version_minor": 0
      },
      "text/plain": [
       "    Epochs (Fold 4):   0%|          | 0/19 [00:00<?, ?it/s]"
      ]
     },
     "metadata": {},
     "output_type": "display_data"
    },
    {
     "name": "stdout",
     "output_type": "stream",
     "text": [
      "  Fold 5/5\n"
     ]
    },
    {
     "data": {
      "application/vnd.jupyter.widget-view+json": {
       "model_id": "3dc31d8eba454f46818b752aaedb91ae",
       "version_major": 2,
       "version_minor": 0
      },
      "text/plain": [
       "    Epochs (Fold 5):   0%|          | 0/19 [00:00<?, ?it/s]"
      ]
     },
     "metadata": {},
     "output_type": "display_data"
    },
    {
     "name": "stdout",
     "output_type": "stream",
     "text": [
      "  Trial 8 Avg CV Accuracy: 80.21%\n",
      "\n",
      "Trial 9/10 - Testing params: {'learning_rate': 0.005, 'batch_size': 8, 'conv1_out_channels': 8, 'conv2_out_channels': 64, 'fc_neurons': 64}\n"
     ]
    },
    {
     "data": {
      "application/vnd.jupyter.widget-view+json": {
       "model_id": "5ce8e621ae114acdbafbbc58fc7c1fdc",
       "version_major": 2,
       "version_minor": 0
      },
      "text/plain": [
       "CV Folds:   0%|          | 0/5 [00:00<?, ?it/s]"
      ]
     },
     "metadata": {},
     "output_type": "display_data"
    },
    {
     "name": "stdout",
     "output_type": "stream",
     "text": [
      "  Fold 1/5\n"
     ]
    },
    {
     "data": {
      "application/vnd.jupyter.widget-view+json": {
       "model_id": "a2f424523e9548d9a89be357b42c75cf",
       "version_major": 2,
       "version_minor": 0
      },
      "text/plain": [
       "    Epochs (Fold 1):   0%|          | 0/19 [00:00<?, ?it/s]"
      ]
     },
     "metadata": {},
     "output_type": "display_data"
    },
    {
     "name": "stdout",
     "output_type": "stream",
     "text": [
      "  Fold 2/5\n"
     ]
    },
    {
     "data": {
      "application/vnd.jupyter.widget-view+json": {
       "model_id": "09831636bfad4fd9bc5c7f99b0566905",
       "version_major": 2,
       "version_minor": 0
      },
      "text/plain": [
       "    Epochs (Fold 2):   0%|          | 0/19 [00:00<?, ?it/s]"
      ]
     },
     "metadata": {},
     "output_type": "display_data"
    },
    {
     "name": "stdout",
     "output_type": "stream",
     "text": [
      "  Fold 3/5\n"
     ]
    },
    {
     "data": {
      "application/vnd.jupyter.widget-view+json": {
       "model_id": "2b090632976a440eaf6d8d5522f0913a",
       "version_major": 2,
       "version_minor": 0
      },
      "text/plain": [
       "    Epochs (Fold 3):   0%|          | 0/19 [00:00<?, ?it/s]"
      ]
     },
     "metadata": {},
     "output_type": "display_data"
    },
    {
     "name": "stdout",
     "output_type": "stream",
     "text": [
      "  Fold 4/5\n"
     ]
    },
    {
     "data": {
      "application/vnd.jupyter.widget-view+json": {
       "model_id": "4dd2d1b72dc541c7a1679d3aeae3ba12",
       "version_major": 2,
       "version_minor": 0
      },
      "text/plain": [
       "    Epochs (Fold 4):   0%|          | 0/19 [00:00<?, ?it/s]"
      ]
     },
     "metadata": {},
     "output_type": "display_data"
    },
    {
     "name": "stdout",
     "output_type": "stream",
     "text": [
      "  Fold 5/5\n"
     ]
    },
    {
     "data": {
      "application/vnd.jupyter.widget-view+json": {
       "model_id": "cc74f512081a4b9da2102929e594c692",
       "version_major": 2,
       "version_minor": 0
      },
      "text/plain": [
       "    Epochs (Fold 5):   0%|          | 0/19 [00:00<?, ?it/s]"
      ]
     },
     "metadata": {},
     "output_type": "display_data"
    },
    {
     "name": "stdout",
     "output_type": "stream",
     "text": [
      "  Trial 9 Avg CV Accuracy: 92.70%\n",
      "  New best average CV accuracy: 92.70% with params: {'learning_rate': 0.005, 'batch_size': 8, 'conv1_out_channels': 8, 'conv2_out_channels': 64, 'fc_neurons': 64}\n",
      "\n",
      "Trial 10/10 - Testing params: {'learning_rate': 0.001, 'batch_size': 16, 'conv1_out_channels': 16, 'conv2_out_channels': 16, 'fc_neurons': 256}\n"
     ]
    },
    {
     "data": {
      "application/vnd.jupyter.widget-view+json": {
       "model_id": "72a215796f6a437bb7851111c331eeaa",
       "version_major": 2,
       "version_minor": 0
      },
      "text/plain": [
       "CV Folds:   0%|          | 0/5 [00:00<?, ?it/s]"
      ]
     },
     "metadata": {},
     "output_type": "display_data"
    },
    {
     "name": "stdout",
     "output_type": "stream",
     "text": [
      "  Fold 1/5\n"
     ]
    },
    {
     "data": {
      "application/vnd.jupyter.widget-view+json": {
       "model_id": "678214de53ed4c50b70756fc126c9848",
       "version_major": 2,
       "version_minor": 0
      },
      "text/plain": [
       "    Epochs (Fold 1):   0%|          | 0/19 [00:00<?, ?it/s]"
      ]
     },
     "metadata": {},
     "output_type": "display_data"
    },
    {
     "name": "stdout",
     "output_type": "stream",
     "text": [
      "  Fold 2/5\n"
     ]
    },
    {
     "data": {
      "application/vnd.jupyter.widget-view+json": {
       "model_id": "eb880a7bf7ac476f8f8fcbb87c736b0d",
       "version_major": 2,
       "version_minor": 0
      },
      "text/plain": [
       "    Epochs (Fold 2):   0%|          | 0/19 [00:00<?, ?it/s]"
      ]
     },
     "metadata": {},
     "output_type": "display_data"
    },
    {
     "name": "stdout",
     "output_type": "stream",
     "text": [
      "  Fold 3/5\n"
     ]
    },
    {
     "data": {
      "application/vnd.jupyter.widget-view+json": {
       "model_id": "afe423e85ec84c929012d24a4b085c69",
       "version_major": 2,
       "version_minor": 0
      },
      "text/plain": [
       "    Epochs (Fold 3):   0%|          | 0/19 [00:00<?, ?it/s]"
      ]
     },
     "metadata": {},
     "output_type": "display_data"
    },
    {
     "name": "stdout",
     "output_type": "stream",
     "text": [
      "  Fold 4/5\n"
     ]
    },
    {
     "data": {
      "application/vnd.jupyter.widget-view+json": {
       "model_id": "33282f527f2249c3b913e7e4921fa4c1",
       "version_major": 2,
       "version_minor": 0
      },
      "text/plain": [
       "    Epochs (Fold 4):   0%|          | 0/19 [00:00<?, ?it/s]"
      ]
     },
     "metadata": {},
     "output_type": "display_data"
    },
    {
     "name": "stdout",
     "output_type": "stream",
     "text": [
      "  Fold 5/5\n"
     ]
    },
    {
     "data": {
      "application/vnd.jupyter.widget-view+json": {
       "model_id": "8c12eda94dd640d4afe93ae018afa5ce",
       "version_major": 2,
       "version_minor": 0
      },
      "text/plain": [
       "    Epochs (Fold 5):   0%|          | 0/19 [00:00<?, ?it/s]"
      ]
     },
     "metadata": {},
     "output_type": "display_data"
    },
    {
     "name": "stdout",
     "output_type": "stream",
     "text": [
      "  Trial 10 Avg CV Accuracy: 85.24%\n",
      "\n",
      "Finished Hyperparameter Search.\n"
     ]
    },
    {
     "data": {
      "image/png": "[encoded data removed]",
      "text/plain": [
       "<Figure size 1000x600 with 1 Axes>"
      ]
     },
     "metadata": {},
     "output_type": "display_data"
    }
   ],
   "source": [
    "device = get_device()\n",
    "print(f\"Using device for hyperparameter tuning: {device}\")\n",
    " \n",
    "# Get image dimensions (C, H, W should be available from the previous cell or re-derived)\n",
    "if 'C' not in locals() or 'H' not in locals() or 'W' not in locals():\n",
    "    sample_img, _ = train_dataset[0]\n",
    "    C, H, W = sample_img.shape\n",
    "    print(f\"Re-detected image shape: Channels={C}, Height={H}, Width={W}\")\n",
    " \n",
    "# Import KFold\n",
    "from sklearn.model_selection import KFold\n",
    "import numpy as np # Ensure numpy is imported\n",
    "import matplotlib.pyplot as plt # Ensure matplotlib is imported for trial plots\n",
    " \n",
    "# Hyperparameter search space\n",
    "param_space = {\n",
    "    'learning_rate': [0.0001, 0.0005, 0.001, 0.005, 0.01],\n",
    "    'batch_size': [8, 16, 32],\n",
    "    'conv1_out_channels': [8, 16, 32],\n",
    "    'conv2_out_channels': [16, 32, 64],\n",
    "    'fc_neurons': [64, 128, 256],\n",
    "}\n",
    " \n",
    "# Store history for the best model's learning curves\n",
    "best_model_train_losses = []\n",
    "best_model_val_accuracies = []\n",
    " \n",
    "num_classes_hp = 2\n",
    "num_epochs_search = 19 # Epochs for each fold in CV and for final retraining\n",
    "num_trials = 10 # Number of random hyperparameter sets to try\n",
    "n_splits_cv = 5 # Number of folds for cross-validation\n",
    " \n",
    "best_hyperparams = None\n",
    "best_avg_cv_accuracy = -1.0\n",
    "# These will store learning curves for the FINAL retrained model\n",
    "final_retrained_model_train_losses = []\n",
    "final_retrained_model_test_accuracies = [] # Using test set for the final model's curve\n",
    " \n",
    "perfect_found = False # If average CV accuracy hits 100%\n",
    " \n",
    "all_trials_final_cv_accuracies = [] # To store final avg CV accuracy for each trial\n",
    " \n",
    "for trial in tqdm(range(num_trials), desc=\"Hyperparameter Search Trials\", unit=\"trial\", leave=True):\n",
    "    if perfect_found:\n",
    "        print(\"Perfect hyperparameters found based on CV, stopping further trials.\")\n",
    "        break\n",
    " \n",
    "    current_params = {k: random.choice(v) for k, v in param_space.items()}\n",
    "    print(f\"\\nTrial {trial+1}/{num_trials} - Testing params: {current_params}\")\n",
    " \n",
    "    kf = KFold(n_splits=n_splits_cv, shuffle=True, random_state=trial)\n",
    "   \n",
    "    trial_fold_final_accuracies = []\n",
    "    # Store epoch-wise validation accuracies for each fold, to average later for plotting\n",
    "    # This is still useful if you want to debug or see per-fold performance, but not for the requested final plot\n",
    "    trial_all_folds_epoch_val_accuracies = [[] for _ in range(num_epochs_search)]\n",
    " \n",
    "    pin_memory_flag = device.type == 'cuda'\n",
    "    num_workers_flag = 2 if device.type == 'cuda' else 0\n",
    " \n",
    "    for fold_idx, (train_ids, val_ids) in enumerate(tqdm(kf.split(train_dataset), total=n_splits_cv, desc=\"CV Folds\", leave=True)):        \n",
    "    # for fold_idx, (train_ids, val_ids) in enumerate(kf.split(train_dataset)):\n",
    "        print(f\"  Fold {fold_idx+1}/{n_splits_cv}\")\n",
    "       \n",
    "        train_subsampler = torch.utils.data.SubsetRandomSampler(train_ids)\n",
    "        val_subsampler = torch.utils.data.SubsetRandomSampler(val_ids)\n",
    " \n",
    "        try:\n",
    "            current_train_loader = DataLoader(train_dataset, batch_size=current_params['batch_size'], sampler=train_subsampler, num_workers=num_workers_flag, pin_memory=pin_memory_flag)\n",
    "            current_val_loader = DataLoader(train_dataset, batch_size=current_params['batch_size'], sampler=val_subsampler, num_workers=num_workers_flag, pin_memory=pin_memory_flag)\n",
    "        except Exception as e:\n",
    "            print(f\"  Error creating DataLoader for fold {fold_idx+1}, possibly due to batch size: {e}. Skipping fold.\")\n",
    "            trial_fold_final_accuracies.append(0)\n",
    "            for epoch_list_idx in range(num_epochs_search):\n",
    "                 if len(trial_all_folds_epoch_val_accuracies[epoch_list_idx]) == fold_idx :\n",
    "                     trial_all_folds_epoch_val_accuracies[epoch_list_idx].append(0)\n",
    "            continue\n",
    "           \n",
    "        model_hp = SimpleCNN(input_channels=C, input_height=H, input_width=W, num_classes=num_classes_hp,\n",
    "                                conv1_out_channels=current_params['conv1_out_channels'],\n",
    "                                conv2_out_channels=current_params['conv2_out_channels'],\n",
    "                                fc_neurons=current_params['fc_neurons']).to(device)\n",
    "       \n",
    "        criterion_hp = nn.BCEWithLogitsLoss()\n",
    "        optimizer_hp = optim.Adam(model_hp.parameters(), lr=current_params['learning_rate'])\n",
    " \n",
    "        fold_epoch_val_accuracies = []\n",
    " \n",
    "        for epoch in tqdm(range(num_epochs_search), desc=f\"    Epochs (Fold {fold_idx+1})\", leave=True):\n",
    "            model_hp.train()\n",
    "            # ... (training loop for the fold) ...\n",
    "            epoch_running_loss = 0.0\n",
    "            for images, labels in current_train_loader:\n",
    "                images, labels = images.to(device), labels.to(device).float().unsqueeze(1)\n",
    "                optimizer_hp.zero_grad()\n",
    "                outputs = model_hp(images)\n",
    "                loss = criterion_hp(outputs, labels)\n",
    "                loss.backward()\n",
    "                optimizer_hp.step()\n",
    "                epoch_running_loss += loss.item() * images.size(0)\n",
    " \n",
    "            model_hp.eval()\n",
    "            val_correct = 0\n",
    "            val_total = 0\n",
    "            with torch.no_grad():\n",
    "                for images, labels in current_val_loader:\n",
    "                    images, labels = images.to(device), labels.to(device).float().unsqueeze(1)\n",
    "                    outputs = model_hp(images)\n",
    "                    predicted = (torch.sigmoid(outputs) > 0.5).float()\n",
    "                    val_total += labels.size(0)\n",
    "                    val_correct += (predicted == labels).sum().item()\n",
    "           \n",
    "            current_epoch_val_accuracy = 100 * val_correct / val_total if val_total > 0 else 0.0\n",
    "            fold_epoch_val_accuracies.append(current_epoch_val_accuracy)\n",
    "            trial_all_folds_epoch_val_accuracies[epoch].append(current_epoch_val_accuracy)\n",
    " \n",
    "            if device.type == \"mps\": torch.mps.empty_cache()\n",
    "            elif device.type == \"cuda\": torch.cuda.empty_cache()\n",
    "            gc.collect()\n",
    "       \n",
    "        trial_fold_final_accuracies.append(fold_epoch_val_accuracies[-1] if fold_epoch_val_accuracies else 0.0)\n",
    "        del model_hp, optimizer_hp, criterion_hp, current_train_loader, current_val_loader\n",
    "        if device.type == \"mps\": torch.mps.empty_cache()\n",
    "        elif device.type == \"cuda\": torch.cuda.empty_cache()\n",
    "        gc.collect()\n",
    " \n",
    "    current_trial_avg_final_cv_accuracy = np.mean(trial_fold_final_accuracies) if trial_fold_final_accuracies else 0.0\n",
    "    all_trials_final_cv_accuracies.append(current_trial_avg_final_cv_accuracy) # Store for the final plot\n",
    "    print(f\"  Trial {trial+1} Avg CV Accuracy: {current_trial_avg_final_cv_accuracy:.2f}%\")\n",
    " \n",
    "    if current_trial_avg_final_cv_accuracy > best_avg_cv_accuracy:\n",
    "        best_avg_cv_accuracy = current_trial_avg_final_cv_accuracy\n",
    "        best_hyperparams = current_params\n",
    "        print(f\"  New best average CV accuracy: {best_avg_cv_accuracy:.2f}% with params: {best_hyperparams}\")\n",
    " \n",
    "    if best_avg_cv_accuracy == 100.0:\n",
    "        perfect_found = True\n",
    "       \n",
    "print(\"\\nFinished Hyperparameter Search.\")\n",
    " \n",
    "# Plot Mean CV Accuracy per Trial\n",
    "if all_trials_final_cv_accuracies:\n",
    "    plt.figure(figsize=(10, 6))\n",
    "    plt.plot(range(1, len(all_trials_final_cv_accuracies) + 1), all_trials_final_cv_accuracies, marker='o', linestyle='-')\n",
    "    plt.title(\"Mean Cross-Validation Accuracy per Trial\")\n",
    "    plt.xlabel(\"Trial Number\")\n",
    "    plt.ylabel(\"Mean CV Accuracy (%)\")\n",
    "    plt.xticks(range(1, len(all_trials_final_cv_accuracies) + 1))\n",
    "    plt.grid(True)\n",
    "    plt.ylim(0, 101)\n",
    "    plt.show()\n",
    " "
   ]
  },
  {
   "cell_type": "code",
   "execution_count": 11,
   "id": "96ab80ae",
   "metadata": {},
   "outputs": [
    {
     "name": "stdout",
     "output_type": "stream",
     "text": [
      "Best hyperparameters found: {'learning_rate': 0.005, 'batch_size': 8, 'conv1_out_channels': 8, 'conv2_out_channels': 64, 'fc_neurons': 64}\n",
      "Best average CV validation accuracy: 92.70%\n",
      "\n",
      "Retraining model with best hyperparameters on the full training dataset...\n"
     ]
    },
    {
     "data": {
      "application/vnd.jupyter.widget-view+json": {
       "model_id": "eda607ba820749fdac7e8c8912f99c89",
       "version_major": 2,
       "version_minor": 0
      },
      "text/plain": [
       "Final Model Retraining:   0%|          | 0/19 [00:00<?, ?epoch/s]"
      ]
     },
     "metadata": {},
     "output_type": "display_data"
    },
    {
     "name": "stdout",
     "output_type": "stream",
     "text": [
      "  Epoch 1/19 - Train Loss: 0.6948, Train Acc: 50.00%, Test Acc: 50.00%\n",
      "  Epoch 2/19 - Train Loss: 0.6914, Train Acc: 50.00%, Test Acc: 50.00%\n",
      "  Epoch 3/19 - Train Loss: 0.6859, Train Acc: 76.47%, Test Acc: 58.82%\n",
      "  Epoch 4/19 - Train Loss: 0.6619, Train Acc: 74.26%, Test Acc: 55.88%\n",
      "  Epoch 5/19 - Train Loss: 0.5393, Train Acc: 83.82%, Test Acc: 61.76%\n",
      "  Epoch 6/19 - Train Loss: 0.4325, Train Acc: 77.94%, Test Acc: 73.53%\n",
      "  Epoch 7/19 - Train Loss: 0.4749, Train Acc: 85.29%, Test Acc: 73.53%\n",
      "  Epoch 8/19 - Train Loss: 0.4217, Train Acc: 72.79%, Test Acc: 58.82%\n",
      "  Epoch 9/19 - Train Loss: 0.4897, Train Acc: 91.18%, Test Acc: 79.41%\n",
      "  Epoch 10/19 - Train Loss: 0.3693, Train Acc: 89.71%, Test Acc: 73.53%\n",
      "  Epoch 11/19 - Train Loss: 0.2713, Train Acc: 93.38%, Test Acc: 82.35%\n",
      "  Epoch 12/19 - Train Loss: 0.2834, Train Acc: 94.85%, Test Acc: 88.24%\n",
      "  Epoch 13/19 - Train Loss: 0.2225, Train Acc: 94.85%, Test Acc: 79.41%\n",
      "  Epoch 14/19 - Train Loss: 0.2469, Train Acc: 94.12%, Test Acc: 85.29%\n",
      "  Epoch 15/19 - Train Loss: 0.2027, Train Acc: 91.91%, Test Acc: 88.24%\n",
      "  Epoch 16/19 - Train Loss: 0.2216, Train Acc: 87.50%, Test Acc: 94.12%\n",
      "  Epoch 17/19 - Train Loss: 0.2205, Train Acc: 95.59%, Test Acc: 88.24%\n",
      "  Epoch 18/19 - Train Loss: 0.1762, Train Acc: 95.59%, Test Acc: 88.24%\n",
      "  Epoch 19/19 - Train Loss: 0.1797, Train Acc: 97.06%, Test Acc: 88.24%\n",
      "Best retrained model saved to best_randomsearch_cnn_model.pth\n"
     ]
    }
   ],
   "source": [
    "best_model_train_losses = []\n",
    "best_model_val_accuracies = []\n",
    "best_model_train_accuracies = [] # New list for training accuracies\n",
    " \n",
    "if best_hyperparams:\n",
    "    print(f\"Best hyperparameters found: {best_hyperparams}\")\n",
    "    print(f\"Best average CV validation accuracy: {best_avg_cv_accuracy:.2f}%\")\n",
    " \n",
    "    # Retrain the model on the full training dataset with the best hyperparameters\n",
    "    print(\"\\nRetraining model with best hyperparameters on the full training dataset...\")\n",
    "   \n",
    "    final_train_loader = DataLoader(train_dataset, batch_size=best_hyperparams['batch_size'], shuffle=True, num_workers=num_workers_flag, pin_memory=pin_memory_flag)\n",
    "    final_test_loader = DataLoader(test_dataset, batch_size=best_hyperparams['batch_size'], shuffle=False, num_workers=num_workers_flag, pin_memory=pin_memory_flag)\n",
    " \n",
    "    final_model = SimpleCNN(input_channels=C, input_height=H, input_width=W, num_classes=num_classes_hp,\n",
    "                            conv1_out_channels=best_hyperparams['conv1_out_channels'],\n",
    "                            conv2_out_channels=best_hyperparams['conv2_out_channels'],\n",
    "                            fc_neurons=best_hyperparams['fc_neurons']).to(device)\n",
    "   \n",
    "    criterion_final = nn.BCEWithLogitsLoss()\n",
    "    optimizer_final = optim.Adam(final_model.parameters(), lr=best_hyperparams['learning_rate'])\n",
    " \n",
    "    best_model_train_losses.clear()\n",
    "    best_model_val_accuracies.clear()\n",
    "    best_model_train_accuracies.clear() # Clear training accuracies list\n",
    " \n",
    "    for epoch in tqdm(range(num_epochs_search), desc=\"Final Model Retraining\", unit=\"epoch\"):\n",
    "        final_model.train()\n",
    "        running_loss = 0.0\n",
    "        for images, labels in final_train_loader:\n",
    "            images, labels = images.to(device), labels.to(device).float().unsqueeze(1)\n",
    "            optimizer_final.zero_grad()\n",
    "            outputs = final_model(images)\n",
    "            loss = criterion_final(outputs, labels)\n",
    "            loss.backward()\n",
    "            optimizer_final.step()\n",
    "            running_loss += loss.item() * images.size(0)\n",
    "       \n",
    "        avg_epoch_loss = running_loss / len(final_train_loader.dataset)\n",
    "        best_model_train_losses.append(avg_epoch_loss)\n",
    " \n",
    "        # Evaluate on the training set for training accuracy\n",
    "        final_model.eval()\n",
    "        train_correct = 0\n",
    "        train_total = 0\n",
    "        with torch.no_grad():\n",
    "            for images_train, labels_train in final_train_loader:\n",
    "                images_train, labels_train = images_train.to(device), labels_train.to(device).float().unsqueeze(1)\n",
    "                outputs_train = final_model(images_train)\n",
    "                predicted_train = (torch.sigmoid(outputs_train) > 0.5).float()\n",
    "                train_total += labels_train.size(0)\n",
    "                train_correct += (predicted_train == labels_train).sum().item()\n",
    "        current_train_accuracy = 100 * train_correct / train_total if train_total > 0 else 0.0\n",
    "        best_model_train_accuracies.append(current_train_accuracy)\n",
    " \n",
    "        # Evaluate on the test set for test accuracy\n",
    "        # final_model.eval() # Already in eval mode\n",
    "        correct = 0\n",
    "        total = 0\n",
    "        with torch.no_grad():\n",
    "            for images, labels in final_test_loader:\n",
    "                images, labels = images.to(device), labels.to(device).float().unsqueeze(1)\n",
    "                outputs = final_model(images)\n",
    "                predicted = (torch.sigmoid(outputs) > 0.5).float()\n",
    "                total += labels.size(0)\n",
    "                correct += (predicted == labels).sum().item()\n",
    "       \n",
    "        accuracy = 100 * correct / total if total > 0 else 0.0\n",
    "        best_model_val_accuracies.append(accuracy)\n",
    "        print(f\"  Epoch {epoch+1}/{num_epochs_search} - Train Loss: {avg_epoch_loss:.4f}, Train Acc: {current_train_accuracy:.2f}%, Test Acc: {accuracy:.2f}%\")\n",
    " \n",
    "        if device.type == \"mps\": torch.mps.empty_cache()\n",
    "        elif device.type == \"cuda\": torch.cuda.empty_cache()\n",
    "        gc.collect()\n",
    " \n",
    "    best_randomsearch_model_path = \"best_randomsearch_cnn_model.pth\"\n",
    "    torch.save(final_model.state_dict(), best_randomsearch_model_path)\n",
    "    print(f\"Best retrained model saved to {best_randomsearch_model_path}\")\n",
    " \n",
    "else:\n",
    "    print(\"No best hyperparameters found (e.g., all trials failed or num_trials was 0).\")\n",
    "    best_model_train_losses = []\n",
    "    best_model_val_accuracies = []\n",
    "    best_model_train_accuracies = [] \n",
    " "
   ]
  },
  {
   "cell_type": "markdown",
   "id": "622afaba",
   "metadata": {},
   "source": [
    "#### Plots"
   ]
  },
  {
   "cell_type": "code",
   "execution_count": 12,
   "id": "57dd17b0",
   "metadata": {},
   "outputs": [
    {
     "name": "stdout",
     "output_type": "stream",
     "text": [
      "Best Average CV Accuracy (from Hyperparameter Search): 92.70%\n",
      "Best Hyperparameters (from Hyperparameter Search): {'learning_rate': 0.005, 'batch_size': 8, 'conv1_out_channels': 8, 'conv2_out_channels': 64, 'fc_neurons': 64}\n",
      "Final Retrained Model Train Accuracy: 97.06%\n",
      "Final Retrained Model Test Accuracy: 88.24%\n",
      "Number of epochs for retraining: 19\n"
     ]
    },
    {
     "data": {
      "image/png": "[encoded data removed]",
      "text/plain": [
       "<Figure size 1800x500 with 3 Axes>"
      ]
     },
     "metadata": {},
     "output_type": "display_data"
    }
   ],
   "source": [
    "epochs = list(range(1, len(best_model_train_losses) + 1))\n",
    " \n",
    "# best_avg_cv_accuracy is from the hyperparameter search phase\n",
    "print(f\"Best Average CV Accuracy (from Hyperparameter Search): {best_avg_cv_accuracy:.2f}%\")\n",
    "print(f\"Best Hyperparameters (from Hyperparameter Search): {best_hyperparams}\")\n",
    " \n",
    "if epochs:\n",
    "    # best_model_val_accuracies now contains test accuracies of the retrained model\n",
    "    final_model_test_accuracy = best_model_val_accuracies[-1] # Get the last epoch's test accuracy\n",
    "    if best_model_train_accuracies:\n",
    "        final_model_train_accuracy = best_model_train_accuracies[-1]\n",
    "        print(f\"Final Retrained Model Train Accuracy: {final_model_train_accuracy:.2f}%\")\n",
    "    print(f\"Final Retrained Model Test Accuracy: {final_model_test_accuracy:.2f}%\")\n",
    "    print(f\"Number of epochs for retraining: {len(epochs)}\")\n",
    "else:\n",
    "    print(\"No retraining was performed or data is missing for plotting.\")\n",
    " \n",
    " \n",
    "# Plotting learning curves for the best model from hyperparameter search\n",
    "# These curves are from the model retrained on the full training set and evaluated on the test set.\n",
    "if best_model_train_losses and best_model_val_accuracies and best_model_train_accuracies:\n",
    "    plt.figure(figsize=(18, 5)) # Adjusted figure size for three subplots\n",
    " \n",
    "    plt.subplot(1, 3, 1)\n",
    "    plt.plot(epochs, best_model_train_losses, label='RS Model Training Loss (on Full Train Set)')\n",
    "    plt.xlabel('Epoch')\n",
    "    plt.ylabel('Loss')\n",
    "    plt.title('Final Model - Training Loss')\n",
    "    plt.legend()\n",
    " \n",
    "    plt.subplot(1, 3, 2) # New subplot for Training Accuracy\n",
    "    plt.plot(epochs, best_model_train_accuracies, label='RS Model Training Accuracy (on Full Train Set)', color='green')\n",
    "    plt.xlabel('Epoch')\n",
    "    plt.ylabel('Accuracy (%)')\n",
    "    plt.title('Final Model - Training Accuracy')\n",
    "    plt.legend()\n",
    "    plt.ylim(0, 101) # Optional: Set y-axis limits for accuracy\n",
    " \n",
    "    plt.subplot(1, 3, 3) # Adjusted subplot index for Test Accuracy\n",
    "    plt.plot(epochs, best_model_val_accuracies, label='RS Model Test Accuracy (on Test Set)', color='red')\n",
    "    plt.xlabel('Epoch')\n",
    "    plt.ylabel('Accuracy (%)')\n",
    "    plt.title('Final Model - Test Accuracy')\n",
    "    plt.legend()\n",
    "    plt.ylim(0, 101) # Optional: Set y-axis limits for accuracy\n",
    " \n",
    "    plt.tight_layout()\n",
    "    plt.show()\n",
    "else:\n",
    "    print(\"Learning curve data for the final retrained model is not available or incomplete.\")\n",
    " "
   ]
  },
  {
   "cell_type": "markdown",
   "id": "4038ab6b",
   "metadata": {},
   "source": [
    "### Method 2 - Optuna"
   ]
  },
  {
   "cell_type": "code",
   "execution_count": 13,
   "id": "bfa3002e",
   "metadata": {},
   "outputs": [
    {
     "name": "stdout",
     "output_type": "stream",
     "text": [
      "Using device for Optuna hyperparameter tuning: mps\n"
     ]
    },
    {
     "name": "stderr",
     "output_type": "stream",
     "text": [
      "[I 2025-06-06 01:39:26,501] A new study created in memory with name: no-name-0d141cf9-0903-4062-9e4c-0c0f14d9c456\n"
     ]
    },
    {
     "name": "stdout",
     "output_type": "stream",
     "text": [
      "Image shape: Channels=3, Height=60, Width=30\n"
     ]
    },
    {
     "data": {
      "application/vnd.jupyter.widget-view+json": {
       "model_id": "025e31b6d64f4a6495da8dd3d440bd86",
       "version_major": 2,
       "version_minor": 0
      },
      "text/plain": [
       "  0%|          | 0/10 [00:00<?, ?it/s]"
      ]
     },
     "metadata": {},
     "output_type": "display_data"
    },
    {
     "data": {
      "application/vnd.jupyter.widget-view+json": {
       "model_id": "457cda0c49634f0eb6e11e3955afebda",
       "version_major": 2,
       "version_minor": 0
      },
      "text/plain": [
       "CV Folds:   0%|          | 0/5 [00:00<?, ?it/s]"
      ]
     },
     "metadata": {},
     "output_type": "display_data"
    },
    {
     "data": {
      "application/vnd.jupyter.widget-view+json": {
       "model_id": "e442ad2847b64625929f192602877bfb",
       "version_major": 2,
       "version_minor": 0
      },
      "text/plain": [
       "    Epochs (Trial 0 Fold 1):   0%|          | 0/19 [00:00<?, ?it/s]"
      ]
     },
     "metadata": {},
     "output_type": "display_data"
    },
    {
     "name": "stdout",
     "output_type": "stream",
     "text": [
      "    Trial 0 Fold 1: Early stopping at epoch 11.\n"
     ]
    },
    {
     "data": {
      "application/vnd.jupyter.widget-view+json": {
       "model_id": "6a961d3739f24ec3872ab2e72adc4849",
       "version_major": 2,
       "version_minor": 0
      },
      "text/plain": [
       "    Epochs (Trial 0 Fold 2):   0%|          | 0/19 [00:00<?, ?it/s]"
      ]
     },
     "metadata": {},
     "output_type": "display_data"
    },
    {
     "name": "stdout",
     "output_type": "stream",
     "text": [
      "    Trial 0 Fold 2: Early stopping at epoch 11.\n"
     ]
    },
    {
     "data": {
      "application/vnd.jupyter.widget-view+json": {
       "model_id": "bcd9c257e6b7486c9da0d7508a03b6e8",
       "version_major": 2,
       "version_minor": 0
      },
      "text/plain": [
       "    Epochs (Trial 0 Fold 3):   0%|          | 0/19 [00:00<?, ?it/s]"
      ]
     },
     "metadata": {},
     "output_type": "display_data"
    },
    {
     "name": "stdout",
     "output_type": "stream",
     "text": [
      "    Trial 0 Fold 3: Early stopping at epoch 11.\n"
     ]
    },
    {
     "data": {
      "application/vnd.jupyter.widget-view+json": {
       "model_id": "a73f1d88347747b79a6a4278386d355a",
       "version_major": 2,
       "version_minor": 0
      },
      "text/plain": [
       "    Epochs (Trial 0 Fold 4):   0%|          | 0/19 [00:00<?, ?it/s]"
      ]
     },
     "metadata": {},
     "output_type": "display_data"
    },
    {
     "data": {
      "application/vnd.jupyter.widget-view+json": {
       "model_id": "3744ba081b934947b99abf0dfe5b20d5",
       "version_major": 2,
       "version_minor": 0
      },
      "text/plain": [
       "    Epochs (Trial 0 Fold 5):   0%|          | 0/19 [00:00<?, ?it/s]"
      ]
     },
     "metadata": {},
     "output_type": "display_data"
    },
    {
     "name": "stdout",
     "output_type": "stream",
     "text": [
      "    Trial 0 Fold 5: Early stopping at epoch 19.\n",
      "[I 2025-06-06 01:52:13,814] Trial 0 finished with value: 65.63492063492063 and parameters: {'learning_rate': 0.00011663996768639834, 'batch_size': 16, 'conv1_out_channels': 32, 'conv2_out_channels': 64, 'fc_neurons': 64}. Best is trial 0 with value: 65.63492063492063.\n"
     ]
    },
    {
     "data": {
      "application/vnd.jupyter.widget-view+json": {
       "model_id": "363218de03b443839cf0eef017a42926",
       "version_major": 2,
       "version_minor": 0
      },
      "text/plain": [
       "CV Folds:   0%|          | 0/5 [00:00<?, ?it/s]"
      ]
     },
     "metadata": {},
     "output_type": "display_data"
    },
    {
     "data": {
      "application/vnd.jupyter.widget-view+json": {
       "model_id": "68868e4db74142c69a972df029a96099",
       "version_major": 2,
       "version_minor": 0
      },
      "text/plain": [
       "    Epochs (Trial 1 Fold 1):   0%|          | 0/19 [00:00<?, ?it/s]"
      ]
     },
     "metadata": {},
     "output_type": "display_data"
    },
    {
     "name": "stdout",
     "output_type": "stream",
     "text": [
      "    Trial 1 Fold 1: Early stopping at epoch 16.\n"
     ]
    },
    {
     "data": {
      "application/vnd.jupyter.widget-view+json": {
       "model_id": "a9007008f8fc4304a71f5249570b719a",
       "version_major": 2,
       "version_minor": 0
      },
      "text/plain": [
       "    Epochs (Trial 1 Fold 2):   0%|          | 0/19 [00:00<?, ?it/s]"
      ]
     },
     "metadata": {},
     "output_type": "display_data"
    },
    {
     "data": {
      "application/vnd.jupyter.widget-view+json": {
       "model_id": "a839c1b98a914f86bddcbe02240ec445",
       "version_major": 2,
       "version_minor": 0
      },
      "text/plain": [
       "    Epochs (Trial 1 Fold 3):   0%|          | 0/19 [00:00<?, ?it/s]"
      ]
     },
     "metadata": {},
     "output_type": "display_data"
    },
    {
     "data": {
      "application/vnd.jupyter.widget-view+json": {
       "model_id": "f537ee4dbf9e462188a350519df9ebd6",
       "version_major": 2,
       "version_minor": 0
      },
      "text/plain": [
       "    Epochs (Trial 1 Fold 4):   0%|          | 0/19 [00:00<?, ?it/s]"
      ]
     },
     "metadata": {},
     "output_type": "display_data"
    },
    {
     "name": "stdout",
     "output_type": "stream",
     "text": [
      "    Trial 1 Fold 4: Early stopping at epoch 11.\n"
     ]
    },
    {
     "data": {
      "application/vnd.jupyter.widget-view+json": {
       "model_id": "f32d1bc8e6144a0a8bd0c7db48f6c668",
       "version_major": 2,
       "version_minor": 0
      },
      "text/plain": [
       "    Epochs (Trial 1 Fold 5):   0%|          | 0/19 [00:00<?, ?it/s]"
      ]
     },
     "metadata": {},
     "output_type": "display_data"
    },
    {
     "name": "stdout",
     "output_type": "stream",
     "text": [
      "    Trial 1 Fold 5: Early stopping at epoch 11.\n",
      "[I 2025-06-06 02:05:53,920] Trial 1 finished with value: 66.74603174603176 and parameters: {'learning_rate': 0.00011321393809739401, 'batch_size': 32, 'conv1_out_channels': 16, 'conv2_out_channels': 64, 'fc_neurons': 128}. Best is trial 1 with value: 66.74603174603176.\n"
     ]
    },
    {
     "data": {
      "application/vnd.jupyter.widget-view+json": {
       "model_id": "bf0aaff80ac448b7a612d0214b6f30c5",
       "version_major": 2,
       "version_minor": 0
      },
      "text/plain": [
       "CV Folds:   0%|          | 0/5 [00:00<?, ?it/s]"
      ]
     },
     "metadata": {},
     "output_type": "display_data"
    },
    {
     "data": {
      "application/vnd.jupyter.widget-view+json": {
       "model_id": "33e1deaf8b85495f9bfe63ce2976aaeb",
       "version_major": 2,
       "version_minor": 0
      },
      "text/plain": [
       "    Epochs (Trial 2 Fold 1):   0%|          | 0/19 [00:00<?, ?it/s]"
      ]
     },
     "metadata": {},
     "output_type": "display_data"
    },
    {
     "name": "stdout",
     "output_type": "stream",
     "text": [
      "    Trial 2 Fold 1: Early stopping at epoch 18.\n"
     ]
    },
    {
     "data": {
      "application/vnd.jupyter.widget-view+json": {
       "model_id": "5db4ccbbe4b144bbbee83791dee3b145",
       "version_major": 2,
       "version_minor": 0
      },
      "text/plain": [
       "    Epochs (Trial 2 Fold 2):   0%|          | 0/19 [00:00<?, ?it/s]"
      ]
     },
     "metadata": {},
     "output_type": "display_data"
    },
    {
     "data": {
      "application/vnd.jupyter.widget-view+json": {
       "model_id": "c559b5507e8148ad890e6d0de1af1e02",
       "version_major": 2,
       "version_minor": 0
      },
      "text/plain": [
       "    Epochs (Trial 2 Fold 3):   0%|          | 0/19 [00:00<?, ?it/s]"
      ]
     },
     "metadata": {},
     "output_type": "display_data"
    },
    {
     "data": {
      "application/vnd.jupyter.widget-view+json": {
       "model_id": "982c476cbd09425ba0f6aca6ea95c4cd",
       "version_major": 2,
       "version_minor": 0
      },
      "text/plain": [
       "    Epochs (Trial 2 Fold 4):   0%|          | 0/19 [00:00<?, ?it/s]"
      ]
     },
     "metadata": {},
     "output_type": "display_data"
    },
    {
     "data": {
      "application/vnd.jupyter.widget-view+json": {
       "model_id": "a74e046942af413c800c1bba8375e3f3",
       "version_major": 2,
       "version_minor": 0
      },
      "text/plain": [
       "    Epochs (Trial 2 Fold 5):   0%|          | 0/19 [00:00<?, ?it/s]"
      ]
     },
     "metadata": {},
     "output_type": "display_data"
    },
    {
     "name": "stdout",
     "output_type": "stream",
     "text": [
      "[I 2025-06-06 02:22:49,694] Trial 2 finished with value: 89.02116402116403 and parameters: {'learning_rate': 0.0009927330935426833, 'batch_size': 32, 'conv1_out_channels': 64, 'conv2_out_channels': 64, 'fc_neurons': 256}. Best is trial 2 with value: 89.02116402116403.\n"
     ]
    },
    {
     "data": {
      "application/vnd.jupyter.widget-view+json": {
       "model_id": "44ed4f1b44a24ebd9042645b27839cd9",
       "version_major": 2,
       "version_minor": 0
      },
      "text/plain": [
       "CV Folds:   0%|          | 0/5 [00:00<?, ?it/s]"
      ]
     },
     "metadata": {},
     "output_type": "display_data"
    },
    {
     "data": {
      "application/vnd.jupyter.widget-view+json": {
       "model_id": "892e7a8873454e8ca6732a40f55f798b",
       "version_major": 2,
       "version_minor": 0
      },
      "text/plain": [
       "    Epochs (Trial 3 Fold 1):   0%|          | 0/19 [00:00<?, ?it/s]"
      ]
     },
     "metadata": {},
     "output_type": "display_data"
    },
    {
     "data": {
      "application/vnd.jupyter.widget-view+json": {
       "model_id": "979c22b12bc74cc089748337332ab4a5",
       "version_major": 2,
       "version_minor": 0
      },
      "text/plain": [
       "    Epochs (Trial 3 Fold 2):   0%|          | 0/19 [00:00<?, ?it/s]"
      ]
     },
     "metadata": {},
     "output_type": "display_data"
    },
    {
     "name": "stdout",
     "output_type": "stream",
     "text": [
      "    Trial 3 Fold 2: Early stopping at epoch 11.\n"
     ]
    },
    {
     "data": {
      "application/vnd.jupyter.widget-view+json": {
       "model_id": "d50d6e71bdbf4d38a00551f6d1b6a767",
       "version_major": 2,
       "version_minor": 0
      },
      "text/plain": [
       "    Epochs (Trial 3 Fold 3):   0%|          | 0/19 [00:00<?, ?it/s]"
      ]
     },
     "metadata": {},
     "output_type": "display_data"
    },
    {
     "name": "stdout",
     "output_type": "stream",
     "text": [
      "    Trial 3 Fold 3: Early stopping at epoch 11.\n"
     ]
    },
    {
     "data": {
      "application/vnd.jupyter.widget-view+json": {
       "model_id": "055d66238f7e4ff2b53124833ed07ccb",
       "version_major": 2,
       "version_minor": 0
      },
      "text/plain": [
       "    Epochs (Trial 3 Fold 4):   0%|          | 0/19 [00:00<?, ?it/s]"
      ]
     },
     "metadata": {},
     "output_type": "display_data"
    },
    {
     "data": {
      "application/vnd.jupyter.widget-view+json": {
       "model_id": "ee4fe67b5e024382bbd305c99112cbe5",
       "version_major": 2,
       "version_minor": 0
      },
      "text/plain": [
       "    Epochs (Trial 3 Fold 5):   0%|          | 0/19 [00:00<?, ?it/s]"
      ]
     },
     "metadata": {},
     "output_type": "display_data"
    },
    {
     "name": "stdout",
     "output_type": "stream",
     "text": [
      "    Trial 3 Fold 5: Early stopping at epoch 17.\n",
      "[I 2025-06-06 03:02:45,224] Trial 3 finished with value: 81.50793650793652 and parameters: {'learning_rate': 0.007186762821647583, 'batch_size': 8, 'conv1_out_channels': 32, 'conv2_out_channels': 64, 'fc_neurons': 64}. Best is trial 2 with value: 89.02116402116403.\n"
     ]
    },
    {
     "data": {
      "application/vnd.jupyter.widget-view+json": {
       "model_id": "c3a8226067254df6b4004ed7fcf72670",
       "version_major": 2,
       "version_minor": 0
      },
      "text/plain": [
       "CV Folds:   0%|          | 0/5 [00:00<?, ?it/s]"
      ]
     },
     "metadata": {},
     "output_type": "display_data"
    },
    {
     "data": {
      "application/vnd.jupyter.widget-view+json": {
       "model_id": "98c2970282404735a5c35454437b2ab6",
       "version_major": 2,
       "version_minor": 0
      },
      "text/plain": [
       "    Epochs (Trial 4 Fold 1):   0%|          | 0/19 [00:00<?, ?it/s]"
      ]
     },
     "metadata": {},
     "output_type": "display_data"
    },
    {
     "data": {
      "application/vnd.jupyter.widget-view+json": {
       "model_id": "c5c6dbdfb4b147bb877ccba5a72507c6",
       "version_major": 2,
       "version_minor": 0
      },
      "text/plain": [
       "    Epochs (Trial 4 Fold 2):   0%|          | 0/19 [00:00<?, ?it/s]"
      ]
     },
     "metadata": {},
     "output_type": "display_data"
    },
    {
     "data": {
      "application/vnd.jupyter.widget-view+json": {
       "model_id": "be36eccc374d43aeac7cb2f582828e04",
       "version_major": 2,
       "version_minor": 0
      },
      "text/plain": [
       "    Epochs (Trial 4 Fold 3):   0%|          | 0/19 [00:00<?, ?it/s]"
      ]
     },
     "metadata": {},
     "output_type": "display_data"
    },
    {
     "data": {
      "application/vnd.jupyter.widget-view+json": {
       "model_id": "6bdfe475398045c981ca125db665a80f",
       "version_major": 2,
       "version_minor": 0
      },
      "text/plain": [
       "    Epochs (Trial 4 Fold 4):   0%|          | 0/19 [00:00<?, ?it/s]"
      ]
     },
     "metadata": {},
     "output_type": "display_data"
    },
    {
     "data": {
      "application/vnd.jupyter.widget-view+json": {
       "model_id": "637ae88b48e943af91f368f125decf55",
       "version_major": 2,
       "version_minor": 0
      },
      "text/plain": [
       "    Epochs (Trial 4 Fold 5):   0%|          | 0/19 [00:00<?, ?it/s]"
      ]
     },
     "metadata": {},
     "output_type": "display_data"
    },
    {
     "name": "stdout",
     "output_type": "stream",
     "text": [
      "[I 2025-06-06 03:19:25,906] Trial 4 finished with value: 94.10052910052909 and parameters: {'learning_rate': 0.001896548858862113, 'batch_size': 8, 'conv1_out_channels': 16, 'conv2_out_channels': 64, 'fc_neurons': 256}. Best is trial 4 with value: 94.10052910052909.\n"
     ]
    },
    {
     "data": {
      "application/vnd.jupyter.widget-view+json": {
       "model_id": "60d22e0ec4534c39beaaa72f560d2ae6",
       "version_major": 2,
       "version_minor": 0
      },
      "text/plain": [
       "CV Folds:   0%|          | 0/5 [00:00<?, ?it/s]"
      ]
     },
     "metadata": {},
     "output_type": "display_data"
    },
    {
     "data": {
      "application/vnd.jupyter.widget-view+json": {
       "model_id": "e74952fde3ed41bdbe39dd5551b04475",
       "version_major": 2,
       "version_minor": 0
      },
      "text/plain": [
       "    Epochs (Trial 5 Fold 1):   0%|          | 0/19 [00:00<?, ?it/s]"
      ]
     },
     "metadata": {},
     "output_type": "display_data"
    },
    {
     "data": {
      "application/vnd.jupyter.widget-view+json": {
       "model_id": "e51a4dd45aee49de817e2fa49bbc2dfe",
       "version_major": 2,
       "version_minor": 0
      },
      "text/plain": [
       "    Epochs (Trial 5 Fold 2):   0%|          | 0/19 [00:00<?, ?it/s]"
      ]
     },
     "metadata": {},
     "output_type": "display_data"
    },
    {
     "data": {
      "application/vnd.jupyter.widget-view+json": {
       "model_id": "e9d5578cd1ec4e888418b10556d1b90b",
       "version_major": 2,
       "version_minor": 0
      },
      "text/plain": [
       "    Epochs (Trial 5 Fold 3):   0%|          | 0/19 [00:00<?, ?it/s]"
      ]
     },
     "metadata": {},
     "output_type": "display_data"
    },
    {
     "data": {
      "application/vnd.jupyter.widget-view+json": {
       "model_id": "9e5e0199ce84440e9fff3ad8a8029717",
       "version_major": 2,
       "version_minor": 0
      },
      "text/plain": [
       "    Epochs (Trial 5 Fold 4):   0%|          | 0/19 [00:00<?, ?it/s]"
      ]
     },
     "metadata": {},
     "output_type": "display_data"
    },
    {
     "data": {
      "application/vnd.jupyter.widget-view+json": {
       "model_id": "c2942d1b6da74bf3972255b8fd3f54b4",
       "version_major": 2,
       "version_minor": 0
      },
      "text/plain": [
       "    Epochs (Trial 5 Fold 5):   0%|          | 0/19 [00:00<?, ?it/s]"
      ]
     },
     "metadata": {},
     "output_type": "display_data"
    },
    {
     "name": "stdout",
     "output_type": "stream",
     "text": [
      "[I 2025-06-06 03:36:26,436] Trial 5 finished with value: 86.74603174603176 and parameters: {'learning_rate': 0.0011809028377759497, 'batch_size': 32, 'conv1_out_channels': 32, 'conv2_out_channels': 128, 'fc_neurons': 128}. Best is trial 4 with value: 94.10052910052909.\n"
     ]
    },
    {
     "data": {
      "application/vnd.jupyter.widget-view+json": {
       "model_id": "a1bb6f823ea349d0b46b67276758430c",
       "version_major": 2,
       "version_minor": 0
      },
      "text/plain": [
       "CV Folds:   0%|          | 0/5 [00:00<?, ?it/s]"
      ]
     },
     "metadata": {},
     "output_type": "display_data"
    },
    {
     "data": {
      "application/vnd.jupyter.widget-view+json": {
       "model_id": "28760c988faa4d91bb54b992ed8ef5f7",
       "version_major": 2,
       "version_minor": 0
      },
      "text/plain": [
       "    Epochs (Trial 6 Fold 1):   0%|          | 0/19 [00:00<?, ?it/s]"
      ]
     },
     "metadata": {},
     "output_type": "display_data"
    },
    {
     "data": {
      "application/vnd.jupyter.widget-view+json": {
       "model_id": "d56d1225bb404a4291afa35fd72a9541",
       "version_major": 2,
       "version_minor": 0
      },
      "text/plain": [
       "    Epochs (Trial 6 Fold 2):   0%|          | 0/19 [00:00<?, ?it/s]"
      ]
     },
     "metadata": {},
     "output_type": "display_data"
    },
    {
     "data": {
      "application/vnd.jupyter.widget-view+json": {
       "model_id": "3fa06bc4b8e74e9fb1c8a46daef0654c",
       "version_major": 2,
       "version_minor": 0
      },
      "text/plain": [
       "    Epochs (Trial 6 Fold 3):   0%|          | 0/19 [00:00<?, ?it/s]"
      ]
     },
     "metadata": {},
     "output_type": "display_data"
    },
    {
     "data": {
      "application/vnd.jupyter.widget-view+json": {
       "model_id": "9bc029ca828645f182dffcd136fdced4",
       "version_major": 2,
       "version_minor": 0
      },
      "text/plain": [
       "    Epochs (Trial 6 Fold 4):   0%|          | 0/19 [00:00<?, ?it/s]"
      ]
     },
     "metadata": {},
     "output_type": "display_data"
    },
    {
     "data": {
      "application/vnd.jupyter.widget-view+json": {
       "model_id": "1d869b71d32b48b6b888afa6fdf9f367",
       "version_major": 2,
       "version_minor": 0
      },
      "text/plain": [
       "    Epochs (Trial 6 Fold 5):   0%|          | 0/19 [00:00<?, ?it/s]"
      ]
     },
     "metadata": {},
     "output_type": "display_data"
    },
    {
     "name": "stdout",
     "output_type": "stream",
     "text": [
      "[I 2025-06-06 03:53:21,056] Trial 6 finished with value: 91.95767195767196 and parameters: {'learning_rate': 0.0012473321576449458, 'batch_size': 16, 'conv1_out_channels': 32, 'conv2_out_channels': 64, 'fc_neurons': 128}. Best is trial 4 with value: 94.10052910052909.\n"
     ]
    },
    {
     "data": {
      "application/vnd.jupyter.widget-view+json": {
       "model_id": "c91d5125f55744ada0c9d0846bebc6a4",
       "version_major": 2,
       "version_minor": 0
      },
      "text/plain": [
       "CV Folds:   0%|          | 0/5 [00:00<?, ?it/s]"
      ]
     },
     "metadata": {},
     "output_type": "display_data"
    },
    {
     "data": {
      "application/vnd.jupyter.widget-view+json": {
       "model_id": "4a2ba9ec86dd4edea7706d0ecc99ce73",
       "version_major": 2,
       "version_minor": 0
      },
      "text/plain": [
       "    Epochs (Trial 7 Fold 1):   0%|          | 0/19 [00:00<?, ?it/s]"
      ]
     },
     "metadata": {},
     "output_type": "display_data"
    },
    {
     "data": {
      "application/vnd.jupyter.widget-view+json": {
       "model_id": "e2ce7d42231949ff85b5c078f9fe5c05",
       "version_major": 2,
       "version_minor": 0
      },
      "text/plain": [
       "    Epochs (Trial 7 Fold 2):   0%|          | 0/19 [00:00<?, ?it/s]"
      ]
     },
     "metadata": {},
     "output_type": "display_data"
    },
    {
     "data": {
      "application/vnd.jupyter.widget-view+json": {
       "model_id": "c63b0448e4b04c60acd1b10ae33e4ce5",
       "version_major": 2,
       "version_minor": 0
      },
      "text/plain": [
       "    Epochs (Trial 7 Fold 3):   0%|          | 0/19 [00:00<?, ?it/s]"
      ]
     },
     "metadata": {},
     "output_type": "display_data"
    },
    {
     "name": "stdout",
     "output_type": "stream",
     "text": [
      "    Trial 7 Fold 3: Early stopping at epoch 16.\n"
     ]
    },
    {
     "data": {
      "application/vnd.jupyter.widget-view+json": {
       "model_id": "31da2203ca0b4c7486083137a1266035",
       "version_major": 2,
       "version_minor": 0
      },
      "text/plain": [
       "    Epochs (Trial 7 Fold 4):   0%|          | 0/19 [00:00<?, ?it/s]"
      ]
     },
     "metadata": {},
     "output_type": "display_data"
    },
    {
     "data": {
      "application/vnd.jupyter.widget-view+json": {
       "model_id": "9bda11507aed47f495d593c72a7bf4a5",
       "version_major": 2,
       "version_minor": 0
      },
      "text/plain": [
       "    Epochs (Trial 7 Fold 5):   0%|          | 0/19 [00:00<?, ?it/s]"
      ]
     },
     "metadata": {},
     "output_type": "display_data"
    },
    {
     "name": "stdout",
     "output_type": "stream",
     "text": [
      "[I 2025-06-06 04:42:03,533] Trial 7 finished with value: 82.43386243386244 and parameters: {'learning_rate': 0.00012990782985710582, 'batch_size': 32, 'conv1_out_channels': 64, 'conv2_out_channels': 128, 'fc_neurons': 128}. Best is trial 4 with value: 94.10052910052909.\n"
     ]
    },
    {
     "data": {
      "application/vnd.jupyter.widget-view+json": {
       "model_id": "b49cea4c3e074654bcba5525965d3309",
       "version_major": 2,
       "version_minor": 0
      },
      "text/plain": [
       "CV Folds:   0%|          | 0/5 [00:00<?, ?it/s]"
      ]
     },
     "metadata": {},
     "output_type": "display_data"
    },
    {
     "data": {
      "application/vnd.jupyter.widget-view+json": {
       "model_id": "edad9f0d54f045c683a001459eca954b",
       "version_major": 2,
       "version_minor": 0
      },
      "text/plain": [
       "    Epochs (Trial 8 Fold 1):   0%|          | 0/19 [00:00<?, ?it/s]"
      ]
     },
     "metadata": {},
     "output_type": "display_data"
    },
    {
     "data": {
      "application/vnd.jupyter.widget-view+json": {
       "model_id": "17e390b69d5946eaaed2ef22c4db352e",
       "version_major": 2,
       "version_minor": 0
      },
      "text/plain": [
       "    Epochs (Trial 8 Fold 2):   0%|          | 0/19 [00:00<?, ?it/s]"
      ]
     },
     "metadata": {},
     "output_type": "display_data"
    },
    {
     "data": {
      "application/vnd.jupyter.widget-view+json": {
       "model_id": "a9d11e66617e48d5896fd4fc11f29837",
       "version_major": 2,
       "version_minor": 0
      },
      "text/plain": [
       "    Epochs (Trial 8 Fold 3):   0%|          | 0/19 [00:00<?, ?it/s]"
      ]
     },
     "metadata": {},
     "output_type": "display_data"
    },
    {
     "data": {
      "application/vnd.jupyter.widget-view+json": {
       "model_id": "71cbd220c09e4f23863a938edd336a1a",
       "version_major": 2,
       "version_minor": 0
      },
      "text/plain": [
       "    Epochs (Trial 8 Fold 4):   0%|          | 0/19 [00:00<?, ?it/s]"
      ]
     },
     "metadata": {},
     "output_type": "display_data"
    },
    {
     "name": "stdout",
     "output_type": "stream",
     "text": [
      "    Trial 8 Fold 4: Early stopping at epoch 16.\n"
     ]
    },
    {
     "data": {
      "application/vnd.jupyter.widget-view+json": {
       "model_id": "a066e3202f8d485fbd98a7f5acdb95e7",
       "version_major": 2,
       "version_minor": 0
      },
      "text/plain": [
       "    Epochs (Trial 8 Fold 5):   0%|          | 0/19 [00:00<?, ?it/s]"
      ]
     },
     "metadata": {},
     "output_type": "display_data"
    },
    {
     "name": "stdout",
     "output_type": "stream",
     "text": [
      "    Trial 8 Fold 5: Early stopping at epoch 15.\n",
      "[I 2025-06-06 04:57:49,034] Trial 8 finished with value: 85.97883597883599 and parameters: {'learning_rate': 0.00013739329298172596, 'batch_size': 32, 'conv1_out_channels': 64, 'conv2_out_channels': 128, 'fc_neurons': 256}. Best is trial 4 with value: 94.10052910052909.\n"
     ]
    },
    {
     "data": {
      "application/vnd.jupyter.widget-view+json": {
       "model_id": "e4c08e29688e42f3b7ac08fa2436b8a9",
       "version_major": 2,
       "version_minor": 0
      },
      "text/plain": [
       "CV Folds:   0%|          | 0/5 [00:00<?, ?it/s]"
      ]
     },
     "metadata": {},
     "output_type": "display_data"
    },
    {
     "data": {
      "application/vnd.jupyter.widget-view+json": {
       "model_id": "4a82dfb3c1744390be32582d3c442a47",
       "version_major": 2,
       "version_minor": 0
      },
      "text/plain": [
       "    Epochs (Trial 9 Fold 1):   0%|          | 0/19 [00:00<?, ?it/s]"
      ]
     },
     "metadata": {},
     "output_type": "display_data"
    },
    {
     "data": {
      "application/vnd.jupyter.widget-view+json": {
       "model_id": "562246bf204e47d29915ecd777eb3131",
       "version_major": 2,
       "version_minor": 0
      },
      "text/plain": [
       "    Epochs (Trial 9 Fold 2):   0%|          | 0/19 [00:00<?, ?it/s]"
      ]
     },
     "metadata": {},
     "output_type": "display_data"
    },
    {
     "name": "stdout",
     "output_type": "stream",
     "text": [
      "    Trial 9 Fold 2: Early stopping at epoch 14.\n"
     ]
    },
    {
     "data": {
      "application/vnd.jupyter.widget-view+json": {
       "model_id": "4508c48aabde4f87bc4d8769ccf389c4",
       "version_major": 2,
       "version_minor": 0
      },
      "text/plain": [
       "    Epochs (Trial 9 Fold 3):   0%|          | 0/19 [00:00<?, ?it/s]"
      ]
     },
     "metadata": {},
     "output_type": "display_data"
    },
    {
     "name": "stdout",
     "output_type": "stream",
     "text": [
      "    Trial 9 Fold 3: Early stopping at epoch 11.\n"
     ]
    },
    {
     "data": {
      "application/vnd.jupyter.widget-view+json": {
       "model_id": "f614c901b2da4cb1b183331f3293eb24",
       "version_major": 2,
       "version_minor": 0
      },
      "text/plain": [
       "    Epochs (Trial 9 Fold 4):   0%|          | 0/19 [00:00<?, ?it/s]"
      ]
     },
     "metadata": {},
     "output_type": "display_data"
    },
    {
     "data": {
      "application/vnd.jupyter.widget-view+json": {
       "model_id": "849d5ca289de4a608369603feeee3377",
       "version_major": 2,
       "version_minor": 0
      },
      "text/plain": [
       "    Epochs (Trial 9 Fold 5):   0%|          | 0/19 [00:00<?, ?it/s]"
      ]
     },
     "metadata": {},
     "output_type": "display_data"
    },
    {
     "name": "stdout",
     "output_type": "stream",
     "text": [
      "[I 2025-06-06 05:12:38,437] Trial 9 finished with value: 83.73015873015872 and parameters: {'learning_rate': 0.006238213268893065, 'batch_size': 16, 'conv1_out_channels': 32, 'conv2_out_channels': 128, 'fc_neurons': 256}. Best is trial 4 with value: 94.10052910052909.\n",
      "\n",
      "Finished Optuna Hyperparameter Search.\n",
      "Best trial number: 4\n",
      "Best Mean CV Accuracy (from Optuna Search): 94.10%\n",
      "Best Hyperparameters (from Optuna Search): {'learning_rate': 0.001896548858862113, 'batch_size': 8, 'conv1_out_channels': 16, 'conv2_out_channels': 64, 'fc_neurons': 256}\n"
     ]
    }
   ],
   "source": [
    "# Device configuration\n",
    "device = get_device()\n",
    "print(f\"Using device for Optuna hyperparameter tuning: {device}\")\n",
    " \n",
    "# Get image dimensions\n",
    "sample_img, _ = train_dataset[0]\n",
    "C, H, W = sample_img.shape\n",
    "print(f\"Image shape: Channels={C}, Height={H}, Width={W}\")\n",
    " \n",
    "num_classes_hp = 2\n",
    "# num_epochs_search = 40 # This was for the old Optuna setup, now we define epochs per fold and for final retraining\n",
    "num_trials_optuna = 10 # Define number of trials for Optuna\n",
    "n_splits_cv_optuna = 5 # Number of folds for cross-validation within Optuna objective\n",
    "num_epochs_cv_optuna = 19 # Number of epochs to train each fold during Optuna CV\n",
    " \n",
    "def stop_when_perfect(study, trial):\n",
    "    if trial.value is not None and trial.value >= 100.0: # Target 100% mean CV accuracy\n",
    "        print(f\"Trial {trial.number} achieved {trial.value} >= 100.0 mean CV accuracy. Stopping study.\")\n",
    "        study.stop()\n",
    " \n",
    "def objective(trial):\n",
    "    # Hyperparameter suggestions\n",
    "    lr = trial.suggest_float(\"learning_rate\", 1e-4, 1e-2, log=True)\n",
    "    batch_size = trial.suggest_categorical(\"batch_size\", [8, 16, 32])\n",
    "    conv1_out = trial.suggest_categorical(\"conv1_out_channels\", [8, 16, 32, 64])\n",
    "    conv2_out = trial.suggest_categorical(\"conv2_out_channels\", [16, 32, 64, 128])\n",
    "    fc_neurons_val = trial.suggest_categorical(\"fc_neurons\", [64, 128, 256])\n",
    " \n",
    "    pin_memory_flag = device.type == 'cuda'\n",
    "    num_workers_flag = 2 if device.type == 'cuda' else 0\n",
    " \n",
    "    kf = KFold(n_splits=n_splits_cv_optuna, shuffle=True, random_state=trial.number)\n",
    "    fold_final_val_accuracies = []\n",
    "   \n",
    "    patience_optuna_fold = 10 # Early stopping patience within each fold's training\n",
    " \n",
    "    for fold_idx, (train_ids, val_ids) in enumerate(tqdm(kf.split(train_dataset), total=n_splits_cv_optuna, desc=\"CV Folds\", leave=True)):        \n",
    "        # print(f\"  Trial {trial.number}, Fold {fold_idx+1}/{n_splits_cv_optuna}\")\n",
    "       \n",
    "        train_subsampler = torch.utils.data.SubsetRandomSampler(train_ids)\n",
    "        val_subsampler = torch.utils.data.SubsetRandomSampler(val_ids)\n",
    " \n",
    "        try:\n",
    "            fold_train_loader = DataLoader(train_dataset, batch_size=batch_size, sampler=train_subsampler, num_workers=num_workers_flag, pin_memory=pin_memory_flag)\n",
    "            fold_val_loader = DataLoader(train_dataset, batch_size=batch_size, sampler=val_subsampler, num_workers=num_workers_flag, pin_memory=pin_memory_flag)\n",
    "        except Exception as e:\n",
    "            print(f\"  Error creating DataLoader for Trial {trial.number}, Fold {fold_idx+1}: {e}. Pruning trial.\")\n",
    "            raise optuna.exceptions.TrialPruned() # Prune if DataLoader fails\n",
    " \n",
    "        model_opt_fold = SimpleCNN(input_channels=C, input_height=H, input_width=W, num_classes=num_classes_hp,\n",
    "                                   conv1_out_channels=conv1_out,\n",
    "                                   conv2_out_channels=conv2_out,\n",
    "                                   fc_neurons=fc_neurons_val).to(device)\n",
    "       \n",
    "        criterion_opt_fold = nn.BCEWithLogitsLoss()\n",
    "        optimizer_opt_fold = optim.Adam(model_opt_fold.parameters(), lr=lr)\n",
    " \n",
    "        fold_epoch_val_accuracies = []\n",
    "        best_fold_val_acc = 0.0\n",
    "        epochs_no_improve_fold = 0\n",
    " \n",
    "\n",
    "        for epoch in tqdm(range(num_epochs_cv_optuna), desc=f\"    Epochs (Trial {trial.number} Fold {fold_idx+1})\", leave=True):\n",
    "            model_opt_fold.train()\n",
    "            # epoch_running_loss = 0.0 # Not strictly needed for objective's return value\n",
    "            for images, labels in fold_train_loader:\n",
    "                images, labels = images.to(device), labels.to(device).float().unsqueeze(1)\n",
    "                optimizer_opt_fold.zero_grad(set_to_none=True)\n",
    "                loss = criterion_opt_fold(model_opt_fold(images), labels)\n",
    "                loss.backward()\n",
    "                optimizer_opt_fold.step()\n",
    "                # epoch_running_loss += loss.item() * images.size(0)\n",
    " \n",
    "            model_opt_fold.eval()\n",
    "            val_correct = 0\n",
    "            val_total = 0\n",
    "            with torch.no_grad():\n",
    "                for images, labels in fold_val_loader:\n",
    "                    images, labels = images.to(device), labels.to(device).float().unsqueeze(1)\n",
    "                    outputs = model_opt_fold(images)\n",
    "                    predicted = (torch.sigmoid(outputs) > 0.5).float()\n",
    "                    val_total += labels.size(0)\n",
    "                    val_correct += (predicted == labels).sum().item()\n",
    "           \n",
    "            current_fold_epoch_val_accuracy = 100 * val_correct / val_total if val_total > 0 else 0.0\n",
    "            fold_epoch_val_accuracies.append(current_fold_epoch_val_accuracy)\n",
    " \n",
    "            if current_fold_epoch_val_accuracy > best_fold_val_acc:\n",
    "                best_fold_val_acc = current_fold_epoch_val_accuracy\n",
    "                epochs_no_improve_fold = 0\n",
    "            else:\n",
    "                epochs_no_improve_fold += 1\n",
    "           \n",
    "            if epochs_no_improve_fold >= patience_optuna_fold:\n",
    "                print(f\"    Trial {trial.number} Fold {fold_idx+1}: Early stopping at epoch {epoch+1}.\")\n",
    "                break\n",
    "       \n",
    "        fold_final_val_accuracies.append(best_fold_val_acc if fold_epoch_val_accuracies else 0.0)\n",
    "       \n",
    "        # Report intermediate value (current fold's best accuracy) to Optuna for pruning\n",
    "        trial.report(best_fold_val_acc, fold_idx)\n",
    "        if trial.should_prune():\n",
    "            print(f\"    Trial {trial.number} Fold {fold_idx+1}: Pruned by Optuna.\")\n",
    "            del model_opt_fold, optimizer_opt_fold, criterion_opt_fold, fold_train_loader, fold_val_loader\n",
    "            if device.type == \"mps\": torch.mps.empty_cache()\n",
    "            elif device.type == \"cuda\": torch.cuda.empty_cache()\n",
    "            gc.collect()\n",
    "            raise optuna.exceptions.TrialPruned()\n",
    " \n",
    "        del model_opt_fold, optimizer_opt_fold, criterion_opt_fold, fold_train_loader, fold_val_loader\n",
    "        if device.type == \"mps\": torch.mps.empty_cache()\n",
    "        elif device.type == \"cuda\": torch.cuda.empty_cache()\n",
    "        gc.collect()\n",
    " \n",
    "    mean_cv_accuracy = np.mean(fold_final_val_accuracies) if fold_final_val_accuracies else 0.0\n",
    "    return mean_cv_accuracy\n",
    " \n",
    "# Create a study object and optimize\n",
    "study = optuna.create_study(direction=\"maximize\",\n",
    "                            pruner=optuna.pruners.MedianPruner(n_startup_trials=3, n_warmup_steps=1, interval_steps=1)) # Adjust pruner\n",
    "study.optimize(objective, n_trials=num_trials_optuna, gc_after_trial=True, callbacks=[stop_when_perfect], show_progress_bar=True)\n",
    " \n",
    "print(\"\\nFinished Optuna Hyperparameter Search.\")\n",
    "if study.best_trial:\n",
    "    best_trial_optuna = study.best_trial\n",
    "    best_hyperparams_optuna = best_trial_optuna.params\n",
    "    best_avg_cv_accuracy_optuna = best_trial_optuna.value # This is the mean CV accuracy\n",
    "    print(f\"Best trial number: {best_trial_optuna.number}\")\n",
    "    print(f\"Best Mean CV Accuracy (from Optuna Search): {best_avg_cv_accuracy_optuna:.2f}%\")\n",
    "    print(f\"Best Hyperparameters (from Optuna Search): {best_hyperparams_optuna}\")\n",
    "else:\n",
    "    print(\"Optuna search did not yield a best trial (e.g., all trials pruned or failed).\")\n",
    "    best_hyperparams_optuna = None\n",
    "    best_avg_cv_accuracy_optuna = -1.0\n",
    " \n",
    "# These will be populated by the retraining step later\n",
    "optuna_final_model_train_losses = []\n",
    "optuna_final_model_train_accuracies = []\n",
    "optuna_final_model_test_accuracies = []"
   ]
  },
  {
   "cell_type": "code",
   "execution_count": 14,
   "id": "3c9afd87",
   "metadata": {},
   "outputs": [
    {
     "name": "stdout",
     "output_type": "stream",
     "text": [
      "\n",
      "Retraining best Optuna model with hyperparameters: {'learning_rate': 0.001896548858862113, 'batch_size': 8, 'conv1_out_channels': 16, 'conv2_out_channels': 64, 'fc_neurons': 256}\n",
      "Target Mean CV Accuracy was: 94.10%\n"
     ]
    },
    {
     "data": {
      "application/vnd.jupyter.widget-view+json": {
       "model_id": "f7549aa0f5814ddf9b4419667bccd3ec",
       "version_major": 2,
       "version_minor": 0
      },
      "text/plain": [
       "Optuna Final Model Retraining:   0%|          | 0/25 [00:00<?, ?epoch/s]"
      ]
     },
     "metadata": {},
     "output_type": "display_data"
    },
    {
     "name": "stdout",
     "output_type": "stream",
     "text": [
      "  Epoch 1/25 - Train Loss: 0.7044, Train Acc: 50.00%, Test Acc: 50.00%\n",
      "  Epoch 2/25 - Train Loss: 0.6836, Train Acc: 55.15%, Test Acc: 50.00%\n",
      "  Epoch 3/25 - Train Loss: 0.6309, Train Acc: 80.15%, Test Acc: 64.71%\n",
      "  Epoch 4/25 - Train Loss: 0.5734, Train Acc: 75.00%, Test Acc: 47.06%\n",
      "  Epoch 5/25 - Train Loss: 0.5988, Train Acc: 69.12%, Test Acc: 73.53%\n",
      "  Epoch 6/25 - Train Loss: 0.5518, Train Acc: 68.38%, Test Acc: 55.88%\n",
      "  Epoch 7/25 - Train Loss: 0.5496, Train Acc: 76.47%, Test Acc: 47.06%\n",
      "  Epoch 8/25 - Train Loss: 0.4731, Train Acc: 70.59%, Test Acc: 47.06%\n",
      "  Epoch 9/25 - Train Loss: 0.4738, Train Acc: 78.68%, Test Acc: 73.53%\n",
      "  Epoch 10/25 - Train Loss: 0.5221, Train Acc: 83.09%, Test Acc: 61.76%\n",
      "  Epoch 11/25 - Train Loss: 0.4339, Train Acc: 80.88%, Test Acc: 64.71%\n",
      "  Epoch 12/25 - Train Loss: 0.4051, Train Acc: 87.50%, Test Acc: 70.59%\n",
      "  Epoch 13/25 - Train Loss: 0.3763, Train Acc: 91.18%, Test Acc: 76.47%\n",
      "  Epoch 14/25 - Train Loss: 0.3559, Train Acc: 75.00%, Test Acc: 73.53%\n",
      "  Epoch 15/25 - Train Loss: 0.3801, Train Acc: 73.53%, Test Acc: 61.76%\n",
      "  Epoch 16/25 - Train Loss: 0.3670, Train Acc: 85.29%, Test Acc: 76.47%\n",
      "  Epoch 17/25 - Train Loss: 0.3065, Train Acc: 87.50%, Test Acc: 67.65%\n",
      "  Epoch 18/25 - Train Loss: 0.2930, Train Acc: 86.03%, Test Acc: 76.47%\n",
      "  Epoch 19/25 - Train Loss: 0.2836, Train Acc: 88.97%, Test Acc: 82.35%\n",
      "  Epoch 20/25 - Train Loss: 0.3254, Train Acc: 91.91%, Test Acc: 79.41%\n",
      "  Epoch 21/25 - Train Loss: 0.2619, Train Acc: 88.97%, Test Acc: 79.41%\n",
      "  Epoch 22/25 - Train Loss: 0.2753, Train Acc: 92.65%, Test Acc: 79.41%\n",
      "  Epoch 23/25 - Train Loss: 0.2908, Train Acc: 88.24%, Test Acc: 79.41%\n",
      "  Epoch 24/25 - Train Loss: 0.2357, Train Acc: 94.85%, Test Acc: 88.24%\n",
      "  Epoch 25/25 - Train Loss: 0.1886, Train Acc: 94.85%, Test Acc: 88.24%\n",
      "Best Optuna retrained model saved to best_optuna_retrained_cnn_model.pth\n",
      "Final Test Accuracy of retrained Optuna model: 88.24%\n"
     ]
    }
   ],
   "source": [
    "num_epochs_final_retrain_optuna = 25 # Define how many epochs for final retraining\n",
    " \n",
    "optuna_final_model_train_losses = []\n",
    "optuna_final_model_train_accuracies = []\n",
    "optuna_final_model_test_accuracies = [] # Test accuracies for the retrained Optuna model\n",
    " \n",
    "if best_hyperparams_optuna:\n",
    "    print(f\"\\nRetraining best Optuna model with hyperparameters: {best_hyperparams_optuna}\")\n",
    "    print(f\"Target Mean CV Accuracy was: {best_avg_cv_accuracy_optuna:.2f}%\")\n",
    " \n",
    "    pin_memory_flag = device.type == 'cuda'\n",
    "    num_workers_flag = 2 if device.type == 'cuda' else 0\n",
    " \n",
    "    # DataLoaders for final retraining (full train, full test)\n",
    "    final_train_loader_optuna = DataLoader(train_dataset, batch_size=best_hyperparams_optuna['batch_size'], shuffle=True, num_workers=num_workers_flag, pin_memory=pin_memory_flag)\n",
    "    final_test_loader_optuna = DataLoader(test_dataset, batch_size=best_hyperparams_optuna['batch_size'], shuffle=False, num_workers=num_workers_flag, pin_memory=pin_memory_flag)\n",
    " \n",
    "    # Model instantiation\n",
    "    final_model_optuna = SimpleCNN(input_channels=C, input_height=H, input_width=W, num_classes=num_classes_hp,\n",
    "                                   conv1_out_channels=best_hyperparams_optuna['conv1_out_channels'],\n",
    "                                   conv2_out_channels=best_hyperparams_optuna['conv2_out_channels'],\n",
    "                                   fc_neurons=best_hyperparams_optuna['fc_neurons']).to(device)\n",
    "   \n",
    "    criterion_final_optuna = nn.BCEWithLogitsLoss()\n",
    "    optimizer_final_optuna = optim.Adam(final_model_optuna.parameters(), lr=best_hyperparams_optuna['learning_rate'])\n",
    " \n",
    "    for epoch in tqdm(range(num_epochs_final_retrain_optuna), desc=\"Optuna Final Model Retraining\", unit=\"epoch\"):\n",
    "        final_model_optuna.train()\n",
    "        running_loss = 0.0\n",
    "        for images, labels in final_train_loader_optuna:\n",
    "            images, labels = images.to(device), labels.to(device).float().unsqueeze(1)\n",
    "            optimizer_final_optuna.zero_grad()\n",
    "            outputs = final_model_optuna(images)\n",
    "            loss = criterion_final_optuna(outputs, labels)\n",
    "            loss.backward()\n",
    "            optimizer_final_optuna.step()\n",
    "            running_loss += loss.item() * images.size(0)\n",
    "       \n",
    "        avg_epoch_loss = running_loss / len(final_train_loader_optuna.dataset)\n",
    "        optuna_final_model_train_losses.append(avg_epoch_loss)\n",
    " \n",
    "        # Evaluate on the training set for training accuracy\n",
    "        final_model_optuna.eval()\n",
    "        train_correct = 0\n",
    "        train_total = 0\n",
    "        with torch.no_grad():\n",
    "            for images_train, labels_train in final_train_loader_optuna: # Use the same train loader\n",
    "                images_train, labels_train = images_train.to(device), labels_train.to(device).float().unsqueeze(1)\n",
    "                outputs_train = final_model_optuna(images_train)\n",
    "                predicted_train = (torch.sigmoid(outputs_train) > 0.5).float()\n",
    "                train_total += labels_train.size(0)\n",
    "                train_correct += (predicted_train == labels_train).sum().item()\n",
    "        current_train_accuracy = 100 * train_correct / train_total if train_total > 0 else 0.0\n",
    "        optuna_final_model_train_accuracies.append(current_train_accuracy)\n",
    " \n",
    "        # Evaluate on the test set for test accuracy\n",
    "        test_correct = 0\n",
    "        test_total = 0\n",
    "        with torch.no_grad():\n",
    "            for images_test, labels_test in final_test_loader_optuna:\n",
    "                images_test, labels_test = images_test.to(device), labels_test.to(device).float().unsqueeze(1)\n",
    "                outputs_test = final_model_optuna(images_test)\n",
    "                predicted_test = (torch.sigmoid(outputs_test) > 0.5).float()\n",
    "                test_total += labels_test.size(0)\n",
    "                test_correct += (predicted_test == labels_test).sum().item()\n",
    "        current_test_accuracy = 100 * test_correct / test_total if test_total > 0 else 0.0\n",
    "        optuna_final_model_test_accuracies.append(current_test_accuracy)\n",
    "       \n",
    "        print(f\"  Epoch {epoch+1}/{num_epochs_final_retrain_optuna} - Train Loss: {avg_epoch_loss:.4f}, Train Acc: {current_train_accuracy:.2f}%, Test Acc: {current_test_accuracy:.2f}%\")\n",
    " \n",
    "        if device.type == \"mps\": torch.mps.empty_cache()\n",
    "        elif device.type == \"cuda\": torch.cuda.empty_cache()\n",
    "        gc.collect()\n",
    " \n",
    "    best_optuna_retrained_model_path = \"best_optuna_retrained_cnn_model.pth\"\n",
    "    torch.save(final_model_optuna.state_dict(), best_optuna_retrained_model_path)\n",
    "    print(f\"Best Optuna retrained model saved to {best_optuna_retrained_model_path}\")\n",
    "    if optuna_final_model_test_accuracies:\n",
    "        print(f\"Final Test Accuracy of retrained Optuna model: {optuna_final_model_test_accuracies[-1]:.2f}%\")\n",
    " \n",
    "else:\n",
    "    print(\"No best hyperparameters found by Optuna to retrain.\")\n",
    " "
   ]
  },
  {
   "cell_type": "code",
   "execution_count": 15,
   "id": "63be566b",
   "metadata": {},
   "outputs": [
    {
     "data": {
      "image/png": "[encoded data removed]",
      "text/plain": [
       "<Figure size 1000x600 with 1 Axes>"
      ]
     },
     "metadata": {},
     "output_type": "display_data"
    },
    {
     "name": "stdout",
     "output_type": "stream",
     "text": [
      "\n",
      "Plotting learning curves for the retrained Optuna model:\n",
      "Best Hyperparameters (from Optuna Search): {'learning_rate': 0.001896548858862113, 'batch_size': 8, 'conv1_out_channels': 16, 'conv2_out_channels': 64, 'fc_neurons': 256}\n",
      "Achieved Mean CV Accuracy during search: 94.10%\n",
      "Final Test Accuracy of retrained model: 88.24%\n",
      "Final Training Accuracy of retrained model: 94.85%\n",
      "Number of epochs for final retraining: 25\n"
     ]
    },
    {
     "data": {
      "image/png": "[encoded data removed]",
      "text/plain": [
       "<Figure size 1800x500 with 3 Axes>"
      ]
     },
     "metadata": {},
     "output_type": "display_data"
    }
   ],
   "source": [
    "# Plot Mean CV Accuracy per Optuna Trial\n",
    "if study and study.trials:\n",
    "    completed_trials = [t for t in study.trials if t.state == optuna.trial.TrialState.COMPLETE]\n",
    "    if completed_trials:\n",
    "        trial_numbers = [t.number for t in completed_trials]\n",
    "        mean_cv_accuracies = [t.value for t in completed_trials] # t.value is the mean_cv_accuracy\n",
    " \n",
    "        plt.figure(figsize=(10, 6))\n",
    "        plt.plot(trial_numbers, mean_cv_accuracies, marker='o', linestyle='-')\n",
    "        plt.title(\"Mean Cross-Validation Accuracy per Optuna Trial\")\n",
    "        plt.xlabel(\"Trial Number\")\n",
    "        plt.ylabel(\"Mean CV Accuracy (%)\")\n",
    "        # plt.xticks(trial_numbers) # Can be too crowded if many trials\n",
    "        plt.grid(True)\n",
    "        plt.ylim(min(0, np.min(mean_cv_accuracies)-5 if mean_cv_accuracies else 0), 101)\n",
    "        plt.show()\n",
    "    else:\n",
    "        print(\"No completed Optuna trials to plot CV accuracy for.\")\n",
    "else:\n",
    "    print(\"Optuna study object not available or no trials run.\")\n",
    " \n",
    "# Plotting learning curves for the FINAL RETRAINED best model from Optuna\n",
    "print(f\"\\nPlotting learning curves for the retrained Optuna model:\")\n",
    "if best_hyperparams_optuna:\n",
    "    print(f\"Best Hyperparameters (from Optuna Search): {best_hyperparams_optuna}\")\n",
    "    print(f\"Achieved Mean CV Accuracy during search: {best_avg_cv_accuracy_optuna:.2f}%\")\n",
    "    if optuna_final_model_test_accuracies:\n",
    "         print(f\"Final Test Accuracy of retrained model: {optuna_final_model_test_accuracies[-1]:.2f}%\")\n",
    "    if optuna_final_model_train_accuracies:\n",
    "        print(f\"Final Training Accuracy of retrained model: {optuna_final_model_train_accuracies[-1]:.2f}%\")\n",
    "    print(f\"Number of epochs for final retraining: {num_epochs_final_retrain_optuna}\")\n",
    "else:\n",
    "    print(\"No best Optuna model was retrained.\")\n",
    " \n",
    "optuna_epochs_retrain = list(range(1, len(optuna_final_model_train_losses) + 1))\n",
    " \n",
    "if optuna_final_model_train_losses and optuna_final_model_train_accuracies and optuna_final_model_test_accuracies:\n",
    "    plt.figure(figsize=(18, 5)) # Adjusted figure size for three subplots\n",
    " \n",
    "    plt.subplot(1, 3, 1)\n",
    "    plt.plot(optuna_epochs_retrain, optuna_final_model_train_losses, label='Final Optuna Model Training Loss')\n",
    "    plt.xlabel('Epoch')\n",
    "    plt.ylabel('Loss')\n",
    "    plt.title('Final Optuna Model - Training Loss')\n",
    "    plt.legend()\n",
    " \n",
    "    plt.subplot(1, 3, 2)\n",
    "    plt.plot(optuna_epochs_retrain, optuna_final_model_train_accuracies, label='Final Optuna Model Training Accuracy', color='green')\n",
    "    plt.xlabel('Epoch')\n",
    "    plt.ylabel('Accuracy (%)')\n",
    "    plt.title('Final Optuna Model - Training Accuracy')\n",
    "    plt.legend()\n",
    "    plt.ylim(0, 101)\n",
    " \n",
    "    plt.subplot(1, 3, 3)\n",
    "    plt.plot(optuna_epochs_retrain, optuna_final_model_test_accuracies, label='Final Optuna Model Test Accuracy', color='red')\n",
    "    plt.xlabel('Epoch')\n",
    "    plt.ylabel('Accuracy (%)')\n",
    "    plt.title('Final Optuna Model - Test Accuracy')\n",
    "    plt.legend()\n",
    "    plt.ylim(0, 101)\n",
    " \n",
    "    plt.tight_layout()\n",
    "    plt.show()\n",
    "else:\n",
    "    print(\"Learning curve data for the final retrained Optuna model is not available or incomplete.\")\n",
    " "
   ]
  },
  {
   "cell_type": "code",
   "execution_count": 16,
   "id": "6c719e72",
   "metadata": {},
   "outputs": [
    {
     "data": {
      "application/vnd.plotly.v1+json": {
       "config": {
        "plotlyServerURL": "https://plot.ly"
       },
       "data": [
        {
         "mode": "markers",
         "name": "Objective Value",
         "type": "scatter",
         "x": [
          0,
          1,
          2,
          3,
          4,
          5,
          6,
          7,
          8,
          9
         ],
         "y": [
          65.63492063492063,
          66.74603174603176,
          89.02116402116403,
          81.50793650793652,
          94.10052910052909,
          86.74603174603176,
          91.95767195767196,
          82.43386243386244,
          85.97883597883599,
          83.73015873015872
         ]
        },
        {
         "mode": "lines",
         "name": "Best Value",
         "type": "scatter",
         "x": [
          0,
          1,
          2,
          3,
          4,
          5,
          6,
          7,
          8,
          9
         ],
         "y": [
          65.63492063492063,
          66.74603174603176,
          89.02116402116403,
          89.02116402116403,
          94.10052910052909,
          94.10052910052909,
          94.10052910052909,
          94.10052910052909,
          94.10052910052909,
          94.10052910052909
         ]
        },
        {
         "marker": {
          "color": "#cccccc"
         },
         "mode": "markers",
         "name": "Infeasible Trial",
         "showlegend": false,
         "type": "scatter",
         "x": [],
         "y": []
        }
       ],
       "layout": {
        "template": {
         "data": {
          "bar": [
           {
            "error_x": {
             "color": "#2a3f5f"
            },
            "error_y": {
             "color": "#2a3f5f"
            },
            "marker": {
             "line": {
              "color": "#E5ECF6",
              "width": 0.5
             },
             "pattern": {
              "fillmode": "overlay",
              "size": 10,
              "solidity": 0.2
             }
            },
            "type": "bar"
           }
          ],
          "barpolar": [
           {
            "marker": {
             "line": {
              "color": "#E5ECF6",
              "width": 0.5
             },
             "pattern": {
              "fillmode": "overlay",
              "size": 10,
              "solidity": 0.2
             }
            },
            "type": "barpolar"
           }
          ],
          "carpet": [
           {
            "aaxis": {
             "endlinecolor": "#2a3f5f",
             "gridcolor": "white",
             "linecolor": "white",
             "minorgridcolor": "white",
             "startlinecolor": "#2a3f5f"
            },
            "baxis": {
             "endlinecolor": "#2a3f5f",
             "gridcolor": "white",
             "linecolor": "white",
             "minorgridcolor": "white",
             "startlinecolor": "#2a3f5f"
            },
            "type": "carpet"
           }
          ],
          "choropleth": [
           {
            "colorbar": {
             "outlinewidth": 0,
             "ticks": ""
            },
            "type": "choropleth"
           }
          ],
          "contour": [
           {
            "colorbar": {
             "outlinewidth": 0,
             "ticks": ""
            },
            "colorscale": [
             [
              0,
              "#0d0887"
             ],
             [
              0.1111111111111111,
              "#46039f"
             ],
             [
              0.2222222222222222,
              "#7201a8"
             ],
             [
              0.3333333333333333,
              "#9c179e"
             ],
             [
              0.4444444444444444,
              "#bd3786"
             ],
             [
              0.5555555555555556,
              "#d8576b"
             ],
             [
              0.6666666666666666,
              "#ed7953"
             ],
             [
              0.7777777777777778,
              "#fb9f3a"
             ],
             [
              0.8888888888888888,
              "#fdca26"
             ],
             [
              1,
              "#f0f921"
             ]
            ],
            "type": "contour"
           }
          ],
          "contourcarpet": [
           {
            "colorbar": {
             "outlinewidth": 0,
             "ticks": ""
            },
            "type": "contourcarpet"
           }
          ],
          "heatmap": [
           {
            "colorbar": {
             "outlinewidth": 0,
             "ticks": ""
            },
            "colorscale": [
             [
              0,
              "#0d0887"
             ],
             [
              0.1111111111111111,
              "#46039f"
             ],
             [
              0.2222222222222222,
              "#7201a8"
             ],
             [
              0.3333333333333333,
              "#9c179e"
             ],
             [
              0.4444444444444444,
              "#bd3786"
             ],
             [
              0.5555555555555556,
              "#d8576b"
             ],
             [
              0.6666666666666666,
              "#ed7953"
             ],
             [
              0.7777777777777778,
              "#fb9f3a"
             ],
             [
              0.8888888888888888,
              "#fdca26"
             ],
             [
              1,
              "#f0f921"
             ]
            ],
            "type": "heatmap"
           }
          ],
          "histogram": [
           {
            "marker": {
             "pattern": {
              "fillmode": "overlay",
              "size": 10,
              "solidity": 0.2
             }
            },
            "type": "histogram"
           }
          ],
          "histogram2d": [
           {
            "colorbar": {
             "outlinewidth": 0,
             "ticks": ""
            },
            "colorscale": [
             [
              0,
              "#0d0887"
             ],
             [
              0.1111111111111111,
              "#46039f"
             ],
             [
              0.2222222222222222,
              "#7201a8"
             ],
             [
              0.3333333333333333,
              "#9c179e"
             ],
             [
              0.4444444444444444,
              "#bd3786"
             ],
             [
              0.5555555555555556,
              "#d8576b"
             ],
             [
              0.6666666666666666,
              "#ed7953"
             ],
             [
              0.7777777777777778,
              "#fb9f3a"
             ],
             [
              0.8888888888888888,
              "#fdca26"
             ],
             [
              1,
              "#f0f921"
             ]
            ],
            "type": "histogram2d"
           }
          ],
          "histogram2dcontour": [
           {
            "colorbar": {
             "outlinewidth": 0,
             "ticks": ""
            },
            "colorscale": [
             [
              0,
              "#0d0887"
             ],
             [
              0.1111111111111111,
              "#46039f"
             ],
             [
              0.2222222222222222,
              "#7201a8"
             ],
             [
              0.3333333333333333,
              "#9c179e"
             ],
             [
              0.4444444444444444,
              "#bd3786"
             ],
             [
              0.5555555555555556,
              "#d8576b"
             ],
             [
              0.6666666666666666,
              "#ed7953"
             ],
             [
              0.7777777777777778,
              "#fb9f3a"
             ],
             [
              0.8888888888888888,
              "#fdca26"
             ],
             [
              1,
              "#f0f921"
             ]
            ],
            "type": "histogram2dcontour"
           }
          ],
          "mesh3d": [
           {
            "colorbar": {
             "outlinewidth": 0,
             "ticks": ""
            },
            "type": "mesh3d"
           }
          ],
          "parcoords": [
           {
            "line": {
             "colorbar": {
              "outlinewidth": 0,
              "ticks": ""
             }
            },
            "type": "parcoords"
           }
          ],
          "pie": [
           {
            "automargin": true,
            "type": "pie"
           }
          ],
          "scatter": [
           {
            "fillpattern": {
             "fillmode": "overlay",
             "size": 10,
             "solidity": 0.2
            },
            "type": "scatter"
           }
          ],
          "scatter3d": [
           {
            "line": {
             "colorbar": {
              "outlinewidth": 0,
              "ticks": ""
             }
            },
            "marker": {
             "colorbar": {
              "outlinewidth": 0,
              "ticks": ""
             }
            },
            "type": "scatter3d"
           }
          ],
          "scattercarpet": [
           {
            "marker": {
             "colorbar": {
              "outlinewidth": 0,
              "ticks": ""
             }
            },
            "type": "scattercarpet"
           }
          ],
          "scattergeo": [
           {
            "marker": {
             "colorbar": {
              "outlinewidth": 0,
              "ticks": ""
             }
            },
            "type": "scattergeo"
           }
          ],
          "scattergl": [
           {
            "marker": {
             "colorbar": {
              "outlinewidth": 0,
              "ticks": ""
             }
            },
            "type": "scattergl"
           }
          ],
          "scattermap": [
           {
            "marker": {
             "colorbar": {
              "outlinewidth": 0,
              "ticks": ""
             }
            },
            "type": "scattermap"
           }
          ],
          "scattermapbox": [
           {
            "marker": {
             "colorbar": {
              "outlinewidth": 0,
              "ticks": ""
             }
            },
            "type": "scattermapbox"
           }
          ],
          "scatterpolar": [
           {
            "marker": {
             "colorbar": {
              "outlinewidth": 0,
              "ticks": ""
             }
            },
            "type": "scatterpolar"
           }
          ],
          "scatterpolargl": [
           {
            "marker": {
             "colorbar": {
              "outlinewidth": 0,
              "ticks": ""
             }
            },
            "type": "scatterpolargl"
           }
          ],
          "scatterternary": [
           {
            "marker": {
             "colorbar": {
              "outlinewidth": 0,
              "ticks": ""
             }
            },
            "type": "scatterternary"
           }
          ],
          "surface": [
           {
            "colorbar": {
             "outlinewidth": 0,
             "ticks": ""
            },
            "colorscale": [
             [
              0,
              "#0d0887"
             ],
             [
              0.1111111111111111,
              "#46039f"
             ],
             [
              0.2222222222222222,
              "#7201a8"
             ],
             [
              0.3333333333333333,
              "#9c179e"
             ],
             [
              0.4444444444444444,
              "#bd3786"
             ],
             [
              0.5555555555555556,
              "#d8576b"
             ],
             [
              0.6666666666666666,
              "#ed7953"
             ],
             [
              0.7777777777777778,
              "#fb9f3a"
             ],
             [
              0.8888888888888888,
              "#fdca26"
             ],
             [
              1,
              "#f0f921"
             ]
            ],
            "type": "surface"
           }
          ],
          "table": [
           {
            "cells": {
             "fill": {
              "color": "#EBF0F8"
             },
             "line": {
              "color": "white"
             }
            },
            "header": {
             "fill": {
              "color": "#C8D4E3"
             },
             "line": {
              "color": "white"
             }
            },
            "type": "table"
           }
          ]
         },
         "layout": {
          "annotationdefaults": {
           "arrowcolor": "#2a3f5f",
           "arrowhead": 0,
           "arrowwidth": 1
          },
          "autotypenumbers": "strict",
          "coloraxis": {
           "colorbar": {
            "outlinewidth": 0,
            "ticks": ""
           }
          },
          "colorscale": {
           "diverging": [
            [
             0,
             "#8e0152"
            ],
            [
             0.1,
             "#c51b7d"
            ],
            [
             0.2,
             "#de77ae"
            ],
            [
             0.3,
             "#f1b6da"
            ],
            [
             0.4,
             "#fde0ef"
            ],
            [
             0.5,
             "#f7f7f7"
            ],
            [
             0.6,
             "#e6f5d0"
            ],
            [
             0.7,
             "#b8e186"
            ],
            [
             0.8,
             "#7fbc41"
            ],
            [
             0.9,
             "#4d9221"
            ],
            [
             1,
             "#276419"
            ]
           ],
           "sequential": [
            [
             0,
             "#0d0887"
            ],
            [
             0.1111111111111111,
             "#46039f"
            ],
            [
             0.2222222222222222,
             "#7201a8"
            ],
            [
             0.3333333333333333,
             "#9c179e"
            ],
            [
             0.4444444444444444,
             "#bd3786"
            ],
            [
             0.5555555555555556,
             "#d8576b"
            ],
            [
             0.6666666666666666,
             "#ed7953"
            ],
            [
             0.7777777777777778,
             "#fb9f3a"
            ],
            [
             0.8888888888888888,
             "#fdca26"
            ],
            [
             1,
             "#f0f921"
            ]
           ],
           "sequentialminus": [
            [
             0,
             "#0d0887"
            ],
            [
             0.1111111111111111,
             "#46039f"
            ],
            [
             0.2222222222222222,
             "#7201a8"
            ],
            [
             0.3333333333333333,
             "#9c179e"
            ],
            [
             0.4444444444444444,
             "#bd3786"
            ],
            [
             0.5555555555555556,
             "#d8576b"
            ],
            [
             0.6666666666666666,
             "#ed7953"
            ],
            [
             0.7777777777777778,
             "#fb9f3a"
            ],
            [
             0.8888888888888888,
             "#fdca26"
            ],
            [
             1,
             "#f0f921"
            ]
           ]
          },
          "colorway": [
           "#636efa",
           "#EF553B",
           "#00cc96",
           "#ab63fa",
           "#FFA15A",
           "#19d3f3",
           "#FF6692",
           "#B6E880",
           "#FF97FF",
           "#FECB52"
          ],
          "font": {
           "color": "#2a3f5f"
          },
          "geo": {
           "bgcolor": "white",
           "lakecolor": "white",
           "landcolor": "#E5ECF6",
           "showlakes": true,
           "showland": true,
           "subunitcolor": "white"
          },
          "hoverlabel": {
           "align": "left"
          },
          "hovermode": "closest",
          "mapbox": {
           "style": "light"
          },
          "paper_bgcolor": "white",
          "plot_bgcolor": "#E5ECF6",
          "polar": {
           "angularaxis": {
            "gridcolor": "white",
            "linecolor": "white",
            "ticks": ""
           },
           "bgcolor": "#E5ECF6",
           "radialaxis": {
            "gridcolor": "white",
            "linecolor": "white",
            "ticks": ""
           }
          },
          "scene": {
           "xaxis": {
            "backgroundcolor": "#E5ECF6",
            "gridcolor": "white",
            "gridwidth": 2,
            "linecolor": "white",
            "showbackground": true,
            "ticks": "",
            "zerolinecolor": "white"
           },
           "yaxis": {
            "backgroundcolor": "#E5ECF6",
            "gridcolor": "white",
            "gridwidth": 2,
            "linecolor": "white",
            "showbackground": true,
            "ticks": "",
            "zerolinecolor": "white"
           },
           "zaxis": {
            "backgroundcolor": "#E5ECF6",
            "gridcolor": "white",
            "gridwidth": 2,
            "linecolor": "white",
            "showbackground": true,
            "ticks": "",
            "zerolinecolor": "white"
           }
          },
          "shapedefaults": {
           "line": {
            "color": "#2a3f5f"
           }
          },
          "ternary": {
           "aaxis": {
            "gridcolor": "white",
            "linecolor": "white",
            "ticks": ""
           },
           "baxis": {
            "gridcolor": "white",
            "linecolor": "white",
            "ticks": ""
           },
           "bgcolor": "#E5ECF6",
           "caxis": {
            "gridcolor": "white",
            "linecolor": "white",
            "ticks": ""
           }
          },
          "title": {
           "x": 0.05
          },
          "xaxis": {
           "automargin": true,
           "gridcolor": "white",
           "linecolor": "white",
           "ticks": "",
           "title": {
            "standoff": 15
           },
           "zerolinecolor": "white",
           "zerolinewidth": 2
          },
          "yaxis": {
           "automargin": true,
           "gridcolor": "white",
           "linecolor": "white",
           "ticks": "",
           "title": {
            "standoff": 15
           },
           "zerolinecolor": "white",
           "zerolinewidth": 2
          }
         }
        },
        "title": {
         "text": "Optimization History Plot"
        },
        "xaxis": {
         "title": {
          "text": "Trial"
         }
        },
        "yaxis": {
         "title": {
          "text": "Objective Value"
         }
        }
       }
      }
     },
     "metadata": {},
     "output_type": "display_data"
    }
   ],
   "source": [
    "fig1 = plot_optimization_history(study)\n",
    "fig1.show()  # in Jupyter this will render an interactive Plotly chart\n"
   ]
  },
  {
   "cell_type": "code",
   "execution_count": 17,
   "id": "7100d8be",
   "metadata": {},
   "outputs": [
    {
     "data": {
      "application/vnd.plotly.v1+json": {
       "config": {
        "plotlyServerURL": "https://plot.ly"
       },
       "data": [
        {
         "cliponaxis": false,
         "hovertemplate": [
          "batch_size (CategoricalDistribution): 0.07790894156870674<extra></extra>",
          "fc_neurons (CategoricalDistribution): 0.14159411594095894<extra></extra>",
          "conv1_out_channels (CategoricalDistribution): 0.23313716838976217<extra></extra>",
          "conv2_out_channels (CategoricalDistribution): 0.2710884065471633<extra></extra>",
          "learning_rate (FloatDistribution): 0.27627136755340886<extra></extra>"
         ],
         "name": "Objective Value",
         "orientation": "h",
         "text": [
          "0.08",
          "0.14",
          "0.23",
          "0.27",
          "0.28"
         ],
         "textposition": "outside",
         "type": "bar",
         "x": [
          0.07790894156870674,
          0.14159411594095894,
          0.23313716838976217,
          0.2710884065471633,
          0.27627136755340886
         ],
         "y": [
          "batch_size",
          "fc_neurons",
          "conv1_out_channels",
          "conv2_out_channels",
          "learning_rate"
         ]
        }
       ],
       "layout": {
        "template": {
         "data": {
          "bar": [
           {
            "error_x": {
             "color": "#2a3f5f"
            },
            "error_y": {
             "color": "#2a3f5f"
            },
            "marker": {
             "line": {
              "color": "#E5ECF6",
              "width": 0.5
             },
             "pattern": {
              "fillmode": "overlay",
              "size": 10,
              "solidity": 0.2
             }
            },
            "type": "bar"
           }
          ],
          "barpolar": [
           {
            "marker": {
             "line": {
              "color": "#E5ECF6",
              "width": 0.5
             },
             "pattern": {
              "fillmode": "overlay",
              "size": 10,
              "solidity": 0.2
             }
            },
            "type": "barpolar"
           }
          ],
          "carpet": [
           {
            "aaxis": {
             "endlinecolor": "#2a3f5f",
             "gridcolor": "white",
             "linecolor": "white",
             "minorgridcolor": "white",
             "startlinecolor": "#2a3f5f"
            },
            "baxis": {
             "endlinecolor": "#2a3f5f",
             "gridcolor": "white",
             "linecolor": "white",
             "minorgridcolor": "white",
             "startlinecolor": "#2a3f5f"
            },
            "type": "carpet"
           }
          ],
          "choropleth": [
           {
            "colorbar": {
             "outlinewidth": 0,
             "ticks": ""
            },
            "type": "choropleth"
           }
          ],
          "contour": [
           {
            "colorbar": {
             "outlinewidth": 0,
             "ticks": ""
            },
            "colorscale": [
             [
              0,
              "#0d0887"
             ],
             [
              0.1111111111111111,
              "#46039f"
             ],
             [
              0.2222222222222222,
              "#7201a8"
             ],
             [
              0.3333333333333333,
              "#9c179e"
             ],
             [
              0.4444444444444444,
              "#bd3786"
             ],
             [
              0.5555555555555556,
              "#d8576b"
             ],
             [
              0.6666666666666666,
              "#ed7953"
             ],
             [
              0.7777777777777778,
              "#fb9f3a"
             ],
             [
              0.8888888888888888,
              "#fdca26"
             ],
             [
              1,
              "#f0f921"
             ]
            ],
            "type": "contour"
           }
          ],
          "contourcarpet": [
           {
            "colorbar": {
             "outlinewidth": 0,
             "ticks": ""
            },
            "type": "contourcarpet"
           }
          ],
          "heatmap": [
           {
            "colorbar": {
             "outlinewidth": 0,
             "ticks": ""
            },
            "colorscale": [
             [
              0,
              "#0d0887"
             ],
             [
              0.1111111111111111,
              "#46039f"
             ],
             [
              0.2222222222222222,
              "#7201a8"
             ],
             [
              0.3333333333333333,
              "#9c179e"
             ],
             [
              0.4444444444444444,
              "#bd3786"
             ],
             [
              0.5555555555555556,
              "#d8576b"
             ],
             [
              0.6666666666666666,
              "#ed7953"
             ],
             [
              0.7777777777777778,
              "#fb9f3a"
             ],
             [
              0.8888888888888888,
              "#fdca26"
             ],
             [
              1,
              "#f0f921"
             ]
            ],
            "type": "heatmap"
           }
          ],
          "histogram": [
           {
            "marker": {
             "pattern": {
              "fillmode": "overlay",
              "size": 10,
              "solidity": 0.2
             }
            },
            "type": "histogram"
           }
          ],
          "histogram2d": [
           {
            "colorbar": {
             "outlinewidth": 0,
             "ticks": ""
            },
            "colorscale": [
             [
              0,
              "#0d0887"
             ],
             [
              0.1111111111111111,
              "#46039f"
             ],
             [
              0.2222222222222222,
              "#7201a8"
             ],
             [
              0.3333333333333333,
              "#9c179e"
             ],
             [
              0.4444444444444444,
              "#bd3786"
             ],
             [
              0.5555555555555556,
              "#d8576b"
             ],
             [
              0.6666666666666666,
              "#ed7953"
             ],
             [
              0.7777777777777778,
              "#fb9f3a"
             ],
             [
              0.8888888888888888,
              "#fdca26"
             ],
             [
              1,
              "#f0f921"
             ]
            ],
            "type": "histogram2d"
           }
          ],
          "histogram2dcontour": [
           {
            "colorbar": {
             "outlinewidth": 0,
             "ticks": ""
            },
            "colorscale": [
             [
              0,
              "#0d0887"
             ],
             [
              0.1111111111111111,
              "#46039f"
             ],
             [
              0.2222222222222222,
              "#7201a8"
             ],
             [
              0.3333333333333333,
              "#9c179e"
             ],
             [
              0.4444444444444444,
              "#bd3786"
             ],
             [
              0.5555555555555556,
              "#d8576b"
             ],
             [
              0.6666666666666666,
              "#ed7953"
             ],
             [
              0.7777777777777778,
              "#fb9f3a"
             ],
             [
              0.8888888888888888,
              "#fdca26"
             ],
             [
              1,
              "#f0f921"
             ]
            ],
            "type": "histogram2dcontour"
           }
          ],
          "mesh3d": [
           {
            "colorbar": {
             "outlinewidth": 0,
             "ticks": ""
            },
            "type": "mesh3d"
           }
          ],
          "parcoords": [
           {
            "line": {
             "colorbar": {
              "outlinewidth": 0,
              "ticks": ""
             }
            },
            "type": "parcoords"
           }
          ],
          "pie": [
           {
            "automargin": true,
            "type": "pie"
           }
          ],
          "scatter": [
           {
            "fillpattern": {
             "fillmode": "overlay",
             "size": 10,
             "solidity": 0.2
            },
            "type": "scatter"
           }
          ],
          "scatter3d": [
           {
            "line": {
             "colorbar": {
              "outlinewidth": 0,
              "ticks": ""
             }
            },
            "marker": {
             "colorbar": {
              "outlinewidth": 0,
              "ticks": ""
             }
            },
            "type": "scatter3d"
           }
          ],
          "scattercarpet": [
           {
            "marker": {
             "colorbar": {
              "outlinewidth": 0,
              "ticks": ""
             }
            },
            "type": "scattercarpet"
           }
          ],
          "scattergeo": [
           {
            "marker": {
             "colorbar": {
              "outlinewidth": 0,
              "ticks": ""
             }
            },
            "type": "scattergeo"
           }
          ],
          "scattergl": [
           {
            "marker": {
             "colorbar": {
              "outlinewidth": 0,
              "ticks": ""
             }
            },
            "type": "scattergl"
           }
          ],
          "scattermap": [
           {
            "marker": {
             "colorbar": {
              "outlinewidth": 0,
              "ticks": ""
             }
            },
            "type": "scattermap"
           }
          ],
          "scattermapbox": [
           {
            "marker": {
             "colorbar": {
              "outlinewidth": 0,
              "ticks": ""
             }
            },
            "type": "scattermapbox"
           }
          ],
          "scatterpolar": [
           {
            "marker": {
             "colorbar": {
              "outlinewidth": 0,
              "ticks": ""
             }
            },
            "type": "scatterpolar"
           }
          ],
          "scatterpolargl": [
           {
            "marker": {
             "colorbar": {
              "outlinewidth": 0,
              "ticks": ""
             }
            },
            "type": "scatterpolargl"
           }
          ],
          "scatterternary": [
           {
            "marker": {
             "colorbar": {
              "outlinewidth": 0,
              "ticks": ""
             }
            },
            "type": "scatterternary"
           }
          ],
          "surface": [
           {
            "colorbar": {
             "outlinewidth": 0,
             "ticks": ""
            },
            "colorscale": [
             [
              0,
              "#0d0887"
             ],
             [
              0.1111111111111111,
              "#46039f"
             ],
             [
              0.2222222222222222,
              "#7201a8"
             ],
             [
              0.3333333333333333,
              "#9c179e"
             ],
             [
              0.4444444444444444,
              "#bd3786"
             ],
             [
              0.5555555555555556,
              "#d8576b"
             ],
             [
              0.6666666666666666,
              "#ed7953"
             ],
             [
              0.7777777777777778,
              "#fb9f3a"
             ],
             [
              0.8888888888888888,
              "#fdca26"
             ],
             [
              1,
              "#f0f921"
             ]
            ],
            "type": "surface"
           }
          ],
          "table": [
           {
            "cells": {
             "fill": {
              "color": "#EBF0F8"
             },
             "line": {
              "color": "white"
             }
            },
            "header": {
             "fill": {
              "color": "#C8D4E3"
             },
             "line": {
              "color": "white"
             }
            },
            "type": "table"
           }
          ]
         },
         "layout": {
          "annotationdefaults": {
           "arrowcolor": "#2a3f5f",
           "arrowhead": 0,
           "arrowwidth": 1
          },
          "autotypenumbers": "strict",
          "coloraxis": {
           "colorbar": {
            "outlinewidth": 0,
            "ticks": ""
           }
          },
          "colorscale": {
           "diverging": [
            [
             0,
             "#8e0152"
            ],
            [
             0.1,
             "#c51b7d"
            ],
            [
             0.2,
             "#de77ae"
            ],
            [
             0.3,
             "#f1b6da"
            ],
            [
             0.4,
             "#fde0ef"
            ],
            [
             0.5,
             "#f7f7f7"
            ],
            [
             0.6,
             "#e6f5d0"
            ],
            [
             0.7,
             "#b8e186"
            ],
            [
             0.8,
             "#7fbc41"
            ],
            [
             0.9,
             "#4d9221"
            ],
            [
             1,
             "#276419"
            ]
           ],
           "sequential": [
            [
             0,
             "#0d0887"
            ],
            [
             0.1111111111111111,
             "#46039f"
            ],
            [
             0.2222222222222222,
             "#7201a8"
            ],
            [
             0.3333333333333333,
             "#9c179e"
            ],
            [
             0.4444444444444444,
             "#bd3786"
            ],
            [
             0.5555555555555556,
             "#d8576b"
            ],
            [
             0.6666666666666666,
             "#ed7953"
            ],
            [
             0.7777777777777778,
             "#fb9f3a"
            ],
            [
             0.8888888888888888,
             "#fdca26"
            ],
            [
             1,
             "#f0f921"
            ]
           ],
           "sequentialminus": [
            [
             0,
             "#0d0887"
            ],
            [
             0.1111111111111111,
             "#46039f"
            ],
            [
             0.2222222222222222,
             "#7201a8"
            ],
            [
             0.3333333333333333,
             "#9c179e"
            ],
            [
             0.4444444444444444,
             "#bd3786"
            ],
            [
             0.5555555555555556,
             "#d8576b"
            ],
            [
             0.6666666666666666,
             "#ed7953"
            ],
            [
             0.7777777777777778,
             "#fb9f3a"
            ],
            [
             0.8888888888888888,
             "#fdca26"
            ],
            [
             1,
             "#f0f921"
            ]
           ]
          },
          "colorway": [
           "#636efa",
           "#EF553B",
           "#00cc96",
           "#ab63fa",
           "#FFA15A",
           "#19d3f3",
           "#FF6692",
           "#B6E880",
           "#FF97FF",
           "#FECB52"
          ],
          "font": {
           "color": "#2a3f5f"
          },
          "geo": {
           "bgcolor": "white",
           "lakecolor": "white",
           "landcolor": "#E5ECF6",
           "showlakes": true,
           "showland": true,
           "subunitcolor": "white"
          },
          "hoverlabel": {
           "align": "left"
          },
          "hovermode": "closest",
          "mapbox": {
           "style": "light"
          },
          "paper_bgcolor": "white",
          "plot_bgcolor": "#E5ECF6",
          "polar": {
           "angularaxis": {
            "gridcolor": "white",
            "linecolor": "white",
            "ticks": ""
           },
           "bgcolor": "#E5ECF6",
           "radialaxis": {
            "gridcolor": "white",
            "linecolor": "white",
            "ticks": ""
           }
          },
          "scene": {
           "xaxis": {
            "backgroundcolor": "#E5ECF6",
            "gridcolor": "white",
            "gridwidth": 2,
            "linecolor": "white",
            "showbackground": true,
            "ticks": "",
            "zerolinecolor": "white"
           },
           "yaxis": {
            "backgroundcolor": "#E5ECF6",
            "gridcolor": "white",
            "gridwidth": 2,
            "linecolor": "white",
            "showbackground": true,
            "ticks": "",
            "zerolinecolor": "white"
           },
           "zaxis": {
            "backgroundcolor": "#E5ECF6",
            "gridcolor": "white",
            "gridwidth": 2,
            "linecolor": "white",
            "showbackground": true,
            "ticks": "",
            "zerolinecolor": "white"
           }
          },
          "shapedefaults": {
           "line": {
            "color": "#2a3f5f"
           }
          },
          "ternary": {
           "aaxis": {
            "gridcolor": "white",
            "linecolor": "white",
            "ticks": ""
           },
           "baxis": {
            "gridcolor": "white",
            "linecolor": "white",
            "ticks": ""
           },
           "bgcolor": "#E5ECF6",
           "caxis": {
            "gridcolor": "white",
            "linecolor": "white",
            "ticks": ""
           }
          },
          "title": {
           "x": 0.05
          },
          "xaxis": {
           "automargin": true,
           "gridcolor": "white",
           "linecolor": "white",
           "ticks": "",
           "title": {
            "standoff": 15
           },
           "zerolinecolor": "white",
           "zerolinewidth": 2
          },
          "yaxis": {
           "automargin": true,
           "gridcolor": "white",
           "linecolor": "white",
           "ticks": "",
           "title": {
            "standoff": 15
           },
           "zerolinecolor": "white",
           "zerolinewidth": 2
          }
         }
        },
        "title": {
         "text": "Hyperparameter Importances"
        },
        "xaxis": {
         "title": {
          "text": "Hyperparameter Importance"
         }
        },
        "yaxis": {
         "title": {
          "text": "Hyperparameter"
         }
        }
       }
      }
     },
     "metadata": {},
     "output_type": "display_data"
    }
   ],
   "source": [
    "fig2 = plot_param_importances(study)\n",
    "fig2.show()\n"
   ]
  },
  {
   "cell_type": "code",
   "execution_count": 18,
   "id": "e3f6d509",
   "metadata": {},
   "outputs": [
    {
     "data": {
      "application/vnd.plotly.v1+json": {
       "config": {
        "plotlyServerURL": "https://plot.ly"
       },
       "data": [
        {
         "dimensions": [
          {
           "label": "Objective Value",
           "range": [
            65.63492063492063,
            94.10052910052909
           ],
           "values": [
            94.10052910052909,
            81.50793650793652,
            65.63492063492063,
            91.95767195767196,
            83.73015873015872,
            66.74603174603176,
            86.74603174603176,
            89.02116402116403,
            82.43386243386244,
            85.97883597883599
           ]
          },
          {
           "label": "batch_size",
           "range": [
            0,
            2
           ],
           "ticktext": [
            "8",
            "16",
            "32"
           ],
           "tickvals": [
            0,
            1,
            2
           ],
           "values": [
            0,
            0,
            1,
            1,
            1,
            2,
            2,
            2,
            2,
            2
           ]
          },
          {
           "label": "conv1_out_channels",
           "range": [
            0,
            2
           ],
           "ticktext": [
            "16",
            "32",
            "64"
           ],
           "tickvals": [
            0,
            1,
            2
           ],
           "values": [
            0,
            1,
            1,
            1,
            1,
            0,
            1,
            2,
            2,
            2
           ]
          },
          {
           "label": "conv2_out_channels",
           "range": [
            0,
            1
           ],
           "ticktext": [
            "64",
            "128"
           ],
           "tickvals": [
            0,
            1
           ],
           "values": [
            0,
            0,
            0,
            0,
            1,
            0,
            1,
            0,
            1,
            1
           ]
          },
          {
           "label": "fc_neurons",
           "range": [
            0,
            2
           ],
           "ticktext": [
            "64",
            "128",
            "256"
           ],
           "tickvals": [
            0,
            1,
            2
           ],
           "values": [
            2,
            0,
            0,
            1,
            2,
            1,
            1,
            2,
            1,
            2
           ]
          },
          {
           "label": "learning_rate",
           "range": [
            -3.946100102598673,
            -2.1434666875419386
           ],
           "ticktext": [
            "0.000113",
            "0.001",
            "0.00719"
           ],
           "tickvals": [
            -3.946100102598673,
            -3,
            -2.1434666875419386
           ],
           "values": [
            -2.7220359645294048,
            -2.1434666875419386,
            -3.93315260934178,
            -2.904017880905126,
            -2.2049397818840766,
            -3.946100102598673,
            -2.927785833761293,
            -3.0031675003291936,
            -3.8863646721659557,
            -3.8620344673646905
           ]
          }
         ],
         "labelangle": 30,
         "labelside": "bottom",
         "line": {
          "color": [
           94.10052910052909,
           81.50793650793652,
           65.63492063492063,
           91.95767195767196,
           83.73015873015872,
           66.74603174603176,
           86.74603174603176,
           89.02116402116403,
           82.43386243386244,
           85.97883597883599
          ],
          "colorbar": {
           "title": {
            "text": "Objective Value"
           }
          },
          "colorscale": [
           [
            0,
            "rgb(247,251,255)"
           ],
           [
            0.125,
            "rgb(222,235,247)"
           ],
           [
            0.25,
            "rgb(198,219,239)"
           ],
           [
            0.375,
            "rgb(158,202,225)"
           ],
           [
            0.5,
            "rgb(107,174,214)"
           ],
           [
            0.625,
            "rgb(66,146,198)"
           ],
           [
            0.75,
            "rgb(33,113,181)"
           ],
           [
            0.875,
            "rgb(8,81,156)"
           ],
           [
            1,
            "rgb(8,48,107)"
           ]
          ],
          "reversescale": false,
          "showscale": true
         },
         "type": "parcoords"
        }
       ],
       "layout": {
        "template": {
         "data": {
          "bar": [
           {
            "error_x": {
             "color": "#2a3f5f"
            },
            "error_y": {
             "color": "#2a3f5f"
            },
            "marker": {
             "line": {
              "color": "#E5ECF6",
              "width": 0.5
             },
             "pattern": {
              "fillmode": "overlay",
              "size": 10,
              "solidity": 0.2
             }
            },
            "type": "bar"
           }
          ],
          "barpolar": [
           {
            "marker": {
             "line": {
              "color": "#E5ECF6",
              "width": 0.5
             },
             "pattern": {
              "fillmode": "overlay",
              "size": 10,
              "solidity": 0.2
             }
            },
            "type": "barpolar"
           }
          ],
          "carpet": [
           {
            "aaxis": {
             "endlinecolor": "#2a3f5f",
             "gridcolor": "white",
             "linecolor": "white",
             "minorgridcolor": "white",
             "startlinecolor": "#2a3f5f"
            },
            "baxis": {
             "endlinecolor": "#2a3f5f",
             "gridcolor": "white",
             "linecolor": "white",
             "minorgridcolor": "white",
             "startlinecolor": "#2a3f5f"
            },
            "type": "carpet"
           }
          ],
          "choropleth": [
           {
            "colorbar": {
             "outlinewidth": 0,
             "ticks": ""
            },
            "type": "choropleth"
           }
          ],
          "contour": [
           {
            "colorbar": {
             "outlinewidth": 0,
             "ticks": ""
            },
            "colorscale": [
             [
              0,
              "#0d0887"
             ],
             [
              0.1111111111111111,
              "#46039f"
             ],
             [
              0.2222222222222222,
              "#7201a8"
             ],
             [
              0.3333333333333333,
              "#9c179e"
             ],
             [
              0.4444444444444444,
              "#bd3786"
             ],
             [
              0.5555555555555556,
              "#d8576b"
             ],
             [
              0.6666666666666666,
              "#ed7953"
             ],
             [
              0.7777777777777778,
              "#fb9f3a"
             ],
             [
              0.8888888888888888,
              "#fdca26"
             ],
             [
              1,
              "#f0f921"
             ]
            ],
            "type": "contour"
           }
          ],
          "contourcarpet": [
           {
            "colorbar": {
             "outlinewidth": 0,
             "ticks": ""
            },
            "type": "contourcarpet"
           }
          ],
          "heatmap": [
           {
            "colorbar": {
             "outlinewidth": 0,
             "ticks": ""
            },
            "colorscale": [
             [
              0,
              "#0d0887"
             ],
             [
              0.1111111111111111,
              "#46039f"
             ],
             [
              0.2222222222222222,
              "#7201a8"
             ],
             [
              0.3333333333333333,
              "#9c179e"
             ],
             [
              0.4444444444444444,
              "#bd3786"
             ],
             [
              0.5555555555555556,
              "#d8576b"
             ],
             [
              0.6666666666666666,
              "#ed7953"
             ],
             [
              0.7777777777777778,
              "#fb9f3a"
             ],
             [
              0.8888888888888888,
              "#fdca26"
             ],
             [
              1,
              "#f0f921"
             ]
            ],
            "type": "heatmap"
           }
          ],
          "histogram": [
           {
            "marker": {
             "pattern": {
              "fillmode": "overlay",
              "size": 10,
              "solidity": 0.2
             }
            },
            "type": "histogram"
           }
          ],
          "histogram2d": [
           {
            "colorbar": {
             "outlinewidth": 0,
             "ticks": ""
            },
            "colorscale": [
             [
              0,
              "#0d0887"
             ],
             [
              0.1111111111111111,
              "#46039f"
             ],
             [
              0.2222222222222222,
              "#7201a8"
             ],
             [
              0.3333333333333333,
              "#9c179e"
             ],
             [
              0.4444444444444444,
              "#bd3786"
             ],
             [
              0.5555555555555556,
              "#d8576b"
             ],
             [
              0.6666666666666666,
              "#ed7953"
             ],
             [
              0.7777777777777778,
              "#fb9f3a"
             ],
             [
              0.8888888888888888,
              "#fdca26"
             ],
             [
              1,
              "#f0f921"
             ]
            ],
            "type": "histogram2d"
           }
          ],
          "histogram2dcontour": [
           {
            "colorbar": {
             "outlinewidth": 0,
             "ticks": ""
            },
            "colorscale": [
             [
              0,
              "#0d0887"
             ],
             [
              0.1111111111111111,
              "#46039f"
             ],
             [
              0.2222222222222222,
              "#7201a8"
             ],
             [
              0.3333333333333333,
              "#9c179e"
             ],
             [
              0.4444444444444444,
              "#bd3786"
             ],
             [
              0.5555555555555556,
              "#d8576b"
             ],
             [
              0.6666666666666666,
              "#ed7953"
             ],
             [
              0.7777777777777778,
              "#fb9f3a"
             ],
             [
              0.8888888888888888,
              "#fdca26"
             ],
             [
              1,
              "#f0f921"
             ]
            ],
            "type": "histogram2dcontour"
           }
          ],
          "mesh3d": [
           {
            "colorbar": {
             "outlinewidth": 0,
             "ticks": ""
            },
            "type": "mesh3d"
           }
          ],
          "parcoords": [
           {
            "line": {
             "colorbar": {
              "outlinewidth": 0,
              "ticks": ""
             }
            },
            "type": "parcoords"
           }
          ],
          "pie": [
           {
            "automargin": true,
            "type": "pie"
           }
          ],
          "scatter": [
           {
            "fillpattern": {
             "fillmode": "overlay",
             "size": 10,
             "solidity": 0.2
            },
            "type": "scatter"
           }
          ],
          "scatter3d": [
           {
            "line": {
             "colorbar": {
              "outlinewidth": 0,
              "ticks": ""
             }
            },
            "marker": {
             "colorbar": {
              "outlinewidth": 0,
              "ticks": ""
             }
            },
            "type": "scatter3d"
           }
          ],
          "scattercarpet": [
           {
            "marker": {
             "colorbar": {
              "outlinewidth": 0,
              "ticks": ""
             }
            },
            "type": "scattercarpet"
           }
          ],
          "scattergeo": [
           {
            "marker": {
             "colorbar": {
              "outlinewidth": 0,
              "ticks": ""
             }
            },
            "type": "scattergeo"
           }
          ],
          "scattergl": [
           {
            "marker": {
             "colorbar": {
              "outlinewidth": 0,
              "ticks": ""
             }
            },
            "type": "scattergl"
           }
          ],
          "scattermap": [
           {
            "marker": {
             "colorbar": {
              "outlinewidth": 0,
              "ticks": ""
             }
            },
            "type": "scattermap"
           }
          ],
          "scattermapbox": [
           {
            "marker": {
             "colorbar": {
              "outlinewidth": 0,
              "ticks": ""
             }
            },
            "type": "scattermapbox"
           }
          ],
          "scatterpolar": [
           {
            "marker": {
             "colorbar": {
              "outlinewidth": 0,
              "ticks": ""
             }
            },
            "type": "scatterpolar"
           }
          ],
          "scatterpolargl": [
           {
            "marker": {
             "colorbar": {
              "outlinewidth": 0,
              "ticks": ""
             }
            },
            "type": "scatterpolargl"
           }
          ],
          "scatterternary": [
           {
            "marker": {
             "colorbar": {
              "outlinewidth": 0,
              "ticks": ""
             }
            },
            "type": "scatterternary"
           }
          ],
          "surface": [
           {
            "colorbar": {
             "outlinewidth": 0,
             "ticks": ""
            },
            "colorscale": [
             [
              0,
              "#0d0887"
             ],
             [
              0.1111111111111111,
              "#46039f"
             ],
             [
              0.2222222222222222,
              "#7201a8"
             ],
             [
              0.3333333333333333,
              "#9c179e"
             ],
             [
              0.4444444444444444,
              "#bd3786"
             ],
             [
              0.5555555555555556,
              "#d8576b"
             ],
             [
              0.6666666666666666,
              "#ed7953"
             ],
             [
              0.7777777777777778,
              "#fb9f3a"
             ],
             [
              0.8888888888888888,
              "#fdca26"
             ],
             [
              1,
              "#f0f921"
             ]
            ],
            "type": "surface"
           }
          ],
          "table": [
           {
            "cells": {
             "fill": {
              "color": "#EBF0F8"
             },
             "line": {
              "color": "white"
             }
            },
            "header": {
             "fill": {
              "color": "#C8D4E3"
             },
             "line": {
              "color": "white"
             }
            },
            "type": "table"
           }
          ]
         },
         "layout": {
          "annotationdefaults": {
           "arrowcolor": "#2a3f5f",
           "arrowhead": 0,
           "arrowwidth": 1
          },
          "autotypenumbers": "strict",
          "coloraxis": {
           "colorbar": {
            "outlinewidth": 0,
            "ticks": ""
           }
          },
          "colorscale": {
           "diverging": [
            [
             0,
             "#8e0152"
            ],
            [
             0.1,
             "#c51b7d"
            ],
            [
             0.2,
             "#de77ae"
            ],
            [
             0.3,
             "#f1b6da"
            ],
            [
             0.4,
             "#fde0ef"
            ],
            [
             0.5,
             "#f7f7f7"
            ],
            [
             0.6,
             "#e6f5d0"
            ],
            [
             0.7,
             "#b8e186"
            ],
            [
             0.8,
             "#7fbc41"
            ],
            [
             0.9,
             "#4d9221"
            ],
            [
             1,
             "#276419"
            ]
           ],
           "sequential": [
            [
             0,
             "#0d0887"
            ],
            [
             0.1111111111111111,
             "#46039f"
            ],
            [
             0.2222222222222222,
             "#7201a8"
            ],
            [
             0.3333333333333333,
             "#9c179e"
            ],
            [
             0.4444444444444444,
             "#bd3786"
            ],
            [
             0.5555555555555556,
             "#d8576b"
            ],
            [
             0.6666666666666666,
             "#ed7953"
            ],
            [
             0.7777777777777778,
             "#fb9f3a"
            ],
            [
             0.8888888888888888,
             "#fdca26"
            ],
            [
             1,
             "#f0f921"
            ]
           ],
           "sequentialminus": [
            [
             0,
             "#0d0887"
            ],
            [
             0.1111111111111111,
             "#46039f"
            ],
            [
             0.2222222222222222,
             "#7201a8"
            ],
            [
             0.3333333333333333,
             "#9c179e"
            ],
            [
             0.4444444444444444,
             "#bd3786"
            ],
            [
             0.5555555555555556,
             "#d8576b"
            ],
            [
             0.6666666666666666,
             "#ed7953"
            ],
            [
             0.7777777777777778,
             "#fb9f3a"
            ],
            [
             0.8888888888888888,
             "#fdca26"
            ],
            [
             1,
             "#f0f921"
            ]
           ]
          },
          "colorway": [
           "#636efa",
           "#EF553B",
           "#00cc96",
           "#ab63fa",
           "#FFA15A",
           "#19d3f3",
           "#FF6692",
           "#B6E880",
           "#FF97FF",
           "#FECB52"
          ],
          "font": {
           "color": "#2a3f5f"
          },
          "geo": {
           "bgcolor": "white",
           "lakecolor": "white",
           "landcolor": "#E5ECF6",
           "showlakes": true,
           "showland": true,
           "subunitcolor": "white"
          },
          "hoverlabel": {
           "align": "left"
          },
          "hovermode": "closest",
          "mapbox": {
           "style": "light"
          },
          "paper_bgcolor": "white",
          "plot_bgcolor": "#E5ECF6",
          "polar": {
           "angularaxis": {
            "gridcolor": "white",
            "linecolor": "white",
            "ticks": ""
           },
           "bgcolor": "#E5ECF6",
           "radialaxis": {
            "gridcolor": "white",
            "linecolor": "white",
            "ticks": ""
           }
          },
          "scene": {
           "xaxis": {
            "backgroundcolor": "#E5ECF6",
            "gridcolor": "white",
            "gridwidth": 2,
            "linecolor": "white",
            "showbackground": true,
            "ticks": "",
            "zerolinecolor": "white"
           },
           "yaxis": {
            "backgroundcolor": "#E5ECF6",
            "gridcolor": "white",
            "gridwidth": 2,
            "linecolor": "white",
            "showbackground": true,
            "ticks": "",
            "zerolinecolor": "white"
           },
           "zaxis": {
            "backgroundcolor": "#E5ECF6",
            "gridcolor": "white",
            "gridwidth": 2,
            "linecolor": "white",
            "showbackground": true,
            "ticks": "",
            "zerolinecolor": "white"
           }
          },
          "shapedefaults": {
           "line": {
            "color": "#2a3f5f"
           }
          },
          "ternary": {
           "aaxis": {
            "gridcolor": "white",
            "linecolor": "white",
            "ticks": ""
           },
           "baxis": {
            "gridcolor": "white",
            "linecolor": "white",
            "ticks": ""
           },
           "bgcolor": "#E5ECF6",
           "caxis": {
            "gridcolor": "white",
            "linecolor": "white",
            "ticks": ""
           }
          },
          "title": {
           "x": 0.05
          },
          "xaxis": {
           "automargin": true,
           "gridcolor": "white",
           "linecolor": "white",
           "ticks": "",
           "title": {
            "standoff": 15
           },
           "zerolinecolor": "white",
           "zerolinewidth": 2
          },
          "yaxis": {
           "automargin": true,
           "gridcolor": "white",
           "linecolor": "white",
           "ticks": "",
           "title": {
            "standoff": 15
           },
           "zerolinecolor": "white",
           "zerolinewidth": 2
          }
         }
        },
        "title": {
         "text": "Parallel Coordinate Plot"
        }
       }
      }
     },
     "metadata": {},
     "output_type": "display_data"
    }
   ],
   "source": [
    "fig3 = plot_parallel_coordinate(study)\n",
    "fig3.show()\n"
   ]
  },
  {
   "cell_type": "code",
   "execution_count": 19,
   "id": "ccb9b7dd",
   "metadata": {},
   "outputs": [
    {
     "data": {
      "application/vnd.plotly.v1+json": {
       "config": {
        "plotlyServerURL": "https://plot.ly"
       },
       "data": [
        {
         "marker": {
          "color": [
           0,
           1,
           2,
           3,
           4,
           5,
           6,
           7,
           8,
           9
          ],
          "colorbar": {
           "title": {
            "text": "Trial"
           },
           "x": 1,
           "xpad": 40
          },
          "colorscale": [
           [
            0,
            "rgb(247,251,255)"
           ],
           [
            0.125,
            "rgb(222,235,247)"
           ],
           [
            0.25,
            "rgb(198,219,239)"
           ],
           [
            0.375,
            "rgb(158,202,225)"
           ],
           [
            0.5,
            "rgb(107,174,214)"
           ],
           [
            0.625,
            "rgb(66,146,198)"
           ],
           [
            0.75,
            "rgb(33,113,181)"
           ],
           [
            0.875,
            "rgb(8,81,156)"
           ],
           [
            1,
            "rgb(8,48,107)"
           ]
          ],
          "line": {
           "color": "Grey",
           "width": 0.5
          },
          "showscale": true
         },
         "mode": "markers",
         "name": "Feasible Trial",
         "showlegend": false,
         "type": "scatter",
         "x": [
          16,
          32,
          32,
          8,
          8,
          32,
          16,
          32,
          32,
          16
         ],
         "xaxis": "x",
         "y": [
          65.63492063492063,
          66.74603174603176,
          89.02116402116403,
          81.50793650793652,
          94.10052910052909,
          86.74603174603176,
          91.95767195767196,
          82.43386243386244,
          85.97883597883599,
          83.73015873015872
         ],
         "yaxis": "y"
        },
        {
         "marker": {
          "color": [
           0,
           1,
           2,
           3,
           4,
           5,
           6,
           7,
           8,
           9
          ],
          "colorbar": {
           "title": {
            "text": "Trial"
           },
           "x": 1,
           "xpad": 40
          },
          "colorscale": [
           [
            0,
            "rgb(247,251,255)"
           ],
           [
            0.125,
            "rgb(222,235,247)"
           ],
           [
            0.25,
            "rgb(198,219,239)"
           ],
           [
            0.375,
            "rgb(158,202,225)"
           ],
           [
            0.5,
            "rgb(107,174,214)"
           ],
           [
            0.625,
            "rgb(66,146,198)"
           ],
           [
            0.75,
            "rgb(33,113,181)"
           ],
           [
            0.875,
            "rgb(8,81,156)"
           ],
           [
            1,
            "rgb(8,48,107)"
           ]
          ],
          "line": {
           "color": "Grey",
           "width": 0.5
          },
          "showscale": false
         },
         "mode": "markers",
         "name": "Feasible Trial",
         "showlegend": false,
         "type": "scatter",
         "x": [
          32,
          16,
          64,
          32,
          16,
          32,
          32,
          64,
          64,
          32
         ],
         "xaxis": "x2",
         "y": [
          65.63492063492063,
          66.74603174603176,
          89.02116402116403,
          81.50793650793652,
          94.10052910052909,
          86.74603174603176,
          91.95767195767196,
          82.43386243386244,
          85.97883597883599,
          83.73015873015872
         ],
         "yaxis": "y2"
        },
        {
         "marker": {
          "color": [
           0,
           1,
           2,
           3,
           4,
           5,
           6,
           7,
           8,
           9
          ],
          "colorbar": {
           "title": {
            "text": "Trial"
           },
           "x": 1,
           "xpad": 40
          },
          "colorscale": [
           [
            0,
            "rgb(247,251,255)"
           ],
           [
            0.125,
            "rgb(222,235,247)"
           ],
           [
            0.25,
            "rgb(198,219,239)"
           ],
           [
            0.375,
            "rgb(158,202,225)"
           ],
           [
            0.5,
            "rgb(107,174,214)"
           ],
           [
            0.625,
            "rgb(66,146,198)"
           ],
           [
            0.75,
            "rgb(33,113,181)"
           ],
           [
            0.875,
            "rgb(8,81,156)"
           ],
           [
            1,
            "rgb(8,48,107)"
           ]
          ],
          "line": {
           "color": "Grey",
           "width": 0.5
          },
          "showscale": false
         },
         "mode": "markers",
         "name": "Feasible Trial",
         "showlegend": false,
         "type": "scatter",
         "x": [
          0.00011663996768639834,
          0.00011321393809739401,
          0.0009927330935426833,
          0.007186762821647583,
          0.001896548858862113,
          0.0011809028377759497,
          0.0012473321576449458,
          0.00012990782985710582,
          0.00013739329298172596,
          0.006238213268893065
         ],
         "xaxis": "x3",
         "y": [
          65.63492063492063,
          66.74603174603176,
          89.02116402116403,
          81.50793650793652,
          94.10052910052909,
          86.74603174603176,
          91.95767195767196,
          82.43386243386244,
          85.97883597883599,
          83.73015873015872
         ],
         "yaxis": "y3"
        }
       ],
       "layout": {
        "template": {
         "data": {
          "bar": [
           {
            "error_x": {
             "color": "#2a3f5f"
            },
            "error_y": {
             "color": "#2a3f5f"
            },
            "marker": {
             "line": {
              "color": "#E5ECF6",
              "width": 0.5
             },
             "pattern": {
              "fillmode": "overlay",
              "size": 10,
              "solidity": 0.2
             }
            },
            "type": "bar"
           }
          ],
          "barpolar": [
           {
            "marker": {
             "line": {
              "color": "#E5ECF6",
              "width": 0.5
             },
             "pattern": {
              "fillmode": "overlay",
              "size": 10,
              "solidity": 0.2
             }
            },
            "type": "barpolar"
           }
          ],
          "carpet": [
           {
            "aaxis": {
             "endlinecolor": "#2a3f5f",
             "gridcolor": "white",
             "linecolor": "white",
             "minorgridcolor": "white",
             "startlinecolor": "#2a3f5f"
            },
            "baxis": {
             "endlinecolor": "#2a3f5f",
             "gridcolor": "white",
             "linecolor": "white",
             "minorgridcolor": "white",
             "startlinecolor": "#2a3f5f"
            },
            "type": "carpet"
           }
          ],
          "choropleth": [
           {
            "colorbar": {
             "outlinewidth": 0,
             "ticks": ""
            },
            "type": "choropleth"
           }
          ],
          "contour": [
           {
            "colorbar": {
             "outlinewidth": 0,
             "ticks": ""
            },
            "colorscale": [
             [
              0,
              "#0d0887"
             ],
             [
              0.1111111111111111,
              "#46039f"
             ],
             [
              0.2222222222222222,
              "#7201a8"
             ],
             [
              0.3333333333333333,
              "#9c179e"
             ],
             [
              0.4444444444444444,
              "#bd3786"
             ],
             [
              0.5555555555555556,
              "#d8576b"
             ],
             [
              0.6666666666666666,
              "#ed7953"
             ],
             [
              0.7777777777777778,
              "#fb9f3a"
             ],
             [
              0.8888888888888888,
              "#fdca26"
             ],
             [
              1,
              "#f0f921"
             ]
            ],
            "type": "contour"
           }
          ],
          "contourcarpet": [
           {
            "colorbar": {
             "outlinewidth": 0,
             "ticks": ""
            },
            "type": "contourcarpet"
           }
          ],
          "heatmap": [
           {
            "colorbar": {
             "outlinewidth": 0,
             "ticks": ""
            },
            "colorscale": [
             [
              0,
              "#0d0887"
             ],
             [
              0.1111111111111111,
              "#46039f"
             ],
             [
              0.2222222222222222,
              "#7201a8"
             ],
             [
              0.3333333333333333,
              "#9c179e"
             ],
             [
              0.4444444444444444,
              "#bd3786"
             ],
             [
              0.5555555555555556,
              "#d8576b"
             ],
             [
              0.6666666666666666,
              "#ed7953"
             ],
             [
              0.7777777777777778,
              "#fb9f3a"
             ],
             [
              0.8888888888888888,
              "#fdca26"
             ],
             [
              1,
              "#f0f921"
             ]
            ],
            "type": "heatmap"
           }
          ],
          "histogram": [
           {
            "marker": {
             "pattern": {
              "fillmode": "overlay",
              "size": 10,
              "solidity": 0.2
             }
            },
            "type": "histogram"
           }
          ],
          "histogram2d": [
           {
            "colorbar": {
             "outlinewidth": 0,
             "ticks": ""
            },
            "colorscale": [
             [
              0,
              "#0d0887"
             ],
             [
              0.1111111111111111,
              "#46039f"
             ],
             [
              0.2222222222222222,
              "#7201a8"
             ],
             [
              0.3333333333333333,
              "#9c179e"
             ],
             [
              0.4444444444444444,
              "#bd3786"
             ],
             [
              0.5555555555555556,
              "#d8576b"
             ],
             [
              0.6666666666666666,
              "#ed7953"
             ],
             [
              0.7777777777777778,
              "#fb9f3a"
             ],
             [
              0.8888888888888888,
              "#fdca26"
             ],
             [
              1,
              "#f0f921"
             ]
            ],
            "type": "histogram2d"
           }
          ],
          "histogram2dcontour": [
           {
            "colorbar": {
             "outlinewidth": 0,
             "ticks": ""
            },
            "colorscale": [
             [
              0,
              "#0d0887"
             ],
             [
              0.1111111111111111,
              "#46039f"
             ],
             [
              0.2222222222222222,
              "#7201a8"
             ],
             [
              0.3333333333333333,
              "#9c179e"
             ],
             [
              0.4444444444444444,
              "#bd3786"
             ],
             [
              0.5555555555555556,
              "#d8576b"
             ],
             [
              0.6666666666666666,
              "#ed7953"
             ],
             [
              0.7777777777777778,
              "#fb9f3a"
             ],
             [
              0.8888888888888888,
              "#fdca26"
             ],
             [
              1,
              "#f0f921"
             ]
            ],
            "type": "histogram2dcontour"
           }
          ],
          "mesh3d": [
           {
            "colorbar": {
             "outlinewidth": 0,
             "ticks": ""
            },
            "type": "mesh3d"
           }
          ],
          "parcoords": [
           {
            "line": {
             "colorbar": {
              "outlinewidth": 0,
              "ticks": ""
             }
            },
            "type": "parcoords"
           }
          ],
          "pie": [
           {
            "automargin": true,
            "type": "pie"
           }
          ],
          "scatter": [
           {
            "fillpattern": {
             "fillmode": "overlay",
             "size": 10,
             "solidity": 0.2
            },
            "type": "scatter"
           }
          ],
          "scatter3d": [
           {
            "line": {
             "colorbar": {
              "outlinewidth": 0,
              "ticks": ""
             }
            },
            "marker": {
             "colorbar": {
              "outlinewidth": 0,
              "ticks": ""
             }
            },
            "type": "scatter3d"
           }
          ],
          "scattercarpet": [
           {
            "marker": {
             "colorbar": {
              "outlinewidth": 0,
              "ticks": ""
             }
            },
            "type": "scattercarpet"
           }
          ],
          "scattergeo": [
           {
            "marker": {
             "colorbar": {
              "outlinewidth": 0,
              "ticks": ""
             }
            },
            "type": "scattergeo"
           }
          ],
          "scattergl": [
           {
            "marker": {
             "colorbar": {
              "outlinewidth": 0,
              "ticks": ""
             }
            },
            "type": "scattergl"
           }
          ],
          "scattermap": [
           {
            "marker": {
             "colorbar": {
              "outlinewidth": 0,
              "ticks": ""
             }
            },
            "type": "scattermap"
           }
          ],
          "scattermapbox": [
           {
            "marker": {
             "colorbar": {
              "outlinewidth": 0,
              "ticks": ""
             }
            },
            "type": "scattermapbox"
           }
          ],
          "scatterpolar": [
           {
            "marker": {
             "colorbar": {
              "outlinewidth": 0,
              "ticks": ""
             }
            },
            "type": "scatterpolar"
           }
          ],
          "scatterpolargl": [
           {
            "marker": {
             "colorbar": {
              "outlinewidth": 0,
              "ticks": ""
             }
            },
            "type": "scatterpolargl"
           }
          ],
          "scatterternary": [
           {
            "marker": {
             "colorbar": {
              "outlinewidth": 0,
              "ticks": ""
             }
            },
            "type": "scatterternary"
           }
          ],
          "surface": [
           {
            "colorbar": {
             "outlinewidth": 0,
             "ticks": ""
            },
            "colorscale": [
             [
              0,
              "#0d0887"
             ],
             [
              0.1111111111111111,
              "#46039f"
             ],
             [
              0.2222222222222222,
              "#7201a8"
             ],
             [
              0.3333333333333333,
              "#9c179e"
             ],
             [
              0.4444444444444444,
              "#bd3786"
             ],
             [
              0.5555555555555556,
              "#d8576b"
             ],
             [
              0.6666666666666666,
              "#ed7953"
             ],
             [
              0.7777777777777778,
              "#fb9f3a"
             ],
             [
              0.8888888888888888,
              "#fdca26"
             ],
             [
              1,
              "#f0f921"
             ]
            ],
            "type": "surface"
           }
          ],
          "table": [
           {
            "cells": {
             "fill": {
              "color": "#EBF0F8"
             },
             "line": {
              "color": "white"
             }
            },
            "header": {
             "fill": {
              "color": "#C8D4E3"
             },
             "line": {
              "color": "white"
             }
            },
            "type": "table"
           }
          ]
         },
         "layout": {
          "annotationdefaults": {
           "arrowcolor": "#2a3f5f",
           "arrowhead": 0,
           "arrowwidth": 1
          },
          "autotypenumbers": "strict",
          "coloraxis": {
           "colorbar": {
            "outlinewidth": 0,
            "ticks": ""
           }
          },
          "colorscale": {
           "diverging": [
            [
             0,
             "#8e0152"
            ],
            [
             0.1,
             "#c51b7d"
            ],
            [
             0.2,
             "#de77ae"
            ],
            [
             0.3,
             "#f1b6da"
            ],
            [
             0.4,
             "#fde0ef"
            ],
            [
             0.5,
             "#f7f7f7"
            ],
            [
             0.6,
             "#e6f5d0"
            ],
            [
             0.7,
             "#b8e186"
            ],
            [
             0.8,
             "#7fbc41"
            ],
            [
             0.9,
             "#4d9221"
            ],
            [
             1,
             "#276419"
            ]
           ],
           "sequential": [
            [
             0,
             "#0d0887"
            ],
            [
             0.1111111111111111,
             "#46039f"
            ],
            [
             0.2222222222222222,
             "#7201a8"
            ],
            [
             0.3333333333333333,
             "#9c179e"
            ],
            [
             0.4444444444444444,
             "#bd3786"
            ],
            [
             0.5555555555555556,
             "#d8576b"
            ],
            [
             0.6666666666666666,
             "#ed7953"
            ],
            [
             0.7777777777777778,
             "#fb9f3a"
            ],
            [
             0.8888888888888888,
             "#fdca26"
            ],
            [
             1,
             "#f0f921"
            ]
           ],
           "sequentialminus": [
            [
             0,
             "#0d0887"
            ],
            [
             0.1111111111111111,
             "#46039f"
            ],
            [
             0.2222222222222222,
             "#7201a8"
            ],
            [
             0.3333333333333333,
             "#9c179e"
            ],
            [
             0.4444444444444444,
             "#bd3786"
            ],
            [
             0.5555555555555556,
             "#d8576b"
            ],
            [
             0.6666666666666666,
             "#ed7953"
            ],
            [
             0.7777777777777778,
             "#fb9f3a"
            ],
            [
             0.8888888888888888,
             "#fdca26"
            ],
            [
             1,
             "#f0f921"
            ]
           ]
          },
          "colorway": [
           "#636efa",
           "#EF553B",
           "#00cc96",
           "#ab63fa",
           "#FFA15A",
           "#19d3f3",
           "#FF6692",
           "#B6E880",
           "#FF97FF",
           "#FECB52"
          ],
          "font": {
           "color": "#2a3f5f"
          },
          "geo": {
           "bgcolor": "white",
           "lakecolor": "white",
           "landcolor": "#E5ECF6",
           "showlakes": true,
           "showland": true,
           "subunitcolor": "white"
          },
          "hoverlabel": {
           "align": "left"
          },
          "hovermode": "closest",
          "mapbox": {
           "style": "light"
          },
          "paper_bgcolor": "white",
          "plot_bgcolor": "#E5ECF6",
          "polar": {
           "angularaxis": {
            "gridcolor": "white",
            "linecolor": "white",
            "ticks": ""
           },
           "bgcolor": "#E5ECF6",
           "radialaxis": {
            "gridcolor": "white",
            "linecolor": "white",
            "ticks": ""
           }
          },
          "scene": {
           "xaxis": {
            "backgroundcolor": "#E5ECF6",
            "gridcolor": "white",
            "gridwidth": 2,
            "linecolor": "white",
            "showbackground": true,
            "ticks": "",
            "zerolinecolor": "white"
           },
           "yaxis": {
            "backgroundcolor": "#E5ECF6",
            "gridcolor": "white",
            "gridwidth": 2,
            "linecolor": "white",
            "showbackground": true,
            "ticks": "",
            "zerolinecolor": "white"
           },
           "zaxis": {
            "backgroundcolor": "#E5ECF6",
            "gridcolor": "white",
            "gridwidth": 2,
            "linecolor": "white",
            "showbackground": true,
            "ticks": "",
            "zerolinecolor": "white"
           }
          },
          "shapedefaults": {
           "line": {
            "color": "#2a3f5f"
           }
          },
          "ternary": {
           "aaxis": {
            "gridcolor": "white",
            "linecolor": "white",
            "ticks": ""
           },
           "baxis": {
            "gridcolor": "white",
            "linecolor": "white",
            "ticks": ""
           },
           "bgcolor": "#E5ECF6",
           "caxis": {
            "gridcolor": "white",
            "linecolor": "white",
            "ticks": ""
           }
          },
          "title": {
           "x": 0.05
          },
          "xaxis": {
           "automargin": true,
           "gridcolor": "white",
           "linecolor": "white",
           "ticks": "",
           "title": {
            "standoff": 15
           },
           "zerolinecolor": "white",
           "zerolinewidth": 2
          },
          "yaxis": {
           "automargin": true,
           "gridcolor": "white",
           "linecolor": "white",
           "ticks": "",
           "title": {
            "standoff": 15
           },
           "zerolinecolor": "white",
           "zerolinewidth": 2
          }
         }
        },
        "title": {
         "text": "Slice Plot"
        },
        "xaxis": {
         "anchor": "y",
         "categoryarray": [
          8,
          16,
          32
         ],
         "categoryorder": "array",
         "domain": [
          0,
          0.2888888888888889
         ],
         "title": {
          "text": "batch_size"
         },
         "type": "category"
        },
        "xaxis2": {
         "anchor": "y2",
         "categoryarray": [
          8,
          16,
          32,
          64
         ],
         "categoryorder": "array",
         "domain": [
          0.35555555555555557,
          0.6444444444444445
         ],
         "title": {
          "text": "conv1_out_channels"
         },
         "type": "category"
        },
        "xaxis3": {
         "anchor": "y3",
         "domain": [
          0.7111111111111111,
          1
         ],
         "title": {
          "text": "learning_rate"
         },
         "type": "log"
        },
        "yaxis": {
         "anchor": "x",
         "domain": [
          0,
          1
         ],
         "title": {
          "text": "Objective Value"
         }
        },
        "yaxis2": {
         "anchor": "x2",
         "domain": [
          0,
          1
         ],
         "matches": "y",
         "showticklabels": false
        },
        "yaxis3": {
         "anchor": "x3",
         "domain": [
          0,
          1
         ],
         "matches": "y",
         "showticklabels": false
        }
       }
      }
     },
     "metadata": {},
     "output_type": "display_data"
    }
   ],
   "source": [
    "fig4 = plot_slice(study, params=[\"learning_rate\", \"batch_size\", \"conv1_out_channels\"])\n",
    "fig4.show()"
   ]
  },
  {
   "cell_type": "code",
   "execution_count": 20,
   "id": "bead9ef4",
   "metadata": {},
   "outputs": [
    {
     "data": {
      "application/vnd.plotly.v1+json": {
       "config": {
        "plotlyServerURL": "https://plot.ly"
       },
       "data": [
        {
         "colorbar": {
          "title": {
           "text": "Objective Value"
          }
         },
         "colorscale": [
          [
           0,
           "rgb(247,251,255)"
          ],
          [
           0.125,
           "rgb(222,235,247)"
          ],
          [
           0.25,
           "rgb(198,219,239)"
          ],
          [
           0.375,
           "rgb(158,202,225)"
          ],
          [
           0.5,
           "rgb(107,174,214)"
          ],
          [
           0.625,
           "rgb(66,146,198)"
          ],
          [
           0.75,
           "rgb(33,113,181)"
          ],
          [
           0.875,
           "rgb(8,81,156)"
          ],
          [
           1,
           "rgb(8,48,107)"
          ]
         ],
         "connectgaps": true,
         "contours": {
          "coloring": "heatmap"
         },
         "hoverinfo": "none",
         "line": {
          "smoothing": 1.3
         },
         "reversescale": false,
         "type": "contour",
         "x": [
          6.8,
          8,
          16,
          32,
          33.2
         ],
         "y": [
          0.00009199584792459256,
          0.00011321393809739401,
          0.00011663996768639834,
          0.00012990782985710582,
          0.00013739329298172596,
          0.0009927330935426833,
          0.0011809028377759497,
          0.0012473321576449458,
          0.001896548858862113,
          0.006238213268893065,
          0.007186762821647583,
          0.008844330908038262
         ],
         "z": {
          "bdata": "AAAAAAAA+H8AAAAAAAD4fwAAAAAAAPh/AAAAAAAA+H8AAAAAAAD4fwAAAAAAAPh/AAAAAAAA+H8AAAAAAAD4f/2+7/u+r1BAAAAAAAAA+H8AAAAAAAD4fwAAAAAAAPh/iqIoiqJoUEAAAAAAAAD4fwAAAAAAAPh/AAAAAAAA+H8AAAAAAAD4fwAAAAAAAPh/vRnxZsSbVEAAAAAAAAD4fwAAAAAAAPh/AAAAAAAA+H8AAAAAAAD4f+tPqT+lflVAAAAAAAAA+H8AAAAAAAD4fwAAAAAAAPh/AAAAAAAA+H8WsFbAWkFWQAAAAAAAAPh/AAAAAAAA+H8AAAAAAAD4fwAAAAAAAPh//b7v+76vVUAAAAAAAAD4fwAAAAAAAPh/AAAAAAAA+H/Vn1J/Sv1WQAAAAAAAAPh/AAAAAAAA+H8AAAAAAAD4f2bEmxFvhldAAAAAAAAA+H8AAAAAAAD4fwAAAAAAAPh/AAAAAAAA+H8AAAAAAAD4f+u6ruu67lRAAAAAAAAA+H8AAAAAAAD4fwAAAAAAAPh/CYIgCIJgVEAAAAAAAAD4fwAAAAAAAPh/AAAAAAAA+H8AAAAAAAD4fwAAAAAAAPh/AAAAAAAA+H8AAAAAAAD4fwAAAAAAAPh/",
          "dtype": "f8",
          "shape": "12, 5"
         }
        },
        {
         "marker": {
          "color": "black",
          "line": {
           "color": "Gray",
           "width": 2
          }
         },
         "mode": "markers",
         "name": "Feasible Trial",
         "showlegend": false,
         "type": "scatter",
         "x": [
          16,
          32,
          32,
          8,
          8,
          32,
          16,
          32,
          32,
          16
         ],
         "y": [
          0.00011663996768639834,
          0.00011321393809739401,
          0.0009927330935426833,
          0.007186762821647583,
          0.001896548858862113,
          0.0011809028377759497,
          0.0012473321576449458,
          0.00012990782985710582,
          0.00013739329298172596,
          0.006238213268893065
         ]
        },
        {
         "marker": {
          "color": "#cccccc",
          "line": {
           "color": "Gray",
           "width": 2
          }
         },
         "mode": "markers",
         "name": "Infeasible Trial",
         "showlegend": false,
         "type": "scatter",
         "x": [],
         "y": []
        }
       ],
       "layout": {
        "template": {
         "data": {
          "bar": [
           {
            "error_x": {
             "color": "#2a3f5f"
            },
            "error_y": {
             "color": "#2a3f5f"
            },
            "marker": {
             "line": {
              "color": "#E5ECF6",
              "width": 0.5
             },
             "pattern": {
              "fillmode": "overlay",
              "size": 10,
              "solidity": 0.2
             }
            },
            "type": "bar"
           }
          ],
          "barpolar": [
           {
            "marker": {
             "line": {
              "color": "#E5ECF6",
              "width": 0.5
             },
             "pattern": {
              "fillmode": "overlay",
              "size": 10,
              "solidity": 0.2
             }
            },
            "type": "barpolar"
           }
          ],
          "carpet": [
           {
            "aaxis": {
             "endlinecolor": "#2a3f5f",
             "gridcolor": "white",
             "linecolor": "white",
             "minorgridcolor": "white",
             "startlinecolor": "#2a3f5f"
            },
            "baxis": {
             "endlinecolor": "#2a3f5f",
             "gridcolor": "white",
             "linecolor": "white",
             "minorgridcolor": "white",
             "startlinecolor": "#2a3f5f"
            },
            "type": "carpet"
           }
          ],
          "choropleth": [
           {
            "colorbar": {
             "outlinewidth": 0,
             "ticks": ""
            },
            "type": "choropleth"
           }
          ],
          "contour": [
           {
            "colorbar": {
             "outlinewidth": 0,
             "ticks": ""
            },
            "colorscale": [
             [
              0,
              "#0d0887"
             ],
             [
              0.1111111111111111,
              "#46039f"
             ],
             [
              0.2222222222222222,
              "#7201a8"
             ],
             [
              0.3333333333333333,
              "#9c179e"
             ],
             [
              0.4444444444444444,
              "#bd3786"
             ],
             [
              0.5555555555555556,
              "#d8576b"
             ],
             [
              0.6666666666666666,
              "#ed7953"
             ],
             [
              0.7777777777777778,
              "#fb9f3a"
             ],
             [
              0.8888888888888888,
              "#fdca26"
             ],
             [
              1,
              "#f0f921"
             ]
            ],
            "type": "contour"
           }
          ],
          "contourcarpet": [
           {
            "colorbar": {
             "outlinewidth": 0,
             "ticks": ""
            },
            "type": "contourcarpet"
           }
          ],
          "heatmap": [
           {
            "colorbar": {
             "outlinewidth": 0,
             "ticks": ""
            },
            "colorscale": [
             [
              0,
              "#0d0887"
             ],
             [
              0.1111111111111111,
              "#46039f"
             ],
             [
              0.2222222222222222,
              "#7201a8"
             ],
             [
              0.3333333333333333,
              "#9c179e"
             ],
             [
              0.4444444444444444,
              "#bd3786"
             ],
             [
              0.5555555555555556,
              "#d8576b"
             ],
             [
              0.6666666666666666,
              "#ed7953"
             ],
             [
              0.7777777777777778,
              "#fb9f3a"
             ],
             [
              0.8888888888888888,
              "#fdca26"
             ],
             [
              1,
              "#f0f921"
             ]
            ],
            "type": "heatmap"
           }
          ],
          "histogram": [
           {
            "marker": {
             "pattern": {
              "fillmode": "overlay",
              "size": 10,
              "solidity": 0.2
             }
            },
            "type": "histogram"
           }
          ],
          "histogram2d": [
           {
            "colorbar": {
             "outlinewidth": 0,
             "ticks": ""
            },
            "colorscale": [
             [
              0,
              "#0d0887"
             ],
             [
              0.1111111111111111,
              "#46039f"
             ],
             [
              0.2222222222222222,
              "#7201a8"
             ],
             [
              0.3333333333333333,
              "#9c179e"
             ],
             [
              0.4444444444444444,
              "#bd3786"
             ],
             [
              0.5555555555555556,
              "#d8576b"
             ],
             [
              0.6666666666666666,
              "#ed7953"
             ],
             [
              0.7777777777777778,
              "#fb9f3a"
             ],
             [
              0.8888888888888888,
              "#fdca26"
             ],
             [
              1,
              "#f0f921"
             ]
            ],
            "type": "histogram2d"
           }
          ],
          "histogram2dcontour": [
           {
            "colorbar": {
             "outlinewidth": 0,
             "ticks": ""
            },
            "colorscale": [
             [
              0,
              "#0d0887"
             ],
             [
              0.1111111111111111,
              "#46039f"
             ],
             [
              0.2222222222222222,
              "#7201a8"
             ],
             [
              0.3333333333333333,
              "#9c179e"
             ],
             [
              0.4444444444444444,
              "#bd3786"
             ],
             [
              0.5555555555555556,
              "#d8576b"
             ],
             [
              0.6666666666666666,
              "#ed7953"
             ],
             [
              0.7777777777777778,
              "#fb9f3a"
             ],
             [
              0.8888888888888888,
              "#fdca26"
             ],
             [
              1,
              "#f0f921"
             ]
            ],
            "type": "histogram2dcontour"
           }
          ],
          "mesh3d": [
           {
            "colorbar": {
             "outlinewidth": 0,
             "ticks": ""
            },
            "type": "mesh3d"
           }
          ],
          "parcoords": [
           {
            "line": {
             "colorbar": {
              "outlinewidth": 0,
              "ticks": ""
             }
            },
            "type": "parcoords"
           }
          ],
          "pie": [
           {
            "automargin": true,
            "type": "pie"
           }
          ],
          "scatter": [
           {
            "fillpattern": {
             "fillmode": "overlay",
             "size": 10,
             "solidity": 0.2
            },
            "type": "scatter"
           }
          ],
          "scatter3d": [
           {
            "line": {
             "colorbar": {
              "outlinewidth": 0,
              "ticks": ""
             }
            },
            "marker": {
             "colorbar": {
              "outlinewidth": 0,
              "ticks": ""
             }
            },
            "type": "scatter3d"
           }
          ],
          "scattercarpet": [
           {
            "marker": {
             "colorbar": {
              "outlinewidth": 0,
              "ticks": ""
             }
            },
            "type": "scattercarpet"
           }
          ],
          "scattergeo": [
           {
            "marker": {
             "colorbar": {
              "outlinewidth": 0,
              "ticks": ""
             }
            },
            "type": "scattergeo"
           }
          ],
          "scattergl": [
           {
            "marker": {
             "colorbar": {
              "outlinewidth": 0,
              "ticks": ""
             }
            },
            "type": "scattergl"
           }
          ],
          "scattermap": [
           {
            "marker": {
             "colorbar": {
              "outlinewidth": 0,
              "ticks": ""
             }
            },
            "type": "scattermap"
           }
          ],
          "scattermapbox": [
           {
            "marker": {
             "colorbar": {
              "outlinewidth": 0,
              "ticks": ""
             }
            },
            "type": "scattermapbox"
           }
          ],
          "scatterpolar": [
           {
            "marker": {
             "colorbar": {
              "outlinewidth": 0,
              "ticks": ""
             }
            },
            "type": "scatterpolar"
           }
          ],
          "scatterpolargl": [
           {
            "marker": {
             "colorbar": {
              "outlinewidth": 0,
              "ticks": ""
             }
            },
            "type": "scatterpolargl"
           }
          ],
          "scatterternary": [
           {
            "marker": {
             "colorbar": {
              "outlinewidth": 0,
              "ticks": ""
             }
            },
            "type": "scatterternary"
           }
          ],
          "surface": [
           {
            "colorbar": {
             "outlinewidth": 0,
             "ticks": ""
            },
            "colorscale": [
             [
              0,
              "#0d0887"
             ],
             [
              0.1111111111111111,
              "#46039f"
             ],
             [
              0.2222222222222222,
              "#7201a8"
             ],
             [
              0.3333333333333333,
              "#9c179e"
             ],
             [
              0.4444444444444444,
              "#bd3786"
             ],
             [
              0.5555555555555556,
              "#d8576b"
             ],
             [
              0.6666666666666666,
              "#ed7953"
             ],
             [
              0.7777777777777778,
              "#fb9f3a"
             ],
             [
              0.8888888888888888,
              "#fdca26"
             ],
             [
              1,
              "#f0f921"
             ]
            ],
            "type": "surface"
           }
          ],
          "table": [
           {
            "cells": {
             "fill": {
              "color": "#EBF0F8"
             },
             "line": {
              "color": "white"
             }
            },
            "header": {
             "fill": {
              "color": "#C8D4E3"
             },
             "line": {
              "color": "white"
             }
            },
            "type": "table"
           }
          ]
         },
         "layout": {
          "annotationdefaults": {
           "arrowcolor": "#2a3f5f",
           "arrowhead": 0,
           "arrowwidth": 1
          },
          "autotypenumbers": "strict",
          "coloraxis": {
           "colorbar": {
            "outlinewidth": 0,
            "ticks": ""
           }
          },
          "colorscale": {
           "diverging": [
            [
             0,
             "#8e0152"
            ],
            [
             0.1,
             "#c51b7d"
            ],
            [
             0.2,
             "#de77ae"
            ],
            [
             0.3,
             "#f1b6da"
            ],
            [
             0.4,
             "#fde0ef"
            ],
            [
             0.5,
             "#f7f7f7"
            ],
            [
             0.6,
             "#e6f5d0"
            ],
            [
             0.7,
             "#b8e186"
            ],
            [
             0.8,
             "#7fbc41"
            ],
            [
             0.9,
             "#4d9221"
            ],
            [
             1,
             "#276419"
            ]
           ],
           "sequential": [
            [
             0,
             "#0d0887"
            ],
            [
             0.1111111111111111,
             "#46039f"
            ],
            [
             0.2222222222222222,
             "#7201a8"
            ],
            [
             0.3333333333333333,
             "#9c179e"
            ],
            [
             0.4444444444444444,
             "#bd3786"
            ],
            [
             0.5555555555555556,
             "#d8576b"
            ],
            [
             0.6666666666666666,
             "#ed7953"
            ],
            [
             0.7777777777777778,
             "#fb9f3a"
            ],
            [
             0.8888888888888888,
             "#fdca26"
            ],
            [
             1,
             "#f0f921"
            ]
           ],
           "sequentialminus": [
            [
             0,
             "#0d0887"
            ],
            [
             0.1111111111111111,
             "#46039f"
            ],
            [
             0.2222222222222222,
             "#7201a8"
            ],
            [
             0.3333333333333333,
             "#9c179e"
            ],
            [
             0.4444444444444444,
             "#bd3786"
            ],
            [
             0.5555555555555556,
             "#d8576b"
            ],
            [
             0.6666666666666666,
             "#ed7953"
            ],
            [
             0.7777777777777778,
             "#fb9f3a"
            ],
            [
             0.8888888888888888,
             "#fdca26"
            ],
            [
             1,
             "#f0f921"
            ]
           ]
          },
          "colorway": [
           "#636efa",
           "#EF553B",
           "#00cc96",
           "#ab63fa",
           "#FFA15A",
           "#19d3f3",
           "#FF6692",
           "#B6E880",
           "#FF97FF",
           "#FECB52"
          ],
          "font": {
           "color": "#2a3f5f"
          },
          "geo": {
           "bgcolor": "white",
           "lakecolor": "white",
           "landcolor": "#E5ECF6",
           "showlakes": true,
           "showland": true,
           "subunitcolor": "white"
          },
          "hoverlabel": {
           "align": "left"
          },
          "hovermode": "closest",
          "mapbox": {
           "style": "light"
          },
          "paper_bgcolor": "white",
          "plot_bgcolor": "#E5ECF6",
          "polar": {
           "angularaxis": {
            "gridcolor": "white",
            "linecolor": "white",
            "ticks": ""
           },
           "bgcolor": "#E5ECF6",
           "radialaxis": {
            "gridcolor": "white",
            "linecolor": "white",
            "ticks": ""
           }
          },
          "scene": {
           "xaxis": {
            "backgroundcolor": "#E5ECF6",
            "gridcolor": "white",
            "gridwidth": 2,
            "linecolor": "white",
            "showbackground": true,
            "ticks": "",
            "zerolinecolor": "white"
           },
           "yaxis": {
            "backgroundcolor": "#E5ECF6",
            "gridcolor": "white",
            "gridwidth": 2,
            "linecolor": "white",
            "showbackground": true,
            "ticks": "",
            "zerolinecolor": "white"
           },
           "zaxis": {
            "backgroundcolor": "#E5ECF6",
            "gridcolor": "white",
            "gridwidth": 2,
            "linecolor": "white",
            "showbackground": true,
            "ticks": "",
            "zerolinecolor": "white"
           }
          },
          "shapedefaults": {
           "line": {
            "color": "#2a3f5f"
           }
          },
          "ternary": {
           "aaxis": {
            "gridcolor": "white",
            "linecolor": "white",
            "ticks": ""
           },
           "baxis": {
            "gridcolor": "white",
            "linecolor": "white",
            "ticks": ""
           },
           "bgcolor": "#E5ECF6",
           "caxis": {
            "gridcolor": "white",
            "linecolor": "white",
            "ticks": ""
           }
          },
          "title": {
           "x": 0.05
          },
          "xaxis": {
           "automargin": true,
           "gridcolor": "white",
           "linecolor": "white",
           "ticks": "",
           "title": {
            "standoff": 15
           },
           "zerolinecolor": "white",
           "zerolinewidth": 2
          },
          "yaxis": {
           "automargin": true,
           "gridcolor": "white",
           "linecolor": "white",
           "ticks": "",
           "title": {
            "standoff": 15
           },
           "zerolinecolor": "white",
           "zerolinewidth": 2
          }
         }
        },
        "title": {
         "text": "Contour Plot"
        },
        "xaxis": {
         "range": [
          6.8,
          33.2
         ],
         "title": {
          "text": "batch_size"
         }
        },
        "yaxis": {
         "range": [
          -4.03623177335151,
          -2.053335016789102
         ],
         "title": {
          "text": "learning_rate"
         },
         "type": "log"
        }
       }
      }
     },
     "metadata": {},
     "output_type": "display_data"
    }
   ],
   "source": [
    "fig5 = plot_contour(study, params=[\"learning_rate\", \"batch_size\"])\n",
    "fig5.show()"
   ]
  },
  {
   "cell_type": "code",
   "execution_count": 25,
   "id": "9afbdff5",
   "metadata": {},
   "outputs": [
    {
     "name": "stdout",
     "output_type": "stream",
     "text": [
      "Best hyperparameters found: {'learning_rate': 0.005, 'batch_size': 8, 'conv1_out_channels': 8, 'conv2_out_channels': 64, 'fc_neurons': 64}\n",
      "Best average CV validation accuracy: 92.70%\n",
      "\n",
      "Retraining model with best hyperparameters on the full training dataset...\n"
     ]
    },
    {
     "data": {
      "application/vnd.jupyter.widget-view+json": {
       "model_id": "dafa91731e3e4a01876289f126903905",
       "version_major": 2,
       "version_minor": 0
      },
      "text/plain": [
       "Final Model Retraining:   0%|          | 0/25 [00:00<?, ?epoch/s]"
      ]
     },
     "metadata": {},
     "output_type": "display_data"
    },
    {
     "name": "stdout",
     "output_type": "stream",
     "text": [
      "  Epoch 1/25 - Train Loss: 0.7507, Train Acc: 50.00%, Test Acc: 50.00%\n",
      "  Epoch 2/25 - Train Loss: 0.6956, Train Acc: 50.00%, Test Acc: 50.00%\n",
      "  Epoch 3/25 - Train Loss: 0.6828, Train Acc: 75.00%, Test Acc: 76.47%\n",
      "  Epoch 4/25 - Train Loss: 0.6147, Train Acc: 69.85%, Test Acc: 61.76%\n",
      "  Epoch 5/25 - Train Loss: 0.5371, Train Acc: 82.35%, Test Acc: 61.76%\n",
      "  Epoch 6/25 - Train Loss: 0.4641, Train Acc: 84.56%, Test Acc: 64.71%\n",
      "  Epoch 7/25 - Train Loss: 0.4180, Train Acc: 79.41%, Test Acc: 76.47%\n",
      "  Epoch 8/25 - Train Loss: 0.3906, Train Acc: 87.50%, Test Acc: 73.53%\n",
      "  Epoch 9/25 - Train Loss: 0.4633, Train Acc: 77.21%, Test Acc: 70.59%\n",
      "  Epoch 10/25 - Train Loss: 0.4390, Train Acc: 83.82%, Test Acc: 64.71%\n",
      "  Epoch 11/25 - Train Loss: 0.3750, Train Acc: 77.94%, Test Acc: 73.53%\n",
      "  Epoch 12/25 - Train Loss: 0.3642, Train Acc: 71.32%, Test Acc: 55.88%\n",
      "  Epoch 13/25 - Train Loss: 0.4000, Train Acc: 77.94%, Test Acc: 73.53%\n",
      "  Epoch 14/25 - Train Loss: 0.4197, Train Acc: 86.76%, Test Acc: 70.59%\n",
      "  Epoch 15/25 - Train Loss: 0.4011, Train Acc: 86.76%, Test Acc: 70.59%\n",
      "  Epoch 16/25 - Train Loss: 0.3621, Train Acc: 80.88%, Test Acc: 73.53%\n",
      "  Epoch 17/25 - Train Loss: 0.3335, Train Acc: 86.76%, Test Acc: 73.53%\n",
      "  Epoch 18/25 - Train Loss: 0.3106, Train Acc: 88.97%, Test Acc: 79.41%\n",
      "  Epoch 19/25 - Train Loss: 0.3217, Train Acc: 92.65%, Test Acc: 73.53%\n",
      "  Epoch 20/25 - Train Loss: 0.3381, Train Acc: 80.15%, Test Acc: 73.53%\n",
      "  Epoch 21/25 - Train Loss: 0.3384, Train Acc: 82.35%, Test Acc: 76.47%\n",
      "  Epoch 22/25 - Train Loss: 0.2967, Train Acc: 86.03%, Test Acc: 79.41%\n",
      "  Epoch 23/25 - Train Loss: 0.3162, Train Acc: 84.56%, Test Acc: 79.41%\n",
      "  Epoch 24/25 - Train Loss: 0.3815, Train Acc: 82.35%, Test Acc: 79.41%\n",
      "  Epoch 25/25 - Train Loss: 0.2411, Train Acc: 89.71%, Test Acc: 79.41%\n",
      "Best retrained model saved to best_randomsearch_cnn_model.pth\n"
     ]
    }
   ],
   "source": [
    "num_epochs_search = 25\n",
    "\n",
    "best_model_train_losses = []\n",
    "best_model_val_accuracies = []\n",
    "best_model_train_accuracies = [] # New list for training accuracies\n",
    " \n",
    "if best_hyperparams:\n",
    "    print(f\"Best hyperparameters found: {best_hyperparams}\")\n",
    "    print(f\"Best average CV validation accuracy: {best_avg_cv_accuracy:.2f}%\")\n",
    " \n",
    "    # Retrain the model on the full training dataset with the best hyperparameters\n",
    "    print(\"\\nRetraining model with best hyperparameters on the full training dataset...\")\n",
    "   \n",
    "    try:\n",
    "        del final_model\n",
    "    except NameError:\n",
    "        pass\n",
    "\n",
    "    # (2) === CHANGED: Clear GPU/MPS cache before instantiating new model ===\n",
    "    if device.type == \"cuda\":\n",
    "        torch.cuda.empty_cache()\n",
    "    elif device.type == \"mps\":\n",
    "        torch.mps.empty_cache()\n",
    "    gc.collect()\n",
    "    \n",
    "    final_train_loader = DataLoader(train_dataset, batch_size=best_hyperparams['batch_size'], shuffle=True, num_workers=num_workers_flag, pin_memory=pin_memory_flag)\n",
    "    final_test_loader = DataLoader(test_dataset, batch_size=best_hyperparams['batch_size'], shuffle=False, num_workers=num_workers_flag, pin_memory=pin_memory_flag)\n",
    " \n",
    "    final_model = SimpleCNN(input_channels=C, input_height=H, input_width=W, num_classes=num_classes_hp,\n",
    "                            conv1_out_channels=best_hyperparams['conv1_out_channels'],\n",
    "                            conv2_out_channels=best_hyperparams['conv2_out_channels'],\n",
    "                            fc_neurons=best_hyperparams['fc_neurons']).to(device)\n",
    "   \n",
    "    criterion_final = nn.BCEWithLogitsLoss()\n",
    "    optimizer_final = optim.Adam(final_model.parameters(), lr=best_hyperparams['learning_rate'])\n",
    " \n",
    "    best_model_train_losses.clear()\n",
    "    best_model_val_accuracies.clear()\n",
    "    best_model_train_accuracies.clear() # Clear training accuracies list\n",
    " \n",
    "    for epoch in tqdm(range(num_epochs_search), desc=\"Final Model Retraining\", unit=\"epoch\"):\n",
    "        final_model.train()\n",
    "        running_loss = 0.0\n",
    "        for images, labels in final_train_loader:\n",
    "            images, labels = images.to(device), labels.to(device).float().unsqueeze(1)\n",
    "            optimizer_final.zero_grad()\n",
    "            outputs = final_model(images)\n",
    "            loss = criterion_final(outputs, labels)\n",
    "            loss.backward()\n",
    "            optimizer_final.step()\n",
    "            running_loss += loss.item() * images.size(0)\n",
    "       \n",
    "        avg_epoch_loss = running_loss / len(final_train_loader.dataset)\n",
    "        best_model_train_losses.append(avg_epoch_loss)\n",
    " \n",
    "        # Evaluate on the training set for training accuracy\n",
    "        final_model.eval()\n",
    "        train_correct = 0\n",
    "        train_total = 0\n",
    "        with torch.no_grad():\n",
    "            for images_train, labels_train in final_train_loader:\n",
    "                images_train, labels_train = images_train.to(device), labels_train.to(device).float().unsqueeze(1)\n",
    "                outputs_train = final_model(images_train)\n",
    "                predicted_train = (torch.sigmoid(outputs_train) > 0.5).float()\n",
    "                train_total += labels_train.size(0)\n",
    "                train_correct += (predicted_train == labels_train).sum().item()\n",
    "        current_train_accuracy = 100 * train_correct / train_total if train_total > 0 else 0.0\n",
    "        best_model_train_accuracies.append(current_train_accuracy)\n",
    " \n",
    "        # Evaluate on the test set for test accuracy\n",
    "        # final_model.eval() # Already in eval mode\n",
    "        correct = 0\n",
    "        total = 0\n",
    "        with torch.no_grad():\n",
    "            for images, labels in final_test_loader:\n",
    "                images, labels = images.to(device), labels.to(device).float().unsqueeze(1)\n",
    "                outputs = final_model(images)\n",
    "                predicted = (torch.sigmoid(outputs) > 0.5).float()\n",
    "                total += labels.size(0)\n",
    "                correct += (predicted == labels).sum().item()\n",
    "       \n",
    "        accuracy = 100 * correct / total if total > 0 else 0.0\n",
    "        best_model_val_accuracies.append(accuracy)\n",
    "        print(f\"  Epoch {epoch+1}/{num_epochs_search} - Train Loss: {avg_epoch_loss:.4f}, Train Acc: {current_train_accuracy:.2f}%, Test Acc: {accuracy:.2f}%\")\n",
    " \n",
    "        if device.type == \"mps\": torch.mps.empty_cache()\n",
    "        elif device.type == \"cuda\": torch.cuda.empty_cache()\n",
    "        gc.collect()\n",
    " \n",
    "    best_randomsearch_model_path = \"best_randomsearch_cnn_model.pth\"\n",
    "    torch.save(final_model.state_dict(), best_randomsearch_model_path)\n",
    "    print(f\"Best retrained model saved to {best_randomsearch_model_path}\")\n",
    " \n",
    "else:\n",
    "    print(\"No best hyperparameters found (e.g., all trials failed or num_trials was 0).\")\n",
    "    best_model_train_losses = []\n",
    "    best_model_val_accuracies = []\n",
    "    best_model_train_accuracies = [] \n",
    " "
   ]
  },
  {
   "cell_type": "code",
   "execution_count": 26,
   "id": "e193e5b4",
   "metadata": {},
   "outputs": [
    {
     "name": "stdout",
     "output_type": "stream",
     "text": [
      "Best Average CV Accuracy (from Hyperparameter Search): 92.70%\n",
      "Best Hyperparameters (from Hyperparameter Search): {'learning_rate': 0.005, 'batch_size': 8, 'conv1_out_channels': 8, 'conv2_out_channels': 64, 'fc_neurons': 64}\n",
      "Final Retrained Model Train Accuracy: 89.71%\n",
      "Final Retrained Model Test Accuracy: 79.41%\n",
      "Number of epochs for retraining: 25\n"
     ]
    },
    {
     "data": {
      "image/png": "[encoded data removed]",
      "text/plain": [
       "<Figure size 1800x500 with 3 Axes>"
      ]
     },
     "metadata": {},
     "output_type": "display_data"
    }
   ],
   "source": [
    "epochs = list(range(1, len(best_model_train_losses) + 1))\n",
    " \n",
    "# best_avg_cv_accuracy is from the hyperparameter search phase\n",
    "print(f\"Best Average CV Accuracy (from Hyperparameter Search): {best_avg_cv_accuracy:.2f}%\")\n",
    "print(f\"Best Hyperparameters (from Hyperparameter Search): {best_hyperparams}\")\n",
    " \n",
    "if epochs:\n",
    "    # best_model_val_accuracies now contains test accuracies of the retrained model\n",
    "    final_model_test_accuracy = best_model_val_accuracies[-1] # Get the last epoch's test accuracy\n",
    "    if best_model_train_accuracies:\n",
    "        final_model_train_accuracy = best_model_train_accuracies[-1]\n",
    "        print(f\"Final Retrained Model Train Accuracy: {final_model_train_accuracy:.2f}%\")\n",
    "    print(f\"Final Retrained Model Test Accuracy: {final_model_test_accuracy:.2f}%\")\n",
    "    print(f\"Number of epochs for retraining: {len(epochs)}\")\n",
    "else:\n",
    "    print(\"No retraining was performed or data is missing for plotting.\")\n",
    " \n",
    " \n",
    "# Plotting learning curves for the best model from hyperparameter search\n",
    "# These curves are from the model retrained on the full training set and evaluated on the test set.\n",
    "if best_model_train_losses and best_model_val_accuracies and best_model_train_accuracies:\n",
    "    plt.figure(figsize=(18, 5)) # Adjusted figure size for three subplots\n",
    " \n",
    "    plt.subplot(1, 3, 1)\n",
    "    plt.plot(epochs, best_model_train_losses, label='RS Model Training Loss (on Full Train Set)')\n",
    "    plt.xlabel('Epoch')\n",
    "    plt.ylabel('Loss')\n",
    "    plt.title('Final Model - Training Loss')\n",
    "    plt.legend()\n",
    " \n",
    "    plt.subplot(1, 3, 2) # New subplot for Training Accuracy\n",
    "    plt.plot(epochs, best_model_train_accuracies, label='RS Model Training Accuracy (on Full Train Set)', color='green')\n",
    "    plt.xlabel('Epoch')\n",
    "    plt.ylabel('Accuracy (%)')\n",
    "    plt.title('Final Model - Training Accuracy')\n",
    "    plt.legend()\n",
    "    plt.ylim(0, 101) # Optional: Set y-axis limits for accuracy\n",
    " \n",
    "    plt.subplot(1, 3, 3) # Adjusted subplot index for Test Accuracy\n",
    "    plt.plot(epochs, best_model_val_accuracies, label='RS Model Test Accuracy (on Test Set)', color='red')\n",
    "    plt.xlabel('Epoch')\n",
    "    plt.ylabel('Accuracy (%)')\n",
    "    plt.title('Final Model - Test Accuracy')\n",
    "    plt.legend()\n",
    "    plt.ylim(0, 101) # Optional: Set y-axis limits for accuracy\n",
    " \n",
    "    plt.tight_layout()\n",
    "    plt.show()\n",
    "else:\n",
    "    print(\"Learning curve data for the final retrained model is not available or incomplete.\")\n",
    " "
   ]
  },
  {
   "cell_type": "code",
   "execution_count": null,
   "id": "d5e27296",
   "metadata": {},
   "outputs": [],
   "source": []
  }
 ],
 "metadata": {
  "kernelspec": {
   "display_name": "DDAI_311",
   "language": "python",
   "name": "python3"
  },
  "language_info": {
   "codemirror_mode": {
    "name": "ipython",
    "version": 3
   },
   "file_extension": ".py",
   "mimetype": "text/x-python",
   "name": "python",
   "nbconvert_exporter": "python",
   "pygments_lexer": "ipython3",
   "version": "3.11.11"
  }
 },
 "nbformat": 4,
 "nbformat_minor": 5
}
