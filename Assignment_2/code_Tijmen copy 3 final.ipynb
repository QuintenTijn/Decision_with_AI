{
 "cells": [
  {
   "cell_type": "markdown",
   "id": "e8bc82e2",
   "metadata": {},
   "source": [
    "# Imports & loading"
   ]
  },
  {
   "cell_type": "code",
   "execution_count": 1,
   "id": "e71aeb63",
   "metadata": {},
   "outputs": [],
   "source": [
    "from support import load_dataset\n",
    "import matplotlib.pyplot as plt\n",
    "import torchvision.transforms as T\n",
    "import os\n",
    "os.environ[\"KMP_DUPLICATE_LIB_OK\"] = \"TRUE\"\n",
    "from tqdm.notebook import tqdm \n",
    "\n",
    "import pandas as pd\n",
    "\n",
    "import random\n",
    "import numpy as np\n",
    "import torch\n",
    "import torch.nn as nn\n",
    "import torch.optim as optim\n",
    "from torch.utils.data import DataLoader\n",
    "\n",
    "import optuna\n",
    "from optuna.visualization import (\n",
    "    plot_optimization_history,\n",
    "    plot_param_importances,\n",
    "    plot_parallel_coordinate,\n",
    "    plot_slice,\n",
    "    plot_contour,\n",
    ")\n",
    "import plotly"
   ]
  },
  {
   "cell_type": "code",
   "execution_count": 2,
   "id": "6d542257",
   "metadata": {},
   "outputs": [
    {
     "name": "stdout",
     "output_type": "stream",
     "text": [
      "Using device: mps\n"
     ]
    }
   ],
   "source": [
    "import torch, gc, os\n",
    "\n",
    "def get_device():\n",
    "    if torch.backends.mps.is_available():         # Apple GPU\n",
    "        return torch.device(\"mps\")\n",
    "    elif torch.cuda.is_available():               # NVIDIA eGPU etc.\n",
    "        return torch.device(\"cuda\")\n",
    "    else:                                         # fallback\n",
    "        return torch.device(\"cpu\")\n",
    "\n",
    "device = get_device()\n",
    "print(f\"Using device: {device}\")\n",
    "torch.set_float32_matmul_precision(\"high\")        # speeds M-series matmul\n",
    "os.environ[\"PYTORCH_ENABLE_MPS_FALLBACK\"] = \"1\"   # CPU fallback for missing ops\n"
   ]
  },
  {
   "cell_type": "markdown",
   "id": "fd2cd22c",
   "metadata": {},
   "source": [
    "#### Print Python and PyTorch version"
   ]
  },
  {
   "cell_type": "code",
   "execution_count": 3,
   "id": "f2b3f703",
   "metadata": {},
   "outputs": [
    {
     "name": "stdout",
     "output_type": "stream",
     "text": [
      "Python version: 3.11.11 (main, Dec 11 2024, 10:25:04) [Clang 14.0.6 ]\n",
      "PyTorch version: 2.7.0\n",
      "CUDA available: False\n"
     ]
    }
   ],
   "source": [
    "print(\"Python version:\", os.sys.version)\n",
    "print(\"PyTorch version:\", torch.__version__)\n",
    "print(\"CUDA available:\", torch.cuda.is_available())"
   ]
  },
  {
   "cell_type": "code",
   "execution_count": 4,
   "id": "e549c95d",
   "metadata": {},
   "outputs": [],
   "source": [
    "data = load_dataset()\n",
    "train_dataset = data[0]\n",
    "test_dataset = data[1]"
   ]
  },
  {
   "cell_type": "code",
   "execution_count": 5,
   "id": "e1fe5181",
   "metadata": {},
   "outputs": [
    {
     "name": "stdout",
     "output_type": "stream",
     "text": [
      "Image shape: torch.Size([3, 60, 30])\n",
      "Label: 0\n",
      "Train_dataset: Dataset ImageFolder\n",
      "    Number of datapoints: 136\n",
      "    Root location: WF-data/train\n",
      "    StandardTransform\n",
      "Transform: Compose(\n",
      "               Resize(size=[105, 78], interpolation=bilinear, max_size=None, antialias=True)\n",
      "               CenterCrop(size=[60, 30])\n",
      "               ToTensor()\n",
      "           )\n"
     ]
    }
   ],
   "source": [
    "img, label = train_dataset[0]\n",
    "\n",
    "print(f\"Image shape: {img.shape}\")\n",
    "print(f\"Label: {label}\")\n",
    "print(f\"Train_dataset: {train_dataset}\")"
   ]
  },
  {
   "cell_type": "code",
   "execution_count": 6,
   "id": "9d010dd6",
   "metadata": {},
   "outputs": [
    {
     "data": {
      "image/png": "[encoded data removed]",
      "text/plain": [
       "<Figure size 640x480 with 1 Axes>"
      ]
     },
     "metadata": {},
     "output_type": "display_data"
    }
   ],
   "source": [
    "img_tensor, label = train_dataset[0]\n",
    "transform_to_pil = T.ToPILImage()\n",
    "img_pil = transform_to_pil(img_tensor)\n",
    "\n",
    "plt.imshow(img_pil)\n",
    "plt.title(f\"Label: {label}\")\n",
    "plt.axis('off')\n",
    "plt.show()"
   ]
  },
  {
   "cell_type": "markdown",
   "id": "be77b74f",
   "metadata": {},
   "source": [
    "# Base model"
   ]
  },
  {
   "cell_type": "code",
   "execution_count": 7,
   "id": "3d470596",
   "metadata": {},
   "outputs": [],
   "source": [
    "class SimpleCNN(nn.Module):\n",
    "    def __init__(self, input_channels, input_height, input_width, num_classes,\n",
    "                 conv1_out_channels=16, conv2_out_channels=32, fc_neurons=128):\n",
    "        super(SimpleCNN, self).__init__()\n",
    "        self.conv_layers = nn.Sequential(\n",
    "            nn.Conv2d(input_channels, conv1_out_channels, kernel_size=3, padding=1),\n",
    "            nn.ReLU(),\n",
    "            nn.MaxPool2d(kernel_size=2, stride=2),  # Output: conv1_out_channels x H/2 x W/2\n",
    "            nn.Conv2d(conv1_out_channels, conv2_out_channels, kernel_size=3, padding=1),\n",
    "            nn.ReLU(),\n",
    "            nn.MaxPool2d(kernel_size=2, stride=2)   # Output: conv2_out_channels x H/4 x W/4\n",
    "        )\n",
    "        \n",
    "        # Calculate the flattened size dynamically\n",
    "        with torch.no_grad():\n",
    "            dummy_input = torch.zeros(1, input_channels, input_height, input_width)\n",
    "            flattened_size = self.conv_layers(dummy_input).flatten(1).shape[1]\n",
    "            \n",
    "        self.fc_layers = nn.Sequential(\n",
    "            nn.Linear(flattened_size, fc_neurons),\n",
    "            nn.ReLU(),\n",
    "            nn.Linear(fc_neurons, 1 if num_classes == 2 else num_classes) \n",
    "        )\n",
    "\n",
    "    def forward(self, x):\n",
    "        x = self.conv_layers(x)\n",
    "        x = x.flatten(1) # Flatten all dimensions except batch\n",
    "        x = self.fc_layers(x)\n",
    "        return x"
   ]
  },
  {
   "cell_type": "code",
   "execution_count": null,
   "id": "6e13a536",
   "metadata": {},
   "outputs": [
    {
     "name": "stdout",
     "output_type": "stream",
     "text": [
      "Detected image shape: Channels=3, Height=60, Width=30\n",
      "Using device: mps\n"
     ]
    },
    {
     "data": {
      "application/vnd.jupyter.widget-view+json": {
       "model_id": "c39f13a255cd458592ae55755e5f9cb9",
       "version_major": 2,
       "version_minor": 0
      },
      "text/plain": [
       "Training Progress:   0%|          | 0/30 [00:00<?, ?epoch/s]"
      ]
     },
     "metadata": {},
     "output_type": "display_data"
    },
    {
     "name": "stdout",
     "output_type": "stream",
     "text": [
      "Epoch [1/30] completed. Average Training Loss: 0.6981\n",
      "Accuracy on test set after epoch 1: 70.59%\n",
      "Epoch [2/30] completed. Average Training Loss: 0.6971\n",
      "Accuracy on test set after epoch 2: 50.00%\n",
      "Epoch [3/30] completed. Average Training Loss: 0.6942\n",
      "Accuracy on test set after epoch 3: 50.00%\n",
      "Epoch [4/30] completed. Average Training Loss: 0.6931\n",
      "Accuracy on test set after epoch 4: 50.00%\n",
      "Epoch [5/30] completed. Average Training Loss: 0.6916\n",
      "Accuracy on test set after epoch 5: 50.00%\n",
      "Epoch [6/30] completed. Average Training Loss: 0.6890\n",
      "Accuracy on test set after epoch 6: 76.47%\n",
      "Epoch [7/30] completed. Average Training Loss: 0.6828\n",
      "Accuracy on test set after epoch 7: 50.00%\n",
      "Epoch [8/30] completed. Average Training Loss: 0.6754\n",
      "Accuracy on test set after epoch 8: 76.47%\n"
     ]
    }
   ],
   "source": [
    "sample_img, _ = train_dataset[0]\n",
    "C, H, W = sample_img.shape\n",
    "print(f\"Detected image shape: Channels={C}, Height={H}, Width={W}\")\n",
    "\n",
    "# Hyperparameters (Base Model)\n",
    "learning_rate = 0.001\n",
    "batch_size = 16 \n",
    "num_epochs = 25 \n",
    "num_classes = 2 \n",
    "\n",
    "# Default architectural parameters for the base model\n",
    "conv1_out_channels_base = 16\n",
    "conv2_out_channels_base = 32\n",
    "fc_neurons_base = 128\n",
    "\n",
    "# Model, Loss, Optimizer\n",
    "device = get_device()\n",
    "print(f\"Using device: {device}\")\n",
    "\n",
    "# DataLoaders\n",
    "pin_memory_flag   = device.type == 'cuda'\n",
    "num_workers_flag  = 2 if device.type == 'cuda' else 0   # 0 on M-series/CPU\n",
    "train_loader = DataLoader(train_dataset, batch_size=batch_size, shuffle=True, num_workers=num_workers_flag, pin_memory=pin_memory_flag)\n",
    "test_loader = DataLoader(test_dataset, batch_size=batch_size, shuffle=False, num_workers=num_workers_flag, pin_memory=pin_memory_flag)\n",
    "\n",
    "# Use the (potentially modified) SimpleCNN class\n",
    "model = SimpleCNN(input_channels=C, input_height=H, input_width=W, num_classes=num_classes,\n",
    "                    conv1_out_channels=conv1_out_channels_base, \n",
    "                    conv2_out_channels=conv2_out_channels_base, \n",
    "                    fc_neurons=fc_neurons_base).to(device)\n",
    "# model = torch.compile(model)\n",
    "\n",
    "criterion = nn.BCEWithLogitsLoss()\n",
    "optimizer = optim.Adam(model.parameters(), lr=learning_rate)\n",
    "\n",
    "# Lists to store metrics for plotting\n",
    "epoch_train_losses = []\n",
    "epoch_test_accuracies = []\n",
    "\n",
    "# Training loop\n",
    "for epoch in tqdm(range(num_epochs), desc=\"Training Progress\", unit=\"epoch\"):\n",
    "    model.train()  \n",
    "    running_loss = 0.0\n",
    "    for images, labels in train_loader:\n",
    "        images = images.to(device)\n",
    "        labels = labels.to(device).float().unsqueeze(1) \n",
    "\n",
    "        outputs = model(images)\n",
    "        loss = criterion(outputs, labels)\n",
    "\n",
    "        optimizer.zero_grad()\n",
    "        loss.backward()\n",
    "        optimizer.step()\n",
    "\n",
    "        running_loss += loss.item() * images.size(0) # loss.item() is avg loss for batch\n",
    "    \n",
    "    avg_epoch_loss = running_loss / len(train_loader.dataset)  # Average loss over the entire training set\n",
    "    epoch_train_losses.append(avg_epoch_loss)\n",
    "    print(f\"Epoch [{epoch+1}/{num_epochs}] completed. Average Training Loss: {avg_epoch_loss:.4f}\")\n",
    "\n",
    "    # Evaluation on the test set\n",
    "    model.eval()\n",
    "    correct = 0\n",
    "    total = 0\n",
    "    with torch.no_grad(): \n",
    "        for images, labels in test_loader:\n",
    "            images = images.to(device)\n",
    "            labels = labels.to(device).float().unsqueeze(1)\n",
    "            \n",
    "            outputs = model(images)\n",
    "            predicted = (torch.sigmoid(outputs) > 0.5).float() \n",
    "            \n",
    "            total += labels.size(0)\n",
    "            correct += (predicted == labels).sum().item()\n",
    "    \n",
    "    accuracy = 100 * correct / total\n",
    "    epoch_test_accuracies.append(accuracy)\n",
    "    print(f\"Accuracy on test set after epoch {epoch+1}: {accuracy:.2f}%\")\n",
    "\n",
    "    if device.type == \"mps\":            # Apple-GPU path\n",
    "        torch.mps.empty_cache()\n",
    "    elif device.type == \"cuda\":         # NVIDIA-GPU path\n",
    "        torch.cuda.empty_cache()\n",
    "    gc.collect()                        # reclaim Python-held objects\n",
    "\n",
    "print(\"Finished Training Base Model\")"
   ]
  },
  {
   "cell_type": "markdown",
   "id": "6293f4b5",
   "metadata": {},
   "source": [
    "### Plots"
   ]
  },
  {
   "cell_type": "code",
   "execution_count": null,
   "id": "ec2ffc15",
   "metadata": {},
   "outputs": [
    {
     "ename": "ValueError",
     "evalue": "x and y must have same first dimension, but have shapes (40,) and (10,)",
     "output_type": "error",
     "traceback": [
      "\u001b[0;31m---------------------------------------------------------------------------\u001b[0m",
      "\u001b[0;31mValueError\u001b[0m                                Traceback (most recent call last)",
      "Cell \u001b[0;32mIn[14], line 5\u001b[0m\n\u001b[1;32m      2\u001b[0m plt\u001b[38;5;241m.\u001b[39mfigure(figsize\u001b[38;5;241m=\u001b[39m(\u001b[38;5;241m12\u001b[39m, \u001b[38;5;241m5\u001b[39m))\n\u001b[1;32m      4\u001b[0m plt\u001b[38;5;241m.\u001b[39msubplot(\u001b[38;5;241m1\u001b[39m, \u001b[38;5;241m2\u001b[39m, \u001b[38;5;241m1\u001b[39m)\n\u001b[0;32m----> 5\u001b[0m plt\u001b[38;5;241m.\u001b[39mplot(\u001b[38;5;28mrange\u001b[39m(\u001b[38;5;241m1\u001b[39m, num_epochs \u001b[38;5;241m+\u001b[39m \u001b[38;5;241m1\u001b[39m), epoch_train_losses, label\u001b[38;5;241m=\u001b[39m\u001b[38;5;124m'\u001b[39m\u001b[38;5;124mTraining Loss\u001b[39m\u001b[38;5;124m'\u001b[39m)\n\u001b[1;32m      6\u001b[0m plt\u001b[38;5;241m.\u001b[39mxlabel(\u001b[38;5;124m'\u001b[39m\u001b[38;5;124mEpoch\u001b[39m\u001b[38;5;124m'\u001b[39m)\n\u001b[1;32m      7\u001b[0m plt\u001b[38;5;241m.\u001b[39mylabel(\u001b[38;5;124m'\u001b[39m\u001b[38;5;124mLoss\u001b[39m\u001b[38;5;124m'\u001b[39m)\n",
      "File \u001b[0;32m/opt/anaconda3/envs/DDAI_311/lib/python3.11/site-packages/matplotlib/pyplot.py:3829\u001b[0m, in \u001b[0;36mplot\u001b[0;34m(scalex, scaley, data, *args, **kwargs)\u001b[0m\n\u001b[1;32m   3821\u001b[0m \u001b[38;5;129m@_copy_docstring_and_deprecators\u001b[39m(Axes\u001b[38;5;241m.\u001b[39mplot)\n\u001b[1;32m   3822\u001b[0m \u001b[38;5;28;01mdef\u001b[39;00m \u001b[38;5;21mplot\u001b[39m(\n\u001b[1;32m   3823\u001b[0m     \u001b[38;5;241m*\u001b[39margs: \u001b[38;5;28mfloat\u001b[39m \u001b[38;5;241m|\u001b[39m ArrayLike \u001b[38;5;241m|\u001b[39m \u001b[38;5;28mstr\u001b[39m,\n\u001b[0;32m   (...)\u001b[0m\n\u001b[1;32m   3827\u001b[0m     \u001b[38;5;241m*\u001b[39m\u001b[38;5;241m*\u001b[39mkwargs,\n\u001b[1;32m   3828\u001b[0m ) \u001b[38;5;241m-\u001b[39m\u001b[38;5;241m>\u001b[39m \u001b[38;5;28mlist\u001b[39m[Line2D]:\n\u001b[0;32m-> 3829\u001b[0m     \u001b[38;5;28;01mreturn\u001b[39;00m gca()\u001b[38;5;241m.\u001b[39mplot(\n\u001b[1;32m   3830\u001b[0m         \u001b[38;5;241m*\u001b[39margs,\n\u001b[1;32m   3831\u001b[0m         scalex\u001b[38;5;241m=\u001b[39mscalex,\n\u001b[1;32m   3832\u001b[0m         scaley\u001b[38;5;241m=\u001b[39mscaley,\n\u001b[1;32m   3833\u001b[0m         \u001b[38;5;241m*\u001b[39m\u001b[38;5;241m*\u001b[39m({\u001b[38;5;124m\"\u001b[39m\u001b[38;5;124mdata\u001b[39m\u001b[38;5;124m\"\u001b[39m: data} \u001b[38;5;28;01mif\u001b[39;00m data \u001b[38;5;129;01mis\u001b[39;00m \u001b[38;5;129;01mnot\u001b[39;00m \u001b[38;5;28;01mNone\u001b[39;00m \u001b[38;5;28;01melse\u001b[39;00m {}),\n\u001b[1;32m   3834\u001b[0m         \u001b[38;5;241m*\u001b[39m\u001b[38;5;241m*\u001b[39mkwargs,\n\u001b[1;32m   3835\u001b[0m     )\n",
      "File \u001b[0;32m/opt/anaconda3/envs/DDAI_311/lib/python3.11/site-packages/matplotlib/axes/_axes.py:1777\u001b[0m, in \u001b[0;36mAxes.plot\u001b[0;34m(self, scalex, scaley, data, *args, **kwargs)\u001b[0m\n\u001b[1;32m   1534\u001b[0m \u001b[38;5;250m\u001b[39m\u001b[38;5;124;03m\"\"\"\u001b[39;00m\n\u001b[1;32m   1535\u001b[0m \u001b[38;5;124;03mPlot y versus x as lines and/or markers.\u001b[39;00m\n\u001b[1;32m   1536\u001b[0m \n\u001b[0;32m   (...)\u001b[0m\n\u001b[1;32m   1774\u001b[0m \u001b[38;5;124;03m(``'green'``) or hex strings (``'#008000'``).\u001b[39;00m\n\u001b[1;32m   1775\u001b[0m \u001b[38;5;124;03m\"\"\"\u001b[39;00m\n\u001b[1;32m   1776\u001b[0m kwargs \u001b[38;5;241m=\u001b[39m cbook\u001b[38;5;241m.\u001b[39mnormalize_kwargs(kwargs, mlines\u001b[38;5;241m.\u001b[39mLine2D)\n\u001b[0;32m-> 1777\u001b[0m lines \u001b[38;5;241m=\u001b[39m [\u001b[38;5;241m*\u001b[39m\u001b[38;5;28mself\u001b[39m\u001b[38;5;241m.\u001b[39m_get_lines(\u001b[38;5;28mself\u001b[39m, \u001b[38;5;241m*\u001b[39margs, data\u001b[38;5;241m=\u001b[39mdata, \u001b[38;5;241m*\u001b[39m\u001b[38;5;241m*\u001b[39mkwargs)]\n\u001b[1;32m   1778\u001b[0m \u001b[38;5;28;01mfor\u001b[39;00m line \u001b[38;5;129;01min\u001b[39;00m lines:\n\u001b[1;32m   1779\u001b[0m     \u001b[38;5;28mself\u001b[39m\u001b[38;5;241m.\u001b[39madd_line(line)\n",
      "File \u001b[0;32m/opt/anaconda3/envs/DDAI_311/lib/python3.11/site-packages/matplotlib/axes/_base.py:297\u001b[0m, in \u001b[0;36m_process_plot_var_args.__call__\u001b[0;34m(self, axes, data, return_kwargs, *args, **kwargs)\u001b[0m\n\u001b[1;32m    295\u001b[0m     this \u001b[38;5;241m+\u001b[39m\u001b[38;5;241m=\u001b[39m args[\u001b[38;5;241m0\u001b[39m],\n\u001b[1;32m    296\u001b[0m     args \u001b[38;5;241m=\u001b[39m args[\u001b[38;5;241m1\u001b[39m:]\n\u001b[0;32m--> 297\u001b[0m \u001b[38;5;28;01myield from\u001b[39;00m \u001b[38;5;28mself\u001b[39m\u001b[38;5;241m.\u001b[39m_plot_args(\n\u001b[1;32m    298\u001b[0m     axes, this, kwargs, ambiguous_fmt_datakey\u001b[38;5;241m=\u001b[39mambiguous_fmt_datakey,\n\u001b[1;32m    299\u001b[0m     return_kwargs\u001b[38;5;241m=\u001b[39mreturn_kwargs\n\u001b[1;32m    300\u001b[0m )\n",
      "File \u001b[0;32m/opt/anaconda3/envs/DDAI_311/lib/python3.11/site-packages/matplotlib/axes/_base.py:494\u001b[0m, in \u001b[0;36m_process_plot_var_args._plot_args\u001b[0;34m(self, axes, tup, kwargs, return_kwargs, ambiguous_fmt_datakey)\u001b[0m\n\u001b[1;32m    491\u001b[0m     axes\u001b[38;5;241m.\u001b[39myaxis\u001b[38;5;241m.\u001b[39mupdate_units(y)\n\u001b[1;32m    493\u001b[0m \u001b[38;5;28;01mif\u001b[39;00m x\u001b[38;5;241m.\u001b[39mshape[\u001b[38;5;241m0\u001b[39m] \u001b[38;5;241m!=\u001b[39m y\u001b[38;5;241m.\u001b[39mshape[\u001b[38;5;241m0\u001b[39m]:\n\u001b[0;32m--> 494\u001b[0m     \u001b[38;5;28;01mraise\u001b[39;00m \u001b[38;5;167;01mValueError\u001b[39;00m(\u001b[38;5;124mf\u001b[39m\u001b[38;5;124m\"\u001b[39m\u001b[38;5;124mx and y must have same first dimension, but \u001b[39m\u001b[38;5;124m\"\u001b[39m\n\u001b[1;32m    495\u001b[0m                      \u001b[38;5;124mf\u001b[39m\u001b[38;5;124m\"\u001b[39m\u001b[38;5;124mhave shapes \u001b[39m\u001b[38;5;132;01m{\u001b[39;00mx\u001b[38;5;241m.\u001b[39mshape\u001b[38;5;132;01m}\u001b[39;00m\u001b[38;5;124m and \u001b[39m\u001b[38;5;132;01m{\u001b[39;00my\u001b[38;5;241m.\u001b[39mshape\u001b[38;5;132;01m}\u001b[39;00m\u001b[38;5;124m\"\u001b[39m)\n\u001b[1;32m    496\u001b[0m \u001b[38;5;28;01mif\u001b[39;00m x\u001b[38;5;241m.\u001b[39mndim \u001b[38;5;241m>\u001b[39m \u001b[38;5;241m2\u001b[39m \u001b[38;5;129;01mor\u001b[39;00m y\u001b[38;5;241m.\u001b[39mndim \u001b[38;5;241m>\u001b[39m \u001b[38;5;241m2\u001b[39m:\n\u001b[1;32m    497\u001b[0m     \u001b[38;5;28;01mraise\u001b[39;00m \u001b[38;5;167;01mValueError\u001b[39;00m(\u001b[38;5;124mf\u001b[39m\u001b[38;5;124m\"\u001b[39m\u001b[38;5;124mx and y can be no greater than 2D, but have \u001b[39m\u001b[38;5;124m\"\u001b[39m\n\u001b[1;32m    498\u001b[0m                      \u001b[38;5;124mf\u001b[39m\u001b[38;5;124m\"\u001b[39m\u001b[38;5;124mshapes \u001b[39m\u001b[38;5;132;01m{\u001b[39;00mx\u001b[38;5;241m.\u001b[39mshape\u001b[38;5;132;01m}\u001b[39;00m\u001b[38;5;124m and \u001b[39m\u001b[38;5;132;01m{\u001b[39;00my\u001b[38;5;241m.\u001b[39mshape\u001b[38;5;132;01m}\u001b[39;00m\u001b[38;5;124m\"\u001b[39m)\n",
      "\u001b[0;31mValueError\u001b[0m: x and y must have same first dimension, but have shapes (40,) and (10,)"
     ]
    },
    {
     "data": {
      "image/png": "[encoded data removed]",
      "text/plain": [
       "<Figure size 1200x500 with 1 Axes>"
      ]
     },
     "metadata": {},
     "output_type": "display_data"
    }
   ],
   "source": [
    "# Plotting learning curves\n",
    "plt.figure(figsize=(12, 5))\n",
    "\n",
    "plt.subplot(1, 2, 1)\n",
    "plt.plot(range(1, num_epochs + 1), epoch_train_losses, label='Training Loss')\n",
    "plt.xlabel('Epoch')\n",
    "plt.ylabel('Loss')\n",
    "plt.title('Training Loss Curve', fontsize=14)\n",
    "plt.legend()\n",
    "\n",
    "plt.subplot(1, 2, 2)\n",
    "plt.plot(range(1, num_epochs + 1), epoch_test_accuracies, label='Test Accuracy', color='red')\n",
    "plt.xlabel('Epoch')\n",
    "plt.ylabel('Accuracy (%)')\n",
    "plt.title('Test Accuracy Curve', fontsize=14)\n",
    "plt.legend()\n",
    "\n",
    "plt.tight_layout()\n",
    "plt.show()"
   ]
  },
  {
   "cell_type": "markdown",
   "id": "bca0754c",
   "metadata": {},
   "source": [
    "## Hyperparameter tuning"
   ]
  },
  {
   "cell_type": "markdown",
   "id": "0e629c83",
   "metadata": {},
   "source": [
    "### Random Search"
   ]
  },
  {
   "cell_type": "code",
   "execution_count": null,
   "id": "77bf141f",
   "metadata": {},
   "outputs": [
    {
     "name": "stdout",
     "output_type": "stream",
     "text": [
      "Using device for hyperparameter tuning: mps\n"
     ]
    },
    {
     "data": {
      "application/vnd.jupyter.widget-view+json": {
       "model_id": "4393e7c6222b4fb5a7afd0aa45499e44",
       "version_major": 2,
       "version_minor": 0
      },
      "text/plain": [
       "Hyperparameter Search Trials:   0%|          | 0/3 [00:00<?, ?trial/s]"
      ]
     },
     "metadata": {},
     "output_type": "display_data"
    },
    {
     "name": "stdout",
     "output_type": "stream",
     "text": [
      "\n",
      "Trial 1/3 - Testing params: {'learning_rate': 0.005, 'batch_size': 16, 'conv1_out_channels': 32, 'conv2_out_channels': 32, 'fc_neurons': 256}\n",
      "  Fold 1/5\n"
     ]
    },
    {
     "data": {
      "application/vnd.jupyter.widget-view+json": {
       "model_id": "bfd5bef9cbe344b591c6afb20b06c7f4",
       "version_major": 2,
       "version_minor": 0
      },
      "text/plain": [
       "    Epochs (Fold 1):   0%|          | 0/3 [00:00<?, ?it/s]"
      ]
     },
     "metadata": {},
     "output_type": "display_data"
    },
    {
     "name": "stdout",
     "output_type": "stream",
     "text": [
      "  Fold 2/5\n"
     ]
    },
    {
     "data": {
      "application/vnd.jupyter.widget-view+json": {
       "model_id": "30babe15920c448aae45e158908750ed",
       "version_major": 2,
       "version_minor": 0
      },
      "text/plain": [
       "    Epochs (Fold 2):   0%|          | 0/3 [00:00<?, ?it/s]"
      ]
     },
     "metadata": {},
     "output_type": "display_data"
    },
    {
     "name": "stdout",
     "output_type": "stream",
     "text": [
      "  Fold 3/5\n"
     ]
    },
    {
     "data": {
      "application/vnd.jupyter.widget-view+json": {
       "model_id": "bfd62500699242f3a2d873cef95b2e8c",
       "version_major": 2,
       "version_minor": 0
      },
      "text/plain": [
       "    Epochs (Fold 3):   0%|          | 0/3 [00:00<?, ?it/s]"
      ]
     },
     "metadata": {},
     "output_type": "display_data"
    },
    {
     "name": "stdout",
     "output_type": "stream",
     "text": [
      "  Fold 4/5\n"
     ]
    },
    {
     "data": {
      "application/vnd.jupyter.widget-view+json": {
       "model_id": "786f9599c53b41579e0aa553a77f68b3",
       "version_major": 2,
       "version_minor": 0
      },
      "text/plain": [
       "    Epochs (Fold 4):   0%|          | 0/3 [00:00<?, ?it/s]"
      ]
     },
     "metadata": {},
     "output_type": "display_data"
    },
    {
     "name": "stdout",
     "output_type": "stream",
     "text": [
      "  Fold 5/5\n"
     ]
    },
    {
     "data": {
      "application/vnd.jupyter.widget-view+json": {
       "model_id": "281a6f24de864d3098cacdfaf9d12ffd",
       "version_major": 2,
       "version_minor": 0
      },
      "text/plain": [
       "    Epochs (Fold 5):   0%|          | 0/3 [00:00<?, ?it/s]"
      ]
     },
     "metadata": {},
     "output_type": "display_data"
    },
    {
     "name": "stdout",
     "output_type": "stream",
     "text": [
      "  Trial 1 Avg CV Accuracy: 55.11%\n",
      "  New best average CV accuracy: 55.11% with params: {'learning_rate': 0.005, 'batch_size': 16, 'conv1_out_channels': 32, 'conv2_out_channels': 32, 'fc_neurons': 256}\n",
      "\n",
      "Trial 2/3 - Testing params: {'learning_rate': 0.005, 'batch_size': 16, 'conv1_out_channels': 16, 'conv2_out_channels': 32, 'fc_neurons': 256}\n",
      "  Fold 1/5\n"
     ]
    },
    {
     "data": {
      "application/vnd.jupyter.widget-view+json": {
       "model_id": "25bcbc9b92da411ab3e77a513b9fd1e5",
       "version_major": 2,
       "version_minor": 0
      },
      "text/plain": [
       "    Epochs (Fold 1):   0%|          | 0/3 [00:00<?, ?it/s]"
      ]
     },
     "metadata": {},
     "output_type": "display_data"
    },
    {
     "name": "stdout",
     "output_type": "stream",
     "text": [
      "  Fold 2/5\n"
     ]
    },
    {
     "data": {
      "application/vnd.jupyter.widget-view+json": {
       "model_id": "9a9eecff86144156ac4fc2ce247a93af",
       "version_major": 2,
       "version_minor": 0
      },
      "text/plain": [
       "    Epochs (Fold 2):   0%|          | 0/3 [00:00<?, ?it/s]"
      ]
     },
     "metadata": {},
     "output_type": "display_data"
    },
    {
     "name": "stdout",
     "output_type": "stream",
     "text": [
      "  Fold 3/5\n"
     ]
    },
    {
     "data": {
      "application/vnd.jupyter.widget-view+json": {
       "model_id": "23c690447b784becb7d46c9527eb0144",
       "version_major": 2,
       "version_minor": 0
      },
      "text/plain": [
       "    Epochs (Fold 3):   0%|          | 0/3 [00:00<?, ?it/s]"
      ]
     },
     "metadata": {},
     "output_type": "display_data"
    },
    {
     "name": "stdout",
     "output_type": "stream",
     "text": [
      "  Fold 4/5\n"
     ]
    },
    {
     "data": {
      "application/vnd.jupyter.widget-view+json": {
       "model_id": "5c4f24becd13436d81c07236b03bf3b1",
       "version_major": 2,
       "version_minor": 0
      },
      "text/plain": [
       "    Epochs (Fold 4):   0%|          | 0/3 [00:00<?, ?it/s]"
      ]
     },
     "metadata": {},
     "output_type": "display_data"
    },
    {
     "name": "stdout",
     "output_type": "stream",
     "text": [
      "  Fold 5/5\n"
     ]
    },
    {
     "data": {
      "application/vnd.jupyter.widget-view+json": {
       "model_id": "91b5685681bd4b28b23b11eb412d963c",
       "version_major": 2,
       "version_minor": 0
      },
      "text/plain": [
       "    Epochs (Fold 5):   0%|          | 0/3 [00:00<?, ?it/s]"
      ]
     },
     "metadata": {},
     "output_type": "display_data"
    },
    {
     "name": "stdout",
     "output_type": "stream",
     "text": [
      "  Trial 2 Avg CV Accuracy: 46.35%\n",
      "\n",
      "Trial 3/3 - Testing params: {'learning_rate': 0.001, 'batch_size': 32, 'conv1_out_channels': 8, 'conv2_out_channels': 32, 'fc_neurons': 64}\n",
      "  Fold 1/5\n"
     ]
    },
    {
     "data": {
      "application/vnd.jupyter.widget-view+json": {
       "model_id": "9545537bcfcd412b98fb7d8208279956",
       "version_major": 2,
       "version_minor": 0
      },
      "text/plain": [
       "    Epochs (Fold 1):   0%|          | 0/3 [00:00<?, ?it/s]"
      ]
     },
     "metadata": {},
     "output_type": "display_data"
    },
    {
     "name": "stdout",
     "output_type": "stream",
     "text": [
      "  Fold 2/5\n"
     ]
    },
    {
     "data": {
      "application/vnd.jupyter.widget-view+json": {
       "model_id": "e3a0d85f484e435182436d29da9f8e99",
       "version_major": 2,
       "version_minor": 0
      },
      "text/plain": [
       "    Epochs (Fold 2):   0%|          | 0/3 [00:00<?, ?it/s]"
      ]
     },
     "metadata": {},
     "output_type": "display_data"
    },
    {
     "name": "stdout",
     "output_type": "stream",
     "text": [
      "  Fold 3/5\n"
     ]
    },
    {
     "data": {
      "application/vnd.jupyter.widget-view+json": {
       "model_id": "d1008c2ce89d4608b06e7d5b375b7131",
       "version_major": 2,
       "version_minor": 0
      },
      "text/plain": [
       "    Epochs (Fold 3):   0%|          | 0/3 [00:00<?, ?it/s]"
      ]
     },
     "metadata": {},
     "output_type": "display_data"
    },
    {
     "name": "stdout",
     "output_type": "stream",
     "text": [
      "  Fold 4/5\n"
     ]
    },
    {
     "data": {
      "application/vnd.jupyter.widget-view+json": {
       "model_id": "1ac440fa9a59456ebf8035026e976acc",
       "version_major": 2,
       "version_minor": 0
      },
      "text/plain": [
       "    Epochs (Fold 4):   0%|          | 0/3 [00:00<?, ?it/s]"
      ]
     },
     "metadata": {},
     "output_type": "display_data"
    },
    {
     "name": "stdout",
     "output_type": "stream",
     "text": [
      "  Fold 5/5\n"
     ]
    },
    {
     "data": {
      "application/vnd.jupyter.widget-view+json": {
       "model_id": "65231032b00643db8458d041eaef42a6",
       "version_major": 2,
       "version_minor": 0
      },
      "text/plain": [
       "    Epochs (Fold 5):   0%|          | 0/3 [00:00<?, ?it/s]"
      ]
     },
     "metadata": {},
     "output_type": "display_data"
    },
    {
     "name": "stdout",
     "output_type": "stream",
     "text": [
      "  Trial 3 Avg CV Accuracy: 55.21%\n",
      "  New best average CV accuracy: 55.21% with params: {'learning_rate': 0.001, 'batch_size': 32, 'conv1_out_channels': 8, 'conv2_out_channels': 32, 'fc_neurons': 64}\n",
      "\n",
      "Finished Hyperparameter Search.\n"
     ]
    },
    {
     "data": {
      "image/png": "[encoded data removed]",
      "text/plain": [
       "<Figure size 1000x600 with 1 Axes>"
      ]
     },
     "metadata": {},
     "output_type": "display_data"
    }
   ],
   "source": [
    "device = get_device()\n",
    "print(f\"Using device for hyperparameter tuning: {device}\")\n",
    " \n",
    "# Get image dimensions (C, H, W should be available from the previous cell or re-derived)\n",
    "if 'C' not in locals() or 'H' not in locals() or 'W' not in locals():\n",
    "    sample_img, _ = train_dataset[0]\n",
    "    C, H, W = sample_img.shape\n",
    "    print(f\"Re-detected image shape: Channels={C}, Height={H}, Width={W}\")\n",
    " \n",
    "# Import KFold\n",
    "from sklearn.model_selection import KFold\n",
    "import numpy as np # Ensure numpy is imported\n",
    "import matplotlib.pyplot as plt # Ensure matplotlib is imported for trial plots\n",
    " \n",
    "# Hyperparameter search space\n",
    "param_space = {\n",
    "    'learning_rate': [0.0001, 0.0005, 0.001, 0.005, 0.01],\n",
    "    'batch_size': [8, 16, 32],\n",
    "    'conv1_out_channels': [8, 16, 32],\n",
    "    'conv2_out_channels': [16, 32, 64],\n",
    "    'fc_neurons': [64, 128, 256],\n",
    "}\n",
    " \n",
    "# Store history for the best model's learning curves\n",
    "best_model_train_losses = []\n",
    "best_model_val_accuracies = []\n",
    " \n",
    "num_classes_hp = 2\n",
    "num_epochs_search = 25 # Epochs for each fold in CV and for final retraining\n",
    "num_trials = 10 # Number of random hyperparameter sets to try\n",
    "n_splits_cv = 5 # Number of folds for cross-validation\n",
    " \n",
    "best_hyperparams = None\n",
    "best_avg_cv_accuracy = -1.0\n",
    "# These will store learning curves for the FINAL retrained model\n",
    "final_retrained_model_train_losses = []\n",
    "final_retrained_model_test_accuracies = [] # Using test set for the final model's curve\n",
    " \n",
    "perfect_found = False # If average CV accuracy hits 100%\n",
    " \n",
    "all_trials_final_cv_accuracies = [] # To store final avg CV accuracy for each trial\n",
    " \n",
    "for trial in tqdm(range(num_trials), desc=\"Hyperparameter Search Trials\", unit=\"trial\", leave=True):\n",
    "    if perfect_found:\n",
    "        print(\"Perfect hyperparameters found based on CV, stopping further trials.\")\n",
    "        break\n",
    " \n",
    "    current_params = {k: random.choice(v) for k, v in param_space.items()}\n",
    "    print(f\"\\nTrial {trial+1}/{num_trials} - Testing params: {current_params}\")\n",
    " \n",
    "    kf = KFold(n_splits=n_splits_cv, shuffle=True, random_state=trial)\n",
    "   \n",
    "    trial_fold_final_accuracies = []\n",
    "    # Store epoch-wise validation accuracies for each fold, to average later for plotting\n",
    "    # This is still useful if you want to debug or see per-fold performance, but not for the requested final plot\n",
    "    trial_all_folds_epoch_val_accuracies = [[] for _ in range(num_epochs_search)]\n",
    " \n",
    "    pin_memory_flag = device.type == 'cuda'\n",
    "    num_workers_flag = 2 if device.type == 'cuda' else 0\n",
    " \n",
    "    for fold_idx, (train_ids, val_ids) in enumerate(tqdm(kf.split(train_dataset), total=n_splits_cv, desc=\"CV Folds\", leave=True)):        \n",
    "    # for fold_idx, (train_ids, val_ids) in enumerate(kf.split(train_dataset)):\n",
    "        print(f\"  Fold {fold_idx+1}/{n_splits_cv}\")\n",
    "       \n",
    "        train_subsampler = torch.utils.data.SubsetRandomSampler(train_ids)\n",
    "        val_subsampler = torch.utils.data.SubsetRandomSampler(val_ids)\n",
    " \n",
    "        try:\n",
    "            current_train_loader = DataLoader(train_dataset, batch_size=current_params['batch_size'], sampler=train_subsampler, num_workers=num_workers_flag, pin_memory=pin_memory_flag)\n",
    "            current_val_loader = DataLoader(train_dataset, batch_size=current_params['batch_size'], sampler=val_subsampler, num_workers=num_workers_flag, pin_memory=pin_memory_flag)\n",
    "        except Exception as e:\n",
    "            print(f\"  Error creating DataLoader for fold {fold_idx+1}, possibly due to batch size: {e}. Skipping fold.\")\n",
    "            trial_fold_final_accuracies.append(0)\n",
    "            for epoch_list_idx in range(num_epochs_search):\n",
    "                 if len(trial_all_folds_epoch_val_accuracies[epoch_list_idx]) == fold_idx :\n",
    "                     trial_all_folds_epoch_val_accuracies[epoch_list_idx].append(0)\n",
    "            continue\n",
    "           \n",
    "        model_hp = SimpleCNN(input_channels=C, input_height=H, input_width=W, num_classes=num_classes_hp,\n",
    "                                conv1_out_channels=current_params['conv1_out_channels'],\n",
    "                                conv2_out_channels=current_params['conv2_out_channels'],\n",
    "                                fc_neurons=current_params['fc_neurons']).to(device)\n",
    "       \n",
    "        criterion_hp = nn.BCEWithLogitsLoss()\n",
    "        optimizer_hp = optim.Adam(model_hp.parameters(), lr=current_params['learning_rate'])\n",
    " \n",
    "        fold_epoch_val_accuracies = []\n",
    " \n",
    "        for epoch in tqdm(range(num_epochs_search), desc=f\"    Epochs (Fold {fold_idx+1})\", leave=True):\n",
    "            model_hp.train()\n",
    "            # ... (training loop for the fold) ...\n",
    "            epoch_running_loss = 0.0\n",
    "            for images, labels in current_train_loader:\n",
    "                images, labels = images.to(device), labels.to(device).float().unsqueeze(1)\n",
    "                optimizer_hp.zero_grad()\n",
    "                outputs = model_hp(images)\n",
    "                loss = criterion_hp(outputs, labels)\n",
    "                loss.backward()\n",
    "                optimizer_hp.step()\n",
    "                epoch_running_loss += loss.item() * images.size(0)\n",
    " \n",
    "            model_hp.eval()\n",
    "            val_correct = 0\n",
    "            val_total = 0\n",
    "            with torch.no_grad():\n",
    "                for images, labels in current_val_loader:\n",
    "                    images, labels = images.to(device), labels.to(device).float().unsqueeze(1)\n",
    "                    outputs = model_hp(images)\n",
    "                    predicted = (torch.sigmoid(outputs) > 0.5).float()\n",
    "                    val_total += labels.size(0)\n",
    "                    val_correct += (predicted == labels).sum().item()\n",
    "           \n",
    "            current_epoch_val_accuracy = 100 * val_correct / val_total if val_total > 0 else 0.0\n",
    "            fold_epoch_val_accuracies.append(current_epoch_val_accuracy)\n",
    "            trial_all_folds_epoch_val_accuracies[epoch].append(current_epoch_val_accuracy)\n",
    " \n",
    "            if device.type == \"mps\": torch.mps.empty_cache()\n",
    "            elif device.type == \"cuda\": torch.cuda.empty_cache()\n",
    "            gc.collect()\n",
    "       \n",
    "        trial_fold_final_accuracies.append(fold_epoch_val_accuracies[-1] if fold_epoch_val_accuracies else 0.0)\n",
    "        del model_hp, optimizer_hp, criterion_hp, current_train_loader, current_val_loader\n",
    "        if device.type == \"mps\": torch.mps.empty_cache()\n",
    "        elif device.type == \"cuda\": torch.cuda.empty_cache()\n",
    "        gc.collect()\n",
    " \n",
    "    current_trial_avg_final_cv_accuracy = np.mean(trial_fold_final_accuracies) if trial_fold_final_accuracies else 0.0\n",
    "    all_trials_final_cv_accuracies.append(current_trial_avg_final_cv_accuracy) # Store for the final plot\n",
    "    print(f\"  Trial {trial+1} Avg CV Accuracy: {current_trial_avg_final_cv_accuracy:.2f}%\")\n",
    " \n",
    "    if current_trial_avg_final_cv_accuracy > best_avg_cv_accuracy:\n",
    "        best_avg_cv_accuracy = current_trial_avg_final_cv_accuracy\n",
    "        best_hyperparams = current_params\n",
    "        print(f\"  New best average CV accuracy: {best_avg_cv_accuracy:.2f}% with params: {best_hyperparams}\")\n",
    " \n",
    "    if best_avg_cv_accuracy == 100.0:\n",
    "        perfect_found = True\n",
    "       \n",
    "print(\"\\nFinished Hyperparameter Search.\")\n",
    " \n",
    "# Plot Mean CV Accuracy per Trial\n",
    "if all_trials_final_cv_accuracies:\n",
    "    plt.figure(figsize=(10, 6))\n",
    "    plt.plot(range(1, len(all_trials_final_cv_accuracies) + 1), all_trials_final_cv_accuracies, marker='o', linestyle='-')\n",
    "    plt.title(\"Mean Cross-Validation Accuracy per Trial\")\n",
    "    plt.xlabel(\"Trial Number\")\n",
    "    plt.ylabel(\"Mean CV Accuracy (%)\")\n",
    "    plt.xticks(range(1, len(all_trials_final_cv_accuracies) + 1))\n",
    "    plt.grid(True)\n",
    "    plt.ylim(0, 101)\n",
    "    plt.show()\n",
    " "
   ]
  },
  {
   "cell_type": "code",
   "execution_count": null,
   "id": "96ab80ae",
   "metadata": {},
   "outputs": [
    {
     "name": "stdout",
     "output_type": "stream",
     "text": [
      "Best hyperparameters found: {'learning_rate': 0.001, 'batch_size': 32, 'conv1_out_channels': 8, 'conv2_out_channels': 32, 'fc_neurons': 64}\n",
      "Best average CV validation accuracy: 55.21%\n",
      "\n",
      "Retraining model with best hyperparameters on the full training dataset...\n"
     ]
    },
    {
     "data": {
      "application/vnd.jupyter.widget-view+json": {
       "model_id": "3150d29babd54d09b7860b31d550f91e",
       "version_major": 2,
       "version_minor": 0
      },
      "text/plain": [
       "Final Model Retraining:   0%|          | 0/3 [00:00<?, ?epoch/s]"
      ]
     },
     "metadata": {},
     "output_type": "display_data"
    },
    {
     "name": "stdout",
     "output_type": "stream",
     "text": [
      "  Epoch 1/3 - Train Loss: 0.7109, Train Acc: 50.00%, Test Acc: 50.00%\n",
      "  Epoch 2/3 - Train Loss: 0.6947, Train Acc: 50.00%, Test Acc: 50.00%\n",
      "  Epoch 3/3 - Train Loss: 0.6941, Train Acc: 50.00%, Test Acc: 50.00%\n",
      "Best retrained model saved to best_randomsearch_cnn_model.pth\n"
     ]
    }
   ],
   "source": [
    "best_model_train_losses = []\n",
    "best_model_val_accuracies = []\n",
    "best_model_train_accuracies = [] # New list for training accuracies\n",
    " \n",
    "if best_hyperparams:\n",
    "    print(f\"Best hyperparameters found: {best_hyperparams}\")\n",
    "    print(f\"Best average CV validation accuracy: {best_avg_cv_accuracy:.2f}%\")\n",
    " \n",
    "    # Retrain the model on the full training dataset with the best hyperparameters\n",
    "    print(\"\\nRetraining model with best hyperparameters on the full training dataset...\")\n",
    "   \n",
    "    final_train_loader = DataLoader(train_dataset, batch_size=best_hyperparams['batch_size'], shuffle=True, num_workers=num_workers_flag, pin_memory=pin_memory_flag)\n",
    "    final_test_loader = DataLoader(test_dataset, batch_size=best_hyperparams['batch_size'], shuffle=False, num_workers=num_workers_flag, pin_memory=pin_memory_flag)\n",
    " \n",
    "    final_model = SimpleCNN(input_channels=C, input_height=H, input_width=W, num_classes=num_classes_hp,\n",
    "                            conv1_out_channels=best_hyperparams['conv1_out_channels'],\n",
    "                            conv2_out_channels=best_hyperparams['conv2_out_channels'],\n",
    "                            fc_neurons=best_hyperparams['fc_neurons']).to(device)\n",
    "   \n",
    "    criterion_final = nn.BCEWithLogitsLoss()\n",
    "    optimizer_final = optim.Adam(final_model.parameters(), lr=best_hyperparams['learning_rate'])\n",
    " \n",
    "    best_model_train_losses.clear()\n",
    "    best_model_val_accuracies.clear()\n",
    "    best_model_train_accuracies.clear() # Clear training accuracies list\n",
    " \n",
    "    for epoch in tqdm(range(num_epochs_search), desc=\"Final Model Retraining\", unit=\"epoch\"):\n",
    "        final_model.train()\n",
    "        running_loss = 0.0\n",
    "        for images, labels in final_train_loader:\n",
    "            images, labels = images.to(device), labels.to(device).float().unsqueeze(1)\n",
    "            optimizer_final.zero_grad()\n",
    "            outputs = final_model(images)\n",
    "            loss = criterion_final(outputs, labels)\n",
    "            loss.backward()\n",
    "            optimizer_final.step()\n",
    "            running_loss += loss.item() * images.size(0)\n",
    "       \n",
    "        avg_epoch_loss = running_loss / len(final_train_loader.dataset)\n",
    "        best_model_train_losses.append(avg_epoch_loss)\n",
    " \n",
    "        # Evaluate on the training set for training accuracy\n",
    "        final_model.eval()\n",
    "        train_correct = 0\n",
    "        train_total = 0\n",
    "        with torch.no_grad():\n",
    "            for images_train, labels_train in final_train_loader:\n",
    "                images_train, labels_train = images_train.to(device), labels_train.to(device).float().unsqueeze(1)\n",
    "                outputs_train = final_model(images_train)\n",
    "                predicted_train = (torch.sigmoid(outputs_train) > 0.5).float()\n",
    "                train_total += labels_train.size(0)\n",
    "                train_correct += (predicted_train == labels_train).sum().item()\n",
    "        current_train_accuracy = 100 * train_correct / train_total if train_total > 0 else 0.0\n",
    "        best_model_train_accuracies.append(current_train_accuracy)\n",
    " \n",
    "        # Evaluate on the test set for test accuracy\n",
    "        # final_model.eval() # Already in eval mode\n",
    "        correct = 0\n",
    "        total = 0\n",
    "        with torch.no_grad():\n",
    "            for images, labels in final_test_loader:\n",
    "                images, labels = images.to(device), labels.to(device).float().unsqueeze(1)\n",
    "                outputs = final_model(images)\n",
    "                predicted = (torch.sigmoid(outputs) > 0.5).float()\n",
    "                total += labels.size(0)\n",
    "                correct += (predicted == labels).sum().item()\n",
    "       \n",
    "        accuracy = 100 * correct / total if total > 0 else 0.0\n",
    "        best_model_val_accuracies.append(accuracy)\n",
    "        print(f\"  Epoch {epoch+1}/{num_epochs_search} - Train Loss: {avg_epoch_loss:.4f}, Train Acc: {current_train_accuracy:.2f}%, Test Acc: {accuracy:.2f}%\")\n",
    " \n",
    "        if device.type == \"mps\": torch.mps.empty_cache()\n",
    "        elif device.type == \"cuda\": torch.cuda.empty_cache()\n",
    "        gc.collect()\n",
    " \n",
    "    best_randomsearch_model_path = \"best_randomsearch_cnn_model.pth\"\n",
    "    torch.save(final_model.state_dict(), best_randomsearch_model_path)\n",
    "    print(f\"Best retrained model saved to {best_randomsearch_model_path}\")\n",
    " \n",
    "else:\n",
    "    print(\"No best hyperparameters found (e.g., all trials failed or num_trials was 0).\")\n",
    "    best_model_train_losses = []\n",
    "    best_model_val_accuracies = []\n",
    "    best_model_train_accuracies = [] \n",
    " "
   ]
  },
  {
   "cell_type": "markdown",
   "id": "622afaba",
   "metadata": {},
   "source": [
    "#### Plots"
   ]
  },
  {
   "cell_type": "code",
   "execution_count": null,
   "id": "57dd17b0",
   "metadata": {},
   "outputs": [
    {
     "name": "stdout",
     "output_type": "stream",
     "text": [
      "Best Average CV Accuracy (from Hyperparameter Search): 55.21%\n",
      "Best Hyperparameters (from Hyperparameter Search): {'learning_rate': 0.001, 'batch_size': 32, 'conv1_out_channels': 8, 'conv2_out_channels': 32, 'fc_neurons': 64}\n",
      "Final Retrained Model Train Accuracy: 50.00%\n",
      "Final Retrained Model Test Accuracy: 50.00%\n",
      "Number of epochs for retraining: 3\n"
     ]
    },
    {
     "data": {
      "image/png": "[encoded data removed]",
      "text/plain": [
       "<Figure size 1800x500 with 3 Axes>"
      ]
     },
     "metadata": {},
     "output_type": "display_data"
    }
   ],
   "source": [
    "epochs = list(range(1, len(best_model_train_losses) + 1))\n",
    " \n",
    "# best_avg_cv_accuracy is from the hyperparameter search phase\n",
    "print(f\"Best Average CV Accuracy (from Hyperparameter Search): {best_avg_cv_accuracy:.2f}%\")\n",
    "print(f\"Best Hyperparameters (from Hyperparameter Search): {best_hyperparams}\")\n",
    " \n",
    "if epochs:\n",
    "    # best_model_val_accuracies now contains test accuracies of the retrained model\n",
    "    final_model_test_accuracy = best_model_val_accuracies[-1] # Get the last epoch's test accuracy\n",
    "    if best_model_train_accuracies:\n",
    "        final_model_train_accuracy = best_model_train_accuracies[-1]\n",
    "        print(f\"Final Retrained Model Train Accuracy: {final_model_train_accuracy:.2f}%\")\n",
    "    print(f\"Final Retrained Model Test Accuracy: {final_model_test_accuracy:.2f}%\")\n",
    "    print(f\"Number of epochs for retraining: {len(epochs)}\")\n",
    "else:\n",
    "    print(\"No retraining was performed or data is missing for plotting.\")\n",
    " \n",
    " \n",
    "# Plotting learning curves for the best model from hyperparameter search\n",
    "# These curves are from the model retrained on the full training set and evaluated on the test set.\n",
    "if best_model_train_losses and best_model_val_accuracies and best_model_train_accuracies:\n",
    "    plt.figure(figsize=(18, 5)) # Adjusted figure size for three subplots\n",
    " \n",
    "    plt.subplot(1, 3, 1)\n",
    "    plt.plot(epochs, best_model_train_losses, label='RS Model Training Loss (on Full Train Set)')\n",
    "    plt.xlabel('Epoch')\n",
    "    plt.ylabel('Loss')\n",
    "    plt.title('Final Model - Training Loss')\n",
    "    plt.legend()\n",
    " \n",
    "    plt.subplot(1, 3, 2) # New subplot for Training Accuracy\n",
    "    plt.plot(epochs, best_model_train_accuracies, label='RS Model Training Accuracy (on Full Train Set)', color='green')\n",
    "    plt.xlabel('Epoch')\n",
    "    plt.ylabel('Accuracy (%)')\n",
    "    plt.title('Final Model - Training Accuracy')\n",
    "    plt.legend()\n",
    "    plt.ylim(0, 101) # Optional: Set y-axis limits for accuracy\n",
    " \n",
    "    plt.subplot(1, 3, 3) # Adjusted subplot index for Test Accuracy\n",
    "    plt.plot(epochs, best_model_val_accuracies, label='RS Model Test Accuracy (on Test Set)', color='red')\n",
    "    plt.xlabel('Epoch')\n",
    "    plt.ylabel('Accuracy (%)')\n",
    "    plt.title('Final Model - Test Accuracy')\n",
    "    plt.legend()\n",
    "    plt.ylim(0, 101) # Optional: Set y-axis limits for accuracy\n",
    " \n",
    "    plt.tight_layout()\n",
    "    plt.show()\n",
    "else:\n",
    "    print(\"Learning curve data for the final retrained model is not available or incomplete.\")\n",
    " "
   ]
  },
  {
   "cell_type": "markdown",
   "id": "4038ab6b",
   "metadata": {},
   "source": [
    "### Method 2 - Optuna"
   ]
  },
  {
   "cell_type": "code",
   "execution_count": null,
   "id": "e515a56c",
   "metadata": {},
   "outputs": [],
   "source": [
    "# Device configuration\n",
    "device = get_device()\n",
    "print(f\"Using device for Optuna hyperparameter tuning: {device}\")\n",
    "\n",
    "# Get image dimensions\n",
    "sample_img, _ = train_dataset[0]\n",
    "C, H, W = sample_img.shape\n",
    "print(f\"Image shape: Channels={C}, Height={H}, Width={W}\")\n",
    "\n",
    "num_classes_hp = 2\n",
    "num_epochs_search = 40 # Fewer epochs for faster search, adjust as needed for Optuna trials\n",
    "num_trials_optuna = 10 # Define number of trials\n",
    "\n",
    "def stop_when_perfect(study, trial):\n",
    "    if trial.value is not None and trial.value >= 100.0:\n",
    "        study.stop()\n",
    "\n",
    "def objective(trial):\n",
    "    # Hyperparameter suggestions\n",
    "    lr = trial.suggest_float(\"learning_rate\", 1e-4, 1e-2, log=True)\n",
    "    batch_size = trial.suggest_categorical(\"batch_size\", [8, 16, 32])\n",
    "    conv1_out = trial.suggest_categorical(\"conv1_out_channels\", [8, 16, 32, 64])\n",
    "    conv2_out = trial.suggest_categorical(\"conv2_out_channels\", [16, 32, 64, 128])\n",
    "    fc_neurons_val = trial.suggest_categorical(\"fc_neurons\", [64, 128, 256])\n",
    "\n",
    "    # DataLoaders\n",
    "    pin_memory_flag   = device.type == 'cuda'\n",
    "    num_workers_flag  = 2 if device.type == 'cuda' else 0   # 0 on M-series/CPU\n",
    "\n",
    "    try:\n",
    "        current_train_loader = DataLoader(train_dataset, batch_size=batch_size, shuffle=True, num_workers=num_workers_flag, pin_memory=pin_memory_flag)\n",
    "        current_val_loader = DataLoader(test_dataset, batch_size=batch_size, shuffle=False, num_workers=num_workers_flag, pin_memory=pin_memory_flag)\n",
    "    except Exception as e:\n",
    "        print(f\"Error creating DataLoader for trial {trial.number}: {e}. Pruning trial.\")\n",
    "        raise optuna.exceptions.TrialPruned()\n",
    "\n",
    "\n",
    "    # Model (Ensure SimpleCNN class is defined and accessible)\n",
    "    model_opt = SimpleCNN(input_channels=C, input_height=H, input_width=W, num_classes=num_classes_hp,\n",
    "                          conv1_out_channels=conv1_out,\n",
    "                          conv2_out_channels=conv2_out,\n",
    "                          fc_neurons=fc_neurons_val).to(device)\n",
    "\n",
    "    criterion_opt = nn.BCEWithLogitsLoss()\n",
    "    optimizer_opt = optim.Adam(model_opt.parameters(), lr=lr)\n",
    "\n",
    "    trial_train_losses = []\n",
    "    trial_val_accuracies = []\n",
    "\n",
    "    patience = 10\n",
    "    best_val_acc = 0.0\n",
    "    epochs_no_improve = 0\n",
    "\n",
    "    # Training loop\n",
    "    for epoch in tqdm(range(num_epochs_search), desc=f\"Trial {trial.number} [Training]\", leave=True):\n",
    "        model_opt.train()\n",
    "        epoch_running_loss = 0.0\n",
    "        for images, labels in current_train_loader: # train_pbar_opt:\n",
    "            images, labels = images.to(device), labels.to(device).float().unsqueeze(1)\n",
    "            \n",
    "            optimizer_opt.zero_grad(set_to_none=True)\n",
    "            loss = criterion_opt(model_opt(images), labels)\n",
    "            loss.backward()\n",
    "            optimizer_opt.step()\n",
    "\n",
    "            epoch_running_loss += loss.item() * images.size(0)\n",
    "\n",
    "        trial_train_losses.append(epoch_running_loss / len(train_loader.dataset))\n",
    "\n",
    "        # Validation\n",
    "        model_opt.eval()\n",
    "        val_correct = 0\n",
    "        val_total = 0\n",
    "        with torch.no_grad():\n",
    "            for images, labels in current_val_loader: # val_pbar_opt:\n",
    "                images, labels = images.to(device), labels.to(device).float().unsqueeze(1)\n",
    "                outputs = model_opt(images)\n",
    "                predicted = (torch.sigmoid(outputs) > 0.5).float()\n",
    "                val_total += labels.size(0)\n",
    "                val_correct += (predicted == labels).sum().item()\n",
    "        \n",
    "        current_epoch_val_accuracy = 100 * val_correct / val_total if val_total > 0 else 0\n",
    "        trial_val_accuracies.append(current_epoch_val_accuracy)\n",
    "        \n",
    "        if current_epoch_val_accuracy > best_val_acc:\n",
    "            best_val_acc = current_epoch_val_accuracy\n",
    "            epochs_no_improve = 0\n",
    "        else:\n",
    "            epochs_no_improve += 1\n",
    "\n",
    "        if epochs_no_improve >= patience:\n",
    "            print(f\"Early stopping at epoch {epoch+1} for trial {trial.number}. No improvement in validation accuracy for {patience} epochs.\")\n",
    "            break\n",
    "\n",
    "        if current_epoch_val_accuracy == 100.0:\n",
    "            print(f\"Perfect validation accuracy reached at epoch {epoch+1} for trial {trial.number}. Stopping early.\")\n",
    "            break\n",
    "\n",
    "        # Optuna pruning (optional, but good for long searches)\n",
    "        trial.report(current_epoch_val_accuracy, epoch)\n",
    "        if trial.should_prune():\n",
    "            # Store partial curves if pruned\n",
    "            trial.set_user_attr(\"train_losses\", trial_train_losses)\n",
    "            trial.set_user_attr(\"val_accuracies\", trial_val_accuracies)\n",
    "            raise optuna.exceptions.TrialPruned()\n",
    "\n",
    "    # Store full learning curves in user attributes for the trial\n",
    "    trial.set_user_attr(\"train_losses\", trial_train_losses)\n",
    "    trial.set_user_attr(\"val_accuracies\", trial_val_accuracies)\n",
    "\n",
    "    del model_opt, optimizer_opt, criterion_opt, current_train_loader, current_val_loader  \n",
    "    if device.type == \"mps\":                                   \n",
    "        torch.mps.empty_cache()\n",
    "    elif device.type == \"cuda\":                                \n",
    "        torch.cuda.empty_cache()\n",
    "    gc.collect()   \n",
    "\n",
    "    return best_val_acc\n",
    "    # return trial_val_accuracies[-1] # Return final validation accuracy\n",
    "\n",
    "# Create a study object and optimize\n",
    "# You can add a pruner, e.g., optuna.pruners.MedianPruner()\n",
    "study = optuna.create_study(direction=\"maximize\", pruner=optuna.pruners.MedianPruner(n_startup_trials=5, n_min_trials=3, n_warmup_steps=3))\n",
    "# study.optimize(objective, n_trials=num_trials_optuna, gc_after_trial=True)\n",
    "study.optimize(objective, n_trials=num_trials_optuna, gc_after_trial=True, callbacks=[stop_when_perfect], show_progress_bar=True)\n",
    "\n",
    "\n",
    "print(\"\\nFinished Optuna Hyperparameter Search.\")\n",
    "best_trial_optuna = study.best_trial\n",
    "best_hyperparams_optuna = best_trial_optuna.params\n",
    "best_val_accuracy_optuna = best_trial_optuna.value\n",
    "\n",
    "\n",
    "# Retrieve learning curves for the best trial\n",
    "best_model_train_losses_optuna = best_trial_optuna.user_attrs.get(\"train_losses\", [])\n",
    "best_model_val_accuracies_optuna = best_trial_optuna.user_attrs.get(\"val_accuracies\", [])"
   ]
  },
  {
   "cell_type": "code",
   "execution_count": null,
   "id": "6c719e72",
   "metadata": {},
   "outputs": [],
   "source": [
    "fig1 = plot_optimization_history(study)\n",
    "fig1.show()  # in Jupyter this will render an interactive Plotly chart\n"
   ]
  },
  {
   "cell_type": "code",
   "execution_count": null,
   "id": "7100d8be",
   "metadata": {},
   "outputs": [],
   "source": [
    "fig2 = plot_param_importances(study)\n",
    "fig2.show()\n"
   ]
  },
  {
   "cell_type": "code",
   "execution_count": null,
   "id": "e3f6d509",
   "metadata": {},
   "outputs": [],
   "source": [
    "fig3 = plot_parallel_coordinate(study)\n",
    "fig3.show()\n"
   ]
  },
  {
   "cell_type": "code",
   "execution_count": null,
   "id": "ccb9b7dd",
   "metadata": {},
   "outputs": [],
   "source": [
    "fig4 = plot_slice(study, params=[\"learning_rate\", \"batch_size\", \"conv1_out_channels\"])\n",
    "fig4.show()"
   ]
  },
  {
   "cell_type": "code",
   "execution_count": null,
   "id": "bead9ef4",
   "metadata": {},
   "outputs": [],
   "source": [
    "fig5 = plot_contour(study, params=[\"learning_rate\", \"batch_size\"])\n",
    "fig5.show()"
   ]
  },
  {
   "cell_type": "code",
   "execution_count": null,
   "id": "ea8134c5",
   "metadata": {},
   "outputs": [],
   "source": [
    "train_losses = best_trial_optuna.user_attrs.get(\"train_losses\", [])\n",
    "val_accs     = best_trial_optuna.user_attrs.get(\"val_accuracies\", [])\n",
    "\n",
    "df = pd.DataFrame({\n",
    "    \"epoch\": list(range(1, len(train_losses) + 1)),\n",
    "    \"train_loss\": train_losses,\n",
    "    \"val_accuracy\": val_accs,\n",
    "})\n",
    "df.to_csv(\"best_trial_curves.csv\", index=False)\n",
    "# df"
   ]
  },
  {
   "cell_type": "markdown",
   "id": "f1553d2e",
   "metadata": {},
   "source": [
    "## Retrain best optuna model"
   ]
  },
  {
   "cell_type": "code",
   "execution_count": null,
   "id": "b68268c3",
   "metadata": {},
   "outputs": [],
   "source": [
    "# # After Optuna optimization, retrain the best model with the best hyperparameters and save it\n",
    "\n",
    "# # Extract best hyperparameters from the Optuna study\n",
    "# best_params = study.best_trial.params\n",
    "\n",
    "# # Dataloaders with the best batch size\n",
    "# pin_memory_flag   = device.type == 'cuda'\n",
    "# num_workers_flag  = 2 if device.type == 'cuda' else 0   # 0 on M-series/CPU\n",
    "\n",
    "# train_loader_opt = DataLoader(train_dataset, batch_size=best_params['batch_size'], shuffle=True, num_workers=num_workers_flag, pin_memory=pin_memory_flag)\n",
    "# val_loader_opt = DataLoader(test_dataset, batch_size=best_params['batch_size'], shuffle=False, num_workers=num_workers_flag, pin_memory=pin_memory_flag)\n",
    "\n",
    "# # Re-create and train the model with the best hyperparameters\n",
    "# model_optimal = SimpleCNN(\n",
    "#     input_channels=C, input_height=H, input_width=W, num_classes=num_classes_hp,\n",
    "#     conv1_out_channels=best_params['conv1_out_channels'],\n",
    "#     conv2_out_channels=best_params['conv2_out_channels'],\n",
    "#     fc_neurons=best_params['fc_neurons']\n",
    "# ).to(device)\n",
    "\n",
    "# criterion_opt = nn.BCEWithLogitsLoss()\n",
    "# optimizer_opt = optim.Adam(model_optimal.parameters(), lr=best_params['learning_rate'])\n",
    "# num_epochs_opt = num_epochs_search  # Or set to a higher value for final training\n",
    "\n",
    "# for epoch in tqdm(range(num_epochs_opt), desc=f\"Epoch {trial+1} Training\", leave=True):\n",
    "# # for epoch in range(num_epochs_opt):\n",
    "#     model_optimal.train()\n",
    "#     for images, labels in train_loader_opt:\n",
    "#         images, labels = images.to(device), labels.to(device).float().unsqueeze(1)\n",
    "#         optimizer_opt.zero_grad()\n",
    "#         outputs = model_optimal(images)\n",
    "#         loss = criterion_opt(outputs, labels)\n",
    "#         loss.backward()\n",
    "#         optimizer_opt.step()\n",
    "\n",
    "# # Save the trained optimal model\n",
    "# best_optuna_model_path = \"best_optuna_cnn_model.pth\"\n",
    "# torch.save(model_optimal.state_dict(), best_optuna_model_path)\n",
    "# print(f\"Optimal model saved to {best_optuna_model_path}\")\n"
   ]
  },
  {
   "cell_type": "code",
   "execution_count": null,
   "id": "b5b63142",
   "metadata": {},
   "outputs": [],
   "source": [
    "# After Optuna optimization, retrain the best model with the best hyperparameters and save it\n",
    "\n",
    "# Extract best hyperparameters from the Optuna study\n",
    "best_params = study.best_trial.params\n",
    "\n",
    "# Dataloaders with the best batch size\n",
    "pin_memory_flag   = device.type == 'cuda'\n",
    "num_workers_flag  = 2 if device.type == 'cuda' else 0   # 0 on M-series/CPU\n",
    "\n",
    "train_loader_opt = DataLoader(train_dataset, batch_size=best_params['batch_size'], shuffle=True, num_workers=num_workers_flag, pin_memory=pin_memory_flag)\n",
    "val_loader_opt = DataLoader(test_dataset, batch_size=best_params['batch_size'], shuffle=False, num_workers=num_workers_flag, pin_memory=pin_memory_flag)\n",
    "\n",
    "# Re-create and train the model with the best hyperparameters\n",
    "model_optimal = SimpleCNN(\n",
    "    input_channels=C, input_height=H, input_width=W, num_classes=num_classes_hp,\n",
    "    conv1_out_channels=best_params['conv1_out_channels'],\n",
    "    conv2_out_channels=best_params['conv2_out_channels'],\n",
    "    fc_neurons=best_params['fc_neurons']\n",
    ").to(device)\n",
    "\n",
    "criterion_opt = nn.BCEWithLogitsLoss()\n",
    "optimizer_opt = optim.Adam(model_optimal.parameters(), lr=best_params['learning_rate'])\n",
    "num_epochs_opt = num_epochs_search  # Or set to a higher value for final training\n",
    "\n",
    "best_model_train_losses_optuna = []\n",
    "best_model_val_accuracies_optuna = []\n",
    "\n",
    "for epoch in tqdm(range(num_epochs_opt), desc=f\"Epoch {trial+1} Training\", leave=True):\n",
    "# for epoch in range(num_epochs_opt):\n",
    "    model_optimal.train()\n",
    "    running_loss = 0.0\n",
    "    num_batches = 0\n",
    "    \n",
    "    for images, labels in train_loader_opt:\n",
    "        images, labels = images.to(device), labels.to(device).float().unsqueeze(1)\n",
    "        optimizer_opt.zero_grad()\n",
    "        outputs = model_optimal(images)\n",
    "        loss = criterion_opt(outputs, labels)\n",
    "        loss.backward()\n",
    "        optimizer_opt.step()\n",
    "\n",
    "        running_loss += loss.item()\n",
    "        num_batches += 1\n",
    "\n",
    "    avg_train_loss = running_loss / num_batches\n",
    "    best_model_train_losses_optuna.append(avg_train_loss)\n",
    "\n",
    "    # --- 5a. Evaluate on validation set ---\n",
    "    model_optimal.eval()\n",
    "    correct = 0\n",
    "    total = 0\n",
    "\n",
    "    with torch.no_grad():\n",
    "        for images_val, labels_val in val_loader_opt:\n",
    "            images_val = images_val.to(device)\n",
    "            labels_val = labels_val.to(device).float().unsqueeze(1)\n",
    "\n",
    "            logits = model_optimal(images_val)\n",
    "            preds = torch.sigmoid(logits) >= 0.5\n",
    "            correct += (preds.int() == labels_val.int()).sum().item()\n",
    "            total += labels_val.size(0)\n",
    "\n",
    "    val_accuracy = 100.0 * correct / total\n",
    "    best_model_val_accuracies_optuna.append(val_accuracy)\n",
    "    \n",
    "best_val_accuracy_optuna = max(best_model_val_accuracies_optuna)\n",
    "# Save the trained optimal model\n",
    "best_optuna_model_path = \"best_optuna_cnn_model.pth\"\n",
    "torch.save(model_optimal.state_dict(), best_optuna_model_path)\n",
    "print(f\"Optimal model saved to {best_optuna_model_path}\")\n"
   ]
  },
  {
   "cell_type": "markdown",
   "id": "1912c0ea",
   "metadata": {},
   "source": [
    "#### Plots"
   ]
  },
  {
   "cell_type": "code",
   "execution_count": null,
   "id": "a6caca28",
   "metadata": {},
   "outputs": [],
   "source": [
    "print(f\"Best Validation Accuracy (from Optuna study): {best_val_accuracy_optuna:.0f}%\")\n",
    "print(f\"Best Hyperparameters (from Optuna study): {best_hyperparams_optuna}\")\n",
    "print(f\"Number of epochs needed: {num_epochs_opt}\")\n",
    "\n",
    "# Plotting learning curves for the best model from Optuna hyperparameter search\n",
    "if best_model_train_losses_optuna and best_model_val_accuracies_optuna:\n",
    "    plt.figure(figsize=(12, 5))\n",
    "\n",
    "    plt.subplot(1, 2, 1)\n",
    "    plt.plot(range(1, len(best_model_train_losses_optuna) + 1), best_model_train_losses_optuna, label='Best Model Training Loss (Optuna)')\n",
    "    plt.xlabel('Epoch')\n",
    "    plt.ylabel('Loss')\n",
    "    plt.title('Best Model (Optuna) - Training Loss')\n",
    "    plt.legend()\n",
    "\n",
    "    plt.subplot(1, 2, 2)\n",
    "    plt.plot(range(1, len(best_model_val_accuracies_optuna) + 1), best_model_val_accuracies_optuna, label='Best Model Validation Accuracy (Optuna)', color='red')\n",
    "    plt.xlabel('Epoch')\n",
    "    plt.ylabel('Accuracy (%)')\n",
    "    plt.title('Best Model (Optuna) - Validation Accuracy')\n",
    "    plt.legend()\n",
    "\n",
    "    plt.tight_layout()\n",
    "    plt.show()\n",
    "else:\n",
    "    print(\"Learning curve data for the best Optuna trial is not available.\")\n",
    "    \n",
    "# You can now load the best model state for further use if needed.\n",
    "# First, you'd typically retrain a model with best_hyperparams_optuna for a full number of epochs\n",
    "# and save its state_dict. The state_dict is not directly saved by the Optuna objective function above.\n",
    "# Example:\n",
    "# model_best_optuna = SimpleCNN(input_channels=C, input_height=H, input_width=W, num_classes=num_classes_hp,\n",
    "#                               conv1_out_channels=best_hyperparams_optuna['conv1_out_channels'],\n",
    "#                               conv2_out_channels=best_hyperparams_optuna['conv2_out_channels'],\n",
    "#                               fc_neurons=best_hyperparams_optuna['fc_neurons']).to(device)\n",
    "# # Then, you would train this model_best_optuna using the best learning rate, optimizer, and batch size.\n",
    "# # For now, we are just plotting the curves from the optimization search itself."
   ]
  },
  {
   "cell_type": "code",
   "execution_count": null,
   "id": "1f0f5298",
   "metadata": {},
   "outputs": [],
   "source": [
    "# --- 1. Retrieve best hyperparameters from the Optuna study ---\n",
    "best_hyperparams_optuna = study.best_trial.params\n",
    "\n",
    "# --- 2. Create dataloaders using the best batch size ---\n",
    "pin_memory_flag  = (device.type == 'cuda')\n",
    "num_workers_flag = 2 if device.type == 'cuda' else 0\n",
    "\n",
    "train_loader_opt = DataLoader(\n",
    "    train_dataset,\n",
    "    batch_size=best_hyperparams_optuna['batch_size'],\n",
    "    shuffle=True,\n",
    "    num_workers=num_workers_flag,\n",
    "    pin_memory=pin_memory_flag\n",
    ")\n",
    "\n",
    "val_loader_opt = DataLoader(\n",
    "    test_dataset,\n",
    "    batch_size=best_hyperparams_optuna['batch_size'],\n",
    "    shuffle=False,\n",
    "    num_workers=num_workers_flag,\n",
    "    pin_memory=pin_memory_flag\n",
    ")\n",
    "\n",
    "# --- 3. Re‐create the model with the best hyperparameters ---\n",
    "model_optimal = SimpleCNN(\n",
    "    input_channels=C,\n",
    "    input_height=H,\n",
    "    input_width=W,\n",
    "    num_classes=num_classes_hp,\n",
    "    conv1_out_channels=best_hyperparams_optuna['conv1_out_channels'],\n",
    "    conv2_out_channels=best_hyperparams_optuna['conv2_out_channels'],\n",
    "    fc_neurons=best_hyperparams_optuna['fc_neurons']\n",
    ").to(device)\n",
    "\n",
    "criterion_opt = nn.BCEWithLogitsLoss()\n",
    "optimizer_opt = optim.Adam(\n",
    "    model_optimal.parameters(),\n",
    "    lr=best_hyperparams_optuna['learning_rate']\n",
    ")\n",
    "\n",
    "num_epochs_opt = num_epochs_search  # or increase if you want longer final training\n",
    "\n",
    "# --- 4. Containers to record per‐epoch training loss and validation accuracy ---\n",
    "best_model_train_losses_optuna = []\n",
    "best_model_val_accuracies_optuna = []\n",
    "\n",
    "# --- 5. Final training loop (over num_epochs_opt) ---\n",
    "for epoch in tqdm(range(num_epochs_opt), desc=\"Final Training\", leave=True):\n",
    "    model_optimal.train()\n",
    "    running_loss = 0.0\n",
    "    num_batches = 0\n",
    "\n",
    "    for images, labels in train_loader_opt:\n",
    "        images = images.to(device)\n",
    "        labels = labels.to(device).float().unsqueeze(1)\n",
    "\n",
    "        optimizer_opt.zero_grad()\n",
    "        outputs = model_optimal(images)\n",
    "        loss = criterion_opt(outputs, labels)\n",
    "        loss.backward()\n",
    "        optimizer_opt.step()\n",
    "\n",
    "        running_loss += loss.item()\n",
    "        num_batches += 1\n",
    "\n",
    "    # Compute average training loss for this epoch\n",
    "    avg_train_loss = running_loss / num_batches\n",
    "    best_model_train_losses_optuna.append(avg_train_loss)\n",
    "\n",
    "    # --- 5a. Evaluate on validation set ---\n",
    "    model_optimal.eval()\n",
    "    correct = 0\n",
    "    total = 0\n",
    "\n",
    "    with torch.no_grad():\n",
    "        for images_val, labels_val in val_loader_opt:\n",
    "            images_val = images_val.to(device)\n",
    "            labels_val = labels_val.to(device).float().unsqueeze(1)\n",
    "\n",
    "            logits = model_optimal(images_val)\n",
    "            preds = torch.sigmoid(logits) >= 0.5\n",
    "            correct += (preds.int() == labels_val.int()).sum().item()\n",
    "            total += labels_val.size(0)\n",
    "\n",
    "    val_accuracy = 100.0 * correct / total\n",
    "    best_model_val_accuracies_optuna.append(val_accuracy)\n",
    "\n",
    "# --- 6. Determine the best validation accuracy achieved during final training ---\n",
    "best_val_accuracy_optuna = max(best_model_val_accuracies_optuna)\n",
    "\n",
    "# --- 7. Save the trained optimal model ---\n",
    "best_optuna_model_path = \"best_optuna_cnn_model.pth\"\n",
    "torch.save(model_optimal.state_dict(), best_optuna_model_path)\n",
    "\n",
    "# --- 8. Print out the results ---\n",
    "print(f\"Best Validation Accuracy (final training): {best_val_accuracy_optuna:.2f}%\")\n",
    "print(f\"Best Hyperparameters (from Optuna study): {best_hyperparams_optuna}\")\n",
    "print(f\"Optimal model saved to {best_optuna_model_path}\")\n",
    "\n",
    "# --- 9. Plot learning curves for the final model ---\n",
    "if best_model_train_losses_optuna and best_model_val_accuracies_optuna:\n",
    "    plt.figure(figsize=(12, 5))\n",
    "\n",
    "    # Training Loss Curve\n",
    "    plt.subplot(1, 2, 1)\n",
    "    plt.plot(\n",
    "        range(1, len(best_model_train_losses_optuna) + 1),\n",
    "        best_model_train_losses_optuna,\n",
    "        label='Training Loss'\n",
    "    )\n",
    "    plt.xlabel('Epoch')\n",
    "    plt.ylabel('Loss')\n",
    "    plt.title('Final Model Training Loss')\n",
    "    plt.legend()\n",
    "\n",
    "    # Validation Accuracy Curve\n",
    "    plt.subplot(1, 2, 2)\n",
    "    plt.plot(\n",
    "        range(1, len(best_model_val_accuracies_optuna) + 1),\n",
    "        best_model_val_accuracies_optuna,\n",
    "        label='Validation Accuracy',\n",
    "        color='red'\n",
    "    )\n",
    "    plt.xlabel('Epoch')\n",
    "    plt.ylabel('Accuracy (%)')\n",
    "    plt.title('Final Model Validation Accuracy')\n",
    "    plt.legend()\n",
    "\n",
    "    plt.tight_layout()\n",
    "    plt.show()\n",
    "else:\n",
    "    print(\"Learning curve data for the final model is not available.\")\n"
   ]
  },
  {
   "cell_type": "code",
   "execution_count": null,
   "id": "ccb0ff7d",
   "metadata": {},
   "outputs": [],
   "source": []
  }
 ],
 "metadata": {
  "kernelspec": {
   "display_name": "base",
   "language": "python",
   "name": "python3"
  },
  "language_info": {
   "codemirror_mode": {
    "name": "ipython",
    "version": 3
   },
   "file_extension": ".py",
   "mimetype": "text/x-python",
   "name": "python",
   "nbconvert_exporter": "python",
   "pygments_lexer": "ipython3",
   "version": "3.12.4"
  }
 },
 "nbformat": 4,
 "nbformat_minor": 5
}
