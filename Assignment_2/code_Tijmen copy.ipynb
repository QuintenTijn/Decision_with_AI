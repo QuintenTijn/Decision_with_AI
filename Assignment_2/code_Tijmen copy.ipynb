{
 "cells": [
  {
   "cell_type": "markdown",
   "id": "e8bc82e2",
   "metadata": {},
   "source": [
    "# Imports & loading"
   ]
  },
  {
   "cell_type": "code",
   "execution_count": 1,
   "id": "21d2868d",
   "metadata": {},
   "outputs": [],
   "source": [
    "# conda install pytorch torchvision torchaudio -c pytorch\n",
    "# conda activate DDAI_311\n"
   ]
  },
  {
   "cell_type": "code",
   "execution_count": 2,
   "id": "5751ba9b",
   "metadata": {},
   "outputs": [],
   "source": [
    "# %pip install torch==2.7.0 torchvision==0.22.0 torchaudio==2.7.0"
   ]
  },
  {
   "cell_type": "code",
   "execution_count": 3,
   "id": "e71aeb63",
   "metadata": {},
   "outputs": [],
   "source": [
    "from support import load_dataset\n",
    "import matplotlib.pyplot as plt\n",
    "import torchvision.transforms as T\n",
    "import os\n",
    "os.environ[\"KMP_DUPLICATE_LIB_OK\"] = \"TRUE\"\n",
    "from tqdm.notebook import tqdm \n",
    "\n",
    "import random\n",
    "import numpy as np\n",
    "import torch\n",
    "import torch.nn as nn\n",
    "import torch.optim as optim\n",
    "from torch.utils.data import DataLoader"
   ]
  },
  {
   "cell_type": "code",
   "execution_count": 5,
   "id": "6d542257",
   "metadata": {},
   "outputs": [
    {
     "name": "stdout",
     "output_type": "stream",
     "text": [
      "Using device: mps\n"
     ]
    }
   ],
   "source": [
    "import torch, gc, os\n",
    "\n",
    "def get_device():\n",
    "    if torch.backends.mps.is_available():         # Apple GPU\n",
    "        return torch.device(\"mps\")\n",
    "    elif torch.cuda.is_available():               # NVIDIA eGPU etc.\n",
    "        return torch.device(\"cuda\")\n",
    "    else:                                         # fallback\n",
    "        return torch.device(\"cpu\")\n",
    "\n",
    "device = get_device()\n",
    "print(f\"Using device: {device}\")\n",
    "torch.set_float32_matmul_precision(\"high\")        # speeds M-series matmul\n",
    "os.environ[\"PYTORCH_ENABLE_MPS_FALLBACK\"] = \"1\"   # CPU fallback for missing ops\n"
   ]
  },
  {
   "cell_type": "markdown",
   "id": "fd2cd22c",
   "metadata": {},
   "source": [
    "#### Print Python and PyTorch version"
   ]
  },
  {
   "cell_type": "code",
   "execution_count": 6,
   "id": "f2b3f703",
   "metadata": {},
   "outputs": [
    {
     "name": "stdout",
     "output_type": "stream",
     "text": [
      "Python version: 3.11.11 (main, Dec 11 2024, 10:25:04) [Clang 14.0.6 ]\n",
      "PyTorch version: 2.7.0\n",
      "CUDA available: False\n"
     ]
    }
   ],
   "source": [
    "print(\"Python version:\", os.sys.version)\n",
    "print(\"PyTorch version:\", torch.__version__)\n",
    "print(\"CUDA available:\", torch.cuda.is_available())"
   ]
  },
  {
   "cell_type": "code",
   "execution_count": 7,
   "id": "5c934f3e",
   "metadata": {},
   "outputs": [
    {
     "name": "stdout",
     "output_type": "stream",
     "text": [
      "took 0.29 s\n"
     ]
    }
   ],
   "source": [
    "import torch, time\n",
    "x = torch.randn(8192, 8192, device='mps')\n",
    "t0 = time.perf_counter()\n",
    "y = x @ x.T\n",
    "torch.mps.synchronize()     # wait for GPU\n",
    "print(\"took %.2f s\" % (time.perf_counter() - t0))\n"
   ]
  },
  {
   "cell_type": "code",
   "execution_count": 8,
   "id": "e549c95d",
   "metadata": {},
   "outputs": [],
   "source": [
    "data = load_dataset()\n",
    "train_dataset = data[0]\n",
    "test_dataset = data[1]"
   ]
  },
  {
   "cell_type": "code",
   "execution_count": 9,
   "id": "e1fe5181",
   "metadata": {},
   "outputs": [
    {
     "name": "stdout",
     "output_type": "stream",
     "text": [
      "Image shape: torch.Size([3, 60, 30])\n",
      "Label: 0\n",
      "Train_dataset: Dataset ImageFolder\n",
      "    Number of datapoints: 136\n",
      "    Root location: WF-data/train\n",
      "    StandardTransform\n",
      "Transform: Compose(\n",
      "               Resize(size=[105, 78], interpolation=bilinear, max_size=None, antialias=True)\n",
      "               CenterCrop(size=[60, 30])\n",
      "               ToTensor()\n",
      "           )\n"
     ]
    }
   ],
   "source": [
    "img, label = train_dataset[0]\n",
    "\n",
    "print(f\"Image shape: {img.shape}\")\n",
    "print(f\"Label: {label}\")\n",
    "print(f\"Train_dataset: {train_dataset}\")"
   ]
  },
  {
   "cell_type": "code",
   "execution_count": 10,
   "id": "9d010dd6",
   "metadata": {},
   "outputs": [
    {
     "data": {
      "image/png": "[encoded data removed]",
      "text/plain": [
       "<Figure size 640x480 with 1 Axes>"
      ]
     },
     "metadata": {},
     "output_type": "display_data"
    }
   ],
   "source": [
    "img_tensor, label = train_dataset[0]\n",
    "transform_to_pil = T.ToPILImage()\n",
    "img_pil = transform_to_pil(img_tensor)\n",
    "\n",
    "plt.imshow(img_pil)\n",
    "plt.title(f\"Label: {label}\")\n",
    "plt.axis('off')\n",
    "plt.show()"
   ]
  },
  {
   "cell_type": "markdown",
   "id": "be77b74f",
   "metadata": {},
   "source": [
    "# CNN"
   ]
  },
  {
   "cell_type": "markdown",
   "id": "1e629039",
   "metadata": {},
   "source": [
    "## Base Model"
   ]
  },
  {
   "cell_type": "code",
   "execution_count": 11,
   "id": "2a7eeaa6",
   "metadata": {},
   "outputs": [],
   "source": [
    "# Define the CNN model\n",
    "class SimpleCNN(nn.Module):\n",
    "    def __init__(self, input_channels, input_height, input_width, num_classes):\n",
    "        super(SimpleCNN, self).__init__()\n",
    "        self.conv_layers = nn.Sequential(\n",
    "            nn.Conv2d(input_channels, 16, kernel_size=3, padding=1),\n",
    "            nn.ReLU(),\n",
    "            nn.MaxPool2d(kernel_size=2, stride=2),  # Output: 16 x H/2 x W/2\n",
    "            nn.Conv2d(16, 32, kernel_size=3, padding=1),\n",
    "            nn.ReLU(),\n",
    "            nn.MaxPool2d(kernel_size=2, stride=2)   # Output: 32 x H/4 x W/4\n",
    "        )\n",
    "        \n",
    "        # Calculate the flattened size dynamically to connect conv layers to fc layers\n",
    "        with torch.no_grad(): # We don't need gradients for this calculation\n",
    "            dummy_input = torch.zeros(1, input_channels, input_height, input_width)\n",
    "            flattened_size = self.conv_layers(dummy_input).flatten(1).shape[1]\n",
    "            \n",
    "        self.fc_layers = nn.Sequential(\n",
    "            nn.Linear(flattened_size, 128),\n",
    "            nn.ReLU(),\n",
    "            # Output 1 logit for binary classification (labels 0 or 1)\n",
    "            # This will be used with BCEWithLogitsLoss\n",
    "            nn.Linear(128, 1 if num_classes == 2 else num_classes) \n",
    "        )\n",
    "\n",
    "    def forward(self, x):\n",
    "        x = self.conv_layers(x)\n",
    "        x = x.flatten(1) # Flatten all dimensions except batch\n",
    "        x = self.fc_layers(x)\n",
    "        return x"
   ]
  },
  {
   "cell_type": "code",
   "execution_count": null,
   "id": "bc4d073b",
   "metadata": {},
   "outputs": [
    {
     "name": "stdout",
     "output_type": "stream",
     "text": [
      "Detected image shape: Channels=3, Height=60, Width=30\n",
      "Using device: mps\n"
     ]
    },
    {
     "data": {
      "application/vnd.jupyter.widget-view+json": {
       "model_id": "636aa74536bb40f49496d9fd68627379",
       "version_major": 2,
       "version_minor": 0
      },
      "text/plain": [
       "Training Progress:   0%|          | 0/10 [00:00<?, ?epoch/s]"
      ]
     },
     "metadata": {},
     "output_type": "display_data"
    },
    {
     "name": "stdout",
     "output_type": "stream",
     "text": [
      "Epoch [1/10] completed. Average Training Loss: 0.0000\n",
      "Accuracy on test set after epoch 1: 50.00%\n",
      "Epoch [2/10] completed. Average Training Loss: 0.0000\n",
      "Accuracy on test set after epoch 2: 50.00%\n",
      "Epoch [3/10] completed. Average Training Loss: 0.0000\n",
      "Accuracy on test set after epoch 3: 50.00%\n",
      "Epoch [4/10] completed. Average Training Loss: 0.0000\n",
      "Accuracy on test set after epoch 4: 50.00%\n",
      "Epoch [5/10] completed. Average Training Loss: 0.0000\n",
      "Accuracy on test set after epoch 5: 50.00%\n",
      "Epoch [6/10] completed. Average Training Loss: 0.0000\n",
      "Accuracy on test set after epoch 6: 50.00%\n",
      "Epoch [7/10] completed. Average Training Loss: 0.0000\n",
      "Accuracy on test set after epoch 7: 50.00%\n",
      "Epoch [8/10] completed. Average Training Loss: 0.0000\n",
      "Accuracy on test set after epoch 8: 50.00%\n",
      "Epoch [9/10] completed. Average Training Loss: 0.0000\n",
      "Accuracy on test set after epoch 9: 50.00%\n",
      "Epoch [10/10] completed. Average Training Loss: 0.0000\n",
      "Accuracy on test set after epoch 10: 50.00%\n",
      "Finished Training\n",
      "Model saved to simple_cnn_model.pth\n"
     ]
    }
   ],
   "source": [
    "sample_img, _ = train_dataset[0]\n",
    "C, H, W = sample_img.shape\n",
    "print(f\"Detected image shape: Channels={C}, Height={H}, Width={W}\")\n",
    "\n",
    "# Hyperparameters\n",
    "learning_rate = 0.007\n",
    "batch_size = 8 # Adjust this based on memory\n",
    "num_epochs = 10  # Adjust as needed for convergence\n",
    "num_classes = 2  # Binary classification (labels 0 and 1)\n",
    "\n",
    "# Model, Loss, Optimizer\n",
    "device = get_device()\n",
    "print(f\"Using device: {device}\")\n",
    "\n",
    "# DataLoaders\n",
    "pin_memory_flag   = device.type == 'cuda'\n",
    "num_workers_flag  = 2 if device.type == 'cuda' else 0   # 0 on M-series/CPU\n",
    "train_loader = DataLoader(train_dataset, batch_size=batch_size, shuffle=True, num_workers=num_workers_flag, pin_memory=pin_memory_flag)\n",
    "test_loader = DataLoader(test_dataset, batch_size=batch_size, shuffle=False, num_workers=num_workers_flag, pin_memory=pin_memory_flag)\n",
    "\n",
    "model = SimpleCNN(input_channels=C, input_height=H, input_width=W, num_classes=num_classes).to(device)\n",
    "# model = torch.compile(model)\n",
    "\n",
    "# Binary Cross Entropy with Logits Loss, suitable for binary classification with one output neuron\n",
    "criterion = nn.BCEWithLogitsLoss() # Different choiches possible\n",
    "optimizer = optim.Adam(model.parameters(), lr=learning_rate)\n",
    "\n",
    "# Training loop\n",
    "for epoch in tqdm(range(num_epochs), desc=\"Training Progress\", unit=\"epoch\"):\n",
    "    model.train()  \n",
    "    running_loss = 0.0\n",
    "    for i, (images, labels) in enumerate(train_loader):\n",
    "        images = images.to(device)\n",
    "        # Reshape labels to [batch_size, 1] and convert to float for BCEWithLogitsLoss\n",
    "        labels = labels.to(device).float().unsqueeze(1) \n",
    "\n",
    "        # Forward pass\n",
    "        outputs = model(images)\n",
    "        loss = criterion(outputs, labels)\n",
    "\n",
    "        # Backward and optimize\n",
    "        optimizer.zero_grad()\n",
    "        loss.backward()\n",
    "        optimizer.step()\n",
    "\n",
    "        running_loss += loss.item()\n",
    "        if (i + 1) % max(1, len(train_loader) // 10) == 0: # Print progress, e.g. 10 times per epoch\n",
    "            print(f\"Epoch [{epoch+1}/{num_epochs}], Step [{i+1}/{len(train_loader)}], Loss: {loss.item():.4f}\")\n",
    "    \n",
    "    avg_epoch_loss = running_loss / len(train_loader)\n",
    "    print(f\"Epoch [{epoch+1}/{num_epochs}] completed. Average Training Loss: {avg_epoch_loss:.4f}\")\n",
    "\n",
    "    # Evaluation on the test set\n",
    "    model.eval()  \n",
    "    correct = 0\n",
    "    total = 0\n",
    "    with torch.no_grad(): \n",
    "        for images, labels in test_loader:\n",
    "            images = images.to(device)\n",
    "            labels = labels.to(device).float().unsqueeze(1) #\n",
    "            \n",
    "            # predictions on the test set\n",
    "            outputs = model(images)\n",
    "            predictions = (torch.sigmoid(outputs) > 0.5).float()\n",
    "\n",
    "            total += labels.size(0)\n",
    "            correct += (predictions == labels).sum().item()\n",
    "    \n",
    "    accuracy = 100 * correct / total\n",
    "    print(f\"Accuracy on test set after epoch {epoch+1}: {accuracy:.2f}%\")\n",
    "\n",
    "    if device.type == \"mps\":            # Apple-GPU path\n",
    "        torch.mps.empty_cache()\n",
    "    elif device.type == \"cuda\":         # NVIDIA-GPU path\n",
    "        torch.cuda.empty_cache()\n",
    "    gc.collect() \n",
    "\n",
    "    \n",
    "# Save the model\n",
    "model_path = \"simple_cnn_model.pth\"\n",
    "torch.save(model.state_dict(), model_path)\n",
    "print(\"Finished Training\")\n",
    "print(f\"Model saved to {model_path}\")"
   ]
  },
  {
   "cell_type": "markdown",
   "id": "55c0f870",
   "metadata": {},
   "source": [
    "## Increased complexity"
   ]
  },
  {
   "cell_type": "code",
   "execution_count": 13,
   "id": "3d470596",
   "metadata": {},
   "outputs": [],
   "source": [
    "class SimpleCNN(nn.Module):\n",
    "    def __init__(self, input_channels, input_height, input_width, num_classes,\n",
    "                 conv1_out_channels=16, conv2_out_channels=32, fc_neurons=128):\n",
    "        super(SimpleCNN, self).__init__()\n",
    "        self.conv_layers = nn.Sequential(\n",
    "            nn.Conv2d(input_channels, conv1_out_channels, kernel_size=3, padding=1),\n",
    "            nn.ReLU(),\n",
    "            nn.MaxPool2d(kernel_size=2, stride=2),  # Output: conv1_out_channels x H/2 x W/2\n",
    "            nn.Conv2d(conv1_out_channels, conv2_out_channels, kernel_size=3, padding=1),\n",
    "            nn.ReLU(),\n",
    "            nn.MaxPool2d(kernel_size=2, stride=2)   # Output: conv2_out_channels x H/4 x W/4\n",
    "        )\n",
    "        \n",
    "        # Calculate the flattened size dynamically\n",
    "        with torch.no_grad():\n",
    "            dummy_input = torch.zeros(1, input_channels, input_height, input_width)\n",
    "            flattened_size = self.conv_layers(dummy_input).flatten(1).shape[1]\n",
    "            \n",
    "        self.fc_layers = nn.Sequential(\n",
    "            nn.Linear(flattened_size, fc_neurons),\n",
    "            nn.ReLU(),\n",
    "            nn.Linear(fc_neurons, 1 if num_classes == 2 else num_classes) \n",
    "        )\n",
    "\n",
    "    def forward(self, x):\n",
    "        x = self.conv_layers(x)\n",
    "        x = x.flatten(1) # Flatten all dimensions except batch\n",
    "        x = self.fc_layers(x)\n",
    "        return x"
   ]
  },
  {
   "cell_type": "code",
   "execution_count": 14,
   "id": "6e13a536",
   "metadata": {},
   "outputs": [
    {
     "name": "stdout",
     "output_type": "stream",
     "text": [
      "Detected image shape: Channels=3, Height=60, Width=30\n",
      "Using device: mps\n"
     ]
    },
    {
     "data": {
      "application/vnd.jupyter.widget-view+json": {
       "model_id": "9f3d853a327542d8b6fce6bac9be6b64",
       "version_major": 2,
       "version_minor": 0
      },
      "text/plain": [
       "Training Progress:   0%|          | 0/20 [00:00<?, ?epoch/s]"
      ]
     },
     "metadata": {},
     "output_type": "display_data"
    },
    {
     "name": "stdout",
     "output_type": "stream",
     "text": [
      "Epoch [1/20] completed. Average Training Loss: 0.6955\n",
      "Accuracy on test set after epoch 1: 50.00%\n",
      "Epoch [2/20] completed. Average Training Loss: 0.6921\n",
      "Accuracy on test set after epoch 2: 70.59%\n",
      "Epoch [3/20] completed. Average Training Loss: 0.6827\n",
      "Accuracy on test set after epoch 3: 61.76%\n",
      "Epoch [4/20] completed. Average Training Loss: 0.6775\n",
      "Accuracy on test set after epoch 4: 61.76%\n",
      "Epoch [5/20] completed. Average Training Loss: 0.6195\n",
      "Accuracy on test set after epoch 5: 61.76%\n",
      "Epoch [6/20] completed. Average Training Loss: 0.5475\n",
      "Accuracy on test set after epoch 6: 70.59%\n",
      "Epoch [7/20] completed. Average Training Loss: 0.4780\n",
      "Accuracy on test set after epoch 7: 73.53%\n",
      "Epoch [8/20] completed. Average Training Loss: 0.4218\n",
      "Accuracy on test set after epoch 8: 76.47%\n",
      "Epoch [9/20] completed. Average Training Loss: 0.3970\n",
      "Accuracy on test set after epoch 9: 64.71%\n",
      "Epoch [10/20] completed. Average Training Loss: 0.3961\n",
      "Accuracy on test set after epoch 10: 70.59%\n",
      "Epoch [11/20] completed. Average Training Loss: 0.3212\n",
      "Accuracy on test set after epoch 11: 76.47%\n",
      "Epoch [12/20] completed. Average Training Loss: 0.3124\n",
      "Accuracy on test set after epoch 12: 79.41%\n",
      "Epoch [13/20] completed. Average Training Loss: 0.3613\n",
      "Accuracy on test set after epoch 13: 73.53%\n",
      "Epoch [14/20] completed. Average Training Loss: 0.3202\n",
      "Accuracy on test set after epoch 14: 70.59%\n",
      "Epoch [15/20] completed. Average Training Loss: 0.2732\n",
      "Accuracy on test set after epoch 15: 76.47%\n",
      "Epoch [16/20] completed. Average Training Loss: 0.2612\n",
      "Accuracy on test set after epoch 16: 82.35%\n",
      "Epoch [17/20] completed. Average Training Loss: 0.2975\n",
      "Accuracy on test set after epoch 17: 79.41%\n",
      "Epoch [18/20] completed. Average Training Loss: 0.2457\n",
      "Accuracy on test set after epoch 18: 88.24%\n",
      "Epoch [19/20] completed. Average Training Loss: 0.2553\n",
      "Accuracy on test set after epoch 19: 85.29%\n",
      "Epoch [20/20] completed. Average Training Loss: 0.2697\n",
      "Accuracy on test set after epoch 20: 82.35%\n",
      "Finished Training Base Model\n"
     ]
    }
   ],
   "source": [
    "sample_img, _ = train_dataset[0]\n",
    "C, H, W = sample_img.shape\n",
    "print(f\"Detected image shape: Channels={C}, Height={H}, Width={W}\")\n",
    "\n",
    "# Hyperparameters (Base Model)\n",
    "learning_rate = 0.001\n",
    "batch_size = 8 \n",
    "num_epochs = 20 \n",
    "num_classes = 2 \n",
    "\n",
    "# Default architectural parameters for the base model\n",
    "conv1_out_channels_base = 16\n",
    "conv2_out_channels_base = 32\n",
    "fc_neurons_base = 128\n",
    "\n",
    "# Model, Loss, Optimizer\n",
    "device = get_device()\n",
    "print(f\"Using device: {device}\")\n",
    "\n",
    "# DataLoaders\n",
    "pin_memory_flag   = device.type == 'cuda'\n",
    "num_workers_flag  = 2 if device.type == 'cuda' else 0   # 0 on M-series/CPU\n",
    "train_loader = DataLoader(train_dataset, batch_size=batch_size, shuffle=True, num_workers=num_workers_flag, pin_memory=pin_memory_flag)\n",
    "test_loader = DataLoader(test_dataset, batch_size=batch_size, shuffle=False, num_workers=num_workers_flag, pin_memory=pin_memory_flag)\n",
    "\n",
    "# Use the (potentially modified) SimpleCNN class\n",
    "model = SimpleCNN(input_channels=C, input_height=H, input_width=W, num_classes=num_classes,\n",
    "                    conv1_out_channels=conv1_out_channels_base, \n",
    "                    conv2_out_channels=conv2_out_channels_base, \n",
    "                    fc_neurons=fc_neurons_base).to(device)\n",
    "# model = torch.compile(model)\n",
    "\n",
    "criterion = nn.BCEWithLogitsLoss()\n",
    "optimizer = optim.Adam(model.parameters(), lr=learning_rate)\n",
    "\n",
    "# Lists to store metrics for plotting\n",
    "epoch_train_losses = []\n",
    "epoch_test_accuracies = []\n",
    "\n",
    "# Training loop\n",
    "for epoch in tqdm(range(num_epochs), desc=\"Training Progress\", unit=\"epoch\"):\n",
    "    model.train()  \n",
    "    running_loss = 0.0\n",
    "    for images, labels in train_loader:\n",
    "        images = images.to(device)\n",
    "        labels = labels.to(device).float().unsqueeze(1) \n",
    "\n",
    "        outputs = model(images)\n",
    "        loss = criterion(outputs, labels)\n",
    "\n",
    "        optimizer.zero_grad()\n",
    "        loss.backward()\n",
    "        optimizer.step()\n",
    "\n",
    "        running_loss += loss.item() * images.size(0) # loss.item() is avg loss for batch\n",
    "    \n",
    "    avg_epoch_loss = running_loss / len(train_loader.dataset)  # Average loss over the entire training set\n",
    "    epoch_train_losses.append(avg_epoch_loss)\n",
    "    print(f\"Epoch [{epoch+1}/{num_epochs}] completed. Average Training Loss: {avg_epoch_loss:.4f}\")\n",
    "\n",
    "    # Evaluation on the test set\n",
    "    model.eval()  \n",
    "    correct = 0\n",
    "    total = 0\n",
    "    with torch.no_grad(): \n",
    "        for images, labels in test_loader:\n",
    "            images = images.to(device)\n",
    "            labels = labels.to(device).float().unsqueeze(1)\n",
    "            \n",
    "            outputs = model(images)\n",
    "            predicted = (torch.sigmoid(outputs) > 0.5).float() \n",
    "            \n",
    "            total += labels.size(0)\n",
    "            correct += (predicted == labels).sum().item()\n",
    "    \n",
    "    accuracy = 100 * correct / total\n",
    "    epoch_test_accuracies.append(accuracy)\n",
    "    print(f\"Accuracy on test set after epoch {epoch+1}: {accuracy:.2f}%\")\n",
    "\n",
    "    if device.type == \"mps\":            # Apple-GPU path\n",
    "        torch.mps.empty_cache()\n",
    "    elif device.type == \"cuda\":         # NVIDIA-GPU path\n",
    "        torch.cuda.empty_cache()\n",
    "    gc.collect()                        # reclaim Python-held objects\n",
    "\n",
    "print(\"Finished Training Base Model\")"
   ]
  },
  {
   "cell_type": "markdown",
   "id": "6293f4b5",
   "metadata": {},
   "source": [
    "### Plots"
   ]
  },
  {
   "cell_type": "code",
   "execution_count": 15,
   "id": "ec2ffc15",
   "metadata": {},
   "outputs": [
    {
     "data": {
      "image/png": "[encoded data removed]",
      "text/plain": [
       "<Figure size 1200x500 with 2 Axes>"
      ]
     },
     "metadata": {},
     "output_type": "display_data"
    }
   ],
   "source": [
    "# Plotting learning curves\n",
    "plt.figure(figsize=(12, 5))\n",
    "\n",
    "plt.subplot(1, 2, 1)\n",
    "plt.plot(range(1, num_epochs + 1), epoch_train_losses, label='Training Loss')\n",
    "plt.xlabel('Epoch')\n",
    "plt.ylabel('Loss')\n",
    "plt.title('Training Loss Curve', fontsize=14)\n",
    "plt.legend()\n",
    "\n",
    "plt.subplot(1, 2, 2)\n",
    "plt.plot(range(1, num_epochs + 1), epoch_test_accuracies, label='Test Accuracy', color='red')\n",
    "plt.xlabel('Epoch')\n",
    "plt.ylabel('Accuracy (%)')\n",
    "plt.title('Test Accuracy Curve', fontsize=14)\n",
    "plt.legend()\n",
    "\n",
    "plt.tight_layout()\n",
    "plt.show()"
   ]
  },
  {
   "cell_type": "markdown",
   "id": "bca0754c",
   "metadata": {},
   "source": [
    "## Hyperparameter tuning"
   ]
  },
  {
   "cell_type": "markdown",
   "id": "0e629c83",
   "metadata": {},
   "source": [
    "### Random Search"
   ]
  },
  {
   "cell_type": "code",
   "execution_count": 18,
   "id": "b59f0e36",
   "metadata": {},
   "outputs": [
    {
     "name": "stdout",
     "output_type": "stream",
     "text": [
      "Using device for hyperparameter tuning: mps\n"
     ]
    },
    {
     "data": {
      "application/vnd.jupyter.widget-view+json": {
       "model_id": "5cc433df43484daab7847ef9c18d7ebb",
       "version_major": 2,
       "version_minor": 0
      },
      "text/plain": [
       "Hyperparameter Search Trials:   0%|          | 0/20 [00:00<?, ?trial/s]"
      ]
     },
     "metadata": {},
     "output_type": "display_data"
    },
    {
     "name": "stdout",
     "output_type": "stream",
     "text": [
      "Testing params: {'learning_rate': 0.01, 'batch_size': 32, 'conv1_out_channels': 32, 'conv2_out_channels': 64, 'fc_neurons': 128}\n"
     ]
    },
    {
     "data": {
      "application/vnd.jupyter.widget-view+json": {
       "model_id": "3a39826aa3ce46d6aa51e3f0faeb9b08",
       "version_major": 2,
       "version_minor": 0
      },
      "text/plain": [
       "Trial 1 Training:   0%|          | 0/20 [00:00<?, ?it/s]"
      ]
     },
     "metadata": {},
     "output_type": "display_data"
    },
    {
     "name": "stdout",
     "output_type": "stream",
     "text": [
      "Trial 1 Epoch 1: Train Loss: 1.2938, Val Accuracy: 50.00%\n",
      "Trial 1 Epoch 2: Train Loss: 0.7113, Val Accuracy: 50.00%\n",
      "Trial 1 Epoch 3: Train Loss: 0.6929, Val Accuracy: 50.00%\n",
      "Trial 1 Epoch 4: Train Loss: 0.6937, Val Accuracy: 50.00%\n",
      "Trial 1 Epoch 5: Train Loss: 0.6906, Val Accuracy: 50.00%\n",
      "Trial 1 Epoch 6: Train Loss: 0.6887, Val Accuracy: 50.00%\n",
      "Trial 1 Epoch 7: Train Loss: 0.6735, Val Accuracy: 50.00%\n",
      "Trial 1 Epoch 8: Train Loss: 0.6528, Val Accuracy: 61.76%\n",
      "Trial 1 Epoch 9: Train Loss: 0.5827, Val Accuracy: 79.41%\n",
      "Trial 1 Epoch 10: Train Loss: 0.4611, Val Accuracy: 50.00%\n",
      "Trial 1 Epoch 11: Train Loss: 0.7405, Val Accuracy: 79.41%\n",
      "Trial 1 Epoch 12: Train Loss: 0.5415, Val Accuracy: 76.47%\n",
      "Trial 1 Epoch 13: Train Loss: 0.5081, Val Accuracy: 64.71%\n",
      "Trial 1 Epoch 14: Train Loss: 0.4342, Val Accuracy: 76.47%\n",
      "Trial 1 Epoch 15: Train Loss: 0.3885, Val Accuracy: 70.59%\n",
      "Trial 1 Epoch 16: Train Loss: 0.3532, Val Accuracy: 79.41%\n",
      "Trial 1 Epoch 17: Train Loss: 0.3386, Val Accuracy: 88.24%\n",
      "Trial 1 Epoch 18: Train Loss: 0.3053, Val Accuracy: 88.24%\n",
      "Trial 1 Epoch 19: Train Loss: 0.2284, Val Accuracy: 79.41%\n",
      "Trial 1 Epoch 20: Train Loss: 0.2048, Val Accuracy: 88.24%\n",
      "New best model found! Val Accuracy: 88.24%, Params: {'learning_rate': 0.01, 'batch_size': 32, 'conv1_out_channels': 32, 'conv2_out_channels': 64, 'fc_neurons': 128}\n",
      "Testing params: {'learning_rate': 0.0001, 'batch_size': 16, 'conv1_out_channels': 16, 'conv2_out_channels': 32, 'fc_neurons': 256}\n"
     ]
    },
    {
     "data": {
      "application/vnd.jupyter.widget-view+json": {
       "model_id": "238f3d6787434b899f9fef69196d38e8",
       "version_major": 2,
       "version_minor": 0
      },
      "text/plain": [
       "Trial 2 Training:   0%|          | 0/20 [00:00<?, ?it/s]"
      ]
     },
     "metadata": {},
     "output_type": "display_data"
    },
    {
     "name": "stdout",
     "output_type": "stream",
     "text": [
      "Trial 2 Epoch 1: Train Loss: 0.6980, Val Accuracy: 50.00%\n",
      "Trial 2 Epoch 2: Train Loss: 0.6933, Val Accuracy: 50.00%\n",
      "Trial 2 Epoch 3: Train Loss: 0.6921, Val Accuracy: 61.76%\n",
      "Trial 2 Epoch 4: Train Loss: 0.6902, Val Accuracy: 50.00%\n",
      "Trial 2 Epoch 5: Train Loss: 0.6897, Val Accuracy: 50.00%\n",
      "Trial 2 Epoch 6: Train Loss: 0.6881, Val Accuracy: 76.47%\n",
      "Trial 2 Epoch 7: Train Loss: 0.6872, Val Accuracy: 76.47%\n",
      "Trial 2 Epoch 8: Train Loss: 0.6852, Val Accuracy: 61.76%\n",
      "Trial 2 Epoch 9: Train Loss: 0.6828, Val Accuracy: 55.88%\n",
      "Trial 2 Epoch 10: Train Loss: 0.6811, Val Accuracy: 61.76%\n",
      "Trial 2 Epoch 11: Train Loss: 0.6800, Val Accuracy: 50.00%\n",
      "Trial 2 Epoch 12: Train Loss: 0.6749, Val Accuracy: 61.76%\n",
      "Trial 2 Epoch 13: Train Loss: 0.6719, Val Accuracy: 61.76%\n",
      "Trial 2 Epoch 14: Train Loss: 0.6664, Val Accuracy: 70.59%\n",
      "Trial 2 Epoch 15: Train Loss: 0.6628, Val Accuracy: 61.76%\n",
      "Trial 2 Epoch 16: Train Loss: 0.6541, Val Accuracy: 55.88%\n",
      "Trial 2 Epoch 17: Train Loss: 0.6509, Val Accuracy: 55.88%\n",
      "Trial 2 Epoch 18: Train Loss: 0.6410, Val Accuracy: 61.76%\n",
      "Trial 2 Epoch 19: Train Loss: 0.6316, Val Accuracy: 61.76%\n",
      "Trial 2 Epoch 20: Train Loss: 0.6222, Val Accuracy: 70.59%\n",
      "Testing params: {'learning_rate': 0.0001, 'batch_size': 8, 'conv1_out_channels': 32, 'conv2_out_channels': 32, 'fc_neurons': 256}\n"
     ]
    },
    {
     "data": {
      "application/vnd.jupyter.widget-view+json": {
       "model_id": "e3b21d6970d0479baad0b9ffa6c2a6f3",
       "version_major": 2,
       "version_minor": 0
      },
      "text/plain": [
       "Trial 3 Training:   0%|          | 0/20 [00:00<?, ?it/s]"
      ]
     },
     "metadata": {},
     "output_type": "display_data"
    },
    {
     "name": "stdout",
     "output_type": "stream",
     "text": [
      "Trial 3 Epoch 1: Train Loss: 0.6971, Val Accuracy: 50.00%\n",
      "Trial 3 Epoch 2: Train Loss: 0.6910, Val Accuracy: 55.88%\n",
      "Trial 3 Epoch 3: Train Loss: 0.6906, Val Accuracy: 76.47%\n",
      "Trial 3 Epoch 4: Train Loss: 0.6904, Val Accuracy: 50.00%\n",
      "Trial 3 Epoch 5: Train Loss: 0.6853, Val Accuracy: 55.88%\n",
      "Trial 3 Epoch 6: Train Loss: 0.6827, Val Accuracy: 76.47%\n",
      "Trial 3 Epoch 7: Train Loss: 0.6782, Val Accuracy: 61.76%\n",
      "Trial 3 Epoch 8: Train Loss: 0.6723, Val Accuracy: 61.76%\n",
      "Trial 3 Epoch 9: Train Loss: 0.6626, Val Accuracy: 61.76%\n",
      "Trial 3 Epoch 10: Train Loss: 0.6509, Val Accuracy: 61.76%\n",
      "Trial 3 Epoch 11: Train Loss: 0.6357, Val Accuracy: 70.59%\n",
      "Trial 3 Epoch 12: Train Loss: 0.6160, Val Accuracy: 76.47%\n",
      "Trial 3 Epoch 13: Train Loss: 0.5998, Val Accuracy: 61.76%\n",
      "Trial 3 Epoch 14: Train Loss: 0.5804, Val Accuracy: 61.76%\n",
      "Trial 3 Epoch 15: Train Loss: 0.5588, Val Accuracy: 61.76%\n",
      "Trial 3 Epoch 16: Train Loss: 0.5426, Val Accuracy: 67.65%\n",
      "Trial 3 Epoch 17: Train Loss: 0.5305, Val Accuracy: 70.59%\n",
      "Trial 3 Epoch 18: Train Loss: 0.4946, Val Accuracy: 76.47%\n",
      "Trial 3 Epoch 19: Train Loss: 0.4711, Val Accuracy: 61.76%\n",
      "Trial 3 Epoch 20: Train Loss: 0.4489, Val Accuracy: 79.41%\n",
      "Testing params: {'learning_rate': 0.01, 'batch_size': 32, 'conv1_out_channels': 16, 'conv2_out_channels': 64, 'fc_neurons': 256}\n"
     ]
    },
    {
     "data": {
      "application/vnd.jupyter.widget-view+json": {
       "model_id": "aecb6013723740e8b578549d41f5a0e6",
       "version_major": 2,
       "version_minor": 0
      },
      "text/plain": [
       "Trial 4 Training:   0%|          | 0/20 [00:00<?, ?it/s]"
      ]
     },
     "metadata": {},
     "output_type": "display_data"
    },
    {
     "name": "stdout",
     "output_type": "stream",
     "text": [
      "Trial 4 Epoch 1: Train Loss: 1.4374, Val Accuracy: 50.00%\n",
      "Trial 4 Epoch 2: Train Loss: 0.6932, Val Accuracy: 50.00%\n",
      "Trial 4 Epoch 3: Train Loss: 0.6953, Val Accuracy: 50.00%\n",
      "Trial 4 Epoch 4: Train Loss: 0.6883, Val Accuracy: 52.94%\n",
      "Trial 4 Epoch 5: Train Loss: 0.6789, Val Accuracy: 61.76%\n",
      "Trial 4 Epoch 6: Train Loss: 0.6536, Val Accuracy: 64.71%\n",
      "Trial 4 Epoch 7: Train Loss: 0.5836, Val Accuracy: 67.65%\n",
      "Trial 4 Epoch 8: Train Loss: 0.5112, Val Accuracy: 61.76%\n",
      "Trial 4 Epoch 9: Train Loss: 0.4939, Val Accuracy: 61.76%\n",
      "Trial 4 Epoch 10: Train Loss: 0.5053, Val Accuracy: 76.47%\n",
      "Trial 4 Epoch 11: Train Loss: 0.5023, Val Accuracy: 61.76%\n",
      "Trial 4 Epoch 12: Train Loss: 0.5054, Val Accuracy: 61.76%\n",
      "Trial 4 Epoch 13: Train Loss: 0.4554, Val Accuracy: 61.76%\n",
      "Trial 4 Epoch 14: Train Loss: 0.4534, Val Accuracy: 64.71%\n",
      "Trial 4 Epoch 15: Train Loss: 0.4285, Val Accuracy: 67.65%\n",
      "Trial 4 Epoch 16: Train Loss: 0.4449, Val Accuracy: 61.76%\n",
      "Trial 4 Epoch 17: Train Loss: 0.4940, Val Accuracy: 73.53%\n",
      "Trial 4 Epoch 18: Train Loss: 0.4395, Val Accuracy: 52.94%\n",
      "Trial 4 Epoch 19: Train Loss: 0.5012, Val Accuracy: 67.65%\n",
      "Trial 4 Epoch 20: Train Loss: 0.4183, Val Accuracy: 67.65%\n",
      "Testing params: {'learning_rate': 0.005, 'batch_size': 16, 'conv1_out_channels': 16, 'conv2_out_channels': 64, 'fc_neurons': 64}\n"
     ]
    },
    {
     "data": {
      "application/vnd.jupyter.widget-view+json": {
       "model_id": "884ec4bd3b1f4380aea3709bc452265c",
       "version_major": 2,
       "version_minor": 0
      },
      "text/plain": [
       "Trial 5 Training:   0%|          | 0/20 [00:00<?, ?it/s]"
      ]
     },
     "metadata": {},
     "output_type": "display_data"
    },
    {
     "name": "stdout",
     "output_type": "stream",
     "text": [
      "Trial 5 Epoch 1: Train Loss: 0.8451, Val Accuracy: 50.00%\n",
      "Trial 5 Epoch 2: Train Loss: 0.6948, Val Accuracy: 50.00%\n",
      "Trial 5 Epoch 3: Train Loss: 0.6907, Val Accuracy: 50.00%\n",
      "Trial 5 Epoch 4: Train Loss: 0.6848, Val Accuracy: 50.00%\n",
      "Trial 5 Epoch 5: Train Loss: 0.6652, Val Accuracy: 50.00%\n",
      "Trial 5 Epoch 6: Train Loss: 0.6472, Val Accuracy: 76.47%\n",
      "Trial 5 Epoch 7: Train Loss: 0.5445, Val Accuracy: 58.82%\n",
      "Trial 5 Epoch 8: Train Loss: 0.5656, Val Accuracy: 76.47%\n",
      "Trial 5 Epoch 9: Train Loss: 0.4918, Val Accuracy: 64.71%\n",
      "Trial 5 Epoch 10: Train Loss: 0.3984, Val Accuracy: 61.76%\n",
      "Trial 5 Epoch 11: Train Loss: 0.3556, Val Accuracy: 79.41%\n",
      "Trial 5 Epoch 12: Train Loss: 0.3302, Val Accuracy: 79.41%\n",
      "Trial 5 Epoch 13: Train Loss: 0.2925, Val Accuracy: 79.41%\n",
      "Trial 5 Epoch 14: Train Loss: 0.2467, Val Accuracy: 79.41%\n",
      "Trial 5 Epoch 15: Train Loss: 0.3183, Val Accuracy: 79.41%\n",
      "Trial 5 Epoch 16: Train Loss: 0.3843, Val Accuracy: 79.41%\n",
      "Trial 5 Epoch 17: Train Loss: 0.2846, Val Accuracy: 76.47%\n",
      "Trial 5 Epoch 18: Train Loss: 0.3046, Val Accuracy: 88.24%\n",
      "Trial 5 Epoch 19: Train Loss: 0.1997, Val Accuracy: 88.24%\n",
      "Trial 5 Epoch 20: Train Loss: 0.1996, Val Accuracy: 88.24%\n",
      "Testing params: {'learning_rate': 0.005, 'batch_size': 32, 'conv1_out_channels': 8, 'conv2_out_channels': 16, 'fc_neurons': 256}\n"
     ]
    },
    {
     "data": {
      "application/vnd.jupyter.widget-view+json": {
       "model_id": "9cd23fcb493640fbae634e23506c33e1",
       "version_major": 2,
       "version_minor": 0
      },
      "text/plain": [
       "Trial 6 Training:   0%|          | 0/20 [00:00<?, ?it/s]"
      ]
     },
     "metadata": {},
     "output_type": "display_data"
    },
    {
     "name": "stdout",
     "output_type": "stream",
     "text": [
      "Trial 6 Epoch 1: Train Loss: 0.7982, Val Accuracy: 50.00%\n",
      "Trial 6 Epoch 2: Train Loss: 0.6902, Val Accuracy: 50.00%\n",
      "Trial 6 Epoch 3: Train Loss: 0.6916, Val Accuracy: 58.82%\n",
      "Trial 6 Epoch 4: Train Loss: 0.6862, Val Accuracy: 67.65%\n",
      "Trial 6 Epoch 5: Train Loss: 0.6759, Val Accuracy: 76.47%\n",
      "Trial 6 Epoch 6: Train Loss: 0.6582, Val Accuracy: 50.00%\n",
      "Trial 6 Epoch 7: Train Loss: 0.6382, Val Accuracy: 64.71%\n",
      "Trial 6 Epoch 8: Train Loss: 0.6540, Val Accuracy: 64.71%\n",
      "Trial 6 Epoch 9: Train Loss: 0.5886, Val Accuracy: 70.59%\n",
      "Trial 6 Epoch 10: Train Loss: 0.5732, Val Accuracy: 64.71%\n",
      "Trial 6 Epoch 11: Train Loss: 0.5661, Val Accuracy: 55.88%\n",
      "Trial 6 Epoch 12: Train Loss: 0.5247, Val Accuracy: 67.65%\n",
      "Trial 6 Epoch 13: Train Loss: 0.5218, Val Accuracy: 67.65%\n",
      "Trial 6 Epoch 14: Train Loss: 0.4714, Val Accuracy: 64.71%\n",
      "Trial 6 Epoch 15: Train Loss: 0.4705, Val Accuracy: 76.47%\n",
      "Trial 6 Epoch 16: Train Loss: 0.4163, Val Accuracy: 76.47%\n",
      "Trial 6 Epoch 17: Train Loss: 0.4411, Val Accuracy: 61.76%\n",
      "Trial 6 Epoch 18: Train Loss: 0.4750, Val Accuracy: 58.82%\n",
      "Trial 6 Epoch 19: Train Loss: 0.4870, Val Accuracy: 73.53%\n",
      "Trial 6 Epoch 20: Train Loss: 0.4386, Val Accuracy: 73.53%\n",
      "Testing params: {'learning_rate': 0.0001, 'batch_size': 16, 'conv1_out_channels': 8, 'conv2_out_channels': 64, 'fc_neurons': 64}\n"
     ]
    },
    {
     "data": {
      "application/vnd.jupyter.widget-view+json": {
       "model_id": "f4461835daa84cdf8a2d16b9bf4451ba",
       "version_major": 2,
       "version_minor": 0
      },
      "text/plain": [
       "Trial 7 Training:   0%|          | 0/20 [00:00<?, ?it/s]"
      ]
     },
     "metadata": {},
     "output_type": "display_data"
    },
    {
     "name": "stdout",
     "output_type": "stream",
     "text": [
      "Trial 7 Epoch 1: Train Loss: 0.6958, Val Accuracy: 50.00%\n",
      "Trial 7 Epoch 2: Train Loss: 0.6935, Val Accuracy: 73.53%\n",
      "Trial 7 Epoch 3: Train Loss: 0.6913, Val Accuracy: 50.00%\n",
      "Trial 7 Epoch 4: Train Loss: 0.6903, Val Accuracy: 50.00%\n",
      "Trial 7 Epoch 5: Train Loss: 0.6913, Val Accuracy: 50.00%\n",
      "Trial 7 Epoch 6: Train Loss: 0.6881, Val Accuracy: 50.00%\n",
      "Trial 7 Epoch 7: Train Loss: 0.6858, Val Accuracy: 50.00%\n",
      "Trial 7 Epoch 8: Train Loss: 0.6842, Val Accuracy: 73.53%\n",
      "Trial 7 Epoch 9: Train Loss: 0.6826, Val Accuracy: 64.71%\n",
      "Trial 7 Epoch 10: Train Loss: 0.6803, Val Accuracy: 76.47%\n",
      "Trial 7 Epoch 11: Train Loss: 0.6774, Val Accuracy: 73.53%\n",
      "Trial 7 Epoch 12: Train Loss: 0.6739, Val Accuracy: 73.53%\n",
      "Trial 7 Epoch 13: Train Loss: 0.6697, Val Accuracy: 73.53%\n",
      "Trial 7 Epoch 14: Train Loss: 0.6670, Val Accuracy: 61.76%\n",
      "Trial 7 Epoch 15: Train Loss: 0.6610, Val Accuracy: 70.59%\n",
      "Trial 7 Epoch 16: Train Loss: 0.6572, Val Accuracy: 70.59%\n",
      "Trial 7 Epoch 17: Train Loss: 0.6502, Val Accuracy: 61.76%\n",
      "Trial 7 Epoch 18: Train Loss: 0.6446, Val Accuracy: 70.59%\n",
      "Trial 7 Epoch 19: Train Loss: 0.6379, Val Accuracy: 70.59%\n",
      "Trial 7 Epoch 20: Train Loss: 0.6298, Val Accuracy: 73.53%\n",
      "Testing params: {'learning_rate': 0.0005, 'batch_size': 16, 'conv1_out_channels': 32, 'conv2_out_channels': 64, 'fc_neurons': 128}\n"
     ]
    },
    {
     "data": {
      "application/vnd.jupyter.widget-view+json": {
       "model_id": "123c0d62f9a64c8485ca8e908c947a50",
       "version_major": 2,
       "version_minor": 0
      },
      "text/plain": [
       "Trial 8 Training:   0%|          | 0/20 [00:00<?, ?it/s]"
      ]
     },
     "metadata": {},
     "output_type": "display_data"
    },
    {
     "name": "stdout",
     "output_type": "stream",
     "text": [
      "Trial 8 Epoch 1: Train Loss: 0.7011, Val Accuracy: 50.00%\n",
      "Trial 8 Epoch 2: Train Loss: 0.6925, Val Accuracy: 50.00%\n",
      "Trial 8 Epoch 3: Train Loss: 0.6916, Val Accuracy: 70.59%\n",
      "Trial 8 Epoch 4: Train Loss: 0.6902, Val Accuracy: 50.00%\n",
      "Trial 8 Epoch 5: Train Loss: 0.6880, Val Accuracy: 61.76%\n",
      "Trial 8 Epoch 6: Train Loss: 0.6773, Val Accuracy: 61.76%\n",
      "Trial 8 Epoch 7: Train Loss: 0.6688, Val Accuracy: 76.47%\n",
      "Trial 8 Epoch 8: Train Loss: 0.6499, Val Accuracy: 76.47%\n",
      "Trial 8 Epoch 9: Train Loss: 0.6246, Val Accuracy: 64.71%\n",
      "Trial 8 Epoch 10: Train Loss: 0.6087, Val Accuracy: 61.76%\n",
      "Trial 8 Epoch 11: Train Loss: 0.5719, Val Accuracy: 61.76%\n",
      "Trial 8 Epoch 12: Train Loss: 0.5613, Val Accuracy: 55.88%\n",
      "Trial 8 Epoch 13: Train Loss: 0.5255, Val Accuracy: 76.47%\n",
      "Trial 8 Epoch 14: Train Loss: 0.4645, Val Accuracy: 61.76%\n",
      "Trial 8 Epoch 15: Train Loss: 0.4401, Val Accuracy: 73.53%\n",
      "Trial 8 Epoch 16: Train Loss: 0.4915, Val Accuracy: 61.76%\n",
      "Trial 8 Epoch 17: Train Loss: 0.4120, Val Accuracy: 76.47%\n",
      "Trial 8 Epoch 18: Train Loss: 0.3918, Val Accuracy: 76.47%\n",
      "Trial 8 Epoch 19: Train Loss: 0.3896, Val Accuracy: 61.76%\n",
      "Trial 8 Epoch 20: Train Loss: 0.3557, Val Accuracy: 79.41%\n",
      "Testing params: {'learning_rate': 0.01, 'batch_size': 8, 'conv1_out_channels': 8, 'conv2_out_channels': 32, 'fc_neurons': 128}\n"
     ]
    },
    {
     "data": {
      "application/vnd.jupyter.widget-view+json": {
       "model_id": "3a85f942ea114b5291b884b5826f57db",
       "version_major": 2,
       "version_minor": 0
      },
      "text/plain": [
       "Trial 9 Training:   0%|          | 0/20 [00:00<?, ?it/s]"
      ]
     },
     "metadata": {},
     "output_type": "display_data"
    },
    {
     "name": "stdout",
     "output_type": "stream",
     "text": [
      "Trial 9 Epoch 1: Train Loss: 0.8087, Val Accuracy: 50.00%\n",
      "Trial 9 Epoch 2: Train Loss: 0.6946, Val Accuracy: 50.00%\n",
      "Trial 9 Epoch 3: Train Loss: 0.6808, Val Accuracy: 67.65%\n",
      "Trial 9 Epoch 4: Train Loss: 0.5835, Val Accuracy: 64.71%\n",
      "Trial 9 Epoch 5: Train Loss: 0.4183, Val Accuracy: 85.29%\n",
      "Trial 9 Epoch 6: Train Loss: 0.4065, Val Accuracy: 88.24%\n",
      "Trial 9 Epoch 7: Train Loss: 0.2732, Val Accuracy: 88.24%\n",
      "Trial 9 Epoch 8: Train Loss: 0.2005, Val Accuracy: 88.24%\n",
      "Trial 9 Epoch 9: Train Loss: 0.3852, Val Accuracy: 85.29%\n",
      "Trial 9 Epoch 10: Train Loss: 0.2012, Val Accuracy: 88.24%\n",
      "Trial 9 Epoch 11: Train Loss: 0.2730, Val Accuracy: 97.06%\n",
      "Trial 9 Epoch 12: Train Loss: 0.2013, Val Accuracy: 88.24%\n",
      "Trial 9 Epoch 13: Train Loss: 0.2734, Val Accuracy: 88.24%\n",
      "Trial 9 Epoch 14: Train Loss: 0.2092, Val Accuracy: 88.24%\n",
      "Trial 9 Epoch 15: Train Loss: 0.1919, Val Accuracy: 100.00%\n",
      "Trial 9 Epoch 16: Train Loss: 0.0991, Val Accuracy: 100.00%\n",
      "Trial 9 Epoch 17: Train Loss: 0.0939, Val Accuracy: 97.06%\n",
      "Trial 9 Epoch 18: Train Loss: 0.0768, Val Accuracy: 100.00%\n",
      "Trial 9 Epoch 19: Train Loss: 0.0813, Val Accuracy: 94.12%\n",
      "Trial 9 Epoch 20: Train Loss: 0.1288, Val Accuracy: 100.00%\n",
      "New best model found! Val Accuracy: 100.00%, Params: {'learning_rate': 0.01, 'batch_size': 8, 'conv1_out_channels': 8, 'conv2_out_channels': 32, 'fc_neurons': 128}\n",
      "Testing params: {'learning_rate': 0.001, 'batch_size': 16, 'conv1_out_channels': 32, 'conv2_out_channels': 32, 'fc_neurons': 256}\n"
     ]
    },
    {
     "data": {
      "application/vnd.jupyter.widget-view+json": {
       "model_id": "9e67b8617c5d4a8a8b83472f916037ac",
       "version_major": 2,
       "version_minor": 0
      },
      "text/plain": [
       "Trial 10 Training:   0%|          | 0/20 [00:00<?, ?it/s]"
      ]
     },
     "metadata": {},
     "output_type": "display_data"
    },
    {
     "name": "stdout",
     "output_type": "stream",
     "text": [
      "Trial 10 Epoch 1: Train Loss: 0.7012, Val Accuracy: 50.00%\n",
      "Trial 10 Epoch 2: Train Loss: 0.6943, Val Accuracy: 50.00%\n",
      "Trial 10 Epoch 3: Train Loss: 0.6927, Val Accuracy: 50.00%\n",
      "Trial 10 Epoch 4: Train Loss: 0.6915, Val Accuracy: 61.76%\n",
      "Trial 10 Epoch 5: Train Loss: 0.6875, Val Accuracy: 73.53%\n",
      "Trial 10 Epoch 6: Train Loss: 0.6837, Val Accuracy: 76.47%\n",
      "Trial 10 Epoch 7: Train Loss: 0.6676, Val Accuracy: 64.71%\n",
      "Trial 10 Epoch 8: Train Loss: 0.6404, Val Accuracy: 73.53%\n",
      "Trial 10 Epoch 9: Train Loss: 0.5804, Val Accuracy: 61.76%\n",
      "Trial 10 Epoch 10: Train Loss: 0.5728, Val Accuracy: 58.82%\n",
      "Trial 10 Epoch 11: Train Loss: 0.5426, Val Accuracy: 61.76%\n",
      "Trial 10 Epoch 12: Train Loss: 0.4585, Val Accuracy: 61.76%\n",
      "Trial 10 Epoch 13: Train Loss: 0.4131, Val Accuracy: 73.53%\n",
      "Trial 10 Epoch 14: Train Loss: 0.3879, Val Accuracy: 73.53%\n",
      "Trial 10 Epoch 15: Train Loss: 0.3602, Val Accuracy: 76.47%\n",
      "Trial 10 Epoch 16: Train Loss: 0.3619, Val Accuracy: 67.65%\n",
      "Trial 10 Epoch 17: Train Loss: 0.3798, Val Accuracy: 67.65%\n",
      "Trial 10 Epoch 18: Train Loss: 0.3911, Val Accuracy: 70.59%\n",
      "Trial 10 Epoch 19: Train Loss: 0.4569, Val Accuracy: 79.41%\n",
      "Trial 10 Epoch 20: Train Loss: 0.3816, Val Accuracy: 79.41%\n",
      "Testing params: {'learning_rate': 0.001, 'batch_size': 32, 'conv1_out_channels': 8, 'conv2_out_channels': 64, 'fc_neurons': 128}\n"
     ]
    },
    {
     "data": {
      "application/vnd.jupyter.widget-view+json": {
       "model_id": "eab2300153c84887b8b578049bbe58e8",
       "version_major": 2,
       "version_minor": 0
      },
      "text/plain": [
       "Trial 11 Training:   0%|          | 0/20 [00:00<?, ?it/s]"
      ]
     },
     "metadata": {},
     "output_type": "display_data"
    },
    {
     "name": "stdout",
     "output_type": "stream",
     "text": [
      "Trial 11 Epoch 1: Train Loss: 0.7279, Val Accuracy: 50.00%\n",
      "Trial 11 Epoch 2: Train Loss: 0.6949, Val Accuracy: 50.00%\n",
      "Trial 11 Epoch 3: Train Loss: 0.6917, Val Accuracy: 76.47%\n",
      "Trial 11 Epoch 4: Train Loss: 0.6904, Val Accuracy: 50.00%\n",
      "Trial 11 Epoch 5: Train Loss: 0.6880, Val Accuracy: 67.65%\n",
      "Trial 11 Epoch 6: Train Loss: 0.6837, Val Accuracy: 64.71%\n",
      "Trial 11 Epoch 7: Train Loss: 0.6802, Val Accuracy: 50.00%\n",
      "Trial 11 Epoch 8: Train Loss: 0.6759, Val Accuracy: 55.88%\n",
      "Trial 11 Epoch 9: Train Loss: 0.6659, Val Accuracy: 58.82%\n",
      "Trial 11 Epoch 10: Train Loss: 0.6554, Val Accuracy: 58.82%\n",
      "Trial 11 Epoch 11: Train Loss: 0.6371, Val Accuracy: 70.59%\n",
      "Trial 11 Epoch 12: Train Loss: 0.6200, Val Accuracy: 70.59%\n",
      "Trial 11 Epoch 13: Train Loss: 0.5913, Val Accuracy: 64.71%\n",
      "Trial 11 Epoch 14: Train Loss: 0.5633, Val Accuracy: 64.71%\n",
      "Trial 11 Epoch 15: Train Loss: 0.5393, Val Accuracy: 76.47%\n",
      "Trial 11 Epoch 16: Train Loss: 0.5065, Val Accuracy: 61.76%\n",
      "Trial 11 Epoch 17: Train Loss: 0.5000, Val Accuracy: 76.47%\n",
      "Trial 11 Epoch 18: Train Loss: 0.4588, Val Accuracy: 61.76%\n",
      "Trial 11 Epoch 19: Train Loss: 0.4979, Val Accuracy: 64.71%\n",
      "Trial 11 Epoch 20: Train Loss: 0.4439, Val Accuracy: 76.47%\n",
      "Testing params: {'learning_rate': 0.001, 'batch_size': 32, 'conv1_out_channels': 8, 'conv2_out_channels': 16, 'fc_neurons': 64}\n"
     ]
    },
    {
     "data": {
      "application/vnd.jupyter.widget-view+json": {
       "model_id": "16007b54a9834363af8a1829d151fdb9",
       "version_major": 2,
       "version_minor": 0
      },
      "text/plain": [
       "Trial 12 Training:   0%|          | 0/20 [00:00<?, ?it/s]"
      ]
     },
     "metadata": {},
     "output_type": "display_data"
    },
    {
     "name": "stdout",
     "output_type": "stream",
     "text": [
      "Trial 12 Epoch 1: Train Loss: 0.6946, Val Accuracy: 55.88%\n",
      "Trial 12 Epoch 2: Train Loss: 0.6941, Val Accuracy: 50.00%\n",
      "Trial 12 Epoch 3: Train Loss: 0.6925, Val Accuracy: 50.00%\n",
      "Trial 12 Epoch 4: Train Loss: 0.6923, Val Accuracy: 50.00%\n",
      "Trial 12 Epoch 5: Train Loss: 0.6920, Val Accuracy: 50.00%\n",
      "Trial 12 Epoch 6: Train Loss: 0.6916, Val Accuracy: 50.00%\n",
      "Trial 12 Epoch 7: Train Loss: 0.6907, Val Accuracy: 50.00%\n",
      "Trial 12 Epoch 8: Train Loss: 0.6905, Val Accuracy: 50.00%\n",
      "Trial 12 Epoch 9: Train Loss: 0.6887, Val Accuracy: 50.00%\n",
      "Trial 12 Epoch 10: Train Loss: 0.6881, Val Accuracy: 50.00%\n",
      "Trial 12 Epoch 11: Train Loss: 0.6819, Val Accuracy: 50.00%\n",
      "Trial 12 Epoch 12: Train Loss: 0.6767, Val Accuracy: 70.59%\n",
      "Trial 12 Epoch 13: Train Loss: 0.6662, Val Accuracy: 61.76%\n",
      "Trial 12 Epoch 14: Train Loss: 0.6603, Val Accuracy: 61.76%\n",
      "Trial 12 Epoch 15: Train Loss: 0.6371, Val Accuracy: 52.94%\n",
      "Trial 12 Epoch 16: Train Loss: 0.6140, Val Accuracy: 64.71%\n",
      "Trial 12 Epoch 17: Train Loss: 0.5834, Val Accuracy: 70.59%\n",
      "Trial 12 Epoch 18: Train Loss: 0.5594, Val Accuracy: 64.71%\n",
      "Trial 12 Epoch 19: Train Loss: 0.5169, Val Accuracy: 70.59%\n",
      "Trial 12 Epoch 20: Train Loss: 0.5057, Val Accuracy: 64.71%\n",
      "Testing params: {'learning_rate': 0.0005, 'batch_size': 8, 'conv1_out_channels': 32, 'conv2_out_channels': 32, 'fc_neurons': 64}\n"
     ]
    },
    {
     "data": {
      "application/vnd.jupyter.widget-view+json": {
       "model_id": "036a4ec695e94159bc725ec764664c6c",
       "version_major": 2,
       "version_minor": 0
      },
      "text/plain": [
       "Trial 13 Training:   0%|          | 0/20 [00:00<?, ?it/s]"
      ]
     },
     "metadata": {},
     "output_type": "display_data"
    },
    {
     "name": "stdout",
     "output_type": "stream",
     "text": [
      "Trial 13 Epoch 1: Train Loss: 0.6964, Val Accuracy: 50.00%\n",
      "Trial 13 Epoch 2: Train Loss: 0.6912, Val Accuracy: 50.00%\n",
      "Trial 13 Epoch 3: Train Loss: 0.6951, Val Accuracy: 50.00%\n",
      "Trial 13 Epoch 4: Train Loss: 0.6828, Val Accuracy: 61.76%\n",
      "Trial 13 Epoch 5: Train Loss: 0.6761, Val Accuracy: 50.00%\n",
      "Trial 13 Epoch 6: Train Loss: 0.6568, Val Accuracy: 55.88%\n",
      "Trial 13 Epoch 7: Train Loss: 0.6154, Val Accuracy: 64.71%\n",
      "Trial 13 Epoch 8: Train Loss: 0.5983, Val Accuracy: 61.76%\n",
      "Trial 13 Epoch 9: Train Loss: 0.5653, Val Accuracy: 76.47%\n",
      "Trial 13 Epoch 10: Train Loss: 0.4940, Val Accuracy: 61.76%\n",
      "Trial 13 Epoch 11: Train Loss: 0.4122, Val Accuracy: 50.00%\n",
      "Trial 13 Epoch 12: Train Loss: 0.4465, Val Accuracy: 70.59%\n",
      "Trial 13 Epoch 13: Train Loss: 0.3974, Val Accuracy: 73.53%\n",
      "Trial 13 Epoch 14: Train Loss: 0.4654, Val Accuracy: 73.53%\n",
      "Trial 13 Epoch 15: Train Loss: 0.3725, Val Accuracy: 76.47%\n",
      "Trial 13 Epoch 16: Train Loss: 0.3182, Val Accuracy: 76.47%\n",
      "Trial 13 Epoch 17: Train Loss: 0.3370, Val Accuracy: 79.41%\n",
      "Trial 13 Epoch 18: Train Loss: 0.3599, Val Accuracy: 79.41%\n",
      "Trial 13 Epoch 19: Train Loss: 0.3314, Val Accuracy: 73.53%\n",
      "Trial 13 Epoch 20: Train Loss: 0.2760, Val Accuracy: 70.59%\n",
      "Testing params: {'learning_rate': 0.0001, 'batch_size': 32, 'conv1_out_channels': 8, 'conv2_out_channels': 64, 'fc_neurons': 256}\n"
     ]
    },
    {
     "data": {
      "application/vnd.jupyter.widget-view+json": {
       "model_id": "7951d6b9000f46048e03b2b021a151a0",
       "version_major": 2,
       "version_minor": 0
      },
      "text/plain": [
       "Trial 14 Training:   0%|          | 0/20 [00:00<?, ?it/s]"
      ]
     },
     "metadata": {},
     "output_type": "display_data"
    },
    {
     "name": "stdout",
     "output_type": "stream",
     "text": [
      "Trial 14 Epoch 1: Train Loss: 0.6963, Val Accuracy: 61.76%\n",
      "Trial 14 Epoch 2: Train Loss: 0.6925, Val Accuracy: 50.00%\n",
      "Trial 14 Epoch 3: Train Loss: 0.6916, Val Accuracy: 50.00%\n",
      "Trial 14 Epoch 4: Train Loss: 0.6889, Val Accuracy: 50.00%\n",
      "Trial 14 Epoch 5: Train Loss: 0.6899, Val Accuracy: 50.00%\n",
      "Trial 14 Epoch 6: Train Loss: 0.6855, Val Accuracy: 67.65%\n",
      "Trial 14 Epoch 7: Train Loss: 0.6831, Val Accuracy: 76.47%\n",
      "Trial 14 Epoch 8: Train Loss: 0.6813, Val Accuracy: 73.53%\n",
      "Trial 14 Epoch 9: Train Loss: 0.6791, Val Accuracy: 73.53%\n",
      "Trial 14 Epoch 10: Train Loss: 0.6771, Val Accuracy: 50.00%\n",
      "Trial 14 Epoch 11: Train Loss: 0.6736, Val Accuracy: 73.53%\n",
      "Trial 14 Epoch 12: Train Loss: 0.6709, Val Accuracy: 64.71%\n",
      "Trial 14 Epoch 13: Train Loss: 0.6662, Val Accuracy: 61.76%\n",
      "Trial 14 Epoch 14: Train Loss: 0.6642, Val Accuracy: 61.76%\n",
      "Trial 14 Epoch 15: Train Loss: 0.6604, Val Accuracy: 61.76%\n",
      "Trial 14 Epoch 16: Train Loss: 0.6558, Val Accuracy: 70.59%\n",
      "Trial 14 Epoch 17: Train Loss: 0.6501, Val Accuracy: 67.65%\n",
      "Trial 14 Epoch 18: Train Loss: 0.6470, Val Accuracy: 67.65%\n",
      "Trial 14 Epoch 19: Train Loss: 0.6471, Val Accuracy: 67.65%\n",
      "Trial 14 Epoch 20: Train Loss: 0.6410, Val Accuracy: 73.53%\n",
      "Testing params: {'learning_rate': 0.0001, 'batch_size': 16, 'conv1_out_channels': 8, 'conv2_out_channels': 16, 'fc_neurons': 64}\n"
     ]
    },
    {
     "data": {
      "application/vnd.jupyter.widget-view+json": {
       "model_id": "a453c79be4034dca899937731a068b78",
       "version_major": 2,
       "version_minor": 0
      },
      "text/plain": [
       "Trial 15 Training:   0%|          | 0/20 [00:00<?, ?it/s]"
      ]
     },
     "metadata": {},
     "output_type": "display_data"
    },
    {
     "name": "stdout",
     "output_type": "stream",
     "text": [
      "Trial 15 Epoch 1: Train Loss: 0.6951, Val Accuracy: 50.00%\n",
      "Trial 15 Epoch 2: Train Loss: 0.6930, Val Accuracy: 50.00%\n",
      "Trial 15 Epoch 3: Train Loss: 0.6931, Val Accuracy: 50.00%\n",
      "Trial 15 Epoch 4: Train Loss: 0.6927, Val Accuracy: 50.00%\n",
      "Trial 15 Epoch 5: Train Loss: 0.6924, Val Accuracy: 73.53%\n",
      "Trial 15 Epoch 6: Train Loss: 0.6921, Val Accuracy: 50.00%\n",
      "Trial 15 Epoch 7: Train Loss: 0.6921, Val Accuracy: 50.00%\n",
      "Trial 15 Epoch 8: Train Loss: 0.6914, Val Accuracy: 50.00%\n",
      "Trial 15 Epoch 9: Train Loss: 0.6909, Val Accuracy: 67.65%\n",
      "Trial 15 Epoch 10: Train Loss: 0.6904, Val Accuracy: 50.00%\n",
      "Trial 15 Epoch 11: Train Loss: 0.6901, Val Accuracy: 50.00%\n",
      "Trial 15 Epoch 12: Train Loss: 0.6892, Val Accuracy: 76.47%\n",
      "Trial 15 Epoch 13: Train Loss: 0.6883, Val Accuracy: 64.71%\n",
      "Trial 15 Epoch 14: Train Loss: 0.6876, Val Accuracy: 70.59%\n",
      "Trial 15 Epoch 15: Train Loss: 0.6866, Val Accuracy: 67.65%\n",
      "Trial 15 Epoch 16: Train Loss: 0.6855, Val Accuracy: 70.59%\n",
      "Trial 15 Epoch 17: Train Loss: 0.6845, Val Accuracy: 61.76%\n",
      "Trial 15 Epoch 18: Train Loss: 0.6832, Val Accuracy: 55.88%\n",
      "Trial 15 Epoch 19: Train Loss: 0.6815, Val Accuracy: 55.88%\n",
      "Trial 15 Epoch 20: Train Loss: 0.6803, Val Accuracy: 58.82%\n",
      "Testing params: {'learning_rate': 0.0005, 'batch_size': 8, 'conv1_out_channels': 32, 'conv2_out_channels': 32, 'fc_neurons': 256}\n"
     ]
    },
    {
     "data": {
      "application/vnd.jupyter.widget-view+json": {
       "model_id": "d7e10f8374264a478057a19e5f54ffdb",
       "version_major": 2,
       "version_minor": 0
      },
      "text/plain": [
       "Trial 16 Training:   0%|          | 0/20 [00:00<?, ?it/s]"
      ]
     },
     "metadata": {},
     "output_type": "display_data"
    },
    {
     "name": "stdout",
     "output_type": "stream",
     "text": [
      "Trial 16 Epoch 1: Train Loss: 0.6974, Val Accuracy: 50.00%\n",
      "Trial 16 Epoch 2: Train Loss: 0.6907, Val Accuracy: 50.00%\n",
      "Trial 16 Epoch 3: Train Loss: 0.6848, Val Accuracy: 64.71%\n",
      "Trial 16 Epoch 4: Train Loss: 0.6774, Val Accuracy: 61.76%\n",
      "Trial 16 Epoch 5: Train Loss: 0.6482, Val Accuracy: 70.59%\n",
      "Trial 16 Epoch 6: Train Loss: 0.6021, Val Accuracy: 70.59%\n",
      "Trial 16 Epoch 7: Train Loss: 0.5212, Val Accuracy: 61.76%\n",
      "Trial 16 Epoch 8: Train Loss: 0.4773, Val Accuracy: 70.59%\n",
      "Trial 16 Epoch 9: Train Loss: 0.5246, Val Accuracy: 76.47%\n",
      "Trial 16 Epoch 10: Train Loss: 0.4433, Val Accuracy: 73.53%\n",
      "Trial 16 Epoch 11: Train Loss: 0.4068, Val Accuracy: 61.76%\n",
      "Trial 16 Epoch 12: Train Loss: 0.4459, Val Accuracy: 73.53%\n",
      "Trial 16 Epoch 13: Train Loss: 0.4181, Val Accuracy: 76.47%\n",
      "Trial 16 Epoch 14: Train Loss: 0.3964, Val Accuracy: 76.47%\n",
      "Trial 16 Epoch 15: Train Loss: 0.3562, Val Accuracy: 76.47%\n",
      "Trial 16 Epoch 16: Train Loss: 0.3139, Val Accuracy: 76.47%\n",
      "Trial 16 Epoch 17: Train Loss: 0.3094, Val Accuracy: 70.59%\n",
      "Trial 16 Epoch 18: Train Loss: 0.2754, Val Accuracy: 79.41%\n",
      "Trial 16 Epoch 19: Train Loss: 0.2792, Val Accuracy: 70.59%\n",
      "Trial 16 Epoch 20: Train Loss: 0.2959, Val Accuracy: 76.47%\n",
      "Testing params: {'learning_rate': 0.0005, 'batch_size': 8, 'conv1_out_channels': 8, 'conv2_out_channels': 64, 'fc_neurons': 64}\n"
     ]
    },
    {
     "data": {
      "application/vnd.jupyter.widget-view+json": {
       "model_id": "6c15e89e05f84921aedeb8e42575de66",
       "version_major": 2,
       "version_minor": 0
      },
      "text/plain": [
       "Trial 17 Training:   0%|          | 0/20 [00:00<?, ?it/s]"
      ]
     },
     "metadata": {},
     "output_type": "display_data"
    },
    {
     "name": "stdout",
     "output_type": "stream",
     "text": [
      "Trial 17 Epoch 1: Train Loss: 0.6967, Val Accuracy: 50.00%\n",
      "Trial 17 Epoch 2: Train Loss: 0.6920, Val Accuracy: 50.00%\n",
      "Trial 17 Epoch 3: Train Loss: 0.6903, Val Accuracy: 55.88%\n",
      "Trial 17 Epoch 4: Train Loss: 0.6863, Val Accuracy: 67.65%\n",
      "Trial 17 Epoch 5: Train Loss: 0.6756, Val Accuracy: 70.59%\n",
      "Trial 17 Epoch 6: Train Loss: 0.6559, Val Accuracy: 61.76%\n",
      "Trial 17 Epoch 7: Train Loss: 0.6362, Val Accuracy: 61.76%\n",
      "Trial 17 Epoch 8: Train Loss: 0.5926, Val Accuracy: 61.76%\n",
      "Trial 17 Epoch 9: Train Loss: 0.5417, Val Accuracy: 70.59%\n",
      "Trial 17 Epoch 10: Train Loss: 0.4730, Val Accuracy: 58.82%\n",
      "Trial 17 Epoch 11: Train Loss: 0.4391, Val Accuracy: 61.76%\n",
      "Trial 17 Epoch 12: Train Loss: 0.4041, Val Accuracy: 70.59%\n",
      "Trial 17 Epoch 13: Train Loss: 0.3829, Val Accuracy: 67.65%\n",
      "Trial 17 Epoch 14: Train Loss: 0.3734, Val Accuracy: 64.71%\n",
      "Trial 17 Epoch 15: Train Loss: 0.4047, Val Accuracy: 76.47%\n",
      "Trial 17 Epoch 16: Train Loss: 0.3869, Val Accuracy: 64.71%\n",
      "Trial 17 Epoch 17: Train Loss: 0.3568, Val Accuracy: 76.47%\n",
      "Trial 17 Epoch 18: Train Loss: 0.3624, Val Accuracy: 76.47%\n",
      "Trial 17 Epoch 19: Train Loss: 0.3403, Val Accuracy: 79.41%\n",
      "Trial 17 Epoch 20: Train Loss: 0.3074, Val Accuracy: 76.47%\n",
      "Testing params: {'learning_rate': 0.001, 'batch_size': 32, 'conv1_out_channels': 32, 'conv2_out_channels': 16, 'fc_neurons': 256}\n"
     ]
    },
    {
     "data": {
      "application/vnd.jupyter.widget-view+json": {
       "model_id": "cf5d521a79e746208eda12acccb97243",
       "version_major": 2,
       "version_minor": 0
      },
      "text/plain": [
       "Trial 18 Training:   0%|          | 0/20 [00:00<?, ?it/s]"
      ]
     },
     "metadata": {},
     "output_type": "display_data"
    },
    {
     "name": "stdout",
     "output_type": "stream",
     "text": [
      "Trial 18 Epoch 1: Train Loss: 0.7084, Val Accuracy: 50.00%\n",
      "Trial 18 Epoch 2: Train Loss: 0.6933, Val Accuracy: 50.00%\n",
      "Trial 18 Epoch 3: Train Loss: 0.6917, Val Accuracy: 50.00%\n",
      "Trial 18 Epoch 4: Train Loss: 0.6884, Val Accuracy: 50.00%\n",
      "Trial 18 Epoch 5: Train Loss: 0.6841, Val Accuracy: 50.00%\n",
      "Trial 18 Epoch 6: Train Loss: 0.6758, Val Accuracy: 50.00%\n",
      "Trial 18 Epoch 7: Train Loss: 0.6721, Val Accuracy: 61.76%\n",
      "Trial 18 Epoch 8: Train Loss: 0.6476, Val Accuracy: 73.53%\n",
      "Trial 18 Epoch 9: Train Loss: 0.6374, Val Accuracy: 76.47%\n",
      "Trial 18 Epoch 10: Train Loss: 0.5904, Val Accuracy: 70.59%\n",
      "Trial 18 Epoch 11: Train Loss: 0.5405, Val Accuracy: 61.76%\n",
      "Trial 18 Epoch 12: Train Loss: 0.4933, Val Accuracy: 61.76%\n",
      "Trial 18 Epoch 13: Train Loss: 0.4608, Val Accuracy: 61.76%\n",
      "Trial 18 Epoch 14: Train Loss: 0.4242, Val Accuracy: 79.41%\n",
      "Trial 18 Epoch 15: Train Loss: 0.4387, Val Accuracy: 76.47%\n",
      "Trial 18 Epoch 16: Train Loss: 0.3900, Val Accuracy: 61.76%\n",
      "Trial 18 Epoch 17: Train Loss: 0.4270, Val Accuracy: 73.53%\n",
      "Trial 18 Epoch 18: Train Loss: 0.4236, Val Accuracy: 61.76%\n",
      "Trial 18 Epoch 19: Train Loss: 0.3873, Val Accuracy: 79.41%\n",
      "Trial 18 Epoch 20: Train Loss: 0.3627, Val Accuracy: 61.76%\n",
      "Testing params: {'learning_rate': 0.01, 'batch_size': 32, 'conv1_out_channels': 8, 'conv2_out_channels': 16, 'fc_neurons': 256}\n"
     ]
    },
    {
     "data": {
      "application/vnd.jupyter.widget-view+json": {
       "model_id": "4c80be805d4f4f5bbfa36d0c3d0af540",
       "version_major": 2,
       "version_minor": 0
      },
      "text/plain": [
       "Trial 19 Training:   0%|          | 0/20 [00:00<?, ?it/s]"
      ]
     },
     "metadata": {},
     "output_type": "display_data"
    },
    {
     "name": "stdout",
     "output_type": "stream",
     "text": [
      "Trial 19 Epoch 1: Train Loss: 0.8673, Val Accuracy: 50.00%\n",
      "Trial 19 Epoch 2: Train Loss: 0.6982, Val Accuracy: 50.00%\n",
      "Trial 19 Epoch 3: Train Loss: 0.6943, Val Accuracy: 50.00%\n",
      "Trial 19 Epoch 4: Train Loss: 0.6947, Val Accuracy: 50.00%\n",
      "Trial 19 Epoch 5: Train Loss: 0.6931, Val Accuracy: 50.00%\n",
      "Trial 19 Epoch 6: Train Loss: 0.6928, Val Accuracy: 50.00%\n",
      "Trial 19 Epoch 7: Train Loss: 0.6898, Val Accuracy: 50.00%\n",
      "Trial 19 Epoch 8: Train Loss: 0.6921, Val Accuracy: 50.00%\n",
      "Trial 19 Epoch 9: Train Loss: 0.6848, Val Accuracy: 61.76%\n",
      "Trial 19 Epoch 10: Train Loss: 0.6655, Val Accuracy: 61.76%\n",
      "Trial 19 Epoch 11: Train Loss: 0.6144, Val Accuracy: 70.59%\n",
      "Trial 19 Epoch 12: Train Loss: 0.5464, Val Accuracy: 61.76%\n",
      "Trial 19 Epoch 13: Train Loss: 0.4407, Val Accuracy: 61.76%\n",
      "Trial 19 Epoch 14: Train Loss: 0.6751, Val Accuracy: 55.88%\n",
      "Trial 19 Epoch 15: Train Loss: 0.4905, Val Accuracy: 70.59%\n",
      "Trial 19 Epoch 16: Train Loss: 0.5230, Val Accuracy: 58.82%\n",
      "Trial 19 Epoch 17: Train Loss: 0.5390, Val Accuracy: 58.82%\n",
      "Trial 19 Epoch 18: Train Loss: 0.4881, Val Accuracy: 76.47%\n",
      "Trial 19 Epoch 19: Train Loss: 0.5430, Val Accuracy: 61.76%\n",
      "Trial 19 Epoch 20: Train Loss: 0.5268, Val Accuracy: 50.00%\n",
      "Testing params: {'learning_rate': 0.001, 'batch_size': 16, 'conv1_out_channels': 32, 'conv2_out_channels': 16, 'fc_neurons': 256}\n"
     ]
    },
    {
     "data": {
      "application/vnd.jupyter.widget-view+json": {
       "model_id": "0f2ef84413b448ac8cb7723464342b89",
       "version_major": 2,
       "version_minor": 0
      },
      "text/plain": [
       "Trial 20 Training:   0%|          | 0/20 [00:00<?, ?it/s]"
      ]
     },
     "metadata": {},
     "output_type": "display_data"
    },
    {
     "name": "stdout",
     "output_type": "stream",
     "text": [
      "Trial 20 Epoch 1: Train Loss: 0.6946, Val Accuracy: 61.76%\n",
      "Trial 20 Epoch 2: Train Loss: 0.6911, Val Accuracy: 50.00%\n",
      "Trial 20 Epoch 3: Train Loss: 0.6814, Val Accuracy: 58.82%\n",
      "Trial 20 Epoch 4: Train Loss: 0.6592, Val Accuracy: 55.88%\n",
      "Trial 20 Epoch 5: Train Loss: 0.6054, Val Accuracy: 76.47%\n",
      "Trial 20 Epoch 6: Train Loss: 0.5616, Val Accuracy: 67.65%\n",
      "Trial 20 Epoch 7: Train Loss: 0.4826, Val Accuracy: 55.88%\n",
      "Trial 20 Epoch 8: Train Loss: 0.6211, Val Accuracy: 58.82%\n",
      "Trial 20 Epoch 9: Train Loss: 0.5252, Val Accuracy: 64.71%\n",
      "Trial 20 Epoch 10: Train Loss: 0.4610, Val Accuracy: 64.71%\n",
      "Trial 20 Epoch 11: Train Loss: 0.4310, Val Accuracy: 76.47%\n",
      "Trial 20 Epoch 12: Train Loss: 0.4313, Val Accuracy: 73.53%\n",
      "Trial 20 Epoch 13: Train Loss: 0.3924, Val Accuracy: 76.47%\n",
      "Trial 20 Epoch 14: Train Loss: 0.3559, Val Accuracy: 76.47%\n",
      "Trial 20 Epoch 15: Train Loss: 0.3378, Val Accuracy: 79.41%\n",
      "Trial 20 Epoch 16: Train Loss: 0.3338, Val Accuracy: 64.71%\n",
      "Trial 20 Epoch 17: Train Loss: 0.3713, Val Accuracy: 70.59%\n",
      "Trial 20 Epoch 18: Train Loss: 0.3815, Val Accuracy: 67.65%\n",
      "Trial 20 Epoch 19: Train Loss: 0.3997, Val Accuracy: 76.47%\n",
      "Trial 20 Epoch 20: Train Loss: 0.3263, Val Accuracy: 79.41%\n",
      "\n",
      "Finished Hyperparameter Search.\n",
      "Best randomsearch model saved to best_randomsearch_cnn_model.pth\n"
     ]
    }
   ],
   "source": [
    "# Device configuration\n",
    "device = get_device()\n",
    "print(f\"Using device for hyperparameter tuning: {device}\")\n",
    "\n",
    "# Get image dimensions (C, H, W should be available from the previous cell or re-derived)\n",
    "if 'C' not in locals() or 'H' not in locals() or 'W' not in locals():\n",
    "    sample_img, _ = train_dataset[0]\n",
    "    C, H, W = sample_img.shape\n",
    "    print(f\"Re-detected image shape: Channels={C}, Height={H}, Width={W}\")\n",
    "\n",
    "# Hyperparameter search space\n",
    "param_space = {\n",
    "    'learning_rate': [0.0001, 0.0005, 0.001, 0.005, 0.01],\n",
    "    'batch_size': [8, 16, 32],\n",
    "    'conv1_out_channels': [8, 16, 32],\n",
    "    'conv2_out_channels': [16, 32, 64],\n",
    "    'fc_neurons': [64, 128, 256],\n",
    "}\n",
    "\n",
    "num_classes_hp = 2\n",
    "num_epochs_search = 20 # Fewer epochs for faster search, adjust as needed\n",
    "num_trials = 20 # Number of random hyperparameter sets to try\n",
    "\n",
    "best_hyperparams = None\n",
    "best_val_accuracy = -1.0\n",
    "best_model_state = None\n",
    "\n",
    "# Store history for the best model's learning curves\n",
    "best_model_train_losses = []\n",
    "best_model_val_accuracies = []\n",
    "\n",
    "for trial in tqdm(range(num_trials), desc=\"Hyperparameter Search Trials\", unit=\"trial\"):\n",
    "    # Randomly sample hyperparameters\n",
    "    current_params = {k: random.choice(v) for k, v in param_space.items()}\n",
    "    print(f\"Testing params: {current_params}\")\n",
    "\n",
    "    # DataLoaders with current batch size\n",
    "    pin_memory_flag   = device.type == 'cuda'\n",
    "    num_workers_flag  = 2 if device.type == 'cuda' else 0   # 0 on M-series/CPU\n",
    "\n",
    "    try:\n",
    "        current_train_loader = DataLoader(train_dataset, batch_size=current_params['batch_size'], shuffle=True, num_workers=num_workers_flag, pin_memory=pin_memory_flag)\n",
    "        current_val_loader = DataLoader(test_dataset, batch_size=current_params['batch_size'], shuffle=False, num_workers=num_workers_flag, pin_memory=pin_memory_flag)\n",
    "    except Exception as e:\n",
    "        print(f\"Error creating DataLoader, possibly due to batch size: {e}. Skipping trial.\")\n",
    "        continue\n",
    "\n",
    "\n",
    "    # Model\n",
    "    model_hp = SimpleCNN(input_channels=C, input_height=H, input_width=W, num_classes=num_classes_hp,\n",
    "                            conv1_out_channels=current_params['conv1_out_channels'],\n",
    "                            conv2_out_channels=current_params['conv2_out_channels'],\n",
    "                            fc_neurons=current_params['fc_neurons']).to(device)\n",
    "    # model_hp = torch.compile(model_hp)\n",
    "\n",
    "    criterion_hp = nn.BCEWithLogitsLoss()\n",
    "    \n",
    "    optimizer_hp = optim.Adam(model_hp.parameters(), lr=current_params['learning_rate'])\n",
    "\n",
    "    trial_train_losses = []\n",
    "    trial_val_accuracies = []\n",
    "\n",
    "    # Training loop\n",
    "    for epoch in tqdm(range(num_epochs_search), desc=f\"Trial {trial+1} Training\", leave=False):\n",
    "        model_hp.train()\n",
    "        epoch_running_loss = 0.0\n",
    "        for images, labels in current_train_loader:\n",
    "            images, labels = images.to(device), labels.to(device).float().unsqueeze(1)\n",
    "            optimizer_hp.zero_grad()\n",
    "            outputs = model_hp(images)\n",
    "            loss = criterion_hp(outputs, labels)\n",
    "            loss.backward()\n",
    "            optimizer_hp.step()\n",
    "            epoch_running_loss += loss.item() * images.size(0)\n",
    "        \n",
    "        avg_epoch_train_loss = epoch_running_loss / len(current_train_loader.dataset)\n",
    "        trial_train_losses.append(avg_epoch_train_loss)\n",
    "\n",
    "        # Validation\n",
    "        model_hp.eval()\n",
    "        val_correct = 0\n",
    "        val_total = 0\n",
    "        with torch.no_grad():\n",
    "            for images, labels in current_val_loader:\n",
    "                images, labels = images.to(device), labels.to(device).float().unsqueeze(1)\n",
    "                outputs = model_hp(images)\n",
    "                predicted = (torch.sigmoid(outputs) > 0.5).float()\n",
    "                val_total += labels.size(0)\n",
    "                val_correct += (predicted == labels).sum().item()\n",
    "        \n",
    "        current_epoch_val_accuracy = 100 * val_correct / val_total\n",
    "        trial_val_accuracies.append(current_epoch_val_accuracy)\n",
    "        \n",
    "        print(f\"Trial {trial+1} Epoch {epoch+1}: Train Loss: {avg_epoch_train_loss:.4f}, Val Accuracy: {current_epoch_val_accuracy:.2f}%\")\n",
    "\n",
    "        if device.type == \"mps\":            # Apple-GPU path\n",
    "            torch.mps.empty_cache()\n",
    "        elif device.type == \"cuda\":         # NVIDIA-GPU path\n",
    "            torch.cuda.empty_cache()\n",
    "        gc.collect()                        # reclaim Python-held objects\n",
    "        \n",
    "    # Check if this trial is the best so far (based on final epoch's validation accuracy)\n",
    "    if trial_val_accuracies and current_epoch_val_accuracy > best_val_accuracy:\n",
    "        best_val_accuracy = current_epoch_val_accuracy\n",
    "        best_hyperparams = current_params\n",
    "        best_model_state = model_hp.state_dict() # Save the model state\n",
    "        best_model_train_losses = trial_train_losses # Save learning curves for this best model\n",
    "        best_model_val_accuracies = trial_val_accuracies\n",
    "        print(f\"New best model found! Val Accuracy: {best_val_accuracy:.2f}%, Params: {best_hyperparams}\")\n",
    "\n",
    "print(\"\\nFinished Hyperparameter Search.\")\n",
    "\n",
    "# Save the best model found during hyperparameter search\n",
    "best_randomsearch_model_path = \"best_randomsearch_cnn_model.pth\"\n",
    "torch.save(best_model_state, best_randomsearch_model_path)\n",
    "print(f\"Best randomsearch model saved to {best_randomsearch_model_path}\")\n",
    "   "
   ]
  },
  {
   "cell_type": "markdown",
   "id": "622afaba",
   "metadata": {},
   "source": [
    "#### Plots"
   ]
  },
  {
   "cell_type": "code",
   "execution_count": 19,
   "id": "70f6e76d",
   "metadata": {},
   "outputs": [
    {
     "name": "stdout",
     "output_type": "stream",
     "text": [
      "Best Validation Accuracy: 100.00%\n",
      "Best Hyperparameters: {'learning_rate': 0.01, 'batch_size': 8, 'conv1_out_channels': 8, 'conv2_out_channels': 32, 'fc_neurons': 128}\n"
     ]
    },
    {
     "data": {
      "image/png": "[encoded data removed]",
      "text/plain": [
       "<Figure size 1200x500 with 2 Axes>"
      ]
     },
     "metadata": {},
     "output_type": "display_data"
    }
   ],
   "source": [
    "print(f\"Best Validation Accuracy: {best_val_accuracy:.2f}%\")\n",
    "print(f\"Best Hyperparameters: {best_hyperparams}\")\n",
    "\n",
    "# Plotting learning curves for the best model from hyperparameter search\n",
    "plt.figure(figsize=(12, 5))\n",
    "\n",
    "plt.subplot(1, 2, 1)\n",
    "plt.plot(range(1, num_epochs_search + 1), best_model_train_losses, label='Best Model Training Loss')\n",
    "plt.xlabel('Epoch')\n",
    "plt.ylabel('Loss')\n",
    "plt.title('Best Model - Training Loss')\n",
    "plt.legend()\n",
    "\n",
    "plt.subplot(1, 2, 2)\n",
    "plt.plot(range(1, num_epochs_search + 1), best_model_val_accuracies, label='Best Model Validation Accuracy', color='red')\n",
    "plt.xlabel('Epoch')\n",
    "plt.ylabel('Accuracy (%)')\n",
    "plt.title('Best Model - Validation Accuracy')\n",
    "plt.legend()\n",
    "\n",
    "plt.tight_layout()\n",
    "plt.show()\n",
    "\n",
    "# Load the best model state for further use if needed:\n",
    "# model_best = SimpleCNN(input_channels=C, input_height=H, input_width=W, num_classes=num_classes_hp, **best_hyperparams_arch).to(device)\n",
    "# model_best.load_state_dict(best_model_state)\n",
    "# where best_hyperparams_arch = {k: v for k,v in best_hyperparams.items() if k in ['conv1_out_channels', 'conv2_out_channels', 'fc_neurons']}"
   ]
  },
  {
   "cell_type": "markdown",
   "id": "4038ab6b",
   "metadata": {},
   "source": [
    "### Method 2 - Optuna"
   ]
  },
  {
   "cell_type": "code",
   "execution_count": 20,
   "id": "74f1a1b5",
   "metadata": {},
   "outputs": [],
   "source": [
    "# %pip install optuna\n",
    "# %pip install --upgrade pip"
   ]
  },
  {
   "cell_type": "code",
   "execution_count": 25,
   "id": "e515a56c",
   "metadata": {},
   "outputs": [
    {
     "name": "stderr",
     "output_type": "stream",
     "text": [
      "[I 2025-06-04 18:42:38,052] A new study created in memory with name: no-name-d61888a9-2daf-418a-a624-26d77c9a3cf2\n"
     ]
    },
    {
     "name": "stdout",
     "output_type": "stream",
     "text": [
      "Using device for Optuna hyperparameter tuning: mps\n",
      "Image shape: Channels=3, Height=60, Width=30\n"
     ]
    },
    {
     "data": {
      "application/vnd.jupyter.widget-view+json": {
       "model_id": "e629b6e689184562acb6c0308b9a66fb",
       "version_major": 2,
       "version_minor": 0
      },
      "text/plain": [
       "Trial 0 [Training]:   0%|          | 0/20 [00:00<?, ?it/s]"
      ]
     },
     "metadata": {},
     "output_type": "display_data"
    },
    {
     "name": "stderr",
     "output_type": "stream",
     "text": [
      "[I 2025-06-04 18:47:10,769] Trial 0 finished with value: 50.0 and parameters: {'learning_rate': 0.00676468718250951, 'batch_size': 8, 'conv1_out_channels': 16, 'conv2_out_channels': 32, 'fc_neurons': 64}. Best is trial 0 with value: 50.0.\n"
     ]
    },
    {
     "data": {
      "application/vnd.jupyter.widget-view+json": {
       "model_id": "e5b4a27c59564aedb524619dc70de849",
       "version_major": 2,
       "version_minor": 0
      },
      "text/plain": [
       "Trial 1 [Training]:   0%|          | 0/20 [00:00<?, ?it/s]"
      ]
     },
     "metadata": {},
     "output_type": "display_data"
    },
    {
     "name": "stderr",
     "output_type": "stream",
     "text": [
      "[I 2025-06-04 18:51:46,468] Trial 1 finished with value: 50.0 and parameters: {'learning_rate': 0.008671495486872547, 'batch_size': 32, 'conv1_out_channels': 8, 'conv2_out_channels': 16, 'fc_neurons': 128}. Best is trial 0 with value: 50.0.\n"
     ]
    },
    {
     "data": {
      "application/vnd.jupyter.widget-view+json": {
       "model_id": "620bb236efe7484889591c2c4c4a8004",
       "version_major": 2,
       "version_minor": 0
      },
      "text/plain": [
       "Trial 2 [Training]:   0%|          | 0/20 [00:00<?, ?it/s]"
      ]
     },
     "metadata": {},
     "output_type": "display_data"
    },
    {
     "name": "stderr",
     "output_type": "stream",
     "text": [
      "[I 2025-06-04 18:56:21,085] Trial 2 finished with value: 50.0 and parameters: {'learning_rate': 0.0056161736195090356, 'batch_size': 16, 'conv1_out_channels': 32, 'conv2_out_channels': 64, 'fc_neurons': 64}. Best is trial 0 with value: 50.0.\n"
     ]
    },
    {
     "data": {
      "application/vnd.jupyter.widget-view+json": {
       "model_id": "7d54a834abfc419b81e9ba31f2efdf0d",
       "version_major": 2,
       "version_minor": 0
      },
      "text/plain": [
       "Trial 3 [Training]:   0%|          | 0/20 [00:00<?, ?it/s]"
      ]
     },
     "metadata": {},
     "output_type": "display_data"
    },
    {
     "name": "stderr",
     "output_type": "stream",
     "text": [
      "[I 2025-06-04 19:00:56,560] Trial 3 finished with value: 50.0 and parameters: {'learning_rate': 0.0013857873867477422, 'batch_size': 8, 'conv1_out_channels': 64, 'conv2_out_channels': 128, 'fc_neurons': 128}. Best is trial 0 with value: 50.0.\n"
     ]
    },
    {
     "data": {
      "application/vnd.jupyter.widget-view+json": {
       "model_id": "b1d2126cb85849c79615e881124e4373",
       "version_major": 2,
       "version_minor": 0
      },
      "text/plain": [
       "Trial 4 [Training]:   0%|          | 0/20 [00:00<?, ?it/s]"
      ]
     },
     "metadata": {},
     "output_type": "display_data"
    },
    {
     "name": "stderr",
     "output_type": "stream",
     "text": [
      "[I 2025-06-04 19:05:40,759] Trial 4 finished with value: 50.0 and parameters: {'learning_rate': 0.00027375406447145955, 'batch_size': 16, 'conv1_out_channels': 8, 'conv2_out_channels': 128, 'fc_neurons': 256}. Best is trial 0 with value: 50.0.\n"
     ]
    },
    {
     "data": {
      "application/vnd.jupyter.widget-view+json": {
       "model_id": "b89c429dfa844e26a7d869a00f842733",
       "version_major": 2,
       "version_minor": 0
      },
      "text/plain": [
       "Trial 5 [Training]:   0%|          | 0/20 [00:00<?, ?it/s]"
      ]
     },
     "metadata": {},
     "output_type": "display_data"
    },
    {
     "name": "stderr",
     "output_type": "stream",
     "text": [
      "[I 2025-06-04 19:10:22,503] Trial 5 finished with value: 50.0 and parameters: {'learning_rate': 0.0012155773726168862, 'batch_size': 32, 'conv1_out_channels': 32, 'conv2_out_channels': 32, 'fc_neurons': 64}. Best is trial 0 with value: 50.0.\n"
     ]
    },
    {
     "data": {
      "application/vnd.jupyter.widget-view+json": {
       "model_id": "0e2f7b1f03a546b8aae78a23b617caaf",
       "version_major": 2,
       "version_minor": 0
      },
      "text/plain": [
       "Trial 6 [Training]:   0%|          | 0/20 [00:00<?, ?it/s]"
      ]
     },
     "metadata": {},
     "output_type": "display_data"
    },
    {
     "name": "stderr",
     "output_type": "stream",
     "text": [
      "[I 2025-06-04 19:15:09,866] Trial 6 finished with value: 50.0 and parameters: {'learning_rate': 0.00293861029199567, 'batch_size': 32, 'conv1_out_channels': 8, 'conv2_out_channels': 32, 'fc_neurons': 256}. Best is trial 0 with value: 50.0.\n"
     ]
    },
    {
     "data": {
      "application/vnd.jupyter.widget-view+json": {
       "model_id": "d3693469493e4e5d971c1550543b5935",
       "version_major": 2,
       "version_minor": 0
      },
      "text/plain": [
       "Trial 7 [Training]:   0%|          | 0/20 [00:00<?, ?it/s]"
      ]
     },
     "metadata": {},
     "output_type": "display_data"
    },
    {
     "name": "stderr",
     "output_type": "stream",
     "text": [
      "[I 2025-06-04 19:19:53,836] Trial 7 finished with value: 50.0 and parameters: {'learning_rate': 0.0005708854257773716, 'batch_size': 32, 'conv1_out_channels': 32, 'conv2_out_channels': 32, 'fc_neurons': 256}. Best is trial 0 with value: 50.0.\n"
     ]
    },
    {
     "data": {
      "application/vnd.jupyter.widget-view+json": {
       "model_id": "41c8cc383fbb49e7b08479ec0532a86d",
       "version_major": 2,
       "version_minor": 0
      },
      "text/plain": [
       "Trial 8 [Training]:   0%|          | 0/20 [00:00<?, ?it/s]"
      ]
     },
     "metadata": {},
     "output_type": "display_data"
    },
    {
     "name": "stderr",
     "output_type": "stream",
     "text": [
      "[I 2025-06-04 19:24:37,088] Trial 8 finished with value: 50.0 and parameters: {'learning_rate': 0.0002051440798183661, 'batch_size': 8, 'conv1_out_channels': 8, 'conv2_out_channels': 128, 'fc_neurons': 128}. Best is trial 0 with value: 50.0.\n"
     ]
    },
    {
     "data": {
      "application/vnd.jupyter.widget-view+json": {
       "model_id": "69c41822816c4001bcc947b99f462630",
       "version_major": 2,
       "version_minor": 0
      },
      "text/plain": [
       "Trial 9 [Training]:   0%|          | 0/20 [00:00<?, ?it/s]"
      ]
     },
     "metadata": {},
     "output_type": "display_data"
    },
    {
     "name": "stderr",
     "output_type": "stream",
     "text": [
      "[I 2025-06-04 19:29:21,284] Trial 9 finished with value: 50.0 and parameters: {'learning_rate': 0.008176730901561746, 'batch_size': 32, 'conv1_out_channels': 64, 'conv2_out_channels': 128, 'fc_neurons': 256}. Best is trial 0 with value: 50.0.\n"
     ]
    },
    {
     "data": {
      "application/vnd.jupyter.widget-view+json": {
       "model_id": "c28eaa7e8f6e4eb18abe3983e7c590b4",
       "version_major": 2,
       "version_minor": 0
      },
      "text/plain": [
       "Trial 10 [Training]:   0%|          | 0/20 [00:00<?, ?it/s]"
      ]
     },
     "metadata": {},
     "output_type": "display_data"
    },
    {
     "name": "stderr",
     "output_type": "stream",
     "text": [
      "[I 2025-06-04 19:34:06,195] Trial 10 finished with value: 50.0 and parameters: {'learning_rate': 0.0032419790117416023, 'batch_size': 8, 'conv1_out_channels': 16, 'conv2_out_channels': 16, 'fc_neurons': 64}. Best is trial 0 with value: 50.0.\n"
     ]
    },
    {
     "data": {
      "application/vnd.jupyter.widget-view+json": {
       "model_id": "b922fc803ed0411bbc7f156481bc16d0",
       "version_major": 2,
       "version_minor": 0
      },
      "text/plain": [
       "Trial 11 [Training]:   0%|          | 0/20 [00:00<?, ?it/s]"
      ]
     },
     "metadata": {},
     "output_type": "display_data"
    },
    {
     "name": "stderr",
     "output_type": "stream",
     "text": [
      "[I 2025-06-04 19:38:49,417] Trial 11 finished with value: 50.0 and parameters: {'learning_rate': 0.009440398809160262, 'batch_size': 8, 'conv1_out_channels': 16, 'conv2_out_channels': 16, 'fc_neurons': 128}. Best is trial 0 with value: 50.0.\n"
     ]
    },
    {
     "data": {
      "application/vnd.jupyter.widget-view+json": {
       "model_id": "04f60b65658445e0bd4d03d686cd2e10",
       "version_major": 2,
       "version_minor": 0
      },
      "text/plain": [
       "Trial 12 [Training]:   0%|          | 0/20 [00:00<?, ?it/s]"
      ]
     },
     "metadata": {},
     "output_type": "display_data"
    },
    {
     "name": "stderr",
     "output_type": "stream",
     "text": [
      "[I 2025-06-04 19:43:28,124] Trial 12 finished with value: 50.0 and parameters: {'learning_rate': 0.0029677034843899365, 'batch_size': 32, 'conv1_out_channels': 16, 'conv2_out_channels': 16, 'fc_neurons': 64}. Best is trial 0 with value: 50.0.\n"
     ]
    },
    {
     "data": {
      "application/vnd.jupyter.widget-view+json": {
       "model_id": "4e30542391014b60b57f23f00b859917",
       "version_major": 2,
       "version_minor": 0
      },
      "text/plain": [
       "Trial 13 [Training]:   0%|          | 0/20 [00:00<?, ?it/s]"
      ]
     },
     "metadata": {},
     "output_type": "display_data"
    },
    {
     "name": "stderr",
     "output_type": "stream",
     "text": [
      "[I 2025-06-04 19:48:05,658] Trial 13 finished with value: 50.0 and parameters: {'learning_rate': 0.00480532747115043, 'batch_size': 8, 'conv1_out_channels': 16, 'conv2_out_channels': 64, 'fc_neurons': 128}. Best is trial 0 with value: 50.0.\n"
     ]
    },
    {
     "data": {
      "application/vnd.jupyter.widget-view+json": {
       "model_id": "e104a51cb68b4352987b9847a20d98ff",
       "version_major": 2,
       "version_minor": 0
      },
      "text/plain": [
       "Trial 14 [Training]:   0%|          | 0/20 [00:00<?, ?it/s]"
      ]
     },
     "metadata": {},
     "output_type": "display_data"
    },
    {
     "name": "stderr",
     "output_type": "stream",
     "text": [
      "[I 2025-06-04 19:52:45,665] Trial 14 finished with value: 50.0 and parameters: {'learning_rate': 0.00218258598350252, 'batch_size': 16, 'conv1_out_channels': 8, 'conv2_out_channels': 32, 'fc_neurons': 128}. Best is trial 0 with value: 50.0.\n"
     ]
    },
    {
     "data": {
      "application/vnd.jupyter.widget-view+json": {
       "model_id": "40c77540056648b79d8c0fb5f8df38b2",
       "version_major": 2,
       "version_minor": 0
      },
      "text/plain": [
       "Trial 15 [Training]:   0%|          | 0/20 [00:00<?, ?it/s]"
      ]
     },
     "metadata": {},
     "output_type": "display_data"
    },
    {
     "name": "stderr",
     "output_type": "stream",
     "text": [
      "[I 2025-06-04 19:57:26,137] Trial 15 finished with value: 50.0 and parameters: {'learning_rate': 0.0007654442861150718, 'batch_size': 32, 'conv1_out_channels': 16, 'conv2_out_channels': 16, 'fc_neurons': 64}. Best is trial 0 with value: 50.0.\n"
     ]
    },
    {
     "data": {
      "application/vnd.jupyter.widget-view+json": {
       "model_id": "f083e502234c4df6989be89b3aec89c4",
       "version_major": 2,
       "version_minor": 0
      },
      "text/plain": [
       "Trial 16 [Training]:   0%|          | 0/20 [00:00<?, ?it/s]"
      ]
     },
     "metadata": {},
     "output_type": "display_data"
    },
    {
     "name": "stderr",
     "output_type": "stream",
     "text": [
      "[I 2025-06-04 20:02:06,522] Trial 16 finished with value: 50.0 and parameters: {'learning_rate': 0.00010100222761492729, 'batch_size': 8, 'conv1_out_channels': 8, 'conv2_out_channels': 16, 'fc_neurons': 128}. Best is trial 0 with value: 50.0.\n"
     ]
    },
    {
     "data": {
      "application/vnd.jupyter.widget-view+json": {
       "model_id": "5d02e9c24e994e4bbb9ad77c0e0bdfb2",
       "version_major": 2,
       "version_minor": 0
      },
      "text/plain": [
       "Trial 17 [Training]:   0%|          | 0/20 [00:00<?, ?it/s]"
      ]
     },
     "metadata": {},
     "output_type": "display_data"
    },
    {
     "name": "stderr",
     "output_type": "stream",
     "text": [
      "[W 2025-06-04 20:03:56,906] Trial 17 failed with parameters: {'learning_rate': 0.005316486859629714, 'batch_size': 8, 'conv1_out_channels': 64, 'conv2_out_channels': 32, 'fc_neurons': 64} because of the following error: KeyboardInterrupt().\n",
      "Traceback (most recent call last):\n",
      "  File \"/opt/anaconda3/envs/DDAI_311/lib/python3.11/site-packages/optuna/study/_optimize.py\", line 197, in _run_trial\n",
      "    value_or_values = func(trial)\n",
      "                      ^^^^^^^^^^^\n",
      "  File \"/var/folders/hm/4wbpsn2j6yx92hvp0rssd2lm0000gn/T/ipykernel_5469/2734463067.py\", line 79, in objective\n",
      "    for images, labels in current_val_loader: # val_pbar_opt:\n",
      "  File \"/opt/anaconda3/envs/DDAI_311/lib/python3.11/site-packages/torch/utils/data/dataloader.py\", line 733, in __next__\n",
      "    data = self._next_data()\n",
      "           ^^^^^^^^^^^^^^^^^\n",
      "  File \"/opt/anaconda3/envs/DDAI_311/lib/python3.11/site-packages/torch/utils/data/dataloader.py\", line 789, in _next_data\n",
      "    data = self._dataset_fetcher.fetch(index)  # may raise StopIteration\n",
      "           ^^^^^^^^^^^^^^^^^^^^^^^^^^^^^^^^^^\n",
      "  File \"/opt/anaconda3/envs/DDAI_311/lib/python3.11/site-packages/torch/utils/data/_utils/fetch.py\", line 52, in fetch\n",
      "    data = [self.dataset[idx] for idx in possibly_batched_index]\n",
      "           ^^^^^^^^^^^^^^^^^^^^^^^^^^^^^^^^^^^^^^^^^^^^^^^^^^^^^\n",
      "  File \"/opt/anaconda3/envs/DDAI_311/lib/python3.11/site-packages/torch/utils/data/_utils/fetch.py\", line 52, in <listcomp>\n",
      "    data = [self.dataset[idx] for idx in possibly_batched_index]\n",
      "            ~~~~~~~~~~~~^^^^^\n",
      "  File \"/opt/anaconda3/envs/DDAI_311/lib/python3.11/site-packages/torchvision/datasets/folder.py\", line 247, in __getitem__\n",
      "    sample = self.transform(sample)\n",
      "             ^^^^^^^^^^^^^^^^^^^^^^\n",
      "  File \"/opt/anaconda3/envs/DDAI_311/lib/python3.11/site-packages/torchvision/transforms/transforms.py\", line 95, in __call__\n",
      "    img = t(img)\n",
      "          ^^^^^^\n",
      "  File \"/opt/anaconda3/envs/DDAI_311/lib/python3.11/site-packages/torch/nn/modules/module.py\", line 1751, in _wrapped_call_impl\n",
      "    return self._call_impl(*args, **kwargs)\n",
      "           ^^^^^^^^^^^^^^^^^^^^^^^^^^^^^^^^\n",
      "  File \"/opt/anaconda3/envs/DDAI_311/lib/python3.11/site-packages/torch/nn/modules/module.py\", line 1762, in _call_impl\n",
      "    return forward_call(*args, **kwargs)\n",
      "           ^^^^^^^^^^^^^^^^^^^^^^^^^^^^^\n",
      "  File \"/opt/anaconda3/envs/DDAI_311/lib/python3.11/site-packages/torchvision/transforms/transforms.py\", line 354, in forward\n",
      "    return F.resize(img, self.size, self.interpolation, self.max_size, self.antialias)\n",
      "           ^^^^^^^^^^^^^^^^^^^^^^^^^^^^^^^^^^^^^^^^^^^^^^^^^^^^^^^^^^^^^^^^^^^^^^^^^^^\n",
      "  File \"/opt/anaconda3/envs/DDAI_311/lib/python3.11/site-packages/torchvision/transforms/functional.py\", line 477, in resize\n",
      "    return F_pil.resize(img, size=output_size, interpolation=pil_interpolation)\n",
      "           ^^^^^^^^^^^^^^^^^^^^^^^^^^^^^^^^^^^^^^^^^^^^^^^^^^^^^^^^^^^^^^^^^^^^\n",
      "  File \"/opt/anaconda3/envs/DDAI_311/lib/python3.11/site-packages/torchvision/transforms/_functional_pil.py\", line 250, in resize\n",
      "    return img.resize(tuple(size[::-1]), interpolation)\n",
      "           ^^^^^^^^^^^^^^^^^^^^^^^^^^^^^^^^^^^^^^^^^^^^\n",
      "  File \"/opt/anaconda3/envs/DDAI_311/lib/python3.11/site-packages/PIL/Image.py\", line 2356, in resize\n",
      "    return self._new(self.im.resize(size, resample, box))\n",
      "                     ^^^^^^^^^^^^^^^^^^^^^^^^^^^^^^^^^^^\n",
      "KeyboardInterrupt\n",
      "[W 2025-06-04 20:03:56,911] Trial 17 failed with value None.\n"
     ]
    },
    {
     "ename": "KeyboardInterrupt",
     "evalue": "",
     "output_type": "error",
     "traceback": [
      "\u001b[0;31m---------------------------------------------------------------------------\u001b[0m",
      "\u001b[0;31mKeyboardInterrupt\u001b[0m                         Traceback (most recent call last)",
      "Cell \u001b[0;32mIn[25], line 113\u001b[0m\n\u001b[1;32m    110\u001b[0m \u001b[38;5;66;03m# Create a study object and optimize\u001b[39;00m\n\u001b[1;32m    111\u001b[0m \u001b[38;5;66;03m# You can add a pruner, e.g., optuna.pruners.MedianPruner()\u001b[39;00m\n\u001b[1;32m    112\u001b[0m study \u001b[38;5;241m=\u001b[39m optuna\u001b[38;5;241m.\u001b[39mcreate_study(direction\u001b[38;5;241m=\u001b[39m\u001b[38;5;124m\"\u001b[39m\u001b[38;5;124mmaximize\u001b[39m\u001b[38;5;124m\"\u001b[39m, pruner\u001b[38;5;241m=\u001b[39moptuna\u001b[38;5;241m.\u001b[39mpruners\u001b[38;5;241m.\u001b[39mMedianPruner())\n\u001b[0;32m--> 113\u001b[0m study\u001b[38;5;241m.\u001b[39moptimize(objective, n_trials\u001b[38;5;241m=\u001b[39mnum_trials_optuna, gc_after_trial\u001b[38;5;241m=\u001b[39m\u001b[38;5;28;01mTrue\u001b[39;00m)\n\u001b[1;32m    115\u001b[0m \u001b[38;5;28mprint\u001b[39m(\u001b[38;5;124m\"\u001b[39m\u001b[38;5;130;01m\\n\u001b[39;00m\u001b[38;5;124mFinished Optuna Hyperparameter Search.\u001b[39m\u001b[38;5;124m\"\u001b[39m)\n\u001b[1;32m    116\u001b[0m best_trial_optuna \u001b[38;5;241m=\u001b[39m study\u001b[38;5;241m.\u001b[39mbest_trial\n",
      "File \u001b[0;32m/opt/anaconda3/envs/DDAI_311/lib/python3.11/site-packages/optuna/study/study.py:475\u001b[0m, in \u001b[0;36mStudy.optimize\u001b[0;34m(self, func, n_trials, timeout, n_jobs, catch, callbacks, gc_after_trial, show_progress_bar)\u001b[0m\n\u001b[1;32m    373\u001b[0m \u001b[38;5;28;01mdef\u001b[39;00m \u001b[38;5;21moptimize\u001b[39m(\n\u001b[1;32m    374\u001b[0m     \u001b[38;5;28mself\u001b[39m,\n\u001b[1;32m    375\u001b[0m     func: ObjectiveFuncType,\n\u001b[0;32m   (...)\u001b[0m\n\u001b[1;32m    382\u001b[0m     show_progress_bar: \u001b[38;5;28mbool\u001b[39m \u001b[38;5;241m=\u001b[39m \u001b[38;5;28;01mFalse\u001b[39;00m,\n\u001b[1;32m    383\u001b[0m ) \u001b[38;5;241m-\u001b[39m\u001b[38;5;241m>\u001b[39m \u001b[38;5;28;01mNone\u001b[39;00m:\n\u001b[1;32m    384\u001b[0m \u001b[38;5;250m    \u001b[39m\u001b[38;5;124;03m\"\"\"Optimize an objective function.\u001b[39;00m\n\u001b[1;32m    385\u001b[0m \n\u001b[1;32m    386\u001b[0m \u001b[38;5;124;03m    Optimization is done by choosing a suitable set of hyperparameter values from a given\u001b[39;00m\n\u001b[0;32m   (...)\u001b[0m\n\u001b[1;32m    473\u001b[0m \u001b[38;5;124;03m            If nested invocation of this method occurs.\u001b[39;00m\n\u001b[1;32m    474\u001b[0m \u001b[38;5;124;03m    \"\"\"\u001b[39;00m\n\u001b[0;32m--> 475\u001b[0m     _optimize(\n\u001b[1;32m    476\u001b[0m         study\u001b[38;5;241m=\u001b[39m\u001b[38;5;28mself\u001b[39m,\n\u001b[1;32m    477\u001b[0m         func\u001b[38;5;241m=\u001b[39mfunc,\n\u001b[1;32m    478\u001b[0m         n_trials\u001b[38;5;241m=\u001b[39mn_trials,\n\u001b[1;32m    479\u001b[0m         timeout\u001b[38;5;241m=\u001b[39mtimeout,\n\u001b[1;32m    480\u001b[0m         n_jobs\u001b[38;5;241m=\u001b[39mn_jobs,\n\u001b[1;32m    481\u001b[0m         catch\u001b[38;5;241m=\u001b[39m\u001b[38;5;28mtuple\u001b[39m(catch) \u001b[38;5;28;01mif\u001b[39;00m \u001b[38;5;28misinstance\u001b[39m(catch, Iterable) \u001b[38;5;28;01melse\u001b[39;00m (catch,),\n\u001b[1;32m    482\u001b[0m         callbacks\u001b[38;5;241m=\u001b[39mcallbacks,\n\u001b[1;32m    483\u001b[0m         gc_after_trial\u001b[38;5;241m=\u001b[39mgc_after_trial,\n\u001b[1;32m    484\u001b[0m         show_progress_bar\u001b[38;5;241m=\u001b[39mshow_progress_bar,\n\u001b[1;32m    485\u001b[0m     )\n",
      "File \u001b[0;32m/opt/anaconda3/envs/DDAI_311/lib/python3.11/site-packages/optuna/study/_optimize.py:63\u001b[0m, in \u001b[0;36m_optimize\u001b[0;34m(study, func, n_trials, timeout, n_jobs, catch, callbacks, gc_after_trial, show_progress_bar)\u001b[0m\n\u001b[1;32m     61\u001b[0m \u001b[38;5;28;01mtry\u001b[39;00m:\n\u001b[1;32m     62\u001b[0m     \u001b[38;5;28;01mif\u001b[39;00m n_jobs \u001b[38;5;241m==\u001b[39m \u001b[38;5;241m1\u001b[39m:\n\u001b[0;32m---> 63\u001b[0m         _optimize_sequential(\n\u001b[1;32m     64\u001b[0m             study,\n\u001b[1;32m     65\u001b[0m             func,\n\u001b[1;32m     66\u001b[0m             n_trials,\n\u001b[1;32m     67\u001b[0m             timeout,\n\u001b[1;32m     68\u001b[0m             catch,\n\u001b[1;32m     69\u001b[0m             callbacks,\n\u001b[1;32m     70\u001b[0m             gc_after_trial,\n\u001b[1;32m     71\u001b[0m             reseed_sampler_rng\u001b[38;5;241m=\u001b[39m\u001b[38;5;28;01mFalse\u001b[39;00m,\n\u001b[1;32m     72\u001b[0m             time_start\u001b[38;5;241m=\u001b[39m\u001b[38;5;28;01mNone\u001b[39;00m,\n\u001b[1;32m     73\u001b[0m             progress_bar\u001b[38;5;241m=\u001b[39mprogress_bar,\n\u001b[1;32m     74\u001b[0m         )\n\u001b[1;32m     75\u001b[0m     \u001b[38;5;28;01melse\u001b[39;00m:\n\u001b[1;32m     76\u001b[0m         \u001b[38;5;28;01mif\u001b[39;00m n_jobs \u001b[38;5;241m==\u001b[39m \u001b[38;5;241m-\u001b[39m\u001b[38;5;241m1\u001b[39m:\n",
      "File \u001b[0;32m/opt/anaconda3/envs/DDAI_311/lib/python3.11/site-packages/optuna/study/_optimize.py:160\u001b[0m, in \u001b[0;36m_optimize_sequential\u001b[0;34m(study, func, n_trials, timeout, catch, callbacks, gc_after_trial, reseed_sampler_rng, time_start, progress_bar)\u001b[0m\n\u001b[1;32m    157\u001b[0m         \u001b[38;5;28;01mbreak\u001b[39;00m\n\u001b[1;32m    159\u001b[0m \u001b[38;5;28;01mtry\u001b[39;00m:\n\u001b[0;32m--> 160\u001b[0m     frozen_trial \u001b[38;5;241m=\u001b[39m _run_trial(study, func, catch)\n\u001b[1;32m    161\u001b[0m \u001b[38;5;28;01mfinally\u001b[39;00m:\n\u001b[1;32m    162\u001b[0m     \u001b[38;5;66;03m# The following line mitigates memory problems that can be occurred in some\u001b[39;00m\n\u001b[1;32m    163\u001b[0m     \u001b[38;5;66;03m# environments (e.g., services that use computing containers such as GitHub Actions).\u001b[39;00m\n\u001b[1;32m    164\u001b[0m     \u001b[38;5;66;03m# Please refer to the following PR for further details:\u001b[39;00m\n\u001b[1;32m    165\u001b[0m     \u001b[38;5;66;03m# https://github.com/optuna/optuna/pull/325.\u001b[39;00m\n\u001b[1;32m    166\u001b[0m     \u001b[38;5;28;01mif\u001b[39;00m gc_after_trial:\n",
      "File \u001b[0;32m/opt/anaconda3/envs/DDAI_311/lib/python3.11/site-packages/optuna/study/_optimize.py:248\u001b[0m, in \u001b[0;36m_run_trial\u001b[0;34m(study, func, catch)\u001b[0m\n\u001b[1;32m    241\u001b[0m         \u001b[38;5;28;01massert\u001b[39;00m \u001b[38;5;28;01mFalse\u001b[39;00m, \u001b[38;5;124m\"\u001b[39m\u001b[38;5;124mShould not reach.\u001b[39m\u001b[38;5;124m\"\u001b[39m\n\u001b[1;32m    243\u001b[0m \u001b[38;5;28;01mif\u001b[39;00m (\n\u001b[1;32m    244\u001b[0m     frozen_trial\u001b[38;5;241m.\u001b[39mstate \u001b[38;5;241m==\u001b[39m TrialState\u001b[38;5;241m.\u001b[39mFAIL\n\u001b[1;32m    245\u001b[0m     \u001b[38;5;129;01mand\u001b[39;00m func_err \u001b[38;5;129;01mis\u001b[39;00m \u001b[38;5;129;01mnot\u001b[39;00m \u001b[38;5;28;01mNone\u001b[39;00m\n\u001b[1;32m    246\u001b[0m     \u001b[38;5;129;01mand\u001b[39;00m \u001b[38;5;129;01mnot\u001b[39;00m \u001b[38;5;28misinstance\u001b[39m(func_err, catch)\n\u001b[1;32m    247\u001b[0m ):\n\u001b[0;32m--> 248\u001b[0m     \u001b[38;5;28;01mraise\u001b[39;00m func_err\n\u001b[1;32m    249\u001b[0m \u001b[38;5;28;01mreturn\u001b[39;00m frozen_trial\n",
      "File \u001b[0;32m/opt/anaconda3/envs/DDAI_311/lib/python3.11/site-packages/optuna/study/_optimize.py:197\u001b[0m, in \u001b[0;36m_run_trial\u001b[0;34m(study, func, catch)\u001b[0m\n\u001b[1;32m    195\u001b[0m \u001b[38;5;28;01mwith\u001b[39;00m get_heartbeat_thread(trial\u001b[38;5;241m.\u001b[39m_trial_id, study\u001b[38;5;241m.\u001b[39m_storage):\n\u001b[1;32m    196\u001b[0m     \u001b[38;5;28;01mtry\u001b[39;00m:\n\u001b[0;32m--> 197\u001b[0m         value_or_values \u001b[38;5;241m=\u001b[39m func(trial)\n\u001b[1;32m    198\u001b[0m     \u001b[38;5;28;01mexcept\u001b[39;00m exceptions\u001b[38;5;241m.\u001b[39mTrialPruned \u001b[38;5;28;01mas\u001b[39;00m e:\n\u001b[1;32m    199\u001b[0m         \u001b[38;5;66;03m# TODO(mamu): Handle multi-objective cases.\u001b[39;00m\n\u001b[1;32m    200\u001b[0m         state \u001b[38;5;241m=\u001b[39m TrialState\u001b[38;5;241m.\u001b[39mPRUNED\n",
      "Cell \u001b[0;32mIn[25], line 79\u001b[0m, in \u001b[0;36mobjective\u001b[0;34m(trial)\u001b[0m\n\u001b[1;32m     77\u001b[0m val_total \u001b[38;5;241m=\u001b[39m \u001b[38;5;241m0\u001b[39m\n\u001b[1;32m     78\u001b[0m \u001b[38;5;28;01mwith\u001b[39;00m torch\u001b[38;5;241m.\u001b[39mno_grad():\n\u001b[0;32m---> 79\u001b[0m     \u001b[38;5;28;01mfor\u001b[39;00m images, labels \u001b[38;5;129;01min\u001b[39;00m current_val_loader: \u001b[38;5;66;03m# val_pbar_opt:\u001b[39;00m\n\u001b[1;32m     80\u001b[0m         images, labels \u001b[38;5;241m=\u001b[39m images\u001b[38;5;241m.\u001b[39mto(device), labels\u001b[38;5;241m.\u001b[39mto(device)\u001b[38;5;241m.\u001b[39mfloat()\u001b[38;5;241m.\u001b[39munsqueeze(\u001b[38;5;241m1\u001b[39m)\n\u001b[1;32m     81\u001b[0m         outputs \u001b[38;5;241m=\u001b[39m model_opt(images)\n",
      "File \u001b[0;32m/opt/anaconda3/envs/DDAI_311/lib/python3.11/site-packages/torch/utils/data/dataloader.py:733\u001b[0m, in \u001b[0;36m_BaseDataLoaderIter.__next__\u001b[0;34m(self)\u001b[0m\n\u001b[1;32m    730\u001b[0m \u001b[38;5;28;01mif\u001b[39;00m \u001b[38;5;28mself\u001b[39m\u001b[38;5;241m.\u001b[39m_sampler_iter \u001b[38;5;129;01mis\u001b[39;00m \u001b[38;5;28;01mNone\u001b[39;00m:\n\u001b[1;32m    731\u001b[0m     \u001b[38;5;66;03m# TODO(https://github.com/pytorch/pytorch/issues/76750)\u001b[39;00m\n\u001b[1;32m    732\u001b[0m     \u001b[38;5;28mself\u001b[39m\u001b[38;5;241m.\u001b[39m_reset()  \u001b[38;5;66;03m# type: ignore[call-arg]\u001b[39;00m\n\u001b[0;32m--> 733\u001b[0m data \u001b[38;5;241m=\u001b[39m \u001b[38;5;28mself\u001b[39m\u001b[38;5;241m.\u001b[39m_next_data()\n\u001b[1;32m    734\u001b[0m \u001b[38;5;28mself\u001b[39m\u001b[38;5;241m.\u001b[39m_num_yielded \u001b[38;5;241m+\u001b[39m\u001b[38;5;241m=\u001b[39m \u001b[38;5;241m1\u001b[39m\n\u001b[1;32m    735\u001b[0m \u001b[38;5;28;01mif\u001b[39;00m (\n\u001b[1;32m    736\u001b[0m     \u001b[38;5;28mself\u001b[39m\u001b[38;5;241m.\u001b[39m_dataset_kind \u001b[38;5;241m==\u001b[39m _DatasetKind\u001b[38;5;241m.\u001b[39mIterable\n\u001b[1;32m    737\u001b[0m     \u001b[38;5;129;01mand\u001b[39;00m \u001b[38;5;28mself\u001b[39m\u001b[38;5;241m.\u001b[39m_IterableDataset_len_called \u001b[38;5;129;01mis\u001b[39;00m \u001b[38;5;129;01mnot\u001b[39;00m \u001b[38;5;28;01mNone\u001b[39;00m\n\u001b[1;32m    738\u001b[0m     \u001b[38;5;129;01mand\u001b[39;00m \u001b[38;5;28mself\u001b[39m\u001b[38;5;241m.\u001b[39m_num_yielded \u001b[38;5;241m>\u001b[39m \u001b[38;5;28mself\u001b[39m\u001b[38;5;241m.\u001b[39m_IterableDataset_len_called\n\u001b[1;32m    739\u001b[0m ):\n",
      "File \u001b[0;32m/opt/anaconda3/envs/DDAI_311/lib/python3.11/site-packages/torch/utils/data/dataloader.py:789\u001b[0m, in \u001b[0;36m_SingleProcessDataLoaderIter._next_data\u001b[0;34m(self)\u001b[0m\n\u001b[1;32m    787\u001b[0m \u001b[38;5;28;01mdef\u001b[39;00m \u001b[38;5;21m_next_data\u001b[39m(\u001b[38;5;28mself\u001b[39m):\n\u001b[1;32m    788\u001b[0m     index \u001b[38;5;241m=\u001b[39m \u001b[38;5;28mself\u001b[39m\u001b[38;5;241m.\u001b[39m_next_index()  \u001b[38;5;66;03m# may raise StopIteration\u001b[39;00m\n\u001b[0;32m--> 789\u001b[0m     data \u001b[38;5;241m=\u001b[39m \u001b[38;5;28mself\u001b[39m\u001b[38;5;241m.\u001b[39m_dataset_fetcher\u001b[38;5;241m.\u001b[39mfetch(index)  \u001b[38;5;66;03m# may raise StopIteration\u001b[39;00m\n\u001b[1;32m    790\u001b[0m     \u001b[38;5;28;01mif\u001b[39;00m \u001b[38;5;28mself\u001b[39m\u001b[38;5;241m.\u001b[39m_pin_memory:\n\u001b[1;32m    791\u001b[0m         data \u001b[38;5;241m=\u001b[39m _utils\u001b[38;5;241m.\u001b[39mpin_memory\u001b[38;5;241m.\u001b[39mpin_memory(data, \u001b[38;5;28mself\u001b[39m\u001b[38;5;241m.\u001b[39m_pin_memory_device)\n",
      "File \u001b[0;32m/opt/anaconda3/envs/DDAI_311/lib/python3.11/site-packages/torch/utils/data/_utils/fetch.py:52\u001b[0m, in \u001b[0;36m_MapDatasetFetcher.fetch\u001b[0;34m(self, possibly_batched_index)\u001b[0m\n\u001b[1;32m     50\u001b[0m         data \u001b[38;5;241m=\u001b[39m \u001b[38;5;28mself\u001b[39m\u001b[38;5;241m.\u001b[39mdataset\u001b[38;5;241m.\u001b[39m__getitems__(possibly_batched_index)\n\u001b[1;32m     51\u001b[0m     \u001b[38;5;28;01melse\u001b[39;00m:\n\u001b[0;32m---> 52\u001b[0m         data \u001b[38;5;241m=\u001b[39m [\u001b[38;5;28mself\u001b[39m\u001b[38;5;241m.\u001b[39mdataset[idx] \u001b[38;5;28;01mfor\u001b[39;00m idx \u001b[38;5;129;01min\u001b[39;00m possibly_batched_index]\n\u001b[1;32m     53\u001b[0m \u001b[38;5;28;01melse\u001b[39;00m:\n\u001b[1;32m     54\u001b[0m     data \u001b[38;5;241m=\u001b[39m \u001b[38;5;28mself\u001b[39m\u001b[38;5;241m.\u001b[39mdataset[possibly_batched_index]\n",
      "File \u001b[0;32m/opt/anaconda3/envs/DDAI_311/lib/python3.11/site-packages/torch/utils/data/_utils/fetch.py:52\u001b[0m, in \u001b[0;36m<listcomp>\u001b[0;34m(.0)\u001b[0m\n\u001b[1;32m     50\u001b[0m         data \u001b[38;5;241m=\u001b[39m \u001b[38;5;28mself\u001b[39m\u001b[38;5;241m.\u001b[39mdataset\u001b[38;5;241m.\u001b[39m__getitems__(possibly_batched_index)\n\u001b[1;32m     51\u001b[0m     \u001b[38;5;28;01melse\u001b[39;00m:\n\u001b[0;32m---> 52\u001b[0m         data \u001b[38;5;241m=\u001b[39m [\u001b[38;5;28mself\u001b[39m\u001b[38;5;241m.\u001b[39mdataset[idx] \u001b[38;5;28;01mfor\u001b[39;00m idx \u001b[38;5;129;01min\u001b[39;00m possibly_batched_index]\n\u001b[1;32m     53\u001b[0m \u001b[38;5;28;01melse\u001b[39;00m:\n\u001b[1;32m     54\u001b[0m     data \u001b[38;5;241m=\u001b[39m \u001b[38;5;28mself\u001b[39m\u001b[38;5;241m.\u001b[39mdataset[possibly_batched_index]\n",
      "File \u001b[0;32m/opt/anaconda3/envs/DDAI_311/lib/python3.11/site-packages/torchvision/datasets/folder.py:247\u001b[0m, in \u001b[0;36mDatasetFolder.__getitem__\u001b[0;34m(self, index)\u001b[0m\n\u001b[1;32m    245\u001b[0m sample \u001b[38;5;241m=\u001b[39m \u001b[38;5;28mself\u001b[39m\u001b[38;5;241m.\u001b[39mloader(path)\n\u001b[1;32m    246\u001b[0m \u001b[38;5;28;01mif\u001b[39;00m \u001b[38;5;28mself\u001b[39m\u001b[38;5;241m.\u001b[39mtransform \u001b[38;5;129;01mis\u001b[39;00m \u001b[38;5;129;01mnot\u001b[39;00m \u001b[38;5;28;01mNone\u001b[39;00m:\n\u001b[0;32m--> 247\u001b[0m     sample \u001b[38;5;241m=\u001b[39m \u001b[38;5;28mself\u001b[39m\u001b[38;5;241m.\u001b[39mtransform(sample)\n\u001b[1;32m    248\u001b[0m \u001b[38;5;28;01mif\u001b[39;00m \u001b[38;5;28mself\u001b[39m\u001b[38;5;241m.\u001b[39mtarget_transform \u001b[38;5;129;01mis\u001b[39;00m \u001b[38;5;129;01mnot\u001b[39;00m \u001b[38;5;28;01mNone\u001b[39;00m:\n\u001b[1;32m    249\u001b[0m     target \u001b[38;5;241m=\u001b[39m \u001b[38;5;28mself\u001b[39m\u001b[38;5;241m.\u001b[39mtarget_transform(target)\n",
      "File \u001b[0;32m/opt/anaconda3/envs/DDAI_311/lib/python3.11/site-packages/torchvision/transforms/transforms.py:95\u001b[0m, in \u001b[0;36mCompose.__call__\u001b[0;34m(self, img)\u001b[0m\n\u001b[1;32m     93\u001b[0m \u001b[38;5;28;01mdef\u001b[39;00m \u001b[38;5;21m__call__\u001b[39m(\u001b[38;5;28mself\u001b[39m, img):\n\u001b[1;32m     94\u001b[0m     \u001b[38;5;28;01mfor\u001b[39;00m t \u001b[38;5;129;01min\u001b[39;00m \u001b[38;5;28mself\u001b[39m\u001b[38;5;241m.\u001b[39mtransforms:\n\u001b[0;32m---> 95\u001b[0m         img \u001b[38;5;241m=\u001b[39m t(img)\n\u001b[1;32m     96\u001b[0m     \u001b[38;5;28;01mreturn\u001b[39;00m img\n",
      "File \u001b[0;32m/opt/anaconda3/envs/DDAI_311/lib/python3.11/site-packages/torch/nn/modules/module.py:1751\u001b[0m, in \u001b[0;36mModule._wrapped_call_impl\u001b[0;34m(self, *args, **kwargs)\u001b[0m\n\u001b[1;32m   1749\u001b[0m     \u001b[38;5;28;01mreturn\u001b[39;00m \u001b[38;5;28mself\u001b[39m\u001b[38;5;241m.\u001b[39m_compiled_call_impl(\u001b[38;5;241m*\u001b[39margs, \u001b[38;5;241m*\u001b[39m\u001b[38;5;241m*\u001b[39mkwargs)  \u001b[38;5;66;03m# type: ignore[misc]\u001b[39;00m\n\u001b[1;32m   1750\u001b[0m \u001b[38;5;28;01melse\u001b[39;00m:\n\u001b[0;32m-> 1751\u001b[0m     \u001b[38;5;28;01mreturn\u001b[39;00m \u001b[38;5;28mself\u001b[39m\u001b[38;5;241m.\u001b[39m_call_impl(\u001b[38;5;241m*\u001b[39margs, \u001b[38;5;241m*\u001b[39m\u001b[38;5;241m*\u001b[39mkwargs)\n",
      "File \u001b[0;32m/opt/anaconda3/envs/DDAI_311/lib/python3.11/site-packages/torch/nn/modules/module.py:1762\u001b[0m, in \u001b[0;36mModule._call_impl\u001b[0;34m(self, *args, **kwargs)\u001b[0m\n\u001b[1;32m   1757\u001b[0m \u001b[38;5;66;03m# If we don't have any hooks, we want to skip the rest of the logic in\u001b[39;00m\n\u001b[1;32m   1758\u001b[0m \u001b[38;5;66;03m# this function, and just call forward.\u001b[39;00m\n\u001b[1;32m   1759\u001b[0m \u001b[38;5;28;01mif\u001b[39;00m \u001b[38;5;129;01mnot\u001b[39;00m (\u001b[38;5;28mself\u001b[39m\u001b[38;5;241m.\u001b[39m_backward_hooks \u001b[38;5;129;01mor\u001b[39;00m \u001b[38;5;28mself\u001b[39m\u001b[38;5;241m.\u001b[39m_backward_pre_hooks \u001b[38;5;129;01mor\u001b[39;00m \u001b[38;5;28mself\u001b[39m\u001b[38;5;241m.\u001b[39m_forward_hooks \u001b[38;5;129;01mor\u001b[39;00m \u001b[38;5;28mself\u001b[39m\u001b[38;5;241m.\u001b[39m_forward_pre_hooks\n\u001b[1;32m   1760\u001b[0m         \u001b[38;5;129;01mor\u001b[39;00m _global_backward_pre_hooks \u001b[38;5;129;01mor\u001b[39;00m _global_backward_hooks\n\u001b[1;32m   1761\u001b[0m         \u001b[38;5;129;01mor\u001b[39;00m _global_forward_hooks \u001b[38;5;129;01mor\u001b[39;00m _global_forward_pre_hooks):\n\u001b[0;32m-> 1762\u001b[0m     \u001b[38;5;28;01mreturn\u001b[39;00m forward_call(\u001b[38;5;241m*\u001b[39margs, \u001b[38;5;241m*\u001b[39m\u001b[38;5;241m*\u001b[39mkwargs)\n\u001b[1;32m   1764\u001b[0m result \u001b[38;5;241m=\u001b[39m \u001b[38;5;28;01mNone\u001b[39;00m\n\u001b[1;32m   1765\u001b[0m called_always_called_hooks \u001b[38;5;241m=\u001b[39m \u001b[38;5;28mset\u001b[39m()\n",
      "File \u001b[0;32m/opt/anaconda3/envs/DDAI_311/lib/python3.11/site-packages/torchvision/transforms/transforms.py:354\u001b[0m, in \u001b[0;36mResize.forward\u001b[0;34m(self, img)\u001b[0m\n\u001b[1;32m    346\u001b[0m \u001b[38;5;28;01mdef\u001b[39;00m \u001b[38;5;21mforward\u001b[39m(\u001b[38;5;28mself\u001b[39m, img):\n\u001b[1;32m    347\u001b[0m \u001b[38;5;250m    \u001b[39m\u001b[38;5;124;03m\"\"\"\u001b[39;00m\n\u001b[1;32m    348\u001b[0m \u001b[38;5;124;03m    Args:\u001b[39;00m\n\u001b[1;32m    349\u001b[0m \u001b[38;5;124;03m        img (PIL Image or Tensor): Image to be scaled.\u001b[39;00m\n\u001b[0;32m   (...)\u001b[0m\n\u001b[1;32m    352\u001b[0m \u001b[38;5;124;03m        PIL Image or Tensor: Rescaled image.\u001b[39;00m\n\u001b[1;32m    353\u001b[0m \u001b[38;5;124;03m    \"\"\"\u001b[39;00m\n\u001b[0;32m--> 354\u001b[0m     \u001b[38;5;28;01mreturn\u001b[39;00m F\u001b[38;5;241m.\u001b[39mresize(img, \u001b[38;5;28mself\u001b[39m\u001b[38;5;241m.\u001b[39msize, \u001b[38;5;28mself\u001b[39m\u001b[38;5;241m.\u001b[39minterpolation, \u001b[38;5;28mself\u001b[39m\u001b[38;5;241m.\u001b[39mmax_size, \u001b[38;5;28mself\u001b[39m\u001b[38;5;241m.\u001b[39mantialias)\n",
      "File \u001b[0;32m/opt/anaconda3/envs/DDAI_311/lib/python3.11/site-packages/torchvision/transforms/functional.py:477\u001b[0m, in \u001b[0;36mresize\u001b[0;34m(img, size, interpolation, max_size, antialias)\u001b[0m\n\u001b[1;32m    475\u001b[0m         warnings\u001b[38;5;241m.\u001b[39mwarn(\u001b[38;5;124m\"\u001b[39m\u001b[38;5;124mAnti-alias option is always applied for PIL Image input. Argument antialias is ignored.\u001b[39m\u001b[38;5;124m\"\u001b[39m)\n\u001b[1;32m    476\u001b[0m     pil_interpolation \u001b[38;5;241m=\u001b[39m pil_modes_mapping[interpolation]\n\u001b[0;32m--> 477\u001b[0m     \u001b[38;5;28;01mreturn\u001b[39;00m F_pil\u001b[38;5;241m.\u001b[39mresize(img, size\u001b[38;5;241m=\u001b[39moutput_size, interpolation\u001b[38;5;241m=\u001b[39mpil_interpolation)\n\u001b[1;32m    479\u001b[0m \u001b[38;5;28;01mreturn\u001b[39;00m F_t\u001b[38;5;241m.\u001b[39mresize(img, size\u001b[38;5;241m=\u001b[39moutput_size, interpolation\u001b[38;5;241m=\u001b[39minterpolation\u001b[38;5;241m.\u001b[39mvalue, antialias\u001b[38;5;241m=\u001b[39mantialias)\n",
      "File \u001b[0;32m/opt/anaconda3/envs/DDAI_311/lib/python3.11/site-packages/torchvision/transforms/_functional_pil.py:250\u001b[0m, in \u001b[0;36mresize\u001b[0;34m(img, size, interpolation)\u001b[0m\n\u001b[1;32m    247\u001b[0m \u001b[38;5;28;01mif\u001b[39;00m \u001b[38;5;129;01mnot\u001b[39;00m (\u001b[38;5;28misinstance\u001b[39m(size, \u001b[38;5;28mlist\u001b[39m) \u001b[38;5;129;01mand\u001b[39;00m \u001b[38;5;28mlen\u001b[39m(size) \u001b[38;5;241m==\u001b[39m \u001b[38;5;241m2\u001b[39m):\n\u001b[1;32m    248\u001b[0m     \u001b[38;5;28;01mraise\u001b[39;00m \u001b[38;5;167;01mTypeError\u001b[39;00m(\u001b[38;5;124mf\u001b[39m\u001b[38;5;124m\"\u001b[39m\u001b[38;5;124mGot inappropriate size arg: \u001b[39m\u001b[38;5;132;01m{\u001b[39;00msize\u001b[38;5;132;01m}\u001b[39;00m\u001b[38;5;124m\"\u001b[39m)\n\u001b[0;32m--> 250\u001b[0m \u001b[38;5;28;01mreturn\u001b[39;00m img\u001b[38;5;241m.\u001b[39mresize(\u001b[38;5;28mtuple\u001b[39m(size[::\u001b[38;5;241m-\u001b[39m\u001b[38;5;241m1\u001b[39m]), interpolation)\n",
      "File \u001b[0;32m/opt/anaconda3/envs/DDAI_311/lib/python3.11/site-packages/PIL/Image.py:2356\u001b[0m, in \u001b[0;36mImage.resize\u001b[0;34m(self, size, resample, box, reducing_gap)\u001b[0m\n\u001b[1;32m   2344\u001b[0m         \u001b[38;5;28mself\u001b[39m \u001b[38;5;241m=\u001b[39m (\n\u001b[1;32m   2345\u001b[0m             \u001b[38;5;28mself\u001b[39m\u001b[38;5;241m.\u001b[39mreduce(factor, box\u001b[38;5;241m=\u001b[39mreduce_box)\n\u001b[1;32m   2346\u001b[0m             \u001b[38;5;28;01mif\u001b[39;00m \u001b[38;5;28mcallable\u001b[39m(\u001b[38;5;28mself\u001b[39m\u001b[38;5;241m.\u001b[39mreduce)\n\u001b[1;32m   2347\u001b[0m             \u001b[38;5;28;01melse\u001b[39;00m Image\u001b[38;5;241m.\u001b[39mreduce(\u001b[38;5;28mself\u001b[39m, factor, box\u001b[38;5;241m=\u001b[39mreduce_box)\n\u001b[1;32m   2348\u001b[0m         )\n\u001b[1;32m   2349\u001b[0m         box \u001b[38;5;241m=\u001b[39m (\n\u001b[1;32m   2350\u001b[0m             (box[\u001b[38;5;241m0\u001b[39m] \u001b[38;5;241m-\u001b[39m reduce_box[\u001b[38;5;241m0\u001b[39m]) \u001b[38;5;241m/\u001b[39m factor_x,\n\u001b[1;32m   2351\u001b[0m             (box[\u001b[38;5;241m1\u001b[39m] \u001b[38;5;241m-\u001b[39m reduce_box[\u001b[38;5;241m1\u001b[39m]) \u001b[38;5;241m/\u001b[39m factor_y,\n\u001b[1;32m   2352\u001b[0m             (box[\u001b[38;5;241m2\u001b[39m] \u001b[38;5;241m-\u001b[39m reduce_box[\u001b[38;5;241m0\u001b[39m]) \u001b[38;5;241m/\u001b[39m factor_x,\n\u001b[1;32m   2353\u001b[0m             (box[\u001b[38;5;241m3\u001b[39m] \u001b[38;5;241m-\u001b[39m reduce_box[\u001b[38;5;241m1\u001b[39m]) \u001b[38;5;241m/\u001b[39m factor_y,\n\u001b[1;32m   2354\u001b[0m         )\n\u001b[0;32m-> 2356\u001b[0m \u001b[38;5;28;01mreturn\u001b[39;00m \u001b[38;5;28mself\u001b[39m\u001b[38;5;241m.\u001b[39m_new(\u001b[38;5;28mself\u001b[39m\u001b[38;5;241m.\u001b[39mim\u001b[38;5;241m.\u001b[39mresize(size, resample, box))\n",
      "\u001b[0;31mKeyboardInterrupt\u001b[0m: "
     ]
    }
   ],
   "source": [
    "import optuna\n",
    "\n",
    "# Device configuration\n",
    "device = get_device()\n",
    "print(f\"Using device for Optuna hyperparameter tuning: {device}\")\n",
    "\n",
    "# Get image dimensions\n",
    "sample_img, _ = train_dataset[0]\n",
    "C, H, W = sample_img.shape\n",
    "print(f\"Image shape: Channels={C}, Height={H}, Width={W}\")\n",
    "\n",
    "num_classes_hp = 2\n",
    "num_epochs_search = 20 # Fewer epochs for faster search, adjust as needed for Optuna trials\n",
    "num_trials_optuna = 20 # Define number of trials\n",
    "\n",
    "def objective(trial):\n",
    "    # Hyperparameter suggestions\n",
    "    lr = trial.suggest_float(\"learning_rate\", 1e-4, 1e-2, log=True)\n",
    "    batch_size = trial.suggest_categorical(\"batch_size\", [8, 16, 32])\n",
    "    conv1_out = trial.suggest_categorical(\"conv1_out_channels\", [8, 16, 32, 64])\n",
    "    conv2_out = trial.suggest_categorical(\"conv2_out_channels\", [16, 32, 64, 128])\n",
    "    fc_neurons_val = trial.suggest_categorical(\"fc_neurons\", [64, 128, 256])\n",
    "\n",
    "    # DataLoaders\n",
    "    pin_memory_flag   = device.type == 'cuda'\n",
    "    num_workers_flag  = 2 if device.type == 'cuda' else 0   # 0 on M-series/CPU\n",
    "\n",
    "    try:\n",
    "        current_train_loader = DataLoader(train_dataset, batch_size=batch_size, shuffle=True, num_workers=num_workers_flag, pin_memory=pin_memory_flag)\n",
    "        current_val_loader = DataLoader(test_dataset, batch_size=batch_size, shuffle=False, num_workers=num_workers_flag, pin_memory=pin_memory_flag)\n",
    "    except Exception as e:\n",
    "        print(f\"Error creating DataLoader for trial {trial.number}: {e}. Pruning trial.\")\n",
    "        raise optuna.exceptions.TrialPruned()\n",
    "\n",
    "\n",
    "    # Model (Ensure SimpleCNN class is defined and accessible)\n",
    "    model_opt = SimpleCNN(input_channels=C, input_height=H, input_width=W, num_classes=num_classes_hp,\n",
    "                          conv1_out_channels=conv1_out,\n",
    "                          conv2_out_channels=conv2_out,\n",
    "                          fc_neurons=fc_neurons_val).to(device)\n",
    "\n",
    "    criterion_opt = nn.BCEWithLogitsLoss()\n",
    "    optimizer_opt = optim.Adam(model_opt.parameters(), lr=lr)\n",
    "\n",
    "    trial_train_losses = []\n",
    "    trial_val_accuracies = []\n",
    "\n",
    "    # Training loop\n",
    "    for epoch in tqdm(range(num_epochs_search), desc=f\"Trial {trial.number} [Training]\", leave=False):\n",
    "        model_opt.train()\n",
    "        epoch_running_loss = 0.0\n",
    "        for images, labels in current_train_loader: # train_pbar_opt:\n",
    "            images, labels = images.to(device), labels.to(device).float().unsqueeze(1)\n",
    "            \n",
    "            optimizer_opt.zero_grad(set_to_none=True)\n",
    "            loss = criterion_opt(model_opt(images), labels)\n",
    "            loss.backward()\n",
    "            optimizer_opt.step()\n",
    "\n",
    "            epoch_running_loss += loss.item() * images.size(0)\n",
    "\n",
    "        trial_train_losses.append(epoch_running_loss / len(train_loader.dataset))\n",
    "\n",
    "            # optimizer_opt.zero_grad()\n",
    "        #     outputs = model_opt(images)\n",
    "        #     loss = criterion_opt(outputs, labels)\n",
    "        #     loss.backward()\n",
    "        #     optimizer_opt.step()\n",
    "        #     epoch_running_loss += loss.item() * images.size(0)\n",
    "        \n",
    "        # avg_epoch_train_loss = epoch_running_loss / len(current_train_loader.dataset)\n",
    "        # trial_train_losses.append(avg_epoch_train_loss)\n",
    "\n",
    "        # Validation\n",
    "        model_opt.eval()\n",
    "        val_correct = 0\n",
    "        val_total = 0\n",
    "        with torch.no_grad():\n",
    "            for images, labels in current_val_loader:\n",
    "                images, labels = images.to(device), labels.to(device).float().unsqueeze(1)\n",
    "                outputs = model_opt(images)\n",
    "                predicted = (torch.sigmoid(outputs) > 0.5).float()\n",
    "                val_total += labels.size(0)\n",
    "                val_correct += (predicted == labels).sum().item()\n",
    "        \n",
    "        current_epoch_val_accuracy = 100 * val_correct / val_total if val_total > 0 else 0\n",
    "        trial_val_accuracies.append(current_epoch_val_accuracy)\n",
    "        \n",
    "        # Optuna pruning (optional, but good for long searches)\n",
    "        trial.report(current_epoch_val_accuracy, epoch)\n",
    "        if trial.should_prune():\n",
    "            # Store partial curves if pruned\n",
    "            trial.set_user_attr(\"train_losses\", trial_train_losses)\n",
    "            trial.set_user_attr(\"val_accuracies\", trial_val_accuracies)\n",
    "            raise optuna.exceptions.TrialPruned()\n",
    "\n",
    "    # Store full learning curves in user attributes for the trial\n",
    "    trial.set_user_attr(\"train_losses\", trial_train_losses)\n",
    "    trial.set_user_attr(\"val_accuracies\", trial_val_accuracies)\n",
    "\n",
    "    del model_opt, optimizer_opt, criterion_opt, current_train_loader, current_val_loader \n",
    "    if device.type == \"mps\":                                   \n",
    "        torch.mps.empty_cache()\n",
    "    elif device.type == \"cuda\":                                \n",
    "        torch.cuda.empty_cache()\n",
    "    gc.collect()   \n",
    "\n",
    "    return trial_val_accuracies[-1] # Return final validation accuracy\n",
    "\n",
    "# Create a study object and optimize\n",
    "# You can add a pruner, e.g., optuna.pruners.MedianPruner()\n",
    "study = optuna.create_study(direction=\"maximize\", pruner=optuna.pruners.MedianPruner())\n",
    "study.optimize(objective, n_trials=num_trials_optuna, gc_after_trial=True)\n",
    "\n",
    "print(\"\\nFinished Optuna Hyperparameter Search.\")\n",
    "best_trial_optuna = study.best_trial\n",
    "best_hyperparams_optuna = best_trial_optuna.params\n",
    "best_val_accuracy_optuna = best_trial_optuna.value\n",
    "\n",
    "\n",
    "# Retrieve learning curves for the best trial\n",
    "best_model_train_losses_optuna = best_trial_optuna.user_attrs.get(\"train_losses\", [])\n",
    "best_model_val_accuracies_optuna = best_trial_optuna.user_attrs.get(\"val_accuracies\", [])"
   ]
  },
  {
   "cell_type": "markdown",
   "id": "f1553d2e",
   "metadata": {},
   "source": [
    "## Retrain best optuna model"
   ]
  },
  {
   "cell_type": "code",
   "execution_count": null,
   "id": "b68268c3",
   "metadata": {},
   "outputs": [
    {
     "name": "stdout",
     "output_type": "stream",
     "text": [
      "Optimal model saved to best_optuna_cnn_model.pth\n"
     ]
    }
   ],
   "source": [
    "# After Optuna optimization, retrain the best model with the best hyperparameters and save it\n",
    "\n",
    "# Extract best hyperparameters from the Optuna study\n",
    "best_params = study.best_trial.params\n",
    "\n",
    "# Dataloaders with the best batch size\n",
    "pin_memory_flag   = device.type == 'cuda'\n",
    "num_workers_flag  = 2 if device.type == 'cuda' else 0   # 0 on M-series/CPU\n",
    "\n",
    "train_loader_opt = DataLoader(train_dataset, batch_size=best_params['batch_size'], shuffle=True, num_workers=num_workers_flag, pin_memory=pin_memory_flag_opt)\n",
    "val_loader_opt = DataLoader(test_dataset, batch_size=best_params['batch_size'], shuffle=False, num_workers=num_workers_flag, pin_memory=pin_memory_flag_opt)\n",
    "\n",
    "# Re-create and train the model with the best hyperparameters\n",
    "model_optimal = SimpleCNN(\n",
    "    input_channels=C, input_height=H, input_width=W, num_classes=num_classes_hp,\n",
    "    conv1_out_channels=best_params['conv1_out_channels'],\n",
    "    conv2_out_channels=best_params['conv2_out_channels'],\n",
    "    fc_neurons=best_params['fc_neurons']\n",
    ").to(device)\n",
    "\n",
    "criterion_opt = nn.BCEWithLogitsLoss()\n",
    "optimizer_opt = optim.Adam(model_optimal.parameters(), lr=best_params['learning_rate'])\n",
    "num_epochs_opt = num_epochs_search  # Or set to a higher value for final training\n",
    "\n",
    "for epoch in range(num_epochs_opt):\n",
    "    model_optimal.train()\n",
    "    for images, labels in train_loader_opt:\n",
    "        images, labels = images.to(device), labels.to(device).float().unsqueeze(1)\n",
    "        optimizer_opt.zero_grad()\n",
    "        outputs = model_optimal(images)\n",
    "        loss = criterion_opt(outputs, labels)\n",
    "        loss.backward()\n",
    "        optimizer_opt.step()\n",
    "\n",
    "# Save the trained optimal model\n",
    "best_optuna_model_path = \"best_optuna_cnn_model.pth\"\n",
    "torch.save(model_optimal.state_dict(), best_optuna_model_path)\n",
    "print(f\"Optimal model saved to {best_optuna_model_path}\")\n"
   ]
  },
  {
   "cell_type": "markdown",
   "id": "1912c0ea",
   "metadata": {},
   "source": [
    "#### Plots"
   ]
  },
  {
   "cell_type": "code",
   "execution_count": null,
   "id": "a6caca28",
   "metadata": {},
   "outputs": [
    {
     "name": "stdout",
     "output_type": "stream",
     "text": [
      "Best Validation Accuracy (from Optuna study): 61.76%\n",
      "Best Hyperparameters (from Optuna study): {'learning_rate': 0.001553369838635351, 'batch_size': 32, 'conv1_out_channels': 16, 'conv2_out_channels': 16, 'fc_neurons': 256}\n"
     ]
    },
    {
     "data": {
      "image/png": "[encoded data removed]",
      "text/plain": [
       "<Figure size 1200x500 with 2 Axes>"
      ]
     },
     "metadata": {},
     "output_type": "display_data"
    }
   ],
   "source": [
    "print(f\"Best Validation Accuracy (from Optuna study): {best_val_accuracy_optuna:.2f}%\")\n",
    "print(f\"Best Hyperparameters (from Optuna study): {best_hyperparams_optuna}\")\n",
    "\n",
    "# Plotting learning curves for the best model from Optuna hyperparameter search\n",
    "if best_model_train_losses_optuna and best_model_val_accuracies_optuna:\n",
    "    plt.figure(figsize=(12, 5))\n",
    "\n",
    "    plt.subplot(1, 2, 1)\n",
    "    plt.plot(range(1, len(best_model_train_losses_optuna) + 1), best_model_train_losses_optuna, label='Best Model Training Loss (Optuna)')\n",
    "    plt.xlabel('Epoch')\n",
    "    plt.ylabel('Loss')\n",
    "    plt.title('Best Model (Optuna) - Training Loss')\n",
    "    plt.legend()\n",
    "\n",
    "    plt.subplot(1, 2, 2)\n",
    "    plt.plot(range(1, len(best_model_val_accuracies_optuna) + 1), best_model_val_accuracies_optuna, label='Best Model Validation Accuracy (Optuna)', color='red')\n",
    "    plt.xlabel('Epoch')\n",
    "    plt.ylabel('Accuracy (%)')\n",
    "    plt.title('Best Model (Optuna) - Validation Accuracy')\n",
    "    plt.legend()\n",
    "\n",
    "    plt.tight_layout()\n",
    "    plt.show()\n",
    "else:\n",
    "    print(\"Learning curve data for the best Optuna trial is not available.\")\n",
    "    \n",
    "# You can now load the best model state for further use if needed.\n",
    "# First, you'd typically retrain a model with best_hyperparams_optuna for a full number of epochs\n",
    "# and save its state_dict. The state_dict is not directly saved by the Optuna objective function above.\n",
    "# Example:\n",
    "# model_best_optuna = SimpleCNN(input_channels=C, input_height=H, input_width=W, num_classes=num_classes_hp,\n",
    "#                               conv1_out_channels=best_hyperparams_optuna['conv1_out_channels'],\n",
    "#                               conv2_out_channels=best_hyperparams_optuna['conv2_out_channels'],\n",
    "#                               fc_neurons=best_hyperparams_optuna['fc_neurons']).to(device)\n",
    "# # Then, you would train this model_best_optuna using the best learning rate, optimizer, and batch size.\n",
    "# # For now, we are just plotting the curves from the optimization search itself."
   ]
  },
  {
   "cell_type": "markdown",
   "id": "6c32b700",
   "metadata": {},
   "source": []
  },
  {
   "cell_type": "code",
   "execution_count": null,
   "id": "d077bb01",
   "metadata": {},
   "outputs": [],
   "source": []
  }
 ],
 "metadata": {
  "kernelspec": {
   "display_name": "DDAI_311",
   "language": "python",
   "name": "python3"
  },
  "language_info": {
   "codemirror_mode": {
    "name": "ipython",
    "version": 3
   },
   "file_extension": ".py",
   "mimetype": "text/x-python",
   "name": "python",
   "nbconvert_exporter": "python",
   "pygments_lexer": "ipython3",
   "version": "3.11.11"
  }
 },
 "nbformat": 4,
 "nbformat_minor": 5
}
