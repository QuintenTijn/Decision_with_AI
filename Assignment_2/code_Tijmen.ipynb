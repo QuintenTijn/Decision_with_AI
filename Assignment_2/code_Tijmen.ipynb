{
 "cells": [
  {
   "cell_type": "markdown",
   "id": "e8bc82e2",
   "metadata": {},
   "source": [
    "# Imports & loading"
   ]
  },
  {
   "cell_type": "code",
   "execution_count": null,
   "id": "16bf941d",
   "metadata": {},
   "outputs": [],
   "source": []
  },
  {
   "cell_type": "code",
   "execution_count": 1,
   "id": "e71aeb63",
   "metadata": {},
   "outputs": [],
   "source": [
    "from support import load_dataset\n",
    "import matplotlib.pyplot as plt\n",
    "import torchvision.transforms as T\n",
    "import os\n",
    "os.environ[\"KMP_DUPLICATE_LIB_OK\"] = \"TRUE\"\n",
    "from tqdm.notebook import tqdm \n",
    "\n",
    "import random\n",
    "import numpy as np\n",
    "import torch\n",
    "import torch.nn as nn\n",
    "import torch.optim as optim\n",
    "from torch.utils.data import DataLoader"
   ]
  },
  {
   "cell_type": "markdown",
   "id": "fd2cd22c",
   "metadata": {},
   "source": [
    "#### Print Python and PyTorch version"
   ]
  },
  {
   "cell_type": "code",
   "execution_count": 2,
   "id": "f2b3f703",
   "metadata": {},
   "outputs": [
    {
     "name": "stdout",
     "output_type": "stream",
     "text": [
      "Python version: 3.11.11 (main, Dec 11 2024, 10:25:04) [Clang 14.0.6 ]\n",
      "PyTorch version: 2.5.1\n",
      "CUDA available: False\n"
     ]
    }
   ],
   "source": [
    "print(\"Python version:\", os.sys.version)\n",
    "print(\"PyTorch version:\", torch.__version__)\n",
    "print(\"CUDA available:\", torch.cuda.is_available())"
   ]
  },
  {
   "cell_type": "code",
   "execution_count": 3,
   "id": "e549c95d",
   "metadata": {},
   "outputs": [],
   "source": [
    "data = load_dataset()\n",
    "train_dataset = data[0]\n",
    "test_dataset = data[1]"
   ]
  },
  {
   "cell_type": "code",
   "execution_count": 4,
   "id": "e1fe5181",
   "metadata": {},
   "outputs": [
    {
     "name": "stdout",
     "output_type": "stream",
     "text": [
      "Image shape: torch.Size([3, 60, 30])\n",
      "Label: 0\n",
      "Train_dataset: Dataset ImageFolder\n",
      "    Number of datapoints: 136\n",
      "    Root location: WF-data/train\n",
      "    StandardTransform\n",
      "Transform: Compose(\n",
      "               Resize(size=[105, 78], interpolation=bilinear, max_size=None, antialias=True)\n",
      "               CenterCrop(size=[60, 30])\n",
      "               ToTensor()\n",
      "           )\n"
     ]
    }
   ],
   "source": [
    "img, label = train_dataset[0]\n",
    "\n",
    "print(f\"Image shape: {img.shape}\")\n",
    "print(f\"Label: {label}\")\n",
    "print(f\"Train_dataset: {train_dataset}\")"
   ]
  },
  {
   "cell_type": "code",
   "execution_count": 5,
   "id": "9d010dd6",
   "metadata": {},
   "outputs": [
    {
     "data": {
      "image/png": "[encoded data removed]",
      "text/plain": [
       "<Figure size 640x480 with 1 Axes>"
      ]
     },
     "metadata": {},
     "output_type": "display_data"
    }
   ],
   "source": [
    "img_tensor, label = train_dataset[0]\n",
    "transform_to_pil = T.ToPILImage()\n",
    "img_pil = transform_to_pil(img_tensor)\n",
    "\n",
    "plt.imshow(img_pil)\n",
    "plt.title(f\"Label: {label}\")\n",
    "plt.axis('off')\n",
    "plt.show()"
   ]
  },
  {
   "cell_type": "markdown",
   "id": "be77b74f",
   "metadata": {},
   "source": [
    "# CNN"
   ]
  },
  {
   "cell_type": "markdown",
   "id": "1e629039",
   "metadata": {},
   "source": [
    "## Base Model"
   ]
  },
  {
   "cell_type": "code",
   "execution_count": 6,
   "id": "2a7eeaa6",
   "metadata": {},
   "outputs": [],
   "source": [
    "# Define the CNN model\n",
    "class SimpleCNN(nn.Module):\n",
    "    def __init__(self, input_channels, input_height, input_width, num_classes):\n",
    "        super(SimpleCNN, self).__init__()\n",
    "        self.conv_layers = nn.Sequential(\n",
    "            nn.Conv2d(input_channels, 16, kernel_size=3, padding=1),\n",
    "            nn.ReLU(),\n",
    "            nn.MaxPool2d(kernel_size=2, stride=2),  # Output: 16 x H/2 x W/2\n",
    "            nn.Conv2d(16, 32, kernel_size=3, padding=1),\n",
    "            nn.ReLU(),\n",
    "            nn.MaxPool2d(kernel_size=2, stride=2)   # Output: 32 x H/4 x W/4\n",
    "        )\n",
    "        \n",
    "        # Calculate the flattened size dynamically to connect conv layers to fc layers\n",
    "        with torch.no_grad(): # We don't need gradients for this calculation\n",
    "            dummy_input = torch.zeros(1, input_channels, input_height, input_width)\n",
    "            flattened_size = self.conv_layers(dummy_input).flatten(1).shape[1]\n",
    "            \n",
    "        self.fc_layers = nn.Sequential(\n",
    "            nn.Linear(flattened_size, 128),\n",
    "            nn.ReLU(),\n",
    "            # Output 1 logit for binary classification (labels 0 or 1)\n",
    "            # This will be used with BCEWithLogitsLoss\n",
    "            nn.Linear(128, 1 if num_classes == 2 else num_classes) \n",
    "        )\n",
    "\n",
    "    def forward(self, x):\n",
    "        x = self.conv_layers(x)\n",
    "        x = x.flatten(1) # Flatten all dimensions except batch\n",
    "        x = self.fc_layers(x)\n",
    "        return x"
   ]
  },
  {
   "cell_type": "code",
   "execution_count": 7,
   "id": "bc4d073b",
   "metadata": {},
   "outputs": [
    {
     "name": "stdout",
     "output_type": "stream",
     "text": [
      "Detected image shape: Channels=3, Height=60, Width=30\n",
      "Using device: cpu\n"
     ]
    },
    {
     "data": {
      "application/vnd.jupyter.widget-view+json": {
       "model_id": "40f4f9c0d1e14fc8b9d97167f9bc5360",
       "version_major": 2,
       "version_minor": 0
      },
      "text/plain": [
       "Training Progress:   0%|          | 0/10 [00:00<?, ?epoch/s]"
      ]
     },
     "metadata": {},
     "output_type": "display_data"
    },
    {
     "name": "stdout",
     "output_type": "stream",
     "text": [
      "Epoch [1/10], Step [1/17], Loss: 0.6958\n",
      "Epoch [1/10], Step [2/17], Loss: 1.3450\n",
      "Epoch [1/10], Step [3/17], Loss: 0.6637\n",
      "Epoch [1/10], Step [4/17], Loss: 0.6688\n",
      "Epoch [1/10], Step [5/17], Loss: 0.6594\n",
      "Epoch [1/10], Step [6/17], Loss: 0.7533\n",
      "Epoch [1/10], Step [7/17], Loss: 0.7104\n",
      "Epoch [1/10], Step [8/17], Loss: 0.6781\n",
      "Epoch [1/10], Step [9/17], Loss: 0.7002\n",
      "Epoch [1/10], Step [10/17], Loss: 0.6871\n",
      "Epoch [1/10], Step [11/17], Loss: 0.6872\n",
      "Epoch [1/10], Step [12/17], Loss: 0.6937\n",
      "Epoch [1/10], Step [13/17], Loss: 0.6863\n",
      "Epoch [1/10], Step [14/17], Loss: 0.7101\n",
      "Epoch [1/10], Step [15/17], Loss: 0.6936\n",
      "Epoch [1/10], Step [16/17], Loss: 0.6860\n",
      "Epoch [1/10], Step [17/17], Loss: 0.7013\n",
      "Epoch [1/10] completed. Average Training Loss: 0.7306\n",
      "Accuracy on test set after epoch 1: 50.00%\n",
      "Epoch [2/10], Step [1/17], Loss: 0.7010\n",
      "Epoch [2/10], Step [2/17], Loss: 0.6936\n",
      "Epoch [2/10], Step [3/17], Loss: 0.6933\n",
      "Epoch [2/10], Step [4/17], Loss: 0.6877\n",
      "Epoch [2/10], Step [5/17], Loss: 0.6934\n",
      "Epoch [2/10], Step [6/17], Loss: 0.6934\n",
      "Epoch [2/10], Step [7/17], Loss: 0.6830\n",
      "Epoch [2/10], Step [8/17], Loss: 0.6933\n",
      "Epoch [2/10], Step [9/17], Loss: 0.6819\n",
      "Epoch [2/10], Step [10/17], Loss: 0.7062\n",
      "Epoch [2/10], Step [11/17], Loss: 0.7000\n",
      "Epoch [2/10], Step [12/17], Loss: 0.6998\n",
      "Epoch [2/10], Step [13/17], Loss: 0.6992\n",
      "Epoch [2/10], Step [14/17], Loss: 0.6986\n",
      "Epoch [2/10], Step [15/17], Loss: 0.6933\n",
      "Epoch [2/10], Step [16/17], Loss: 0.6933\n",
      "Epoch [2/10], Step [17/17], Loss: 0.6860\n",
      "Epoch [2/10] completed. Average Training Loss: 0.6939\n",
      "Accuracy on test set after epoch 2: 50.00%\n",
      "Epoch [3/10], Step [1/17], Loss: 0.6863\n",
      "Epoch [3/10], Step [2/17], Loss: 0.7004\n",
      "Epoch [3/10], Step [3/17], Loss: 0.6967\n",
      "Epoch [3/10], Step [4/17], Loss: 0.6932\n",
      "Epoch [3/10], Step [5/17], Loss: 0.6932\n",
      "Epoch [3/10], Step [6/17], Loss: 0.6932\n",
      "Epoch [3/10], Step [7/17], Loss: 0.6932\n",
      "Epoch [3/10], Step [8/17], Loss: 0.6908\n",
      "Epoch [3/10], Step [9/17], Loss: 0.6979\n",
      "Epoch [3/10], Step [10/17], Loss: 0.6932\n",
      "Epoch [3/10], Step [11/17], Loss: 0.6932\n",
      "Epoch [3/10], Step [12/17], Loss: 0.6916\n",
      "Epoch [3/10], Step [13/17], Loss: 0.6917\n",
      "Epoch [3/10], Step [14/17], Loss: 0.6916\n",
      "Epoch [3/10], Step [15/17], Loss: 0.6932\n",
      "Epoch [3/10], Step [16/17], Loss: 0.6932\n",
      "Epoch [3/10], Step [17/17], Loss: 0.6951\n",
      "Epoch [3/10] completed. Average Training Loss: 0.6934\n",
      "Accuracy on test set after epoch 3: 50.00%\n",
      "Epoch [4/10], Step [1/17], Loss: 0.6893\n",
      "Epoch [4/10], Step [2/17], Loss: 0.6953\n",
      "Epoch [4/10], Step [3/17], Loss: 0.6954\n",
      "Epoch [4/10], Step [4/17], Loss: 0.6975\n",
      "Epoch [4/10], Step [5/17], Loss: 0.6969\n",
      "Epoch [4/10], Step [6/17], Loss: 0.6918\n",
      "Epoch [4/10], Step [7/17], Loss: 0.6931\n",
      "Epoch [4/10], Step [8/17], Loss: 0.6924\n",
      "Epoch [4/10], Step [9/17], Loss: 0.6931\n",
      "Epoch [4/10], Step [10/17], Loss: 0.6921\n",
      "Epoch [4/10], Step [11/17], Loss: 0.6944\n",
      "Epoch [4/10], Step [12/17], Loss: 0.6937\n",
      "Epoch [4/10], Step [13/17], Loss: 0.6934\n",
      "Epoch [4/10], Step [14/17], Loss: 0.6932\n",
      "Epoch [4/10], Step [15/17], Loss: 0.6932\n",
      "Epoch [4/10], Step [16/17], Loss: 0.6931\n",
      "Epoch [4/10], Step [17/17], Loss: 0.6933\n",
      "Epoch [4/10] completed. Average Training Loss: 0.6936\n",
      "Accuracy on test set after epoch 4: 50.00%\n",
      "Epoch [5/10], Step [1/17], Loss: 0.6931\n",
      "Epoch [5/10], Step [2/17], Loss: 0.6929\n",
      "Epoch [5/10], Step [3/17], Loss: 0.6926\n",
      "Epoch [5/10], Step [4/17], Loss: 0.6923\n",
      "Epoch [5/10], Step [5/17], Loss: 0.6895\n",
      "Epoch [5/10], Step [6/17], Loss: 0.6913\n",
      "Epoch [5/10], Step [7/17], Loss: 0.6907\n",
      "Epoch [5/10], Step [8/17], Loss: 0.7026\n",
      "Epoch [5/10], Step [9/17], Loss: 0.6932\n",
      "Epoch [5/10], Step [10/17], Loss: 0.6932\n",
      "Epoch [5/10], Step [11/17], Loss: 0.6972\n",
      "Epoch [5/10], Step [12/17], Loss: 0.6892\n",
      "Epoch [5/10], Step [13/17], Loss: 0.7017\n",
      "Epoch [5/10], Step [14/17], Loss: 0.7016\n",
      "Epoch [5/10], Step [15/17], Loss: 0.6972\n",
      "Epoch [5/10], Step [16/17], Loss: 0.6932\n",
      "Epoch [5/10], Step [17/17], Loss: 0.6932\n",
      "Epoch [5/10] completed. Average Training Loss: 0.6944\n",
      "Accuracy on test set after epoch 5: 50.00%\n",
      "Epoch [6/10], Step [1/17], Loss: 0.6932\n",
      "Epoch [6/10], Step [2/17], Loss: 0.6932\n",
      "Epoch [6/10], Step [3/17], Loss: 0.6961\n",
      "Epoch [6/10], Step [4/17], Loss: 0.6906\n",
      "Epoch [6/10], Step [5/17], Loss: 0.6932\n",
      "Epoch [6/10], Step [6/17], Loss: 0.6909\n",
      "Epoch [6/10], Step [7/17], Loss: 0.6932\n",
      "Epoch [6/10], Step [8/17], Loss: 0.6954\n",
      "Epoch [6/10], Step [9/17], Loss: 0.6911\n",
      "Epoch [6/10], Step [10/17], Loss: 0.6972\n",
      "Epoch [6/10], Step [11/17], Loss: 0.6914\n",
      "Epoch [6/10], Step [12/17], Loss: 0.6949\n",
      "Epoch [6/10], Step [13/17], Loss: 0.6917\n",
      "Epoch [6/10], Step [14/17], Loss: 0.6932\n",
      "Epoch [6/10], Step [15/17], Loss: 0.6959\n",
      "Epoch [6/10], Step [16/17], Loss: 0.6942\n",
      "Epoch [6/10], Step [17/17], Loss: 0.6908\n",
      "Epoch [6/10] completed. Average Training Loss: 0.6933\n",
      "Accuracy on test set after epoch 6: 50.00%\n",
      "Epoch [7/10], Step [1/17], Loss: 0.6947\n",
      "Epoch [7/10], Step [2/17], Loss: 0.6937\n",
      "Epoch [7/10], Step [3/17], Loss: 0.6925\n",
      "Epoch [7/10], Step [4/17], Loss: 0.6931\n",
      "Epoch [7/10], Step [5/17], Loss: 0.6929\n",
      "Epoch [7/10], Step [6/17], Loss: 0.6927\n",
      "Epoch [7/10], Step [7/17], Loss: 0.6927\n",
      "Epoch [7/10], Step [8/17], Loss: 0.6939\n",
      "Epoch [7/10], Step [9/17], Loss: 0.6931\n",
      "Epoch [7/10], Step [10/17], Loss: 0.6921\n",
      "Epoch [7/10], Step [11/17], Loss: 0.6931\n",
      "Epoch [7/10], Step [12/17], Loss: 0.6976\n",
      "Epoch [7/10], Step [13/17], Loss: 0.6918\n",
      "Epoch [7/10], Step [14/17], Loss: 0.6945\n",
      "Epoch [7/10], Step [15/17], Loss: 0.6945\n",
      "Epoch [7/10], Step [16/17], Loss: 0.6932\n",
      "Epoch [7/10], Step [17/17], Loss: 0.6922\n",
      "Epoch [7/10] completed. Average Training Loss: 0.6934\n",
      "Accuracy on test set after epoch 7: 50.00%\n",
      "Epoch [8/10], Step [1/17], Loss: 0.6941\n",
      "Epoch [8/10], Step [2/17], Loss: 0.6907\n",
      "Epoch [8/10], Step [3/17], Loss: 0.6931\n",
      "Epoch [8/10], Step [4/17], Loss: 0.6942\n",
      "Epoch [8/10], Step [5/17], Loss: 0.6931\n",
      "Epoch [8/10], Step [6/17], Loss: 0.6931\n",
      "Epoch [8/10], Step [7/17], Loss: 0.6920\n",
      "Epoch [8/10], Step [8/17], Loss: 0.6919\n",
      "Epoch [8/10], Step [9/17], Loss: 0.6974\n",
      "Epoch [8/10], Step [10/17], Loss: 0.6919\n",
      "Epoch [8/10], Step [11/17], Loss: 0.6931\n",
      "Epoch [8/10], Step [12/17], Loss: 0.6931\n",
      "Epoch [8/10], Step [13/17], Loss: 0.6944\n",
      "Epoch [8/10], Step [14/17], Loss: 0.6920\n",
      "Epoch [8/10], Step [15/17], Loss: 0.6955\n",
      "Epoch [8/10], Step [16/17], Loss: 0.6931\n",
      "Epoch [8/10], Step [17/17], Loss: 0.6923\n",
      "Epoch [8/10] completed. Average Training Loss: 0.6933\n",
      "Accuracy on test set after epoch 8: 50.00%\n",
      "Epoch [9/10], Step [1/17], Loss: 0.6931\n",
      "Epoch [9/10], Step [2/17], Loss: 0.6924\n",
      "Epoch [9/10], Step [3/17], Loss: 0.6946\n",
      "Epoch [9/10], Step [4/17], Loss: 0.6925\n",
      "Epoch [9/10], Step [5/17], Loss: 0.6937\n",
      "Epoch [9/10], Step [6/17], Loss: 0.6936\n",
      "Epoch [9/10], Step [7/17], Loss: 0.6936\n",
      "Epoch [9/10], Step [8/17], Loss: 0.6933\n",
      "Epoch [9/10], Step [9/17], Loss: 0.6935\n",
      "Epoch [9/10], Step [10/17], Loss: 0.6941\n",
      "Epoch [9/10], Step [11/17], Loss: 0.6940\n",
      "Epoch [9/10], Step [12/17], Loss: 0.6935\n",
      "Epoch [9/10], Step [13/17], Loss: 0.6933\n",
      "Epoch [9/10], Step [14/17], Loss: 0.6931\n",
      "Epoch [9/10], Step [15/17], Loss: 0.6945\n",
      "Epoch [9/10], Step [16/17], Loss: 0.6946\n",
      "Epoch [9/10], Step [17/17], Loss: 0.6925\n",
      "Epoch [9/10] completed. Average Training Loss: 0.6935\n",
      "Accuracy on test set after epoch 9: 50.00%\n",
      "Epoch [10/10], Step [1/17], Loss: 0.6926\n",
      "Epoch [10/10], Step [2/17], Loss: 0.6931\n",
      "Epoch [10/10], Step [3/17], Loss: 0.6938\n",
      "Epoch [10/10], Step [4/17], Loss: 0.6931\n",
      "Epoch [10/10], Step [5/17], Loss: 0.6942\n",
      "Epoch [10/10], Step [6/17], Loss: 0.6928\n",
      "Epoch [10/10], Step [7/17], Loss: 0.6936\n",
      "Epoch [10/10], Step [8/17], Loss: 0.6931\n",
      "Epoch [10/10], Step [9/17], Loss: 0.6934\n",
      "Epoch [10/10], Step [10/17], Loss: 0.6935\n",
      "Epoch [10/10], Step [11/17], Loss: 0.6927\n",
      "Epoch [10/10], Step [12/17], Loss: 0.6931\n",
      "Epoch [10/10], Step [13/17], Loss: 0.6925\n",
      "Epoch [10/10], Step [14/17], Loss: 0.6923\n",
      "Epoch [10/10], Step [15/17], Loss: 0.6952\n",
      "Epoch [10/10], Step [16/17], Loss: 0.6942\n",
      "Epoch [10/10], Step [17/17], Loss: 0.6942\n",
      "Epoch [10/10] completed. Average Training Loss: 0.6934\n",
      "Accuracy on test set after epoch 10: 50.00%\n",
      "Finished Training\n",
      "Model saved to simple_cnn_model.pth\n"
     ]
    }
   ],
   "source": [
    "sample_img, _ = train_dataset[0]\n",
    "C, H, W = sample_img.shape\n",
    "print(f\"Detected image shape: Channels={C}, Height={H}, Width={W}\")\n",
    "\n",
    "# Hyperparameters\n",
    "learning_rate = 0.007\n",
    "batch_size = 8 # Adjust this based on memory\n",
    "num_epochs = 10  # Adjust as needed for convergence\n",
    "num_classes = 2  # Binary classification (labels 0 and 1)\n",
    "\n",
    "# Model, Loss, Optimizer\n",
    "device = torch.device(\"cuda\" if torch.cuda.is_available() else \"cpu\")\n",
    "print(f\"Using device: {device}\")\n",
    "\n",
    "# DataLoaders\n",
    "pin_memory_flag = True if device.type == 'cuda' else False\n",
    "train_loader = DataLoader(train_dataset, batch_size=batch_size, shuffle=True, num_workers=2, pin_memory=pin_memory_flag)\n",
    "test_loader = DataLoader(test_dataset, batch_size=batch_size, shuffle=False, num_workers=2, pin_memory=pin_memory_flag)\n",
    "\n",
    "model = SimpleCNN(input_channels=C, input_height=H, input_width=W, num_classes=num_classes).to(device)\n",
    "\n",
    "# Binary Cross Entropy with Logits Loss, suitable for binary classification with one output neuron\n",
    "criterion = nn.BCEWithLogitsLoss() # Different choiches possible\n",
    "optimizer = optim.Adam(model.parameters(), lr=learning_rate)\n",
    "\n",
    "# Training loop\n",
    "for epoch in tqdm(range(num_epochs), desc=\"Training Progress\", unit=\"epoch\"):\n",
    "    model.train()  \n",
    "    running_loss = 0.0\n",
    "    for i, (images, labels) in enumerate(train_loader):\n",
    "        images = images.to(device)\n",
    "        # Reshape labels to [batch_size, 1] and convert to float for BCEWithLogitsLoss\n",
    "        labels = labels.to(device).float().unsqueeze(1) \n",
    "\n",
    "        # Forward pass\n",
    "        outputs = model(images)\n",
    "        loss = criterion(outputs, labels)\n",
    "\n",
    "        # Backward and optimize\n",
    "        optimizer.zero_grad()\n",
    "        loss.backward()\n",
    "        optimizer.step()\n",
    "\n",
    "        running_loss += loss.item()\n",
    "        if (i + 1) % max(1, len(train_loader) // 10) == 0: # Print progress, e.g. 10 times per epoch\n",
    "            print(f\"Epoch [{epoch+1}/{num_epochs}], Step [{i+1}/{len(train_loader)}], Loss: {loss.item():.4f}\")\n",
    "    \n",
    "    avg_epoch_loss = running_loss / len(train_loader)\n",
    "    print(f\"Epoch [{epoch+1}/{num_epochs}] completed. Average Training Loss: {avg_epoch_loss:.4f}\")\n",
    "\n",
    "    # Evaluation on the test set\n",
    "    model.eval()  \n",
    "    correct = 0\n",
    "    total = 0\n",
    "    with torch.no_grad(): \n",
    "        for images, labels in test_loader:\n",
    "            images = images.to(device)\n",
    "            labels = labels.to(device).float().unsqueeze(1) #\n",
    "            \n",
    "            # predictions on the test set\n",
    "            outputs = model(images)\n",
    "            predictions = (torch.sigmoid(outputs) > 0.5).float()\n",
    "\n",
    "            total += labels.size(0)\n",
    "            correct += (predictions == labels).sum().item()\n",
    "    \n",
    "    accuracy = 100 * correct / total\n",
    "    print(f\"Accuracy on test set after epoch {epoch+1}: {accuracy:.2f}%\")\n",
    "\n",
    "# Save the model\n",
    "model_path = \"simple_cnn_model.pth\"\n",
    "torch.save(model.state_dict(), model_path)\n",
    "print(\"Finished Training\")\n",
    "print(f\"Model saved to {model_path}\")"
   ]
  },
  {
   "cell_type": "markdown",
   "id": "55c0f870",
   "metadata": {},
   "source": [
    "## Increased complexity"
   ]
  },
  {
   "cell_type": "code",
   "execution_count": 8,
   "id": "3d470596",
   "metadata": {},
   "outputs": [],
   "source": [
    "class SimpleCNN(nn.Module):\n",
    "    def __init__(self, input_channels, input_height, input_width, num_classes,\n",
    "                 conv1_out_channels=16, conv2_out_channels=32, fc_neurons=128):\n",
    "        super(SimpleCNN, self).__init__()\n",
    "        self.conv_layers = nn.Sequential(\n",
    "            nn.Conv2d(input_channels, conv1_out_channels, kernel_size=3, padding=1),\n",
    "            nn.ReLU(),\n",
    "            nn.MaxPool2d(kernel_size=2, stride=2),  # Output: conv1_out_channels x H/2 x W/2\n",
    "            nn.Conv2d(conv1_out_channels, conv2_out_channels, kernel_size=3, padding=1),\n",
    "            nn.ReLU(),\n",
    "            nn.MaxPool2d(kernel_size=2, stride=2)   # Output: conv2_out_channels x H/4 x W/4\n",
    "        )\n",
    "        \n",
    "        # Calculate the flattened size dynamically\n",
    "        with torch.no_grad():\n",
    "            dummy_input = torch.zeros(1, input_channels, input_height, input_width)\n",
    "            flattened_size = self.conv_layers(dummy_input).flatten(1).shape[1]\n",
    "            \n",
    "        self.fc_layers = nn.Sequential(\n",
    "            nn.Linear(flattened_size, fc_neurons),\n",
    "            nn.ReLU(),\n",
    "            nn.Linear(fc_neurons, 1 if num_classes == 2 else num_classes) \n",
    "        )\n",
    "\n",
    "    def forward(self, x):\n",
    "        x = self.conv_layers(x)\n",
    "        x = x.flatten(1) # Flatten all dimensions except batch\n",
    "        x = self.fc_layers(x)\n",
    "        return x"
   ]
  },
  {
   "cell_type": "code",
   "execution_count": 9,
   "id": "6e13a536",
   "metadata": {},
   "outputs": [
    {
     "name": "stdout",
     "output_type": "stream",
     "text": [
      "Detected image shape: Channels=3, Height=60, Width=30\n",
      "Using device: cpu\n"
     ]
    },
    {
     "data": {
      "application/vnd.jupyter.widget-view+json": {
       "model_id": "fa84a672bc564d32b5a0c4ef7cbca8d9",
       "version_major": 2,
       "version_minor": 0
      },
      "text/plain": [
       "Training Progress:   0%|          | 0/20 [00:00<?, ?epoch/s]"
      ]
     },
     "metadata": {},
     "output_type": "display_data"
    },
    {
     "name": "stdout",
     "output_type": "stream",
     "text": [
      "Epoch [1/20] completed. Average Training Loss: 0.6994\n",
      "Accuracy on test set after epoch 1: 50.00%\n",
      "Epoch [2/20] completed. Average Training Loss: 0.6924\n",
      "Accuracy on test set after epoch 2: 50.00%\n",
      "Epoch [3/20] completed. Average Training Loss: 0.6855\n",
      "Accuracy on test set after epoch 3: 61.76%\n",
      "Epoch [4/20] completed. Average Training Loss: 0.6719\n",
      "Accuracy on test set after epoch 4: 61.76%\n",
      "Epoch [5/20] completed. Average Training Loss: 0.6304\n",
      "Accuracy on test set after epoch 5: 52.94%\n",
      "Epoch [6/20] completed. Average Training Loss: 0.5569\n",
      "Accuracy on test set after epoch 6: 76.47%\n",
      "Epoch [7/20] completed. Average Training Loss: 0.5011\n",
      "Accuracy on test set after epoch 7: 64.71%\n",
      "Epoch [8/20] completed. Average Training Loss: 0.5131\n",
      "Accuracy on test set after epoch 8: 55.88%\n",
      "Epoch [9/20] completed. Average Training Loss: 0.4530\n",
      "Accuracy on test set after epoch 9: 55.88%\n",
      "Epoch [10/20] completed. Average Training Loss: 0.4674\n",
      "Accuracy on test set after epoch 10: 64.71%\n",
      "Epoch [11/20] completed. Average Training Loss: 0.4053\n",
      "Accuracy on test set after epoch 11: 73.53%\n",
      "Epoch [12/20] completed. Average Training Loss: 0.3805\n",
      "Accuracy on test set after epoch 12: 73.53%\n",
      "Epoch [13/20] completed. Average Training Loss: 0.3404\n",
      "Accuracy on test set after epoch 13: 76.47%\n",
      "Epoch [14/20] completed. Average Training Loss: 0.3413\n",
      "Accuracy on test set after epoch 14: 70.59%\n",
      "Epoch [15/20] completed. Average Training Loss: 0.3391\n",
      "Accuracy on test set after epoch 15: 79.41%\n",
      "Epoch [16/20] completed. Average Training Loss: 0.3025\n",
      "Accuracy on test set after epoch 16: 79.41%\n",
      "Epoch [17/20] completed. Average Training Loss: 0.2663\n",
      "Accuracy on test set after epoch 17: 79.41%\n",
      "Epoch [18/20] completed. Average Training Loss: 0.2490\n",
      "Accuracy on test set after epoch 18: 79.41%\n",
      "Epoch [19/20] completed. Average Training Loss: 0.2288\n",
      "Accuracy on test set after epoch 19: 79.41%\n",
      "Epoch [20/20] completed. Average Training Loss: 0.2957\n",
      "Accuracy on test set after epoch 20: 82.35%\n",
      "Finished Training Base Model\n"
     ]
    }
   ],
   "source": [
    "sample_img, _ = train_dataset[0]\n",
    "C, H, W = sample_img.shape\n",
    "print(f\"Detected image shape: Channels={C}, Height={H}, Width={W}\")\n",
    "\n",
    "# Hyperparameters (Base Model)\n",
    "learning_rate = 0.001\n",
    "batch_size = 8 \n",
    "num_epochs = 20 \n",
    "num_classes = 2 \n",
    "\n",
    "# Default architectural parameters for the base model\n",
    "conv1_out_channels_base = 16\n",
    "conv2_out_channels_base = 32\n",
    "fc_neurons_base = 128\n",
    "\n",
    "# Model, Loss, Optimizer\n",
    "device = torch.device(\"cuda\" if torch.cuda.is_available() else \"cpu\")\n",
    "print(f\"Using device: {device}\")\n",
    "\n",
    "# DataLoaders\n",
    "pin_memory_flag = True if device.type == 'cuda' else False\n",
    "train_loader = DataLoader(train_dataset, batch_size=batch_size, shuffle=True, num_workers=2, pin_memory=pin_memory_flag)\n",
    "test_loader = DataLoader(test_dataset, batch_size=batch_size, shuffle=False, num_workers=2, pin_memory=pin_memory_flag)\n",
    "\n",
    "# Use the (potentially modified) SimpleCNN class\n",
    "model = SimpleCNN(input_channels=C, input_height=H, input_width=W, num_classes=num_classes,\n",
    "                    conv1_out_channels=conv1_out_channels_base, \n",
    "                    conv2_out_channels=conv2_out_channels_base, \n",
    "                    fc_neurons=fc_neurons_base).to(device)\n",
    "\n",
    "criterion = nn.BCEWithLogitsLoss()\n",
    "optimizer = optim.Adam(model.parameters(), lr=learning_rate)\n",
    "\n",
    "# Lists to store metrics for plotting\n",
    "epoch_train_losses = []\n",
    "epoch_test_accuracies = []\n",
    "\n",
    "# Training loop\n",
    "for epoch in tqdm(range(num_epochs), desc=\"Training Progress\", unit=\"epoch\"):\n",
    "    model.train()  \n",
    "    running_loss = 0.0\n",
    "    for images, labels in train_loader:\n",
    "        images = images.to(device)\n",
    "        labels = labels.to(device).float().unsqueeze(1) \n",
    "\n",
    "        outputs = model(images)\n",
    "        loss = criterion(outputs, labels)\n",
    "\n",
    "        optimizer.zero_grad()\n",
    "        loss.backward()\n",
    "        optimizer.step()\n",
    "\n",
    "        running_loss += loss.item() * images.size(0) # loss.item() is avg loss for batch\n",
    "    \n",
    "    avg_epoch_loss = running_loss / len(train_loader.dataset)  # Average loss over the entire training set\n",
    "    epoch_train_losses.append(avg_epoch_loss)\n",
    "    print(f\"Epoch [{epoch+1}/{num_epochs}] completed. Average Training Loss: {avg_epoch_loss:.4f}\")\n",
    "\n",
    "    # Evaluation on the test set\n",
    "    model.eval()  \n",
    "    correct = 0\n",
    "    total = 0\n",
    "    with torch.no_grad(): \n",
    "        for images, labels in test_loader:\n",
    "            images = images.to(device)\n",
    "            labels = labels.to(device).float().unsqueeze(1)\n",
    "            \n",
    "            outputs = model(images)\n",
    "            predicted = (torch.sigmoid(outputs) > 0.5).float() \n",
    "            \n",
    "            total += labels.size(0)\n",
    "            correct += (predicted == labels).sum().item()\n",
    "    \n",
    "    accuracy = 100 * correct / total\n",
    "    epoch_test_accuracies.append(accuracy)\n",
    "    print(f\"Accuracy on test set after epoch {epoch+1}: {accuracy:.2f}%\")\n",
    "\n",
    "print(\"Finished Training Base Model\")"
   ]
  },
  {
   "cell_type": "markdown",
   "id": "6293f4b5",
   "metadata": {},
   "source": [
    "### Plots"
   ]
  },
  {
   "cell_type": "code",
   "execution_count": 10,
   "id": "ec2ffc15",
   "metadata": {},
   "outputs": [
    {
     "data": {
      "image/png": "[encoded data removed]",
      "text/plain": [
       "<Figure size 1200x500 with 2 Axes>"
      ]
     },
     "metadata": {},
     "output_type": "display_data"
    }
   ],
   "source": [
    "# Plotting learning curves\n",
    "plt.figure(figsize=(12, 5))\n",
    "\n",
    "plt.subplot(1, 2, 1)\n",
    "plt.plot(range(1, num_epochs + 1), epoch_train_losses, label='Training Loss')\n",
    "plt.xlabel('Epoch')\n",
    "plt.ylabel('Loss')\n",
    "plt.title('Training Loss Curve', fontsize=14)\n",
    "plt.legend()\n",
    "\n",
    "plt.subplot(1, 2, 2)\n",
    "plt.plot(range(1, num_epochs + 1), epoch_test_accuracies, label='Test Accuracy', color='red')\n",
    "plt.xlabel('Epoch')\n",
    "plt.ylabel('Accuracy (%)')\n",
    "plt.title('Test Accuracy Curve', fontsize=14)\n",
    "plt.legend()\n",
    "\n",
    "plt.tight_layout()\n",
    "plt.show()"
   ]
  },
  {
   "cell_type": "markdown",
   "id": "bca0754c",
   "metadata": {},
   "source": [
    "## Hyperparameter tuning"
   ]
  },
  {
   "cell_type": "markdown",
   "id": "0e629c83",
   "metadata": {},
   "source": [
    "### Random Search"
   ]
  },
  {
   "cell_type": "code",
   "execution_count": 11,
   "id": "b59f0e36",
   "metadata": {},
   "outputs": [
    {
     "name": "stdout",
     "output_type": "stream",
     "text": [
      "Using device for hyperparameter tuning: cpu\n"
     ]
    },
    {
     "data": {
      "application/vnd.jupyter.widget-view+json": {
       "model_id": "b46a745613de42c69637ef578c458baf",
       "version_major": 2,
       "version_minor": 0
      },
      "text/plain": [
       "Hyperparameter Search Trials:   0%|          | 0/20 [00:00<?, ?trial/s]"
      ]
     },
     "metadata": {},
     "output_type": "display_data"
    },
    {
     "name": "stdout",
     "output_type": "stream",
     "text": [
      "Testing params: {'learning_rate': 0.001, 'batch_size': 8, 'conv1_out_channels': 16, 'conv2_out_channels': 64, 'fc_neurons': 128}\n"
     ]
    },
    {
     "data": {
      "application/vnd.jupyter.widget-view+json": {
       "model_id": "e888e10962ea4c1ba2167c78827e34b0",
       "version_major": 2,
       "version_minor": 0
      },
      "text/plain": [
       "Trial 1 Training:   0%|          | 0/20 [00:00<?, ?it/s]"
      ]
     },
     "metadata": {},
     "output_type": "display_data"
    },
    {
     "name": "stdout",
     "output_type": "stream",
     "text": [
      "Trial 1 Epoch 1: Train Loss: 0.7039, Val Accuracy: 50.00%\n",
      "Trial 1 Epoch 2: Train Loss: 0.6924, Val Accuracy: 50.00%\n",
      "Trial 1 Epoch 3: Train Loss: 0.6897, Val Accuracy: 76.47%\n",
      "Trial 1 Epoch 4: Train Loss: 0.6773, Val Accuracy: 61.76%\n",
      "Trial 1 Epoch 5: Train Loss: 0.6574, Val Accuracy: 50.00%\n",
      "Trial 1 Epoch 6: Train Loss: 0.6199, Val Accuracy: 55.88%\n",
      "Trial 1 Epoch 7: Train Loss: 0.5297, Val Accuracy: 61.76%\n",
      "Trial 1 Epoch 8: Train Loss: 0.4856, Val Accuracy: 73.53%\n",
      "Trial 1 Epoch 9: Train Loss: 0.4408, Val Accuracy: 61.76%\n",
      "Trial 1 Epoch 10: Train Loss: 0.5063, Val Accuracy: 70.59%\n",
      "Trial 1 Epoch 11: Train Loss: 0.5031, Val Accuracy: 61.76%\n",
      "Trial 1 Epoch 12: Train Loss: 0.4464, Val Accuracy: 61.76%\n",
      "Trial 1 Epoch 13: Train Loss: 0.4173, Val Accuracy: 61.76%\n",
      "Trial 1 Epoch 14: Train Loss: 0.3977, Val Accuracy: 61.76%\n",
      "Trial 1 Epoch 15: Train Loss: 0.3982, Val Accuracy: 73.53%\n",
      "Trial 1 Epoch 16: Train Loss: 0.4257, Val Accuracy: 76.47%\n",
      "Trial 1 Epoch 17: Train Loss: 0.3817, Val Accuracy: 73.53%\n",
      "Trial 1 Epoch 18: Train Loss: 0.3544, Val Accuracy: 73.53%\n",
      "Trial 1 Epoch 19: Train Loss: 0.3769, Val Accuracy: 76.47%\n",
      "Trial 1 Epoch 20: Train Loss: 0.3197, Val Accuracy: 73.53%\n",
      "New best model found! Val Accuracy: 73.53%, Params: {'learning_rate': 0.001, 'batch_size': 8, 'conv1_out_channels': 16, 'conv2_out_channels': 64, 'fc_neurons': 128}\n",
      "Testing params: {'learning_rate': 0.01, 'batch_size': 8, 'conv1_out_channels': 32, 'conv2_out_channels': 32, 'fc_neurons': 128}\n"
     ]
    },
    {
     "data": {
      "application/vnd.jupyter.widget-view+json": {
       "model_id": "0b4cb7fc129b4bbba45c3d2f870bcb1d",
       "version_major": 2,
       "version_minor": 0
      },
      "text/plain": [
       "Trial 2 Training:   0%|          | 0/20 [00:00<?, ?it/s]"
      ]
     },
     "metadata": {},
     "output_type": "display_data"
    },
    {
     "name": "stdout",
     "output_type": "stream",
     "text": [
      "Trial 2 Epoch 1: Train Loss: 0.7587, Val Accuracy: 50.00%\n",
      "Trial 2 Epoch 2: Train Loss: 0.7062, Val Accuracy: 50.00%\n",
      "Trial 2 Epoch 3: Train Loss: 0.6941, Val Accuracy: 50.00%\n",
      "Trial 2 Epoch 4: Train Loss: 0.6935, Val Accuracy: 50.00%\n",
      "Trial 2 Epoch 5: Train Loss: 0.6935, Val Accuracy: 50.00%\n",
      "Trial 2 Epoch 6: Train Loss: 0.6927, Val Accuracy: 50.00%\n",
      "Trial 2 Epoch 7: Train Loss: 0.6924, Val Accuracy: 50.00%\n",
      "Trial 2 Epoch 8: Train Loss: 0.6898, Val Accuracy: 50.00%\n",
      "Trial 2 Epoch 9: Train Loss: 0.6700, Val Accuracy: 50.00%\n",
      "Trial 2 Epoch 10: Train Loss: 0.6295, Val Accuracy: 55.88%\n",
      "Trial 2 Epoch 11: Train Loss: 0.4824, Val Accuracy: 73.53%\n",
      "Trial 2 Epoch 12: Train Loss: 0.4974, Val Accuracy: 50.00%\n",
      "Trial 2 Epoch 13: Train Loss: 0.4642, Val Accuracy: 76.47%\n",
      "Trial 2 Epoch 14: Train Loss: 0.4043, Val Accuracy: 82.35%\n",
      "Trial 2 Epoch 15: Train Loss: 0.2978, Val Accuracy: 79.41%\n",
      "Trial 2 Epoch 16: Train Loss: 0.2491, Val Accuracy: 88.24%\n",
      "Trial 2 Epoch 17: Train Loss: 0.2119, Val Accuracy: 100.00%\n",
      "Trial 2 Epoch 18: Train Loss: 0.1901, Val Accuracy: 88.24%\n",
      "Trial 2 Epoch 19: Train Loss: 0.2096, Val Accuracy: 88.24%\n",
      "Trial 2 Epoch 20: Train Loss: 0.2400, Val Accuracy: 88.24%\n",
      "New best model found! Val Accuracy: 88.24%, Params: {'learning_rate': 0.01, 'batch_size': 8, 'conv1_out_channels': 32, 'conv2_out_channels': 32, 'fc_neurons': 128}\n",
      "Testing params: {'learning_rate': 0.0001, 'batch_size': 8, 'conv1_out_channels': 32, 'conv2_out_channels': 64, 'fc_neurons': 128}\n"
     ]
    },
    {
     "data": {
      "application/vnd.jupyter.widget-view+json": {
       "model_id": "a5d95142b446440497c1f0b7ade664b6",
       "version_major": 2,
       "version_minor": 0
      },
      "text/plain": [
       "Trial 3 Training:   0%|          | 0/20 [00:00<?, ?it/s]"
      ]
     },
     "metadata": {},
     "output_type": "display_data"
    },
    {
     "name": "stdout",
     "output_type": "stream",
     "text": [
      "Trial 3 Epoch 1: Train Loss: 0.7066, Val Accuracy: 50.00%\n",
      "Trial 3 Epoch 2: Train Loss: 0.6922, Val Accuracy: 50.00%\n",
      "Trial 3 Epoch 3: Train Loss: 0.6933, Val Accuracy: 50.00%\n",
      "Trial 3 Epoch 4: Train Loss: 0.6931, Val Accuracy: 70.59%\n",
      "Trial 3 Epoch 5: Train Loss: 0.6906, Val Accuracy: 64.71%\n",
      "Trial 3 Epoch 6: Train Loss: 0.6900, Val Accuracy: 50.00%\n",
      "Trial 3 Epoch 7: Train Loss: 0.6884, Val Accuracy: 50.00%\n",
      "Trial 3 Epoch 8: Train Loss: 0.6872, Val Accuracy: 73.53%\n",
      "Trial 3 Epoch 9: Train Loss: 0.6848, Val Accuracy: 64.71%\n",
      "Trial 3 Epoch 10: Train Loss: 0.6824, Val Accuracy: 70.59%\n",
      "Trial 3 Epoch 11: Train Loss: 0.6785, Val Accuracy: 76.47%\n",
      "Trial 3 Epoch 12: Train Loss: 0.6770, Val Accuracy: 76.47%\n",
      "Trial 3 Epoch 13: Train Loss: 0.6692, Val Accuracy: 58.82%\n",
      "Trial 3 Epoch 14: Train Loss: 0.6643, Val Accuracy: 61.76%\n",
      "Trial 3 Epoch 15: Train Loss: 0.6531, Val Accuracy: 64.71%\n",
      "Trial 3 Epoch 16: Train Loss: 0.6493, Val Accuracy: 61.76%\n",
      "Trial 3 Epoch 17: Train Loss: 0.6321, Val Accuracy: 61.76%\n",
      "Trial 3 Epoch 18: Train Loss: 0.6133, Val Accuracy: 76.47%\n",
      "Trial 3 Epoch 19: Train Loss: 0.5978, Val Accuracy: 61.76%\n",
      "Trial 3 Epoch 20: Train Loss: 0.5769, Val Accuracy: 67.65%\n",
      "Testing params: {'learning_rate': 0.0005, 'batch_size': 16, 'conv1_out_channels': 16, 'conv2_out_channels': 16, 'fc_neurons': 256}\n"
     ]
    },
    {
     "data": {
      "application/vnd.jupyter.widget-view+json": {
       "model_id": "083e21ca74ef49eb9eb21109f65d93c4",
       "version_major": 2,
       "version_minor": 0
      },
      "text/plain": [
       "Trial 4 Training:   0%|          | 0/20 [00:00<?, ?it/s]"
      ]
     },
     "metadata": {},
     "output_type": "display_data"
    },
    {
     "name": "stdout",
     "output_type": "stream",
     "text": [
      "Trial 4 Epoch 1: Train Loss: 0.6955, Val Accuracy: 50.00%\n",
      "Trial 4 Epoch 2: Train Loss: 0.6923, Val Accuracy: 70.59%\n",
      "Trial 4 Epoch 3: Train Loss: 0.6897, Val Accuracy: 50.00%\n",
      "Trial 4 Epoch 4: Train Loss: 0.6882, Val Accuracy: 73.53%\n",
      "Trial 4 Epoch 5: Train Loss: 0.6812, Val Accuracy: 55.88%\n",
      "Trial 4 Epoch 6: Train Loss: 0.6737, Val Accuracy: 55.88%\n",
      "Trial 4 Epoch 7: Train Loss: 0.6618, Val Accuracy: 61.76%\n",
      "Trial 4 Epoch 8: Train Loss: 0.6441, Val Accuracy: 61.76%\n",
      "Trial 4 Epoch 9: Train Loss: 0.6239, Val Accuracy: 55.88%\n",
      "Trial 4 Epoch 10: Train Loss: 0.5853, Val Accuracy: 61.76%\n",
      "Trial 4 Epoch 11: Train Loss: 0.5455, Val Accuracy: 61.76%\n",
      "Trial 4 Epoch 12: Train Loss: 0.4986, Val Accuracy: 61.76%\n",
      "Trial 4 Epoch 13: Train Loss: 0.4601, Val Accuracy: 70.59%\n",
      "Trial 4 Epoch 14: Train Loss: 0.4559, Val Accuracy: 67.65%\n",
      "Trial 4 Epoch 15: Train Loss: 0.5376, Val Accuracy: 76.47%\n",
      "Trial 4 Epoch 16: Train Loss: 0.4241, Val Accuracy: 76.47%\n",
      "Trial 4 Epoch 17: Train Loss: 0.4213, Val Accuracy: 64.71%\n",
      "Trial 4 Epoch 18: Train Loss: 0.3628, Val Accuracy: 76.47%\n",
      "Trial 4 Epoch 19: Train Loss: 0.3646, Val Accuracy: 73.53%\n",
      "Trial 4 Epoch 20: Train Loss: 0.3431, Val Accuracy: 76.47%\n",
      "Testing params: {'learning_rate': 0.0001, 'batch_size': 8, 'conv1_out_channels': 16, 'conv2_out_channels': 64, 'fc_neurons': 64}\n"
     ]
    },
    {
     "data": {
      "application/vnd.jupyter.widget-view+json": {
       "model_id": "dc47a3a9fae644f1ab66317b0590b19a",
       "version_major": 2,
       "version_minor": 0
      },
      "text/plain": [
       "Trial 5 Training:   0%|          | 0/20 [00:00<?, ?it/s]"
      ]
     },
     "metadata": {},
     "output_type": "display_data"
    },
    {
     "name": "stdout",
     "output_type": "stream",
     "text": [
      "Trial 5 Epoch 1: Train Loss: 0.6936, Val Accuracy: 50.00%\n",
      "Trial 5 Epoch 2: Train Loss: 0.6924, Val Accuracy: 50.00%\n",
      "Trial 5 Epoch 3: Train Loss: 0.6911, Val Accuracy: 50.00%\n",
      "Trial 5 Epoch 4: Train Loss: 0.6886, Val Accuracy: 76.47%\n",
      "Trial 5 Epoch 5: Train Loss: 0.6881, Val Accuracy: 55.88%\n",
      "Trial 5 Epoch 6: Train Loss: 0.6843, Val Accuracy: 55.88%\n",
      "Trial 5 Epoch 7: Train Loss: 0.6800, Val Accuracy: 76.47%\n",
      "Trial 5 Epoch 8: Train Loss: 0.6778, Val Accuracy: 61.76%\n",
      "Trial 5 Epoch 9: Train Loss: 0.6711, Val Accuracy: 55.88%\n",
      "Trial 5 Epoch 10: Train Loss: 0.6616, Val Accuracy: 76.47%\n",
      "Trial 5 Epoch 11: Train Loss: 0.6520, Val Accuracy: 76.47%\n",
      "Trial 5 Epoch 12: Train Loss: 0.6393, Val Accuracy: 67.65%\n",
      "Trial 5 Epoch 13: Train Loss: 0.6258, Val Accuracy: 61.76%\n",
      "Trial 5 Epoch 14: Train Loss: 0.6112, Val Accuracy: 76.47%\n",
      "Trial 5 Epoch 15: Train Loss: 0.6065, Val Accuracy: 70.59%\n",
      "Trial 5 Epoch 16: Train Loss: 0.6092, Val Accuracy: 61.76%\n",
      "Trial 5 Epoch 17: Train Loss: 0.5752, Val Accuracy: 73.53%\n",
      "Trial 5 Epoch 18: Train Loss: 0.5602, Val Accuracy: 76.47%\n",
      "Trial 5 Epoch 19: Train Loss: 0.5368, Val Accuracy: 76.47%\n",
      "Trial 5 Epoch 20: Train Loss: 0.5238, Val Accuracy: 76.47%\n",
      "Testing params: {'learning_rate': 0.0005, 'batch_size': 16, 'conv1_out_channels': 16, 'conv2_out_channels': 16, 'fc_neurons': 256}\n"
     ]
    },
    {
     "data": {
      "application/vnd.jupyter.widget-view+json": {
       "model_id": "e794839202b444a78cb90741c05d4079",
       "version_major": 2,
       "version_minor": 0
      },
      "text/plain": [
       "Trial 6 Training:   0%|          | 0/20 [00:00<?, ?it/s]"
      ]
     },
     "metadata": {},
     "output_type": "display_data"
    },
    {
     "name": "stdout",
     "output_type": "stream",
     "text": [
      "Trial 6 Epoch 1: Train Loss: 0.6999, Val Accuracy: 50.00%\n",
      "Trial 6 Epoch 2: Train Loss: 0.6954, Val Accuracy: 50.00%\n",
      "Trial 6 Epoch 3: Train Loss: 0.6920, Val Accuracy: 50.00%\n",
      "Trial 6 Epoch 4: Train Loss: 0.6909, Val Accuracy: 73.53%\n",
      "Trial 6 Epoch 5: Train Loss: 0.6898, Val Accuracy: 50.00%\n",
      "Trial 6 Epoch 6: Train Loss: 0.6874, Val Accuracy: 67.65%\n",
      "Trial 6 Epoch 7: Train Loss: 0.6845, Val Accuracy: 67.65%\n",
      "Trial 6 Epoch 8: Train Loss: 0.6792, Val Accuracy: 55.88%\n",
      "Trial 6 Epoch 9: Train Loss: 0.6692, Val Accuracy: 73.53%\n",
      "Trial 6 Epoch 10: Train Loss: 0.6607, Val Accuracy: 76.47%\n",
      "Trial 6 Epoch 11: Train Loss: 0.6363, Val Accuracy: 55.88%\n",
      "Trial 6 Epoch 12: Train Loss: 0.6241, Val Accuracy: 76.47%\n",
      "Trial 6 Epoch 13: Train Loss: 0.5807, Val Accuracy: 64.71%\n",
      "Trial 6 Epoch 14: Train Loss: 0.5589, Val Accuracy: 55.88%\n",
      "Trial 6 Epoch 15: Train Loss: 0.5410, Val Accuracy: 61.76%\n",
      "Trial 6 Epoch 16: Train Loss: 0.4770, Val Accuracy: 67.65%\n",
      "Trial 6 Epoch 17: Train Loss: 0.5031, Val Accuracy: 76.47%\n",
      "Trial 6 Epoch 18: Train Loss: 0.4146, Val Accuracy: 64.71%\n",
      "Trial 6 Epoch 19: Train Loss: 0.4477, Val Accuracy: 73.53%\n",
      "Trial 6 Epoch 20: Train Loss: 0.4166, Val Accuracy: 76.47%\n",
      "Testing params: {'learning_rate': 0.001, 'batch_size': 32, 'conv1_out_channels': 8, 'conv2_out_channels': 16, 'fc_neurons': 64}\n"
     ]
    },
    {
     "data": {
      "application/vnd.jupyter.widget-view+json": {
       "model_id": "8b3eea46fc09495d8901547c01f22e96",
       "version_major": 2,
       "version_minor": 0
      },
      "text/plain": [
       "Trial 7 Training:   0%|          | 0/20 [00:00<?, ?it/s]"
      ]
     },
     "metadata": {},
     "output_type": "display_data"
    },
    {
     "name": "stdout",
     "output_type": "stream",
     "text": [
      "Trial 7 Epoch 1: Train Loss: 0.7021, Val Accuracy: 50.00%\n",
      "Trial 7 Epoch 2: Train Loss: 0.6938, Val Accuracy: 50.00%\n",
      "Trial 7 Epoch 3: Train Loss: 0.6931, Val Accuracy: 50.00%\n",
      "Trial 7 Epoch 4: Train Loss: 0.6931, Val Accuracy: 50.00%\n",
      "Trial 7 Epoch 5: Train Loss: 0.6930, Val Accuracy: 50.00%\n",
      "Trial 7 Epoch 6: Train Loss: 0.6929, Val Accuracy: 50.00%\n",
      "Trial 7 Epoch 7: Train Loss: 0.6926, Val Accuracy: 50.00%\n",
      "Trial 7 Epoch 8: Train Loss: 0.6922, Val Accuracy: 50.00%\n",
      "Trial 7 Epoch 9: Train Loss: 0.6923, Val Accuracy: 50.00%\n",
      "Trial 7 Epoch 10: Train Loss: 0.6920, Val Accuracy: 50.00%\n",
      "Trial 7 Epoch 11: Train Loss: 0.6918, Val Accuracy: 50.00%\n",
      "Trial 7 Epoch 12: Train Loss: 0.6921, Val Accuracy: 50.00%\n",
      "Trial 7 Epoch 13: Train Loss: 0.6903, Val Accuracy: 50.00%\n",
      "Trial 7 Epoch 14: Train Loss: 0.6842, Val Accuracy: 50.00%\n",
      "Trial 7 Epoch 15: Train Loss: 0.6824, Val Accuracy: 64.71%\n",
      "Trial 7 Epoch 16: Train Loss: 0.6702, Val Accuracy: 61.76%\n",
      "Trial 7 Epoch 17: Train Loss: 0.6670, Val Accuracy: 50.00%\n",
      "Trial 7 Epoch 18: Train Loss: 0.6474, Val Accuracy: 67.65%\n",
      "Trial 7 Epoch 19: Train Loss: 0.6523, Val Accuracy: 55.88%\n",
      "Trial 7 Epoch 20: Train Loss: 0.6055, Val Accuracy: 50.00%\n",
      "Testing params: {'learning_rate': 0.001, 'batch_size': 32, 'conv1_out_channels': 16, 'conv2_out_channels': 64, 'fc_neurons': 64}\n"
     ]
    },
    {
     "data": {
      "application/vnd.jupyter.widget-view+json": {
       "model_id": "940d82415a324469b0d120511081e2be",
       "version_major": 2,
       "version_minor": 0
      },
      "text/plain": [
       "Trial 8 Training:   0%|          | 0/20 [00:00<?, ?it/s]"
      ]
     },
     "metadata": {},
     "output_type": "display_data"
    },
    {
     "name": "stdout",
     "output_type": "stream",
     "text": [
      "Trial 8 Epoch 1: Train Loss: 0.6949, Val Accuracy: 50.00%\n",
      "Trial 8 Epoch 2: Train Loss: 0.6924, Val Accuracy: 50.00%\n",
      "Trial 8 Epoch 3: Train Loss: 0.6893, Val Accuracy: 50.00%\n",
      "Trial 8 Epoch 4: Train Loss: 0.6865, Val Accuracy: 50.00%\n",
      "Trial 8 Epoch 5: Train Loss: 0.6815, Val Accuracy: 50.00%\n",
      "Trial 8 Epoch 6: Train Loss: 0.6743, Val Accuracy: 70.59%\n",
      "Trial 8 Epoch 7: Train Loss: 0.6666, Val Accuracy: 61.76%\n",
      "Trial 8 Epoch 8: Train Loss: 0.6512, Val Accuracy: 76.47%\n",
      "Trial 8 Epoch 9: Train Loss: 0.6383, Val Accuracy: 76.47%\n",
      "Trial 8 Epoch 10: Train Loss: 0.6092, Val Accuracy: 76.47%\n",
      "Trial 8 Epoch 11: Train Loss: 0.5725, Val Accuracy: 61.76%\n",
      "Trial 8 Epoch 12: Train Loss: 0.5303, Val Accuracy: 61.76%\n",
      "Trial 8 Epoch 13: Train Loss: 0.5462, Val Accuracy: 61.76%\n",
      "Trial 8 Epoch 14: Train Loss: 0.4915, Val Accuracy: 64.71%\n",
      "Trial 8 Epoch 15: Train Loss: 0.4420, Val Accuracy: 61.76%\n",
      "Trial 8 Epoch 16: Train Loss: 0.4163, Val Accuracy: 73.53%\n",
      "Trial 8 Epoch 17: Train Loss: 0.4048, Val Accuracy: 67.65%\n",
      "Trial 8 Epoch 18: Train Loss: 0.3910, Val Accuracy: 73.53%\n",
      "Trial 8 Epoch 19: Train Loss: 0.3989, Val Accuracy: 70.59%\n",
      "Trial 8 Epoch 20: Train Loss: 0.3633, Val Accuracy: 73.53%\n",
      "Testing params: {'learning_rate': 0.005, 'batch_size': 32, 'conv1_out_channels': 32, 'conv2_out_channels': 16, 'fc_neurons': 128}\n"
     ]
    },
    {
     "data": {
      "application/vnd.jupyter.widget-view+json": {
       "model_id": "e9589b47eb47448fad9860d6740aa08f",
       "version_major": 2,
       "version_minor": 0
      },
      "text/plain": [
       "Trial 9 Training:   0%|          | 0/20 [00:00<?, ?it/s]"
      ]
     },
     "metadata": {},
     "output_type": "display_data"
    },
    {
     "name": "stdout",
     "output_type": "stream",
     "text": [
      "Trial 9 Epoch 1: Train Loss: 0.7382, Val Accuracy: 50.00%\n",
      "Trial 9 Epoch 2: Train Loss: 0.6953, Val Accuracy: 50.00%\n",
      "Trial 9 Epoch 3: Train Loss: 0.6957, Val Accuracy: 50.00%\n",
      "Trial 9 Epoch 4: Train Loss: 0.6934, Val Accuracy: 50.00%\n",
      "Trial 9 Epoch 5: Train Loss: 0.6936, Val Accuracy: 50.00%\n",
      "Trial 9 Epoch 6: Train Loss: 0.6939, Val Accuracy: 50.00%\n",
      "Trial 9 Epoch 7: Train Loss: 0.6932, Val Accuracy: 50.00%\n",
      "Trial 9 Epoch 8: Train Loss: 0.6927, Val Accuracy: 50.00%\n",
      "Trial 9 Epoch 9: Train Loss: 0.6906, Val Accuracy: 50.00%\n",
      "Trial 9 Epoch 10: Train Loss: 0.6819, Val Accuracy: 70.59%\n",
      "Trial 9 Epoch 11: Train Loss: 0.6576, Val Accuracy: 61.76%\n",
      "Trial 9 Epoch 12: Train Loss: 0.5986, Val Accuracy: 55.88%\n",
      "Trial 9 Epoch 13: Train Loss: 0.6565, Val Accuracy: 50.00%\n",
      "Trial 9 Epoch 14: Train Loss: 0.6515, Val Accuracy: 73.53%\n",
      "Trial 9 Epoch 15: Train Loss: 0.6029, Val Accuracy: 64.71%\n",
      "Trial 9 Epoch 16: Train Loss: 0.5316, Val Accuracy: 55.88%\n",
      "Trial 9 Epoch 17: Train Loss: 0.5215, Val Accuracy: 64.71%\n",
      "Trial 9 Epoch 18: Train Loss: 0.4727, Val Accuracy: 52.94%\n",
      "Trial 9 Epoch 19: Train Loss: 0.4955, Val Accuracy: 76.47%\n",
      "Trial 9 Epoch 20: Train Loss: 0.4855, Val Accuracy: 61.76%\n",
      "Testing params: {'learning_rate': 0.001, 'batch_size': 16, 'conv1_out_channels': 16, 'conv2_out_channels': 16, 'fc_neurons': 128}\n"
     ]
    },
    {
     "data": {
      "application/vnd.jupyter.widget-view+json": {
       "model_id": "2de422c33b8445bbb733f1b635ca2032",
       "version_major": 2,
       "version_minor": 0
      },
      "text/plain": [
       "Trial 10 Training:   0%|          | 0/20 [00:00<?, ?it/s]"
      ]
     },
     "metadata": {},
     "output_type": "display_data"
    },
    {
     "name": "stdout",
     "output_type": "stream",
     "text": [
      "Trial 10 Epoch 1: Train Loss: 0.6970, Val Accuracy: 50.00%\n",
      "Trial 10 Epoch 2: Train Loss: 0.6916, Val Accuracy: 50.00%\n",
      "Trial 10 Epoch 3: Train Loss: 0.6908, Val Accuracy: 50.00%\n",
      "Trial 10 Epoch 4: Train Loss: 0.6843, Val Accuracy: 70.59%\n",
      "Trial 10 Epoch 5: Train Loss: 0.6729, Val Accuracy: 70.59%\n",
      "Trial 10 Epoch 6: Train Loss: 0.6518, Val Accuracy: 76.47%\n",
      "Trial 10 Epoch 7: Train Loss: 0.6084, Val Accuracy: 64.71%\n",
      "Trial 10 Epoch 8: Train Loss: 0.5690, Val Accuracy: 67.65%\n",
      "Trial 10 Epoch 9: Train Loss: 0.5067, Val Accuracy: 61.76%\n",
      "Trial 10 Epoch 10: Train Loss: 0.4454, Val Accuracy: 70.59%\n",
      "Trial 10 Epoch 11: Train Loss: 0.4300, Val Accuracy: 73.53%\n",
      "Trial 10 Epoch 12: Train Loss: 0.4241, Val Accuracy: 61.76%\n",
      "Trial 10 Epoch 13: Train Loss: 0.4504, Val Accuracy: 64.71%\n",
      "Trial 10 Epoch 14: Train Loss: 0.3870, Val Accuracy: 61.76%\n",
      "Trial 10 Epoch 15: Train Loss: 0.4320, Val Accuracy: 76.47%\n",
      "Trial 10 Epoch 16: Train Loss: 0.3633, Val Accuracy: 76.47%\n",
      "Trial 10 Epoch 17: Train Loss: 0.3361, Val Accuracy: 76.47%\n",
      "Trial 10 Epoch 18: Train Loss: 0.3135, Val Accuracy: 70.59%\n",
      "Trial 10 Epoch 19: Train Loss: 0.3284, Val Accuracy: 79.41%\n",
      "Trial 10 Epoch 20: Train Loss: 0.3022, Val Accuracy: 79.41%\n",
      "Testing params: {'learning_rate': 0.005, 'batch_size': 8, 'conv1_out_channels': 16, 'conv2_out_channels': 64, 'fc_neurons': 256}\n"
     ]
    },
    {
     "data": {
      "application/vnd.jupyter.widget-view+json": {
       "model_id": "833bb69b679b4ae6aea65e02995c5621",
       "version_major": 2,
       "version_minor": 0
      },
      "text/plain": [
       "Trial 11 Training:   0%|          | 0/20 [00:00<?, ?it/s]"
      ]
     },
     "metadata": {},
     "output_type": "display_data"
    },
    {
     "name": "stdout",
     "output_type": "stream",
     "text": [
      "Trial 11 Epoch 1: Train Loss: 0.8445, Val Accuracy: 50.00%\n",
      "Trial 11 Epoch 2: Train Loss: 0.6956, Val Accuracy: 50.00%\n",
      "Trial 11 Epoch 3: Train Loss: 0.6916, Val Accuracy: 50.00%\n",
      "Trial 11 Epoch 4: Train Loss: 0.6540, Val Accuracy: 67.65%\n",
      "Trial 11 Epoch 5: Train Loss: 0.4970, Val Accuracy: 64.71%\n",
      "Trial 11 Epoch 6: Train Loss: 0.6519, Val Accuracy: 61.76%\n",
      "Trial 11 Epoch 7: Train Loss: 0.5184, Val Accuracy: 73.53%\n",
      "Trial 11 Epoch 8: Train Loss: 0.4763, Val Accuracy: 47.06%\n",
      "Trial 11 Epoch 9: Train Loss: 0.4665, Val Accuracy: 64.71%\n",
      "Trial 11 Epoch 10: Train Loss: 0.4322, Val Accuracy: 64.71%\n",
      "Trial 11 Epoch 11: Train Loss: 0.3649, Val Accuracy: 67.65%\n",
      "Trial 11 Epoch 12: Train Loss: 0.3364, Val Accuracy: 73.53%\n",
      "Trial 11 Epoch 13: Train Loss: 0.3561, Val Accuracy: 79.41%\n",
      "Trial 11 Epoch 14: Train Loss: 0.4326, Val Accuracy: 76.47%\n",
      "Trial 11 Epoch 15: Train Loss: 0.3547, Val Accuracy: 73.53%\n",
      "Trial 11 Epoch 16: Train Loss: 0.3746, Val Accuracy: 79.41%\n",
      "Trial 11 Epoch 17: Train Loss: 0.2879, Val Accuracy: 79.41%\n",
      "Trial 11 Epoch 18: Train Loss: 0.2588, Val Accuracy: 79.41%\n",
      "Trial 11 Epoch 19: Train Loss: 0.2650, Val Accuracy: 88.24%\n",
      "Trial 11 Epoch 20: Train Loss: 0.2367, Val Accuracy: 82.35%\n",
      "Testing params: {'learning_rate': 0.0005, 'batch_size': 8, 'conv1_out_channels': 32, 'conv2_out_channels': 16, 'fc_neurons': 64}\n"
     ]
    },
    {
     "data": {
      "application/vnd.jupyter.widget-view+json": {
       "model_id": "e825c1756aa24050a952f171bc9d4f28",
       "version_major": 2,
       "version_minor": 0
      },
      "text/plain": [
       "Trial 12 Training:   0%|          | 0/20 [00:00<?, ?it/s]"
      ]
     },
     "metadata": {},
     "output_type": "display_data"
    },
    {
     "name": "stdout",
     "output_type": "stream",
     "text": [
      "Trial 12 Epoch 1: Train Loss: 0.6965, Val Accuracy: 61.76%\n",
      "Trial 12 Epoch 2: Train Loss: 0.6946, Val Accuracy: 50.00%\n",
      "Trial 12 Epoch 3: Train Loss: 0.6890, Val Accuracy: 70.59%\n",
      "Trial 12 Epoch 4: Train Loss: 0.6851, Val Accuracy: 55.88%\n",
      "Trial 12 Epoch 5: Train Loss: 0.6720, Val Accuracy: 61.76%\n",
      "Trial 12 Epoch 6: Train Loss: 0.6466, Val Accuracy: 70.59%\n",
      "Trial 12 Epoch 7: Train Loss: 0.6014, Val Accuracy: 64.71%\n",
      "Trial 12 Epoch 8: Train Loss: 0.5445, Val Accuracy: 55.88%\n",
      "Trial 12 Epoch 9: Train Loss: 0.4953, Val Accuracy: 73.53%\n",
      "Trial 12 Epoch 10: Train Loss: 0.4364, Val Accuracy: 67.65%\n",
      "Trial 12 Epoch 11: Train Loss: 0.4426, Val Accuracy: 76.47%\n",
      "Trial 12 Epoch 12: Train Loss: 0.3912, Val Accuracy: 70.59%\n",
      "Trial 12 Epoch 13: Train Loss: 0.3601, Val Accuracy: 79.41%\n",
      "Trial 12 Epoch 14: Train Loss: 0.4469, Val Accuracy: 76.47%\n",
      "Trial 12 Epoch 15: Train Loss: 0.3581, Val Accuracy: 73.53%\n",
      "Trial 12 Epoch 16: Train Loss: 0.3680, Val Accuracy: 79.41%\n",
      "Trial 12 Epoch 17: Train Loss: 0.3310, Val Accuracy: 73.53%\n",
      "Trial 12 Epoch 18: Train Loss: 0.3180, Val Accuracy: 73.53%\n",
      "Trial 12 Epoch 19: Train Loss: 0.3611, Val Accuracy: 76.47%\n",
      "Trial 12 Epoch 20: Train Loss: 0.2996, Val Accuracy: 79.41%\n",
      "Testing params: {'learning_rate': 0.001, 'batch_size': 16, 'conv1_out_channels': 8, 'conv2_out_channels': 64, 'fc_neurons': 256}\n"
     ]
    },
    {
     "data": {
      "application/vnd.jupyter.widget-view+json": {
       "model_id": "2756228bdbf14362959cd0e1a681ff85",
       "version_major": 2,
       "version_minor": 0
      },
      "text/plain": [
       "Trial 13 Training:   0%|          | 0/20 [00:00<?, ?it/s]"
      ]
     },
     "metadata": {},
     "output_type": "display_data"
    },
    {
     "name": "stdout",
     "output_type": "stream",
     "text": [
      "Trial 13 Epoch 1: Train Loss: 0.7094, Val Accuracy: 50.00%\n",
      "Trial 13 Epoch 2: Train Loss: 0.6933, Val Accuracy: 50.00%\n",
      "Trial 13 Epoch 3: Train Loss: 0.6934, Val Accuracy: 50.00%\n",
      "Trial 13 Epoch 4: Train Loss: 0.6933, Val Accuracy: 50.00%\n",
      "Trial 13 Epoch 5: Train Loss: 0.6933, Val Accuracy: 50.00%\n",
      "Trial 13 Epoch 6: Train Loss: 0.6934, Val Accuracy: 50.00%\n",
      "Trial 13 Epoch 7: Train Loss: 0.6932, Val Accuracy: 50.00%\n",
      "Trial 13 Epoch 8: Train Loss: 0.6928, Val Accuracy: 50.00%\n",
      "Trial 13 Epoch 9: Train Loss: 0.6923, Val Accuracy: 64.71%\n",
      "Trial 13 Epoch 10: Train Loss: 0.6928, Val Accuracy: 50.00%\n",
      "Trial 13 Epoch 11: Train Loss: 0.6901, Val Accuracy: 50.00%\n",
      "Trial 13 Epoch 12: Train Loss: 0.6863, Val Accuracy: 50.00%\n",
      "Trial 13 Epoch 13: Train Loss: 0.6885, Val Accuracy: 61.76%\n",
      "Trial 13 Epoch 14: Train Loss: 0.6818, Val Accuracy: 52.94%\n",
      "Trial 13 Epoch 15: Train Loss: 0.6659, Val Accuracy: 70.59%\n",
      "Trial 13 Epoch 16: Train Loss: 0.6370, Val Accuracy: 70.59%\n",
      "Trial 13 Epoch 17: Train Loss: 0.5970, Val Accuracy: 67.65%\n",
      "Trial 13 Epoch 18: Train Loss: 0.5408, Val Accuracy: 61.76%\n",
      "Trial 13 Epoch 19: Train Loss: 0.4931, Val Accuracy: 76.47%\n",
      "Trial 13 Epoch 20: Train Loss: 0.4587, Val Accuracy: 76.47%\n",
      "Testing params: {'learning_rate': 0.001, 'batch_size': 16, 'conv1_out_channels': 16, 'conv2_out_channels': 32, 'fc_neurons': 256}\n"
     ]
    },
    {
     "data": {
      "application/vnd.jupyter.widget-view+json": {
       "model_id": "a739075a8c3b4b6e8e99d80ff60e759c",
       "version_major": 2,
       "version_minor": 0
      },
      "text/plain": [
       "Trial 14 Training:   0%|          | 0/20 [00:00<?, ?it/s]"
      ]
     },
     "metadata": {},
     "output_type": "display_data"
    },
    {
     "name": "stdout",
     "output_type": "stream",
     "text": [
      "Trial 14 Epoch 1: Train Loss: 0.7126, Val Accuracy: 50.00%\n",
      "Trial 14 Epoch 2: Train Loss: 0.6949, Val Accuracy: 50.00%\n",
      "Trial 14 Epoch 3: Train Loss: 0.6937, Val Accuracy: 50.00%\n",
      "Trial 14 Epoch 4: Train Loss: 0.6943, Val Accuracy: 50.00%\n",
      "Trial 14 Epoch 5: Train Loss: 0.6920, Val Accuracy: 50.00%\n",
      "Trial 14 Epoch 6: Train Loss: 0.6878, Val Accuracy: 50.00%\n",
      "Trial 14 Epoch 7: Train Loss: 0.6795, Val Accuracy: 70.59%\n",
      "Trial 14 Epoch 8: Train Loss: 0.6678, Val Accuracy: 61.76%\n",
      "Trial 14 Epoch 9: Train Loss: 0.6310, Val Accuracy: 64.71%\n",
      "Trial 14 Epoch 10: Train Loss: 0.5711, Val Accuracy: 64.71%\n",
      "Trial 14 Epoch 11: Train Loss: 0.5047, Val Accuracy: 61.76%\n",
      "Trial 14 Epoch 12: Train Loss: 0.4771, Val Accuracy: 76.47%\n",
      "Trial 14 Epoch 13: Train Loss: 0.4548, Val Accuracy: 67.65%\n",
      "Trial 14 Epoch 14: Train Loss: 0.4164, Val Accuracy: 61.76%\n",
      "Trial 14 Epoch 15: Train Loss: 0.4048, Val Accuracy: 76.47%\n",
      "Trial 14 Epoch 16: Train Loss: 0.3917, Val Accuracy: 61.76%\n",
      "Trial 14 Epoch 17: Train Loss: 0.3702, Val Accuracy: 76.47%\n",
      "Trial 14 Epoch 18: Train Loss: 0.3426, Val Accuracy: 76.47%\n",
      "Trial 14 Epoch 19: Train Loss: 0.3265, Val Accuracy: 76.47%\n",
      "Trial 14 Epoch 20: Train Loss: 0.3236, Val Accuracy: 79.41%\n",
      "Testing params: {'learning_rate': 0.0005, 'batch_size': 32, 'conv1_out_channels': 16, 'conv2_out_channels': 32, 'fc_neurons': 128}\n"
     ]
    },
    {
     "data": {
      "application/vnd.jupyter.widget-view+json": {
       "model_id": "74d3930fb5d94f1ab8e592a08249f17f",
       "version_major": 2,
       "version_minor": 0
      },
      "text/plain": [
       "Trial 15 Training:   0%|          | 0/20 [00:00<?, ?it/s]"
      ]
     },
     "metadata": {},
     "output_type": "display_data"
    },
    {
     "name": "stdout",
     "output_type": "stream",
     "text": [
      "Trial 15 Epoch 1: Train Loss: 0.6932, Val Accuracy: 58.82%\n",
      "Trial 15 Epoch 2: Train Loss: 0.6923, Val Accuracy: 50.00%\n",
      "Trial 15 Epoch 3: Train Loss: 0.6917, Val Accuracy: 50.00%\n",
      "Trial 15 Epoch 4: Train Loss: 0.6891, Val Accuracy: 61.76%\n",
      "Trial 15 Epoch 5: Train Loss: 0.6893, Val Accuracy: 50.00%\n",
      "Trial 15 Epoch 6: Train Loss: 0.6855, Val Accuracy: 58.82%\n",
      "Trial 15 Epoch 7: Train Loss: 0.6815, Val Accuracy: 50.00%\n",
      "Trial 15 Epoch 8: Train Loss: 0.6826, Val Accuracy: 50.00%\n",
      "Trial 15 Epoch 9: Train Loss: 0.6811, Val Accuracy: 61.76%\n",
      "Trial 15 Epoch 10: Train Loss: 0.6708, Val Accuracy: 64.71%\n",
      "Trial 15 Epoch 11: Train Loss: 0.6654, Val Accuracy: 55.88%\n",
      "Trial 15 Epoch 12: Train Loss: 0.6589, Val Accuracy: 61.76%\n",
      "Trial 15 Epoch 13: Train Loss: 0.6431, Val Accuracy: 61.76%\n",
      "Trial 15 Epoch 14: Train Loss: 0.6359, Val Accuracy: 70.59%\n",
      "Trial 15 Epoch 15: Train Loss: 0.6187, Val Accuracy: 67.65%\n",
      "Trial 15 Epoch 16: Train Loss: 0.5995, Val Accuracy: 76.47%\n",
      "Trial 15 Epoch 17: Train Loss: 0.5740, Val Accuracy: 64.71%\n",
      "Trial 15 Epoch 18: Train Loss: 0.5456, Val Accuracy: 76.47%\n",
      "Trial 15 Epoch 19: Train Loss: 0.5386, Val Accuracy: 67.65%\n",
      "Trial 15 Epoch 20: Train Loss: 0.4844, Val Accuracy: 55.88%\n",
      "Testing params: {'learning_rate': 0.01, 'batch_size': 16, 'conv1_out_channels': 32, 'conv2_out_channels': 16, 'fc_neurons': 256}\n"
     ]
    },
    {
     "data": {
      "application/vnd.jupyter.widget-view+json": {
       "model_id": "b6d4a384ed7047d0b6a393f08694d75c",
       "version_major": 2,
       "version_minor": 0
      },
      "text/plain": [
       "Trial 16 Training:   0%|          | 0/20 [00:00<?, ?it/s]"
      ]
     },
     "metadata": {},
     "output_type": "display_data"
    },
    {
     "name": "stdout",
     "output_type": "stream",
     "text": [
      "Trial 16 Epoch 1: Train Loss: 0.6775, Val Accuracy: 50.00%\n",
      "Trial 16 Epoch 2: Train Loss: 0.6954, Val Accuracy: 50.00%\n",
      "Trial 16 Epoch 3: Train Loss: 0.6902, Val Accuracy: 58.82%\n",
      "Trial 16 Epoch 4: Train Loss: 0.6502, Val Accuracy: 64.71%\n",
      "Trial 16 Epoch 5: Train Loss: 0.5792, Val Accuracy: 61.76%\n",
      "Trial 16 Epoch 6: Train Loss: 0.4636, Val Accuracy: 61.76%\n",
      "Trial 16 Epoch 7: Train Loss: 0.6837, Val Accuracy: 64.71%\n",
      "Trial 16 Epoch 8: Train Loss: 0.4942, Val Accuracy: 79.41%\n",
      "Trial 16 Epoch 9: Train Loss: 0.4386, Val Accuracy: 76.47%\n",
      "Trial 16 Epoch 10: Train Loss: 0.4280, Val Accuracy: 76.47%\n",
      "Trial 16 Epoch 11: Train Loss: 0.3225, Val Accuracy: 79.41%\n",
      "Trial 16 Epoch 12: Train Loss: 0.2286, Val Accuracy: 79.41%\n",
      "Trial 16 Epoch 13: Train Loss: 0.2787, Val Accuracy: 79.41%\n",
      "Trial 16 Epoch 14: Train Loss: 0.3893, Val Accuracy: 79.41%\n",
      "Trial 16 Epoch 15: Train Loss: 0.3305, Val Accuracy: 79.41%\n",
      "Trial 16 Epoch 16: Train Loss: 0.3130, Val Accuracy: 88.24%\n",
      "Trial 16 Epoch 17: Train Loss: 0.1900, Val Accuracy: 88.24%\n",
      "Trial 16 Epoch 18: Train Loss: 0.1779, Val Accuracy: 88.24%\n",
      "Trial 16 Epoch 19: Train Loss: 0.1652, Val Accuracy: 88.24%\n",
      "Trial 16 Epoch 20: Train Loss: 0.1659, Val Accuracy: 88.24%\n",
      "Testing params: {'learning_rate': 0.0005, 'batch_size': 32, 'conv1_out_channels': 8, 'conv2_out_channels': 16, 'fc_neurons': 64}\n"
     ]
    },
    {
     "data": {
      "application/vnd.jupyter.widget-view+json": {
       "model_id": "9d27eb43892f4aa7a005cb21076af321",
       "version_major": 2,
       "version_minor": 0
      },
      "text/plain": [
       "Trial 17 Training:   0%|          | 0/20 [00:00<?, ?it/s]"
      ]
     },
     "metadata": {},
     "output_type": "display_data"
    },
    {
     "name": "stdout",
     "output_type": "stream",
     "text": [
      "Trial 17 Epoch 1: Train Loss: 0.6942, Val Accuracy: 50.00%\n",
      "Trial 17 Epoch 2: Train Loss: 0.6927, Val Accuracy: 50.00%\n",
      "Trial 17 Epoch 3: Train Loss: 0.6911, Val Accuracy: 50.00%\n",
      "Trial 17 Epoch 4: Train Loss: 0.6898, Val Accuracy: 52.94%\n",
      "Trial 17 Epoch 5: Train Loss: 0.6876, Val Accuracy: 61.76%\n",
      "Trial 17 Epoch 6: Train Loss: 0.6869, Val Accuracy: 55.88%\n",
      "Trial 17 Epoch 7: Train Loss: 0.6847, Val Accuracy: 50.00%\n",
      "Trial 17 Epoch 8: Train Loss: 0.6815, Val Accuracy: 50.00%\n",
      "Trial 17 Epoch 9: Train Loss: 0.6781, Val Accuracy: 61.76%\n",
      "Trial 17 Epoch 10: Train Loss: 0.6734, Val Accuracy: 67.65%\n",
      "Trial 17 Epoch 11: Train Loss: 0.6697, Val Accuracy: 55.88%\n",
      "Trial 17 Epoch 12: Train Loss: 0.6629, Val Accuracy: 67.65%\n",
      "Trial 17 Epoch 13: Train Loss: 0.6537, Val Accuracy: 61.76%\n",
      "Trial 17 Epoch 14: Train Loss: 0.6477, Val Accuracy: 50.00%\n",
      "Trial 17 Epoch 15: Train Loss: 0.6441, Val Accuracy: 76.47%\n",
      "Trial 17 Epoch 16: Train Loss: 0.6265, Val Accuracy: 52.94%\n",
      "Trial 17 Epoch 17: Train Loss: 0.6077, Val Accuracy: 70.59%\n",
      "Trial 17 Epoch 18: Train Loss: 0.5957, Val Accuracy: 67.65%\n",
      "Trial 17 Epoch 19: Train Loss: 0.5701, Val Accuracy: 61.76%\n",
      "Trial 17 Epoch 20: Train Loss: 0.5627, Val Accuracy: 67.65%\n",
      "Testing params: {'learning_rate': 0.0001, 'batch_size': 8, 'conv1_out_channels': 32, 'conv2_out_channels': 16, 'fc_neurons': 256}\n"
     ]
    },
    {
     "data": {
      "application/vnd.jupyter.widget-view+json": {
       "model_id": "6eaa9155e58541c2bee331e17680a9c8",
       "version_major": 2,
       "version_minor": 0
      },
      "text/plain": [
       "Trial 18 Training:   0%|          | 0/20 [00:00<?, ?it/s]"
      ]
     },
     "metadata": {},
     "output_type": "display_data"
    },
    {
     "name": "stdout",
     "output_type": "stream",
     "text": [
      "Trial 18 Epoch 1: Train Loss: 0.6947, Val Accuracy: 50.00%\n",
      "Trial 18 Epoch 2: Train Loss: 0.6924, Val Accuracy: 50.00%\n",
      "Trial 18 Epoch 3: Train Loss: 0.6914, Val Accuracy: 50.00%\n",
      "Trial 18 Epoch 4: Train Loss: 0.6897, Val Accuracy: 67.65%\n",
      "Trial 18 Epoch 5: Train Loss: 0.6886, Val Accuracy: 50.00%\n",
      "Trial 18 Epoch 6: Train Loss: 0.6875, Val Accuracy: 50.00%\n",
      "Trial 18 Epoch 7: Train Loss: 0.6831, Val Accuracy: 76.47%\n",
      "Trial 18 Epoch 8: Train Loss: 0.6799, Val Accuracy: 61.76%\n",
      "Trial 18 Epoch 9: Train Loss: 0.6740, Val Accuracy: 55.88%\n",
      "Trial 18 Epoch 10: Train Loss: 0.6675, Val Accuracy: 76.47%\n",
      "Trial 18 Epoch 11: Train Loss: 0.6580, Val Accuracy: 67.65%\n",
      "Trial 18 Epoch 12: Train Loss: 0.6475, Val Accuracy: 61.76%\n",
      "Trial 18 Epoch 13: Train Loss: 0.6324, Val Accuracy: 76.47%\n",
      "Trial 18 Epoch 14: Train Loss: 0.6257, Val Accuracy: 76.47%\n",
      "Trial 18 Epoch 15: Train Loss: 0.5963, Val Accuracy: 61.76%\n",
      "Trial 18 Epoch 16: Train Loss: 0.5698, Val Accuracy: 73.53%\n",
      "Trial 18 Epoch 17: Train Loss: 0.5420, Val Accuracy: 64.71%\n",
      "Trial 18 Epoch 18: Train Loss: 0.5137, Val Accuracy: 61.76%\n",
      "Trial 18 Epoch 19: Train Loss: 0.4921, Val Accuracy: 61.76%\n",
      "Trial 18 Epoch 20: Train Loss: 0.4704, Val Accuracy: 76.47%\n",
      "Testing params: {'learning_rate': 0.001, 'batch_size': 8, 'conv1_out_channels': 32, 'conv2_out_channels': 32, 'fc_neurons': 256}\n"
     ]
    },
    {
     "data": {
      "application/vnd.jupyter.widget-view+json": {
       "model_id": "903c8b7cd4fb4b0686cf80720d7cfc7d",
       "version_major": 2,
       "version_minor": 0
      },
      "text/plain": [
       "Trial 19 Training:   0%|          | 0/20 [00:00<?, ?it/s]"
      ]
     },
     "metadata": {},
     "output_type": "display_data"
    },
    {
     "name": "stdout",
     "output_type": "stream",
     "text": [
      "Trial 19 Epoch 1: Train Loss: 0.6985, Val Accuracy: 50.00%\n",
      "Trial 19 Epoch 2: Train Loss: 0.6907, Val Accuracy: 55.88%\n",
      "Trial 19 Epoch 3: Train Loss: 0.6809, Val Accuracy: 61.76%\n",
      "Trial 19 Epoch 4: Train Loss: 0.6405, Val Accuracy: 70.59%\n",
      "Trial 19 Epoch 5: Train Loss: 0.5781, Val Accuracy: 50.00%\n",
      "Trial 19 Epoch 6: Train Loss: 0.5769, Val Accuracy: 61.76%\n",
      "Trial 19 Epoch 7: Train Loss: 0.4884, Val Accuracy: 55.88%\n",
      "Trial 19 Epoch 8: Train Loss: 0.4928, Val Accuracy: 55.88%\n",
      "Trial 19 Epoch 9: Train Loss: 0.4415, Val Accuracy: 61.76%\n",
      "Trial 19 Epoch 10: Train Loss: 0.3902, Val Accuracy: 64.71%\n",
      "Trial 19 Epoch 11: Train Loss: 0.3974, Val Accuracy: 73.53%\n",
      "Trial 19 Epoch 12: Train Loss: 0.3568, Val Accuracy: 76.47%\n",
      "Trial 19 Epoch 13: Train Loss: 0.3836, Val Accuracy: 73.53%\n",
      "Trial 19 Epoch 14: Train Loss: 0.3301, Val Accuracy: 79.41%\n",
      "Trial 19 Epoch 15: Train Loss: 0.3058, Val Accuracy: 76.47%\n",
      "Trial 19 Epoch 16: Train Loss: 0.3330, Val Accuracy: 73.53%\n",
      "Trial 19 Epoch 17: Train Loss: 0.3515, Val Accuracy: 79.41%\n",
      "Trial 19 Epoch 18: Train Loss: 0.2822, Val Accuracy: 79.41%\n",
      "Trial 19 Epoch 19: Train Loss: 0.2589, Val Accuracy: 82.35%\n",
      "Trial 19 Epoch 20: Train Loss: 0.2510, Val Accuracy: 85.29%\n",
      "Testing params: {'learning_rate': 0.0005, 'batch_size': 16, 'conv1_out_channels': 32, 'conv2_out_channels': 64, 'fc_neurons': 128}\n"
     ]
    },
    {
     "data": {
      "application/vnd.jupyter.widget-view+json": {
       "model_id": "544f67cf065b49cabc4844e9ee1947bc",
       "version_major": 2,
       "version_minor": 0
      },
      "text/plain": [
       "Trial 20 Training:   0%|          | 0/20 [00:00<?, ?it/s]"
      ]
     },
     "metadata": {},
     "output_type": "display_data"
    },
    {
     "name": "stdout",
     "output_type": "stream",
     "text": [
      "Trial 20 Epoch 1: Train Loss: 0.6984, Val Accuracy: 50.00%\n",
      "Trial 20 Epoch 2: Train Loss: 0.6921, Val Accuracy: 50.00%\n",
      "Trial 20 Epoch 3: Train Loss: 0.6901, Val Accuracy: 50.00%\n",
      "Trial 20 Epoch 4: Train Loss: 0.6811, Val Accuracy: 61.76%\n",
      "Trial 20 Epoch 5: Train Loss: 0.6684, Val Accuracy: 67.65%\n",
      "Trial 20 Epoch 6: Train Loss: 0.6509, Val Accuracy: 73.53%\n",
      "Trial 20 Epoch 7: Train Loss: 0.6073, Val Accuracy: 61.76%\n",
      "Trial 20 Epoch 8: Train Loss: 0.5671, Val Accuracy: 76.47%\n",
      "Trial 20 Epoch 9: Train Loss: 0.5172, Val Accuracy: 61.76%\n",
      "Trial 20 Epoch 10: Train Loss: 0.5068, Val Accuracy: 55.88%\n",
      "Trial 20 Epoch 11: Train Loss: 0.4415, Val Accuracy: 61.76%\n",
      "Trial 20 Epoch 12: Train Loss: 0.4099, Val Accuracy: 76.47%\n",
      "Trial 20 Epoch 13: Train Loss: 0.3921, Val Accuracy: 61.76%\n",
      "Trial 20 Epoch 14: Train Loss: 0.3929, Val Accuracy: 76.47%\n",
      "Trial 20 Epoch 15: Train Loss: 0.3559, Val Accuracy: 64.71%\n",
      "Trial 20 Epoch 16: Train Loss: 0.3463, Val Accuracy: 55.88%\n",
      "Trial 20 Epoch 17: Train Loss: 0.4147, Val Accuracy: 70.59%\n",
      "Trial 20 Epoch 18: Train Loss: 0.3073, Val Accuracy: 79.41%\n",
      "Trial 20 Epoch 19: Train Loss: 0.3068, Val Accuracy: 76.47%\n",
      "Trial 20 Epoch 20: Train Loss: 0.3127, Val Accuracy: 76.47%\n",
      "\n",
      "Finished Hyperparameter Search.\n",
      "Best randomsearch model saved to best_randomsearch_cnn_model.pth\n"
     ]
    }
   ],
   "source": [
    "# Device configuration\n",
    "device = torch.device(\"cuda\" if torch.cuda.is_available() else \"cpu\")\n",
    "print(f\"Using device for hyperparameter tuning: {device}\")\n",
    "\n",
    "# Get image dimensions (C, H, W should be available from the previous cell or re-derived)\n",
    "if 'C' not in locals() or 'H' not in locals() or 'W' not in locals():\n",
    "    sample_img, _ = train_dataset[0]\n",
    "    C, H, W = sample_img.shape\n",
    "    print(f\"Re-detected image shape: Channels={C}, Height={H}, Width={W}\")\n",
    "\n",
    "# Hyperparameter search space\n",
    "param_space = {\n",
    "    'learning_rate': [0.0001, 0.0005, 0.001, 0.005, 0.01],\n",
    "    'batch_size': [8, 16, 32],\n",
    "    'conv1_out_channels': [8, 16, 32],\n",
    "    'conv2_out_channels': [16, 32, 64],\n",
    "    'fc_neurons': [64, 128, 256],\n",
    "}\n",
    "\n",
    "num_classes_hp = 2\n",
    "num_epochs_search = 20 # Fewer epochs for faster search, adjust as needed\n",
    "num_trials = 20 # Number of random hyperparameter sets to try\n",
    "\n",
    "best_hyperparams = None\n",
    "best_val_accuracy = -1.0\n",
    "best_model_state = None\n",
    "\n",
    "# Store history for the best model's learning curves\n",
    "best_model_train_losses = []\n",
    "best_model_val_accuracies = []\n",
    "\n",
    "for trial in tqdm(range(num_trials), desc=\"Hyperparameter Search Trials\", unit=\"trial\"):\n",
    "    # Randomly sample hyperparameters\n",
    "    current_params = {k: random.choice(v) for k, v in param_space.items()}\n",
    "    print(f\"Testing params: {current_params}\")\n",
    "\n",
    "    # DataLoaders with current batch size\n",
    "    pin_memory_flag_hp = True if device.type == 'cuda' else False\n",
    "    try:\n",
    "        current_train_loader = DataLoader(train_dataset, batch_size=current_params['batch_size'], shuffle=True, num_workers=2, pin_memory=pin_memory_flag_hp)\n",
    "        current_val_loader = DataLoader(test_dataset, batch_size=current_params['batch_size'], shuffle=False, num_workers=2, pin_memory=pin_memory_flag_hp)\n",
    "    except Exception as e:\n",
    "        print(f\"Error creating DataLoader, possibly due to batch size: {e}. Skipping trial.\")\n",
    "        continue\n",
    "\n",
    "\n",
    "    # Model\n",
    "    model_hp = SimpleCNN(input_channels=C, input_height=H, input_width=W, num_classes=num_classes_hp,\n",
    "                            conv1_out_channels=current_params['conv1_out_channels'],\n",
    "                            conv2_out_channels=current_params['conv2_out_channels'],\n",
    "                            fc_neurons=current_params['fc_neurons']).to(device)\n",
    "\n",
    "    criterion_hp = nn.BCEWithLogitsLoss()\n",
    "    \n",
    "    optimizer_hp = optim.Adam(model_hp.parameters(), lr=current_params['learning_rate'])\n",
    "\n",
    "    trial_train_losses = []\n",
    "    trial_val_accuracies = []\n",
    "\n",
    "    # Training loop\n",
    "    for epoch in tqdm(range(num_epochs_search), desc=f\"Trial {trial+1} Training\", leave=False):\n",
    "        model_hp.train()\n",
    "        epoch_running_loss = 0.0\n",
    "        for images, labels in current_train_loader:\n",
    "            images, labels = images.to(device), labels.to(device).float().unsqueeze(1)\n",
    "            optimizer_hp.zero_grad()\n",
    "            outputs = model_hp(images)\n",
    "            loss = criterion_hp(outputs, labels)\n",
    "            loss.backward()\n",
    "            optimizer_hp.step()\n",
    "            epoch_running_loss += loss.item() * images.size(0)\n",
    "        \n",
    "        avg_epoch_train_loss = epoch_running_loss / len(current_train_loader.dataset)\n",
    "        trial_train_losses.append(avg_epoch_train_loss)\n",
    "\n",
    "        # Validation\n",
    "        model_hp.eval()\n",
    "        val_correct = 0\n",
    "        val_total = 0\n",
    "        with torch.no_grad():\n",
    "            for images, labels in current_val_loader:\n",
    "                images, labels = images.to(device), labels.to(device).float().unsqueeze(1)\n",
    "                outputs = model_hp(images)\n",
    "                predicted = (torch.sigmoid(outputs) > 0.5).float()\n",
    "                val_total += labels.size(0)\n",
    "                val_correct += (predicted == labels).sum().item()\n",
    "        \n",
    "        current_epoch_val_accuracy = 100 * val_correct / val_total\n",
    "        trial_val_accuracies.append(current_epoch_val_accuracy)\n",
    "        \n",
    "        print(f\"Trial {trial+1} Epoch {epoch+1}: Train Loss: {avg_epoch_train_loss:.4f}, Val Accuracy: {current_epoch_val_accuracy:.2f}%\")\n",
    "\n",
    "    # Check if this trial is the best so far (based on final epoch's validation accuracy)\n",
    "    if trial_val_accuracies and current_epoch_val_accuracy > best_val_accuracy:\n",
    "        best_val_accuracy = current_epoch_val_accuracy\n",
    "        best_hyperparams = current_params\n",
    "        best_model_state = model_hp.state_dict() # Save the model state\n",
    "        best_model_train_losses = trial_train_losses # Save learning curves for this best model\n",
    "        best_model_val_accuracies = trial_val_accuracies\n",
    "        print(f\"New best model found! Val Accuracy: {best_val_accuracy:.2f}%, Params: {best_hyperparams}\")\n",
    "\n",
    "print(\"\\nFinished Hyperparameter Search.\")\n",
    "\n",
    "# Save the best model found during hyperparameter search\n",
    "best_randomsearch_model_path = \"best_randomsearch_cnn_model.pth\"\n",
    "torch.save(best_model_state, best_randomsearch_model_path)\n",
    "print(f\"Best randomsearch model saved to {best_randomsearch_model_path}\")\n",
    "   "
   ]
  },
  {
   "cell_type": "markdown",
   "id": "622afaba",
   "metadata": {},
   "source": [
    "#### Plots"
   ]
  },
  {
   "cell_type": "code",
   "execution_count": 12,
   "id": "70f6e76d",
   "metadata": {},
   "outputs": [
    {
     "name": "stdout",
     "output_type": "stream",
     "text": [
      "Best Validation Accuracy: 88.24%\n",
      "Best Hyperparameters: {'learning_rate': 0.01, 'batch_size': 8, 'conv1_out_channels': 32, 'conv2_out_channels': 32, 'fc_neurons': 128}\n"
     ]
    },
    {
     "data": {
      "image/png": "[encoded data removed]",
      "text/plain": [
       "<Figure size 1200x500 with 2 Axes>"
      ]
     },
     "metadata": {},
     "output_type": "display_data"
    }
   ],
   "source": [
    "print(f\"Best Validation Accuracy: {best_val_accuracy:.2f}%\")\n",
    "print(f\"Best Hyperparameters: {best_hyperparams}\")\n",
    "\n",
    "# Plotting learning curves for the best model from hyperparameter search\n",
    "plt.figure(figsize=(12, 5))\n",
    "\n",
    "plt.subplot(1, 2, 1)\n",
    "plt.plot(range(1, num_epochs_search + 1), best_model_train_losses, label='Best Model Training Loss')\n",
    "plt.xlabel('Epoch')\n",
    "plt.ylabel('Loss')\n",
    "plt.title('Best Model - Training Loss')\n",
    "plt.legend()\n",
    "\n",
    "plt.subplot(1, 2, 2)\n",
    "plt.plot(range(1, num_epochs_search + 1), best_model_val_accuracies, label='Best Model Validation Accuracy', color='red')\n",
    "plt.xlabel('Epoch')\n",
    "plt.ylabel('Accuracy (%)')\n",
    "plt.title('Best Model - Validation Accuracy')\n",
    "plt.legend()\n",
    "\n",
    "plt.tight_layout()\n",
    "plt.show()\n",
    "\n",
    "# Load the best model state for further use if needed:\n",
    "# model_best = SimpleCNN(input_channels=C, input_height=H, input_width=W, num_classes=num_classes_hp, **best_hyperparams_arch).to(device)\n",
    "# model_best.load_state_dict(best_model_state)\n",
    "# where best_hyperparams_arch = {k: v for k,v in best_hyperparams.items() if k in ['conv1_out_channels', 'conv2_out_channels', 'fc_neurons']}"
   ]
  },
  {
   "cell_type": "markdown",
   "id": "4038ab6b",
   "metadata": {},
   "source": [
    "### Method 2 - Optuna"
   ]
  },
  {
   "cell_type": "code",
   "execution_count": 13,
   "id": "74f1a1b5",
   "metadata": {},
   "outputs": [
    {
     "name": "stdout",
     "output_type": "stream",
     "text": [
      "Requirement already satisfied: optuna in /opt/anaconda3/envs/DDAI_311/lib/python3.11/site-packages (4.3.0)\n",
      "Requirement already satisfied: alembic>=1.5.0 in /opt/anaconda3/envs/DDAI_311/lib/python3.11/site-packages (from optuna) (1.16.1)\n",
      "Requirement already satisfied: colorlog in /opt/anaconda3/envs/DDAI_311/lib/python3.11/site-packages (from optuna) (6.9.0)\n",
      "Requirement already satisfied: numpy in /opt/anaconda3/envs/DDAI_311/lib/python3.11/site-packages (from optuna) (1.26.4)\n",
      "Requirement already satisfied: packaging>=20.0 in /opt/anaconda3/envs/DDAI_311/lib/python3.11/site-packages (from optuna) (24.2)\n",
      "Requirement already satisfied: sqlalchemy>=1.4.2 in /opt/anaconda3/envs/DDAI_311/lib/python3.11/site-packages (from optuna) (2.0.41)\n",
      "Requirement already satisfied: tqdm in /Users/yannick/.local/lib/python3.11/site-packages (from optuna) (4.67.1)\n",
      "Requirement already satisfied: PyYAML in /opt/anaconda3/envs/DDAI_311/lib/python3.11/site-packages (from optuna) (6.0.2)\n",
      "Requirement already satisfied: Mako in /opt/anaconda3/envs/DDAI_311/lib/python3.11/site-packages (from alembic>=1.5.0->optuna) (1.3.10)\n",
      "Requirement already satisfied: typing-extensions>=4.12 in /opt/anaconda3/envs/DDAI_311/lib/python3.11/site-packages (from alembic>=1.5.0->optuna) (4.12.2)\n",
      "Requirement already satisfied: MarkupSafe>=0.9.2 in /opt/anaconda3/envs/DDAI_311/lib/python3.11/site-packages (from Mako->alembic>=1.5.0->optuna) (3.0.2)\n",
      "\n",
      "\u001b[1m[\u001b[0m\u001b[34;49mnotice\u001b[0m\u001b[1;39;49m]\u001b[0m\u001b[39;49m A new release of pip is available: \u001b[0m\u001b[31;49m25.0.1\u001b[0m\u001b[39;49m -> \u001b[0m\u001b[32;49m25.1.1\u001b[0m\n",
      "\u001b[1m[\u001b[0m\u001b[34;49mnotice\u001b[0m\u001b[1;39;49m]\u001b[0m\u001b[39;49m To update, run: \u001b[0m\u001b[32;49mpip install --upgrade pip\u001b[0m\n",
      "Note: you may need to restart the kernel to use updated packages.\n"
     ]
    }
   ],
   "source": [
    "%pip install optuna"
   ]
  },
  {
   "cell_type": "code",
   "execution_count": null,
   "id": "e515a56c",
   "metadata": {},
   "outputs": [
    {
     "name": "stdout",
     "output_type": "stream",
     "text": [
      "Using device for Optuna hyperparameter tuning: cpu\n"
     ]
    },
    {
     "name": "stderr",
     "output_type": "stream",
     "text": [
      "[I 2025-06-04 08:17:18,620] A new study created in memory with name: no-name-24066a78-8834-4d7f-bbcf-11a069d3214e\n"
     ]
    },
    {
     "name": "stdout",
     "output_type": "stream",
     "text": [
      "Image shape: Channels=3, Height=60, Width=30\n"
     ]
    },
    {
     "data": {
      "application/vnd.jupyter.widget-view+json": {
       "model_id": "ec4b93a8ce0a4fa0ae607a4ea501b51e",
       "version_major": 2,
       "version_minor": 0
      },
      "text/plain": [
       "Trial 0 [Training]:   0%|          | 0/20 [00:00<?, ?it/s]"
      ]
     },
     "metadata": {},
     "output_type": "display_data"
    },
    {
     "name": "stderr",
     "output_type": "stream",
     "text": [
      "[I 2025-06-04 08:27:18,598] Trial 0 finished with value: 100.0 and parameters: {'learning_rate': 0.009651574828950607, 'batch_size': 16, 'conv1_out_channels': 8, 'conv2_out_channels': 64, 'fc_neurons': 128}. Best is trial 0 with value: 100.0.\n"
     ]
    },
    {
     "data": {
      "application/vnd.jupyter.widget-view+json": {
       "model_id": "1a59e2c23ccb4979a687fe750e94aa28",
       "version_major": 2,
       "version_minor": 0
      },
      "text/plain": [
       "Trial 1 [Training]:   0%|          | 0/20 [00:00<?, ?it/s]"
      ]
     },
     "metadata": {},
     "output_type": "display_data"
    },
    {
     "name": "stderr",
     "output_type": "stream",
     "text": [
      "[I 2025-06-04 08:37:19,178] Trial 1 finished with value: 79.41176470588235 and parameters: {'learning_rate': 0.00032423448135314404, 'batch_size': 16, 'conv1_out_channels': 64, 'conv2_out_channels': 128, 'fc_neurons': 128}. Best is trial 0 with value: 100.0.\n"
     ]
    },
    {
     "data": {
      "application/vnd.jupyter.widget-view+json": {
       "model_id": "67a11a7b85354b5e8fb3f767e4a695c6",
       "version_major": 2,
       "version_minor": 0
      },
      "text/plain": [
       "Trial 2 [Training]:   0%|          | 0/20 [00:00<?, ?it/s]"
      ]
     },
     "metadata": {},
     "output_type": "display_data"
    },
    {
     "name": "stderr",
     "output_type": "stream",
     "text": [
      "[I 2025-06-04 08:47:19,429] Trial 2 finished with value: 50.0 and parameters: {'learning_rate': 0.0040662351050706055, 'batch_size': 16, 'conv1_out_channels': 32, 'conv2_out_channels': 16, 'fc_neurons': 256}. Best is trial 0 with value: 100.0.\n"
     ]
    },
    {
     "data": {
      "application/vnd.jupyter.widget-view+json": {
       "model_id": "a14957d3c00349e080944b551a6648df",
       "version_major": 2,
       "version_minor": 0
      },
      "text/plain": [
       "Trial 3 [Training]:   0%|          | 0/20 [00:00<?, ?it/s]"
      ]
     },
     "metadata": {},
     "output_type": "display_data"
    },
    {
     "name": "stderr",
     "output_type": "stream",
     "text": [
      "[I 2025-06-04 08:57:20,173] Trial 3 finished with value: 88.23529411764706 and parameters: {'learning_rate': 0.0023682040885679213, 'batch_size': 16, 'conv1_out_channels': 32, 'conv2_out_channels': 64, 'fc_neurons': 128}. Best is trial 0 with value: 100.0.\n"
     ]
    },
    {
     "data": {
      "application/vnd.jupyter.widget-view+json": {
       "model_id": "a203b0a4017a40c18c04ced12f7f9c9c",
       "version_major": 2,
       "version_minor": 0
      },
      "text/plain": [
       "Trial 4 [Training]:   0%|          | 0/20 [00:00<?, ?it/s]"
      ]
     },
     "metadata": {},
     "output_type": "display_data"
    },
    {
     "name": "stderr",
     "output_type": "stream",
     "text": [
      "[I 2025-06-04 09:07:22,422] Trial 4 finished with value: 73.52941176470588 and parameters: {'learning_rate': 0.00037908402613351226, 'batch_size': 8, 'conv1_out_channels': 64, 'conv2_out_channels': 16, 'fc_neurons': 128}. Best is trial 0 with value: 100.0.\n"
     ]
    },
    {
     "data": {
      "application/vnd.jupyter.widget-view+json": {
       "model_id": "acaf11f6c0674ea2a351fe2e7b5f4dc0",
       "version_major": 2,
       "version_minor": 0
      },
      "text/plain": [
       "Trial 5 [Training]:   0%|          | 0/20 [00:00<?, ?it/s]"
      ]
     },
     "metadata": {},
     "output_type": "display_data"
    },
    {
     "name": "stderr",
     "output_type": "stream",
     "text": [
      "[I 2025-06-04 10:15:45,025] Trial 5 pruned. \n"
     ]
    },
    {
     "data": {
      "application/vnd.jupyter.widget-view+json": {
       "model_id": "e6cb1beffb3b4ae4b1dcae49dbff5dc7",
       "version_major": 2,
       "version_minor": 0
      },
      "text/plain": [
       "Trial 6 [Training]:   0%|          | 0/20 [00:00<?, ?it/s]"
      ]
     },
     "metadata": {},
     "output_type": "display_data"
    },
    {
     "name": "stderr",
     "output_type": "stream",
     "text": [
      "[I 2025-06-04 10:19:14,053] Trial 6 pruned. \n"
     ]
    },
    {
     "data": {
      "application/vnd.jupyter.widget-view+json": {
       "model_id": "e72f0c2e31ee470abd355c0ecb142186",
       "version_major": 2,
       "version_minor": 0
      },
      "text/plain": [
       "Trial 7 [Training]:   0%|          | 0/20 [00:00<?, ?it/s]"
      ]
     },
     "metadata": {},
     "output_type": "display_data"
    },
    {
     "name": "stderr",
     "output_type": "stream",
     "text": [
      "python(16297) MallocStackLogging: can't turn off malloc stack logging because it was not enabled.\n",
      "python(16298) MallocStackLogging: can't turn off malloc stack logging because it was not enabled.\n",
      "python(17540) MallocStackLogging: can't turn off malloc stack logging because it was not enabled.\n",
      "python(17541) MallocStackLogging: can't turn off malloc stack logging because it was not enabled.\n",
      "python(18615) MallocStackLogging: can't turn off malloc stack logging because it was not enabled.\n",
      "python(18616) MallocStackLogging: can't turn off malloc stack logging because it was not enabled.\n",
      "python(20822) MallocStackLogging: can't turn off malloc stack logging because it was not enabled.\n",
      "python(20823) MallocStackLogging: can't turn off malloc stack logging because it was not enabled.\n",
      "python(22178) MallocStackLogging: can't turn off malloc stack logging because it was not enabled.\n",
      "python(22179) MallocStackLogging: can't turn off malloc stack logging because it was not enabled.\n",
      "python(23356) MallocStackLogging: can't turn off malloc stack logging because it was not enabled.\n",
      "python(23357) MallocStackLogging: can't turn off malloc stack logging because it was not enabled.\n",
      "python(24177) MallocStackLogging: can't turn off malloc stack logging because it was not enabled.\n",
      "python(24178) MallocStackLogging: can't turn off malloc stack logging because it was not enabled.\n",
      "python(25933) MallocStackLogging: can't turn off malloc stack logging because it was not enabled.\n",
      "python(25934) MallocStackLogging: can't turn off malloc stack logging because it was not enabled.\n",
      "python(26922) MallocStackLogging: can't turn off malloc stack logging because it was not enabled.\n",
      "python(26923) MallocStackLogging: can't turn off malloc stack logging because it was not enabled.\n",
      "python(29701) MallocStackLogging: can't turn off malloc stack logging because it was not enabled.\n",
      "python(29702) MallocStackLogging: can't turn off malloc stack logging because it was not enabled.\n",
      "python(30686) MallocStackLogging: can't turn off malloc stack logging because it was not enabled.\n",
      "python(30687) MallocStackLogging: can't turn off malloc stack logging because it was not enabled.\n",
      "python(32027) MallocStackLogging: can't turn off malloc stack logging because it was not enabled.\n",
      "python(32028) MallocStackLogging: can't turn off malloc stack logging because it was not enabled.\n",
      "python(33326) MallocStackLogging: can't turn off malloc stack logging because it was not enabled.\n",
      "python(33327) MallocStackLogging: can't turn off malloc stack logging because it was not enabled.\n",
      "python(35838) MallocStackLogging: can't turn off malloc stack logging because it was not enabled.\n",
      "python(35839) MallocStackLogging: can't turn off malloc stack logging because it was not enabled.\n",
      "python(37196) MallocStackLogging: can't turn off malloc stack logging because it was not enabled.\n",
      "python(37198) MallocStackLogging: can't turn off malloc stack logging because it was not enabled.\n",
      "python(39134) MallocStackLogging: can't turn off malloc stack logging because it was not enabled.\n",
      "python(39135) MallocStackLogging: can't turn off malloc stack logging because it was not enabled.\n",
      "python(40156) MallocStackLogging: can't turn off malloc stack logging because it was not enabled.\n",
      "python(40157) MallocStackLogging: can't turn off malloc stack logging because it was not enabled.\n",
      "python(42790) MallocStackLogging: can't turn off malloc stack logging because it was not enabled.\n",
      "python(42797) MallocStackLogging: can't turn off malloc stack logging because it was not enabled.\n",
      "python(44810) MallocStackLogging: can't turn off malloc stack logging because it was not enabled.\n",
      "python(44811) MallocStackLogging: can't turn off malloc stack logging because it was not enabled.\n",
      "python(46280) MallocStackLogging: can't turn off malloc stack logging because it was not enabled.\n",
      "python(46281) MallocStackLogging: can't turn off malloc stack logging because it was not enabled.\n",
      "python(47109) MallocStackLogging: can't turn off malloc stack logging because it was not enabled.\n",
      "python(47127) MallocStackLogging: can't turn off malloc stack logging because it was not enabled.\n",
      "python(49094) MallocStackLogging: can't turn off malloc stack logging because it was not enabled.\n",
      "python(49095) MallocStackLogging: can't turn off malloc stack logging because it was not enabled.\n",
      "python(50409) MallocStackLogging: can't turn off malloc stack logging because it was not enabled.\n",
      "python(50410) MallocStackLogging: can't turn off malloc stack logging because it was not enabled.\n",
      "python(52161) MallocStackLogging: can't turn off malloc stack logging because it was not enabled.\n",
      "python(52162) MallocStackLogging: can't turn off malloc stack logging because it was not enabled.\n",
      "python(54141) MallocStackLogging: can't turn off malloc stack logging because it was not enabled.\n",
      "python(54142) MallocStackLogging: can't turn off malloc stack logging because it was not enabled.\n",
      "python(56646) MallocStackLogging: can't turn off malloc stack logging because it was not enabled.\n",
      "python(56647) MallocStackLogging: can't turn off malloc stack logging because it was not enabled.\n",
      "[I 2025-06-04 10:44:01,224] Trial 7 finished with value: 79.41176470588235 and parameters: {'learning_rate': 0.0008723961430165992, 'batch_size': 16, 'conv1_out_channels': 8, 'conv2_out_channels': 16, 'fc_neurons': 128}. Best is trial 0 with value: 100.0.\n"
     ]
    },
    {
     "data": {
      "application/vnd.jupyter.widget-view+json": {
       "model_id": "74cfd5e228b8466e9db1b38993654048",
       "version_major": 2,
       "version_minor": 0
      },
      "text/plain": [
       "Trial 8 [Training]:   0%|          | 0/20 [00:00<?, ?it/s]"
      ]
     },
     "metadata": {},
     "output_type": "display_data"
    },
    {
     "name": "stderr",
     "output_type": "stream",
     "text": [
      "python(58722) MallocStackLogging: can't turn off malloc stack logging because it was not enabled.\n",
      "python(58723) MallocStackLogging: can't turn off malloc stack logging because it was not enabled.\n",
      "python(60341) MallocStackLogging: can't turn off malloc stack logging because it was not enabled.\n",
      "python(60342) MallocStackLogging: can't turn off malloc stack logging because it was not enabled.\n",
      "python(61854) MallocStackLogging: can't turn off malloc stack logging because it was not enabled.\n",
      "python(61855) MallocStackLogging: can't turn off malloc stack logging because it was not enabled.\n",
      "python(64211) MallocStackLogging: can't turn off malloc stack logging because it was not enabled.\n",
      "python(64212) MallocStackLogging: can't turn off malloc stack logging because it was not enabled.\n",
      "python(65923) MallocStackLogging: can't turn off malloc stack logging because it was not enabled.\n",
      "python(65924) MallocStackLogging: can't turn off malloc stack logging because it was not enabled.\n",
      "python(69190) MallocStackLogging: can't turn off malloc stack logging because it was not enabled.\n",
      "python(69191) MallocStackLogging: can't turn off malloc stack logging because it was not enabled.\n",
      "python(71004) MallocStackLogging: can't turn off malloc stack logging because it was not enabled.\n",
      "python(71005) MallocStackLogging: can't turn off malloc stack logging because it was not enabled.\n",
      "python(74618) MallocStackLogging: can't turn off malloc stack logging because it was not enabled.\n",
      "python(74619) MallocStackLogging: can't turn off malloc stack logging because it was not enabled.\n",
      "python(76227) MallocStackLogging: can't turn off malloc stack logging because it was not enabled.\n",
      "python(76228) MallocStackLogging: can't turn off malloc stack logging because it was not enabled.\n",
      "python(78274) MallocStackLogging: can't turn off malloc stack logging because it was not enabled.\n",
      "python(78276) MallocStackLogging: can't turn off malloc stack logging because it was not enabled.\n",
      "python(79643) MallocStackLogging: can't turn off malloc stack logging because it was not enabled.\n",
      "python(79644) MallocStackLogging: can't turn off malloc stack logging because it was not enabled.\n",
      "python(83343) MallocStackLogging: can't turn off malloc stack logging because it was not enabled.\n",
      "python(83344) MallocStackLogging: can't turn off malloc stack logging because it was not enabled.\n",
      "python(85155) MallocStackLogging: can't turn off malloc stack logging because it was not enabled.\n",
      "python(85156) MallocStackLogging: can't turn off malloc stack logging because it was not enabled.\n"
     ]
    }
   ],
   "source": [
    "import optuna\n",
    "\n",
    "# Device configuration\n",
    "device = torch.device(\"cuda\" if torch.cuda.is_available() else \"cpu\")\n",
    "print(f\"Using device for Optuna hyperparameter tuning: {device}\")\n",
    "\n",
    "# Get image dimensions\n",
    "sample_img, _ = train_dataset[0]\n",
    "C, H, W = sample_img.shape\n",
    "print(f\"Image shape: Channels={C}, Height={H}, Width={W}\")\n",
    "\n",
    "num_classes_hp = 2\n",
    "num_epochs_search = 20 # Fewer epochs for faster search, adjust as needed for Optuna trials\n",
    "num_trials_optuna = 20 # Define number of trials\n",
    "\n",
    "# num_trials_optuna = 20 # Number of Optuna trials to run\n",
    "\n",
    "def objective(trial):\n",
    "    # Hyperparameter suggestions\n",
    "    lr = trial.suggest_float(\"learning_rate\", 1e-4, 1e-2, log=True)\n",
    "    batch_size = trial.suggest_categorical(\"batch_size\", [8, 16, 32])\n",
    "    conv1_out = trial.suggest_categorical(\"conv1_out_channels\", [8, 16, 32, 64])\n",
    "    conv2_out = trial.suggest_categorical(\"conv2_out_channels\", [16, 32, 64, 128])\n",
    "    fc_neurons_val = trial.suggest_categorical(\"fc_neurons\", [64, 128, 256])\n",
    "\n",
    "    # DataLoaders\n",
    "    pin_memory_flag_opt = True if device.type == 'cuda' else False\n",
    "    try:\n",
    "        current_train_loader = DataLoader(train_dataset, batch_size=batch_size, shuffle=True, num_workers=2, pin_memory=pin_memory_flag_opt)\n",
    "        current_val_loader = DataLoader(test_dataset, batch_size=batch_size, shuffle=False, num_workers=2, pin_memory=pin_memory_flag_opt)\n",
    "    except Exception as e:\n",
    "        print(f\"Error creating DataLoader for trial {trial.number}: {e}. Pruning trial.\")\n",
    "        raise optuna.exceptions.TrialPruned()\n",
    "\n",
    "\n",
    "    # Model (Ensure SimpleCNN class is defined and accessible)\n",
    "    model_opt = SimpleCNN(input_channels=C, input_height=H, input_width=W, num_classes=num_classes_hp,\n",
    "                          conv1_out_channels=conv1_out,\n",
    "                          conv2_out_channels=conv2_out,\n",
    "                          fc_neurons=fc_neurons_val).to(device)\n",
    "\n",
    "    criterion_opt = nn.BCEWithLogitsLoss()\n",
    "    optimizer_opt = optim.Adam(model_opt.parameters(), lr=lr)\n",
    "\n",
    "    trial_train_losses = []\n",
    "    trial_val_accuracies = []\n",
    "\n",
    "    # Training loop\n",
    "    for epoch in tqdm(range(num_epochs_search), desc=f\"Trial {trial.number} [Training]\", leave=False):\n",
    "        model_opt.train()\n",
    "        epoch_running_loss = 0.0\n",
    "        for images, labels in current_train_loader: # train_pbar_opt:\n",
    "            images, labels = images.to(device), labels.to(device).float().unsqueeze(1)\n",
    "            \n",
    "            optimizer_opt.zero_grad()\n",
    "            outputs = model_opt(images)\n",
    "            loss = criterion_opt(outputs, labels)\n",
    "            loss.backward()\n",
    "            optimizer_opt.step()\n",
    "            epoch_running_loss += loss.item() * images.size(0)\n",
    "        \n",
    "        avg_epoch_train_loss = epoch_running_loss / len(current_train_loader.dataset)\n",
    "        trial_train_losses.append(avg_epoch_train_loss)\n",
    "\n",
    "        # Validation\n",
    "        model_opt.eval()\n",
    "        val_correct = 0\n",
    "        val_total = 0\n",
    "        with torch.no_grad():\n",
    "            for images, labels in current_val_loader: # val_pbar_opt:\n",
    "                images, labels = images.to(device), labels.to(device).float().unsqueeze(1)\n",
    "                outputs = model_opt(images)\n",
    "                predicted = (torch.sigmoid(outputs) > 0.5).float()\n",
    "                val_total += labels.size(0)\n",
    "                val_correct += (predicted == labels).sum().item()\n",
    "        \n",
    "        current_epoch_val_accuracy = 100 * val_correct / val_total if val_total > 0 else 0\n",
    "        trial_val_accuracies.append(current_epoch_val_accuracy)\n",
    "        \n",
    "        # Optuna pruning (optional, but good for long searches)\n",
    "        trial.report(current_epoch_val_accuracy, epoch)\n",
    "        if trial.should_prune():\n",
    "            # Store partial curves if pruned\n",
    "            trial.set_user_attr(\"train_losses\", trial_train_losses)\n",
    "            trial.set_user_attr(\"val_accuracies\", trial_val_accuracies)\n",
    "            raise optuna.exceptions.TrialPruned()\n",
    "\n",
    "    # Store full learning curves in user attributes for the trial\n",
    "    trial.set_user_attr(\"train_losses\", trial_train_losses)\n",
    "    trial.set_user_attr(\"val_accuracies\", trial_val_accuracies)\n",
    "            \n",
    "    return trial_val_accuracies[-1] # Return final validation accuracy\n",
    "\n",
    "# Create a study object and optimize\n",
    "# You can add a pruner, e.g., optuna.pruners.MedianPruner()\n",
    "study = optuna.create_study(direction=\"maximize\", pruner=optuna.pruners.MedianPruner())\n",
    "study.optimize(objective, n_trials=num_trials_optuna)\n",
    "\n",
    "print(\"\\nFinished Optuna Hyperparameter Search.\")\n",
    "best_trial_optuna = study.best_trial\n",
    "best_hyperparams_optuna = best_trial_optuna.params\n",
    "best_val_accuracy_optuna = best_trial_optuna.value\n",
    "\n",
    "\n",
    "# Retrieve learning curves for the best trial\n",
    "best_model_train_losses_optuna = best_trial_optuna.user_attrs.get(\"train_losses\", [])\n",
    "best_model_val_accuracies_optuna = best_trial_optuna.user_attrs.get(\"val_accuracies\", [])"
   ]
  },
  {
   "cell_type": "markdown",
   "id": "f1553d2e",
   "metadata": {},
   "source": [
    "## Retrain best optuna model"
   ]
  },
  {
   "cell_type": "code",
   "execution_count": null,
   "id": "b68268c3",
   "metadata": {},
   "outputs": [
    {
     "name": "stdout",
     "output_type": "stream",
     "text": [
      "Optimal model saved to best_optuna_cnn_model.pth\n"
     ]
    }
   ],
   "source": [
    "# After Optuna optimization, retrain the best model with the best hyperparameters and save it\n",
    "\n",
    "# Extract best hyperparameters from the Optuna study\n",
    "best_params = study.best_trial.params\n",
    "\n",
    "# Dataloaders with the best batch size\n",
    "pin_memory_flag_opt = True if device.type == 'cuda' else False\n",
    "train_loader_opt = DataLoader(train_dataset, batch_size=best_params['batch_size'], shuffle=True, num_workers=2, pin_memory=pin_memory_flag_opt)\n",
    "val_loader_opt = DataLoader(test_dataset, batch_size=best_params['batch_size'], shuffle=False, num_workers=2, pin_memory=pin_memory_flag_opt)\n",
    "\n",
    "# Re-create and train the model with the best hyperparameters\n",
    "model_optimal = SimpleCNN(\n",
    "    input_channels=C, input_height=H, input_width=W, num_classes=num_classes_hp,\n",
    "    conv1_out_channels=best_params['conv1_out_channels'],\n",
    "    conv2_out_channels=best_params['conv2_out_channels'],\n",
    "    fc_neurons=best_params['fc_neurons']\n",
    ").to(device)\n",
    "\n",
    "criterion_opt = nn.BCEWithLogitsLoss()\n",
    "optimizer_opt = optim.Adam(model_optimal.parameters(), lr=best_params['learning_rate'])\n",
    "num_epochs_opt = num_epochs_search  # Or set to a higher value for final training\n",
    "\n",
    "for epoch in range(num_epochs_opt):\n",
    "    model_optimal.train()\n",
    "    for images, labels in train_loader_opt:\n",
    "        images, labels = images.to(device), labels.to(device).float().unsqueeze(1)\n",
    "        optimizer_opt.zero_grad()\n",
    "        outputs = model_optimal(images)\n",
    "        loss = criterion_opt(outputs, labels)\n",
    "        loss.backward()\n",
    "        optimizer_opt.step()\n",
    "\n",
    "# Save the trained optimal model\n",
    "best_optuna_model_path = \"best_optuna_cnn_model.pth\"\n",
    "torch.save(model_optimal.state_dict(), best_optuna_model_path)\n",
    "print(f\"Optimal model saved to {best_optuna_model_path}\")\n"
   ]
  },
  {
   "cell_type": "markdown",
   "id": "1912c0ea",
   "metadata": {},
   "source": [
    "#### Plots"
   ]
  },
  {
   "cell_type": "code",
   "execution_count": null,
   "id": "a6caca28",
   "metadata": {},
   "outputs": [
    {
     "name": "stdout",
     "output_type": "stream",
     "text": [
      "Best Validation Accuracy (from Optuna study): 61.76%\n",
      "Best Hyperparameters (from Optuna study): {'learning_rate': 0.001553369838635351, 'batch_size': 32, 'conv1_out_channels': 16, 'conv2_out_channels': 16, 'fc_neurons': 256}\n"
     ]
    },
    {
     "data": {
      "image/png": "[encoded data removed]",
      "text/plain": [
       "<Figure size 1200x500 with 2 Axes>"
      ]
     },
     "metadata": {},
     "output_type": "display_data"
    }
   ],
   "source": [
    "print(f\"Best Validation Accuracy (from Optuna study): {best_val_accuracy_optuna:.2f}%\")\n",
    "print(f\"Best Hyperparameters (from Optuna study): {best_hyperparams_optuna}\")\n",
    "\n",
    "# Plotting learning curves for the best model from Optuna hyperparameter search\n",
    "if best_model_train_losses_optuna and best_model_val_accuracies_optuna:\n",
    "    plt.figure(figsize=(12, 5))\n",
    "\n",
    "    plt.subplot(1, 2, 1)\n",
    "    plt.plot(range(1, len(best_model_train_losses_optuna) + 1), best_model_train_losses_optuna, label='Best Model Training Loss (Optuna)')\n",
    "    plt.xlabel('Epoch')\n",
    "    plt.ylabel('Loss')\n",
    "    plt.title('Best Model (Optuna) - Training Loss')\n",
    "    plt.legend()\n",
    "\n",
    "    plt.subplot(1, 2, 2)\n",
    "    plt.plot(range(1, len(best_model_val_accuracies_optuna) + 1), best_model_val_accuracies_optuna, label='Best Model Validation Accuracy (Optuna)', color='red')\n",
    "    plt.xlabel('Epoch')\n",
    "    plt.ylabel('Accuracy (%)')\n",
    "    plt.title('Best Model (Optuna) - Validation Accuracy')\n",
    "    plt.legend()\n",
    "\n",
    "    plt.tight_layout()\n",
    "    plt.show()\n",
    "else:\n",
    "    print(\"Learning curve data for the best Optuna trial is not available.\")\n",
    "    \n",
    "# You can now load the best model state for further use if needed.\n",
    "# First, you'd typically retrain a model with best_hyperparams_optuna for a full number of epochs\n",
    "# and save its state_dict. The state_dict is not directly saved by the Optuna objective function above.\n",
    "# Example:\n",
    "# model_best_optuna = SimpleCNN(input_channels=C, input_height=H, input_width=W, num_classes=num_classes_hp,\n",
    "#                               conv1_out_channels=best_hyperparams_optuna['conv1_out_channels'],\n",
    "#                               conv2_out_channels=best_hyperparams_optuna['conv2_out_channels'],\n",
    "#                               fc_neurons=best_hyperparams_optuna['fc_neurons']).to(device)\n",
    "# # Then, you would train this model_best_optuna using the best learning rate, optimizer, and batch size.\n",
    "# # For now, we are just plotting the curves from the optimization search itself."
   ]
  }
 ],
 "metadata": {
  "kernelspec": {
   "display_name": "DDAI_311",
   "language": "python",
   "name": "python3"
  },
  "language_info": {
   "codemirror_mode": {
    "name": "ipython",
    "version": 3
   },
   "file_extension": ".py",
   "mimetype": "text/x-python",
   "name": "python",
   "nbconvert_exporter": "python",
   "pygments_lexer": "ipython3",
   "version": "3.11.11"
  }
 },
 "nbformat": 4,
 "nbformat_minor": 5
}
