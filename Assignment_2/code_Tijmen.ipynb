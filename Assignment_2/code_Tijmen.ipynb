{
 "cells": [
  {
   "cell_type": "markdown",
   "id": "e8bc82e2",
   "metadata": {},
   "source": [
    "# Imports & loading"
   ]
  },
  {
   "cell_type": "code",
   "execution_count": 1,
   "id": "e71aeb63",
   "metadata": {},
   "outputs": [],
   "source": [
    "from support import load_dataset\n",
    "import matplotlib.pyplot as plt\n",
    "import torchvision.transforms as T\n",
    "import os\n",
    "os.environ[\"KMP_DUPLICATE_LIB_OK\"] = \"TRUE\"\n",
    "from tqdm.notebook import tqdm \n",
    "\n",
    "import random\n",
    "import numpy as np\n",
    "import torch\n",
    "import torch.nn as nn\n",
    "import torch.optim as optim\n",
    "from torch.utils.data import DataLoader"
   ]
  },
  {
   "cell_type": "markdown",
   "id": "fd2cd22c",
   "metadata": {},
   "source": [
    "#### Print Python and PyTorch version"
   ]
  },
  {
   "cell_type": "code",
   "execution_count": 2,
   "id": "f2b3f703",
   "metadata": {},
   "outputs": [
    {
     "name": "stdout",
     "output_type": "stream",
     "text": [
      "Python version: 3.12.9 | packaged by Anaconda, Inc. | (main, Feb  6 2025, 18:49:16) [MSC v.1929 64 bit (AMD64)]\n",
      "PyTorch version: 2.7.0+cu118\n",
      "CUDA available: True\n"
     ]
    }
   ],
   "source": [
    "print(\"Python version:\", os.sys.version)\n",
    "print(\"PyTorch version:\", torch.__version__)\n",
    "print(\"CUDA available:\", torch.cuda.is_available())"
   ]
  },
  {
   "cell_type": "code",
   "execution_count": 3,
   "id": "e549c95d",
   "metadata": {},
   "outputs": [],
   "source": [
    "data = load_dataset()\n",
    "train_dataset = data[0]\n",
    "test_dataset = data[1]"
   ]
  },
  {
   "cell_type": "code",
   "execution_count": 4,
   "id": "e1fe5181",
   "metadata": {},
   "outputs": [
    {
     "name": "stdout",
     "output_type": "stream",
     "text": [
      "Image shape: torch.Size([3, 60, 30])\n",
      "Label: 0\n",
      "Train_dataset: Dataset ImageFolder\n",
      "    Number of datapoints: 136\n",
      "    Root location: WF-data/train\n",
      "    StandardTransform\n",
      "Transform: Compose(\n",
      "               Resize(size=[105, 78], interpolation=bilinear, max_size=None, antialias=True)\n",
      "               CenterCrop(size=[60, 30])\n",
      "               ToTensor()\n",
      "           )\n"
     ]
    }
   ],
   "source": [
    "img, label = train_dataset[0]\n",
    "\n",
    "print(f\"Image shape: {img.shape}\")\n",
    "print(f\"Label: {label}\")\n",
    "print(f\"Train_dataset: {train_dataset}\")"
   ]
  },
  {
   "cell_type": "code",
   "execution_count": null,
   "id": "9d010dd6",
   "metadata": {},
   "outputs": [
    {
     "data": {
      "image/png": "[encoded data removed]",
      "text/plain": [
       "<Figure size 640x480 with 1 Axes>"
      ]
     },
     "metadata": {},
     "output_type": "display_data"
    }
   ],
   "source": [
    "img_tensor, label = train_dataset[0]\n",
    "transform_to_pil = T.ToPILImage()\n",
    "img_pil = transform_to_pil(img_tensor)\n",
    "\n",
    "plt.imshow(img_pil)\n",
    "plt.title(f\"Label: {label}\")\n",
    "plt.axis('off')\n",
    "plt.show()"
   ]
  },
  {
   "cell_type": "markdown",
   "id": "be77b74f",
   "metadata": {},
   "source": [
    "# CNN"
   ]
  },
  {
   "cell_type": "markdown",
   "id": "1e629039",
   "metadata": {},
   "source": [
    "## Base Model"
   ]
  },
  {
   "cell_type": "code",
   "execution_count": 6,
   "id": "2a7eeaa6",
   "metadata": {},
   "outputs": [],
   "source": [
    "# Define the CNN model\n",
    "class SimpleCNN(nn.Module):\n",
    "    def __init__(self, input_channels, input_height, input_width, num_classes):\n",
    "        super(SimpleCNN, self).__init__()\n",
    "        self.conv_layers = nn.Sequential(\n",
    "            nn.Conv2d(input_channels, 16, kernel_size=3, padding=1),\n",
    "            nn.ReLU(),\n",
    "            nn.MaxPool2d(kernel_size=2, stride=2),  # Output: 16 x H/2 x W/2\n",
    "            nn.Conv2d(16, 32, kernel_size=3, padding=1),\n",
    "            nn.ReLU(),\n",
    "            nn.MaxPool2d(kernel_size=2, stride=2)   # Output: 32 x H/4 x W/4\n",
    "        )\n",
    "        \n",
    "        # Calculate the flattened size dynamically to connect conv layers to fc layers\n",
    "        with torch.no_grad(): # We don't need gradients for this calculation\n",
    "            dummy_input = torch.zeros(1, input_channels, input_height, input_width)\n",
    "            flattened_size = self.conv_layers(dummy_input).flatten(1).shape[1]\n",
    "            \n",
    "        self.fc_layers = nn.Sequential(\n",
    "            nn.Linear(flattened_size, 128),\n",
    "            nn.ReLU(),\n",
    "            # Output 1 logit for binary classification (labels 0 or 1)\n",
    "            # This will be used with BCEWithLogitsLoss\n",
    "            nn.Linear(128, 1 if num_classes == 2 else num_classes) \n",
    "        )\n",
    "\n",
    "    def forward(self, x):\n",
    "        x = self.conv_layers(x)\n",
    "        x = x.flatten(1) # Flatten all dimensions except batch\n",
    "        x = self.fc_layers(x)\n",
    "        return x"
   ]
  },
  {
   "cell_type": "code",
   "execution_count": 7,
   "id": "bc4d073b",
   "metadata": {},
   "outputs": [
    {
     "name": "stdout",
     "output_type": "stream",
     "text": [
      "Detected image shape: Channels=3, Height=60, Width=30\n",
      "Using device: cuda\n",
      "Epoch [1/10], Step [1/3], Loss: 0.6930\n",
      "Epoch [1/10], Step [2/3], Loss: 0.7426\n",
      "Epoch [1/10], Step [3/3], Loss: 0.7099\n",
      "Epoch [1/10] completed. Average Training Loss: 0.7152\n",
      "Accuracy on test set after epoch 1: 0.00%\n",
      "Epoch [2/10], Step [1/3], Loss: 0.6872\n",
      "Epoch [2/10], Step [2/3], Loss: 0.6798\n",
      "Epoch [2/10], Step [3/3], Loss: 0.6780\n",
      "Epoch [2/10] completed. Average Training Loss: 0.6817\n",
      "Accuracy on test set after epoch 2: 0.00%\n",
      "Epoch [3/10], Step [1/3], Loss: 0.6721\n",
      "Epoch [3/10], Step [2/3], Loss: 0.6601\n",
      "Epoch [3/10], Step [3/3], Loss: 0.6460\n",
      "Epoch [3/10] completed. Average Training Loss: 0.6594\n",
      "Accuracy on test set after epoch 3: 0.00%\n",
      "Epoch [4/10], Step [1/3], Loss: 0.6102\n",
      "Epoch [4/10], Step [2/3], Loss: 0.5505\n",
      "Epoch [4/10], Step [3/3], Loss: 0.8396\n",
      "Epoch [4/10] completed. Average Training Loss: 0.6668\n",
      "Accuracy on test set after epoch 4: 0.00%\n",
      "Epoch [5/10], Step [1/3], Loss: 0.6071\n",
      "Epoch [5/10], Step [2/3], Loss: 0.6430\n",
      "Epoch [5/10], Step [3/3], Loss: 0.4976\n",
      "Epoch [5/10] completed. Average Training Loss: 0.5826\n",
      "Accuracy on test set after epoch 5: 0.00%\n",
      "Epoch [6/10], Step [1/3], Loss: 0.5681\n",
      "Epoch [6/10], Step [2/3], Loss: 0.5943\n",
      "Epoch [6/10], Step [3/3], Loss: 0.5351\n",
      "Epoch [6/10] completed. Average Training Loss: 0.5658\n",
      "Accuracy on test set after epoch 6: 0.00%\n",
      "Epoch [7/10], Step [1/3], Loss: 0.4543\n",
      "Epoch [7/10], Step [2/3], Loss: 0.6538\n",
      "Epoch [7/10], Step [3/3], Loss: 0.5865\n",
      "Epoch [7/10] completed. Average Training Loss: 0.5648\n",
      "Accuracy on test set after epoch 7: 0.00%\n",
      "Epoch [8/10], Step [1/3], Loss: 0.4635\n",
      "Epoch [8/10], Step [2/3], Loss: 0.5288\n",
      "Epoch [8/10], Step [3/3], Loss: 0.5783\n",
      "Epoch [8/10] completed. Average Training Loss: 0.5236\n",
      "Accuracy on test set after epoch 8: 0.00%\n",
      "Epoch [9/10], Step [1/3], Loss: 0.4384\n",
      "Epoch [9/10], Step [2/3], Loss: 0.4954\n",
      "Epoch [9/10], Step [3/3], Loss: 0.6462\n",
      "Epoch [9/10] completed. Average Training Loss: 0.5267\n",
      "Accuracy on test set after epoch 9: 0.00%\n",
      "Epoch [10/10], Step [1/3], Loss: 0.4547\n",
      "Epoch [10/10], Step [2/3], Loss: 0.4747\n",
      "Epoch [10/10], Step [3/3], Loss: 0.8718\n",
      "Epoch [10/10] completed. Average Training Loss: 0.6004\n",
      "Accuracy on test set after epoch 10: 0.00%\n",
      "Finished Training\n",
      "Model saved to simple_cnn_model.pth\n"
     ]
    }
   ],
   "source": [
    "sample_img, _ = train_dataset[0]\n",
    "C, H, W = sample_img.shape\n",
    "print(f\"Detected image shape: Channels={C}, Height={H}, Width={W}\")\n",
    "\n",
    "# Hyperparameters\n",
    "learning_rate = 0.007\n",
    "batch_size = 64 # Adjust this based on memory\n",
    "num_epochs = 10  # Adjust as needed for convergence\n",
    "num_classes = 2  # Binary classification (labels 0 and 1)\n",
    "\n",
    "# Model, Loss, Optimizer\n",
    "device = torch.device(\"cuda\" if torch.cuda.is_available() else \"cpu\")\n",
    "print(f\"Using device: {device}\")\n",
    "\n",
    "# DataLoaders\n",
    "pin_memory_flag = True if device.type == 'cuda' else False\n",
    "train_loader = DataLoader(train_dataset, batch_size=batch_size, shuffle=True, num_workers=2, pin_memory=pin_memory_flag)\n",
    "test_loader = DataLoader(test_dataset, batch_size=batch_size, shuffle=False, num_workers=2, pin_memory=pin_memory_flag)\n",
    "\n",
    "model = SimpleCNN(input_channels=C, input_height=H, input_width=W, num_classes=num_classes).to(device)\n",
    "\n",
    "# Binary Cross Entropy with Logits Loss, suitable for binary classification with one output neuron\n",
    "criterion = nn.BCEWithLogitsLoss() # Different choiches possible\n",
    "optimizer = optim.Adam(model.parameters(), lr=learning_rate)\n",
    "\n",
    "# Training loop\n",
    "for epoch in range(num_epochs):\n",
    "    model.train()  \n",
    "    running_loss = 0.0\n",
    "    for i, (images, labels) in enumerate(train_loader):\n",
    "        images = images.to(device)\n",
    "        # Reshape labels to [batch_size, 1] and convert to float for BCEWithLogitsLoss\n",
    "        labels = labels.to(device).float().unsqueeze(1) \n",
    "\n",
    "        # Forward pass\n",
    "        outputs = model(images)\n",
    "        loss = criterion(outputs, labels)\n",
    "\n",
    "        # Backward and optimize\n",
    "        optimizer.zero_grad()\n",
    "        loss.backward()\n",
    "        optimizer.step()\n",
    "\n",
    "        running_loss += loss.item()\n",
    "        if (i + 1) % max(1, len(train_loader) // 10) == 0: # Print progress, e.g. 10 times per epoch\n",
    "            print(f\"Epoch [{epoch+1}/{num_epochs}], Step [{i+1}/{len(train_loader)}], Loss: {loss.item():.4f}\")\n",
    "    \n",
    "    avg_epoch_loss = running_loss / len(train_loader)\n",
    "    print(f\"Epoch [{epoch+1}/{num_epochs}] completed. Average Training Loss: {avg_epoch_loss:.4f}\")\n",
    "\n",
    "    # Evaluation on the test set\n",
    "    model.eval()  \n",
    "    correct = 0\n",
    "    total = 0\n",
    "    with torch.no_grad(): \n",
    "        for images, labels in test_loader:\n",
    "            images = images.to(device)\n",
    "            labels = labels.to(device).float().unsqueeze(1) #\n",
    "            \n",
    "            # predictions on the test set\n",
    "            outputs = model(images)\n",
    "            predictions = (torch.sigmoid(outputs) > 0.5).float()\n",
    "\n",
    "            total += labels.size(0)\n",
    "            correct += (predictions == labels).sum().item()\n",
    "    \n",
    "    accuracy = 100 * correct / total\n",
    "    print(f\"Accuracy on test set after epoch {epoch+1}: {accuracy:.2f}%\")\n",
    "\n",
    "# Save the model\n",
    "model_path = \"simple_cnn_model.pth\"\n",
    "torch.save(model.state_dict(), model_path)\n",
    "print(\"Finished Training\")\n",
    "print(f\"Model saved to {model_path}\")"
   ]
  },
  {
   "cell_type": "markdown",
   "id": "d9dc6deb",
   "metadata": {},
   "source": [
    "### Plots"
   ]
  },
  {
   "cell_type": "markdown",
   "id": "55c0f870",
   "metadata": {},
   "source": [
    "## Increased complexity"
   ]
  },
  {
   "cell_type": "code",
   "execution_count": 8,
   "id": "3d470596",
   "metadata": {},
   "outputs": [],
   "source": [
    "class SimpleCNN(nn.Module):\n",
    "    def __init__(self, input_channels, input_height, input_width, num_classes,\n",
    "                 conv1_out_channels=16, conv2_out_channels=32, fc_neurons=128):\n",
    "        super(SimpleCNN, self).__init__()\n",
    "        self.conv_layers = nn.Sequential(\n",
    "            nn.Conv2d(input_channels, conv1_out_channels, kernel_size=3, padding=1),\n",
    "            nn.ReLU(),\n",
    "            nn.MaxPool2d(kernel_size=2, stride=2),  # Output: conv1_out_channels x H/2 x W/2\n",
    "            nn.Conv2d(conv1_out_channels, conv2_out_channels, kernel_size=3, padding=1),\n",
    "            nn.ReLU(),\n",
    "            nn.MaxPool2d(kernel_size=2, stride=2)   # Output: conv2_out_channels x H/4 x W/4\n",
    "        )\n",
    "        \n",
    "        # Calculate the flattened size dynamically\n",
    "        with torch.no_grad():\n",
    "            dummy_input = torch.zeros(1, input_channels, input_height, input_width)\n",
    "            flattened_size = self.conv_layers(dummy_input).flatten(1).shape[1]\n",
    "            \n",
    "        self.fc_layers = nn.Sequential(\n",
    "            nn.Linear(flattened_size, fc_neurons),\n",
    "            nn.ReLU(),\n",
    "            nn.Linear(fc_neurons, 1 if num_classes == 2 else num_classes) \n",
    "        )\n",
    "\n",
    "    def forward(self, x):\n",
    "        x = self.conv_layers(x)\n",
    "        x = x.flatten(1) # Flatten all dimensions except batch\n",
    "        x = self.fc_layers(x)\n",
    "        return x"
   ]
  },
  {
   "cell_type": "code",
   "execution_count": 9,
   "id": "6e13a536",
   "metadata": {},
   "outputs": [
    {
     "name": "stdout",
     "output_type": "stream",
     "text": [
      "Detected image shape: Channels=3, Height=60, Width=30\n",
      "Using device: cuda\n"
     ]
    },
    {
     "data": {
      "application/vnd.jupyter.widget-view+json": {
       "model_id": "8145e7544b7249b68d205bca53b05b4e",
       "version_major": 2,
       "version_minor": 0
      },
      "text/plain": [
       "Epoch 1/10 [Training]:   0%|          | 0/3 [00:00<?, ?it/s]"
      ]
     },
     "metadata": {},
     "output_type": "display_data"
    },
    {
     "name": "stdout",
     "output_type": "stream",
     "text": [
      "Epoch [1/10] completed. Average Training Loss: 0.6957\n"
     ]
    },
    {
     "data": {
      "application/vnd.jupyter.widget-view+json": {
       "model_id": "debce5749b714d44b4a4f58adc4d0a58",
       "version_major": 2,
       "version_minor": 0
      },
      "text/plain": [
       "Epoch 1/10 [Validation]:   0%|          | 0/1 [00:00<?, ?it/s]"
      ]
     },
     "metadata": {},
     "output_type": "display_data"
    },
    {
     "name": "stdout",
     "output_type": "stream",
     "text": [
      "Accuracy on test set after epoch 1: 50.00%\n"
     ]
    },
    {
     "data": {
      "application/vnd.jupyter.widget-view+json": {
       "model_id": "8d483bb4e5e746a694230fe8eddb71ba",
       "version_major": 2,
       "version_minor": 0
      },
      "text/plain": [
       "Epoch 2/10 [Training]:   0%|          | 0/3 [00:00<?, ?it/s]"
      ]
     },
     "metadata": {},
     "output_type": "display_data"
    },
    {
     "name": "stdout",
     "output_type": "stream",
     "text": [
      "Epoch [2/10] completed. Average Training Loss: 0.6973\n"
     ]
    },
    {
     "data": {
      "application/vnd.jupyter.widget-view+json": {
       "model_id": "f5973a3c9faf490fb820df6a1a3b4a18",
       "version_major": 2,
       "version_minor": 0
      },
      "text/plain": [
       "Epoch 2/10 [Validation]:   0%|          | 0/1 [00:00<?, ?it/s]"
      ]
     },
     "metadata": {},
     "output_type": "display_data"
    },
    {
     "name": "stdout",
     "output_type": "stream",
     "text": [
      "Accuracy on test set after epoch 2: 50.00%\n"
     ]
    },
    {
     "data": {
      "application/vnd.jupyter.widget-view+json": {
       "model_id": "31281869ea504539a3838b37041e3e43",
       "version_major": 2,
       "version_minor": 0
      },
      "text/plain": [
       "Epoch 3/10 [Training]:   0%|          | 0/3 [00:00<?, ?it/s]"
      ]
     },
     "metadata": {},
     "output_type": "display_data"
    },
    {
     "name": "stdout",
     "output_type": "stream",
     "text": [
      "Epoch [3/10] completed. Average Training Loss: 0.6933\n"
     ]
    },
    {
     "data": {
      "application/vnd.jupyter.widget-view+json": {
       "model_id": "acec70c06a804929a5d923f611a04143",
       "version_major": 2,
       "version_minor": 0
      },
      "text/plain": [
       "Epoch 3/10 [Validation]:   0%|          | 0/1 [00:00<?, ?it/s]"
      ]
     },
     "metadata": {},
     "output_type": "display_data"
    },
    {
     "name": "stdout",
     "output_type": "stream",
     "text": [
      "Accuracy on test set after epoch 3: 50.00%\n"
     ]
    },
    {
     "data": {
      "application/vnd.jupyter.widget-view+json": {
       "model_id": "25c2a797367244f1a17328d69aa35c54",
       "version_major": 2,
       "version_minor": 0
      },
      "text/plain": [
       "Epoch 4/10 [Training]:   0%|          | 0/3 [00:00<?, ?it/s]"
      ]
     },
     "metadata": {},
     "output_type": "display_data"
    },
    {
     "name": "stdout",
     "output_type": "stream",
     "text": [
      "Epoch [4/10] completed. Average Training Loss: 0.6935\n"
     ]
    },
    {
     "data": {
      "application/vnd.jupyter.widget-view+json": {
       "model_id": "f8cd389670574e97b5a35297a3784753",
       "version_major": 2,
       "version_minor": 0
      },
      "text/plain": [
       "Epoch 4/10 [Validation]:   0%|          | 0/1 [00:00<?, ?it/s]"
      ]
     },
     "metadata": {},
     "output_type": "display_data"
    },
    {
     "name": "stdout",
     "output_type": "stream",
     "text": [
      "Accuracy on test set after epoch 4: 50.00%\n"
     ]
    },
    {
     "data": {
      "application/vnd.jupyter.widget-view+json": {
       "model_id": "89249b168ee840b19606b2927e1b7421",
       "version_major": 2,
       "version_minor": 0
      },
      "text/plain": [
       "Epoch 5/10 [Training]:   0%|          | 0/3 [00:00<?, ?it/s]"
      ]
     },
     "metadata": {},
     "output_type": "display_data"
    },
    {
     "name": "stdout",
     "output_type": "stream",
     "text": [
      "Epoch [5/10] completed. Average Training Loss: 0.6925\n"
     ]
    },
    {
     "data": {
      "application/vnd.jupyter.widget-view+json": {
       "model_id": "3d9f486817224728ac0b7db37a488ea2",
       "version_major": 2,
       "version_minor": 0
      },
      "text/plain": [
       "Epoch 5/10 [Validation]:   0%|          | 0/1 [00:00<?, ?it/s]"
      ]
     },
     "metadata": {},
     "output_type": "display_data"
    },
    {
     "name": "stdout",
     "output_type": "stream",
     "text": [
      "Accuracy on test set after epoch 5: 50.00%\n"
     ]
    },
    {
     "data": {
      "application/vnd.jupyter.widget-view+json": {
       "model_id": "4231ca1b8e254f1783c53b24021859de",
       "version_major": 2,
       "version_minor": 0
      },
      "text/plain": [
       "Epoch 6/10 [Training]:   0%|          | 0/3 [00:00<?, ?it/s]"
      ]
     },
     "metadata": {},
     "output_type": "display_data"
    },
    {
     "name": "stdout",
     "output_type": "stream",
     "text": [
      "Epoch [6/10] completed. Average Training Loss: 0.6924\n"
     ]
    },
    {
     "data": {
      "application/vnd.jupyter.widget-view+json": {
       "model_id": "cd1030f03c034b499985dcdd70550f74",
       "version_major": 2,
       "version_minor": 0
      },
      "text/plain": [
       "Epoch 6/10 [Validation]:   0%|          | 0/1 [00:00<?, ?it/s]"
      ]
     },
     "metadata": {},
     "output_type": "display_data"
    },
    {
     "name": "stdout",
     "output_type": "stream",
     "text": [
      "Accuracy on test set after epoch 6: 50.00%\n"
     ]
    },
    {
     "data": {
      "application/vnd.jupyter.widget-view+json": {
       "model_id": "d49ad6dde9d8493995f93f944a235a1c",
       "version_major": 2,
       "version_minor": 0
      },
      "text/plain": [
       "Epoch 7/10 [Training]:   0%|          | 0/3 [00:00<?, ?it/s]"
      ]
     },
     "metadata": {},
     "output_type": "display_data"
    },
    {
     "name": "stdout",
     "output_type": "stream",
     "text": [
      "Epoch [7/10] completed. Average Training Loss: 0.6918\n"
     ]
    },
    {
     "data": {
      "application/vnd.jupyter.widget-view+json": {
       "model_id": "73728f1927a9407b97fa05425541f426",
       "version_major": 2,
       "version_minor": 0
      },
      "text/plain": [
       "Epoch 7/10 [Validation]:   0%|          | 0/1 [00:00<?, ?it/s]"
      ]
     },
     "metadata": {},
     "output_type": "display_data"
    },
    {
     "name": "stdout",
     "output_type": "stream",
     "text": [
      "Accuracy on test set after epoch 7: 50.00%\n"
     ]
    },
    {
     "data": {
      "application/vnd.jupyter.widget-view+json": {
       "model_id": "8f46346bc77948be92a06da357e34193",
       "version_major": 2,
       "version_minor": 0
      },
      "text/plain": [
       "Epoch 8/10 [Training]:   0%|          | 0/3 [00:00<?, ?it/s]"
      ]
     },
     "metadata": {},
     "output_type": "display_data"
    },
    {
     "name": "stdout",
     "output_type": "stream",
     "text": [
      "Epoch [8/10] completed. Average Training Loss: 0.6912\n"
     ]
    },
    {
     "data": {
      "application/vnd.jupyter.widget-view+json": {
       "model_id": "bc05a124453c4e73a08bf147d3d782d1",
       "version_major": 2,
       "version_minor": 0
      },
      "text/plain": [
       "Epoch 8/10 [Validation]:   0%|          | 0/1 [00:00<?, ?it/s]"
      ]
     },
     "metadata": {},
     "output_type": "display_data"
    },
    {
     "name": "stdout",
     "output_type": "stream",
     "text": [
      "Accuracy on test set after epoch 8: 50.00%\n"
     ]
    },
    {
     "data": {
      "application/vnd.jupyter.widget-view+json": {
       "model_id": "443b9630f0684f0dae84a50e08067058",
       "version_major": 2,
       "version_minor": 0
      },
      "text/plain": [
       "Epoch 9/10 [Training]:   0%|          | 0/3 [00:00<?, ?it/s]"
      ]
     },
     "metadata": {},
     "output_type": "display_data"
    },
    {
     "name": "stdout",
     "output_type": "stream",
     "text": [
      "Epoch [9/10] completed. Average Training Loss: 0.6899\n"
     ]
    },
    {
     "data": {
      "application/vnd.jupyter.widget-view+json": {
       "model_id": "6bfef64c5e35420f8ef6fb919d013a6a",
       "version_major": 2,
       "version_minor": 0
      },
      "text/plain": [
       "Epoch 9/10 [Validation]:   0%|          | 0/1 [00:00<?, ?it/s]"
      ]
     },
     "metadata": {},
     "output_type": "display_data"
    },
    {
     "name": "stdout",
     "output_type": "stream",
     "text": [
      "Accuracy on test set after epoch 9: 50.00%\n"
     ]
    },
    {
     "data": {
      "application/vnd.jupyter.widget-view+json": {
       "model_id": "60ce49703b79489e978fb05f64d86f91",
       "version_major": 2,
       "version_minor": 0
      },
      "text/plain": [
       "Epoch 10/10 [Training]:   0%|          | 0/3 [00:00<?, ?it/s]"
      ]
     },
     "metadata": {},
     "output_type": "display_data"
    },
    {
     "name": "stdout",
     "output_type": "stream",
     "text": [
      "Epoch [10/10] completed. Average Training Loss: 0.6887\n"
     ]
    },
    {
     "data": {
      "application/vnd.jupyter.widget-view+json": {
       "model_id": "918c6b865a6d4681874082e74d37d052",
       "version_major": 2,
       "version_minor": 0
      },
      "text/plain": [
       "Epoch 10/10 [Validation]:   0%|          | 0/1 [00:00<?, ?it/s]"
      ]
     },
     "metadata": {},
     "output_type": "display_data"
    },
    {
     "name": "stdout",
     "output_type": "stream",
     "text": [
      "Accuracy on test set after epoch 10: 61.76%\n",
      "Finished Training Base Model\n",
      "Model saved to complex_cnn_model.pth\n"
     ]
    }
   ],
   "source": [
    "sample_img, _ = train_dataset[0]\n",
    "C, H, W = sample_img.shape\n",
    "print(f\"Detected image shape: Channels={C}, Height={H}, Width={W}\")\n",
    "\n",
    "# Hyperparameters (Base Model)\n",
    "learning_rate = 0.001\n",
    "batch_size = 64 \n",
    "num_epochs = 10 \n",
    "num_classes = 2 \n",
    "\n",
    "# Default architectural parameters for the base model\n",
    "conv1_out_channels_base = 16\n",
    "conv2_out_channels_base = 32\n",
    "fc_neurons_base = 128\n",
    "\n",
    "# Model, Loss, Optimizer\n",
    "device = torch.device(\"cuda\" if torch.cuda.is_available() else \"cpu\")\n",
    "print(f\"Using device: {device}\")\n",
    "\n",
    "# DataLoaders\n",
    "pin_memory_flag = True if device.type == 'cuda' else False\n",
    "train_loader = DataLoader(train_dataset, batch_size=batch_size, shuffle=True, num_workers=2, pin_memory=pin_memory_flag)\n",
    "test_loader = DataLoader(test_dataset, batch_size=batch_size, shuffle=False, num_workers=2, pin_memory=pin_memory_flag)\n",
    "\n",
    "# Use the (potentially modified) SimpleCNN class\n",
    "model = SimpleCNN(input_channels=C, input_height=H, input_width=W, num_classes=num_classes,\n",
    "                    conv1_out_channels=conv1_out_channels_base, \n",
    "                    conv2_out_channels=conv2_out_channels_base, \n",
    "                    fc_neurons=fc_neurons_base).to(device)\n",
    "\n",
    "criterion = nn.BCEWithLogitsLoss()\n",
    "optimizer = optim.Adam(model.parameters(), lr=learning_rate)\n",
    "\n",
    "# Lists to store metrics for plotting\n",
    "epoch_train_losses = []\n",
    "epoch_test_accuracies = []\n",
    "\n",
    "# Training loop\n",
    "for epoch in range(num_epochs):\n",
    "    model.train()  \n",
    "    running_loss = 0.0\n",
    "    train_pbar = tqdm(train_loader, desc=f\"Epoch {epoch+1}/{num_epochs} [Training]\")\n",
    "    for images, labels in train_pbar:\n",
    "        images = images.to(device)\n",
    "        labels = labels.to(device).float().unsqueeze(1) \n",
    "\n",
    "        outputs = model(images)\n",
    "        loss = criterion(outputs, labels)\n",
    "\n",
    "        optimizer.zero_grad()\n",
    "        loss.backward()\n",
    "        optimizer.step()\n",
    "\n",
    "        running_loss += loss.item() * images.size(0) # loss.item() is avg loss for batch\n",
    "        train_pbar.set_postfix(loss=loss.item())\n",
    "    \n",
    "    avg_epoch_loss = running_loss / len(train_loader.dataset)\n",
    "    epoch_train_losses.append(avg_epoch_loss)\n",
    "    print(f\"Epoch [{epoch+1}/{num_epochs}] completed. Average Training Loss: {avg_epoch_loss:.4f}\")\n",
    "\n",
    "    # Evaluation on the test set\n",
    "    model.eval()  \n",
    "    correct = 0\n",
    "    total = 0\n",
    "    test_pbar = tqdm(test_loader, desc=f\"Epoch {epoch+1}/{num_epochs} [Validation]\")\n",
    "    with torch.no_grad(): \n",
    "        for images, labels in test_pbar:\n",
    "            images = images.to(device)\n",
    "            labels = labels.to(device).float().unsqueeze(1)\n",
    "            \n",
    "            outputs = model(images)\n",
    "            predicted = (torch.sigmoid(outputs) > 0.5).float() \n",
    "            \n",
    "            total += labels.size(0)\n",
    "            correct += (predicted == labels).sum().item()\n",
    "    \n",
    "    accuracy = 100 * correct / total\n",
    "    epoch_test_accuracies.append(accuracy)\n",
    "    print(f\"Accuracy on test set after epoch {epoch+1}: {accuracy:.2f}%\")\n",
    "\n",
    "print(\"Finished Training Base Model\")"
   ]
  },
  {
   "cell_type": "markdown",
   "id": "6293f4b5",
   "metadata": {},
   "source": [
    "### Plots"
   ]
  },
  {
   "cell_type": "code",
   "execution_count": 10,
   "id": "ec2ffc15",
   "metadata": {},
   "outputs": [
    {
     "data": {
      "image/png": "[encoded data removed]",
      "text/plain": [
       "<Figure size 1200x500 with 2 Axes>"
      ]
     },
     "metadata": {},
     "output_type": "display_data"
    }
   ],
   "source": [
    "# Plotting learning curves\n",
    "plt.figure(figsize=(12, 5))\n",
    "\n",
    "plt.subplot(1, 2, 1)\n",
    "plt.plot(range(1, num_epochs + 1), epoch_train_losses, label='Training Loss')\n",
    "plt.xlabel('Epoch')\n",
    "plt.ylabel('Loss')\n",
    "plt.title('Training Loss Curve')\n",
    "plt.legend()\n",
    "\n",
    "plt.subplot(1, 2, 2)\n",
    "plt.plot(range(1, num_epochs + 1), epoch_test_accuracies, label='Test Accuracy', color='red')\n",
    "plt.xlabel('Epoch')\n",
    "plt.ylabel('Accuracy (%)')\n",
    "plt.title('Test Accuracy Curve')\n",
    "plt.legend()\n",
    "\n",
    "plt.tight_layout()\n",
    "plt.show()"
   ]
  },
  {
   "cell_type": "markdown",
   "id": "bca0754c",
   "metadata": {},
   "source": [
    "## Hyperparameter tuning"
   ]
  },
  {
   "cell_type": "markdown",
   "id": "0e629c83",
   "metadata": {},
   "source": [
    "### Random Search"
   ]
  },
  {
   "cell_type": "code",
   "execution_count": 11,
   "id": "b59f0e36",
   "metadata": {},
   "outputs": [
    {
     "name": "stdout",
     "output_type": "stream",
     "text": [
      "Using device for hyperparameter tuning: cuda\n"
     ]
    },
    {
     "data": {
      "application/vnd.jupyter.widget-view+json": {
       "model_id": "e125087d78f945e58297ee10e9373bba",
       "version_major": 2,
       "version_minor": 0
      },
      "text/plain": [
       "Hyperparameter Trials:   0%|          | 0/10 [00:00<?, ?it/s]"
      ]
     },
     "metadata": {},
     "output_type": "display_data"
    },
    {
     "name": "stdout",
     "output_type": "stream",
     "text": [
      "Testing params: {'learning_rate': 0.0001, 'batch_size': 128, 'conv1_out_channels': 32, 'conv2_out_channels': 16, 'fc_neurons': 256}\n"
     ]
    },
    {
     "data": {
      "application/vnd.jupyter.widget-view+json": {
       "model_id": "c4a91634c28948e7b5cce765d20f4f1e",
       "version_major": 2,
       "version_minor": 0
      },
      "text/plain": [
       "Epoch 9:   0%|          | 0/5 [00:00<?, ?it/s]"
      ]
     },
     "metadata": {},
     "output_type": "display_data"
    },
    {
     "data": {
      "application/vnd.jupyter.widget-view+json": {
       "model_id": "63ee26d8e89447d48b4dc9222e4dcac4",
       "version_major": 2,
       "version_minor": 0
      },
      "text/plain": [
       "Trial 1 Epoch 1 [Train]:   0%|          | 0/2 [00:00<?, ?it/s]"
      ]
     },
     "metadata": {},
     "output_type": "display_data"
    },
    {
     "data": {
      "application/vnd.jupyter.widget-view+json": {
       "model_id": "80f9d70850b94e509e54fb9e0f4497e7",
       "version_major": 2,
       "version_minor": 0
      },
      "text/plain": [
       "Trial 1 Epoch 1 [Val]:   0%|          | 0/1 [00:00<?, ?it/s]"
      ]
     },
     "metadata": {},
     "output_type": "display_data"
    },
    {
     "name": "stdout",
     "output_type": "stream",
     "text": [
      "Trial 1 Epoch 1: Train Loss: 0.6934, Val Accuracy: 50.00%\n"
     ]
    },
    {
     "data": {
      "application/vnd.jupyter.widget-view+json": {
       "model_id": "e0bdc142b014421f9c64700547d8561d",
       "version_major": 2,
       "version_minor": 0
      },
      "text/plain": [
       "Trial 1 Epoch 2 [Train]:   0%|          | 0/2 [00:00<?, ?it/s]"
      ]
     },
     "metadata": {},
     "output_type": "display_data"
    },
    {
     "data": {
      "application/vnd.jupyter.widget-view+json": {
       "model_id": "245052cd05db4cd3ba88c4e1dffb1da3",
       "version_major": 2,
       "version_minor": 0
      },
      "text/plain": [
       "Trial 1 Epoch 2 [Val]:   0%|          | 0/1 [00:00<?, ?it/s]"
      ]
     },
     "metadata": {},
     "output_type": "display_data"
    },
    {
     "name": "stdout",
     "output_type": "stream",
     "text": [
      "Trial 1 Epoch 2: Train Loss: 0.6926, Val Accuracy: 50.00%\n"
     ]
    },
    {
     "data": {
      "application/vnd.jupyter.widget-view+json": {
       "model_id": "f6b7390d275a47fb92f7a125a48bbd0f",
       "version_major": 2,
       "version_minor": 0
      },
      "text/plain": [
       "Trial 1 Epoch 3 [Train]:   0%|          | 0/2 [00:00<?, ?it/s]"
      ]
     },
     "metadata": {},
     "output_type": "display_data"
    },
    {
     "data": {
      "application/vnd.jupyter.widget-view+json": {
       "model_id": "48c16f44aeeb4f2eb079d6d27f552db2",
       "version_major": 2,
       "version_minor": 0
      },
      "text/plain": [
       "Trial 1 Epoch 3 [Val]:   0%|          | 0/1 [00:00<?, ?it/s]"
      ]
     },
     "metadata": {},
     "output_type": "display_data"
    },
    {
     "name": "stdout",
     "output_type": "stream",
     "text": [
      "Trial 1 Epoch 3: Train Loss: 0.6922, Val Accuracy: 50.00%\n"
     ]
    },
    {
     "data": {
      "application/vnd.jupyter.widget-view+json": {
       "model_id": "7a0350e33f844d4398bf8effd225cbf2",
       "version_major": 2,
       "version_minor": 0
      },
      "text/plain": [
       "Trial 1 Epoch 4 [Train]:   0%|          | 0/2 [00:00<?, ?it/s]"
      ]
     },
     "metadata": {},
     "output_type": "display_data"
    },
    {
     "data": {
      "application/vnd.jupyter.widget-view+json": {
       "model_id": "a111af5b20da4a3e8000e7fa8e8367bc",
       "version_major": 2,
       "version_minor": 0
      },
      "text/plain": [
       "Trial 1 Epoch 4 [Val]:   0%|          | 0/1 [00:00<?, ?it/s]"
      ]
     },
     "metadata": {},
     "output_type": "display_data"
    },
    {
     "name": "stdout",
     "output_type": "stream",
     "text": [
      "Trial 1 Epoch 4: Train Loss: 0.6920, Val Accuracy: 50.00%\n"
     ]
    },
    {
     "data": {
      "application/vnd.jupyter.widget-view+json": {
       "model_id": "a6ff4dd2a0d54ccd9e53de730a9d7a99",
       "version_major": 2,
       "version_minor": 0
      },
      "text/plain": [
       "Trial 1 Epoch 5 [Train]:   0%|          | 0/2 [00:00<?, ?it/s]"
      ]
     },
     "metadata": {},
     "output_type": "display_data"
    },
    {
     "data": {
      "application/vnd.jupyter.widget-view+json": {
       "model_id": "b5f28189c5db44a29d6d8b7d5204f69d",
       "version_major": 2,
       "version_minor": 0
      },
      "text/plain": [
       "Trial 1 Epoch 5 [Val]:   0%|          | 0/1 [00:00<?, ?it/s]"
      ]
     },
     "metadata": {},
     "output_type": "display_data"
    },
    {
     "name": "stdout",
     "output_type": "stream",
     "text": [
      "Trial 1 Epoch 5: Train Loss: 0.6918, Val Accuracy: 50.00%\n",
      "New best model found! Val Accuracy: 50.00%, Params: {'learning_rate': 0.0001, 'batch_size': 128, 'conv1_out_channels': 32, 'conv2_out_channels': 16, 'fc_neurons': 256}\n",
      "Testing params: {'learning_rate': 0.005, 'batch_size': 128, 'conv1_out_channels': 16, 'conv2_out_channels': 64, 'fc_neurons': 64}\n"
     ]
    },
    {
     "data": {
      "application/vnd.jupyter.widget-view+json": {
       "model_id": "1d44158178d54f6491d0cfc78c9dce65",
       "version_major": 2,
       "version_minor": 0
      },
      "text/plain": [
       "Epoch 4:   0%|          | 0/5 [00:00<?, ?it/s]"
      ]
     },
     "metadata": {},
     "output_type": "display_data"
    },
    {
     "data": {
      "application/vnd.jupyter.widget-view+json": {
       "model_id": "192ccc63505547f9812f527ee48147d1",
       "version_major": 2,
       "version_minor": 0
      },
      "text/plain": [
       "Trial 2 Epoch 1 [Train]:   0%|          | 0/2 [00:00<?, ?it/s]"
      ]
     },
     "metadata": {},
     "output_type": "display_data"
    },
    {
     "data": {
      "application/vnd.jupyter.widget-view+json": {
       "model_id": "c0825155c00646689f03ce4e187811e1",
       "version_major": 2,
       "version_minor": 0
      },
      "text/plain": [
       "Trial 2 Epoch 1 [Val]:   0%|          | 0/1 [00:00<?, ?it/s]"
      ]
     },
     "metadata": {},
     "output_type": "display_data"
    },
    {
     "name": "stdout",
     "output_type": "stream",
     "text": [
      "Trial 2 Epoch 1: Train Loss: 0.7407, Val Accuracy: 50.00%\n"
     ]
    },
    {
     "data": {
      "application/vnd.jupyter.widget-view+json": {
       "model_id": "fbf2730c46cc45059fe96dd4acea1712",
       "version_major": 2,
       "version_minor": 0
      },
      "text/plain": [
       "Trial 2 Epoch 2 [Train]:   0%|          | 0/2 [00:00<?, ?it/s]"
      ]
     },
     "metadata": {},
     "output_type": "display_data"
    },
    {
     "data": {
      "application/vnd.jupyter.widget-view+json": {
       "model_id": "fc0be5a2f36048018ee487ecf8628120",
       "version_major": 2,
       "version_minor": 0
      },
      "text/plain": [
       "Trial 2 Epoch 2 [Val]:   0%|          | 0/1 [00:00<?, ?it/s]"
      ]
     },
     "metadata": {},
     "output_type": "display_data"
    },
    {
     "name": "stdout",
     "output_type": "stream",
     "text": [
      "Trial 2 Epoch 2: Train Loss: 0.7067, Val Accuracy: 50.00%\n"
     ]
    },
    {
     "data": {
      "application/vnd.jupyter.widget-view+json": {
       "model_id": "47830671c8a34ec9ab66dddf6a1e8781",
       "version_major": 2,
       "version_minor": 0
      },
      "text/plain": [
       "Trial 2 Epoch 3 [Train]:   0%|          | 0/2 [00:00<?, ?it/s]"
      ]
     },
     "metadata": {},
     "output_type": "display_data"
    },
    {
     "data": {
      "application/vnd.jupyter.widget-view+json": {
       "model_id": "f3939c98d44f4ed68d9a703d6c8b0f55",
       "version_major": 2,
       "version_minor": 0
      },
      "text/plain": [
       "Trial 2 Epoch 3 [Val]:   0%|          | 0/1 [00:00<?, ?it/s]"
      ]
     },
     "metadata": {},
     "output_type": "display_data"
    },
    {
     "name": "stdout",
     "output_type": "stream",
     "text": [
      "Trial 2 Epoch 3: Train Loss: 0.7052, Val Accuracy: 50.00%\n"
     ]
    },
    {
     "data": {
      "application/vnd.jupyter.widget-view+json": {
       "model_id": "ddb02dc999ff46e1bf44b7228894ae82",
       "version_major": 2,
       "version_minor": 0
      },
      "text/plain": [
       "Trial 2 Epoch 4 [Train]:   0%|          | 0/2 [00:00<?, ?it/s]"
      ]
     },
     "metadata": {},
     "output_type": "display_data"
    },
    {
     "data": {
      "application/vnd.jupyter.widget-view+json": {
       "model_id": "eb1e28504c77453892b814afcee107b3",
       "version_major": 2,
       "version_minor": 0
      },
      "text/plain": [
       "Trial 2 Epoch 4 [Val]:   0%|          | 0/1 [00:00<?, ?it/s]"
      ]
     },
     "metadata": {},
     "output_type": "display_data"
    },
    {
     "name": "stdout",
     "output_type": "stream",
     "text": [
      "Trial 2 Epoch 4: Train Loss: 0.6960, Val Accuracy: 50.00%\n"
     ]
    },
    {
     "data": {
      "application/vnd.jupyter.widget-view+json": {
       "model_id": "4e020cce178f483782f5a5cc03d7a16c",
       "version_major": 2,
       "version_minor": 0
      },
      "text/plain": [
       "Trial 2 Epoch 5 [Train]:   0%|          | 0/2 [00:00<?, ?it/s]"
      ]
     },
     "metadata": {},
     "output_type": "display_data"
    },
    {
     "data": {
      "application/vnd.jupyter.widget-view+json": {
       "model_id": "26b705a35eca408f93d239ec6811d382",
       "version_major": 2,
       "version_minor": 0
      },
      "text/plain": [
       "Trial 2 Epoch 5 [Val]:   0%|          | 0/1 [00:00<?, ?it/s]"
      ]
     },
     "metadata": {},
     "output_type": "display_data"
    },
    {
     "name": "stdout",
     "output_type": "stream",
     "text": [
      "Trial 2 Epoch 5: Train Loss: 0.6934, Val Accuracy: 50.00%\n",
      "Testing params: {'learning_rate': 0.01, 'batch_size': 64, 'conv1_out_channels': 8, 'conv2_out_channels': 16, 'fc_neurons': 128}\n"
     ]
    },
    {
     "data": {
      "application/vnd.jupyter.widget-view+json": {
       "model_id": "751c37ff74f54be09111ac0ee64622cb",
       "version_major": 2,
       "version_minor": 0
      },
      "text/plain": [
       "Epoch 4:   0%|          | 0/5 [00:00<?, ?it/s]"
      ]
     },
     "metadata": {},
     "output_type": "display_data"
    },
    {
     "data": {
      "application/vnd.jupyter.widget-view+json": {
       "model_id": "bc2e4d89da4042bb9b2a9256b7f2862b",
       "version_major": 2,
       "version_minor": 0
      },
      "text/plain": [
       "Trial 3 Epoch 1 [Train]:   0%|          | 0/3 [00:00<?, ?it/s]"
      ]
     },
     "metadata": {},
     "output_type": "display_data"
    },
    {
     "data": {
      "application/vnd.jupyter.widget-view+json": {
       "model_id": "97431d8451ba4df2a0bc47d19d9303d2",
       "version_major": 2,
       "version_minor": 0
      },
      "text/plain": [
       "Trial 3 Epoch 1 [Val]:   0%|          | 0/1 [00:00<?, ?it/s]"
      ]
     },
     "metadata": {},
     "output_type": "display_data"
    },
    {
     "name": "stdout",
     "output_type": "stream",
     "text": [
      "Trial 3 Epoch 1: Train Loss: 0.8073, Val Accuracy: 50.00%\n"
     ]
    },
    {
     "data": {
      "application/vnd.jupyter.widget-view+json": {
       "model_id": "0394b2749cf9490a8f5465644704230f",
       "version_major": 2,
       "version_minor": 0
      },
      "text/plain": [
       "Trial 3 Epoch 2 [Train]:   0%|          | 0/3 [00:00<?, ?it/s]"
      ]
     },
     "metadata": {},
     "output_type": "display_data"
    },
    {
     "data": {
      "application/vnd.jupyter.widget-view+json": {
       "model_id": "dd990a88d24e4b4c956674effba2e737",
       "version_major": 2,
       "version_minor": 0
      },
      "text/plain": [
       "Trial 3 Epoch 2 [Val]:   0%|          | 0/1 [00:00<?, ?it/s]"
      ]
     },
     "metadata": {},
     "output_type": "display_data"
    },
    {
     "name": "stdout",
     "output_type": "stream",
     "text": [
      "Trial 3 Epoch 2: Train Loss: 0.6974, Val Accuracy: 50.00%\n"
     ]
    },
    {
     "data": {
      "application/vnd.jupyter.widget-view+json": {
       "model_id": "b5c143212c0e473b8634de802b6e968c",
       "version_major": 2,
       "version_minor": 0
      },
      "text/plain": [
       "Trial 3 Epoch 3 [Train]:   0%|          | 0/3 [00:00<?, ?it/s]"
      ]
     },
     "metadata": {},
     "output_type": "display_data"
    },
    {
     "data": {
      "application/vnd.jupyter.widget-view+json": {
       "model_id": "8f11beb73cd24cd7bea7b7799f5093d7",
       "version_major": 2,
       "version_minor": 0
      },
      "text/plain": [
       "Trial 3 Epoch 3 [Val]:   0%|          | 0/1 [00:00<?, ?it/s]"
      ]
     },
     "metadata": {},
     "output_type": "display_data"
    },
    {
     "name": "stdout",
     "output_type": "stream",
     "text": [
      "Trial 3 Epoch 3: Train Loss: 0.6958, Val Accuracy: 50.00%\n"
     ]
    },
    {
     "data": {
      "application/vnd.jupyter.widget-view+json": {
       "model_id": "24904058dae840cea9214b5bf90aa80b",
       "version_major": 2,
       "version_minor": 0
      },
      "text/plain": [
       "Trial 3 Epoch 4 [Train]:   0%|          | 0/3 [00:00<?, ?it/s]"
      ]
     },
     "metadata": {},
     "output_type": "display_data"
    },
    {
     "data": {
      "application/vnd.jupyter.widget-view+json": {
       "model_id": "6b492ceabc24435abf8347de7ce30d54",
       "version_major": 2,
       "version_minor": 0
      },
      "text/plain": [
       "Trial 3 Epoch 4 [Val]:   0%|          | 0/1 [00:00<?, ?it/s]"
      ]
     },
     "metadata": {},
     "output_type": "display_data"
    },
    {
     "name": "stdout",
     "output_type": "stream",
     "text": [
      "Trial 3 Epoch 4: Train Loss: 0.6999, Val Accuracy: 50.00%\n"
     ]
    },
    {
     "data": {
      "application/vnd.jupyter.widget-view+json": {
       "model_id": "02035f0fbac94ee9a8e5d45373c41115",
       "version_major": 2,
       "version_minor": 0
      },
      "text/plain": [
       "Trial 3 Epoch 5 [Train]:   0%|          | 0/3 [00:00<?, ?it/s]"
      ]
     },
     "metadata": {},
     "output_type": "display_data"
    },
    {
     "data": {
      "application/vnd.jupyter.widget-view+json": {
       "model_id": "7fcefda40f484e3fb16115d102f00603",
       "version_major": 2,
       "version_minor": 0
      },
      "text/plain": [
       "Trial 3 Epoch 5 [Val]:   0%|          | 0/1 [00:00<?, ?it/s]"
      ]
     },
     "metadata": {},
     "output_type": "display_data"
    },
    {
     "name": "stdout",
     "output_type": "stream",
     "text": [
      "Trial 3 Epoch 5: Train Loss: 0.6960, Val Accuracy: 50.00%\n",
      "Testing params: {'learning_rate': 0.01, 'batch_size': 32, 'conv1_out_channels': 16, 'conv2_out_channels': 32, 'fc_neurons': 128}\n"
     ]
    },
    {
     "data": {
      "application/vnd.jupyter.widget-view+json": {
       "model_id": "4824488057784438afc194a42afa1890",
       "version_major": 2,
       "version_minor": 0
      },
      "text/plain": [
       "Epoch 4:   0%|          | 0/5 [00:00<?, ?it/s]"
      ]
     },
     "metadata": {},
     "output_type": "display_data"
    },
    {
     "data": {
      "application/vnd.jupyter.widget-view+json": {
       "model_id": "3f40ccf04eee44ae9be2af849ee88445",
       "version_major": 2,
       "version_minor": 0
      },
      "text/plain": [
       "Trial 4 Epoch 1 [Train]:   0%|          | 0/5 [00:00<?, ?it/s]"
      ]
     },
     "metadata": {},
     "output_type": "display_data"
    },
    {
     "data": {
      "application/vnd.jupyter.widget-view+json": {
       "model_id": "33be17080fc941029897d19ea69d8b4a",
       "version_major": 2,
       "version_minor": 0
      },
      "text/plain": [
       "Trial 4 Epoch 1 [Val]:   0%|          | 0/2 [00:00<?, ?it/s]"
      ]
     },
     "metadata": {},
     "output_type": "display_data"
    },
    {
     "name": "stdout",
     "output_type": "stream",
     "text": [
      "Trial 4 Epoch 1: Train Loss: 0.8455, Val Accuracy: 50.00%\n"
     ]
    },
    {
     "data": {
      "application/vnd.jupyter.widget-view+json": {
       "model_id": "08da77c7d652422f807c59b3d363777e",
       "version_major": 2,
       "version_minor": 0
      },
      "text/plain": [
       "Trial 4 Epoch 2 [Train]:   0%|          | 0/5 [00:00<?, ?it/s]"
      ]
     },
     "metadata": {},
     "output_type": "display_data"
    },
    {
     "data": {
      "application/vnd.jupyter.widget-view+json": {
       "model_id": "9174a6f4a9ee4ca8b5aa21b7d414de97",
       "version_major": 2,
       "version_minor": 0
      },
      "text/plain": [
       "Trial 4 Epoch 2 [Val]:   0%|          | 0/2 [00:00<?, ?it/s]"
      ]
     },
     "metadata": {},
     "output_type": "display_data"
    },
    {
     "name": "stdout",
     "output_type": "stream",
     "text": [
      "Trial 4 Epoch 2: Train Loss: 0.6968, Val Accuracy: 50.00%\n"
     ]
    },
    {
     "data": {
      "application/vnd.jupyter.widget-view+json": {
       "model_id": "99bb0f97ea424fc1922c82ab8a905091",
       "version_major": 2,
       "version_minor": 0
      },
      "text/plain": [
       "Trial 4 Epoch 3 [Train]:   0%|          | 0/5 [00:00<?, ?it/s]"
      ]
     },
     "metadata": {},
     "output_type": "display_data"
    },
    {
     "data": {
      "application/vnd.jupyter.widget-view+json": {
       "model_id": "bb3f3d8c127f498dbc6103730a943dbc",
       "version_major": 2,
       "version_minor": 0
      },
      "text/plain": [
       "Trial 4 Epoch 3 [Val]:   0%|          | 0/2 [00:00<?, ?it/s]"
      ]
     },
     "metadata": {},
     "output_type": "display_data"
    },
    {
     "name": "stdout",
     "output_type": "stream",
     "text": [
      "Trial 4 Epoch 3: Train Loss: 0.6927, Val Accuracy: 50.00%\n"
     ]
    },
    {
     "data": {
      "application/vnd.jupyter.widget-view+json": {
       "model_id": "d9ee21fbdf074eef975d4aeccc8432d0",
       "version_major": 2,
       "version_minor": 0
      },
      "text/plain": [
       "Trial 4 Epoch 4 [Train]:   0%|          | 0/5 [00:00<?, ?it/s]"
      ]
     },
     "metadata": {},
     "output_type": "display_data"
    },
    {
     "data": {
      "application/vnd.jupyter.widget-view+json": {
       "model_id": "258eea781eb846cd93d5aa912a6c6953",
       "version_major": 2,
       "version_minor": 0
      },
      "text/plain": [
       "Trial 4 Epoch 4 [Val]:   0%|          | 0/2 [00:00<?, ?it/s]"
      ]
     },
     "metadata": {},
     "output_type": "display_data"
    },
    {
     "name": "stdout",
     "output_type": "stream",
     "text": [
      "Trial 4 Epoch 4: Train Loss: 0.6934, Val Accuracy: 50.00%\n"
     ]
    },
    {
     "data": {
      "application/vnd.jupyter.widget-view+json": {
       "model_id": "0dc4a561bfe040b3bd345415dd237373",
       "version_major": 2,
       "version_minor": 0
      },
      "text/plain": [
       "Trial 4 Epoch 5 [Train]:   0%|          | 0/5 [00:00<?, ?it/s]"
      ]
     },
     "metadata": {},
     "output_type": "display_data"
    },
    {
     "data": {
      "application/vnd.jupyter.widget-view+json": {
       "model_id": "4ad49d9a0fb24fecb349a202cf234fec",
       "version_major": 2,
       "version_minor": 0
      },
      "text/plain": [
       "Trial 4 Epoch 5 [Val]:   0%|          | 0/2 [00:00<?, ?it/s]"
      ]
     },
     "metadata": {},
     "output_type": "display_data"
    },
    {
     "name": "stdout",
     "output_type": "stream",
     "text": [
      "Trial 4 Epoch 5: Train Loss: 0.6919, Val Accuracy: 50.00%\n",
      "Testing params: {'learning_rate': 0.0005, 'batch_size': 64, 'conv1_out_channels': 16, 'conv2_out_channels': 16, 'fc_neurons': 128}\n"
     ]
    },
    {
     "data": {
      "application/vnd.jupyter.widget-view+json": {
       "model_id": "13fa901fe5cf464fb4a5f920a1efe1c5",
       "version_major": 2,
       "version_minor": 0
      },
      "text/plain": [
       "Epoch 4:   0%|          | 0/5 [00:00<?, ?it/s]"
      ]
     },
     "metadata": {},
     "output_type": "display_data"
    },
    {
     "data": {
      "application/vnd.jupyter.widget-view+json": {
       "model_id": "ebfa212628834c7399a41f9f7b76a265",
       "version_major": 2,
       "version_minor": 0
      },
      "text/plain": [
       "Trial 5 Epoch 1 [Train]:   0%|          | 0/3 [00:00<?, ?it/s]"
      ]
     },
     "metadata": {},
     "output_type": "display_data"
    },
    {
     "data": {
      "application/vnd.jupyter.widget-view+json": {
       "model_id": "866d79ee7a44453cb7233d573a4d4c5c",
       "version_major": 2,
       "version_minor": 0
      },
      "text/plain": [
       "Trial 5 Epoch 1 [Val]:   0%|          | 0/1 [00:00<?, ?it/s]"
      ]
     },
     "metadata": {},
     "output_type": "display_data"
    },
    {
     "name": "stdout",
     "output_type": "stream",
     "text": [
      "Trial 5 Epoch 1: Train Loss: 0.6955, Val Accuracy: 50.00%\n"
     ]
    },
    {
     "data": {
      "application/vnd.jupyter.widget-view+json": {
       "model_id": "6553dfa4c97d4e2eaa307338ea993f51",
       "version_major": 2,
       "version_minor": 0
      },
      "text/plain": [
       "Trial 5 Epoch 2 [Train]:   0%|          | 0/3 [00:00<?, ?it/s]"
      ]
     },
     "metadata": {},
     "output_type": "display_data"
    },
    {
     "data": {
      "application/vnd.jupyter.widget-view+json": {
       "model_id": "80c84e2e3bf947ae9f0fb4ebca6c0379",
       "version_major": 2,
       "version_minor": 0
      },
      "text/plain": [
       "Trial 5 Epoch 2 [Val]:   0%|          | 0/1 [00:00<?, ?it/s]"
      ]
     },
     "metadata": {},
     "output_type": "display_data"
    },
    {
     "name": "stdout",
     "output_type": "stream",
     "text": [
      "Trial 5 Epoch 2: Train Loss: 0.6915, Val Accuracy: 50.00%\n"
     ]
    },
    {
     "data": {
      "application/vnd.jupyter.widget-view+json": {
       "model_id": "033b2ab9b62b4dd0a98292e641d8d652",
       "version_major": 2,
       "version_minor": 0
      },
      "text/plain": [
       "Trial 5 Epoch 3 [Train]:   0%|          | 0/3 [00:00<?, ?it/s]"
      ]
     },
     "metadata": {},
     "output_type": "display_data"
    },
    {
     "data": {
      "application/vnd.jupyter.widget-view+json": {
       "model_id": "b541d579795a44f58510ef6ec5088070",
       "version_major": 2,
       "version_minor": 0
      },
      "text/plain": [
       "Trial 5 Epoch 3 [Val]:   0%|          | 0/1 [00:00<?, ?it/s]"
      ]
     },
     "metadata": {},
     "output_type": "display_data"
    },
    {
     "name": "stdout",
     "output_type": "stream",
     "text": [
      "Trial 5 Epoch 3: Train Loss: 0.6895, Val Accuracy: 50.00%\n"
     ]
    },
    {
     "data": {
      "application/vnd.jupyter.widget-view+json": {
       "model_id": "d9655f13b43c4f6fa4c6e2429bc1c944",
       "version_major": 2,
       "version_minor": 0
      },
      "text/plain": [
       "Trial 5 Epoch 4 [Train]:   0%|          | 0/3 [00:00<?, ?it/s]"
      ]
     },
     "metadata": {},
     "output_type": "display_data"
    },
    {
     "data": {
      "application/vnd.jupyter.widget-view+json": {
       "model_id": "231cadcdc8b5426fb515f9ef0d7d98b4",
       "version_major": 2,
       "version_minor": 0
      },
      "text/plain": [
       "Trial 5 Epoch 4 [Val]:   0%|          | 0/1 [00:00<?, ?it/s]"
      ]
     },
     "metadata": {},
     "output_type": "display_data"
    },
    {
     "name": "stdout",
     "output_type": "stream",
     "text": [
      "Trial 5 Epoch 4: Train Loss: 0.6872, Val Accuracy: 50.00%\n"
     ]
    },
    {
     "data": {
      "application/vnd.jupyter.widget-view+json": {
       "model_id": "3c320c9cad1d47ed8f64b2da2473900b",
       "version_major": 2,
       "version_minor": 0
      },
      "text/plain": [
       "Trial 5 Epoch 5 [Train]:   0%|          | 0/3 [00:00<?, ?it/s]"
      ]
     },
     "metadata": {},
     "output_type": "display_data"
    },
    {
     "data": {
      "application/vnd.jupyter.widget-view+json": {
       "model_id": "b7bb523970a2462ab5393f6289aa27dc",
       "version_major": 2,
       "version_minor": 0
      },
      "text/plain": [
       "Trial 5 Epoch 5 [Val]:   0%|          | 0/1 [00:00<?, ?it/s]"
      ]
     },
     "metadata": {},
     "output_type": "display_data"
    },
    {
     "name": "stdout",
     "output_type": "stream",
     "text": [
      "Trial 5 Epoch 5: Train Loss: 0.6860, Val Accuracy: 50.00%\n",
      "Testing params: {'learning_rate': 0.001, 'batch_size': 32, 'conv1_out_channels': 16, 'conv2_out_channels': 16, 'fc_neurons': 128}\n"
     ]
    },
    {
     "data": {
      "application/vnd.jupyter.widget-view+json": {
       "model_id": "e129269e942e441cb8ab5765e7c92377",
       "version_major": 2,
       "version_minor": 0
      },
      "text/plain": [
       "Epoch 4:   0%|          | 0/5 [00:00<?, ?it/s]"
      ]
     },
     "metadata": {},
     "output_type": "display_data"
    },
    {
     "data": {
      "application/vnd.jupyter.widget-view+json": {
       "model_id": "bbae1d1f31584d629c3a982564b75e62",
       "version_major": 2,
       "version_minor": 0
      },
      "text/plain": [
       "Trial 6 Epoch 1 [Train]:   0%|          | 0/5 [00:00<?, ?it/s]"
      ]
     },
     "metadata": {},
     "output_type": "display_data"
    },
    {
     "data": {
      "application/vnd.jupyter.widget-view+json": {
       "model_id": "c98f20d33e3b4e60afb217544a8bdb4f",
       "version_major": 2,
       "version_minor": 0
      },
      "text/plain": [
       "Trial 6 Epoch 1 [Val]:   0%|          | 0/2 [00:00<?, ?it/s]"
      ]
     },
     "metadata": {},
     "output_type": "display_data"
    },
    {
     "name": "stdout",
     "output_type": "stream",
     "text": [
      "Trial 6 Epoch 1: Train Loss: 0.6965, Val Accuracy: 55.88%\n"
     ]
    },
    {
     "data": {
      "application/vnd.jupyter.widget-view+json": {
       "model_id": "e5272c9ea118419bae52e493bb9c942a",
       "version_major": 2,
       "version_minor": 0
      },
      "text/plain": [
       "Trial 6 Epoch 2 [Train]:   0%|          | 0/5 [00:00<?, ?it/s]"
      ]
     },
     "metadata": {},
     "output_type": "display_data"
    },
    {
     "data": {
      "application/vnd.jupyter.widget-view+json": {
       "model_id": "6378bfc9fe95409a8e11a5f90a15afd1",
       "version_major": 2,
       "version_minor": 0
      },
      "text/plain": [
       "Trial 6 Epoch 2 [Val]:   0%|          | 0/2 [00:00<?, ?it/s]"
      ]
     },
     "metadata": {},
     "output_type": "display_data"
    },
    {
     "name": "stdout",
     "output_type": "stream",
     "text": [
      "Trial 6 Epoch 2: Train Loss: 0.6945, Val Accuracy: 50.00%\n"
     ]
    },
    {
     "data": {
      "application/vnd.jupyter.widget-view+json": {
       "model_id": "88b40010462345678bfd39fa9444710a",
       "version_major": 2,
       "version_minor": 0
      },
      "text/plain": [
       "Trial 6 Epoch 3 [Train]:   0%|          | 0/5 [00:00<?, ?it/s]"
      ]
     },
     "metadata": {},
     "output_type": "display_data"
    },
    {
     "data": {
      "application/vnd.jupyter.widget-view+json": {
       "model_id": "8422b858f6db4506b9400816edb713d8",
       "version_major": 2,
       "version_minor": 0
      },
      "text/plain": [
       "Trial 6 Epoch 3 [Val]:   0%|          | 0/2 [00:00<?, ?it/s]"
      ]
     },
     "metadata": {},
     "output_type": "display_data"
    },
    {
     "name": "stdout",
     "output_type": "stream",
     "text": [
      "Trial 6 Epoch 3: Train Loss: 0.6929, Val Accuracy: 50.00%\n"
     ]
    },
    {
     "data": {
      "application/vnd.jupyter.widget-view+json": {
       "model_id": "db284ff984f648e5b35229aa3709b109",
       "version_major": 2,
       "version_minor": 0
      },
      "text/plain": [
       "Trial 6 Epoch 4 [Train]:   0%|          | 0/5 [00:00<?, ?it/s]"
      ]
     },
     "metadata": {},
     "output_type": "display_data"
    },
    {
     "data": {
      "application/vnd.jupyter.widget-view+json": {
       "model_id": "10913a77a9db47cd98682960e36701c4",
       "version_major": 2,
       "version_minor": 0
      },
      "text/plain": [
       "Trial 6 Epoch 4 [Val]:   0%|          | 0/2 [00:00<?, ?it/s]"
      ]
     },
     "metadata": {},
     "output_type": "display_data"
    },
    {
     "name": "stdout",
     "output_type": "stream",
     "text": [
      "Trial 6 Epoch 4: Train Loss: 0.6924, Val Accuracy: 50.00%\n"
     ]
    },
    {
     "data": {
      "application/vnd.jupyter.widget-view+json": {
       "model_id": "5c5bff9aaa0d46ecacfa2ff79f9689e2",
       "version_major": 2,
       "version_minor": 0
      },
      "text/plain": [
       "Trial 6 Epoch 5 [Train]:   0%|          | 0/5 [00:00<?, ?it/s]"
      ]
     },
     "metadata": {},
     "output_type": "display_data"
    },
    {
     "data": {
      "application/vnd.jupyter.widget-view+json": {
       "model_id": "472a18665ab449fbaa51110a96daefc3",
       "version_major": 2,
       "version_minor": 0
      },
      "text/plain": [
       "Trial 6 Epoch 5 [Val]:   0%|          | 0/2 [00:00<?, ?it/s]"
      ]
     },
     "metadata": {},
     "output_type": "display_data"
    },
    {
     "name": "stdout",
     "output_type": "stream",
     "text": [
      "Trial 6 Epoch 5: Train Loss: 0.6912, Val Accuracy: 50.00%\n",
      "Testing params: {'learning_rate': 0.001, 'batch_size': 32, 'conv1_out_channels': 16, 'conv2_out_channels': 32, 'fc_neurons': 128}\n"
     ]
    },
    {
     "data": {
      "application/vnd.jupyter.widget-view+json": {
       "model_id": "bf9797520a7a4068b70a37dc13a0d7cc",
       "version_major": 2,
       "version_minor": 0
      },
      "text/plain": [
       "Epoch 4:   0%|          | 0/5 [00:00<?, ?it/s]"
      ]
     },
     "metadata": {},
     "output_type": "display_data"
    },
    {
     "data": {
      "application/vnd.jupyter.widget-view+json": {
       "model_id": "c13ee78bd7b24b848656d5de56f3ec48",
       "version_major": 2,
       "version_minor": 0
      },
      "text/plain": [
       "Trial 7 Epoch 1 [Train]:   0%|          | 0/5 [00:00<?, ?it/s]"
      ]
     },
     "metadata": {},
     "output_type": "display_data"
    },
    {
     "data": {
      "application/vnd.jupyter.widget-view+json": {
       "model_id": "f24b961eda734d4c861afcab572d3b4a",
       "version_major": 2,
       "version_minor": 0
      },
      "text/plain": [
       "Trial 7 Epoch 1 [Val]:   0%|          | 0/2 [00:00<?, ?it/s]"
      ]
     },
     "metadata": {},
     "output_type": "display_data"
    },
    {
     "name": "stdout",
     "output_type": "stream",
     "text": [
      "Trial 7 Epoch 1: Train Loss: 0.6998, Val Accuracy: 50.00%\n"
     ]
    },
    {
     "data": {
      "application/vnd.jupyter.widget-view+json": {
       "model_id": "ca8b56ca9ae64375ba894af6282985ab",
       "version_major": 2,
       "version_minor": 0
      },
      "text/plain": [
       "Trial 7 Epoch 2 [Train]:   0%|          | 0/5 [00:00<?, ?it/s]"
      ]
     },
     "metadata": {},
     "output_type": "display_data"
    },
    {
     "data": {
      "application/vnd.jupyter.widget-view+json": {
       "model_id": "228143d6a7234f30a7d0353cd83411d0",
       "version_major": 2,
       "version_minor": 0
      },
      "text/plain": [
       "Trial 7 Epoch 2 [Val]:   0%|          | 0/2 [00:00<?, ?it/s]"
      ]
     },
     "metadata": {},
     "output_type": "display_data"
    },
    {
     "name": "stdout",
     "output_type": "stream",
     "text": [
      "Trial 7 Epoch 2: Train Loss: 0.6931, Val Accuracy: 61.76%\n"
     ]
    },
    {
     "data": {
      "application/vnd.jupyter.widget-view+json": {
       "model_id": "81dc50579a78481ca8a2730672672633",
       "version_major": 2,
       "version_minor": 0
      },
      "text/plain": [
       "Trial 7 Epoch 3 [Train]:   0%|          | 0/5 [00:00<?, ?it/s]"
      ]
     },
     "metadata": {},
     "output_type": "display_data"
    },
    {
     "data": {
      "application/vnd.jupyter.widget-view+json": {
       "model_id": "7dd1401028754d5b9c71d2ccc699a704",
       "version_major": 2,
       "version_minor": 0
      },
      "text/plain": [
       "Trial 7 Epoch 3 [Val]:   0%|          | 0/2 [00:00<?, ?it/s]"
      ]
     },
     "metadata": {},
     "output_type": "display_data"
    },
    {
     "name": "stdout",
     "output_type": "stream",
     "text": [
      "Trial 7 Epoch 3: Train Loss: 0.6919, Val Accuracy: 73.53%\n"
     ]
    },
    {
     "data": {
      "application/vnd.jupyter.widget-view+json": {
       "model_id": "a3bc209d029740e7a1e284307fd8af18",
       "version_major": 2,
       "version_minor": 0
      },
      "text/plain": [
       "Trial 7 Epoch 4 [Train]:   0%|          | 0/5 [00:00<?, ?it/s]"
      ]
     },
     "metadata": {},
     "output_type": "display_data"
    },
    {
     "data": {
      "application/vnd.jupyter.widget-view+json": {
       "model_id": "28f2a455597247c4aedbc90cd6a202ab",
       "version_major": 2,
       "version_minor": 0
      },
      "text/plain": [
       "Trial 7 Epoch 4 [Val]:   0%|          | 0/2 [00:00<?, ?it/s]"
      ]
     },
     "metadata": {},
     "output_type": "display_data"
    },
    {
     "name": "stdout",
     "output_type": "stream",
     "text": [
      "Trial 7 Epoch 4: Train Loss: 0.6889, Val Accuracy: 50.00%\n"
     ]
    },
    {
     "data": {
      "application/vnd.jupyter.widget-view+json": {
       "model_id": "fb939a280ae947c9aa05e86f8a8ac7b9",
       "version_major": 2,
       "version_minor": 0
      },
      "text/plain": [
       "Trial 7 Epoch 5 [Train]:   0%|          | 0/5 [00:00<?, ?it/s]"
      ]
     },
     "metadata": {},
     "output_type": "display_data"
    },
    {
     "data": {
      "application/vnd.jupyter.widget-view+json": {
       "model_id": "190325d94b8a40ab86c4e81b27144ad2",
       "version_major": 2,
       "version_minor": 0
      },
      "text/plain": [
       "Trial 7 Epoch 5 [Val]:   0%|          | 0/2 [00:00<?, ?it/s]"
      ]
     },
     "metadata": {},
     "output_type": "display_data"
    },
    {
     "name": "stdout",
     "output_type": "stream",
     "text": [
      "Trial 7 Epoch 5: Train Loss: 0.6870, Val Accuracy: 50.00%\n",
      "Testing params: {'learning_rate': 0.0005, 'batch_size': 128, 'conv1_out_channels': 16, 'conv2_out_channels': 16, 'fc_neurons': 256}\n"
     ]
    },
    {
     "data": {
      "application/vnd.jupyter.widget-view+json": {
       "model_id": "06b046e51781421583e1ab9daf3e805f",
       "version_major": 2,
       "version_minor": 0
      },
      "text/plain": [
       "Epoch 4:   0%|          | 0/5 [00:00<?, ?it/s]"
      ]
     },
     "metadata": {},
     "output_type": "display_data"
    },
    {
     "data": {
      "application/vnd.jupyter.widget-view+json": {
       "model_id": "fa09e69c2d384f35b0b07215951b2a39",
       "version_major": 2,
       "version_minor": 0
      },
      "text/plain": [
       "Trial 8 Epoch 1 [Train]:   0%|          | 0/2 [00:00<?, ?it/s]"
      ]
     },
     "metadata": {},
     "output_type": "display_data"
    },
    {
     "data": {
      "application/vnd.jupyter.widget-view+json": {
       "model_id": "6cd8dbbdee9b4cf3ae0f16a1b4342237",
       "version_major": 2,
       "version_minor": 0
      },
      "text/plain": [
       "Trial 8 Epoch 1 [Val]:   0%|          | 0/1 [00:00<?, ?it/s]"
      ]
     },
     "metadata": {},
     "output_type": "display_data"
    },
    {
     "name": "stdout",
     "output_type": "stream",
     "text": [
      "Trial 8 Epoch 1: Train Loss: 0.6940, Val Accuracy: 50.00%\n"
     ]
    },
    {
     "data": {
      "application/vnd.jupyter.widget-view+json": {
       "model_id": "f046f09ab01744edb1a81992c9bec23e",
       "version_major": 2,
       "version_minor": 0
      },
      "text/plain": [
       "Trial 8 Epoch 2 [Train]:   0%|          | 0/2 [00:00<?, ?it/s]"
      ]
     },
     "metadata": {},
     "output_type": "display_data"
    },
    {
     "data": {
      "application/vnd.jupyter.widget-view+json": {
       "model_id": "0cd6643035324b09b6149425f5f8c400",
       "version_major": 2,
       "version_minor": 0
      },
      "text/plain": [
       "Trial 8 Epoch 2 [Val]:   0%|          | 0/1 [00:00<?, ?it/s]"
      ]
     },
     "metadata": {},
     "output_type": "display_data"
    },
    {
     "name": "stdout",
     "output_type": "stream",
     "text": [
      "Trial 8 Epoch 2: Train Loss: 0.6922, Val Accuracy: 50.00%\n"
     ]
    },
    {
     "data": {
      "application/vnd.jupyter.widget-view+json": {
       "model_id": "21d3c077ac4b49e4b5bc049c06144143",
       "version_major": 2,
       "version_minor": 0
      },
      "text/plain": [
       "Trial 8 Epoch 3 [Train]:   0%|          | 0/2 [00:00<?, ?it/s]"
      ]
     },
     "metadata": {},
     "output_type": "display_data"
    },
    {
     "data": {
      "application/vnd.jupyter.widget-view+json": {
       "model_id": "01227213b80a464abaad742e1eefecd2",
       "version_major": 2,
       "version_minor": 0
      },
      "text/plain": [
       "Trial 8 Epoch 3 [Val]:   0%|          | 0/1 [00:00<?, ?it/s]"
      ]
     },
     "metadata": {},
     "output_type": "display_data"
    },
    {
     "name": "stdout",
     "output_type": "stream",
     "text": [
      "Trial 8 Epoch 3: Train Loss: 0.6921, Val Accuracy: 50.00%\n"
     ]
    },
    {
     "data": {
      "application/vnd.jupyter.widget-view+json": {
       "model_id": "9874ff23a1f74147a71b3256205f0141",
       "version_major": 2,
       "version_minor": 0
      },
      "text/plain": [
       "Trial 8 Epoch 4 [Train]:   0%|          | 0/2 [00:00<?, ?it/s]"
      ]
     },
     "metadata": {},
     "output_type": "display_data"
    },
    {
     "data": {
      "application/vnd.jupyter.widget-view+json": {
       "model_id": "19391dd60913410fb57f9e87de812449",
       "version_major": 2,
       "version_minor": 0
      },
      "text/plain": [
       "Trial 8 Epoch 4 [Val]:   0%|          | 0/1 [00:00<?, ?it/s]"
      ]
     },
     "metadata": {},
     "output_type": "display_data"
    },
    {
     "name": "stdout",
     "output_type": "stream",
     "text": [
      "Trial 8 Epoch 4: Train Loss: 0.6913, Val Accuracy: 50.00%\n"
     ]
    },
    {
     "data": {
      "application/vnd.jupyter.widget-view+json": {
       "model_id": "beef0576df764acaa0a3fbb4678fa8c4",
       "version_major": 2,
       "version_minor": 0
      },
      "text/plain": [
       "Trial 8 Epoch 5 [Train]:   0%|          | 0/2 [00:00<?, ?it/s]"
      ]
     },
     "metadata": {},
     "output_type": "display_data"
    },
    {
     "data": {
      "application/vnd.jupyter.widget-view+json": {
       "model_id": "1eb2650dd5ce4b2c94288b614159484f",
       "version_major": 2,
       "version_minor": 0
      },
      "text/plain": [
       "Trial 8 Epoch 5 [Val]:   0%|          | 0/1 [00:00<?, ?it/s]"
      ]
     },
     "metadata": {},
     "output_type": "display_data"
    },
    {
     "name": "stdout",
     "output_type": "stream",
     "text": [
      "Trial 8 Epoch 5: Train Loss: 0.6906, Val Accuracy: 50.00%\n",
      "Testing params: {'learning_rate': 0.001, 'batch_size': 128, 'conv1_out_channels': 32, 'conv2_out_channels': 32, 'fc_neurons': 64}\n"
     ]
    },
    {
     "data": {
      "application/vnd.jupyter.widget-view+json": {
       "model_id": "436faf180036438ba94ec80c9c5b806d",
       "version_major": 2,
       "version_minor": 0
      },
      "text/plain": [
       "Epoch 4:   0%|          | 0/5 [00:00<?, ?it/s]"
      ]
     },
     "metadata": {},
     "output_type": "display_data"
    },
    {
     "data": {
      "application/vnd.jupyter.widget-view+json": {
       "model_id": "dd56bbf9a38b414bb454f1449092afe6",
       "version_major": 2,
       "version_minor": 0
      },
      "text/plain": [
       "Trial 9 Epoch 1 [Train]:   0%|          | 0/2 [00:00<?, ?it/s]"
      ]
     },
     "metadata": {},
     "output_type": "display_data"
    },
    {
     "data": {
      "application/vnd.jupyter.widget-view+json": {
       "model_id": "4f6fbddbf2424b5c82818804b7f0e15b",
       "version_major": 2,
       "version_minor": 0
      },
      "text/plain": [
       "Trial 9 Epoch 1 [Val]:   0%|          | 0/1 [00:00<?, ?it/s]"
      ]
     },
     "metadata": {},
     "output_type": "display_data"
    },
    {
     "name": "stdout",
     "output_type": "stream",
     "text": [
      "Trial 9 Epoch 1: Train Loss: 0.6931, Val Accuracy: 50.00%\n"
     ]
    },
    {
     "data": {
      "application/vnd.jupyter.widget-view+json": {
       "model_id": "2c53008a46184eb6ba428e727ddf5ba9",
       "version_major": 2,
       "version_minor": 0
      },
      "text/plain": [
       "Trial 9 Epoch 2 [Train]:   0%|          | 0/2 [00:00<?, ?it/s]"
      ]
     },
     "metadata": {},
     "output_type": "display_data"
    },
    {
     "data": {
      "application/vnd.jupyter.widget-view+json": {
       "model_id": "8fd62e27af874afa860baa37c821a68e",
       "version_major": 2,
       "version_minor": 0
      },
      "text/plain": [
       "Trial 9 Epoch 2 [Val]:   0%|          | 0/1 [00:00<?, ?it/s]"
      ]
     },
     "metadata": {},
     "output_type": "display_data"
    },
    {
     "name": "stdout",
     "output_type": "stream",
     "text": [
      "Trial 9 Epoch 2: Train Loss: 0.6925, Val Accuracy: 61.76%\n"
     ]
    },
    {
     "data": {
      "application/vnd.jupyter.widget-view+json": {
       "model_id": "d210bf76ecee4047961c489b5a6353cc",
       "version_major": 2,
       "version_minor": 0
      },
      "text/plain": [
       "Trial 9 Epoch 3 [Train]:   0%|          | 0/2 [00:00<?, ?it/s]"
      ]
     },
     "metadata": {},
     "output_type": "display_data"
    },
    {
     "data": {
      "application/vnd.jupyter.widget-view+json": {
       "model_id": "60f4b80d83ce4132a83b35d7572ccdda",
       "version_major": 2,
       "version_minor": 0
      },
      "text/plain": [
       "Trial 9 Epoch 3 [Val]:   0%|          | 0/1 [00:00<?, ?it/s]"
      ]
     },
     "metadata": {},
     "output_type": "display_data"
    },
    {
     "name": "stdout",
     "output_type": "stream",
     "text": [
      "Trial 9 Epoch 3: Train Loss: 0.6916, Val Accuracy: 50.00%\n"
     ]
    },
    {
     "data": {
      "application/vnd.jupyter.widget-view+json": {
       "model_id": "06720806b4a146968a94a27742d75b5a",
       "version_major": 2,
       "version_minor": 0
      },
      "text/plain": [
       "Trial 9 Epoch 4 [Train]:   0%|          | 0/2 [00:00<?, ?it/s]"
      ]
     },
     "metadata": {},
     "output_type": "display_data"
    },
    {
     "data": {
      "application/vnd.jupyter.widget-view+json": {
       "model_id": "6662e50c8e004a77b32230b16cbc7786",
       "version_major": 2,
       "version_minor": 0
      },
      "text/plain": [
       "Trial 9 Epoch 4 [Val]:   0%|          | 0/1 [00:00<?, ?it/s]"
      ]
     },
     "metadata": {},
     "output_type": "display_data"
    },
    {
     "name": "stdout",
     "output_type": "stream",
     "text": [
      "Trial 9 Epoch 4: Train Loss: 0.6909, Val Accuracy: 55.88%\n"
     ]
    },
    {
     "data": {
      "application/vnd.jupyter.widget-view+json": {
       "model_id": "d3e8515cc6544022a48fb644f9f3e952",
       "version_major": 2,
       "version_minor": 0
      },
      "text/plain": [
       "Trial 9 Epoch 5 [Train]:   0%|          | 0/2 [00:00<?, ?it/s]"
      ]
     },
     "metadata": {},
     "output_type": "display_data"
    },
    {
     "data": {
      "application/vnd.jupyter.widget-view+json": {
       "model_id": "3e1f7ffa746f4246b89b64842a1dcfa4",
       "version_major": 2,
       "version_minor": 0
      },
      "text/plain": [
       "Trial 9 Epoch 5 [Val]:   0%|          | 0/1 [00:00<?, ?it/s]"
      ]
     },
     "metadata": {},
     "output_type": "display_data"
    },
    {
     "name": "stdout",
     "output_type": "stream",
     "text": [
      "Trial 9 Epoch 5: Train Loss: 0.6905, Val Accuracy: 50.00%\n",
      "Testing params: {'learning_rate': 0.005, 'batch_size': 32, 'conv1_out_channels': 8, 'conv2_out_channels': 64, 'fc_neurons': 64}\n"
     ]
    },
    {
     "data": {
      "application/vnd.jupyter.widget-view+json": {
       "model_id": "0b1cd99d933f461dabce9357e9faf7b4",
       "version_major": 2,
       "version_minor": 0
      },
      "text/plain": [
       "Epoch 4:   0%|          | 0/5 [00:00<?, ?it/s]"
      ]
     },
     "metadata": {},
     "output_type": "display_data"
    },
    {
     "data": {
      "application/vnd.jupyter.widget-view+json": {
       "model_id": "59fe0ff6a0364ec1b0666fa97710dcdf",
       "version_major": 2,
       "version_minor": 0
      },
      "text/plain": [
       "Trial 10 Epoch 1 [Train]:   0%|          | 0/5 [00:00<?, ?it/s]"
      ]
     },
     "metadata": {},
     "output_type": "display_data"
    },
    {
     "data": {
      "application/vnd.jupyter.widget-view+json": {
       "model_id": "94a24cdb99384a3e8cefb9de9475f23f",
       "version_major": 2,
       "version_minor": 0
      },
      "text/plain": [
       "Trial 10 Epoch 1 [Val]:   0%|          | 0/2 [00:00<?, ?it/s]"
      ]
     },
     "metadata": {},
     "output_type": "display_data"
    },
    {
     "name": "stdout",
     "output_type": "stream",
     "text": [
      "Trial 10 Epoch 1: Train Loss: 0.7405, Val Accuracy: 50.00%\n"
     ]
    },
    {
     "data": {
      "application/vnd.jupyter.widget-view+json": {
       "model_id": "2bcf139bf2fc44339126ddd6cf621f37",
       "version_major": 2,
       "version_minor": 0
      },
      "text/plain": [
       "Trial 10 Epoch 2 [Train]:   0%|          | 0/5 [00:00<?, ?it/s]"
      ]
     },
     "metadata": {},
     "output_type": "display_data"
    },
    {
     "data": {
      "application/vnd.jupyter.widget-view+json": {
       "model_id": "17df1f3b92b04cb0a20c58cf03094c55",
       "version_major": 2,
       "version_minor": 0
      },
      "text/plain": [
       "Trial 10 Epoch 2 [Val]:   0%|          | 0/2 [00:00<?, ?it/s]"
      ]
     },
     "metadata": {},
     "output_type": "display_data"
    },
    {
     "name": "stdout",
     "output_type": "stream",
     "text": [
      "Trial 10 Epoch 2: Train Loss: 0.6950, Val Accuracy: 50.00%\n"
     ]
    },
    {
     "data": {
      "application/vnd.jupyter.widget-view+json": {
       "model_id": "8b9f47cb53fa425a96ea18bec656105f",
       "version_major": 2,
       "version_minor": 0
      },
      "text/plain": [
       "Trial 10 Epoch 3 [Train]:   0%|          | 0/5 [00:00<?, ?it/s]"
      ]
     },
     "metadata": {},
     "output_type": "display_data"
    },
    {
     "data": {
      "application/vnd.jupyter.widget-view+json": {
       "model_id": "acc35c5a688943efb2f5b182bcd51b71",
       "version_major": 2,
       "version_minor": 0
      },
      "text/plain": [
       "Trial 10 Epoch 3 [Val]:   0%|          | 0/2 [00:00<?, ?it/s]"
      ]
     },
     "metadata": {},
     "output_type": "display_data"
    },
    {
     "name": "stdout",
     "output_type": "stream",
     "text": [
      "Trial 10 Epoch 3: Train Loss: 0.6873, Val Accuracy: 50.00%\n"
     ]
    },
    {
     "data": {
      "application/vnd.jupyter.widget-view+json": {
       "model_id": "7957caac1fbe428b9b39263c04628423",
       "version_major": 2,
       "version_minor": 0
      },
      "text/plain": [
       "Trial 10 Epoch 4 [Train]:   0%|          | 0/5 [00:00<?, ?it/s]"
      ]
     },
     "metadata": {},
     "output_type": "display_data"
    },
    {
     "data": {
      "application/vnd.jupyter.widget-view+json": {
       "model_id": "0e153e43afbe4ae8a7b88b6f8f5d9acc",
       "version_major": 2,
       "version_minor": 0
      },
      "text/plain": [
       "Trial 10 Epoch 4 [Val]:   0%|          | 0/2 [00:00<?, ?it/s]"
      ]
     },
     "metadata": {},
     "output_type": "display_data"
    },
    {
     "name": "stdout",
     "output_type": "stream",
     "text": [
      "Trial 10 Epoch 4: Train Loss: 0.6812, Val Accuracy: 50.00%\n"
     ]
    },
    {
     "data": {
      "application/vnd.jupyter.widget-view+json": {
       "model_id": "09d921f36c854c598a0743fcc30cb713",
       "version_major": 2,
       "version_minor": 0
      },
      "text/plain": [
       "Trial 10 Epoch 5 [Train]:   0%|          | 0/5 [00:00<?, ?it/s]"
      ]
     },
     "metadata": {},
     "output_type": "display_data"
    },
    {
     "data": {
      "application/vnd.jupyter.widget-view+json": {
       "model_id": "2f0138d042a74fce880a1ee72ba3bcff",
       "version_major": 2,
       "version_minor": 0
      },
      "text/plain": [
       "Trial 10 Epoch 5 [Val]:   0%|          | 0/2 [00:00<?, ?it/s]"
      ]
     },
     "metadata": {},
     "output_type": "display_data"
    },
    {
     "name": "stdout",
     "output_type": "stream",
     "text": [
      "Trial 10 Epoch 5: Train Loss: 0.6604, Val Accuracy: 55.88%\n",
      "New best model found! Val Accuracy: 55.88%, Params: {'learning_rate': 0.005, 'batch_size': 32, 'conv1_out_channels': 8, 'conv2_out_channels': 64, 'fc_neurons': 64}\n",
      "\n",
      "Finished Hyperparameter Search.\n"
     ]
    }
   ],
   "source": [
    "# Device configuration\n",
    "device = torch.device(\"cuda\" if torch.cuda.is_available() else \"cpu\")\n",
    "print(f\"Using device for hyperparameter tuning: {device}\")\n",
    "\n",
    "# Get image dimensions (C, H, W should be available from the previous cell or re-derived)\n",
    "if 'C' not in locals() or 'H' not in locals() or 'W' not in locals():\n",
    "    sample_img, _ = train_dataset[0]\n",
    "    C, H, W = sample_img.shape\n",
    "    print(f\"Re-detected image shape: Channels={C}, Height={H}, Width={W}\")\n",
    "\n",
    "# Hyperparameter search space\n",
    "param_space = {\n",
    "    'learning_rate': [0.0001, 0.0005, 0.001, 0.005, 0.01],\n",
    "    'batch_size': [32, 64, 128],\n",
    "    'conv1_out_channels': [8, 16, 32],\n",
    "    'conv2_out_channels': [16, 32, 64],\n",
    "    'fc_neurons': [64, 128, 256],\n",
    "}\n",
    "\n",
    "num_classes_hp = 2\n",
    "num_epochs_search = 5 # Fewer epochs for faster search, adjust as needed\n",
    "num_trials = 10 # Number of random hyperparameter sets to try\n",
    "\n",
    "best_hyperparams = None\n",
    "best_val_accuracy = -1.0\n",
    "best_model_state = None\n",
    "\n",
    "# Store history for the best model's learning curves\n",
    "best_model_train_losses = []\n",
    "best_model_val_accuracies = []\n",
    "\n",
    "for trial in tqdm(range(num_trials), desc=\"Hyperparameter Trials\", leave=False):\n",
    "    # Randomly sample hyperparameters\n",
    "    current_params = {k: random.choice(v) for k, v in param_space.items()}\n",
    "    print(f\"Testing params: {current_params}\")\n",
    "\n",
    "    # DataLoaders with current batch size\n",
    "    pin_memory_flag_hp = True if device.type == 'cuda' else False\n",
    "    try:\n",
    "        current_train_loader = DataLoader(train_dataset, batch_size=current_params['batch_size'], shuffle=True, num_workers=2, pin_memory=pin_memory_flag_hp)\n",
    "        current_val_loader = DataLoader(test_dataset, batch_size=current_params['batch_size'], shuffle=False, num_workers=2, pin_memory=pin_memory_flag_hp)\n",
    "    except Exception as e:\n",
    "        print(f\"Error creating DataLoader, possibly due to batch size: {e}. Skipping trial.\")\n",
    "        continue\n",
    "\n",
    "\n",
    "    # Model\n",
    "    model_hp = SimpleCNN(input_channels=C, input_height=H, input_width=W, num_classes=num_classes_hp,\n",
    "                            conv1_out_channels=current_params['conv1_out_channels'],\n",
    "                            conv2_out_channels=current_params['conv2_out_channels'],\n",
    "                            fc_neurons=current_params['fc_neurons']).to(device)\n",
    "\n",
    "    criterion_hp = nn.BCEWithLogitsLoss()\n",
    "    \n",
    "    optimizer_hp = optim.Adam(model_hp.parameters(), lr=current_params['learning_rate'])\n",
    "\n",
    "    trial_train_losses = []\n",
    "    trial_val_accuracies = []\n",
    "\n",
    "    # Training loop\n",
    "    for epoch in tqdm(range(num_epochs_search), desc=f\"Epoch {epoch}\", leave=False):\n",
    "        model_hp.train()\n",
    "        epoch_running_loss = 0.0\n",
    "        train_pbar_hp = tqdm(current_train_loader, desc=f\"Trial {trial+1} Epoch {epoch+1} [Train]\", leave=False)\n",
    "        for images, labels in train_pbar_hp:\n",
    "            images, labels = images.to(device), labels.to(device).float().unsqueeze(1)\n",
    "            optimizer_hp.zero_grad()\n",
    "            outputs = model_hp(images)\n",
    "            loss = criterion_hp(outputs, labels)\n",
    "            loss.backward()\n",
    "            optimizer_hp.step()\n",
    "            epoch_running_loss += loss.item() * images.size(0)\n",
    "            train_pbar_hp.set_postfix(loss=loss.item())\n",
    "        \n",
    "        avg_epoch_train_loss = epoch_running_loss / len(current_train_loader.dataset)\n",
    "        trial_train_losses.append(avg_epoch_train_loss)\n",
    "\n",
    "        # Validation\n",
    "        model_hp.eval()\n",
    "        val_correct = 0\n",
    "        val_total = 0\n",
    "        val_pbar_hp = tqdm(current_val_loader, desc=f\"Trial {trial+1} Epoch {epoch+1} [Val]\", leave=False)\n",
    "        with torch.no_grad():\n",
    "            for images, labels in val_pbar_hp:\n",
    "                images, labels = images.to(device), labels.to(device).float().unsqueeze(1)\n",
    "                outputs = model_hp(images)\n",
    "                predicted = (torch.sigmoid(outputs) > 0.5).float()\n",
    "                val_total += labels.size(0)\n",
    "                val_correct += (predicted == labels).sum().item()\n",
    "        \n",
    "        current_epoch_val_accuracy = 100 * val_correct / val_total\n",
    "        trial_val_accuracies.append(current_epoch_val_accuracy)\n",
    "        \n",
    "        print(f\"Trial {trial+1} Epoch {epoch+1}: Train Loss: {avg_epoch_train_loss:.4f}, Val Accuracy: {current_epoch_val_accuracy:.2f}%\")\n",
    "\n",
    "    # Check if this trial is the best so far (based on final epoch's validation accuracy)\n",
    "    if trial_val_accuracies and current_epoch_val_accuracy > best_val_accuracy:\n",
    "        best_val_accuracy = current_epoch_val_accuracy\n",
    "        best_hyperparams = current_params\n",
    "        best_model_state = model_hp.state_dict() # Save the model state\n",
    "        best_model_train_losses = trial_train_losses # Save learning curves for this best model\n",
    "        best_model_val_accuracies = trial_val_accuracies\n",
    "        print(f\"New best model found! Val Accuracy: {best_val_accuracy:.2f}%, Params: {best_hyperparams}\")\n",
    "\n",
    "print(\"\\nFinished Hyperparameter Search.\")\n",
    "\n",
    "# Save the best model found during hyperparameter search\n",
    "best_model_path = \"best_randomsearch_cnn_model.pth\"\n",
    "torch.save(best_model_state, best_model_path)\n",
    "print(f\"Best model saved to {best_model_path}\")\n",
    "   "
   ]
  },
  {
   "cell_type": "markdown",
   "id": "622afaba",
   "metadata": {},
   "source": [
    "#### Plots"
   ]
  },
  {
   "cell_type": "code",
   "execution_count": 12,
   "id": "70f6e76d",
   "metadata": {},
   "outputs": [
    {
     "name": "stdout",
     "output_type": "stream",
     "text": [
      "Best Validation Accuracy: 55.88%\n",
      "Best Hyperparameters: {'learning_rate': 0.005, 'batch_size': 32, 'conv1_out_channels': 8, 'conv2_out_channels': 64, 'fc_neurons': 64}\n"
     ]
    },
    {
     "data": {
      "image/png": "[encoded data removed]",
      "text/plain": [
       "<Figure size 1200x500 with 2 Axes>"
      ]
     },
     "metadata": {},
     "output_type": "display_data"
    }
   ],
   "source": [
    "print(f\"Best Validation Accuracy: {best_val_accuracy:.2f}%\")\n",
    "print(f\"Best Hyperparameters: {best_hyperparams}\")\n",
    "\n",
    "# Plotting learning curves for the best model from hyperparameter search\n",
    "plt.figure(figsize=(12, 5))\n",
    "\n",
    "plt.subplot(1, 2, 1)\n",
    "plt.plot(range(1, num_epochs_search + 1), best_model_train_losses, label='Best Model Training Loss')\n",
    "plt.xlabel('Epoch')\n",
    "plt.ylabel('Loss')\n",
    "plt.title('Best Model - Training Loss')\n",
    "plt.legend()\n",
    "\n",
    "plt.subplot(1, 2, 2)\n",
    "plt.plot(range(1, num_epochs_search + 1), best_model_val_accuracies, label='Best Model Validation Accuracy', color='red')\n",
    "plt.xlabel('Epoch')\n",
    "plt.ylabel('Accuracy (%)')\n",
    "plt.title('Best Model - Validation Accuracy')\n",
    "plt.legend()\n",
    "\n",
    "plt.tight_layout()\n",
    "plt.show()\n",
    "\n",
    "# Load the best model state for further use if needed:\n",
    "# model_best = SimpleCNN(input_channels=C, input_height=H, input_width=W, num_classes=num_classes_hp, **best_hyperparams_arch).to(device)\n",
    "# model_best.load_state_dict(best_model_state)\n",
    "# where best_hyperparams_arch = {k: v for k,v in best_hyperparams.items() if k in ['conv1_out_channels', 'conv2_out_channels', 'fc_neurons']}"
   ]
  },
  {
   "cell_type": "markdown",
   "id": "4038ab6b",
   "metadata": {},
   "source": [
    "### Method 2 - Optuna"
   ]
  },
  {
   "cell_type": "code",
   "execution_count": 13,
   "id": "74f1a1b5",
   "metadata": {},
   "outputs": [
    {
     "name": "stdout",
     "output_type": "stream",
     "text": [
      "Requirement already satisfied: optuna in c:\\users\\20193567\\appdata\\local\\miniconda3\\lib\\site-packages (4.3.0)\n",
      "Requirement already satisfied: alembic>=1.5.0 in c:\\users\\20193567\\appdata\\local\\miniconda3\\lib\\site-packages (from optuna) (1.15.2)\n",
      "Requirement already satisfied: colorlog in c:\\users\\20193567\\appdata\\local\\miniconda3\\lib\\site-packages (from optuna) (6.9.0)\n",
      "Requirement already satisfied: numpy in c:\\users\\20193567\\appdata\\local\\miniconda3\\lib\\site-packages (from optuna) (2.0.1)\n",
      "Requirement already satisfied: packaging>=20.0 in c:\\users\\20193567\\appdata\\local\\miniconda3\\lib\\site-packages (from optuna) (24.2)\n",
      "Requirement already satisfied: sqlalchemy>=1.4.2 in c:\\users\\20193567\\appdata\\local\\miniconda3\\lib\\site-packages (from optuna) (2.0.41)\n",
      "Requirement already satisfied: tqdm in c:\\users\\20193567\\appdata\\local\\miniconda3\\lib\\site-packages (from optuna) (4.67.1)\n",
      "Requirement already satisfied: PyYAML in c:\\users\\20193567\\appdata\\local\\miniconda3\\lib\\site-packages (from optuna) (6.0.2)\n",
      "Requirement already satisfied: Mako in c:\\users\\20193567\\appdata\\local\\miniconda3\\lib\\site-packages (from alembic>=1.5.0->optuna) (1.3.10)\n",
      "Requirement already satisfied: typing-extensions>=4.12 in c:\\users\\20193567\\appdata\\local\\miniconda3\\lib\\site-packages (from alembic>=1.5.0->optuna) (4.12.2)\n",
      "Requirement already satisfied: greenlet>=1 in c:\\users\\20193567\\appdata\\local\\miniconda3\\lib\\site-packages (from sqlalchemy>=1.4.2->optuna) (3.2.2)\n",
      "Requirement already satisfied: colorama in c:\\users\\20193567\\appdata\\local\\miniconda3\\lib\\site-packages (from colorlog->optuna) (0.4.6)\n",
      "Requirement already satisfied: MarkupSafe>=0.9.2 in c:\\users\\20193567\\appdata\\local\\miniconda3\\lib\\site-packages (from Mako->alembic>=1.5.0->optuna) (3.0.2)\n",
      "Note: you may need to restart the kernel to use updated packages.\n"
     ]
    }
   ],
   "source": [
    "%pip install optuna"
   ]
  },
  {
   "cell_type": "code",
   "execution_count": 15,
   "id": "e515a56c",
   "metadata": {},
   "outputs": [
    {
     "name": "stderr",
     "output_type": "stream",
     "text": [
      "[I 2025-05-29 13:09:46,577] A new study created in memory with name: no-name-00c3a7b1-b2fc-4df3-b712-5d88a5896d2d\n"
     ]
    },
    {
     "name": "stdout",
     "output_type": "stream",
     "text": [
      "Using device for Optuna hyperparameter tuning: cuda\n",
      "Image shape: Channels=3, Height=60, Width=30\n"
     ]
    },
    {
     "data": {
      "application/vnd.jupyter.widget-view+json": {
       "model_id": "093d06f8db464f01919ca77618f9d295",
       "version_major": 2,
       "version_minor": 0
      },
      "text/plain": [
       "Trial 0 [Training]:   0%|          | 0/5 [00:00<?, ?it/s]"
      ]
     },
     "metadata": {},
     "output_type": "display_data"
    },
    {
     "name": "stderr",
     "output_type": "stream",
     "text": [
      "[I 2025-05-29 13:13:00,104] Trial 0 finished with value: 50.0 and parameters: {'learning_rate': 0.0001806464557404699, 'batch_size': 32, 'conv1_out_channels': 32, 'conv2_out_channels': 128, 'fc_neurons': 64}. Best is trial 0 with value: 50.0.\n"
     ]
    },
    {
     "data": {
      "application/vnd.jupyter.widget-view+json": {
       "model_id": "a1e0d53ca8004913b23f60a101d18220",
       "version_major": 2,
       "version_minor": 0
      },
      "text/plain": [
       "Trial 1 [Training]:   0%|          | 0/5 [00:00<?, ?it/s]"
      ]
     },
     "metadata": {},
     "output_type": "display_data"
    },
    {
     "name": "stderr",
     "output_type": "stream",
     "text": [
      "[I 2025-05-29 13:17:25,106] Trial 1 finished with value: 50.0 and parameters: {'learning_rate': 0.0005771237472906906, 'batch_size': 128, 'conv1_out_channels': 8, 'conv2_out_channels': 128, 'fc_neurons': 128}. Best is trial 0 with value: 50.0.\n"
     ]
    },
    {
     "data": {
      "application/vnd.jupyter.widget-view+json": {
       "model_id": "8c29b89284bd4c02b3af0202f96b7662",
       "version_major": 2,
       "version_minor": 0
      },
      "text/plain": [
       "Trial 2 [Training]:   0%|          | 0/5 [00:00<?, ?it/s]"
      ]
     },
     "metadata": {},
     "output_type": "display_data"
    },
    {
     "name": "stderr",
     "output_type": "stream",
     "text": [
      "[I 2025-05-29 13:21:14,462] Trial 2 finished with value: 61.76470588235294 and parameters: {'learning_rate': 0.001553369838635351, 'batch_size': 32, 'conv1_out_channels': 16, 'conv2_out_channels': 16, 'fc_neurons': 256}. Best is trial 2 with value: 61.76470588235294.\n"
     ]
    },
    {
     "data": {
      "application/vnd.jupyter.widget-view+json": {
       "model_id": "17d50dbc5da84b3aa0169b45efc180d7",
       "version_major": 2,
       "version_minor": 0
      },
      "text/plain": [
       "Trial 3 [Training]:   0%|          | 0/5 [00:00<?, ?it/s]"
      ]
     },
     "metadata": {},
     "output_type": "display_data"
    },
    {
     "name": "stderr",
     "output_type": "stream",
     "text": [
      "[I 2025-05-29 13:24:02,312] Trial 3 finished with value: 50.0 and parameters: {'learning_rate': 0.002096384494454233, 'batch_size': 32, 'conv1_out_channels': 32, 'conv2_out_channels': 64, 'fc_neurons': 256}. Best is trial 2 with value: 61.76470588235294.\n"
     ]
    },
    {
     "data": {
      "application/vnd.jupyter.widget-view+json": {
       "model_id": "92bd6b12e8f64e71971fb829e30aea4b",
       "version_major": 2,
       "version_minor": 0
      },
      "text/plain": [
       "Trial 4 [Training]:   0%|          | 0/5 [00:00<?, ?it/s]"
      ]
     },
     "metadata": {},
     "output_type": "display_data"
    },
    {
     "name": "stderr",
     "output_type": "stream",
     "text": [
      "[I 2025-05-29 13:26:54,814] Trial 4 finished with value: 50.0 and parameters: {'learning_rate': 0.00013774423365487214, 'batch_size': 64, 'conv1_out_channels': 64, 'conv2_out_channels': 128, 'fc_neurons': 128}. Best is trial 2 with value: 61.76470588235294.\n"
     ]
    },
    {
     "data": {
      "application/vnd.jupyter.widget-view+json": {
       "model_id": "e4b23fd318634151b27c93c6f99fdb9a",
       "version_major": 2,
       "version_minor": 0
      },
      "text/plain": [
       "Trial 5 [Training]:   0%|          | 0/5 [00:00<?, ?it/s]"
      ]
     },
     "metadata": {},
     "output_type": "display_data"
    },
    {
     "name": "stderr",
     "output_type": "stream",
     "text": [
      "[I 2025-05-29 13:30:57,954] Trial 5 finished with value: 50.0 and parameters: {'learning_rate': 0.0009896831598313683, 'batch_size': 128, 'conv1_out_channels': 8, 'conv2_out_channels': 128, 'fc_neurons': 64}. Best is trial 2 with value: 61.76470588235294.\n"
     ]
    },
    {
     "data": {
      "application/vnd.jupyter.widget-view+json": {
       "model_id": "517cb664e62c4ee88abc9a78dfb52b1d",
       "version_major": 2,
       "version_minor": 0
      },
      "text/plain": [
       "Trial 6 [Training]:   0%|          | 0/5 [00:00<?, ?it/s]"
      ]
     },
     "metadata": {},
     "output_type": "display_data"
    },
    {
     "name": "stderr",
     "output_type": "stream",
     "text": [
      "[I 2025-05-29 13:34:36,337] Trial 6 finished with value: 50.0 and parameters: {'learning_rate': 0.00015498759928528975, 'batch_size': 128, 'conv1_out_channels': 32, 'conv2_out_channels': 16, 'fc_neurons': 128}. Best is trial 2 with value: 61.76470588235294.\n"
     ]
    },
    {
     "data": {
      "application/vnd.jupyter.widget-view+json": {
       "model_id": "03175c1380464f3f950b974de3f7def8",
       "version_major": 2,
       "version_minor": 0
      },
      "text/plain": [
       "Trial 7 [Training]:   0%|          | 0/5 [00:00<?, ?it/s]"
      ]
     },
     "metadata": {},
     "output_type": "display_data"
    },
    {
     "name": "stderr",
     "output_type": "stream",
     "text": [
      "[I 2025-05-29 13:38:18,709] Trial 7 finished with value: 50.0 and parameters: {'learning_rate': 0.00012942719605093836, 'batch_size': 128, 'conv1_out_channels': 64, 'conv2_out_channels': 16, 'fc_neurons': 128}. Best is trial 2 with value: 61.76470588235294.\n"
     ]
    },
    {
     "data": {
      "application/vnd.jupyter.widget-view+json": {
       "model_id": "823be95b0add40f19d439eb75bd705dd",
       "version_major": 2,
       "version_minor": 0
      },
      "text/plain": [
       "Trial 8 [Training]:   0%|          | 0/5 [00:00<?, ?it/s]"
      ]
     },
     "metadata": {},
     "output_type": "display_data"
    },
    {
     "name": "stderr",
     "output_type": "stream",
     "text": [
      "[I 2025-05-29 13:42:01,492] Trial 8 finished with value: 50.0 and parameters: {'learning_rate': 0.0018080492089588124, 'batch_size': 128, 'conv1_out_channels': 8, 'conv2_out_channels': 32, 'fc_neurons': 256}. Best is trial 2 with value: 61.76470588235294.\n"
     ]
    },
    {
     "data": {
      "application/vnd.jupyter.widget-view+json": {
       "model_id": "b05c0e1f85354bd796fbbebbe594c34b",
       "version_major": 2,
       "version_minor": 0
      },
      "text/plain": [
       "Trial 9 [Training]:   0%|          | 0/5 [00:00<?, ?it/s]"
      ]
     },
     "metadata": {},
     "output_type": "display_data"
    },
    {
     "name": "stderr",
     "output_type": "stream",
     "text": [
      "[I 2025-05-29 13:44:56,184] Trial 9 finished with value: 50.0 and parameters: {'learning_rate': 0.0014248382376761816, 'batch_size': 64, 'conv1_out_channels': 32, 'conv2_out_channels': 128, 'fc_neurons': 64}. Best is trial 2 with value: 61.76470588235294.\n"
     ]
    },
    {
     "data": {
      "application/vnd.jupyter.widget-view+json": {
       "model_id": "abba0a9e7d51412b8b0ee87a4bbe9b67",
       "version_major": 2,
       "version_minor": 0
      },
      "text/plain": [
       "Trial 10 [Training]:   0%|          | 0/5 [00:00<?, ?it/s]"
      ]
     },
     "metadata": {},
     "output_type": "display_data"
    },
    {
     "name": "stderr",
     "output_type": "stream",
     "text": [
      "[I 2025-05-29 13:47:44,011] Trial 10 finished with value: 50.0 and parameters: {'learning_rate': 0.009036116276813203, 'batch_size': 32, 'conv1_out_channels': 16, 'conv2_out_channels': 16, 'fc_neurons': 256}. Best is trial 2 with value: 61.76470588235294.\n"
     ]
    },
    {
     "data": {
      "application/vnd.jupyter.widget-view+json": {
       "model_id": "f09789471ca34378a276752bff770ee4",
       "version_major": 2,
       "version_minor": 0
      },
      "text/plain": [
       "Trial 11 [Training]:   0%|          | 0/5 [00:00<?, ?it/s]"
      ]
     },
     "metadata": {},
     "output_type": "display_data"
    },
    {
     "name": "stderr",
     "output_type": "stream",
     "text": [
      "[I 2025-05-29 13:50:31,602] Trial 11 finished with value: 50.0 and parameters: {'learning_rate': 0.0003879723025967502, 'batch_size': 32, 'conv1_out_channels': 16, 'conv2_out_channels': 32, 'fc_neurons': 64}. Best is trial 2 with value: 61.76470588235294.\n"
     ]
    },
    {
     "data": {
      "application/vnd.jupyter.widget-view+json": {
       "model_id": "e4b6908f007f4116b3e2eda0761de9e9",
       "version_major": 2,
       "version_minor": 0
      },
      "text/plain": [
       "Trial 12 [Training]:   0%|          | 0/5 [00:00<?, ?it/s]"
      ]
     },
     "metadata": {},
     "output_type": "display_data"
    },
    {
     "name": "stderr",
     "output_type": "stream",
     "text": [
      "[I 2025-05-29 13:53:16,505] Trial 12 finished with value: 50.0 and parameters: {'learning_rate': 0.005002797789989802, 'batch_size': 32, 'conv1_out_channels': 16, 'conv2_out_channels': 64, 'fc_neurons': 256}. Best is trial 2 with value: 61.76470588235294.\n"
     ]
    },
    {
     "data": {
      "application/vnd.jupyter.widget-view+json": {
       "model_id": "d9f2ec6670f743aa94a9c42304d21cf9",
       "version_major": 2,
       "version_minor": 0
      },
      "text/plain": [
       "Trial 13 [Training]:   0%|          | 0/5 [00:00<?, ?it/s]"
      ]
     },
     "metadata": {},
     "output_type": "display_data"
    },
    {
     "name": "stderr",
     "output_type": "stream",
     "text": [
      "[I 2025-05-29 13:56:20,966] Trial 13 finished with value: 61.76470588235294 and parameters: {'learning_rate': 0.0003348644563054958, 'batch_size': 32, 'conv1_out_channels': 32, 'conv2_out_channels': 16, 'fc_neurons': 64}. Best is trial 2 with value: 61.76470588235294.\n"
     ]
    },
    {
     "data": {
      "application/vnd.jupyter.widget-view+json": {
       "model_id": "fe0c9769eb204a5ab97b626eb2c96dab",
       "version_major": 2,
       "version_minor": 0
      },
      "text/plain": [
       "Trial 14 [Training]:   0%|          | 0/5 [00:00<?, ?it/s]"
      ]
     },
     "metadata": {},
     "output_type": "display_data"
    },
    {
     "name": "stderr",
     "output_type": "stream",
     "text": [
      "[I 2025-05-29 13:58:59,755] Trial 14 finished with value: 50.0 and parameters: {'learning_rate': 0.0004354980109744863, 'batch_size': 32, 'conv1_out_channels': 16, 'conv2_out_channels': 16, 'fc_neurons': 256}. Best is trial 2 with value: 61.76470588235294.\n"
     ]
    },
    {
     "data": {
      "application/vnd.jupyter.widget-view+json": {
       "model_id": "ee3b2398188449f4a67d6140d1ec77e9",
       "version_major": 2,
       "version_minor": 0
      },
      "text/plain": [
       "Trial 15 [Training]:   0%|          | 0/5 [00:00<?, ?it/s]"
      ]
     },
     "metadata": {},
     "output_type": "display_data"
    },
    {
     "name": "stderr",
     "output_type": "stream",
     "text": [
      "[I 2025-05-29 14:01:40,870] Trial 15 finished with value: 50.0 and parameters: {'learning_rate': 0.0034046265645993517, 'batch_size': 32, 'conv1_out_channels': 32, 'conv2_out_channels': 16, 'fc_neurons': 64}. Best is trial 2 with value: 61.76470588235294.\n"
     ]
    },
    {
     "data": {
      "application/vnd.jupyter.widget-view+json": {
       "model_id": "88029e5e5e1341e3844fd47665624386",
       "version_major": 2,
       "version_minor": 0
      },
      "text/plain": [
       "Trial 16 [Training]:   0%|          | 0/5 [00:00<?, ?it/s]"
      ]
     },
     "metadata": {},
     "output_type": "display_data"
    },
    {
     "name": "stderr",
     "output_type": "stream",
     "text": [
      "[I 2025-05-29 14:04:28,777] Trial 16 finished with value: 50.0 and parameters: {'learning_rate': 0.0008494646636114893, 'batch_size': 32, 'conv1_out_channels': 16, 'conv2_out_channels': 16, 'fc_neurons': 256}. Best is trial 2 with value: 61.76470588235294.\n"
     ]
    },
    {
     "data": {
      "application/vnd.jupyter.widget-view+json": {
       "model_id": "7a2006d26c1f494e86331b854eeb2d84",
       "version_major": 2,
       "version_minor": 0
      },
      "text/plain": [
       "Trial 17 [Training]:   0%|          | 0/5 [00:00<?, ?it/s]"
      ]
     },
     "metadata": {},
     "output_type": "display_data"
    },
    {
     "name": "stderr",
     "output_type": "stream",
     "text": [
      "[I 2025-05-29 14:07:05,526] Trial 17 finished with value: 50.0 and parameters: {'learning_rate': 0.00026609068188175383, 'batch_size': 64, 'conv1_out_channels': 64, 'conv2_out_channels': 16, 'fc_neurons': 64}. Best is trial 2 with value: 61.76470588235294.\n"
     ]
    },
    {
     "data": {
      "application/vnd.jupyter.widget-view+json": {
       "model_id": "36147a99ffba4c759e8f54267dc6e0fd",
       "version_major": 2,
       "version_minor": 0
      },
      "text/plain": [
       "Trial 18 [Training]:   0%|          | 0/5 [00:00<?, ?it/s]"
      ]
     },
     "metadata": {},
     "output_type": "display_data"
    },
    {
     "name": "stderr",
     "output_type": "stream",
     "text": [
      "[I 2025-05-29 14:10:06,831] Trial 18 finished with value: 61.76470588235294 and parameters: {'learning_rate': 0.0006569326238899636, 'batch_size': 32, 'conv1_out_channels': 32, 'conv2_out_channels': 16, 'fc_neurons': 256}. Best is trial 2 with value: 61.76470588235294.\n"
     ]
    },
    {
     "data": {
      "application/vnd.jupyter.widget-view+json": {
       "model_id": "15ca72d9ed1b4282abc4f43b85f5e236",
       "version_major": 2,
       "version_minor": 0
      },
      "text/plain": [
       "Trial 19 [Training]:   0%|          | 0/5 [00:00<?, ?it/s]"
      ]
     },
     "metadata": {},
     "output_type": "display_data"
    },
    {
     "name": "stderr",
     "output_type": "stream",
     "text": [
      "[I 2025-05-29 14:12:36,962] Trial 19 finished with value: 50.0 and parameters: {'learning_rate': 0.00027763818936728664, 'batch_size': 32, 'conv1_out_channels': 16, 'conv2_out_channels': 64, 'fc_neurons': 64}. Best is trial 2 with value: 61.76470588235294.\n"
     ]
    },
    {
     "name": "stdout",
     "output_type": "stream",
     "text": [
      "\n",
      "Finished Optuna Hyperparameter Search.\n"
     ]
    }
   ],
   "source": [
    "import optuna\n",
    "\n",
    "# Device configuration\n",
    "device = torch.device(\"cuda\" if torch.cuda.is_available() else \"cpu\")\n",
    "print(f\"Using device for Optuna hyperparameter tuning: {device}\")\n",
    "\n",
    "# Get image dimensions\n",
    "sample_img, _ = train_dataset[0]\n",
    "C, H, W = sample_img.shape\n",
    "print(f\"Image shape: Channels={C}, Height={H}, Width={W}\")\n",
    "\n",
    "num_classes_hp = 2\n",
    "num_epochs_search = 5 # Fewer epochs for faster search, adjust as needed for Optuna trials\n",
    "# num_trials_optuna = 20 # Number of Optuna trials to run\n",
    "\n",
    "def objective(trial):\n",
    "    # Hyperparameter suggestions\n",
    "    lr = trial.suggest_float(\"learning_rate\", 1e-4, 1e-2, log=True)\n",
    "    batch_size = trial.suggest_categorical(\"batch_size\", [32, 64, 128])\n",
    "    conv1_out = trial.suggest_categorical(\"conv1_out_channels\", [8, 16, 32, 64])\n",
    "    conv2_out = trial.suggest_categorical(\"conv2_out_channels\", [16, 32, 64, 128])\n",
    "    fc_neurons_val = trial.suggest_categorical(\"fc_neurons\", [64, 128, 256])\n",
    "\n",
    "    # DataLoaders\n",
    "    pin_memory_flag_opt = True if device.type == 'cuda' else False\n",
    "    try:\n",
    "        current_train_loader = DataLoader(train_dataset, batch_size=batch_size, shuffle=True, num_workers=2, pin_memory=pin_memory_flag_opt)\n",
    "        current_val_loader = DataLoader(test_dataset, batch_size=batch_size, shuffle=False, num_workers=2, pin_memory=pin_memory_flag_opt)\n",
    "    except Exception as e:\n",
    "        print(f\"Error creating DataLoader for trial {trial.number}: {e}. Pruning trial.\")\n",
    "        raise optuna.exceptions.TrialPruned()\n",
    "\n",
    "\n",
    "    # Model (Ensure SimpleCNN class is defined and accessible)\n",
    "    model_opt = SimpleCNN(input_channels=C, input_height=H, input_width=W, num_classes=num_classes_hp,\n",
    "                          conv1_out_channels=conv1_out,\n",
    "                          conv2_out_channels=conv2_out,\n",
    "                          fc_neurons=fc_neurons_val).to(device)\n",
    "\n",
    "    criterion_opt = nn.BCEWithLogitsLoss()\n",
    "    optimizer_opt = optim.Adam(model_opt.parameters(), lr=lr)\n",
    "\n",
    "    trial_train_losses = []\n",
    "    trial_val_accuracies = []\n",
    "\n",
    "    # Training loop\n",
    "    for epoch in tqdm(range(num_epochs_search), desc=f\"Trial {trial.number} [Training]\", leave=False):\n",
    "        model_opt.train()\n",
    "        epoch_running_loss = 0.0\n",
    "        for images, labels in current_train_loader: # train_pbar_opt:\n",
    "            images, labels = images.to(device), labels.to(device).float().unsqueeze(1)\n",
    "            \n",
    "            optimizer_opt.zero_grad()\n",
    "            outputs = model_opt(images)\n",
    "            loss = criterion_opt(outputs, labels)\n",
    "            loss.backward()\n",
    "            optimizer_opt.step()\n",
    "            epoch_running_loss += loss.item() * images.size(0)\n",
    "        \n",
    "        avg_epoch_train_loss = epoch_running_loss / len(current_train_loader.dataset)\n",
    "        trial_train_losses.append(avg_epoch_train_loss)\n",
    "\n",
    "        # Validation\n",
    "        model_opt.eval()\n",
    "        val_correct = 0\n",
    "        val_total = 0\n",
    "        with torch.no_grad():\n",
    "            for images, labels in current_val_loader: # val_pbar_opt:\n",
    "                images, labels = images.to(device), labels.to(device).float().unsqueeze(1)\n",
    "                outputs = model_opt(images)\n",
    "                predicted = (torch.sigmoid(outputs) > 0.5).float()\n",
    "                val_total += labels.size(0)\n",
    "                val_correct += (predicted == labels).sum().item()\n",
    "        \n",
    "        current_epoch_val_accuracy = 100 * val_correct / val_total if val_total > 0 else 0\n",
    "        trial_val_accuracies.append(current_epoch_val_accuracy)\n",
    "        \n",
    "        # Optuna pruning (optional, but good for long searches)\n",
    "        trial.report(current_epoch_val_accuracy, epoch)\n",
    "        if trial.should_prune():\n",
    "            # Store partial curves if pruned\n",
    "            trial.set_user_attr(\"train_losses\", trial_train_losses)\n",
    "            trial.set_user_attr(\"val_accuracies\", trial_val_accuracies)\n",
    "            raise optuna.exceptions.TrialPruned()\n",
    "\n",
    "    # Store full learning curves in user attributes for the trial\n",
    "    trial.set_user_attr(\"train_losses\", trial_train_losses)\n",
    "    trial.set_user_attr(\"val_accuracies\", trial_val_accuracies)\n",
    "            \n",
    "    return trial_val_accuracies[-1] # Return final validation accuracy\n",
    "\n",
    "# Create a study object and optimize\n",
    "# You can add a pruner, e.g., optuna.pruners.MedianPruner()\n",
    "study = optuna.create_study(direction=\"maximize\", pruner=optuna.pruners.MedianPruner())\n",
    "num_trials_optuna = 20 # Define number of trials\n",
    "study.optimize(objective, n_trials=num_trials_optuna)\n",
    "\n",
    "print(\"\\nFinished Optuna Hyperparameter Search.\")\n",
    "best_trial_optuna = study.best_trial\n",
    "best_hyperparams_optuna = best_trial_optuna.params\n",
    "best_val_accuracy_optuna = best_trial_optuna.value\n",
    "\n",
    "\n",
    "\n",
    "# Retrieve learning curves for the best trial\n",
    "best_model_train_losses_optuna = best_trial_optuna.user_attrs.get(\"train_losses\", [])\n",
    "best_model_val_accuracies_optuna = best_trial_optuna.user_attrs.get(\"val_accuracies\", [])"
   ]
  },
  {
   "cell_type": "markdown",
   "id": "f1553d2e",
   "metadata": {},
   "source": [
    "## Retrain best optuna model"
   ]
  },
  {
   "cell_type": "code",
   "execution_count": 16,
   "id": "b68268c3",
   "metadata": {},
   "outputs": [
    {
     "name": "stdout",
     "output_type": "stream",
     "text": [
      "Optimal model saved to best_optuna_cnn_model.pth\n"
     ]
    }
   ],
   "source": [
    "# After Optuna optimization, retrain the best model with the best hyperparameters and save it\n",
    "\n",
    "# Extract best hyperparameters from the Optuna study\n",
    "best_params = study.best_trial.params\n",
    "\n",
    "# Dataloaders with the best batch size\n",
    "pin_memory_flag_opt = True if device.type == 'cuda' else False\n",
    "train_loader_opt = DataLoader(train_dataset, batch_size=best_params['batch_size'], shuffle=True, num_workers=2, pin_memory=pin_memory_flag_opt)\n",
    "val_loader_opt = DataLoader(test_dataset, batch_size=best_params['batch_size'], shuffle=False, num_workers=2, pin_memory=pin_memory_flag_opt)\n",
    "\n",
    "# Re-create and train the model with the best hyperparameters\n",
    "model_optimal = SimpleCNN(\n",
    "    input_channels=C, input_height=H, input_width=W, num_classes=num_classes_hp,\n",
    "    conv1_out_channels=best_params['conv1_out_channels'],\n",
    "    conv2_out_channels=best_params['conv2_out_channels'],\n",
    "    fc_neurons=best_params['fc_neurons']\n",
    ").to(device)\n",
    "\n",
    "criterion_opt = nn.BCEWithLogitsLoss()\n",
    "optimizer_opt = optim.Adam(model_optimal.parameters(), lr=best_params['learning_rate'])\n",
    "num_epochs_opt = num_epochs_search  # Or set to a higher value for final training\n",
    "\n",
    "for epoch in range(num_epochs_opt):\n",
    "    model_optimal.train()\n",
    "    for images, labels in train_loader_opt:\n",
    "        images, labels = images.to(device), labels.to(device).float().unsqueeze(1)\n",
    "        optimizer_opt.zero_grad()\n",
    "        outputs = model_optimal(images)\n",
    "        loss = criterion_opt(outputs, labels)\n",
    "        loss.backward()\n",
    "        optimizer_opt.step()\n",
    "\n",
    "# Save the trained optimal model\n",
    "optimal_model_path = \"best_optuna_cnn_model.pth\"\n",
    "torch.save(model_optimal.state_dict(), optimal_model_path)\n",
    "print(f\"Optimal model saved to {optimal_model_path}\")\n"
   ]
  },
  {
   "cell_type": "markdown",
   "id": "1912c0ea",
   "metadata": {},
   "source": [
    "#### Plots"
   ]
  },
  {
   "cell_type": "code",
   "execution_count": null,
   "id": "a6caca28",
   "metadata": {},
   "outputs": [],
   "source": [
    "print(f\"Best Validation Accuracy (from Optuna study): {best_val_accuracy_optuna:.2f}%\")\n",
    "print(f\"Best Hyperparameters (from Optuna study): {best_hyperparams_optuna}\")\n",
    "\n",
    "# Plotting learning curves for the best model from Optuna hyperparameter search\n",
    "if best_model_train_losses_optuna and best_model_val_accuracies_optuna:\n",
    "    plt.figure(figsize=(12, 5))\n",
    "\n",
    "    plt.subplot(1, 2, 1)\n",
    "    plt.plot(range(1, len(best_model_train_losses_optuna) + 1), best_model_train_losses_optuna, label='Best Model Training Loss (Optuna)')\n",
    "    plt.xlabel('Epoch')\n",
    "    plt.ylabel('Loss')\n",
    "    plt.title('Best Model (Optuna) - Training Loss')\n",
    "    plt.legend()\n",
    "\n",
    "    plt.subplot(1, 2, 2)\n",
    "    plt.plot(range(1, len(best_model_val_accuracies_optuna) + 1), best_model_val_accuracies_optuna, label='Best Model Validation Accuracy (Optuna)', color='red')\n",
    "    plt.xlabel('Epoch')\n",
    "    plt.ylabel('Accuracy (%)')\n",
    "    plt.title('Best Model (Optuna) - Validation Accuracy')\n",
    "    plt.legend()\n",
    "\n",
    "    plt.tight_layout()\n",
    "    plt.show()\n",
    "else:\n",
    "    print(\"Learning curve data for the best Optuna trial is not available.\")\n",
    "    \n",
    "# You can now load the best model state for further use if needed.\n",
    "# First, you'd typically retrain a model with best_hyperparams_optuna for a full number of epochs\n",
    "# and save its state_dict. The state_dict is not directly saved by the Optuna objective function above.\n",
    "# Example:\n",
    "# model_best_optuna = SimpleCNN(input_channels=C, input_height=H, input_width=W, num_classes=num_classes_hp,\n",
    "#                               conv1_out_channels=best_hyperparams_optuna['conv1_out_channels'],\n",
    "#                               conv2_out_channels=best_hyperparams_optuna['conv2_out_channels'],\n",
    "#                               fc_neurons=best_hyperparams_optuna['fc_neurons']).to(device)\n",
    "# # Then, you would train this model_best_optuna using the best learning rate, optimizer, and batch size.\n",
    "# # For now, we are just plotting the curves from the optimization search itself."
   ]
  }
 ],
 "metadata": {
  "kernelspec": {
   "display_name": "base",
   "language": "python",
   "name": "python3"
  },
  "language_info": {
   "codemirror_mode": {
    "name": "ipython",
    "version": 3
   },
   "file_extension": ".py",
   "mimetype": "text/x-python",
   "name": "python",
   "nbconvert_exporter": "python",
   "pygments_lexer": "ipython3",
   "version": "3.12.9"
  }
 },
 "nbformat": 4,
 "nbformat_minor": 5
}
