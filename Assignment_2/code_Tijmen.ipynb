{
 "cells": [
  {
   "cell_type": "markdown",
   "id": "e8bc82e2",
   "metadata": {},
   "source": [
    "# Imports & loading"
   ]
  },
  {
   "cell_type": "code",
   "execution_count": 2,
   "id": "e71aeb63",
   "metadata": {},
   "outputs": [],
   "source": [
    "from support import load_dataset\n",
    "import matplotlib.pyplot as plt\n",
    "import torchvision.transforms as T\n",
    "import os\n",
    "os.environ[\"KMP_DUPLICATE_LIB_OK\"] = \"TRUE\"\n",
    "from tqdm.notebook import tqdm \n",
    "\n",
    "import random\n",
    "import numpy as np\n",
    "import torch\n",
    "import torch.nn as nn\n",
    "import torch.optim as optim\n",
    "from torch.utils.data import DataLoader"
   ]
  },
  {
   "cell_type": "markdown",
   "id": "fd2cd22c",
   "metadata": {},
   "source": [
    "#### Print Python and PyTorch version"
   ]
  },
  {
   "cell_type": "code",
   "execution_count": 3,
   "id": "f2b3f703",
   "metadata": {},
   "outputs": [
    {
     "name": "stdout",
     "output_type": "stream",
     "text": [
      "Python version: 3.12.9 | packaged by Anaconda, Inc. | (main, Feb  6 2025, 18:49:16) [MSC v.1929 64 bit (AMD64)]\n",
      "PyTorch version: 2.7.0+cu118\n",
      "CUDA available: True\n"
     ]
    }
   ],
   "source": [
    "print(\"Python version:\", os.sys.version)\n",
    "print(\"PyTorch version:\", torch.__version__)\n",
    "print(\"CUDA available:\", torch.cuda.is_available())"
   ]
  },
  {
   "cell_type": "code",
   "execution_count": 4,
   "id": "e549c95d",
   "metadata": {},
   "outputs": [],
   "source": [
    "data = load_dataset()\n",
    "train_dataset = data[0]\n",
    "test_dataset = data[1]"
   ]
  },
  {
   "cell_type": "code",
   "execution_count": 5,
   "id": "e1fe5181",
   "metadata": {},
   "outputs": [
    {
     "name": "stdout",
     "output_type": "stream",
     "text": [
      "Image shape: torch.Size([3, 60, 30])\n",
      "Label: 0\n",
      "Train_dataset: Dataset ImageFolder\n",
      "    Number of datapoints: 136\n",
      "    Root location: WF-data/train\n",
      "    StandardTransform\n",
      "Transform: Compose(\n",
      "               Resize(size=[105, 78], interpolation=bilinear, max_size=None, antialias=True)\n",
      "               CenterCrop(size=[60, 30])\n",
      "               ToTensor()\n",
      "           )\n"
     ]
    }
   ],
   "source": [
    "img, label = train_dataset[0]\n",
    "\n",
    "print(f\"Image shape: {img.shape}\")\n",
    "print(f\"Label: {label}\")\n",
    "print(f\"Train_dataset: {train_dataset}\")"
   ]
  },
  {
   "cell_type": "code",
   "execution_count": 6,
   "id": "9d010dd6",
   "metadata": {},
   "outputs": [
    {
     "data": {
      "image/png": "[encoded data removed]",
      "text/plain": [
       "<Figure size 640x480 with 1 Axes>"
      ]
     },
     "metadata": {},
     "output_type": "display_data"
    }
   ],
   "source": [
    "img_tensor, label = train_dataset[0]\n",
    "transform_to_pil = T.ToPILImage()\n",
    "img_pil = transform_to_pil(img_tensor)\n",
    "\n",
    "plt.imshow(img_pil)\n",
    "plt.title(f\"Label: {label}\")\n",
    "plt.axis('off')\n",
    "plt.show()"
   ]
  },
  {
   "cell_type": "markdown",
   "id": "be77b74f",
   "metadata": {},
   "source": [
    "# CNN"
   ]
  },
  {
   "cell_type": "markdown",
   "id": "1e629039",
   "metadata": {},
   "source": [
    "## Base Model"
   ]
  },
  {
   "cell_type": "code",
   "execution_count": 7,
   "id": "2a7eeaa6",
   "metadata": {},
   "outputs": [],
   "source": [
    "# Define the CNN model\n",
    "class SimpleCNN(nn.Module):\n",
    "    def __init__(self, input_channels, input_height, input_width, num_classes):\n",
    "        super(SimpleCNN, self).__init__()\n",
    "        self.conv_layers = nn.Sequential(\n",
    "            nn.Conv2d(input_channels, 16, kernel_size=3, padding=1),\n",
    "            nn.ReLU(),\n",
    "            nn.MaxPool2d(kernel_size=2, stride=2),  # Output: 16 x H/2 x W/2\n",
    "            nn.Conv2d(16, 32, kernel_size=3, padding=1),\n",
    "            nn.ReLU(),\n",
    "            nn.MaxPool2d(kernel_size=2, stride=2)   # Output: 32 x H/4 x W/4\n",
    "        )\n",
    "        \n",
    "        # Calculate the flattened size dynamically to connect conv layers to fc layers\n",
    "        with torch.no_grad(): # We don't need gradients for this calculation\n",
    "            dummy_input = torch.zeros(1, input_channels, input_height, input_width)\n",
    "            flattened_size = self.conv_layers(dummy_input).flatten(1).shape[1]\n",
    "            \n",
    "        self.fc_layers = nn.Sequential(\n",
    "            nn.Linear(flattened_size, 128),\n",
    "            nn.ReLU(),\n",
    "            # Output 1 logit for binary classification (labels 0 or 1)\n",
    "            # This will be used with BCEWithLogitsLoss\n",
    "            nn.Linear(128, 1 if num_classes == 2 else num_classes) \n",
    "        )\n",
    "\n",
    "    def forward(self, x):\n",
    "        x = self.conv_layers(x)\n",
    "        x = x.flatten(1) # Flatten all dimensions except batch\n",
    "        x = self.fc_layers(x)\n",
    "        return x"
   ]
  },
  {
   "cell_type": "code",
   "execution_count": 10,
   "id": "bc4d073b",
   "metadata": {},
   "outputs": [
    {
     "name": "stdout",
     "output_type": "stream",
     "text": [
      "Detected image shape: Channels=3, Height=60, Width=30\n",
      "Using device: cuda\n"
     ]
    },
    {
     "data": {
      "application/vnd.jupyter.widget-view+json": {
       "model_id": "9a4f6fb778cd4905bf9f0a682940fead",
       "version_major": 2,
       "version_minor": 0
      },
      "text/plain": [
       "Training Progress:   0%|          | 0/10 [00:00<?, ?epoch/s]"
      ]
     },
     "metadata": {},
     "output_type": "display_data"
    },
    {
     "name": "stdout",
     "output_type": "stream",
     "text": [
      "Epoch [1/10], Step [1/17], Loss: 0.6787\n",
      "Epoch [1/10], Step [2/17], Loss: 0.7801\n",
      "Epoch [1/10], Step [3/17], Loss: 0.7792\n",
      "Epoch [1/10], Step [4/17], Loss: 0.6878\n",
      "Epoch [1/10], Step [5/17], Loss: 0.7101\n",
      "Epoch [1/10], Step [6/17], Loss: 0.6934\n",
      "Epoch [1/10], Step [7/17], Loss: 0.6970\n",
      "Epoch [1/10], Step [8/17], Loss: 0.6931\n",
      "Epoch [1/10], Step [9/17], Loss: 0.6872\n",
      "Epoch [1/10], Step [10/17], Loss: 0.7175\n",
      "Epoch [1/10], Step [11/17], Loss: 0.7201\n",
      "Epoch [1/10], Step [12/17], Loss: 0.6931\n",
      "Epoch [1/10], Step [13/17], Loss: 0.6909\n",
      "Epoch [1/10], Step [14/17], Loss: 0.6909\n",
      "Epoch [1/10], Step [15/17], Loss: 0.6799\n",
      "Epoch [1/10], Step [16/17], Loss: 0.7507\n",
      "Epoch [1/10], Step [17/17], Loss: 0.7166\n",
      "Epoch [1/10] completed. Average Training Loss: 0.7098\n",
      "Accuracy on test set after epoch 1: 50.00%\n",
      "Epoch [2/10], Step [1/17], Loss: 0.6930\n",
      "Epoch [2/10], Step [2/17], Loss: 0.6923\n",
      "Epoch [2/10], Step [3/17], Loss: 0.7079\n",
      "Epoch [2/10], Step [4/17], Loss: 0.6925\n",
      "Epoch [2/10], Step [5/17], Loss: 0.6900\n",
      "Epoch [2/10], Step [6/17], Loss: 0.7053\n",
      "Epoch [2/10], Step [7/17], Loss: 0.6934\n",
      "Epoch [2/10], Step [8/17], Loss: 0.6987\n",
      "Epoch [2/10], Step [9/17], Loss: 0.6981\n",
      "Epoch [2/10], Step [10/17], Loss: 0.6892\n",
      "Epoch [2/10], Step [11/17], Loss: 0.6895\n",
      "Epoch [2/10], Step [12/17], Loss: 0.6967\n",
      "Epoch [2/10], Step [13/17], Loss: 0.6933\n",
      "Epoch [2/10], Step [14/17], Loss: 0.6930\n",
      "Epoch [2/10], Step [15/17], Loss: 0.6869\n",
      "Epoch [2/10], Step [16/17], Loss: 0.6991\n",
      "Epoch [2/10], Step [17/17], Loss: 0.6957\n",
      "Epoch [2/10] completed. Average Training Loss: 0.6950\n",
      "Accuracy on test set after epoch 2: 50.00%\n",
      "Epoch [3/10], Step [1/17], Loss: 0.7004\n",
      "Epoch [3/10], Step [2/17], Loss: 0.6964\n",
      "Epoch [3/10], Step [3/17], Loss: 0.6939\n",
      "Epoch [3/10], Step [4/17], Loss: 0.6930\n",
      "Epoch [3/10], Step [5/17], Loss: 0.6982\n",
      "Epoch [3/10], Step [6/17], Loss: 0.6930\n",
      "Epoch [3/10], Step [7/17], Loss: 0.6980\n",
      "Epoch [3/10], Step [8/17], Loss: 0.6927\n",
      "Epoch [3/10], Step [9/17], Loss: 0.6939\n",
      "Epoch [3/10], Step [10/17], Loss: 0.6932\n",
      "Epoch [3/10], Step [11/17], Loss: 0.6930\n",
      "Epoch [3/10], Step [12/17], Loss: 0.6938\n",
      "Epoch [3/10], Step [13/17], Loss: 0.6933\n",
      "Epoch [3/10], Step [14/17], Loss: 0.6932\n",
      "Epoch [3/10], Step [15/17], Loss: 0.6931\n",
      "Epoch [3/10], Step [16/17], Loss: 0.6925\n",
      "Epoch [3/10], Step [17/17], Loss: 0.6937\n",
      "Epoch [3/10] completed. Average Training Loss: 0.6944\n",
      "Accuracy on test set after epoch 3: 50.00%\n",
      "Epoch [4/10], Step [1/17], Loss: 0.6909\n",
      "Epoch [4/10], Step [2/17], Loss: 0.6932\n",
      "Epoch [4/10], Step [3/17], Loss: 0.6945\n",
      "Epoch [4/10], Step [4/17], Loss: 0.6885\n",
      "Epoch [4/10], Step [5/17], Loss: 0.6932\n",
      "Epoch [4/10], Step [6/17], Loss: 0.6955\n",
      "Epoch [4/10], Step [7/17], Loss: 0.6932\n",
      "Epoch [4/10], Step [8/17], Loss: 0.6932\n",
      "Epoch [4/10], Step [9/17], Loss: 0.6960\n",
      "Epoch [4/10], Step [10/17], Loss: 0.6845\n",
      "Epoch [4/10], Step [11/17], Loss: 0.6900\n",
      "Epoch [4/10], Step [12/17], Loss: 0.7003\n",
      "Epoch [4/10], Step [13/17], Loss: 0.6969\n",
      "Epoch [4/10], Step [14/17], Loss: 0.7007\n",
      "Epoch [4/10], Step [15/17], Loss: 0.7004\n",
      "Epoch [4/10], Step [16/17], Loss: 0.6932\n",
      "Epoch [4/10], Step [17/17], Loss: 0.6932\n",
      "Epoch [4/10] completed. Average Training Loss: 0.6940\n",
      "Accuracy on test set after epoch 4: 50.00%\n",
      "Epoch [5/10], Step [1/17], Loss: 0.6873\n",
      "Epoch [5/10], Step [2/17], Loss: 0.6874\n",
      "Epoch [5/10], Step [3/17], Loss: 0.6932\n",
      "Epoch [5/10], Step [4/17], Loss: 0.6932\n",
      "Epoch [5/10], Step [5/17], Loss: 0.6964\n",
      "Epoch [5/10], Step [6/17], Loss: 0.6996\n",
      "Epoch [5/10], Step [7/17], Loss: 0.6902\n",
      "Epoch [5/10], Step [8/17], Loss: 0.6992\n",
      "Epoch [5/10], Step [9/17], Loss: 0.6932\n",
      "Epoch [5/10], Step [10/17], Loss: 0.6906\n",
      "Epoch [5/10], Step [11/17], Loss: 0.6907\n",
      "Epoch [5/10], Step [12/17], Loss: 0.6957\n",
      "Epoch [5/10], Step [13/17], Loss: 0.6981\n",
      "Epoch [5/10], Step [14/17], Loss: 0.6910\n",
      "Epoch [5/10], Step [15/17], Loss: 0.6911\n",
      "Epoch [5/10], Step [16/17], Loss: 0.6952\n",
      "Epoch [5/10], Step [17/17], Loss: 0.6932\n",
      "Epoch [5/10] completed. Average Training Loss: 0.6932\n",
      "Accuracy on test set after epoch 5: 50.00%\n",
      "Epoch [6/10], Step [1/17], Loss: 0.6913\n",
      "Epoch [6/10], Step [2/17], Loss: 0.6950\n",
      "Epoch [6/10], Step [3/17], Loss: 0.6949\n",
      "Epoch [6/10], Step [4/17], Loss: 0.6947\n",
      "Epoch [6/10], Step [5/17], Loss: 0.6932\n",
      "Epoch [6/10], Step [6/17], Loss: 0.6955\n",
      "Epoch [6/10], Step [7/17], Loss: 0.6923\n",
      "Epoch [6/10], Step [8/17], Loss: 0.6925\n",
      "Epoch [6/10], Step [9/17], Loss: 0.6931\n",
      "Epoch [6/10], Step [10/17], Loss: 0.6936\n",
      "Epoch [6/10], Step [11/17], Loss: 0.6931\n",
      "Epoch [6/10], Step [12/17], Loss: 0.6929\n",
      "Epoch [6/10], Step [13/17], Loss: 0.6933\n",
      "Epoch [6/10], Step [14/17], Loss: 0.6931\n",
      "Epoch [6/10], Step [15/17], Loss: 0.6931\n",
      "Epoch [6/10], Step [16/17], Loss: 0.6931\n",
      "Epoch [6/10], Step [17/17], Loss: 0.6931\n",
      "Epoch [6/10] completed. Average Training Loss: 0.6934\n",
      "Accuracy on test set after epoch 6: 50.00%\n",
      "Epoch [7/10], Step [1/17], Loss: 0.6925\n",
      "Epoch [7/10], Step [2/17], Loss: 0.6936\n",
      "Epoch [7/10], Step [3/17], Loss: 0.6939\n",
      "Epoch [7/10], Step [4/17], Loss: 0.6957\n",
      "Epoch [7/10], Step [5/17], Loss: 0.6947\n",
      "Epoch [7/10], Step [6/17], Loss: 0.6920\n",
      "Epoch [7/10], Step [7/17], Loss: 0.6937\n",
      "Epoch [7/10], Step [8/17], Loss: 0.6927\n",
      "Epoch [7/10], Step [9/17], Loss: 0.6928\n",
      "Epoch [7/10], Step [10/17], Loss: 0.6936\n",
      "Epoch [7/10], Step [11/17], Loss: 0.6931\n",
      "Epoch [7/10], Step [12/17], Loss: 0.6931\n",
      "Epoch [7/10], Step [13/17], Loss: 0.6938\n",
      "Epoch [7/10], Step [14/17], Loss: 0.6930\n",
      "Epoch [7/10], Step [15/17], Loss: 0.6931\n",
      "Epoch [7/10], Step [16/17], Loss: 0.6931\n",
      "Epoch [7/10], Step [17/17], Loss: 0.6931\n",
      "Epoch [7/10] completed. Average Training Loss: 0.6934\n",
      "Accuracy on test set after epoch 7: 50.00%\n",
      "Epoch [8/10], Step [1/17], Loss: 0.6932\n",
      "Epoch [8/10], Step [2/17], Loss: 0.6931\n",
      "Epoch [8/10], Step [3/17], Loss: 0.6931\n",
      "Epoch [8/10], Step [4/17], Loss: 0.6931\n",
      "Epoch [8/10], Step [5/17], Loss: 0.6931\n",
      "Epoch [8/10], Step [6/17], Loss: 0.6930\n",
      "Epoch [8/10], Step [7/17], Loss: 0.6934\n",
      "Epoch [8/10], Step [8/17], Loss: 0.6926\n",
      "Epoch [8/10], Step [9/17], Loss: 0.6927\n",
      "Epoch [8/10], Step [10/17], Loss: 0.6925\n",
      "Epoch [8/10], Step [11/17], Loss: 0.6922\n",
      "Epoch [8/10], Step [12/17], Loss: 0.6944\n",
      "Epoch [8/10], Step [13/17], Loss: 0.6961\n",
      "Epoch [8/10], Step [14/17], Loss: 0.6978\n",
      "Epoch [8/10], Step [15/17], Loss: 0.6932\n",
      "Epoch [8/10], Step [16/17], Loss: 0.6944\n",
      "Epoch [8/10], Step [17/17], Loss: 0.6910\n",
      "Epoch [8/10] completed. Average Training Loss: 0.6935\n",
      "Accuracy on test set after epoch 8: 50.00%\n",
      "Epoch [9/10], Step [1/17], Loss: 0.6942\n",
      "Epoch [9/10], Step [2/17], Loss: 0.6941\n",
      "Epoch [9/10], Step [3/17], Loss: 0.6924\n",
      "Epoch [9/10], Step [4/17], Loss: 0.6938\n",
      "Epoch [9/10], Step [5/17], Loss: 0.6947\n",
      "Epoch [9/10], Step [6/17], Loss: 0.6931\n",
      "Epoch [9/10], Step [7/17], Loss: 0.6931\n",
      "Epoch [9/10], Step [8/17], Loss: 0.6935\n",
      "Epoch [9/10], Step [9/17], Loss: 0.6937\n",
      "Epoch [9/10], Step [10/17], Loss: 0.6938\n",
      "Epoch [9/10], Step [11/17], Loss: 0.6950\n",
      "Epoch [9/10], Step [12/17], Loss: 0.6931\n",
      "Epoch [9/10], Step [13/17], Loss: 0.6934\n",
      "Epoch [9/10], Step [14/17], Loss: 0.6931\n",
      "Epoch [9/10], Step [15/17], Loss: 0.6931\n",
      "Epoch [9/10], Step [16/17], Loss: 0.6935\n",
      "Epoch [9/10], Step [17/17], Loss: 0.6936\n",
      "Epoch [9/10] completed. Average Training Loss: 0.6936\n",
      "Accuracy on test set after epoch 9: 50.00%\n",
      "Epoch [10/10], Step [1/17], Loss: 0.6922\n",
      "Epoch [10/10], Step [2/17], Loss: 0.6925\n",
      "Epoch [10/10], Step [3/17], Loss: 0.6940\n",
      "Epoch [10/10], Step [4/17], Loss: 0.6960\n",
      "Epoch [10/10], Step [5/17], Loss: 0.6932\n",
      "Epoch [10/10], Step [6/17], Loss: 0.6916\n",
      "Epoch [10/10], Step [7/17], Loss: 0.6940\n",
      "Epoch [10/10], Step [8/17], Loss: 0.6924\n",
      "Epoch [10/10], Step [9/17], Loss: 0.6923\n",
      "Epoch [10/10], Step [10/17], Loss: 0.6960\n",
      "Epoch [10/10], Step [11/17], Loss: 0.6923\n",
      "Epoch [10/10], Step [12/17], Loss: 0.6956\n",
      "Epoch [10/10], Step [13/17], Loss: 0.6914\n",
      "Epoch [10/10], Step [14/17], Loss: 0.6937\n",
      "Epoch [10/10], Step [15/17], Loss: 0.6926\n",
      "Epoch [10/10], Step [16/17], Loss: 0.6931\n",
      "Epoch [10/10], Step [17/17], Loss: 0.6931\n",
      "Epoch [10/10] completed. Average Training Loss: 0.6933\n",
      "Accuracy on test set after epoch 10: 50.00%\n",
      "Finished Training\n",
      "Model saved to simple_cnn_model.pth\n"
     ]
    }
   ],
   "source": [
    "sample_img, _ = train_dataset[0]\n",
    "C, H, W = sample_img.shape\n",
    "print(f\"Detected image shape: Channels={C}, Height={H}, Width={W}\")\n",
    "\n",
    "# Hyperparameters\n",
    "learning_rate = 0.007\n",
    "batch_size = 8 # Adjust this based on memory\n",
    "num_epochs = 10  # Adjust as needed for convergence\n",
    "num_classes = 2  # Binary classification (labels 0 and 1)\n",
    "\n",
    "# Model, Loss, Optimizer\n",
    "device = torch.device(\"cuda\" if torch.cuda.is_available() else \"cpu\")\n",
    "print(f\"Using device: {device}\")\n",
    "\n",
    "# DataLoaders\n",
    "pin_memory_flag = True if device.type == 'cuda' else False\n",
    "train_loader = DataLoader(train_dataset, batch_size=batch_size, shuffle=True, num_workers=2, pin_memory=pin_memory_flag)\n",
    "test_loader = DataLoader(test_dataset, batch_size=batch_size, shuffle=False, num_workers=2, pin_memory=pin_memory_flag)\n",
    "\n",
    "model = SimpleCNN(input_channels=C, input_height=H, input_width=W, num_classes=num_classes).to(device)\n",
    "\n",
    "# Binary Cross Entropy with Logits Loss, suitable for binary classification with one output neuron\n",
    "criterion = nn.BCEWithLogitsLoss() # Different choiches possible\n",
    "optimizer = optim.Adam(model.parameters(), lr=learning_rate)\n",
    "\n",
    "# Training loop\n",
    "for epoch in tqdm(range(num_epochs), desc=\"Training Progress\", unit=\"epoch\"):\n",
    "    model.train()  \n",
    "    running_loss = 0.0\n",
    "    for i, (images, labels) in enumerate(train_loader):\n",
    "        images = images.to(device)\n",
    "        # Reshape labels to [batch_size, 1] and convert to float for BCEWithLogitsLoss\n",
    "        labels = labels.to(device).float().unsqueeze(1) \n",
    "\n",
    "        # Forward pass\n",
    "        outputs = model(images)\n",
    "        loss = criterion(outputs, labels)\n",
    "\n",
    "        # Backward and optimize\n",
    "        optimizer.zero_grad()\n",
    "        loss.backward()\n",
    "        optimizer.step()\n",
    "\n",
    "        running_loss += loss.item()\n",
    "        if (i + 1) % max(1, len(train_loader) // 10) == 0: # Print progress, e.g. 10 times per epoch\n",
    "            print(f\"Epoch [{epoch+1}/{num_epochs}], Step [{i+1}/{len(train_loader)}], Loss: {loss.item():.4f}\")\n",
    "    \n",
    "    avg_epoch_loss = running_loss / len(train_loader)\n",
    "    print(f\"Epoch [{epoch+1}/{num_epochs}] completed. Average Training Loss: {avg_epoch_loss:.4f}\")\n",
    "\n",
    "    # Evaluation on the test set\n",
    "    model.eval()  \n",
    "    correct = 0\n",
    "    total = 0\n",
    "    with torch.no_grad(): \n",
    "        for images, labels in test_loader:\n",
    "            images = images.to(device)\n",
    "            labels = labels.to(device).float().unsqueeze(1) #\n",
    "            \n",
    "            # predictions on the test set\n",
    "            outputs = model(images)\n",
    "            predictions = (torch.sigmoid(outputs) > 0.5).float()\n",
    "\n",
    "            total += labels.size(0)\n",
    "            correct += (predictions == labels).sum().item()\n",
    "    \n",
    "    accuracy = 100 * correct / total\n",
    "    print(f\"Accuracy on test set after epoch {epoch+1}: {accuracy:.2f}%\")\n",
    "\n",
    "# Save the model\n",
    "model_path = \"simple_cnn_model.pth\"\n",
    "torch.save(model.state_dict(), model_path)\n",
    "print(\"Finished Training\")\n",
    "print(f\"Model saved to {model_path}\")"
   ]
  },
  {
   "cell_type": "markdown",
   "id": "55c0f870",
   "metadata": {},
   "source": [
    "## Increased complexity"
   ]
  },
  {
   "cell_type": "code",
   "execution_count": 11,
   "id": "3d470596",
   "metadata": {},
   "outputs": [],
   "source": [
    "class SimpleCNN(nn.Module):\n",
    "    def __init__(self, input_channels, input_height, input_width, num_classes,\n",
    "                 conv1_out_channels=16, conv2_out_channels=32, fc_neurons=128):\n",
    "        super(SimpleCNN, self).__init__()\n",
    "        self.conv_layers = nn.Sequential(\n",
    "            nn.Conv2d(input_channels, conv1_out_channels, kernel_size=3, padding=1),\n",
    "            nn.ReLU(),\n",
    "            nn.MaxPool2d(kernel_size=2, stride=2),  # Output: conv1_out_channels x H/2 x W/2\n",
    "            nn.Conv2d(conv1_out_channels, conv2_out_channels, kernel_size=3, padding=1),\n",
    "            nn.ReLU(),\n",
    "            nn.MaxPool2d(kernel_size=2, stride=2)   # Output: conv2_out_channels x H/4 x W/4\n",
    "        )\n",
    "        \n",
    "        # Calculate the flattened size dynamically\n",
    "        with torch.no_grad():\n",
    "            dummy_input = torch.zeros(1, input_channels, input_height, input_width)\n",
    "            flattened_size = self.conv_layers(dummy_input).flatten(1).shape[1]\n",
    "            \n",
    "        self.fc_layers = nn.Sequential(\n",
    "            nn.Linear(flattened_size, fc_neurons),\n",
    "            nn.ReLU(),\n",
    "            nn.Linear(fc_neurons, 1 if num_classes == 2 else num_classes) \n",
    "        )\n",
    "\n",
    "    def forward(self, x):\n",
    "        x = self.conv_layers(x)\n",
    "        x = x.flatten(1) # Flatten all dimensions except batch\n",
    "        x = self.fc_layers(x)\n",
    "        return x"
   ]
  },
  {
   "cell_type": "code",
   "execution_count": 15,
   "id": "6e13a536",
   "metadata": {},
   "outputs": [
    {
     "name": "stdout",
     "output_type": "stream",
     "text": [
      "Detected image shape: Channels=3, Height=60, Width=30\n",
      "Using device: cuda\n"
     ]
    },
    {
     "data": {
      "application/vnd.jupyter.widget-view+json": {
       "model_id": "a135b49331f34a3e9ae94467458d301e",
       "version_major": 2,
       "version_minor": 0
      },
      "text/plain": [
       "Training Progress:   0%|          | 0/20 [00:00<?, ?epoch/s]"
      ]
     },
     "metadata": {},
     "output_type": "display_data"
    },
    {
     "name": "stdout",
     "output_type": "stream",
     "text": [
      "Epoch [1/20] completed. Average Training Loss: 0.7011\n",
      "Accuracy on test set after epoch 1: 50.00%\n",
      "Epoch [2/20] completed. Average Training Loss: 0.6931\n",
      "Accuracy on test set after epoch 2: 50.00%\n",
      "Epoch [3/20] completed. Average Training Loss: 0.6922\n",
      "Accuracy on test set after epoch 3: 61.76%\n",
      "Epoch [4/20] completed. Average Training Loss: 0.6875\n",
      "Accuracy on test set after epoch 4: 61.76%\n",
      "Epoch [5/20] completed. Average Training Loss: 0.6861\n",
      "Accuracy on test set after epoch 5: 58.82%\n",
      "Epoch [6/20] completed. Average Training Loss: 0.6586\n",
      "Accuracy on test set after epoch 6: 64.71%\n",
      "Epoch [7/20] completed. Average Training Loss: 0.5938\n",
      "Accuracy on test set after epoch 7: 50.00%\n",
      "Epoch [8/20] completed. Average Training Loss: 0.5372\n",
      "Accuracy on test set after epoch 8: 55.88%\n",
      "Epoch [9/20] completed. Average Training Loss: 0.5038\n",
      "Accuracy on test set after epoch 9: 64.71%\n",
      "Epoch [10/20] completed. Average Training Loss: 0.4492\n",
      "Accuracy on test set after epoch 10: 64.71%\n",
      "Epoch [11/20] completed. Average Training Loss: 0.5271\n",
      "Accuracy on test set after epoch 11: 61.76%\n",
      "Epoch [12/20] completed. Average Training Loss: 0.4519\n",
      "Accuracy on test set after epoch 12: 73.53%\n",
      "Epoch [13/20] completed. Average Training Loss: 0.4181\n",
      "Accuracy on test set after epoch 13: 58.82%\n",
      "Epoch [14/20] completed. Average Training Loss: 0.4211\n",
      "Accuracy on test set after epoch 14: 61.76%\n",
      "Epoch [15/20] completed. Average Training Loss: 0.3800\n",
      "Accuracy on test set after epoch 15: 64.71%\n",
      "Epoch [16/20] completed. Average Training Loss: 0.3441\n",
      "Accuracy on test set after epoch 16: 79.41%\n",
      "Epoch [17/20] completed. Average Training Loss: 0.3294\n",
      "Accuracy on test set after epoch 17: 61.76%\n",
      "Epoch [18/20] completed. Average Training Loss: 0.3555\n",
      "Accuracy on test set after epoch 18: 76.47%\n",
      "Epoch [19/20] completed. Average Training Loss: 0.3346\n",
      "Accuracy on test set after epoch 19: 76.47%\n",
      "Epoch [20/20] completed. Average Training Loss: 0.2775\n",
      "Accuracy on test set after epoch 20: 76.47%\n",
      "Finished Training Base Model\n"
     ]
    }
   ],
   "source": [
    "sample_img, _ = train_dataset[0]\n",
    "C, H, W = sample_img.shape\n",
    "print(f\"Detected image shape: Channels={C}, Height={H}, Width={W}\")\n",
    "\n",
    "# Hyperparameters (Base Model)\n",
    "learning_rate = 0.001\n",
    "batch_size = 8 \n",
    "num_epochs = 20 \n",
    "num_classes = 2 \n",
    "\n",
    "# Default architectural parameters for the base model\n",
    "conv1_out_channels_base = 16\n",
    "conv2_out_channels_base = 32\n",
    "fc_neurons_base = 128\n",
    "\n",
    "# Model, Loss, Optimizer\n",
    "device = torch.device(\"cuda\" if torch.cuda.is_available() else \"cpu\")\n",
    "print(f\"Using device: {device}\")\n",
    "\n",
    "# DataLoaders\n",
    "pin_memory_flag = True if device.type == 'cuda' else False\n",
    "train_loader = DataLoader(train_dataset, batch_size=batch_size, shuffle=True, num_workers=2, pin_memory=pin_memory_flag)\n",
    "test_loader = DataLoader(test_dataset, batch_size=batch_size, shuffle=False, num_workers=2, pin_memory=pin_memory_flag)\n",
    "\n",
    "# Use the (potentially modified) SimpleCNN class\n",
    "model = SimpleCNN(input_channels=C, input_height=H, input_width=W, num_classes=num_classes,\n",
    "                    conv1_out_channels=conv1_out_channels_base, \n",
    "                    conv2_out_channels=conv2_out_channels_base, \n",
    "                    fc_neurons=fc_neurons_base).to(device)\n",
    "\n",
    "criterion = nn.BCEWithLogitsLoss()\n",
    "optimizer = optim.Adam(model.parameters(), lr=learning_rate)\n",
    "\n",
    "# Lists to store metrics for plotting\n",
    "epoch_train_losses = []\n",
    "epoch_test_accuracies = []\n",
    "\n",
    "# Training loop\n",
    "for epoch in tqdm(range(num_epochs), desc=\"Training Progress\", unit=\"epoch\"):\n",
    "    model.train()  \n",
    "    running_loss = 0.0\n",
    "    for images, labels in train_loader:\n",
    "        images = images.to(device)\n",
    "        labels = labels.to(device).float().unsqueeze(1) \n",
    "\n",
    "        outputs = model(images)\n",
    "        loss = criterion(outputs, labels)\n",
    "\n",
    "        optimizer.zero_grad()\n",
    "        loss.backward()\n",
    "        optimizer.step()\n",
    "\n",
    "        running_loss += loss.item() * images.size(0) # loss.item() is avg loss for batch\n",
    "    \n",
    "    avg_epoch_loss = running_loss / len(train_loader.dataset)  # Average loss over the entire training set\n",
    "    epoch_train_losses.append(avg_epoch_loss)\n",
    "    print(f\"Epoch [{epoch+1}/{num_epochs}] completed. Average Training Loss: {avg_epoch_loss:.4f}\")\n",
    "\n",
    "    # Evaluation on the test set\n",
    "    model.eval()  \n",
    "    correct = 0\n",
    "    total = 0\n",
    "    with torch.no_grad(): \n",
    "        for images, labels in test_loader:\n",
    "            images = images.to(device)\n",
    "            labels = labels.to(device).float().unsqueeze(1)\n",
    "            \n",
    "            outputs = model(images)\n",
    "            predicted = (torch.sigmoid(outputs) > 0.5).float() \n",
    "            \n",
    "            total += labels.size(0)\n",
    "            correct += (predicted == labels).sum().item()\n",
    "    \n",
    "    accuracy = 100 * correct / total\n",
    "    epoch_test_accuracies.append(accuracy)\n",
    "    print(f\"Accuracy on test set after epoch {epoch+1}: {accuracy:.2f}%\")\n",
    "\n",
    "print(\"Finished Training Base Model\")"
   ]
  },
  {
   "cell_type": "markdown",
   "id": "6293f4b5",
   "metadata": {},
   "source": [
    "### Plots"
   ]
  },
  {
   "cell_type": "code",
   "execution_count": 16,
   "id": "ec2ffc15",
   "metadata": {},
   "outputs": [
    {
     "data": {
      "image/png": "[encoded data removed]",
      "text/plain": [
       "<Figure size 1200x500 with 2 Axes>"
      ]
     },
     "metadata": {},
     "output_type": "display_data"
    }
   ],
   "source": [
    "# Plotting learning curves\n",
    "plt.figure(figsize=(12, 5))\n",
    "\n",
    "plt.subplot(1, 2, 1)\n",
    "plt.plot(range(1, num_epochs + 1), epoch_train_losses, label='Training Loss')\n",
    "plt.xlabel('Epoch')\n",
    "plt.ylabel('Loss')\n",
    "plt.title('Training Loss Curve', fontsize=14)\n",
    "plt.legend()\n",
    "\n",
    "plt.subplot(1, 2, 2)\n",
    "plt.plot(range(1, num_epochs + 1), epoch_test_accuracies, label='Test Accuracy', color='red')\n",
    "plt.xlabel('Epoch')\n",
    "plt.ylabel('Accuracy (%)')\n",
    "plt.title('Test Accuracy Curve', fontsize=14)\n",
    "plt.legend()\n",
    "\n",
    "plt.tight_layout()\n",
    "plt.show()"
   ]
  },
  {
   "cell_type": "markdown",
   "id": "bca0754c",
   "metadata": {},
   "source": [
    "## Hyperparameter tuning"
   ]
  },
  {
   "cell_type": "markdown",
   "id": "0e629c83",
   "metadata": {},
   "source": [
    "### Random Search"
   ]
  },
  {
   "cell_type": "code",
   "execution_count": 19,
   "id": "b59f0e36",
   "metadata": {},
   "outputs": [
    {
     "name": "stdout",
     "output_type": "stream",
     "text": [
      "Using device for hyperparameter tuning: cuda\n"
     ]
    },
    {
     "data": {
      "application/vnd.jupyter.widget-view+json": {
       "model_id": "9b71f193ed8a4a0a87ebba40f2f07412",
       "version_major": 2,
       "version_minor": 0
      },
      "text/plain": [
       "Hyperparameter Search Trials:   0%|          | 0/20 [00:00<?, ?trial/s]"
      ]
     },
     "metadata": {},
     "output_type": "display_data"
    },
    {
     "name": "stdout",
     "output_type": "stream",
     "text": [
      "Testing params: {'learning_rate': 0.01, 'batch_size': 8, 'conv1_out_channels': 8, 'conv2_out_channels': 64, 'fc_neurons': 128}\n"
     ]
    },
    {
     "data": {
      "application/vnd.jupyter.widget-view+json": {
       "model_id": "5755709f51da4a2281f76203694541dc",
       "version_major": 2,
       "version_minor": 0
      },
      "text/plain": [
       "Trial 1 Training:   0%|          | 0/20 [00:00<?, ?it/s]"
      ]
     },
     "metadata": {},
     "output_type": "display_data"
    },
    {
     "name": "stdout",
     "output_type": "stream",
     "text": [
      "Trial 1 Epoch 1: Train Loss: 0.7578, Val Accuracy: 50.00%\n",
      "Trial 1 Epoch 2: Train Loss: 0.6865, Val Accuracy: 50.00%\n",
      "Trial 1 Epoch 3: Train Loss: 0.6831, Val Accuracy: 50.00%\n",
      "Trial 1 Epoch 4: Train Loss: 0.5993, Val Accuracy: 76.47%\n",
      "Trial 1 Epoch 5: Train Loss: 0.5282, Val Accuracy: 70.59%\n"
     ]
    },
    {
     "ename": "KeyboardInterrupt",
     "evalue": "",
     "output_type": "error",
     "traceback": [
      "\u001b[31m---------------------------------------------------------------------------\u001b[39m",
      "\u001b[31mKeyboardInterrupt\u001b[39m                         Traceback (most recent call last)",
      "\u001b[36mCell\u001b[39m\u001b[36m \u001b[39m\u001b[32mIn[19]\u001b[39m\u001b[32m, line 81\u001b[39m\n\u001b[32m     79\u001b[39m val_total = \u001b[32m0\u001b[39m\n\u001b[32m     80\u001b[39m \u001b[38;5;28;01mwith\u001b[39;00m torch.no_grad():\n\u001b[32m---> \u001b[39m\u001b[32m81\u001b[39m \u001b[43m    \u001b[49m\u001b[38;5;28;43;01mfor\u001b[39;49;00m\u001b[43m \u001b[49m\u001b[43mimages\u001b[49m\u001b[43m,\u001b[49m\u001b[43m \u001b[49m\u001b[43mlabels\u001b[49m\u001b[43m \u001b[49m\u001b[38;5;129;43;01min\u001b[39;49;00m\u001b[43m \u001b[49m\u001b[43mcurrent_val_loader\u001b[49m\u001b[43m:\u001b[49m\n\u001b[32m     82\u001b[39m \u001b[43m        \u001b[49m\u001b[43mimages\u001b[49m\u001b[43m,\u001b[49m\u001b[43m \u001b[49m\u001b[43mlabels\u001b[49m\u001b[43m \u001b[49m\u001b[43m=\u001b[49m\u001b[43m \u001b[49m\u001b[43mimages\u001b[49m\u001b[43m.\u001b[49m\u001b[43mto\u001b[49m\u001b[43m(\u001b[49m\u001b[43mdevice\u001b[49m\u001b[43m)\u001b[49m\u001b[43m,\u001b[49m\u001b[43m \u001b[49m\u001b[43mlabels\u001b[49m\u001b[43m.\u001b[49m\u001b[43mto\u001b[49m\u001b[43m(\u001b[49m\u001b[43mdevice\u001b[49m\u001b[43m)\u001b[49m\u001b[43m.\u001b[49m\u001b[43mfloat\u001b[49m\u001b[43m(\u001b[49m\u001b[43m)\u001b[49m\u001b[43m.\u001b[49m\u001b[43munsqueeze\u001b[49m\u001b[43m(\u001b[49m\u001b[32;43m1\u001b[39;49m\u001b[43m)\u001b[49m\n\u001b[32m     83\u001b[39m \u001b[43m        \u001b[49m\u001b[43moutputs\u001b[49m\u001b[43m \u001b[49m\u001b[43m=\u001b[49m\u001b[43m \u001b[49m\u001b[43mmodel_hp\u001b[49m\u001b[43m(\u001b[49m\u001b[43mimages\u001b[49m\u001b[43m)\u001b[49m\n",
      "\u001b[36mFile \u001b[39m\u001b[32mc:\\Users\\20193567\\AppData\\Local\\miniconda3\\Lib\\site-packages\\torch\\utils\\data\\dataloader.py:733\u001b[39m, in \u001b[36m_BaseDataLoaderIter.__next__\u001b[39m\u001b[34m(self)\u001b[39m\n\u001b[32m    730\u001b[39m \u001b[38;5;28;01mif\u001b[39;00m \u001b[38;5;28mself\u001b[39m._sampler_iter \u001b[38;5;129;01mis\u001b[39;00m \u001b[38;5;28;01mNone\u001b[39;00m:\n\u001b[32m    731\u001b[39m     \u001b[38;5;66;03m# TODO(https://github.com/pytorch/pytorch/issues/76750)\u001b[39;00m\n\u001b[32m    732\u001b[39m     \u001b[38;5;28mself\u001b[39m._reset()  \u001b[38;5;66;03m# type: ignore[call-arg]\u001b[39;00m\n\u001b[32m--> \u001b[39m\u001b[32m733\u001b[39m data = \u001b[38;5;28;43mself\u001b[39;49m\u001b[43m.\u001b[49m\u001b[43m_next_data\u001b[49m\u001b[43m(\u001b[49m\u001b[43m)\u001b[49m\n\u001b[32m    734\u001b[39m \u001b[38;5;28mself\u001b[39m._num_yielded += \u001b[32m1\u001b[39m\n\u001b[32m    735\u001b[39m \u001b[38;5;28;01mif\u001b[39;00m (\n\u001b[32m    736\u001b[39m     \u001b[38;5;28mself\u001b[39m._dataset_kind == _DatasetKind.Iterable\n\u001b[32m    737\u001b[39m     \u001b[38;5;129;01mand\u001b[39;00m \u001b[38;5;28mself\u001b[39m._IterableDataset_len_called \u001b[38;5;129;01mis\u001b[39;00m \u001b[38;5;129;01mnot\u001b[39;00m \u001b[38;5;28;01mNone\u001b[39;00m\n\u001b[32m    738\u001b[39m     \u001b[38;5;129;01mand\u001b[39;00m \u001b[38;5;28mself\u001b[39m._num_yielded > \u001b[38;5;28mself\u001b[39m._IterableDataset_len_called\n\u001b[32m    739\u001b[39m ):\n",
      "\u001b[36mFile \u001b[39m\u001b[32mc:\\Users\\20193567\\AppData\\Local\\miniconda3\\Lib\\site-packages\\torch\\utils\\data\\dataloader.py:1491\u001b[39m, in \u001b[36m_MultiProcessingDataLoaderIter._next_data\u001b[39m\u001b[34m(self)\u001b[39m\n\u001b[32m   1488\u001b[39m     \u001b[38;5;28;01mreturn\u001b[39;00m \u001b[38;5;28mself\u001b[39m._process_data(data, worker_id)\n\u001b[32m   1490\u001b[39m \u001b[38;5;28;01massert\u001b[39;00m \u001b[38;5;129;01mnot\u001b[39;00m \u001b[38;5;28mself\u001b[39m._shutdown \u001b[38;5;129;01mand\u001b[39;00m \u001b[38;5;28mself\u001b[39m._tasks_outstanding > \u001b[32m0\u001b[39m\n\u001b[32m-> \u001b[39m\u001b[32m1491\u001b[39m idx, data = \u001b[38;5;28;43mself\u001b[39;49m\u001b[43m.\u001b[49m\u001b[43m_get_data\u001b[49m\u001b[43m(\u001b[49m\u001b[43m)\u001b[49m\n\u001b[32m   1492\u001b[39m \u001b[38;5;28mself\u001b[39m._tasks_outstanding -= \u001b[32m1\u001b[39m\n\u001b[32m   1493\u001b[39m \u001b[38;5;28;01mif\u001b[39;00m \u001b[38;5;28mself\u001b[39m._dataset_kind == _DatasetKind.Iterable:\n\u001b[32m   1494\u001b[39m     \u001b[38;5;66;03m# Check for _IterableDatasetStopIteration\u001b[39;00m\n",
      "\u001b[36mFile \u001b[39m\u001b[32mc:\\Users\\20193567\\AppData\\Local\\miniconda3\\Lib\\site-packages\\torch\\utils\\data\\dataloader.py:1443\u001b[39m, in \u001b[36m_MultiProcessingDataLoaderIter._get_data\u001b[39m\u001b[34m(self)\u001b[39m\n\u001b[32m   1441\u001b[39m \u001b[38;5;28;01melif\u001b[39;00m \u001b[38;5;28mself\u001b[39m._pin_memory:\n\u001b[32m   1442\u001b[39m     \u001b[38;5;28;01mwhile\u001b[39;00m \u001b[38;5;28mself\u001b[39m._pin_memory_thread.is_alive():\n\u001b[32m-> \u001b[39m\u001b[32m1443\u001b[39m         success, data = \u001b[38;5;28;43mself\u001b[39;49m\u001b[43m.\u001b[49m\u001b[43m_try_get_data\u001b[49m\u001b[43m(\u001b[49m\u001b[43m)\u001b[49m\n\u001b[32m   1444\u001b[39m         \u001b[38;5;28;01mif\u001b[39;00m success:\n\u001b[32m   1445\u001b[39m             \u001b[38;5;28;01mreturn\u001b[39;00m data\n",
      "\u001b[36mFile \u001b[39m\u001b[32mc:\\Users\\20193567\\AppData\\Local\\miniconda3\\Lib\\site-packages\\torch\\utils\\data\\dataloader.py:1284\u001b[39m, in \u001b[36m_MultiProcessingDataLoaderIter._try_get_data\u001b[39m\u001b[34m(self, timeout)\u001b[39m\n\u001b[32m   1271\u001b[39m \u001b[38;5;28;01mdef\u001b[39;00m\u001b[38;5;250m \u001b[39m\u001b[34m_try_get_data\u001b[39m(\u001b[38;5;28mself\u001b[39m, timeout=_utils.MP_STATUS_CHECK_INTERVAL):\n\u001b[32m   1272\u001b[39m     \u001b[38;5;66;03m# Tries to fetch data from `self._data_queue` once for a given timeout.\u001b[39;00m\n\u001b[32m   1273\u001b[39m     \u001b[38;5;66;03m# This can also be used as inner loop of fetching without timeout, with\u001b[39;00m\n\u001b[32m   (...)\u001b[39m\u001b[32m   1281\u001b[39m     \u001b[38;5;66;03m# Returns a 2-tuple:\u001b[39;00m\n\u001b[32m   1282\u001b[39m     \u001b[38;5;66;03m#   (bool: whether successfully get data, any: data if successful else None)\u001b[39;00m\n\u001b[32m   1283\u001b[39m     \u001b[38;5;28;01mtry\u001b[39;00m:\n\u001b[32m-> \u001b[39m\u001b[32m1284\u001b[39m         data = \u001b[38;5;28;43mself\u001b[39;49m\u001b[43m.\u001b[49m\u001b[43m_data_queue\u001b[49m\u001b[43m.\u001b[49m\u001b[43mget\u001b[49m\u001b[43m(\u001b[49m\u001b[43mtimeout\u001b[49m\u001b[43m=\u001b[49m\u001b[43mtimeout\u001b[49m\u001b[43m)\u001b[49m\n\u001b[32m   1285\u001b[39m         \u001b[38;5;28;01mreturn\u001b[39;00m (\u001b[38;5;28;01mTrue\u001b[39;00m, data)\n\u001b[32m   1286\u001b[39m     \u001b[38;5;28;01mexcept\u001b[39;00m \u001b[38;5;167;01mException\u001b[39;00m \u001b[38;5;28;01mas\u001b[39;00m e:\n\u001b[32m   1287\u001b[39m         \u001b[38;5;66;03m# At timeout and error, we manually check whether any worker has\u001b[39;00m\n\u001b[32m   1288\u001b[39m         \u001b[38;5;66;03m# failed. Note that this is the only mechanism for Windows to detect\u001b[39;00m\n\u001b[32m   1289\u001b[39m         \u001b[38;5;66;03m# worker failures.\u001b[39;00m\n",
      "\u001b[36mFile \u001b[39m\u001b[32mc:\\Users\\20193567\\AppData\\Local\\miniconda3\\Lib\\queue.py:180\u001b[39m, in \u001b[36mQueue.get\u001b[39m\u001b[34m(self, block, timeout)\u001b[39m\n\u001b[32m    178\u001b[39m         \u001b[38;5;28;01mif\u001b[39;00m remaining <= \u001b[32m0.0\u001b[39m:\n\u001b[32m    179\u001b[39m             \u001b[38;5;28;01mraise\u001b[39;00m Empty\n\u001b[32m--> \u001b[39m\u001b[32m180\u001b[39m         \u001b[38;5;28;43mself\u001b[39;49m\u001b[43m.\u001b[49m\u001b[43mnot_empty\u001b[49m\u001b[43m.\u001b[49m\u001b[43mwait\u001b[49m\u001b[43m(\u001b[49m\u001b[43mremaining\u001b[49m\u001b[43m)\u001b[49m\n\u001b[32m    181\u001b[39m item = \u001b[38;5;28mself\u001b[39m._get()\n\u001b[32m    182\u001b[39m \u001b[38;5;28mself\u001b[39m.not_full.notify()\n",
      "\u001b[36mFile \u001b[39m\u001b[32mc:\\Users\\20193567\\AppData\\Local\\miniconda3\\Lib\\threading.py:359\u001b[39m, in \u001b[36mCondition.wait\u001b[39m\u001b[34m(self, timeout)\u001b[39m\n\u001b[32m    357\u001b[39m \u001b[38;5;28;01melse\u001b[39;00m:\n\u001b[32m    358\u001b[39m     \u001b[38;5;28;01mif\u001b[39;00m timeout > \u001b[32m0\u001b[39m:\n\u001b[32m--> \u001b[39m\u001b[32m359\u001b[39m         gotit = \u001b[43mwaiter\u001b[49m\u001b[43m.\u001b[49m\u001b[43macquire\u001b[49m\u001b[43m(\u001b[49m\u001b[38;5;28;43;01mTrue\u001b[39;49;00m\u001b[43m,\u001b[49m\u001b[43m \u001b[49m\u001b[43mtimeout\u001b[49m\u001b[43m)\u001b[49m\n\u001b[32m    360\u001b[39m     \u001b[38;5;28;01melse\u001b[39;00m:\n\u001b[32m    361\u001b[39m         gotit = waiter.acquire(\u001b[38;5;28;01mFalse\u001b[39;00m)\n",
      "\u001b[31mKeyboardInterrupt\u001b[39m: "
     ]
    }
   ],
   "source": [
    "# Device configuration\n",
    "device = torch.device(\"cuda\" if torch.cuda.is_available() else \"cpu\")\n",
    "print(f\"Using device for hyperparameter tuning: {device}\")\n",
    "\n",
    "# Get image dimensions (C, H, W should be available from the previous cell or re-derived)\n",
    "if 'C' not in locals() or 'H' not in locals() or 'W' not in locals():\n",
    "    sample_img, _ = train_dataset[0]\n",
    "    C, H, W = sample_img.shape\n",
    "    print(f\"Re-detected image shape: Channels={C}, Height={H}, Width={W}\")\n",
    "\n",
    "# Hyperparameter search space\n",
    "param_space = {\n",
    "    'learning_rate': [0.0001, 0.0005, 0.001, 0.005, 0.01],\n",
    "    'batch_size': [8, 16, 32],\n",
    "    'conv1_out_channels': [8, 16, 32],\n",
    "    'conv2_out_channels': [16, 32, 64],\n",
    "    'fc_neurons': [64, 128, 256],\n",
    "}\n",
    "\n",
    "num_classes_hp = 2\n",
    "num_epochs_search = 20 # Fewer epochs for faster search, adjust as needed\n",
    "num_trials = 20 # Number of random hyperparameter sets to try\n",
    "\n",
    "best_hyperparams = None\n",
    "best_val_accuracy = -1.0\n",
    "best_model_state = None\n",
    "\n",
    "# Store history for the best model's learning curves\n",
    "best_model_train_losses = []\n",
    "best_model_val_accuracies = []\n",
    "\n",
    "for trial in tqdm(range(num_trials), desc=\"Hyperparameter Search Trials\", unit=\"trial\"):\n",
    "    # Randomly sample hyperparameters\n",
    "    current_params = {k: random.choice(v) for k, v in param_space.items()}\n",
    "    print(f\"Testing params: {current_params}\")\n",
    "\n",
    "    # DataLoaders with current batch size\n",
    "    pin_memory_flag_hp = True if device.type == 'cuda' else False\n",
    "    try:\n",
    "        current_train_loader = DataLoader(train_dataset, batch_size=current_params['batch_size'], shuffle=True, num_workers=2, pin_memory=pin_memory_flag_hp)\n",
    "        current_val_loader = DataLoader(test_dataset, batch_size=current_params['batch_size'], shuffle=False, num_workers=2, pin_memory=pin_memory_flag_hp)\n",
    "    except Exception as e:\n",
    "        print(f\"Error creating DataLoader, possibly due to batch size: {e}. Skipping trial.\")\n",
    "        continue\n",
    "\n",
    "\n",
    "    # Model\n",
    "    model_hp = SimpleCNN(input_channels=C, input_height=H, input_width=W, num_classes=num_classes_hp,\n",
    "                            conv1_out_channels=current_params['conv1_out_channels'],\n",
    "                            conv2_out_channels=current_params['conv2_out_channels'],\n",
    "                            fc_neurons=current_params['fc_neurons']).to(device)\n",
    "\n",
    "    criterion_hp = nn.BCEWithLogitsLoss()\n",
    "    \n",
    "    optimizer_hp = optim.Adam(model_hp.parameters(), lr=current_params['learning_rate'])\n",
    "\n",
    "    trial_train_losses = []\n",
    "    trial_val_accuracies = []\n",
    "\n",
    "    # Training loop\n",
    "    for epoch in tqdm(range(num_epochs_search), desc=f\"Trial {trial+1} Training\", leave=False):\n",
    "        model_hp.train()\n",
    "        epoch_running_loss = 0.0\n",
    "        for images, labels in current_train_loader:\n",
    "            images, labels = images.to(device), labels.to(device).float().unsqueeze(1)\n",
    "            optimizer_hp.zero_grad()\n",
    "            outputs = model_hp(images)\n",
    "            loss = criterion_hp(outputs, labels)\n",
    "            loss.backward()\n",
    "            optimizer_hp.step()\n",
    "            epoch_running_loss += loss.item() * images.size(0)\n",
    "        \n",
    "        avg_epoch_train_loss = epoch_running_loss / len(current_train_loader.dataset)\n",
    "        trial_train_losses.append(avg_epoch_train_loss)\n",
    "\n",
    "        # Validation\n",
    "        model_hp.eval()\n",
    "        val_correct = 0\n",
    "        val_total = 0\n",
    "        with torch.no_grad():\n",
    "            for images, labels in current_val_loader:\n",
    "                images, labels = images.to(device), labels.to(device).float().unsqueeze(1)\n",
    "                outputs = model_hp(images)\n",
    "                predicted = (torch.sigmoid(outputs) > 0.5).float()\n",
    "                val_total += labels.size(0)\n",
    "                val_correct += (predicted == labels).sum().item()\n",
    "        \n",
    "        current_epoch_val_accuracy = 100 * val_correct / val_total\n",
    "        trial_val_accuracies.append(current_epoch_val_accuracy)\n",
    "        \n",
    "        print(f\"Trial {trial+1} Epoch {epoch+1}: Train Loss: {avg_epoch_train_loss:.4f}, Val Accuracy: {current_epoch_val_accuracy:.2f}%\")\n",
    "\n",
    "    # Check if this trial is the best so far (based on final epoch's validation accuracy)\n",
    "    if trial_val_accuracies and current_epoch_val_accuracy > best_val_accuracy:\n",
    "        best_val_accuracy = current_epoch_val_accuracy\n",
    "        best_hyperparams = current_params\n",
    "        best_model_state = model_hp.state_dict() # Save the model state\n",
    "        best_model_train_losses = trial_train_losses # Save learning curves for this best model\n",
    "        best_model_val_accuracies = trial_val_accuracies\n",
    "        print(f\"New best model found! Val Accuracy: {best_val_accuracy:.2f}%, Params: {best_hyperparams}\")\n",
    "\n",
    "print(\"\\nFinished Hyperparameter Search.\")\n",
    "\n",
    "# Save the best model found during hyperparameter search\n",
    "best_randomsearch_model_path = \"best_randomsearch_cnn_model.pth\"\n",
    "torch.save(best_model_state, best_randomsearch_model_path)\n",
    "print(f\"Best randomsearch model saved to {best_randomsearch_model_path}\")\n",
    "   "
   ]
  },
  {
   "cell_type": "markdown",
   "id": "622afaba",
   "metadata": {},
   "source": [
    "#### Plots"
   ]
  },
  {
   "cell_type": "code",
   "execution_count": null,
   "id": "70f6e76d",
   "metadata": {},
   "outputs": [
    {
     "name": "stdout",
     "output_type": "stream",
     "text": [
      "Best Validation Accuracy: 55.88%\n",
      "Best Hyperparameters: {'learning_rate': 0.005, 'batch_size': 32, 'conv1_out_channels': 8, 'conv2_out_channels': 64, 'fc_neurons': 64}\n"
     ]
    },
    {
     "data": {
      "image/png": "[encoded data removed]",
      "text/plain": [
       "<Figure size 1200x500 with 2 Axes>"
      ]
     },
     "metadata": {},
     "output_type": "display_data"
    }
   ],
   "source": [
    "print(f\"Best Validation Accuracy: {best_val_accuracy:.2f}%\")\n",
    "print(f\"Best Hyperparameters: {best_hyperparams}\")\n",
    "\n",
    "# Plotting learning curves for the best model from hyperparameter search\n",
    "plt.figure(figsize=(12, 5))\n",
    "\n",
    "plt.subplot(1, 2, 1)\n",
    "plt.plot(range(1, num_epochs_search + 1), best_model_train_losses, label='Best Model Training Loss')\n",
    "plt.xlabel('Epoch')\n",
    "plt.ylabel('Loss')\n",
    "plt.title('Best Model - Training Loss')\n",
    "plt.legend()\n",
    "\n",
    "plt.subplot(1, 2, 2)\n",
    "plt.plot(range(1, num_epochs_search + 1), best_model_val_accuracies, label='Best Model Validation Accuracy', color='red')\n",
    "plt.xlabel('Epoch')\n",
    "plt.ylabel('Accuracy (%)')\n",
    "plt.title('Best Model - Validation Accuracy')\n",
    "plt.legend()\n",
    "\n",
    "plt.tight_layout()\n",
    "plt.show()\n",
    "\n",
    "# Load the best model state for further use if needed:\n",
    "# model_best = SimpleCNN(input_channels=C, input_height=H, input_width=W, num_classes=num_classes_hp, **best_hyperparams_arch).to(device)\n",
    "# model_best.load_state_dict(best_model_state)\n",
    "# where best_hyperparams_arch = {k: v for k,v in best_hyperparams.items() if k in ['conv1_out_channels', 'conv2_out_channels', 'fc_neurons']}"
   ]
  },
  {
   "cell_type": "markdown",
   "id": "4038ab6b",
   "metadata": {},
   "source": [
    "### Method 2 - Optuna"
   ]
  },
  {
   "cell_type": "code",
   "execution_count": null,
   "id": "74f1a1b5",
   "metadata": {},
   "outputs": [
    {
     "name": "stdout",
     "output_type": "stream",
     "text": [
      "Requirement already satisfied: optuna in c:\\users\\20193567\\appdata\\local\\miniconda3\\lib\\site-packages (4.3.0)\n",
      "Requirement already satisfied: alembic>=1.5.0 in c:\\users\\20193567\\appdata\\local\\miniconda3\\lib\\site-packages (from optuna) (1.15.2)\n",
      "Requirement already satisfied: colorlog in c:\\users\\20193567\\appdata\\local\\miniconda3\\lib\\site-packages (from optuna) (6.9.0)\n",
      "Requirement already satisfied: numpy in c:\\users\\20193567\\appdata\\local\\miniconda3\\lib\\site-packages (from optuna) (2.0.1)\n",
      "Requirement already satisfied: packaging>=20.0 in c:\\users\\20193567\\appdata\\local\\miniconda3\\lib\\site-packages (from optuna) (24.2)\n",
      "Requirement already satisfied: sqlalchemy>=1.4.2 in c:\\users\\20193567\\appdata\\local\\miniconda3\\lib\\site-packages (from optuna) (2.0.41)\n",
      "Requirement already satisfied: tqdm in c:\\users\\20193567\\appdata\\local\\miniconda3\\lib\\site-packages (from optuna) (4.67.1)\n",
      "Requirement already satisfied: PyYAML in c:\\users\\20193567\\appdata\\local\\miniconda3\\lib\\site-packages (from optuna) (6.0.2)\n",
      "Requirement already satisfied: Mako in c:\\users\\20193567\\appdata\\local\\miniconda3\\lib\\site-packages (from alembic>=1.5.0->optuna) (1.3.10)\n",
      "Requirement already satisfied: typing-extensions>=4.12 in c:\\users\\20193567\\appdata\\local\\miniconda3\\lib\\site-packages (from alembic>=1.5.0->optuna) (4.12.2)\n",
      "Requirement already satisfied: greenlet>=1 in c:\\users\\20193567\\appdata\\local\\miniconda3\\lib\\site-packages (from sqlalchemy>=1.4.2->optuna) (3.2.2)\n",
      "Requirement already satisfied: colorama in c:\\users\\20193567\\appdata\\local\\miniconda3\\lib\\site-packages (from colorlog->optuna) (0.4.6)\n",
      "Requirement already satisfied: MarkupSafe>=0.9.2 in c:\\users\\20193567\\appdata\\local\\miniconda3\\lib\\site-packages (from Mako->alembic>=1.5.0->optuna) (3.0.2)\n",
      "Note: you may need to restart the kernel to use updated packages.\n"
     ]
    }
   ],
   "source": [
    "%pip install optuna"
   ]
  },
  {
   "cell_type": "code",
   "execution_count": null,
   "id": "e515a56c",
   "metadata": {},
   "outputs": [
    {
     "name": "stderr",
     "output_type": "stream",
     "text": [
      "[I 2025-05-29 13:09:46,577] A new study created in memory with name: no-name-00c3a7b1-b2fc-4df3-b712-5d88a5896d2d\n"
     ]
    },
    {
     "name": "stdout",
     "output_type": "stream",
     "text": [
      "Using device for Optuna hyperparameter tuning: cuda\n",
      "Image shape: Channels=3, Height=60, Width=30\n"
     ]
    },
    {
     "data": {
      "application/vnd.jupyter.widget-view+json": {
       "model_id": "093d06f8db464f01919ca77618f9d295",
       "version_major": 2,
       "version_minor": 0
      },
      "text/plain": [
       "Trial 0 [Training]:   0%|          | 0/5 [00:00<?, ?it/s]"
      ]
     },
     "metadata": {},
     "output_type": "display_data"
    },
    {
     "name": "stderr",
     "output_type": "stream",
     "text": [
      "[I 2025-05-29 13:13:00,104] Trial 0 finished with value: 50.0 and parameters: {'learning_rate': 0.0001806464557404699, 'batch_size': 32, 'conv1_out_channels': 32, 'conv2_out_channels': 128, 'fc_neurons': 64}. Best is trial 0 with value: 50.0.\n"
     ]
    },
    {
     "data": {
      "application/vnd.jupyter.widget-view+json": {
       "model_id": "a1e0d53ca8004913b23f60a101d18220",
       "version_major": 2,
       "version_minor": 0
      },
      "text/plain": [
       "Trial 1 [Training]:   0%|          | 0/5 [00:00<?, ?it/s]"
      ]
     },
     "metadata": {},
     "output_type": "display_data"
    },
    {
     "name": "stderr",
     "output_type": "stream",
     "text": [
      "[I 2025-05-29 13:17:25,106] Trial 1 finished with value: 50.0 and parameters: {'learning_rate': 0.0005771237472906906, 'batch_size': 128, 'conv1_out_channels': 8, 'conv2_out_channels': 128, 'fc_neurons': 128}. Best is trial 0 with value: 50.0.\n"
     ]
    },
    {
     "data": {
      "application/vnd.jupyter.widget-view+json": {
       "model_id": "8c29b89284bd4c02b3af0202f96b7662",
       "version_major": 2,
       "version_minor": 0
      },
      "text/plain": [
       "Trial 2 [Training]:   0%|          | 0/5 [00:00<?, ?it/s]"
      ]
     },
     "metadata": {},
     "output_type": "display_data"
    },
    {
     "name": "stderr",
     "output_type": "stream",
     "text": [
      "[I 2025-05-29 13:21:14,462] Trial 2 finished with value: 61.76470588235294 and parameters: {'learning_rate': 0.001553369838635351, 'batch_size': 32, 'conv1_out_channels': 16, 'conv2_out_channels': 16, 'fc_neurons': 256}. Best is trial 2 with value: 61.76470588235294.\n"
     ]
    },
    {
     "data": {
      "application/vnd.jupyter.widget-view+json": {
       "model_id": "17d50dbc5da84b3aa0169b45efc180d7",
       "version_major": 2,
       "version_minor": 0
      },
      "text/plain": [
       "Trial 3 [Training]:   0%|          | 0/5 [00:00<?, ?it/s]"
      ]
     },
     "metadata": {},
     "output_type": "display_data"
    },
    {
     "name": "stderr",
     "output_type": "stream",
     "text": [
      "[I 2025-05-29 13:24:02,312] Trial 3 finished with value: 50.0 and parameters: {'learning_rate': 0.002096384494454233, 'batch_size': 32, 'conv1_out_channels': 32, 'conv2_out_channels': 64, 'fc_neurons': 256}. Best is trial 2 with value: 61.76470588235294.\n"
     ]
    },
    {
     "data": {
      "application/vnd.jupyter.widget-view+json": {
       "model_id": "92bd6b12e8f64e71971fb829e30aea4b",
       "version_major": 2,
       "version_minor": 0
      },
      "text/plain": [
       "Trial 4 [Training]:   0%|          | 0/5 [00:00<?, ?it/s]"
      ]
     },
     "metadata": {},
     "output_type": "display_data"
    },
    {
     "name": "stderr",
     "output_type": "stream",
     "text": [
      "[I 2025-05-29 13:26:54,814] Trial 4 finished with value: 50.0 and parameters: {'learning_rate': 0.00013774423365487214, 'batch_size': 64, 'conv1_out_channels': 64, 'conv2_out_channels': 128, 'fc_neurons': 128}. Best is trial 2 with value: 61.76470588235294.\n"
     ]
    },
    {
     "data": {
      "application/vnd.jupyter.widget-view+json": {
       "model_id": "e4b23fd318634151b27c93c6f99fdb9a",
       "version_major": 2,
       "version_minor": 0
      },
      "text/plain": [
       "Trial 5 [Training]:   0%|          | 0/5 [00:00<?, ?it/s]"
      ]
     },
     "metadata": {},
     "output_type": "display_data"
    },
    {
     "name": "stderr",
     "output_type": "stream",
     "text": [
      "[I 2025-05-29 13:30:57,954] Trial 5 finished with value: 50.0 and parameters: {'learning_rate': 0.0009896831598313683, 'batch_size': 128, 'conv1_out_channels': 8, 'conv2_out_channels': 128, 'fc_neurons': 64}. Best is trial 2 with value: 61.76470588235294.\n"
     ]
    },
    {
     "data": {
      "application/vnd.jupyter.widget-view+json": {
       "model_id": "517cb664e62c4ee88abc9a78dfb52b1d",
       "version_major": 2,
       "version_minor": 0
      },
      "text/plain": [
       "Trial 6 [Training]:   0%|          | 0/5 [00:00<?, ?it/s]"
      ]
     },
     "metadata": {},
     "output_type": "display_data"
    },
    {
     "name": "stderr",
     "output_type": "stream",
     "text": [
      "[I 2025-05-29 13:34:36,337] Trial 6 finished with value: 50.0 and parameters: {'learning_rate': 0.00015498759928528975, 'batch_size': 128, 'conv1_out_channels': 32, 'conv2_out_channels': 16, 'fc_neurons': 128}. Best is trial 2 with value: 61.76470588235294.\n"
     ]
    },
    {
     "data": {
      "application/vnd.jupyter.widget-view+json": {
       "model_id": "03175c1380464f3f950b974de3f7def8",
       "version_major": 2,
       "version_minor": 0
      },
      "text/plain": [
       "Trial 7 [Training]:   0%|          | 0/5 [00:00<?, ?it/s]"
      ]
     },
     "metadata": {},
     "output_type": "display_data"
    },
    {
     "name": "stderr",
     "output_type": "stream",
     "text": [
      "[I 2025-05-29 13:38:18,709] Trial 7 finished with value: 50.0 and parameters: {'learning_rate': 0.00012942719605093836, 'batch_size': 128, 'conv1_out_channels': 64, 'conv2_out_channels': 16, 'fc_neurons': 128}. Best is trial 2 with value: 61.76470588235294.\n"
     ]
    },
    {
     "data": {
      "application/vnd.jupyter.widget-view+json": {
       "model_id": "823be95b0add40f19d439eb75bd705dd",
       "version_major": 2,
       "version_minor": 0
      },
      "text/plain": [
       "Trial 8 [Training]:   0%|          | 0/5 [00:00<?, ?it/s]"
      ]
     },
     "metadata": {},
     "output_type": "display_data"
    },
    {
     "name": "stderr",
     "output_type": "stream",
     "text": [
      "[I 2025-05-29 13:42:01,492] Trial 8 finished with value: 50.0 and parameters: {'learning_rate': 0.0018080492089588124, 'batch_size': 128, 'conv1_out_channels': 8, 'conv2_out_channels': 32, 'fc_neurons': 256}. Best is trial 2 with value: 61.76470588235294.\n"
     ]
    },
    {
     "data": {
      "application/vnd.jupyter.widget-view+json": {
       "model_id": "b05c0e1f85354bd796fbbebbe594c34b",
       "version_major": 2,
       "version_minor": 0
      },
      "text/plain": [
       "Trial 9 [Training]:   0%|          | 0/5 [00:00<?, ?it/s]"
      ]
     },
     "metadata": {},
     "output_type": "display_data"
    },
    {
     "name": "stderr",
     "output_type": "stream",
     "text": [
      "[I 2025-05-29 13:44:56,184] Trial 9 finished with value: 50.0 and parameters: {'learning_rate': 0.0014248382376761816, 'batch_size': 64, 'conv1_out_channels': 32, 'conv2_out_channels': 128, 'fc_neurons': 64}. Best is trial 2 with value: 61.76470588235294.\n"
     ]
    },
    {
     "data": {
      "application/vnd.jupyter.widget-view+json": {
       "model_id": "abba0a9e7d51412b8b0ee87a4bbe9b67",
       "version_major": 2,
       "version_minor": 0
      },
      "text/plain": [
       "Trial 10 [Training]:   0%|          | 0/5 [00:00<?, ?it/s]"
      ]
     },
     "metadata": {},
     "output_type": "display_data"
    },
    {
     "name": "stderr",
     "output_type": "stream",
     "text": [
      "[I 2025-05-29 13:47:44,011] Trial 10 finished with value: 50.0 and parameters: {'learning_rate': 0.009036116276813203, 'batch_size': 32, 'conv1_out_channels': 16, 'conv2_out_channels': 16, 'fc_neurons': 256}. Best is trial 2 with value: 61.76470588235294.\n"
     ]
    },
    {
     "data": {
      "application/vnd.jupyter.widget-view+json": {
       "model_id": "f09789471ca34378a276752bff770ee4",
       "version_major": 2,
       "version_minor": 0
      },
      "text/plain": [
       "Trial 11 [Training]:   0%|          | 0/5 [00:00<?, ?it/s]"
      ]
     },
     "metadata": {},
     "output_type": "display_data"
    },
    {
     "name": "stderr",
     "output_type": "stream",
     "text": [
      "[I 2025-05-29 13:50:31,602] Trial 11 finished with value: 50.0 and parameters: {'learning_rate': 0.0003879723025967502, 'batch_size': 32, 'conv1_out_channels': 16, 'conv2_out_channels': 32, 'fc_neurons': 64}. Best is trial 2 with value: 61.76470588235294.\n"
     ]
    },
    {
     "data": {
      "application/vnd.jupyter.widget-view+json": {
       "model_id": "e4b6908f007f4116b3e2eda0761de9e9",
       "version_major": 2,
       "version_minor": 0
      },
      "text/plain": [
       "Trial 12 [Training]:   0%|          | 0/5 [00:00<?, ?it/s]"
      ]
     },
     "metadata": {},
     "output_type": "display_data"
    },
    {
     "name": "stderr",
     "output_type": "stream",
     "text": [
      "[I 2025-05-29 13:53:16,505] Trial 12 finished with value: 50.0 and parameters: {'learning_rate': 0.005002797789989802, 'batch_size': 32, 'conv1_out_channels': 16, 'conv2_out_channels': 64, 'fc_neurons': 256}. Best is trial 2 with value: 61.76470588235294.\n"
     ]
    },
    {
     "data": {
      "application/vnd.jupyter.widget-view+json": {
       "model_id": "d9f2ec6670f743aa94a9c42304d21cf9",
       "version_major": 2,
       "version_minor": 0
      },
      "text/plain": [
       "Trial 13 [Training]:   0%|          | 0/5 [00:00<?, ?it/s]"
      ]
     },
     "metadata": {},
     "output_type": "display_data"
    },
    {
     "name": "stderr",
     "output_type": "stream",
     "text": [
      "[I 2025-05-29 13:56:20,966] Trial 13 finished with value: 61.76470588235294 and parameters: {'learning_rate': 0.0003348644563054958, 'batch_size': 32, 'conv1_out_channels': 32, 'conv2_out_channels': 16, 'fc_neurons': 64}. Best is trial 2 with value: 61.76470588235294.\n"
     ]
    },
    {
     "data": {
      "application/vnd.jupyter.widget-view+json": {
       "model_id": "fe0c9769eb204a5ab97b626eb2c96dab",
       "version_major": 2,
       "version_minor": 0
      },
      "text/plain": [
       "Trial 14 [Training]:   0%|          | 0/5 [00:00<?, ?it/s]"
      ]
     },
     "metadata": {},
     "output_type": "display_data"
    },
    {
     "name": "stderr",
     "output_type": "stream",
     "text": [
      "[I 2025-05-29 13:58:59,755] Trial 14 finished with value: 50.0 and parameters: {'learning_rate': 0.0004354980109744863, 'batch_size': 32, 'conv1_out_channels': 16, 'conv2_out_channels': 16, 'fc_neurons': 256}. Best is trial 2 with value: 61.76470588235294.\n"
     ]
    },
    {
     "data": {
      "application/vnd.jupyter.widget-view+json": {
       "model_id": "ee3b2398188449f4a67d6140d1ec77e9",
       "version_major": 2,
       "version_minor": 0
      },
      "text/plain": [
       "Trial 15 [Training]:   0%|          | 0/5 [00:00<?, ?it/s]"
      ]
     },
     "metadata": {},
     "output_type": "display_data"
    },
    {
     "name": "stderr",
     "output_type": "stream",
     "text": [
      "[I 2025-05-29 14:01:40,870] Trial 15 finished with value: 50.0 and parameters: {'learning_rate': 0.0034046265645993517, 'batch_size': 32, 'conv1_out_channels': 32, 'conv2_out_channels': 16, 'fc_neurons': 64}. Best is trial 2 with value: 61.76470588235294.\n"
     ]
    },
    {
     "data": {
      "application/vnd.jupyter.widget-view+json": {
       "model_id": "88029e5e5e1341e3844fd47665624386",
       "version_major": 2,
       "version_minor": 0
      },
      "text/plain": [
       "Trial 16 [Training]:   0%|          | 0/5 [00:00<?, ?it/s]"
      ]
     },
     "metadata": {},
     "output_type": "display_data"
    },
    {
     "name": "stderr",
     "output_type": "stream",
     "text": [
      "[I 2025-05-29 14:04:28,777] Trial 16 finished with value: 50.0 and parameters: {'learning_rate': 0.0008494646636114893, 'batch_size': 32, 'conv1_out_channels': 16, 'conv2_out_channels': 16, 'fc_neurons': 256}. Best is trial 2 with value: 61.76470588235294.\n"
     ]
    },
    {
     "data": {
      "application/vnd.jupyter.widget-view+json": {
       "model_id": "7a2006d26c1f494e86331b854eeb2d84",
       "version_major": 2,
       "version_minor": 0
      },
      "text/plain": [
       "Trial 17 [Training]:   0%|          | 0/5 [00:00<?, ?it/s]"
      ]
     },
     "metadata": {},
     "output_type": "display_data"
    },
    {
     "name": "stderr",
     "output_type": "stream",
     "text": [
      "[I 2025-05-29 14:07:05,526] Trial 17 finished with value: 50.0 and parameters: {'learning_rate': 0.00026609068188175383, 'batch_size': 64, 'conv1_out_channels': 64, 'conv2_out_channels': 16, 'fc_neurons': 64}. Best is trial 2 with value: 61.76470588235294.\n"
     ]
    },
    {
     "data": {
      "application/vnd.jupyter.widget-view+json": {
       "model_id": "36147a99ffba4c759e8f54267dc6e0fd",
       "version_major": 2,
       "version_minor": 0
      },
      "text/plain": [
       "Trial 18 [Training]:   0%|          | 0/5 [00:00<?, ?it/s]"
      ]
     },
     "metadata": {},
     "output_type": "display_data"
    },
    {
     "name": "stderr",
     "output_type": "stream",
     "text": [
      "[I 2025-05-29 14:10:06,831] Trial 18 finished with value: 61.76470588235294 and parameters: {'learning_rate': 0.0006569326238899636, 'batch_size': 32, 'conv1_out_channels': 32, 'conv2_out_channels': 16, 'fc_neurons': 256}. Best is trial 2 with value: 61.76470588235294.\n"
     ]
    },
    {
     "data": {
      "application/vnd.jupyter.widget-view+json": {
       "model_id": "15ca72d9ed1b4282abc4f43b85f5e236",
       "version_major": 2,
       "version_minor": 0
      },
      "text/plain": [
       "Trial 19 [Training]:   0%|          | 0/5 [00:00<?, ?it/s]"
      ]
     },
     "metadata": {},
     "output_type": "display_data"
    },
    {
     "name": "stderr",
     "output_type": "stream",
     "text": [
      "[I 2025-05-29 14:12:36,962] Trial 19 finished with value: 50.0 and parameters: {'learning_rate': 0.00027763818936728664, 'batch_size': 32, 'conv1_out_channels': 16, 'conv2_out_channels': 64, 'fc_neurons': 64}. Best is trial 2 with value: 61.76470588235294.\n"
     ]
    },
    {
     "name": "stdout",
     "output_type": "stream",
     "text": [
      "\n",
      "Finished Optuna Hyperparameter Search.\n"
     ]
    }
   ],
   "source": [
    "import optuna\n",
    "\n",
    "# Device configuration\n",
    "device = torch.device(\"cuda\" if torch.cuda.is_available() else \"cpu\")\n",
    "print(f\"Using device for Optuna hyperparameter tuning: {device}\")\n",
    "\n",
    "# Get image dimensions\n",
    "sample_img, _ = train_dataset[0]\n",
    "C, H, W = sample_img.shape\n",
    "print(f\"Image shape: Channels={C}, Height={H}, Width={W}\")\n",
    "\n",
    "num_classes_hp = 2\n",
    "num_epochs_search = 20 # Fewer epochs for faster search, adjust as needed for Optuna trials\n",
    "num_trials_optuna = 20 # Define number of trials\n",
    "\n",
    "# num_trials_optuna = 20 # Number of Optuna trials to run\n",
    "\n",
    "def objective(trial):\n",
    "    # Hyperparameter suggestions\n",
    "    lr = trial.suggest_float(\"learning_rate\", 1e-4, 1e-2, log=True)\n",
    "    batch_size = trial.suggest_categorical(\"batch_size\", [8, 16, 32])\n",
    "    conv1_out = trial.suggest_categorical(\"conv1_out_channels\", [8, 16, 32, 64])\n",
    "    conv2_out = trial.suggest_categorical(\"conv2_out_channels\", [16, 32, 64, 128])\n",
    "    fc_neurons_val = trial.suggest_categorical(\"fc_neurons\", [64, 128, 256])\n",
    "\n",
    "    # DataLoaders\n",
    "    pin_memory_flag_opt = True if device.type == 'cuda' else False\n",
    "    try:\n",
    "        current_train_loader = DataLoader(train_dataset, batch_size=batch_size, shuffle=True, num_workers=2, pin_memory=pin_memory_flag_opt)\n",
    "        current_val_loader = DataLoader(test_dataset, batch_size=batch_size, shuffle=False, num_workers=2, pin_memory=pin_memory_flag_opt)\n",
    "    except Exception as e:\n",
    "        print(f\"Error creating DataLoader for trial {trial.number}: {e}. Pruning trial.\")\n",
    "        raise optuna.exceptions.TrialPruned()\n",
    "\n",
    "\n",
    "    # Model (Ensure SimpleCNN class is defined and accessible)\n",
    "    model_opt = SimpleCNN(input_channels=C, input_height=H, input_width=W, num_classes=num_classes_hp,\n",
    "                          conv1_out_channels=conv1_out,\n",
    "                          conv2_out_channels=conv2_out,\n",
    "                          fc_neurons=fc_neurons_val).to(device)\n",
    "\n",
    "    criterion_opt = nn.BCEWithLogitsLoss()\n",
    "    optimizer_opt = optim.Adam(model_opt.parameters(), lr=lr)\n",
    "\n",
    "    trial_train_losses = []\n",
    "    trial_val_accuracies = []\n",
    "\n",
    "    # Training loop\n",
    "    for epoch in tqdm(range(num_epochs_search), desc=f\"Trial {trial.number} [Training]\", leave=False):\n",
    "        model_opt.train()\n",
    "        epoch_running_loss = 0.0\n",
    "        for images, labels in current_train_loader: # train_pbar_opt:\n",
    "            images, labels = images.to(device), labels.to(device).float().unsqueeze(1)\n",
    "            \n",
    "            optimizer_opt.zero_grad()\n",
    "            outputs = model_opt(images)\n",
    "            loss = criterion_opt(outputs, labels)\n",
    "            loss.backward()\n",
    "            optimizer_opt.step()\n",
    "            epoch_running_loss += loss.item() * images.size(0)\n",
    "        \n",
    "        avg_epoch_train_loss = epoch_running_loss / len(current_train_loader.dataset)\n",
    "        trial_train_losses.append(avg_epoch_train_loss)\n",
    "\n",
    "        # Validation\n",
    "        model_opt.eval()\n",
    "        val_correct = 0\n",
    "        val_total = 0\n",
    "        with torch.no_grad():\n",
    "            for images, labels in current_val_loader: # val_pbar_opt:\n",
    "                images, labels = images.to(device), labels.to(device).float().unsqueeze(1)\n",
    "                outputs = model_opt(images)\n",
    "                predicted = (torch.sigmoid(outputs) > 0.5).float()\n",
    "                val_total += labels.size(0)\n",
    "                val_correct += (predicted == labels).sum().item()\n",
    "        \n",
    "        current_epoch_val_accuracy = 100 * val_correct / val_total if val_total > 0 else 0\n",
    "        trial_val_accuracies.append(current_epoch_val_accuracy)\n",
    "        \n",
    "        # Optuna pruning (optional, but good for long searches)\n",
    "        trial.report(current_epoch_val_accuracy, epoch)\n",
    "        if trial.should_prune():\n",
    "            # Store partial curves if pruned\n",
    "            trial.set_user_attr(\"train_losses\", trial_train_losses)\n",
    "            trial.set_user_attr(\"val_accuracies\", trial_val_accuracies)\n",
    "            raise optuna.exceptions.TrialPruned()\n",
    "\n",
    "    # Store full learning curves in user attributes for the trial\n",
    "    trial.set_user_attr(\"train_losses\", trial_train_losses)\n",
    "    trial.set_user_attr(\"val_accuracies\", trial_val_accuracies)\n",
    "            \n",
    "    return trial_val_accuracies[-1] # Return final validation accuracy\n",
    "\n",
    "# Create a study object and optimize\n",
    "# You can add a pruner, e.g., optuna.pruners.MedianPruner()\n",
    "study = optuna.create_study(direction=\"maximize\", pruner=optuna.pruners.MedianPruner())\n",
    "study.optimize(objective, n_trials=num_trials_optuna)\n",
    "\n",
    "print(\"\\nFinished Optuna Hyperparameter Search.\")\n",
    "best_trial_optuna = study.best_trial\n",
    "best_hyperparams_optuna = best_trial_optuna.params\n",
    "best_val_accuracy_optuna = best_trial_optuna.value\n",
    "\n",
    "\n",
    "# Retrieve learning curves for the best trial\n",
    "best_model_train_losses_optuna = best_trial_optuna.user_attrs.get(\"train_losses\", [])\n",
    "best_model_val_accuracies_optuna = best_trial_optuna.user_attrs.get(\"val_accuracies\", [])"
   ]
  },
  {
   "cell_type": "markdown",
   "id": "f1553d2e",
   "metadata": {},
   "source": [
    "## Retrain best optuna model"
   ]
  },
  {
   "cell_type": "code",
   "execution_count": null,
   "id": "b68268c3",
   "metadata": {},
   "outputs": [
    {
     "name": "stdout",
     "output_type": "stream",
     "text": [
      "Optimal model saved to best_optuna_cnn_model.pth\n"
     ]
    }
   ],
   "source": [
    "# After Optuna optimization, retrain the best model with the best hyperparameters and save it\n",
    "\n",
    "# Extract best hyperparameters from the Optuna study\n",
    "best_params = study.best_trial.params\n",
    "\n",
    "# Dataloaders with the best batch size\n",
    "pin_memory_flag_opt = True if device.type == 'cuda' else False\n",
    "train_loader_opt = DataLoader(train_dataset, batch_size=best_params['batch_size'], shuffle=True, num_workers=2, pin_memory=pin_memory_flag_opt)\n",
    "val_loader_opt = DataLoader(test_dataset, batch_size=best_params['batch_size'], shuffle=False, num_workers=2, pin_memory=pin_memory_flag_opt)\n",
    "\n",
    "# Re-create and train the model with the best hyperparameters\n",
    "model_optimal = SimpleCNN(\n",
    "    input_channels=C, input_height=H, input_width=W, num_classes=num_classes_hp,\n",
    "    conv1_out_channels=best_params['conv1_out_channels'],\n",
    "    conv2_out_channels=best_params['conv2_out_channels'],\n",
    "    fc_neurons=best_params['fc_neurons']\n",
    ").to(device)\n",
    "\n",
    "criterion_opt = nn.BCEWithLogitsLoss()\n",
    "optimizer_opt = optim.Adam(model_optimal.parameters(), lr=best_params['learning_rate'])\n",
    "num_epochs_opt = num_epochs_search  # Or set to a higher value for final training\n",
    "\n",
    "for epoch in range(num_epochs_opt):\n",
    "    model_optimal.train()\n",
    "    for images, labels in train_loader_opt:\n",
    "        images, labels = images.to(device), labels.to(device).float().unsqueeze(1)\n",
    "        optimizer_opt.zero_grad()\n",
    "        outputs = model_optimal(images)\n",
    "        loss = criterion_opt(outputs, labels)\n",
    "        loss.backward()\n",
    "        optimizer_opt.step()\n",
    "\n",
    "# Save the trained optimal model\n",
    "best_optuna_model_path = \"best_optuna_cnn_model.pth\"\n",
    "torch.save(model_optimal.state_dict(), best_optuna_model_path)\n",
    "print(f\"Optimal model saved to {best_optuna_model_path}\")\n"
   ]
  },
  {
   "cell_type": "markdown",
   "id": "1912c0ea",
   "metadata": {},
   "source": [
    "#### Plots"
   ]
  },
  {
   "cell_type": "code",
   "execution_count": null,
   "id": "a6caca28",
   "metadata": {},
   "outputs": [
    {
     "name": "stdout",
     "output_type": "stream",
     "text": [
      "Best Validation Accuracy (from Optuna study): 61.76%\n",
      "Best Hyperparameters (from Optuna study): {'learning_rate': 0.001553369838635351, 'batch_size': 32, 'conv1_out_channels': 16, 'conv2_out_channels': 16, 'fc_neurons': 256}\n"
     ]
    },
    {
     "data": {
      "image/png": "[encoded data removed]",
      "text/plain": [
       "<Figure size 1200x500 with 2 Axes>"
      ]
     },
     "metadata": {},
     "output_type": "display_data"
    }
   ],
   "source": [
    "print(f\"Best Validation Accuracy (from Optuna study): {best_val_accuracy_optuna:.2f}%\")\n",
    "print(f\"Best Hyperparameters (from Optuna study): {best_hyperparams_optuna}\")\n",
    "\n",
    "# Plotting learning curves for the best model from Optuna hyperparameter search\n",
    "if best_model_train_losses_optuna and best_model_val_accuracies_optuna:\n",
    "    plt.figure(figsize=(12, 5))\n",
    "\n",
    "    plt.subplot(1, 2, 1)\n",
    "    plt.plot(range(1, len(best_model_train_losses_optuna) + 1), best_model_train_losses_optuna, label='Best Model Training Loss (Optuna)')\n",
    "    plt.xlabel('Epoch')\n",
    "    plt.ylabel('Loss')\n",
    "    plt.title('Best Model (Optuna) - Training Loss')\n",
    "    plt.legend()\n",
    "\n",
    "    plt.subplot(1, 2, 2)\n",
    "    plt.plot(range(1, len(best_model_val_accuracies_optuna) + 1), best_model_val_accuracies_optuna, label='Best Model Validation Accuracy (Optuna)', color='red')\n",
    "    plt.xlabel('Epoch')\n",
    "    plt.ylabel('Accuracy (%)')\n",
    "    plt.title('Best Model (Optuna) - Validation Accuracy')\n",
    "    plt.legend()\n",
    "\n",
    "    plt.tight_layout()\n",
    "    plt.show()\n",
    "else:\n",
    "    print(\"Learning curve data for the best Optuna trial is not available.\")\n",
    "    \n",
    "# You can now load the best model state for further use if needed.\n",
    "# First, you'd typically retrain a model with best_hyperparams_optuna for a full number of epochs\n",
    "# and save its state_dict. The state_dict is not directly saved by the Optuna objective function above.\n",
    "# Example:\n",
    "# model_best_optuna = SimpleCNN(input_channels=C, input_height=H, input_width=W, num_classes=num_classes_hp,\n",
    "#                               conv1_out_channels=best_hyperparams_optuna['conv1_out_channels'],\n",
    "#                               conv2_out_channels=best_hyperparams_optuna['conv2_out_channels'],\n",
    "#                               fc_neurons=best_hyperparams_optuna['fc_neurons']).to(device)\n",
    "# # Then, you would train this model_best_optuna using the best learning rate, optimizer, and batch size.\n",
    "# # For now, we are just plotting the curves from the optimization search itself."
   ]
  }
 ],
 "metadata": {
  "kernelspec": {
   "display_name": "base",
   "language": "python",
   "name": "python3"
  },
  "language_info": {
   "codemirror_mode": {
    "name": "ipython",
    "version": 3
   },
   "file_extension": ".py",
   "mimetype": "text/x-python",
   "name": "python",
   "nbconvert_exporter": "python",
   "pygments_lexer": "ipython3",
   "version": "3.12.9"
  }
 },
 "nbformat": 4,
 "nbformat_minor": 5
}
