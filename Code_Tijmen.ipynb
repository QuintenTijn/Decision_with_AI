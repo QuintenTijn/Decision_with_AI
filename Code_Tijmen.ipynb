{
 "cells": [
  {
   "cell_type": "markdown",
   "id": "601c9bab",
   "metadata": {},
   "source": [
    "# Support.py in Notebook"
   ]
  },
  {
   "cell_type": "code",
   "execution_count": 1,
   "id": "958d7d56",
   "metadata": {},
   "outputs": [],
   "source": [
    "import numpy as np\n",
    "import os\n",
    "\n",
    "import contextlib\n",
    "import pandas as pd\n",
    "from datetime import date, datetime\n",
    "\n",
    "from pm4py.objects.petri_net.obj import PetriNet\n",
    "from pm4py.visualization.petri_net import visualizer as pn_visualizer\n",
    "from pm4py.objects.petri_net.utils.petri_utils import add_arc_from_to\n",
    "from pm4py.objects.petri_net.obj import Marking\n",
    "from pm4py import conformance\n",
    "from pm4py.utils import constants\n",
    "\n",
    "constants.SHOW_PROGRESS_BAR = False\n",
    "\n",
    "activities = [\n",
    "    \"Invisible 1\",\n",
    "    \"Invisible 2\",\n",
    "    \"Receiving Request\",\n",
    "    \"First Assessment\",\n",
    "    \"Fraud Check\",\n",
    "    \"Accept\",\n",
    "    \"Decline\",\n",
    "    \"Create Offer\",\n",
    "    \"Contact Customer\",\n",
    "    \"Offer Refused\",\n",
    "    \"Draw Contract\",\n",
    "    \"Send Contract\",\n",
    "]\n",
    "\n",
    "NR_PLACES = 9\n",
    "\n",
    "# loads and prepares the dataset for fitness evaluations\n",
    "def load_dataset(path):\n",
    "    res = []\n",
    "    with open(path) as fi:\n",
    "        for line in fi:\n",
    "            res.append(line.strip().split(\", \"))\n",
    "\n",
    "    # reformating the dataset to a pandas dataframe for pm4py compatibility\n",
    "    df = pd.DataFrame(\n",
    "        {\n",
    "            \"date\": date.today(),\n",
    "            \"case:concept:name\": [str(i) for i in range(len(res))],\n",
    "            \"concept:name\": res,\n",
    "        }\n",
    "    )\n",
    "    df[\"date\"] = pd.to_datetime(df[\"date\"])\n",
    "    df = df.explode(\"concept:name\")\n",
    "\n",
    "    base_timestamp = datetime.now()\n",
    "    df[\"time:timestamp\"] = base_timestamp + pd.to_timedelta(df.index, unit=\"h\")\n",
    "\n",
    "    return df\n",
    "\n",
    "\n",
    "DATASET = load_dataset(\"dataset_a1.txt\")\n",
    "NR_TRANSITIONS = len(activities)\n",
    "NAMES_TO_TRANSITION = dict(zip(activities, range(NR_TRANSITIONS)))\n",
    "\n",
    "\n",
    "def fitness(sol):\n",
    "    matrix = list_to_array(sol)\n",
    "\n",
    "    nr_violations = _get_nr_handcrafted_violations(matrix)\n",
    "    alignment_score = _get_alignment_scores(matrix)\n",
    "    return (alignment_score - nr_violations,)\n",
    "\n",
    "\n",
    "def list_to_array(sol):\n",
    "    return np.array(sol).reshape((NR_TRANSITIONS, 2))\n",
    "\n",
    "\n",
    "def _get_nr_handcrafted_violations(matrix) -> int:\n",
    "    nr_arrivals_to_first_place = (matrix[:, 1] == 0).sum()\n",
    "    nr_departures_from_last_place = (matrix[:, 0] == NR_PLACES - 1).sum()\n",
    "    nr_self_loops = (matrix[:, 0] == matrix[:, 1]).sum()\n",
    "    nr_backwards_invisible = (matrix[:2, 0] > matrix[:2, 1] + 2).sum()\n",
    "    nr_backwards_visible = (matrix[2:, 0] > matrix[2:, 1]).sum()\n",
    "\n",
    "    return (\n",
    "        nr_arrivals_to_first_place\n",
    "        + nr_departures_from_last_place\n",
    "        + nr_self_loops\n",
    "        + nr_backwards_invisible\n",
    "        + nr_backwards_visible\n",
    "    )\n",
    "\n",
    "\n",
    "def _get_alignment_scores(matrix) -> float:\n",
    "    net, initial_marking, final_marking = matrix_to_petrinet(matrix)\n",
    "\n",
    "    # Needed to redirect the output of the fitness_alignments function, which outputs a lot of text,\n",
    "    with open(os.devnull, \"w\") as f:\n",
    "        with contextlib.redirect_stdout(f), contextlib.redirect_stderr(f):\n",
    "            try:\n",
    "                fa = conformance.fitness_alignments(\n",
    "                    log=DATASET,\n",
    "                    petri_net=net,\n",
    "                    initial_marking=initial_marking,\n",
    "                    final_marking=final_marking,\n",
    "                )\n",
    "            except Exception as e:\n",
    "                return -1\n",
    "\n",
    "    alignment_score = fa[\"average_trace_fitness\"]\n",
    "    return alignment_score\n",
    "\n",
    "\n",
    "# plot the Petri net\n",
    "def sol_to_graphviz(sol, output_file=\"output.pdf\"):\n",
    "    matrix = list_to_array(sol)\n",
    "    net, _, _ = matrix_to_petrinet(matrix)\n",
    "    parameters = {pn_visualizer.Variants.WO_DECORATION.value.Parameters.FORMAT: \"pdf\"}\n",
    "    gviz = pn_visualizer.apply(net, parameters=parameters)\n",
    "    pn_visualizer.save(gviz, output_file)\n",
    "\n",
    "\n",
    "def matrix_to_petrinet(matrix):\n",
    "    net = PetriNet(\"PETRINAS\")\n",
    "\n",
    "    places_dict = {}\n",
    "\n",
    "    for place_nr in range(NR_PLACES):\n",
    "        place = PetriNet.Place(name=f\"p{place_nr}\")\n",
    "        net.places.add(place)\n",
    "        places_dict[place_nr] = place\n",
    "\n",
    "        if place_nr == 0:\n",
    "            first_marking = Marking()\n",
    "            first_marking[place] = 1\n",
    "\n",
    "        if place_nr >= NR_PLACES - 1:\n",
    "            last_marking = Marking()\n",
    "            last_marking[place] = 1\n",
    "\n",
    "    for row, activity in enumerate(activities):\n",
    "        if activity.startswith(\"Invisible\"):\n",
    "            transition = PetriNet.Transition(name=activity)\n",
    "        else:\n",
    "            transition = PetriNet.Transition(name=activity, label=activity)\n",
    "        net.transitions.add(transition)\n",
    "\n",
    "        start, end = matrix[row]\n",
    "\n",
    "        start_place = places_dict[start]\n",
    "        add_arc_from_to(start_place, transition, net)\n",
    "\n",
    "        end_place = places_dict[end]\n",
    "        add_arc_from_to(transition, end_place, net)\n",
    "\n",
    "    return net, first_marking, last_marking\n"
   ]
  },
  {
   "cell_type": "markdown",
   "id": "294e5bce",
   "metadata": {},
   "source": [
    "# Code "
   ]
  },
  {
   "cell_type": "code",
   "execution_count": 16,
   "id": "d76e71b6",
   "metadata": {},
   "outputs": [],
   "source": [
    "import random\n",
    "from deap import base, creator, tools, algorithms\n",
    "import matplotlib.pyplot as plt\n",
    "import itertools\n",
    "import warnings\n",
    "warnings.filterwarnings(\"ignore\")\n",
    "import copy\n",
    "from tqdm.notebook import tqdm"
   ]
  },
  {
   "cell_type": "code",
   "execution_count": 3,
   "id": "c9e0a4d8",
   "metadata": {},
   "outputs": [],
   "source": [
    "data = load_dataset(\"dataset_a1.txt\")"
   ]
  },
  {
   "cell_type": "markdown",
   "id": "8b744151",
   "metadata": {},
   "source": [
    "## Q1"
   ]
  },
  {
   "cell_type": "code",
   "execution_count": 4,
   "id": "77d2a281",
   "metadata": {},
   "outputs": [
    {
     "name": "stdout",
     "output_type": "stream",
     "text": [
      "gen\tnevals\tmax\tavg     \tmin\tstd   \n",
      "0  \t100   \t-2 \t-9.46453\t-18\t3.0752\n",
      "1  \t63    \t-2.949\t-7.32211\t-15\t2.10992\n",
      "2  \t58    \t-1.64559\t-5.79842\t-9 \t1.52909\n",
      "3  \t75    \t-0.668293\t-4.79646\t-8 \t1.46725\n",
      "4  \t65    \t-0.668293\t-3.81779\t-10\t1.56202\n",
      "5  \t62    \t0.198798 \t-2.93186\t-7.73658\t1.39355\n",
      "6  \t51    \t0        \t-2.0141 \t-5      \t1.01713\n",
      "7  \t71    \t0.547783 \t-1.62695\t-8      \t1.37363\n",
      "8  \t68    \t0.581126 \t-0.921404\t-4.7072 \t0.971837\n",
      "9  \t60    \t0.581126 \t-0.586682\t-6.73611\t1.24217 \n",
      "10 \t57    \t0.581126 \t-0.226519\t-5      \t1.06545 \n"
     ]
    }
   ],
   "source": [
    "creator.create(\"FitnessMax\", base.Fitness, weights=(1.0,)) # Creates a fitness class for maximization\n",
    "creator.create(\"Individual\", list, fitness=creator.FitnessMax) # Creates an individual class that inherits from list and has a fitness attribute\n",
    "\n",
    "toolbox = base.Toolbox()\n",
    "\n",
    "NGEN = 10        # Number of Generations\n",
    "# Just took standard values for hyperparameters\n",
    "POP_SIZE = 100   # Population size\n",
    "CXPB = 0.5       # Crossover Probability\n",
    "MUTPB = 0.2      # Mutation Probability\n",
    "TOURNSIZE = 3    # Tournament size for selection\n",
    "INDPB = 0.05     # Independent probability for attributes mutation\n",
    "\n",
    "toolbox.register(\"attr_int\", random.randint, 0, NR_PLACES - 1) # Use NR_PLACES - 1 since indexing starts at 0\n",
    "toolbox.register(\"individual\", tools.initRepeat, creator.Individual, toolbox.attr_int, n=NR_TRANSITIONS * 2)\n",
    "toolbox.register(\"population\", tools.initRepeat, list, toolbox.individual)\n",
    "\n",
    "toolbox.register(\"evaluate\", fitness) # Uses fitness function from support to evaluate fitness\n",
    "toolbox.register(\"mate\", tools.cxTwoPoint) \n",
    "toolbox.register(\"mutate\", tools.mutFlipBit, indpb=INDPB) # indpb is the probability of flipping each bit in the individual\n",
    "toolbox.register(\"select\", tools.selTournament, tournsize=TOURNSIZE)  # tournsize is the number of individuals to select for the tournament, fittest is selected for next gen\n",
    "\n",
    "stats = tools.Statistics(lambda ind: ind.fitness.values)\n",
    "stats.register(\"max\", np.max)\n",
    "stats.register(\"avg\", np.mean)\n",
    "stats.register(\"min\", np.min)\n",
    "stats.register(\"std\", np.std)\n",
    "\n",
    "pop = toolbox.population(n=POP_SIZE)\n",
    "hof = tools.HallOfFame(1) # Store the best individual\n",
    "pop, logbook = algorithms.eaSimple(pop, toolbox, cxpb=CXPB, mutpb=MUTPB, ngen=NGEN,\n",
    "                                   stats=stats, halloffame=hof, verbose=True)"
   ]
  },
  {
   "cell_type": "code",
   "execution_count": 5,
   "id": "110cec00",
   "metadata": {},
   "outputs": [
    {
     "name": "stdout",
     "output_type": "stream",
     "text": [
      "\n",
      "Best Individual:\n",
      "[5, 4, 4, 2, 0, 2, 3, 4, 2, 3, 0, 6, 3, 4, 4, 8, 0, 2, 6, 7, 0, 2, 1, 2]\n",
      "Fitness: 0.581125728846317\n"
     ]
    }
   ],
   "source": [
    "best_ind = hof[0]\n",
    "print(\"\\nBest Individual:\")\n",
    "print(best_ind)\n",
    "print(f\"Fitness: {best_ind.fitness.values[0]}\")\n",
    "\n",
    "best_matrix = list_to_array(best_ind)\n",
    "# print(\"\\nBest Matrix:\")\n",
    "# print(best_matrix)"
   ]
  },
  {
   "cell_type": "code",
   "execution_count": 6,
   "id": "cffe3e8b",
   "metadata": {},
   "outputs": [
    {
     "data": {
      "image/png": "[encoded data removed]",
      "text/plain": [
       "<Figure size 1000x500 with 1 Axes>"
      ]
     },
     "metadata": {},
     "output_type": "display_data"
    }
   ],
   "source": [
    "gen = logbook.select(\"gen\")\n",
    "max_fitness = logbook.select(\"max\")\n",
    "avg_fitness = logbook.select(\"avg\")\n",
    "\n",
    "plt.figure(figsize=(10, 5))\n",
    "plt.plot(gen, max_fitness, label=\"Maximum Fitness\")\n",
    "plt.plot(gen, avg_fitness, label=\"Average Fitness\")\n",
    "plt.xlabel(\"Generation\")\n",
    "plt.ylabel(\"Fitness\")\n",
    "plt.title(\"Fitness over Generations\")\n",
    "plt.legend()\n",
    "plt.grid(True)\n",
    "plt.show()"
   ]
  },
  {
   "cell_type": "code",
   "execution_count": 7,
   "id": "a3057cd7",
   "metadata": {},
   "outputs": [
    {
     "data": {
      "text/plain": [
       "11"
      ]
     },
     "execution_count": 7,
     "metadata": {},
     "output_type": "execute_result"
    }
   ],
   "source": [
    "len(max_fitness)"
   ]
  },
  {
   "cell_type": "code",
   "execution_count": 8,
   "id": "f60d8f74",
   "metadata": {},
   "outputs": [
    {
     "name": "stdout",
     "output_type": "stream",
     "text": [
      "\n",
      "Best Petri net saved to best_petri_net.pdf\n"
     ]
    }
   ],
   "source": [
    "# Visualize the best Petri net found\n",
    "output_filename = \"best_petri_net.pdf\"\n",
    "sol_to_graphviz(best_ind, output_file=output_filename)\n",
    "print(f\"\\nBest Petri net saved to {output_filename}\")"
   ]
  },
  {
   "cell_type": "code",
   "execution_count": 9,
   "id": "b686a97e",
   "metadata": {},
   "outputs": [],
   "source": [
    "del creator.FitnessMax\n",
    "del creator.Individual"
   ]
  },
  {
   "cell_type": "markdown",
   "id": "db678347",
   "metadata": {},
   "source": [
    "# Q2"
   ]
  },
  {
   "cell_type": "code",
   "execution_count": 17,
   "id": "06e99ef2",
   "metadata": {},
   "outputs": [],
   "source": [
    "creator.create(\"FitnessMax\", base.Fitness, weights=(1.0,)) # Creates a fitness class for maximization\n",
    "creator.create(\"Individual\", list, fitness=creator.FitnessMax) # Creates an individual class that inherits from list and has a fitness attribute\n",
    "\n",
    "toolbox = base.Toolbox() # Create new empty toolbox\n",
    "\n",
    "NGEN = 10        # Number of Generations\n",
    "NUM_RUNS = 10    # Number of runs for boxplots  \n",
    "# Just took standard values for hyperparameters\n",
    "POP_SIZE = 100   # Population size\n",
    "CXPB = 0.5       # Crossover Probability\n",
    "MUTPB = 0.2      # Mutation Probability\n",
    "TOURNSIZE = 3    # Tournament size for selection\n",
    "INDPB = 0.05     # Independent probability for attributes mutation\n",
    "\n",
    "toolbox.register(\"attr_int\", random.randint, 0, NR_PLACES - 1) # Use NR_PLACES - 1 since indexing starts at 0\n",
    "toolbox.register(\"individual\", tools.initRepeat, creator.Individual, toolbox.attr_int, n=NR_TRANSITIONS * 2)\n",
    "toolbox.register(\"population\", tools.initRepeat, list, toolbox.individual)\n",
    "toolbox.register(\"evaluate\", fitness)\n",
    "\n",
    "stats = tools.Statistics(lambda ind: ind.fitness.values)\n",
    "stats.register(\"max\", np.max)\n",
    "\n",
    "crossover_list = [tools.cxTwoPoint, tools.cxOrdered]\n",
    "mutation_list = [tools.mutFlipBit, tools.mutShuffleIndexes]\n",
    "selection_list = [tools.selTournament, tools.selRoulette]\n",
    "\n",
    "combinations = list(itertools.product(crossover_list, mutation_list, selection_list))"
   ]
  },
  {
   "cell_type": "code",
   "execution_count": 18,
   "id": "96b0032e",
   "metadata": {},
   "outputs": [],
   "source": [
    "def register_specified_variant(toolbox, Crossover, Mutation, Selection):\n",
    "    toolbox.register(\"mate\", Crossover) \n",
    "    toolbox.register(\"mutate\", Mutation, indpb=INDPB) \n",
    "    if Selection == tools.selTournament:\n",
    "        toolbox.register(\"select\", Selection, tournsize=TOURNSIZE) # Try selTournament args, then selRoulette args\n",
    "    else:\n",
    "        toolbox.register(\"select\", Selection)\n",
    "    return toolbox\n",
    "\n",
    "def run_genetic_algorithm_q2(toolbox, num_runs=NUM_RUNS):\n",
    "    max_fitnesses_all_runs = []\n",
    "\n",
    "    for run in tqdm(range(num_runs), desc=\"GA Runs\", leave=True):\n",
    "\n",
    "        pop = toolbox.population(n=POP_SIZE)\n",
    "        hof = tools.HallOfFame(1)\n",
    "\n",
    "        pop, logbook = algorithms.eaSimple(pop, toolbox, cxpb=CXPB, mutpb=MUTPB, ngen=NGEN,\n",
    "                                           stats=stats, halloffame=hof, verbose=False)\n",
    "        \n",
    "        max_fitness = logbook.select(\"max\")\n",
    "        max_fitnesses_all_runs.append(max_fitness)\n",
    "\n",
    "    max_fitnesses_all_runs = np.array(max_fitnesses_all_runs).T\n",
    "\n",
    "    return max_fitnesses_all_runs\n",
    "\n",
    "def plot_boxplot(max_fitnesses_all_runs, title):\n",
    "    final_max_fitnesses = max_fitnesses_all_runs[-1, :]\n",
    "\n",
    "    plt.figure(figsize=(8, 6))\n",
    "    plt.boxplot(final_max_fitnesses, patch_artist=True) \n",
    "    plt.xlabel(\"Operator Combination\")\n",
    "    plt.ylabel(\"Final Maximum Fitness\")\n",
    "    plt.title(title)\n",
    "    plt.xticks([1], ['']) \n",
    "    plt.grid(True, axis='y') \n",
    "    plt.show()\n",
    "\n",
    "def plot_ABF(max_fitnesses_all_runs, title):\n",
    "    abf = np.mean(max_fitnesses_all_runs, axis=1)\n",
    "    generations = range(len(abf))\n",
    "\n",
    "    plt.figure(figsize=(10, 5))\n",
    "    plt.plot(generations, abf, label=\"Average Best Fitness (ABF)\")\n",
    "    plt.xlabel(\"Generation\")\n",
    "    plt.ylabel(\"Fitness\")\n",
    "    plt.title(title)\n",
    "    plt.legend()\n",
    "    plt.grid(True)\n",
    "    plt.show()"
   ]
  },
  {
   "cell_type": "code",
   "execution_count": null,
   "id": "c1643100",
   "metadata": {},
   "outputs": [
    {
     "data": {
      "application/vnd.jupyter.widget-view+json": {
       "model_id": "d060fc04f21d48bcbf3bd40816e601b8",
       "version_major": 2,
       "version_minor": 0
      },
      "text/plain": [
       "Evaluating combinations:   0%|          | 0/8 [00:00<?, ?it/s]"
      ]
     },
     "metadata": {},
     "output_type": "display_data"
    },
    {
     "name": "stdout",
     "output_type": "stream",
     "text": [
      "Running combination 1/8: cxTwoPoint, mutFlipBit, selTournament\n"
     ]
    },
    {
     "data": {
      "application/vnd.jupyter.widget-view+json": {
       "model_id": "a2615287a63941e29ff2e03df58000a8",
       "version_major": 2,
       "version_minor": 0
      },
      "text/plain": [
       "GA Runs:   0%|          | 0/10 [00:00<?, ?it/s]"
      ]
     },
     "metadata": {},
     "output_type": "display_data"
    }
   ],
   "source": [
    "results = {}\n",
    "\n",
    "for i, comb in enumerate(tqdm(combinations, desc=\"Evaluating combinations\")):\n",
    "    tbx = base.Toolbox()\n",
    "    tbx.__dict__.update(copy.deepcopy(toolbox.__dict__))\n",
    "\n",
    "    tbx = register_specified_variant(tbx, comb[0], comb[1], comb[2])\n",
    "\n",
    "    print(f\"Running combination {i+1}/{len(combinations)}: {comb[0].__name__}, {comb[1].__name__}, {comb[2].__name__}\")\n",
    "    max_fitnesses_all_runs = run_genetic_algorithm_q2(tbx)\n",
    "    results[i] = max_fitnesses_all_runs"
   ]
  },
  {
   "cell_type": "code",
   "execution_count": null,
   "id": "e354b1e0",
   "metadata": {},
   "outputs": [],
   "source": [
    "# Plot boxplots for each combination of crossover, mutation, and selection\n",
    "for i, comb in enumerate(combinations):\n",
    "    title = f\"Distribution of Final Max Fitness for {comb[0].__name__}, {comb[1].__name__}, {comb[2].__name__}\"\n",
    "    plot_boxplot(results[i], title)\n",
    "\n",
    "# Plot ABF for each combination of crossover, mutation, and selection\n",
    "for i, comb in enumerate(combinations):\n",
    "    title = f\"Average Best Fitness (ABF) for {comb[0].__name__}, {comb[1].__name__}, {comb[2].__name__}\"\n",
    "    plot_ABF(results[i], title)"
   ]
  },
  {
   "cell_type": "code",
   "execution_count": null,
   "id": "e38e0e1b",
   "metadata": {},
   "outputs": [],
   "source": [
    "def plot_boxplot(results, combinations, title):\n",
    "    all_final_max_fitnesses = []\n",
    "    labels = []\n",
    "    for i, comb in enumerate(combinations):\n",
    "        max_fitnesses_all_runs = results[i]\n",
    "        final_max_fitnesses = max_fitnesses_all_runs[-1, :]\n",
    "        all_final_max_fitnesses.append(final_max_fitnesses)\n",
    "        labels.append(f\"{comb[0].__name__}\\n{comb[1].__name__}\\n{comb[2].__name__}\") \n",
    "\n",
    "    plt.figure(figsize=(15, 8)) \n",
    "    plt.boxplot(all_final_max_fitnesses, labels=labels, patch_artist=True)\n",
    "    plt.xlabel(\"Operator Combination (Crossover, Mutation, Selection)\")\n",
    "    plt.ylabel(\"Final Maximum Fitness\")\n",
    "    plt.title(title)\n",
    "    plt.xticks(rotation=45, ha='right')\n",
    "    plt.grid(True, axis='y')\n",
    "    plt.tight_layout() \n",
    "    plt.show()\n",
    "\n",
    "def plot_ABF(results, combinations, title):\n",
    "    plt.figure(figsize=(12, 6)) \n",
    "    generations = None \n",
    "\n",
    "    for i, comb in enumerate(combinations):\n",
    "        max_fitnesses_all_runs = results[i]\n",
    "        abf = np.mean(max_fitnesses_all_runs, axis=1)\n",
    "        if generations is None:\n",
    "             generations = range(len(abf)) \n",
    "        label = f\"{comb[0].__name__}, {comb[1].__name__}, {comb[2].__name__}\"\n",
    "        plt.plot(generations, abf, label=label)\n",
    "\n",
    "    plt.xlabel(\"Generation\")\n",
    "    plt.ylabel(\"Average Best Fitness (ABF)\")\n",
    "    plt.title(title)\n",
    "    plt.legend(bbox_to_anchor=(1.05, 1), loc='upper left') \n",
    "    plt.grid(True)\n",
    "    plt.tight_layout() \n",
    "    plt.show()"
   ]
  },
  {
   "cell_type": "code",
   "execution_count": null,
   "id": "af8f072b",
   "metadata": {},
   "outputs": [],
   "source": [
    "title = f\"Distribution of Final Max Fitness for {comb[0].__name__}, {comb[1].__name__}, {comb[2].__name__}\"\n",
    "plot_boxplot(results, combinations, title)\n",
    "title = f\"Average Best Fitness (ABF) for {comb[0].__name__}, {comb[1].__name__}, {comb[2].__name__}\"\n",
    "plot_ABF(results, combinations, title)"
   ]
  },
  {
   "cell_type": "markdown",
   "id": "0ba46392",
   "metadata": {},
   "source": [
    "# Q3"
   ]
  },
  {
   "cell_type": "markdown",
   "id": "4e2c3835",
   "metadata": {},
   "source": []
  }
 ],
 "metadata": {
  "kernelspec": {
   "display_name": "base",
   "language": "python",
   "name": "python3"
  },
  "language_info": {
   "codemirror_mode": {
    "name": "ipython",
    "version": 3
   },
   "file_extension": ".py",
   "mimetype": "text/x-python",
   "name": "python",
   "nbconvert_exporter": "python",
   "pygments_lexer": "ipython3",
   "version": "3.12.4"
  }
 },
 "nbformat": 4,
 "nbformat_minor": 5
}
