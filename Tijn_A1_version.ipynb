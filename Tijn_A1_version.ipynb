{
 "cells": [
  {
   "cell_type": "code",
   "execution_count": 14,
   "id": "76599d61",
   "metadata": {},
   "outputs": [],
   "source": [
    "import random\n",
    "import numpy as np\n",
    "from deap import base, creator, tools, algorithms\n",
    "import support\n",
    "from support import DATASET, NR_PLACES, NR_TRANSITIONS, NAMES_TO_TRANSITION, activities\n",
    "# Import data\n",
    "\n",
    "df = DATASET.copy()\n",
    "\n"
   ]
  },
  {
   "cell_type": "code",
   "execution_count": 19,
   "id": "b7fe455e",
   "metadata": {},
   "outputs": [],
   "source": [
    "creator.create(\"FitnessMax\", base.Fitness, weights=(1.0,))\n",
    "creator.create(\"Individual\", list, fitness=creator.FitnessMax)\n",
    "\n",
    "toolbox = base.Toolbox()\n",
    "toolbox.register(\"evaluate\", support.fitness)\n",
    "# use [‘cxTwoPoint’, ‘mutFlipBit’, ‘selTournament’] as the [Crossover, Mutation, Selection] operators\n",
    "toolbox.register(\"mate\", tools.cxTwoPoint)\n",
    "toolbox.register(\"mutate\", tools.mutFlipBit, indpb=0.05)\n",
    "toolbox.register(\"select\", tools.selTournament, tournsize=3)\n",
    "\n",
    "toolbox.register(\"attr_int\", np.random.randint, 0, NR_PLACES) \n",
    "toolbox.register(\"individual\", tools.initRepeat, creator.Individual, toolbox.attr_int, 2*NR_TRANSITIONS) # generate 24 ints between 0 and 9\n",
    "toolbox.register(\"population\", tools.initRepeat, list, toolbox.individual)\n",
    "\n",
    "pop = toolbox.population(n=100)"
   ]
  },
  {
   "cell_type": "code",
   "execution_count": 21,
   "id": "49716aed",
   "metadata": {},
   "outputs": [
    {
     "name": "stdout",
     "output_type": "stream",
     "text": [
      "gen\tnevals\tavg     \tmin     \tmax     \tstd  \n",
      "0  \t0     \t0.215394\t-5.64102\t0.558763\t1.078\n",
      "1  \t54    \t0.262071\t-5      \t0.558763\t0.915227\n",
      "2  \t61    \t0.431676\t-1.47809\t0.558763\t0.478198\n",
      "3  \t58    \t0.194327\t-7      \t0.558763\t1.11537 \n",
      "4  \t53    \t0.303556\t-3.50703\t0.558763\t0.830159\n",
      "5  \t61    \t0.310751\t-3.60476\t0.558763\t0.811953\n",
      "6  \t54    \t0.32879 \t-5      \t0.558763\t0.829485\n",
      "7  \t66    \t0.344774\t-5      \t0.558763\t0.78513 \n",
      "8  \t70    \t0.129007\t-7.46191\t0.558763\t1.15568 \n",
      "9  \t65    \t0.216294\t-5.33464\t0.558763\t0.945029\n",
      "10 \t55    \t0.304641\t-3.58409\t0.558763\t0.805355\n",
      "11 \t53    \t0.313791\t-7      \t0.558763\t0.963501\n",
      "12 \t57    \t0.267674\t-5      \t0.558763\t1.01127 \n",
      "13 \t55    \t0.261952\t-3.49638\t0.558763\t0.860967\n",
      "14 \t57    \t0.412877\t-1.4842 \t0.558763\t0.512517\n",
      "15 \t65    \t0.406817\t-3.58409\t0.558763\t0.633557\n",
      "16 \t61    \t0.232106\t-5.44124\t0.558763\t1.099   \n",
      "17 \t57    \t0.399874\t-3.63539\t0.558763\t0.602539\n",
      "18 \t54    \t0.342869\t-5      \t0.558763\t0.788036\n",
      "19 \t79    \t0.191349\t-5      \t0.558763\t1.04294 \n",
      "20 \t50    \t0.307108\t-3.7922 \t0.558763\t0.880841\n",
      "21 \t65    \t0.318528\t-5.58409\t0.558763\t0.86758 \n",
      "22 \t58    \t0.410994\t-3      \t0.558763\t0.574063\n",
      "23 \t52    \t0.0516817\t-5      \t0.558763\t1.26641 \n",
      "24 \t58    \t0.176064 \t-7      \t0.558763\t1.21595 \n",
      "25 \t49    \t0.0672087\t-5.74762\t0.558763\t1.26483 \n",
      "26 \t68    \t0.281634 \t-3.74762\t0.558763\t0.772777\n",
      "27 \t63    \t0.283773 \t-5.74181\t0.558763\t0.933818\n",
      "28 \t53    \t0.389631 \t-5.44124\t0.558763\t0.764549\n",
      "29 \t54    \t0.371497 \t-3.46191\t0.558763\t0.685866\n",
      "30 \t58    \t0.188256 \t-5.60476\t0.558763\t1.12601 \n",
      "31 \t64    \t0.295644 \t-5      \t0.558763\t0.849366\n",
      "32 \t62    \t0.238657 \t-5.51804\t0.558763\t1.03946 \n",
      "33 \t66    \t0.245526 \t-7      \t0.558763\t1.07541 \n",
      "34 \t63    \t0.408249 \t-3      \t0.558763\t0.566948\n",
      "35 \t63    \t0.0988996\t-5      \t0.558763\t1.22847 \n",
      "36 \t54    \t0.299234 \t-3.7677 \t0.558763\t0.857209\n",
      "37 \t67    \t0.371085 \t-5.44124\t0.558763\t0.814152\n",
      "38 \t61    \t0.314483 \t-5.46191\t0.558763\t0.970236\n",
      "39 \t53    \t0.412375 \t-5.4775 \t0.558763\t0.712569\n",
      "40 \t50    \t0.352171 \t-3.52986\t0.558763\t0.794769\n"
     ]
    }
   ],
   "source": [
    "stats = tools.Statistics(lambda ind: ind.fitness.values)\n",
    "stats.register(\"avg\", np.mean)\n",
    "stats.register(\"min\", np.min)\n",
    "stats.register(\"max\", np.max)\n",
    "stats.register(\"std\", np.std)\n",
    "\n",
    "hof = tools.HallOfFame(1)\n",
    "pop, log = algorithms.eaSimple(pop, toolbox, cxpb=0.5, mutpb=0.2, ngen=40, stats=stats, halloffame=hof, verbose=True)"
   ]
  },
  {
   "cell_type": "code",
   "execution_count": 22,
   "id": "b77b689a",
   "metadata": {},
   "outputs": [
    {
     "name": "stdout",
     "output_type": "stream",
     "text": [
      "\n",
      "--- Best Individual Found ---\n",
      "[5, 8, 6, 8, 0, 4, 4, 5, 5, 7, 0, 4, 0, 4, 0, 7, 1, 7, 0, 2, 5, 6, 1, 3]\n",
      "Fitness: 0.5587626262626258\n",
      "\n",
      "Best Matrix:\n",
      "[[5 8]\n",
      " [6 8]\n",
      " [0 4]\n",
      " [4 5]\n",
      " [5 7]\n",
      " [0 4]\n",
      " [0 4]\n",
      " [0 7]\n",
      " [1 7]\n",
      " [0 2]\n",
      " [5 6]\n",
      " [1 3]]\n"
     ]
    }
   ],
   "source": [
    "best_ind = hof[0]\n",
    "print(\"\\n--- Best Individual Found ---\")\n",
    "print(best_ind)\n",
    "print(f\"Fitness: {best_ind.fitness.values[0]}\")\n",
    "\n",
    "# Convert best individual to matrix format for inspection/visualization\n",
    "best_matrix = support.list_to_array(best_ind)\n",
    "print(\"\\nBest Matrix:\")\n",
    "print(best_matrix)"
   ]
  }
 ],
 "metadata": {
  "kernelspec": {
   "display_name": "Python 3",
   "language": "python",
   "name": "python3"
  },
  "language_info": {
   "codemirror_mode": {
    "name": "ipython",
    "version": 3
   },
   "file_extension": ".py",
   "mimetype": "text/x-python",
   "name": "python",
   "nbconvert_exporter": "python",
   "pygments_lexer": "ipython3",
   "version": "3.13.3"
  }
 },
 "nbformat": 4,
 "nbformat_minor": 5
}
